{
 "cells": [
  {
   "cell_type": "code",
   "execution_count": 1,
   "id": "f1ebde23-281f-4776-af66-0d5673ee9144",
   "metadata": {},
   "outputs": [],
   "source": [
    "from sympy.physics.quantum.qubit import Qubit\n",
    "from sympy import Matrix, sqrt, symbols, simplify\n",
    "import sympy as sp\n",
    "from IPython.display import display, Latex\n",
    "from itertools import product"
   ]
  },
  {
   "cell_type": "code",
   "execution_count": 2,
   "id": "272a8237-d2eb-4c5c-8dec-8d368fad3740",
   "metadata": {},
   "outputs": [],
   "source": [
    "from sympy.physics.quantum import Ket, Bra, Dagger, represent, TensorProduct"
   ]
  },
  {
   "cell_type": "code",
   "execution_count": 3,
   "id": "0eb6c08e-d9f5-4786-a18b-8be39a56f458",
   "metadata": {},
   "outputs": [],
   "source": [
    "from sympy.physics.matrices import msigma"
   ]
  },
  {
   "cell_type": "code",
   "execution_count": 4,
   "id": "fb7cd078-21f0-4e98-bc28-22f3f5cb564a",
   "metadata": {},
   "outputs": [],
   "source": [
    "import random\n",
    "import math\n",
    "import cmath"
   ]
  },
  {
   "cell_type": "code",
   "execution_count": 5,
   "id": "e78ec723-4cdf-4ae9-9d6a-a2531203c2ef",
   "metadata": {},
   "outputs": [],
   "source": [
    "import numpy as np"
   ]
  },
  {
   "cell_type": "code",
   "execution_count": 6,
   "id": "36f66757-7fb1-4bd4-b4d7-874ca5532dd8",
   "metadata": {},
   "outputs": [],
   "source": [
    "import itertools"
   ]
  },
  {
   "cell_type": "code",
   "execution_count": 7,
   "id": "c5f0d957-3c79-4f98-8320-46faa4450c82",
   "metadata": {},
   "outputs": [
    {
     "data": {
      "text/latex": [
       "$\\displaystyle α α^{\\dagger} {\\left|0\\right\\rangle } {\\left\\langle 0\\right|} + α β^{\\dagger} {\\left|0\\right\\rangle } {\\left\\langle 1\\right|} + β α^{\\dagger} {\\left|1\\right\\rangle } {\\left\\langle 0\\right|} + β β^{\\dagger} {\\left|1\\right\\rangle } {\\left\\langle 1\\right|}$"
      ],
      "text/plain": [
       "α*Dagger(α)*|0>*<0| + α*Dagger(β)*|0>*<1| + β*Dagger(α)*|1>*<0| + β*Dagger(β)*|1>*<1|"
      ]
     },
     "execution_count": 7,
     "metadata": {},
     "output_type": "execute_result"
    }
   ],
   "source": [
    "# Step 1: Symbols define karein\n",
    "alpha, beta = symbols('α β')\n",
    "\n",
    "# Step 2: Quantum state banayein (example: superposition state)\n",
    "psi = alpha * Qubit('0') + beta * Qubit('1')\n",
    "\n",
    "# Step 3: Density matrix calculate karein\n",
    "rho = psi * Dagger(psi)\n",
    "\n",
    "# Step 4: Matrix ko expand aur simplify karein\n",
    "density_matrix = rho.doit().expand()\n",
    "simplified_matrix = simplify(density_matrix)\n",
    "simplified_matrix"
   ]
  },
  {
   "cell_type": "code",
   "execution_count": 8,
   "id": "075b5e96-6425-4156-b6e4-37acf3a7e54a",
   "metadata": {},
   "outputs": [
    {
     "data": {
      "text/latex": [
       "$\\displaystyle \\left[\\begin{matrix}α α^{\\dagger} & α β^{\\dagger}\\\\β α^{\\dagger} & β β^{\\dagger}\\end{matrix}\\right]$"
      ],
      "text/plain": [
       "Matrix([\n",
       "[α*Dagger(α), α*Dagger(β)],\n",
       "[β*Dagger(α), β*Dagger(β)]])"
      ]
     },
     "execution_count": 8,
     "metadata": {},
     "output_type": "execute_result"
    }
   ],
   "source": [
    "res = represent(simplified_matrix.doit(), basis_set=[Qubit('0'), Qubit('1')])\n",
    "res\n",
    "\n",
    "# this is for one qubit, lets do for 2"
   ]
  },
  {
   "cell_type": "code",
   "execution_count": 7,
   "id": "b3c7d4a7-7cfd-4047-b02a-92b4d9b2a05a",
   "metadata": {},
   "outputs": [],
   "source": [
    "def get_rho_bipartite(alpha, beta, gamma, delta):\n",
    "    psi = alpha * TensorProduct(Qubit(0), Qubit(0)) + beta * TensorProduct(Qubit(0), Qubit(1)) + gamma * TensorProduct(Qubit(1), Qubit(0)) + delta * TensorProduct(Qubit(1), Qubit(1))\n",
    "    \n",
    "    rho = psi * Dagger(psi)\n",
    "    density_matrix = rho.doit().expand()\n",
    "    simplified_matrix = simplify(density_matrix)\n",
    "    print(simplified_matrix)\n",
    "    \n",
    "    rho = represent(simplified_matrix.doit(), basis_set=[Qubit('0'), Qubit('1')])\n",
    "    return rho"
   ]
  },
  {
   "cell_type": "code",
   "execution_count": 8,
   "id": "ac2153d6-004f-483c-8352-83b01f76d4a0",
   "metadata": {},
   "outputs": [],
   "source": [
    "dA, dB = 2, 2"
   ]
  },
  {
   "cell_type": "code",
   "execution_count": 9,
   "id": "1b69cfe3-af08-4d0d-a05b-102e1a37f02c",
   "metadata": {},
   "outputs": [],
   "source": [
    "def permute_dims(tensor, perm):\n",
    "    \"\"\"\n",
    "    Permutes the dimensions of a sympy MutableDenseNDimArray according to the given permutation tuple.\n",
    "    \"\"\"\n",
    "    old_shape = tensor.shape\n",
    "    new_shape = tuple(old_shape[i] for i in perm)\n",
    "    new_tensor = sp.MutableDenseNDimArray.zeros(*new_shape)\n",
    "    for new_index in product(*[range(s) for s in new_shape]):\n",
    "        # Compute the corresponding old index.\n",
    "        old_index = [None] * len(new_index)\n",
    "        for new_axis, old_axis in enumerate(perm):\n",
    "            old_index[old_axis] = new_index[new_axis]\n",
    "        new_tensor[new_index] = tensor[tuple(old_index)]\n",
    "    return new_tensor\n"
   ]
  },
  {
   "cell_type": "code",
   "execution_count": 10,
   "id": "0170d857-1d59-44b4-a693-4097c4388eba",
   "metadata": {},
   "outputs": [],
   "source": [
    "def compute_entanglement_measures_symbolic(rho, dA, dB, display_output=True):\n",
    "    \"\"\"\n",
    "    Computes entanglement measures for a bipartite system (dA x dB).\n",
    "    \"\"\"\n",
    "    N = dA * dB\n",
    "    assert rho.shape[0] == N, \"Product dA*dB must equal the matrix dimension.\"\n",
    "    \n",
    "    if display_output:\n",
    "        display(Latex(r\"Density matrix $\\rho$: \"))\n",
    "        display(Latex(r\"$$\" + sp.latex(rho) + r\"$$\"))\n",
    "    \n",
    "    eig_dict_input = rho.eigenvals()\n",
    "    eigenvals_input = [sp.simplify(ev) for ev, mult in eig_dict_input.items() for _ in range(mult)]\n",
    "    if display_output:\n",
    "        display(Latex(r\"Eigenvalues of $\\rho$: \"))\n",
    "        display(Latex(r\"$$\" + sp.latex(eigenvals_input) + r\"$$\"))\n",
    "    \n",
    "    # Partial Transpose\n",
    "    rho_tensor = sp.MutableDenseNDimArray(rho, (dA, dB, dA, dB))\n",
    "    rho_pt_tensor = permute_dims(rho_tensor, (0, 3, 2, 1))\n",
    "    rho_pt = sp.Matrix(rho_pt_tensor.reshape(N, N))\n",
    "    if display_output:\n",
    "        display(Latex(r\"Partial transpose $\\rho^{T_B}$: \"))\n",
    "        display(Latex(r\"$$\" + sp.latex(rho_pt) + r\"$$\"))\n",
    "    \n",
    "    eig_dict_pt = rho_pt.eigenvals()\n",
    "    eigenvals_pt = [sp.simplify(ev) for ev, mult in eig_dict_pt.items() for _ in range(mult)]\n",
    "    if display_output:\n",
    "        display(Latex(r\"Eigenvalues of $\\rho^{T_B}$: \"))\n",
    "        display(Latex(r\"$$\" + sp.latex(eigenvals_pt) + r\"$$\"))\n",
    "    \n",
    "    det_rho_pt = sp.simplify(rho_pt.det())\n",
    "    if display_output:\n",
    "        display(Latex(r\"Determinant of $\\rho^{T_B}$: \"))\n",
    "        display(Latex(r\"$$\" + sp.latex(det_rho_pt) + r\"$$\"))\n",
    "    \n",
    "    # Realignment\n",
    "    rho_realigned_tensor = permute_dims(rho_tensor, (0, 2, 1, 3))\n",
    "    realigned = sp.Matrix(rho_realigned_tensor.reshape(dA*dA, dB*dB))\n",
    "    if display_output:\n",
    "        display(Latex(r\"Realigned matrix: \"))\n",
    "        display(Latex(r\"$$\" + sp.latex(realigned) + r\"$$\"))\n",
    "    \n",
    "    rhotilde_t_rhotilde = realigned.T * realigned\n",
    "    if display_output:\n",
    "        display(Latex(r\"Symmetric for realigned: \"))\n",
    "        display(Latex(r\"$$\" + sp.latex(rhotilde_t_rhotilde) + r\"$$\"))\n",
    "    \n",
    "    # sum_sv = sp.simplify(sum(singular_vals))\n",
    "    # if display_output:\n",
    "    #     display(Latex(r\"Sum of singular values: \"))\n",
    "    #     display(Latex(r\"$$\" + sp.latex(sum_sv) + r\"$$\"))\n",
    "    \n",
    "    # product_sv = sp.simplify(sp.Mul(*singular_vals))\n",
    "    # if display_output:\n",
    "    #     display(Latex(r\"Product of singular values: \"))\n",
    "    #     display(Latex(r\"$$\" + sp.latex(product_sv) + r\"$$\"))\n",
    "    \n",
    "    # det_realigned = sp.simplify(realigned.det())\n",
    "    # if display_output:\n",
    "    #     display(Latex(r\"Determinant of the realigned matrix: \"))\n",
    "    #     display(Latex(r\"$$\" + sp.latex(det_realigned) + r\"$$\"))\n",
    "    \n",
    "    # product_eigenvals = sp.simplify(sp.Mul(*eigenvals_pt))\n",
    "    # if display_output:\n",
    "    #     display(Latex(r\"Product of eigenvalues of $\\rho^{T_B}$: \"))\n",
    "    #     display(Latex(r\"$$\" + sp.latex(product_eigenvals) + r\"$$\"))\n",
    "    \n",
    "    #return eigenvals_input, eigenvals_pt, singular_vals, sum_sv, product_sv, product_eigenvals, det_rho_pt, det_realigned\n",
    "    return realigned, rhotilde_t_rhotilde\n"
   ]
  },
  {
   "cell_type": "code",
   "execution_count": 11,
   "id": "fccb2585-90a4-41e3-af95-7aa19f9eabf7",
   "metadata": {},
   "outputs": [
    {
     "name": "stdout",
     "output_type": "stream",
     "text": [
      "α*Dagger(α)*|0>x|0>*<0|x<0| + α*Dagger(β)*|0>x|0>*<0|x<1| + α*Dagger(γ)*|0>x|0>*<1|x<0| + α*Dagger(δ)*|0>x|0>*<1|x<1| + β*Dagger(α)*|0>x|1>*<0|x<0| + β*Dagger(β)*|0>x|1>*<0|x<1| + β*Dagger(γ)*|0>x|1>*<1|x<0| + β*Dagger(δ)*|0>x|1>*<1|x<1| + γ*Dagger(α)*|1>x|0>*<0|x<0| + γ*Dagger(β)*|1>x|0>*<0|x<1| + γ*Dagger(γ)*|1>x|0>*<1|x<0| + γ*Dagger(δ)*|1>x|0>*<1|x<1| + δ*Dagger(α)*|1>x|1>*<0|x<0| + δ*Dagger(β)*|1>x|1>*<0|x<1| + δ*Dagger(γ)*|1>x|1>*<1|x<0| + δ*Dagger(δ)*|1>x|1>*<1|x<1|\n"
     ]
    },
    {
     "data": {
      "text/latex": [
       "Density matrix $\\rho$: "
      ],
      "text/plain": [
       "<IPython.core.display.Latex object>"
      ]
     },
     "metadata": {},
     "output_type": "display_data"
    },
    {
     "data": {
      "text/latex": [
       "$$\\left[\\begin{matrix}α α^{\\dagger} & α β^{\\dagger} & α γ^{\\dagger} & α δ^{\\dagger}\\\\β α^{\\dagger} & β β^{\\dagger} & β γ^{\\dagger} & β δ^{\\dagger}\\\\γ α^{\\dagger} & γ β^{\\dagger} & γ γ^{\\dagger} & γ δ^{\\dagger}\\\\δ α^{\\dagger} & δ β^{\\dagger} & δ γ^{\\dagger} & δ δ^{\\dagger}\\end{matrix}\\right]$$"
      ],
      "text/plain": [
       "<IPython.core.display.Latex object>"
      ]
     },
     "metadata": {},
     "output_type": "display_data"
    },
    {
     "data": {
      "text/latex": [
       "Eigenvalues of $\\rho$: "
      ],
      "text/plain": [
       "<IPython.core.display.Latex object>"
      ]
     },
     "metadata": {},
     "output_type": "display_data"
    },
    {
     "data": {
      "text/latex": [
       "$$\\left[ α α^{\\dagger} + β β^{\\dagger} + γ γ^{\\dagger} + δ δ^{\\dagger}, \\  0, \\  0, \\  0\\right]$$"
      ],
      "text/plain": [
       "<IPython.core.display.Latex object>"
      ]
     },
     "metadata": {},
     "output_type": "display_data"
    },
    {
     "data": {
      "text/latex": [
       "Partial transpose $\\rho^{T_B}$: "
      ],
      "text/plain": [
       "<IPython.core.display.Latex object>"
      ]
     },
     "metadata": {},
     "output_type": "display_data"
    },
    {
     "data": {
      "text/latex": [
       "$$\\left[\\begin{matrix}α α^{\\dagger} & β α^{\\dagger} & α γ^{\\dagger} & β γ^{\\dagger}\\\\α β^{\\dagger} & β β^{\\dagger} & α δ^{\\dagger} & β δ^{\\dagger}\\\\γ α^{\\dagger} & δ α^{\\dagger} & γ γ^{\\dagger} & δ γ^{\\dagger}\\\\γ β^{\\dagger} & δ β^{\\dagger} & γ δ^{\\dagger} & δ δ^{\\dagger}\\end{matrix}\\right]$$"
      ],
      "text/plain": [
       "<IPython.core.display.Latex object>"
      ]
     },
     "metadata": {},
     "output_type": "display_data"
    },
    {
     "data": {
      "text/latex": [
       "Eigenvalues of $\\rho^{T_B}$: "
      ],
      "text/plain": [
       "<IPython.core.display.Latex object>"
      ]
     },
     "metadata": {},
     "output_type": "display_data"
    },
    {
     "data": {
      "text/latex": [
       "$$\\left[ - \\sqrt{α δ α^{\\dagger} δ^{\\dagger} - α δ β^{\\dagger} γ^{\\dagger} - β γ α^{\\dagger} δ^{\\dagger} + β γ β^{\\dagger} γ^{\\dagger}}, \\  \\sqrt{α δ α^{\\dagger} δ^{\\dagger} - α δ β^{\\dagger} γ^{\\dagger} - β γ α^{\\dagger} δ^{\\dagger} + β γ β^{\\dagger} γ^{\\dagger}}, \\  \\frac{α α^{\\dagger}}{2} + \\frac{β β^{\\dagger}}{2} + \\frac{γ γ^{\\dagger}}{2} + \\frac{δ δ^{\\dagger}}{2} - \\frac{\\sqrt{α^{2} \\left(α^{\\dagger}\\right)^{2} + 2 α β α^{\\dagger} β^{\\dagger} + 2 α γ α^{\\dagger} γ^{\\dagger} - 2 α δ α^{\\dagger} δ^{\\dagger} + 4 α δ β^{\\dagger} γ^{\\dagger} + β^{2} \\left(β^{\\dagger}\\right)^{2} + 4 β γ α^{\\dagger} δ^{\\dagger} - 2 β γ β^{\\dagger} γ^{\\dagger} + 2 β δ β^{\\dagger} δ^{\\dagger} + γ^{2} \\left(γ^{\\dagger}\\right)^{2} + 2 γ δ γ^{\\dagger} δ^{\\dagger} + δ^{2} \\left(δ^{\\dagger}\\right)^{2}}}{2}, \\  \\frac{α α^{\\dagger}}{2} + \\frac{β β^{\\dagger}}{2} + \\frac{γ γ^{\\dagger}}{2} + \\frac{δ δ^{\\dagger}}{2} + \\frac{\\sqrt{α^{2} \\left(α^{\\dagger}\\right)^{2} + 2 α β α^{\\dagger} β^{\\dagger} + 2 α γ α^{\\dagger} γ^{\\dagger} - 2 α δ α^{\\dagger} δ^{\\dagger} + 4 α δ β^{\\dagger} γ^{\\dagger} + β^{2} \\left(β^{\\dagger}\\right)^{2} + 4 β γ α^{\\dagger} δ^{\\dagger} - 2 β γ β^{\\dagger} γ^{\\dagger} + 2 β δ β^{\\dagger} δ^{\\dagger} + γ^{2} \\left(γ^{\\dagger}\\right)^{2} + 2 γ δ γ^{\\dagger} δ^{\\dagger} + δ^{2} \\left(δ^{\\dagger}\\right)^{2}}}{2}\\right]$$"
      ],
      "text/plain": [
       "<IPython.core.display.Latex object>"
      ]
     },
     "metadata": {},
     "output_type": "display_data"
    },
    {
     "data": {
      "text/latex": [
       "Determinant of $\\rho^{T_B}$: "
      ],
      "text/plain": [
       "<IPython.core.display.Latex object>"
      ]
     },
     "metadata": {},
     "output_type": "display_data"
    },
    {
     "data": {
      "text/latex": [
       "$$- α^{2} δ^{2} \\left(α^{\\dagger}\\right)^{2} \\left(δ^{\\dagger}\\right)^{2} + 2 α^{2} δ^{2} α^{\\dagger} β^{\\dagger} γ^{\\dagger} δ^{\\dagger} - α^{2} δ^{2} \\left(β^{\\dagger}\\right)^{2} \\left(γ^{\\dagger}\\right)^{2} + 2 α β γ δ \\left(α^{\\dagger}\\right)^{2} \\left(δ^{\\dagger}\\right)^{2} - 4 α β γ δ α^{\\dagger} β^{\\dagger} γ^{\\dagger} δ^{\\dagger} + 2 α β γ δ \\left(β^{\\dagger}\\right)^{2} \\left(γ^{\\dagger}\\right)^{2} - β^{2} γ^{2} \\left(α^{\\dagger}\\right)^{2} \\left(δ^{\\dagger}\\right)^{2} + 2 β^{2} γ^{2} α^{\\dagger} β^{\\dagger} γ^{\\dagger} δ^{\\dagger} - β^{2} γ^{2} \\left(β^{\\dagger}\\right)^{2} \\left(γ^{\\dagger}\\right)^{2}$$"
      ],
      "text/plain": [
       "<IPython.core.display.Latex object>"
      ]
     },
     "metadata": {},
     "output_type": "display_data"
    },
    {
     "data": {
      "text/latex": [
       "Realigned matrix: "
      ],
      "text/plain": [
       "<IPython.core.display.Latex object>"
      ]
     },
     "metadata": {},
     "output_type": "display_data"
    },
    {
     "data": {
      "text/latex": [
       "$$\\left[\\begin{matrix}α α^{\\dagger} & α β^{\\dagger} & β α^{\\dagger} & β β^{\\dagger}\\\\α γ^{\\dagger} & α δ^{\\dagger} & β γ^{\\dagger} & β δ^{\\dagger}\\\\γ α^{\\dagger} & γ β^{\\dagger} & δ α^{\\dagger} & δ β^{\\dagger}\\\\γ γ^{\\dagger} & γ δ^{\\dagger} & δ γ^{\\dagger} & δ δ^{\\dagger}\\end{matrix}\\right]$$"
      ],
      "text/plain": [
       "<IPython.core.display.Latex object>"
      ]
     },
     "metadata": {},
     "output_type": "display_data"
    },
    {
     "data": {
      "text/latex": [
       "Symmetric for realigned: "
      ],
      "text/plain": [
       "<IPython.core.display.Latex object>"
      ]
     },
     "metadata": {},
     "output_type": "display_data"
    },
    {
     "data": {
      "text/latex": [
       "$$\\left[\\begin{matrix}α^{2} \\left(α^{\\dagger}\\right)^{2} + α^{2} \\left(γ^{\\dagger}\\right)^{2} + γ^{2} \\left(α^{\\dagger}\\right)^{2} + γ^{2} \\left(γ^{\\dagger}\\right)^{2} & α^{2} α^{\\dagger} β^{\\dagger} + α^{2} γ^{\\dagger} δ^{\\dagger} + γ^{2} α^{\\dagger} β^{\\dagger} + γ^{2} γ^{\\dagger} δ^{\\dagger} & α β \\left(α^{\\dagger}\\right)^{2} + α β \\left(γ^{\\dagger}\\right)^{2} + γ δ \\left(α^{\\dagger}\\right)^{2} + γ δ \\left(γ^{\\dagger}\\right)^{2} & α β α^{\\dagger} β^{\\dagger} + α β γ^{\\dagger} δ^{\\dagger} + γ δ α^{\\dagger} β^{\\dagger} + γ δ γ^{\\dagger} δ^{\\dagger}\\\\α^{2} α^{\\dagger} β^{\\dagger} + α^{2} γ^{\\dagger} δ^{\\dagger} + γ^{2} α^{\\dagger} β^{\\dagger} + γ^{2} γ^{\\dagger} δ^{\\dagger} & α^{2} \\left(β^{\\dagger}\\right)^{2} + α^{2} \\left(δ^{\\dagger}\\right)^{2} + γ^{2} \\left(β^{\\dagger}\\right)^{2} + γ^{2} \\left(δ^{\\dagger}\\right)^{2} & α β α^{\\dagger} β^{\\dagger} + α β γ^{\\dagger} δ^{\\dagger} + γ δ α^{\\dagger} β^{\\dagger} + γ δ γ^{\\dagger} δ^{\\dagger} & α β \\left(β^{\\dagger}\\right)^{2} + α β \\left(δ^{\\dagger}\\right)^{2} + γ δ \\left(β^{\\dagger}\\right)^{2} + γ δ \\left(δ^{\\dagger}\\right)^{2}\\\\α β \\left(α^{\\dagger}\\right)^{2} + α β \\left(γ^{\\dagger}\\right)^{2} + γ δ \\left(α^{\\dagger}\\right)^{2} + γ δ \\left(γ^{\\dagger}\\right)^{2} & α β α^{\\dagger} β^{\\dagger} + α β γ^{\\dagger} δ^{\\dagger} + γ δ α^{\\dagger} β^{\\dagger} + γ δ γ^{\\dagger} δ^{\\dagger} & β^{2} \\left(α^{\\dagger}\\right)^{2} + β^{2} \\left(γ^{\\dagger}\\right)^{2} + δ^{2} \\left(α^{\\dagger}\\right)^{2} + δ^{2} \\left(γ^{\\dagger}\\right)^{2} & β^{2} α^{\\dagger} β^{\\dagger} + β^{2} γ^{\\dagger} δ^{\\dagger} + δ^{2} α^{\\dagger} β^{\\dagger} + δ^{2} γ^{\\dagger} δ^{\\dagger}\\\\α β α^{\\dagger} β^{\\dagger} + α β γ^{\\dagger} δ^{\\dagger} + γ δ α^{\\dagger} β^{\\dagger} + γ δ γ^{\\dagger} δ^{\\dagger} & α β \\left(β^{\\dagger}\\right)^{2} + α β \\left(δ^{\\dagger}\\right)^{2} + γ δ \\left(β^{\\dagger}\\right)^{2} + γ δ \\left(δ^{\\dagger}\\right)^{2} & β^{2} α^{\\dagger} β^{\\dagger} + β^{2} γ^{\\dagger} δ^{\\dagger} + δ^{2} α^{\\dagger} β^{\\dagger} + δ^{2} γ^{\\dagger} δ^{\\dagger} & β^{2} \\left(β^{\\dagger}\\right)^{2} + β^{2} \\left(δ^{\\dagger}\\right)^{2} + δ^{2} \\left(β^{\\dagger}\\right)^{2} + δ^{2} \\left(δ^{\\dagger}\\right)^{2}\\end{matrix}\\right]$$"
      ],
      "text/plain": [
       "<IPython.core.display.Latex object>"
      ]
     },
     "metadata": {},
     "output_type": "display_data"
    }
   ],
   "source": [
    "alpha, beta, gamma, delta= symbols('α β γ δ')\n",
    "realigned, rhotilde_t_rhotilde= compute_entanglement_measures_symbolic(get_rho_bipartite(alpha, beta, gamma, delta), dA, dB, True)"
   ]
  },
  {
   "cell_type": "code",
   "execution_count": 12,
   "id": "f4255535-6c21-4aaa-a0a0-addbc15dcb83",
   "metadata": {},
   "outputs": [
    {
     "data": {
      "text/latex": [
       "$\\displaystyle \\left[\\begin{matrix}α α^{\\dagger} & α β^{\\dagger} & β α^{\\dagger} & β β^{\\dagger}\\\\α γ^{\\dagger} & α δ^{\\dagger} & β γ^{\\dagger} & β δ^{\\dagger}\\\\γ α^{\\dagger} & γ β^{\\dagger} & δ α^{\\dagger} & δ β^{\\dagger}\\\\γ γ^{\\dagger} & γ δ^{\\dagger} & δ γ^{\\dagger} & δ δ^{\\dagger}\\end{matrix}\\right]$"
      ],
      "text/plain": [
       "Matrix([\n",
       "[α*Dagger(α), α*Dagger(β), β*Dagger(α), β*Dagger(β)],\n",
       "[α*Dagger(γ), α*Dagger(δ), β*Dagger(γ), β*Dagger(δ)],\n",
       "[γ*Dagger(α), γ*Dagger(β), δ*Dagger(α), δ*Dagger(β)],\n",
       "[γ*Dagger(γ), γ*Dagger(δ), δ*Dagger(γ), δ*Dagger(δ)]])"
      ]
     },
     "execution_count": 12,
     "metadata": {},
     "output_type": "execute_result"
    }
   ],
   "source": [
    "realigned"
   ]
  },
  {
   "cell_type": "code",
   "execution_count": 13,
   "id": "52ee25d7-7bc5-4443-a903-fdc63fb14ac0",
   "metadata": {},
   "outputs": [
    {
     "data": {
      "text/latex": [
       "$\\displaystyle \\left[\\begin{matrix}α^{2} \\left(α^{\\dagger}\\right)^{2} + α^{2} \\left(γ^{\\dagger}\\right)^{2} + γ^{2} \\left(α^{\\dagger}\\right)^{2} + γ^{2} \\left(γ^{\\dagger}\\right)^{2} & α^{2} α^{\\dagger} β^{\\dagger} + α^{2} γ^{\\dagger} δ^{\\dagger} + γ^{2} α^{\\dagger} β^{\\dagger} + γ^{2} γ^{\\dagger} δ^{\\dagger} & α β \\left(α^{\\dagger}\\right)^{2} + α β \\left(γ^{\\dagger}\\right)^{2} + γ δ \\left(α^{\\dagger}\\right)^{2} + γ δ \\left(γ^{\\dagger}\\right)^{2} & α β α^{\\dagger} β^{\\dagger} + α β γ^{\\dagger} δ^{\\dagger} + γ δ α^{\\dagger} β^{\\dagger} + γ δ γ^{\\dagger} δ^{\\dagger}\\\\α^{2} α^{\\dagger} β^{\\dagger} + α^{2} γ^{\\dagger} δ^{\\dagger} + γ^{2} α^{\\dagger} β^{\\dagger} + γ^{2} γ^{\\dagger} δ^{\\dagger} & α^{2} \\left(β^{\\dagger}\\right)^{2} + α^{2} \\left(δ^{\\dagger}\\right)^{2} + γ^{2} \\left(β^{\\dagger}\\right)^{2} + γ^{2} \\left(δ^{\\dagger}\\right)^{2} & α β α^{\\dagger} β^{\\dagger} + α β γ^{\\dagger} δ^{\\dagger} + γ δ α^{\\dagger} β^{\\dagger} + γ δ γ^{\\dagger} δ^{\\dagger} & α β \\left(β^{\\dagger}\\right)^{2} + α β \\left(δ^{\\dagger}\\right)^{2} + γ δ \\left(β^{\\dagger}\\right)^{2} + γ δ \\left(δ^{\\dagger}\\right)^{2}\\\\α β \\left(α^{\\dagger}\\right)^{2} + α β \\left(γ^{\\dagger}\\right)^{2} + γ δ \\left(α^{\\dagger}\\right)^{2} + γ δ \\left(γ^{\\dagger}\\right)^{2} & α β α^{\\dagger} β^{\\dagger} + α β γ^{\\dagger} δ^{\\dagger} + γ δ α^{\\dagger} β^{\\dagger} + γ δ γ^{\\dagger} δ^{\\dagger} & β^{2} \\left(α^{\\dagger}\\right)^{2} + β^{2} \\left(γ^{\\dagger}\\right)^{2} + δ^{2} \\left(α^{\\dagger}\\right)^{2} + δ^{2} \\left(γ^{\\dagger}\\right)^{2} & β^{2} α^{\\dagger} β^{\\dagger} + β^{2} γ^{\\dagger} δ^{\\dagger} + δ^{2} α^{\\dagger} β^{\\dagger} + δ^{2} γ^{\\dagger} δ^{\\dagger}\\\\α β α^{\\dagger} β^{\\dagger} + α β γ^{\\dagger} δ^{\\dagger} + γ δ α^{\\dagger} β^{\\dagger} + γ δ γ^{\\dagger} δ^{\\dagger} & α β \\left(β^{\\dagger}\\right)^{2} + α β \\left(δ^{\\dagger}\\right)^{2} + γ δ \\left(β^{\\dagger}\\right)^{2} + γ δ \\left(δ^{\\dagger}\\right)^{2} & β^{2} α^{\\dagger} β^{\\dagger} + β^{2} γ^{\\dagger} δ^{\\dagger} + δ^{2} α^{\\dagger} β^{\\dagger} + δ^{2} γ^{\\dagger} δ^{\\dagger} & β^{2} \\left(β^{\\dagger}\\right)^{2} + β^{2} \\left(δ^{\\dagger}\\right)^{2} + δ^{2} \\left(β^{\\dagger}\\right)^{2} + δ^{2} \\left(δ^{\\dagger}\\right)^{2}\\end{matrix}\\right]$"
      ],
      "text/plain": [
       "Matrix([\n",
       "[                            α**2*Dagger(α)**2 + α**2*Dagger(γ)**2 + γ**2*Dagger(α)**2 + γ**2*Dagger(γ)**2, α**2*Dagger(α)*Dagger(β) + α**2*Dagger(γ)*Dagger(δ) + γ**2*Dagger(α)*Dagger(β) + γ**2*Dagger(γ)*Dagger(δ),                                 α*β*Dagger(α)**2 + α*β*Dagger(γ)**2 + γ*δ*Dagger(α)**2 + γ*δ*Dagger(γ)**2,     α*β*Dagger(α)*Dagger(β) + α*β*Dagger(γ)*Dagger(δ) + γ*δ*Dagger(α)*Dagger(β) + γ*δ*Dagger(γ)*Dagger(δ)],\n",
       "[α**2*Dagger(α)*Dagger(β) + α**2*Dagger(γ)*Dagger(δ) + γ**2*Dagger(α)*Dagger(β) + γ**2*Dagger(γ)*Dagger(δ),                             α**2*Dagger(β)**2 + α**2*Dagger(δ)**2 + γ**2*Dagger(β)**2 + γ**2*Dagger(δ)**2,     α*β*Dagger(α)*Dagger(β) + α*β*Dagger(γ)*Dagger(δ) + γ*δ*Dagger(α)*Dagger(β) + γ*δ*Dagger(γ)*Dagger(δ),                                 α*β*Dagger(β)**2 + α*β*Dagger(δ)**2 + γ*δ*Dagger(β)**2 + γ*δ*Dagger(δ)**2],\n",
       "[                                α*β*Dagger(α)**2 + α*β*Dagger(γ)**2 + γ*δ*Dagger(α)**2 + γ*δ*Dagger(γ)**2,     α*β*Dagger(α)*Dagger(β) + α*β*Dagger(γ)*Dagger(δ) + γ*δ*Dagger(α)*Dagger(β) + γ*δ*Dagger(γ)*Dagger(δ),                             β**2*Dagger(α)**2 + β**2*Dagger(γ)**2 + δ**2*Dagger(α)**2 + δ**2*Dagger(γ)**2, β**2*Dagger(α)*Dagger(β) + β**2*Dagger(γ)*Dagger(δ) + δ**2*Dagger(α)*Dagger(β) + δ**2*Dagger(γ)*Dagger(δ)],\n",
       "[    α*β*Dagger(α)*Dagger(β) + α*β*Dagger(γ)*Dagger(δ) + γ*δ*Dagger(α)*Dagger(β) + γ*δ*Dagger(γ)*Dagger(δ),                                 α*β*Dagger(β)**2 + α*β*Dagger(δ)**2 + γ*δ*Dagger(β)**2 + γ*δ*Dagger(δ)**2, β**2*Dagger(α)*Dagger(β) + β**2*Dagger(γ)*Dagger(δ) + δ**2*Dagger(α)*Dagger(β) + δ**2*Dagger(γ)*Dagger(δ),                             β**2*Dagger(β)**2 + β**2*Dagger(δ)**2 + δ**2*Dagger(β)**2 + δ**2*Dagger(δ)**2]])"
      ]
     },
     "execution_count": 13,
     "metadata": {},
     "output_type": "execute_result"
    }
   ],
   "source": [
    "rhotilde_t_rhotilde"
   ]
  },
  {
   "cell_type": "code",
   "execution_count": 14,
   "id": "39f9e2ae-82b5-45bf-ac05-d828272b5ef0",
   "metadata": {},
   "outputs": [],
   "source": [
    "def generate_alpha_beta_gamma_delta():\n",
    "    # Generate four random complex numbers using a Gaussian distribution.\n",
    "    # Using a Gaussian can help ensure a uniform distribution on the complex sphere.\n",
    "    a = random.gauss(0,1) + 1j * random.gauss(0,1)\n",
    "    b = random.gauss(0,1) + 1j * random.gauss(0,1)\n",
    "    c = random.gauss(0,1) + 1j * random.gauss(0,1)\n",
    "    d = random.gauss(0,1) + 1j * random.gauss(0,1)\n",
    "    \n",
    "    # Normalize the state so that |α|^2 + |β|^2 + |γ|^2 + |δ|^2 = 1\n",
    "    norm = math.sqrt(abs(a)**2 + abs(b)**2 + abs(c)**2 + abs(d)**2)\n",
    "    alpha = a / norm\n",
    "    beta  = b / norm\n",
    "    gamma = c / norm\n",
    "    delta = d / norm\n",
    "\n",
    "    return alpha, beta, gamma, delta"
   ]
  },
  {
   "cell_type": "code",
   "execution_count": 15,
   "id": "9aff9839-c748-4177-9f36-db7aba6b2dd7",
   "metadata": {},
   "outputs": [],
   "source": [
    "a, b, c, d= generate_alpha_beta_gamma_delta()"
   ]
  },
  {
   "cell_type": "code",
   "execution_count": 16,
   "id": "5d81350b-3d4b-436d-9c4f-31e206343ed9",
   "metadata": {},
   "outputs": [],
   "source": [
    "rhotilde_t_rhotilde_subbed= simplify(rhotilde_t_rhotilde.subs({alpha: a, beta: b, gamma: c, delta: d}))"
   ]
  },
  {
   "cell_type": "code",
   "execution_count": 17,
   "id": "0b55823a-0ba6-4084-99e5-31df49b0d47b",
   "metadata": {},
   "outputs": [
    {
     "data": {
      "text/plain": [
       "{-0.00881549268689383 - 0.0649960631459152*I: 1,\n",
       " 0.0141397088499269 + 1.92296744548659e-34*I: 1,\n",
       " -0.00881549268689383 + 0.0649960631459152*I: 1,\n",
       " 0.304263771018364 - 9.5789231331853e-35*I: 1}"
      ]
     },
     "execution_count": 17,
     "metadata": {},
     "output_type": "execute_result"
    }
   ],
   "source": [
    "eig_dict= rhotilde_t_rhotilde_subbed.eigenvals()\n",
    "eig_dict"
   ]
  },
  {
   "cell_type": "code",
   "execution_count": 18,
   "id": "361587fa-3cb7-4882-96f1-d6251ab37af6",
   "metadata": {},
   "outputs": [],
   "source": [
    "def get_singular_values_from_eig_dict(eig_dict):\n",
    "    singular_vals= []\n",
    "    for eigenvalue, multiplicity in eig_dict.items():\n",
    "        # Simplify the eigenvalue for a cleaner expression.\n",
    "        eigenvalue = sp.simplify(eigenvalue)\n",
    "        # print(\"current eig: \", eigenvalue)\n",
    "        # print(\"multiplicity: \", multiplicity)\n",
    "        # Assume eigenvalues are nonnegative; take the square root.\n",
    "        s_val = sp.sqrt(eigenvalue).evalf()\n",
    "        singular_vals.extend([sp.simplify(s_val)] * multiplicity)\n",
    "    return singular_vals"
   ]
  },
  {
   "cell_type": "code",
   "execution_count": 19,
   "id": "aa2288ac-cc56-4a0a-900b-238cd3c9767a",
   "metadata": {},
   "outputs": [
    {
     "data": {
      "text/plain": [
       "[0.168486904404796 - 0.192881646723593*I,\n",
       " 0.118910507735552 + 0.e-33*I,\n",
       " 0.168486904404796 + 0.192881646723593*I,\n",
       " 0.55160109773129 - 0.e-34*I]"
      ]
     },
     "execution_count": 19,
     "metadata": {},
     "output_type": "execute_result"
    }
   ],
   "source": [
    "singular_vals= get_singular_values_from_eig_dict(eig_dict)\n",
    "singular_vals"
   ]
  },
  {
   "cell_type": "code",
   "execution_count": 20,
   "id": "8ffcd4ef-f982-4168-a7f9-c56ca9be25b1",
   "metadata": {},
   "outputs": [
    {
     "data": {
      "text/latex": [
       "$\\displaystyle 1.00748541427643 - 1.0 \\cdot 10^{-34} i$"
      ],
      "text/plain": [
       "1.00748541427643 - 0.e-34*I"
      ]
     },
     "execution_count": 20,
     "metadata": {},
     "output_type": "execute_result"
    }
   ],
   "source": [
    "sum(singular_vals)"
   ]
  },
  {
   "cell_type": "code",
   "execution_count": 21,
   "id": "f09a64f1-3421-4b30-b753-ca606b9afef1",
   "metadata": {},
   "outputs": [],
   "source": [
    "def generate_1_normalized_real(n):\n",
    "    # Generate n random real numbers from a Gaussian distribution\n",
    "    random_numbers= [random.gauss(0, 1) for i in range(n)]\n",
    "    \n",
    "    # Compute the norm: sqrt(a^2 + b^2 + c^2 + d^2)\n",
    "    sqsum= sum(map(lambda x: x**2, random_numbers))\n",
    "    norm= sqrt(sqsum)\n",
    "    return tuple(map(lambda x: x / norm, random_numbers))"
   ]
  },
  {
   "cell_type": "code",
   "execution_count": 22,
   "id": "951aca2b-aba7-41e0-8293-b1a0c65307d9",
   "metadata": {},
   "outputs": [
    {
     "name": "stdout",
     "output_type": "stream",
     "text": [
      "α*Dagger(α)*|0>x|0>*<0|x<0| + α*Dagger(β)*|0>x|0>*<0|x<1| + α*Dagger(γ)*|0>x|0>*<1|x<0| + α*Dagger(δ)*|0>x|0>*<1|x<1| + β*Dagger(α)*|0>x|1>*<0|x<0| + β*Dagger(β)*|0>x|1>*<0|x<1| + β*Dagger(γ)*|0>x|1>*<1|x<0| + β*Dagger(δ)*|0>x|1>*<1|x<1| + γ*Dagger(α)*|1>x|0>*<0|x<0| + γ*Dagger(β)*|1>x|0>*<0|x<1| + γ*Dagger(γ)*|1>x|0>*<1|x<0| + γ*Dagger(δ)*|1>x|0>*<1|x<1| + δ*Dagger(α)*|1>x|1>*<0|x<0| + δ*Dagger(β)*|1>x|1>*<0|x<1| + δ*Dagger(γ)*|1>x|1>*<1|x<0| + δ*Dagger(δ)*|1>x|1>*<1|x<1|\n"
     ]
    },
    {
     "data": {
      "text/latex": [
       "$\\displaystyle \\left[\\begin{matrix}α α^{\\dagger} & α β^{\\dagger} & α γ^{\\dagger} & α δ^{\\dagger}\\\\β α^{\\dagger} & β β^{\\dagger} & β γ^{\\dagger} & β δ^{\\dagger}\\\\γ α^{\\dagger} & γ β^{\\dagger} & γ γ^{\\dagger} & γ δ^{\\dagger}\\\\δ α^{\\dagger} & δ β^{\\dagger} & δ γ^{\\dagger} & δ δ^{\\dagger}\\end{matrix}\\right]$"
      ],
      "text/plain": [
       "Matrix([\n",
       "[α*Dagger(α), α*Dagger(β), α*Dagger(γ), α*Dagger(δ)],\n",
       "[β*Dagger(α), β*Dagger(β), β*Dagger(γ), β*Dagger(δ)],\n",
       "[γ*Dagger(α), γ*Dagger(β), γ*Dagger(γ), γ*Dagger(δ)],\n",
       "[δ*Dagger(α), δ*Dagger(β), δ*Dagger(γ), δ*Dagger(δ)]])"
      ]
     },
     "execution_count": 22,
     "metadata": {},
     "output_type": "execute_result"
    }
   ],
   "source": [
    "rho= get_rho_bipartite(alpha, beta, gamma, delta)\n",
    "rho"
   ]
  },
  {
   "cell_type": "code",
   "execution_count": 23,
   "id": "30b9d6bc-2f39-4224-a010-63d30cdb3095",
   "metadata": {},
   "outputs": [],
   "source": [
    "def get_chsh_score(t_matrix, subsdict= None):\n",
    "    no_of_ss_to_be_considered= 2\n",
    "    \n",
    "    if subsdict is not None:\n",
    "        t_matrix= t_matrix.subs(subsdict)\n",
    "        \n",
    "    t_symm= t_matrix.T * t_matrix\n",
    "    ssquared_dict= t_symm.eigenvals()\n",
    "    print(\"t symm eigs: \", ssquared_dict)\n",
    "    ssquared_list= []\n",
    "    for ssquared, multiplicity in ssquared_dict.items():\n",
    "        ssquared_list.extend([sp.simplify(ssquared)] * multiplicity)\n",
    "\n",
    "    if subsdict is not None:\n",
    "        greatest= sorted(ssquared_list, reverse=True)[:no_of_ss_to_be_considered]\n",
    "    else:\n",
    "        greatest= ssquared_list\n",
    "    return 2* sqrt(sum(greatest))"
   ]
  },
  {
   "cell_type": "code",
   "execution_count": 24,
   "id": "8d70a3fe-3e8e-4635-ab4d-a2de3a56a704",
   "metadata": {},
   "outputs": [],
   "source": [
    "def compare_realignment_scores_with_bchsh(rhotilde_t_rhotilde, t_matrix, alpha, beta, gamma, delta, no_of_random_samples= 20):\n",
    "    res= {}\n",
    "    for i in range(no_of_random_samples):\n",
    "        a, b, c, d= generate_1_normalized_real(4)\n",
    "        subsdict= {alpha: a, beta: b, gamma: c, delta: d}\n",
    "        subbed_symm= simplify(rhotilde_t_rhotilde.subs(subsdict))\n",
    "        try:\n",
    "            eig_dict= subbed_symm.eigenvals()\n",
    "            print(\"eig_dict of sub symm: \", eig_dict)\n",
    "            chsh_score= get_chsh_score(t_matrix, subsdict)\n",
    "            print(\"chsh score: \", chsh_score)\n",
    "            res[str((a, b, c, d))]= [sum(get_singular_values_from_eig_dict(eig_dict)), chsh_score]\n",
    "        except e:\n",
    "            print(e)\n",
    "    return res\n",
    "    "
   ]
  },
  {
   "cell_type": "code",
   "execution_count": 25,
   "id": "f15e9a38-2956-4c8d-9b26-35f962278379",
   "metadata": {},
   "outputs": [
    {
     "data": {
      "text/latex": [
       "$\\displaystyle \\left[\\begin{matrix}α α^{\\dagger} & α β^{\\dagger} & β α^{\\dagger} & β β^{\\dagger}\\\\α γ^{\\dagger} & α δ^{\\dagger} & β γ^{\\dagger} & β δ^{\\dagger}\\\\γ α^{\\dagger} & γ β^{\\dagger} & δ α^{\\dagger} & δ β^{\\dagger}\\\\γ γ^{\\dagger} & γ δ^{\\dagger} & δ γ^{\\dagger} & δ δ^{\\dagger}\\end{matrix}\\right]$"
      ],
      "text/plain": [
       "Matrix([\n",
       "[α*Dagger(α), α*Dagger(β), β*Dagger(α), β*Dagger(β)],\n",
       "[α*Dagger(γ), α*Dagger(δ), β*Dagger(γ), β*Dagger(δ)],\n",
       "[γ*Dagger(α), γ*Dagger(β), δ*Dagger(α), δ*Dagger(β)],\n",
       "[γ*Dagger(γ), γ*Dagger(δ), δ*Dagger(γ), δ*Dagger(δ)]])"
      ]
     },
     "execution_count": 25,
     "metadata": {},
     "output_type": "execute_result"
    }
   ],
   "source": [
    "realigned, rhotilde_t_rhotilde= compute_entanglement_measures_symbolic(rho, dA, dB, False)\n",
    "realigned"
   ]
  },
  {
   "cell_type": "code",
   "execution_count": 26,
   "id": "a0dc3adf-addd-49ef-a2b2-b2aa38a29517",
   "metadata": {},
   "outputs": [
    {
     "data": {
      "text/latex": [
       "$\\displaystyle \\left[\\begin{matrix}α^{2} \\left(α^{\\dagger}\\right)^{2} + α^{2} \\left(γ^{\\dagger}\\right)^{2} + γ^{2} \\left(α^{\\dagger}\\right)^{2} + γ^{2} \\left(γ^{\\dagger}\\right)^{2} & α^{2} α^{\\dagger} β^{\\dagger} + α^{2} γ^{\\dagger} δ^{\\dagger} + γ^{2} α^{\\dagger} β^{\\dagger} + γ^{2} γ^{\\dagger} δ^{\\dagger} & α β \\left(α^{\\dagger}\\right)^{2} + α β \\left(γ^{\\dagger}\\right)^{2} + γ δ \\left(α^{\\dagger}\\right)^{2} + γ δ \\left(γ^{\\dagger}\\right)^{2} & α β α^{\\dagger} β^{\\dagger} + α β γ^{\\dagger} δ^{\\dagger} + γ δ α^{\\dagger} β^{\\dagger} + γ δ γ^{\\dagger} δ^{\\dagger}\\\\α^{2} α^{\\dagger} β^{\\dagger} + α^{2} γ^{\\dagger} δ^{\\dagger} + γ^{2} α^{\\dagger} β^{\\dagger} + γ^{2} γ^{\\dagger} δ^{\\dagger} & α^{2} \\left(β^{\\dagger}\\right)^{2} + α^{2} \\left(δ^{\\dagger}\\right)^{2} + γ^{2} \\left(β^{\\dagger}\\right)^{2} + γ^{2} \\left(δ^{\\dagger}\\right)^{2} & α β α^{\\dagger} β^{\\dagger} + α β γ^{\\dagger} δ^{\\dagger} + γ δ α^{\\dagger} β^{\\dagger} + γ δ γ^{\\dagger} δ^{\\dagger} & α β \\left(β^{\\dagger}\\right)^{2} + α β \\left(δ^{\\dagger}\\right)^{2} + γ δ \\left(β^{\\dagger}\\right)^{2} + γ δ \\left(δ^{\\dagger}\\right)^{2}\\\\α β \\left(α^{\\dagger}\\right)^{2} + α β \\left(γ^{\\dagger}\\right)^{2} + γ δ \\left(α^{\\dagger}\\right)^{2} + γ δ \\left(γ^{\\dagger}\\right)^{2} & α β α^{\\dagger} β^{\\dagger} + α β γ^{\\dagger} δ^{\\dagger} + γ δ α^{\\dagger} β^{\\dagger} + γ δ γ^{\\dagger} δ^{\\dagger} & β^{2} \\left(α^{\\dagger}\\right)^{2} + β^{2} \\left(γ^{\\dagger}\\right)^{2} + δ^{2} \\left(α^{\\dagger}\\right)^{2} + δ^{2} \\left(γ^{\\dagger}\\right)^{2} & β^{2} α^{\\dagger} β^{\\dagger} + β^{2} γ^{\\dagger} δ^{\\dagger} + δ^{2} α^{\\dagger} β^{\\dagger} + δ^{2} γ^{\\dagger} δ^{\\dagger}\\\\α β α^{\\dagger} β^{\\dagger} + α β γ^{\\dagger} δ^{\\dagger} + γ δ α^{\\dagger} β^{\\dagger} + γ δ γ^{\\dagger} δ^{\\dagger} & α β \\left(β^{\\dagger}\\right)^{2} + α β \\left(δ^{\\dagger}\\right)^{2} + γ δ \\left(β^{\\dagger}\\right)^{2} + γ δ \\left(δ^{\\dagger}\\right)^{2} & β^{2} α^{\\dagger} β^{\\dagger} + β^{2} γ^{\\dagger} δ^{\\dagger} + δ^{2} α^{\\dagger} β^{\\dagger} + δ^{2} γ^{\\dagger} δ^{\\dagger} & β^{2} \\left(β^{\\dagger}\\right)^{2} + β^{2} \\left(δ^{\\dagger}\\right)^{2} + δ^{2} \\left(β^{\\dagger}\\right)^{2} + δ^{2} \\left(δ^{\\dagger}\\right)^{2}\\end{matrix}\\right]$"
      ],
      "text/plain": [
       "Matrix([\n",
       "[                            α**2*Dagger(α)**2 + α**2*Dagger(γ)**2 + γ**2*Dagger(α)**2 + γ**2*Dagger(γ)**2, α**2*Dagger(α)*Dagger(β) + α**2*Dagger(γ)*Dagger(δ) + γ**2*Dagger(α)*Dagger(β) + γ**2*Dagger(γ)*Dagger(δ),                                 α*β*Dagger(α)**2 + α*β*Dagger(γ)**2 + γ*δ*Dagger(α)**2 + γ*δ*Dagger(γ)**2,     α*β*Dagger(α)*Dagger(β) + α*β*Dagger(γ)*Dagger(δ) + γ*δ*Dagger(α)*Dagger(β) + γ*δ*Dagger(γ)*Dagger(δ)],\n",
       "[α**2*Dagger(α)*Dagger(β) + α**2*Dagger(γ)*Dagger(δ) + γ**2*Dagger(α)*Dagger(β) + γ**2*Dagger(γ)*Dagger(δ),                             α**2*Dagger(β)**2 + α**2*Dagger(δ)**2 + γ**2*Dagger(β)**2 + γ**2*Dagger(δ)**2,     α*β*Dagger(α)*Dagger(β) + α*β*Dagger(γ)*Dagger(δ) + γ*δ*Dagger(α)*Dagger(β) + γ*δ*Dagger(γ)*Dagger(δ),                                 α*β*Dagger(β)**2 + α*β*Dagger(δ)**2 + γ*δ*Dagger(β)**2 + γ*δ*Dagger(δ)**2],\n",
       "[                                α*β*Dagger(α)**2 + α*β*Dagger(γ)**2 + γ*δ*Dagger(α)**2 + γ*δ*Dagger(γ)**2,     α*β*Dagger(α)*Dagger(β) + α*β*Dagger(γ)*Dagger(δ) + γ*δ*Dagger(α)*Dagger(β) + γ*δ*Dagger(γ)*Dagger(δ),                             β**2*Dagger(α)**2 + β**2*Dagger(γ)**2 + δ**2*Dagger(α)**2 + δ**2*Dagger(γ)**2, β**2*Dagger(α)*Dagger(β) + β**2*Dagger(γ)*Dagger(δ) + δ**2*Dagger(α)*Dagger(β) + δ**2*Dagger(γ)*Dagger(δ)],\n",
       "[    α*β*Dagger(α)*Dagger(β) + α*β*Dagger(γ)*Dagger(δ) + γ*δ*Dagger(α)*Dagger(β) + γ*δ*Dagger(γ)*Dagger(δ),                                 α*β*Dagger(β)**2 + α*β*Dagger(δ)**2 + γ*δ*Dagger(β)**2 + γ*δ*Dagger(δ)**2, β**2*Dagger(α)*Dagger(β) + β**2*Dagger(γ)*Dagger(δ) + δ**2*Dagger(α)*Dagger(β) + δ**2*Dagger(γ)*Dagger(δ),                             β**2*Dagger(β)**2 + β**2*Dagger(δ)**2 + δ**2*Dagger(β)**2 + δ**2*Dagger(δ)**2]])"
      ]
     },
     "execution_count": 26,
     "metadata": {},
     "output_type": "execute_result"
    }
   ],
   "source": [
    "rhotilde_t_rhotilde"
   ]
  },
  {
   "cell_type": "code",
   "execution_count": 27,
   "id": "ca8a3e2c-3b85-4fe8-bd0b-20594a157765",
   "metadata": {},
   "outputs": [],
   "source": [
    "t_nm = lambda n, m, rho: (rho * TensorProduct(msigma(n), msigma(m))).trace()\n",
    "make_t_matrix= lambda rho: Matrix([[t_nm(n, m, rho) for m in range(1, 4)] for n in range(1, 4)])"
   ]
  },
  {
   "cell_type": "code",
   "execution_count": 28,
   "id": "6d489ab1-67fa-4d4d-9606-6dc180146ffa",
   "metadata": {},
   "outputs": [
    {
     "data": {
      "text/latex": [
       "$\\displaystyle \\left[\\begin{matrix}α δ^{\\dagger} + β γ^{\\dagger} + γ β^{\\dagger} + δ α^{\\dagger} & i α δ^{\\dagger} - i β γ^{\\dagger} + i γ β^{\\dagger} - i δ α^{\\dagger} & α γ^{\\dagger} - β δ^{\\dagger} + γ α^{\\dagger} - δ β^{\\dagger}\\\\i α δ^{\\dagger} + i β γ^{\\dagger} - i γ β^{\\dagger} - i δ α^{\\dagger} & - α δ^{\\dagger} + β γ^{\\dagger} + γ β^{\\dagger} - δ α^{\\dagger} & i α γ^{\\dagger} - i β δ^{\\dagger} - i γ α^{\\dagger} + i δ β^{\\dagger}\\\\α β^{\\dagger} + β α^{\\dagger} - γ δ^{\\dagger} - δ γ^{\\dagger} & i α β^{\\dagger} - i β α^{\\dagger} - i γ δ^{\\dagger} + i δ γ^{\\dagger} & α α^{\\dagger} - β β^{\\dagger} - γ γ^{\\dagger} + δ δ^{\\dagger}\\end{matrix}\\right]$"
      ],
      "text/plain": [
       "Matrix([\n",
       "[        α*Dagger(δ) + β*Dagger(γ) + γ*Dagger(β) + δ*Dagger(α), I*α*Dagger(δ) - I*β*Dagger(γ) + I*γ*Dagger(β) - I*δ*Dagger(α),         α*Dagger(γ) - β*Dagger(δ) + γ*Dagger(α) - δ*Dagger(β)],\n",
       "[I*α*Dagger(δ) + I*β*Dagger(γ) - I*γ*Dagger(β) - I*δ*Dagger(α),        -α*Dagger(δ) + β*Dagger(γ) + γ*Dagger(β) - δ*Dagger(α), I*α*Dagger(γ) - I*β*Dagger(δ) - I*γ*Dagger(α) + I*δ*Dagger(β)],\n",
       "[        α*Dagger(β) + β*Dagger(α) - γ*Dagger(δ) - δ*Dagger(γ), I*α*Dagger(β) - I*β*Dagger(α) - I*γ*Dagger(δ) + I*δ*Dagger(γ),         α*Dagger(α) - β*Dagger(β) - γ*Dagger(γ) + δ*Dagger(δ)]])"
      ]
     },
     "execution_count": 28,
     "metadata": {},
     "output_type": "execute_result"
    }
   ],
   "source": [
    "t_matrix= make_t_matrix(rho)\n",
    "t_matrix"
   ]
  },
  {
   "cell_type": "code",
   "execution_count": 29,
   "id": "bf1c9faa-96f3-422a-9d60-9cd4879377fd",
   "metadata": {},
   "outputs": [
    {
     "name": "stdout",
     "output_type": "stream",
     "text": [
      "eig_dict of sub symm:  {0.00110185502846857: 1, 0.997795073175677: 1, 0.00110185502846853: 1, 1.21676738679518e-6: 1}\n",
      "t symm eigs:  {0.00440742011387422: 1, 1.00000000000000: 1, 0.00440742011387426: 1}\n",
      "chsh score:  2.00440257444843\n",
      "eig_dict of sub symm:  {0.00328733719477666: 1, 1.08782249549554e-5: 1, 0.00328733719477666: 1, 0.993414447385492: 1}\n",
      "t symm eigs:  {0.0131493487791066: 1, 0.0131493487791066: 1, 1.00000000000000: 1}\n",
      "chsh score:  2.01310640432055\n",
      "eig_dict of sub symm:  {0.970943410064681: 1, 0.000214194708414963: 1, 0.0144211976134517: 1, 0.0144211976134517: 1}\n",
      "t symm eigs:  {0.0576847904538070: 2, 1.00000000000000: 1}\n",
      "chsh score:  2.05687606865733\n",
      "eig_dict of sub symm:  {0.156779958550828: 2, 0.648539614108988: 1, 0.0379004687893569: 1}\n",
      "t symm eigs:  {0.627119834203311: 1, 0.627119834203311: 1, 1.00000000000000: 1}\n",
      "chsh score:  2.55117214958404\n",
      "eig_dict of sub symm:  {0.0153504587925342: 1, 0.000243160977533445: 1, 0.0153504587925342: 1, 0.969055921437398: 1}\n",
      "t symm eigs:  {0.0614018351701369: 2, 1.00000000000000: 1}\n",
      "chsh score:  2.06048716100842\n",
      "eig_dict of sub symm:  {0.982501097756743: 1, 0.00871083606807879: 1, 0.00871083606807883: 1, 7.72301070992885e-5: 1}\n",
      "t symm eigs:  {0.0348433442723152: 1, 1.00000000000000: 1, 0.0348433442723152: 1}\n",
      "chsh score:  2.03454500493090\n",
      "eig_dict of sub symm:  {0.00902666666726236: 1, 0.0859821048607516: 1, 0.0859821048607516: 1, 0.819009123611235: 1}\n",
      "t symm eigs:  {0.343928419443007: 1, 0.343928419443006: 1, 1.00000000000000: 1}\n",
      "chsh score:  2.31855853447180\n",
      "eig_dict of sub symm:  {0.746999480763667: 1, 0.117291836306953: 1, 0.117291836306953: 1, 0.0184168466224270: 1}\n",
      "t symm eigs:  {0.469167345227812: 1, 1.00000000000000: 1, 0.469167345227812: 1}\n",
      "chsh score:  2.42418427123667\n",
      "eig_dict of sub symm:  {0.0151495389809138: 1, 0.969464184534101: 1, 0.000236737504072430: 1, 0.0151495389809138: 1}\n",
      "t symm eigs:  {0.0605981559236553: 1, 1.00000000000000: 1, 0.0605981559236552: 1}\n",
      "chsh score:  2.05970692665113\n",
      "eig_dict of sub symm:  {0.114074066379566: 1, 0.754607277900876: 1, 0.114074066379566: 1, 0.0172445893399917: 1}\n",
      "t symm eigs:  {0.456296265518263: 1, 0.456296265518263: 1, 1.00000000000000: 1}\n",
      "chsh score:  2.41354201580852\n",
      "eig_dict of sub symm:  {0.0475261575892924: 1, 0.902444777483972: 1, 0.00250290733744358: 1, 0.0475261575892924: 1}\n",
      "t symm eigs:  {0.190104630357170: 1, 1.00000000000000: 1, 0.190104630357170: 1}\n",
      "chsh score:  2.18183833531008\n",
      "eig_dict of sub symm:  {0.478769577648850: 1, 0.213162194745546: 1, 0.213162194745546: 1, 0.0949060328600585: 1}\n",
      "t symm eigs:  {0.852648778982184: 1, 0.852648778982184: 1, 1.00000000000000: 1}\n",
      "chsh score:  2.72224082621812\n",
      "eig_dict of sub symm:  {0.0515490309381250: 1, 0.893929328875093: 1, 0.0515490309381250: 1, 0.00297260924865691: 1}\n",
      "t symm eigs:  {0.206196123752500: 1, 0.206196123752500: 1, 0.999999999999999: 1}\n",
      "chsh score:  2.19653920862114\n",
      "eig_dict of sub symm:  {0.00171491007435301: 1, 2.95104683169786e-6: 1, 0.00171491007435297: 1, 0.996567228804462: 1}\n",
      "t symm eigs:  {0.00685964029741194: 1, 1.00000000000000: 1, 0.00685964029741196: 1}\n",
      "chsh score:  2.00684791680627\n",
      "eig_dict of sub symm:  {0.999417895902170: 1, 0.000291009680935508: 1, 0.000291009680935523: 1, 8.47359595285417e-8: 1}\n",
      "t symm eigs:  {0.00116403872374195: 1, 1.00000000000000: 1, 0.00116403872374201: 1}\n",
      "chsh score:  2.00116370017422\n",
      "eig_dict of sub symm:  {0.00746064744994792: 1, 0.0789143920577010: 1, 0.0789143920577010: 1, 0.834710568434650: 1}\n",
      "t symm eigs:  {0.315657568230804: 1, 0.315657568230804: 1, 1.00000000000000: 1}\n",
      "chsh score:  2.29404234331523\n",
      "eig_dict of sub symm:  {0.992901610112640: 1, 1.26416925325441e-5: 1, 0.00354287409741382: 1, 0.00354287409741385: 1}\n",
      "t symm eigs:  {0.0141714963896553: 1, 1.00000000000000: 1, 0.0141714963896553: 1}\n",
      "chsh score:  2.01412164120209\n",
      "eig_dict of sub symm:  {0.0264071325791292: 1, 0.946448942163356: 1, 0.0264071325791292: 1, 0.000736792678385544: 1}\n",
      "t symm eigs:  {0.105628530316517: 1, 0.105628530316517: 1, 1.00000000000000: 1}\n",
      "chsh score:  2.10297744192991\n",
      "eig_dict of sub symm:  {0.0199873349664590: 1, 0.959609021393283: 1, 0.0199873349664590: 1, 0.000416308673798625: 1}\n",
      "t symm eigs:  {0.0799493398658360: 1, 0.0799493398658360: 1, 0.999999999999999: 1}\n",
      "chsh score:  2.07841222077415\n",
      "eig_dict of sub symm:  {0.140509671321231: 1, 0.690383557196321: 1, 0.140509671321231: 1, 0.0285971001612167: 1}\n",
      "t symm eigs:  {0.562038685284923: 2, 1.00000000000000: 1}\n",
      "chsh score:  2.49963092098407\n"
     ]
    },
    {
     "data": {
      "text/plain": [
       "{'(0.802693422062294, 0.331881140384836, -0.441955308496818, -0.224084100565539)': [1.06638840345929,\n",
       "  2.00440257444843],\n",
       " '(0.0521698217683261, 0.0667945974245705, -0.0828383108857986, 0.992952469003999)': [1.11467060991861,\n",
       "  2.01310640432055],\n",
       " '(0.568705590355028, -0.807131464441798, -0.0409109497496003, -0.153098154128529)': [1.24017658181806,\n",
       "  2.05687606865733],\n",
       " '(0.0134973806302668, -0.443428495086048, 0.889642856095188, 0.108280095403727)': [1.79190898100938,\n",
       "  2.55117214958404],\n",
       " '(-0.134649380618047, 0.0902270338206709, -0.0928970915372632, 0.982394399948929)': [1.24779393691157,\n",
       "  2.06048716100842],\n",
       " '(0.343062710988880, 0.0808296232108244, 0.812931636281501, 0.463591094687159)': [1.18666371975377,\n",
       "  2.03454500493090],\n",
       " '(-0.311099113431246, -0.0208069078358944, -0.197870087437233, 0.929317944896247)': [1.58645410685151,\n",
       "  2.31855853447180],\n",
       " '(-0.711739082585108, -0.270440814174114, -0.276650096771448, -0.586305354150975)': [1.68495791493187,\n",
       "  2.42418427123667],\n",
       " '(0.599218549738536, 0.626096941501556, -0.433313767103520, -0.247343746090738)': [1.24616692694929,\n",
       "  2.05970692665113],\n",
       " '(-0.517296299068358, -0.452313379429911, 0.726290757026444, -0.0178572678993235)': [1.67549705071026,\n",
       "  2.41354201580852],\n",
       " '(0.436775909094950, 0.103180521508579, -0.618313896006587, -0.645188740773313)': [1.43600989708626,\n",
       "  2.18183833531008],\n",
       " '(0.521167947107208, -0.376741264655846, -0.636553719851947, -0.425733898293547)': [1.92338983045201,\n",
       "  2.72224082621812],\n",
       " '(0.841909276755592, 0.290286202640070, 0.439255829905362, -0.118224389039805)': [1.45408823344423,\n",
       "  2.19653920862114],\n",
       " '(-0.254492214041828, 0.520103394034809, -0.421200057348674, 0.698080714670613)': [1.08282294547656,\n",
       "  2.00684791680627],\n",
       " '(0.852269827159719, 0.435091900133979, 0.266261734901807, 0.115913194581235)': [1.03411801172020,\n",
       "  2.00116370017422],\n",
       " '(-0.0410262084854100, 0.617042623616909, 0.410717008089471, 0.669990141810540)': [1.56183411095341,\n",
       "  2.29404234331523],\n",
       " '(-0.442330628146585, -0.341719435577166, 0.585655451183832, 0.587008633029304)': [1.11904409430818,\n",
       "  2.01412164120209],\n",
       " '(0.818373618108199, -0.0257200117668539, 0.532213700405841, -0.215294401412416)': [1.32500543121080,\n",
       "  2.10297744192991],\n",
       " '(0.742351878278879, -0.131757213201924, -0.652677667244247, -0.0746028703582523)': [1.28275314298136,\n",
       "  2.07841222077415],\n",
       " '(-0.609762153044176, 0.00510613650290342, 0.495118142578085, -0.618887767672760)': [1.74969239377556,\n",
       "  2.49963092098407]}"
      ]
     },
     "execution_count": 29,
     "metadata": {},
     "output_type": "execute_result"
    }
   ],
   "source": [
    "compare_realignment_scores_with_bchsh(rhotilde_t_rhotilde, t_matrix, alpha, beta, gamma, delta)"
   ]
  },
  {
   "cell_type": "code",
   "execution_count": null,
   "id": "3bd16a35-32ad-4201-9ad4-c94f575bd673",
   "metadata": {},
   "outputs": [],
   "source": [
    "# Bell state (|00⟩ + |11⟩)/√2\n",
    "bell_state = (TensorProduct(Qubit('0'), Qubit('0')) + \n",
    "             TensorProduct(Qubit('1'), Qubit('1')))/sqrt(2)\n",
    "\n",
    "# Density matrix\n",
    "bell_rho = bell_state * Dagger(bell_state)\n",
    "bell_rho"
   ]
  },
  {
   "cell_type": "code",
   "execution_count": null,
   "id": "53c3f027-e6a9-4b58-92b6-b65143c079df",
   "metadata": {},
   "outputs": [],
   "source": [
    "matrix_form = represent(bell_rho.doit(), basis_set=[Qubit('0'), Qubit('1')])\n",
    "\n",
    "# Simplify करें और output को Matrix के रूप में प्राप्त करें\n",
    "final_matrix = Matrix(simplify(matrix_form)).expand()\n",
    "final_matrix"
   ]
  },
  {
   "cell_type": "code",
   "execution_count": null,
   "id": "2b652c1c-e6fa-4531-88f1-01d17653284d",
   "metadata": {},
   "outputs": [],
   "source": [
    "# Bell state vector (|00⟩ + |11⟩)/√2 को Matrix के रूप में परिभाषित करें\n",
    "bell_vector = Matrix([[1], [0], [0], [1]])/sqrt(2)\n",
    "\n",
    "# Density matrix बनाएं (outer product)\n",
    "density_matrix = bell_vector * Dagger(bell_vector)\n",
    "\n",
    "# मैट्रिक्स को simplify करें और expand करें\n",
    "rho = density_matrix.expand()\n",
    "rho"
   ]
  },
  {
   "cell_type": "code",
   "execution_count": null,
   "id": "4c52e5de-7a84-40d3-8e72-cefe0c12baab",
   "metadata": {},
   "outputs": [],
   "source": [
    "# Execute the optimized function\n",
    "\n",
    "result = compute_entanglement_measures_symbolic(rho, dA, dB)\n",
    "result"
   ]
  },
  {
   "cell_type": "code",
   "execution_count": null,
   "id": "8adb5901-9507-445d-974c-2ecda2043a51",
   "metadata": {},
   "outputs": [],
   "source": [
    "ajeeb_matrix= sp.Matrix([\n",
    "    [0.5, 0, 0, 0],\n",
    "    [0, 0, 0.5, 0],\n",
    "    [0, 0.5, 0, 0],\n",
    "    [0, 0, 0, 0.5]\n",
    "])\n",
    "ajeeb_matrix\n"
   ]
  },
  {
   "cell_type": "code",
   "execution_count": null,
   "id": "50c249e6-84b1-40f7-ac64-f0de035ad1c3",
   "metadata": {},
   "outputs": [],
   "source": [
    "ajeeb_matrix.det()"
   ]
  },
  {
   "cell_type": "code",
   "execution_count": null,
   "id": "c37a425f-f20c-4d93-9fba-4ee158175b42",
   "metadata": {},
   "outputs": [],
   "source": [
    "1 / 16"
   ]
  },
  {
   "cell_type": "markdown",
   "id": "d16c3120-e0f9-447e-b100-f1e8570d681c",
   "metadata": {},
   "source": [
    "# Making the Density matrix in Bell basis for bipartite system, to do realignment on it later"
   ]
  },
  {
   "cell_type": "code",
   "execution_count": 30,
   "id": "d659a835-a433-4ae4-bbb3-33816ce5798b",
   "metadata": {},
   "outputs": [
    {
     "name": "stdout",
     "output_type": "stream",
     "text": [
      "α*Dagger(α)*|0>x|0>*<0|x<0| + α*Dagger(β)*|0>x|0>*<0|x<1| + α*Dagger(γ)*|0>x|0>*<1|x<0| + α*Dagger(δ)*|0>x|0>*<1|x<1| + β*Dagger(α)*|0>x|1>*<0|x<0| + β*Dagger(β)*|0>x|1>*<0|x<1| + β*Dagger(γ)*|0>x|1>*<1|x<0| + β*Dagger(δ)*|0>x|1>*<1|x<1| + γ*Dagger(α)*|1>x|0>*<0|x<0| + γ*Dagger(β)*|1>x|0>*<0|x<1| + γ*Dagger(γ)*|1>x|0>*<1|x<0| + γ*Dagger(δ)*|1>x|0>*<1|x<1| + δ*Dagger(α)*|1>x|1>*<0|x<0| + δ*Dagger(β)*|1>x|1>*<0|x<1| + δ*Dagger(γ)*|1>x|1>*<1|x<0| + δ*Dagger(δ)*|1>x|1>*<1|x<1|\n"
     ]
    }
   ],
   "source": [
    "alpha, beta, gamma, delta= symbols('α β γ δ')\n",
    "rho= get_rho_bipartite(alpha, beta, gamma, delta)"
   ]
  },
  {
   "cell_type": "code",
   "execution_count": 31,
   "id": "7309feaa-78b3-4b98-92c4-adae4713895c",
   "metadata": {},
   "outputs": [
    {
     "data": {
      "text/latex": [
       "$\\displaystyle \\left[\\begin{matrix}α α^{\\dagger} & α β^{\\dagger} & α γ^{\\dagger} & α δ^{\\dagger}\\\\β α^{\\dagger} & β β^{\\dagger} & β γ^{\\dagger} & β δ^{\\dagger}\\\\γ α^{\\dagger} & γ β^{\\dagger} & γ γ^{\\dagger} & γ δ^{\\dagger}\\\\δ α^{\\dagger} & δ β^{\\dagger} & δ γ^{\\dagger} & δ δ^{\\dagger}\\end{matrix}\\right]$"
      ],
      "text/plain": [
       "Matrix([\n",
       "[α*Dagger(α), α*Dagger(β), α*Dagger(γ), α*Dagger(δ)],\n",
       "[β*Dagger(α), β*Dagger(β), β*Dagger(γ), β*Dagger(δ)],\n",
       "[γ*Dagger(α), γ*Dagger(β), γ*Dagger(γ), γ*Dagger(δ)],\n",
       "[δ*Dagger(α), δ*Dagger(β), δ*Dagger(γ), δ*Dagger(δ)]])"
      ]
     },
     "execution_count": 31,
     "metadata": {},
     "output_type": "execute_result"
    }
   ],
   "source": [
    "I_2= Matrix.eye(2)\n",
    "rx, ry, rz, sx, sy, sz = symbols('rx ry rz sx sy sz')\n",
    "rho"
   ]
  },
  {
   "cell_type": "code",
   "execution_count": 32,
   "id": "8ec7f51f-6984-4b4f-9978-94b1f74fd329",
   "metadata": {},
   "outputs": [
    {
     "data": {
      "text/latex": [
       "$\\displaystyle α α^{\\dagger} + β β^{\\dagger} + γ γ^{\\dagger} + δ δ^{\\dagger}$"
      ],
      "text/plain": [
       "α*Dagger(α) + β*Dagger(β) + γ*Dagger(γ) + δ*Dagger(δ)"
      ]
     },
     "execution_count": 32,
     "metadata": {},
     "output_type": "execute_result"
    }
   ],
   "source": [
    "rho.trace()"
   ]
  },
  {
   "cell_type": "code",
   "execution_count": 33,
   "id": "107e418b-a1c3-41a0-9fa1-dd880c6c3c00",
   "metadata": {},
   "outputs": [
    {
     "data": {
      "text/latex": [
       "$\\displaystyle \\left[\\begin{matrix}α δ^{\\dagger} + β γ^{\\dagger} + γ β^{\\dagger} + δ α^{\\dagger} & i α δ^{\\dagger} - i β γ^{\\dagger} + i γ β^{\\dagger} - i δ α^{\\dagger} & α γ^{\\dagger} - β δ^{\\dagger} + γ α^{\\dagger} - δ β^{\\dagger}\\\\i α δ^{\\dagger} + i β γ^{\\dagger} - i γ β^{\\dagger} - i δ α^{\\dagger} & - α δ^{\\dagger} + β γ^{\\dagger} + γ β^{\\dagger} - δ α^{\\dagger} & i α γ^{\\dagger} - i β δ^{\\dagger} - i γ α^{\\dagger} + i δ β^{\\dagger}\\\\α β^{\\dagger} + β α^{\\dagger} - γ δ^{\\dagger} - δ γ^{\\dagger} & i α β^{\\dagger} - i β α^{\\dagger} - i γ δ^{\\dagger} + i δ γ^{\\dagger} & α α^{\\dagger} - β β^{\\dagger} - γ γ^{\\dagger} + δ δ^{\\dagger}\\end{matrix}\\right]$"
      ],
      "text/plain": [
       "Matrix([\n",
       "[        α*Dagger(δ) + β*Dagger(γ) + γ*Dagger(β) + δ*Dagger(α), I*α*Dagger(δ) - I*β*Dagger(γ) + I*γ*Dagger(β) - I*δ*Dagger(α),         α*Dagger(γ) - β*Dagger(δ) + γ*Dagger(α) - δ*Dagger(β)],\n",
       "[I*α*Dagger(δ) + I*β*Dagger(γ) - I*γ*Dagger(β) - I*δ*Dagger(α),        -α*Dagger(δ) + β*Dagger(γ) + γ*Dagger(β) - δ*Dagger(α), I*α*Dagger(γ) - I*β*Dagger(δ) - I*γ*Dagger(α) + I*δ*Dagger(β)],\n",
       "[        α*Dagger(β) + β*Dagger(α) - γ*Dagger(δ) - δ*Dagger(γ), I*α*Dagger(β) - I*β*Dagger(α) - I*γ*Dagger(δ) + I*δ*Dagger(γ),         α*Dagger(α) - β*Dagger(β) - γ*Dagger(γ) + δ*Dagger(δ)]])"
      ]
     },
     "metadata": {},
     "output_type": "display_data"
    }
   ],
   "source": [
    "T= make_t_matrix(rho)\n",
    "display(T)"
   ]
  },
  {
   "cell_type": "code",
   "execution_count": 34,
   "id": "365ae693-e1af-4209-bf70-846923b14668",
   "metadata": {},
   "outputs": [],
   "source": [
    "bchsh_sum_correlations= Matrix.zeros(4)\n",
    "for n in range(1, 4):\n",
    "    for m in range(1, 4):\n",
    "        tba= T[n - 1, m - 1] * TensorProduct(msigma(n), msigma(m))\n",
    "        bchsh_sum_correlations += tba\n",
    "    # print(\"sum at the end of n= \", n, \"is: \", s)"
   ]
  },
  {
   "cell_type": "code",
   "execution_count": 35,
   "id": "520826e8-9d39-44b4-b1c7-f47f667975a6",
   "metadata": {},
   "outputs": [
    {
     "data": {
      "text/latex": [
       "$\\displaystyle \\left[\\begin{matrix}α α^{\\dagger} - β β^{\\dagger} - γ γ^{\\dagger} + δ δ^{\\dagger} & α β^{\\dagger} + β α^{\\dagger} - γ δ^{\\dagger} - δ γ^{\\dagger} - i \\left(i α β^{\\dagger} - i β α^{\\dagger} - i γ δ^{\\dagger} + i δ γ^{\\dagger}\\right) & α γ^{\\dagger} - β δ^{\\dagger} + γ α^{\\dagger} - δ β^{\\dagger} - i \\left(i α γ^{\\dagger} - i β δ^{\\dagger} - i γ α^{\\dagger} + i δ β^{\\dagger}\\right) & 2 α δ^{\\dagger} + 2 δ α^{\\dagger} - i \\left(i α δ^{\\dagger} - i β γ^{\\dagger} + i γ β^{\\dagger} - i δ α^{\\dagger}\\right) - i \\left(i α δ^{\\dagger} + i β γ^{\\dagger} - i γ β^{\\dagger} - i δ α^{\\dagger}\\right)\\\\α β^{\\dagger} + β α^{\\dagger} - γ δ^{\\dagger} - δ γ^{\\dagger} + i \\left(i α β^{\\dagger} - i β α^{\\dagger} - i γ δ^{\\dagger} + i δ γ^{\\dagger}\\right) & - α α^{\\dagger} + β β^{\\dagger} + γ γ^{\\dagger} - δ δ^{\\dagger} & 2 β γ^{\\dagger} + 2 γ β^{\\dagger} + i \\left(i α δ^{\\dagger} - i β γ^{\\dagger} + i γ β^{\\dagger} - i δ α^{\\dagger}\\right) - i \\left(i α δ^{\\dagger} + i β γ^{\\dagger} - i γ β^{\\dagger} - i δ α^{\\dagger}\\right) & - α γ^{\\dagger} + β δ^{\\dagger} - γ α^{\\dagger} + δ β^{\\dagger} + i \\left(i α γ^{\\dagger} - i β δ^{\\dagger} - i γ α^{\\dagger} + i δ β^{\\dagger}\\right)\\\\α γ^{\\dagger} - β δ^{\\dagger} + γ α^{\\dagger} - δ β^{\\dagger} + i \\left(i α γ^{\\dagger} - i β δ^{\\dagger} - i γ α^{\\dagger} + i δ β^{\\dagger}\\right) & 2 β γ^{\\dagger} + 2 γ β^{\\dagger} - i \\left(i α δ^{\\dagger} - i β γ^{\\dagger} + i γ β^{\\dagger} - i δ α^{\\dagger}\\right) + i \\left(i α δ^{\\dagger} + i β γ^{\\dagger} - i γ β^{\\dagger} - i δ α^{\\dagger}\\right) & - α α^{\\dagger} + β β^{\\dagger} + γ γ^{\\dagger} - δ δ^{\\dagger} & - α β^{\\dagger} - β α^{\\dagger} + γ δ^{\\dagger} + δ γ^{\\dagger} + i \\left(i α β^{\\dagger} - i β α^{\\dagger} - i γ δ^{\\dagger} + i δ γ^{\\dagger}\\right)\\\\2 α δ^{\\dagger} + 2 δ α^{\\dagger} + i \\left(i α δ^{\\dagger} - i β γ^{\\dagger} + i γ β^{\\dagger} - i δ α^{\\dagger}\\right) + i \\left(i α δ^{\\dagger} + i β γ^{\\dagger} - i γ β^{\\dagger} - i δ α^{\\dagger}\\right) & - α γ^{\\dagger} + β δ^{\\dagger} - γ α^{\\dagger} + δ β^{\\dagger} - i \\left(i α γ^{\\dagger} - i β δ^{\\dagger} - i γ α^{\\dagger} + i δ β^{\\dagger}\\right) & - α β^{\\dagger} - β α^{\\dagger} + γ δ^{\\dagger} + δ γ^{\\dagger} - i \\left(i α β^{\\dagger} - i β α^{\\dagger} - i γ δ^{\\dagger} + i δ γ^{\\dagger}\\right) & α α^{\\dagger} - β β^{\\dagger} - γ γ^{\\dagger} + δ δ^{\\dagger}\\end{matrix}\\right]$"
      ],
      "text/plain": [
       "Matrix([\n",
       "[                                                                                                                α*Dagger(α) - β*Dagger(β) - γ*Dagger(γ) + δ*Dagger(δ),                                             α*Dagger(β) + β*Dagger(α) - γ*Dagger(δ) - δ*Dagger(γ) - I*(I*α*Dagger(β) - I*β*Dagger(α) - I*γ*Dagger(δ) + I*δ*Dagger(γ)),                                             α*Dagger(γ) - β*Dagger(δ) + γ*Dagger(α) - δ*Dagger(β) - I*(I*α*Dagger(γ) - I*β*Dagger(δ) - I*γ*Dagger(α) + I*δ*Dagger(β)), 2*α*Dagger(δ) + 2*δ*Dagger(α) - I*(I*α*Dagger(δ) - I*β*Dagger(γ) + I*γ*Dagger(β) - I*δ*Dagger(α)) - I*(I*α*Dagger(δ) + I*β*Dagger(γ) - I*γ*Dagger(β) - I*δ*Dagger(α))],\n",
       "[                                            α*Dagger(β) + β*Dagger(α) - γ*Dagger(δ) - δ*Dagger(γ) + I*(I*α*Dagger(β) - I*β*Dagger(α) - I*γ*Dagger(δ) + I*δ*Dagger(γ)),                                                                                                                -α*Dagger(α) + β*Dagger(β) + γ*Dagger(γ) - δ*Dagger(δ), 2*β*Dagger(γ) + 2*γ*Dagger(β) + I*(I*α*Dagger(δ) - I*β*Dagger(γ) + I*γ*Dagger(β) - I*δ*Dagger(α)) - I*(I*α*Dagger(δ) + I*β*Dagger(γ) - I*γ*Dagger(β) - I*δ*Dagger(α)),                                            -α*Dagger(γ) + β*Dagger(δ) - γ*Dagger(α) + δ*Dagger(β) + I*(I*α*Dagger(γ) - I*β*Dagger(δ) - I*γ*Dagger(α) + I*δ*Dagger(β))],\n",
       "[                                            α*Dagger(γ) - β*Dagger(δ) + γ*Dagger(α) - δ*Dagger(β) + I*(I*α*Dagger(γ) - I*β*Dagger(δ) - I*γ*Dagger(α) + I*δ*Dagger(β)), 2*β*Dagger(γ) + 2*γ*Dagger(β) - I*(I*α*Dagger(δ) - I*β*Dagger(γ) + I*γ*Dagger(β) - I*δ*Dagger(α)) + I*(I*α*Dagger(δ) + I*β*Dagger(γ) - I*γ*Dagger(β) - I*δ*Dagger(α)),                                                                                                                -α*Dagger(α) + β*Dagger(β) + γ*Dagger(γ) - δ*Dagger(δ),                                            -α*Dagger(β) - β*Dagger(α) + γ*Dagger(δ) + δ*Dagger(γ) + I*(I*α*Dagger(β) - I*β*Dagger(α) - I*γ*Dagger(δ) + I*δ*Dagger(γ))],\n",
       "[2*α*Dagger(δ) + 2*δ*Dagger(α) + I*(I*α*Dagger(δ) - I*β*Dagger(γ) + I*γ*Dagger(β) - I*δ*Dagger(α)) + I*(I*α*Dagger(δ) + I*β*Dagger(γ) - I*γ*Dagger(β) - I*δ*Dagger(α)),                                            -α*Dagger(γ) + β*Dagger(δ) - γ*Dagger(α) + δ*Dagger(β) - I*(I*α*Dagger(γ) - I*β*Dagger(δ) - I*γ*Dagger(α) + I*δ*Dagger(β)),                                            -α*Dagger(β) - β*Dagger(α) + γ*Dagger(δ) + δ*Dagger(γ) - I*(I*α*Dagger(β) - I*β*Dagger(α) - I*γ*Dagger(δ) + I*δ*Dagger(γ)),                                                                                                                 α*Dagger(α) - β*Dagger(β) - γ*Dagger(γ) + δ*Dagger(δ)]])"
      ]
     },
     "execution_count": 35,
     "metadata": {},
     "output_type": "execute_result"
    }
   ],
   "source": [
    "bchsh_sum_correlations"
   ]
  },
  {
   "cell_type": "code",
   "execution_count": 36,
   "id": "6b2089cc-7e4e-49b4-bdcb-aa775eb42c8b",
   "metadata": {},
   "outputs": [],
   "source": [
    "s= Matrix([sx, sy, sz])\n",
    "r= Matrix([rx, ry, rz])"
   ]
  },
  {
   "cell_type": "code",
   "execution_count": 37,
   "id": "08081a33-31c5-4b53-8bcc-0f51c5b28483",
   "metadata": {},
   "outputs": [],
   "source": [
    "ssigma= Matrix.zeros(2)\n",
    "rsigma= Matrix.zeros(2)\n",
    "for i in range(1, 4):\n",
    "    ssigma += s[i-1] * msigma(i)\n",
    "    rsigma += r[i-1] * msigma(i)"
   ]
  },
  {
   "cell_type": "code",
   "execution_count": 38,
   "id": "ed3bee95-a34d-42f6-b018-4fbadd38fb30",
   "metadata": {},
   "outputs": [],
   "source": [
    "rho_bell_basis= Matrix.zeros(4)"
   ]
  },
  {
   "cell_type": "code",
   "execution_count": 39,
   "id": "0c30b86c-16bc-4f45-9485-9b28eeb28f3f",
   "metadata": {},
   "outputs": [
    {
     "data": {
      "text/latex": [
       "$\\displaystyle \\left[\\begin{matrix}1 & 0 & 0 & 0\\\\0 & 1 & 0 & 0\\\\0 & 0 & 1 & 0\\\\0 & 0 & 0 & 1\\end{matrix}\\right]$"
      ],
      "text/plain": [
       "Matrix([\n",
       "[1, 0, 0, 0],\n",
       "[0, 1, 0, 0],\n",
       "[0, 0, 1, 0],\n",
       "[0, 0, 0, 1]])"
      ]
     },
     "execution_count": 39,
     "metadata": {},
     "output_type": "execute_result"
    }
   ],
   "source": [
    "rho_bell_basis+= TensorProduct(I_2, I_2)\n",
    "rho_bell_basis"
   ]
  },
  {
   "cell_type": "code",
   "execution_count": 40,
   "id": "e8f74a73-35b4-4ed0-beac-e60a4c69eb99",
   "metadata": {},
   "outputs": [
    {
     "data": {
      "text/latex": [
       "$\\displaystyle \\left[\\begin{matrix}rz & 0 & rx - i ry & 0\\\\0 & rz & 0 & rx - i ry\\\\rx + i ry & 0 & - rz & 0\\\\0 & rx + i ry & 0 & - rz\\end{matrix}\\right]$"
      ],
      "text/plain": [
       "Matrix([\n",
       "[       rz,         0, rx - I*ry,         0],\n",
       "[        0,        rz,         0, rx - I*ry],\n",
       "[rx + I*ry,         0,       -rz,         0],\n",
       "[        0, rx + I*ry,         0,       -rz]])"
      ]
     },
     "execution_count": 40,
     "metadata": {},
     "output_type": "execute_result"
    }
   ],
   "source": [
    "res= TensorProduct(rsigma, I_2)\n",
    "rho_bell_basis += res\n",
    "res"
   ]
  },
  {
   "cell_type": "code",
   "execution_count": 41,
   "id": "f7fd6786-922f-4533-a2ca-53d0880c2514",
   "metadata": {},
   "outputs": [
    {
     "data": {
      "text/latex": [
       "$\\displaystyle \\left[\\begin{matrix}sz & sx - i sy & 0 & 0\\\\sx + i sy & - sz & 0 & 0\\\\0 & 0 & sz & sx - i sy\\\\0 & 0 & sx + i sy & - sz\\end{matrix}\\right]$"
      ],
      "text/plain": [
       "Matrix([\n",
       "[       sz, sx - I*sy,         0,         0],\n",
       "[sx + I*sy,       -sz,         0,         0],\n",
       "[        0,         0,        sz, sx - I*sy],\n",
       "[        0,         0, sx + I*sy,       -sz]])"
      ]
     },
     "execution_count": 41,
     "metadata": {},
     "output_type": "execute_result"
    }
   ],
   "source": [
    "res=  TensorProduct(I_2, ssigma)\n",
    "rho_bell_basis += res\n",
    "res"
   ]
  },
  {
   "cell_type": "code",
   "execution_count": 42,
   "id": "cf5cd62f-9d28-46cf-a2ae-121dc74cb185",
   "metadata": {},
   "outputs": [
    {
     "data": {
      "text/latex": [
       "$\\displaystyle \\left[\\begin{matrix}α α^{\\dagger} - β β^{\\dagger} - γ γ^{\\dagger} + δ δ^{\\dagger} & α β^{\\dagger} + β α^{\\dagger} - γ δ^{\\dagger} - δ γ^{\\dagger} - i \\left(i α β^{\\dagger} - i β α^{\\dagger} - i γ δ^{\\dagger} + i δ γ^{\\dagger}\\right) & α γ^{\\dagger} - β δ^{\\dagger} + γ α^{\\dagger} - δ β^{\\dagger} - i \\left(i α γ^{\\dagger} - i β δ^{\\dagger} - i γ α^{\\dagger} + i δ β^{\\dagger}\\right) & 2 α δ^{\\dagger} + 2 δ α^{\\dagger} - i \\left(i α δ^{\\dagger} - i β γ^{\\dagger} + i γ β^{\\dagger} - i δ α^{\\dagger}\\right) - i \\left(i α δ^{\\dagger} + i β γ^{\\dagger} - i γ β^{\\dagger} - i δ α^{\\dagger}\\right)\\\\α β^{\\dagger} + β α^{\\dagger} - γ δ^{\\dagger} - δ γ^{\\dagger} + i \\left(i α β^{\\dagger} - i β α^{\\dagger} - i γ δ^{\\dagger} + i δ γ^{\\dagger}\\right) & - α α^{\\dagger} + β β^{\\dagger} + γ γ^{\\dagger} - δ δ^{\\dagger} & 2 β γ^{\\dagger} + 2 γ β^{\\dagger} + i \\left(i α δ^{\\dagger} - i β γ^{\\dagger} + i γ β^{\\dagger} - i δ α^{\\dagger}\\right) - i \\left(i α δ^{\\dagger} + i β γ^{\\dagger} - i γ β^{\\dagger} - i δ α^{\\dagger}\\right) & - α γ^{\\dagger} + β δ^{\\dagger} - γ α^{\\dagger} + δ β^{\\dagger} + i \\left(i α γ^{\\dagger} - i β δ^{\\dagger} - i γ α^{\\dagger} + i δ β^{\\dagger}\\right)\\\\α γ^{\\dagger} - β δ^{\\dagger} + γ α^{\\dagger} - δ β^{\\dagger} + i \\left(i α γ^{\\dagger} - i β δ^{\\dagger} - i γ α^{\\dagger} + i δ β^{\\dagger}\\right) & 2 β γ^{\\dagger} + 2 γ β^{\\dagger} - i \\left(i α δ^{\\dagger} - i β γ^{\\dagger} + i γ β^{\\dagger} - i δ α^{\\dagger}\\right) + i \\left(i α δ^{\\dagger} + i β γ^{\\dagger} - i γ β^{\\dagger} - i δ α^{\\dagger}\\right) & - α α^{\\dagger} + β β^{\\dagger} + γ γ^{\\dagger} - δ δ^{\\dagger} & - α β^{\\dagger} - β α^{\\dagger} + γ δ^{\\dagger} + δ γ^{\\dagger} + i \\left(i α β^{\\dagger} - i β α^{\\dagger} - i γ δ^{\\dagger} + i δ γ^{\\dagger}\\right)\\\\2 α δ^{\\dagger} + 2 δ α^{\\dagger} + i \\left(i α δ^{\\dagger} - i β γ^{\\dagger} + i γ β^{\\dagger} - i δ α^{\\dagger}\\right) + i \\left(i α δ^{\\dagger} + i β γ^{\\dagger} - i γ β^{\\dagger} - i δ α^{\\dagger}\\right) & - α γ^{\\dagger} + β δ^{\\dagger} - γ α^{\\dagger} + δ β^{\\dagger} - i \\left(i α γ^{\\dagger} - i β δ^{\\dagger} - i γ α^{\\dagger} + i δ β^{\\dagger}\\right) & - α β^{\\dagger} - β α^{\\dagger} + γ δ^{\\dagger} + δ γ^{\\dagger} - i \\left(i α β^{\\dagger} - i β α^{\\dagger} - i γ δ^{\\dagger} + i δ γ^{\\dagger}\\right) & α α^{\\dagger} - β β^{\\dagger} - γ γ^{\\dagger} + δ δ^{\\dagger}\\end{matrix}\\right]$"
      ],
      "text/plain": [
       "Matrix([\n",
       "[                                                                                                                α*Dagger(α) - β*Dagger(β) - γ*Dagger(γ) + δ*Dagger(δ),                                             α*Dagger(β) + β*Dagger(α) - γ*Dagger(δ) - δ*Dagger(γ) - I*(I*α*Dagger(β) - I*β*Dagger(α) - I*γ*Dagger(δ) + I*δ*Dagger(γ)),                                             α*Dagger(γ) - β*Dagger(δ) + γ*Dagger(α) - δ*Dagger(β) - I*(I*α*Dagger(γ) - I*β*Dagger(δ) - I*γ*Dagger(α) + I*δ*Dagger(β)), 2*α*Dagger(δ) + 2*δ*Dagger(α) - I*(I*α*Dagger(δ) - I*β*Dagger(γ) + I*γ*Dagger(β) - I*δ*Dagger(α)) - I*(I*α*Dagger(δ) + I*β*Dagger(γ) - I*γ*Dagger(β) - I*δ*Dagger(α))],\n",
       "[                                            α*Dagger(β) + β*Dagger(α) - γ*Dagger(δ) - δ*Dagger(γ) + I*(I*α*Dagger(β) - I*β*Dagger(α) - I*γ*Dagger(δ) + I*δ*Dagger(γ)),                                                                                                                -α*Dagger(α) + β*Dagger(β) + γ*Dagger(γ) - δ*Dagger(δ), 2*β*Dagger(γ) + 2*γ*Dagger(β) + I*(I*α*Dagger(δ) - I*β*Dagger(γ) + I*γ*Dagger(β) - I*δ*Dagger(α)) - I*(I*α*Dagger(δ) + I*β*Dagger(γ) - I*γ*Dagger(β) - I*δ*Dagger(α)),                                            -α*Dagger(γ) + β*Dagger(δ) - γ*Dagger(α) + δ*Dagger(β) + I*(I*α*Dagger(γ) - I*β*Dagger(δ) - I*γ*Dagger(α) + I*δ*Dagger(β))],\n",
       "[                                            α*Dagger(γ) - β*Dagger(δ) + γ*Dagger(α) - δ*Dagger(β) + I*(I*α*Dagger(γ) - I*β*Dagger(δ) - I*γ*Dagger(α) + I*δ*Dagger(β)), 2*β*Dagger(γ) + 2*γ*Dagger(β) - I*(I*α*Dagger(δ) - I*β*Dagger(γ) + I*γ*Dagger(β) - I*δ*Dagger(α)) + I*(I*α*Dagger(δ) + I*β*Dagger(γ) - I*γ*Dagger(β) - I*δ*Dagger(α)),                                                                                                                -α*Dagger(α) + β*Dagger(β) + γ*Dagger(γ) - δ*Dagger(δ),                                            -α*Dagger(β) - β*Dagger(α) + γ*Dagger(δ) + δ*Dagger(γ) + I*(I*α*Dagger(β) - I*β*Dagger(α) - I*γ*Dagger(δ) + I*δ*Dagger(γ))],\n",
       "[2*α*Dagger(δ) + 2*δ*Dagger(α) + I*(I*α*Dagger(δ) - I*β*Dagger(γ) + I*γ*Dagger(β) - I*δ*Dagger(α)) + I*(I*α*Dagger(δ) + I*β*Dagger(γ) - I*γ*Dagger(β) - I*δ*Dagger(α)),                                            -α*Dagger(γ) + β*Dagger(δ) - γ*Dagger(α) + δ*Dagger(β) - I*(I*α*Dagger(γ) - I*β*Dagger(δ) - I*γ*Dagger(α) + I*δ*Dagger(β)),                                            -α*Dagger(β) - β*Dagger(α) + γ*Dagger(δ) + δ*Dagger(γ) - I*(I*α*Dagger(β) - I*β*Dagger(α) - I*γ*Dagger(δ) + I*δ*Dagger(γ)),                                                                                                                 α*Dagger(α) - β*Dagger(β) - γ*Dagger(γ) + δ*Dagger(δ)]])"
      ]
     },
     "execution_count": 42,
     "metadata": {},
     "output_type": "execute_result"
    }
   ],
   "source": [
    "rho_bell_basis += bchsh_sum_correlations\n",
    "bchsh_sum_correlations"
   ]
  },
  {
   "cell_type": "code",
   "execution_count": 43,
   "id": "fee3a86b-33c8-47e2-8c40-79d979033326",
   "metadata": {},
   "outputs": [
    {
     "data": {
      "text/latex": [
       "$\\displaystyle \\left[\\begin{matrix}rz + sz + α α^{\\dagger} - β β^{\\dagger} - γ γ^{\\dagger} + δ δ^{\\dagger} + 1 & sx - i sy + α β^{\\dagger} + β α^{\\dagger} - γ δ^{\\dagger} - δ γ^{\\dagger} - i \\left(i α β^{\\dagger} - i β α^{\\dagger} - i γ δ^{\\dagger} + i δ γ^{\\dagger}\\right) & rx - i ry + α γ^{\\dagger} - β δ^{\\dagger} + γ α^{\\dagger} - δ β^{\\dagger} - i \\left(i α γ^{\\dagger} - i β δ^{\\dagger} - i γ α^{\\dagger} + i δ β^{\\dagger}\\right) & 2 α δ^{\\dagger} + 2 δ α^{\\dagger} - i \\left(i α δ^{\\dagger} - i β γ^{\\dagger} + i γ β^{\\dagger} - i δ α^{\\dagger}\\right) - i \\left(i α δ^{\\dagger} + i β γ^{\\dagger} - i γ β^{\\dagger} - i δ α^{\\dagger}\\right)\\\\sx + i sy + α β^{\\dagger} + β α^{\\dagger} - γ δ^{\\dagger} - δ γ^{\\dagger} + i \\left(i α β^{\\dagger} - i β α^{\\dagger} - i γ δ^{\\dagger} + i δ γ^{\\dagger}\\right) & rz - sz - α α^{\\dagger} + β β^{\\dagger} + γ γ^{\\dagger} - δ δ^{\\dagger} + 1 & 2 β γ^{\\dagger} + 2 γ β^{\\dagger} + i \\left(i α δ^{\\dagger} - i β γ^{\\dagger} + i γ β^{\\dagger} - i δ α^{\\dagger}\\right) - i \\left(i α δ^{\\dagger} + i β γ^{\\dagger} - i γ β^{\\dagger} - i δ α^{\\dagger}\\right) & rx - i ry - α γ^{\\dagger} + β δ^{\\dagger} - γ α^{\\dagger} + δ β^{\\dagger} + i \\left(i α γ^{\\dagger} - i β δ^{\\dagger} - i γ α^{\\dagger} + i δ β^{\\dagger}\\right)\\\\rx + i ry + α γ^{\\dagger} - β δ^{\\dagger} + γ α^{\\dagger} - δ β^{\\dagger} + i \\left(i α γ^{\\dagger} - i β δ^{\\dagger} - i γ α^{\\dagger} + i δ β^{\\dagger}\\right) & 2 β γ^{\\dagger} + 2 γ β^{\\dagger} - i \\left(i α δ^{\\dagger} - i β γ^{\\dagger} + i γ β^{\\dagger} - i δ α^{\\dagger}\\right) + i \\left(i α δ^{\\dagger} + i β γ^{\\dagger} - i γ β^{\\dagger} - i δ α^{\\dagger}\\right) & - rz + sz - α α^{\\dagger} + β β^{\\dagger} + γ γ^{\\dagger} - δ δ^{\\dagger} + 1 & sx - i sy - α β^{\\dagger} - β α^{\\dagger} + γ δ^{\\dagger} + δ γ^{\\dagger} + i \\left(i α β^{\\dagger} - i β α^{\\dagger} - i γ δ^{\\dagger} + i δ γ^{\\dagger}\\right)\\\\2 α δ^{\\dagger} + 2 δ α^{\\dagger} + i \\left(i α δ^{\\dagger} - i β γ^{\\dagger} + i γ β^{\\dagger} - i δ α^{\\dagger}\\right) + i \\left(i α δ^{\\dagger} + i β γ^{\\dagger} - i γ β^{\\dagger} - i δ α^{\\dagger}\\right) & rx + i ry - α γ^{\\dagger} + β δ^{\\dagger} - γ α^{\\dagger} + δ β^{\\dagger} - i \\left(i α γ^{\\dagger} - i β δ^{\\dagger} - i γ α^{\\dagger} + i δ β^{\\dagger}\\right) & sx + i sy - α β^{\\dagger} - β α^{\\dagger} + γ δ^{\\dagger} + δ γ^{\\dagger} - i \\left(i α β^{\\dagger} - i β α^{\\dagger} - i γ δ^{\\dagger} + i δ γ^{\\dagger}\\right) & - rz - sz + α α^{\\dagger} - β β^{\\dagger} - γ γ^{\\dagger} + δ δ^{\\dagger} + 1\\end{matrix}\\right]$"
      ],
      "text/plain": [
       "Matrix([\n",
       "[                                                                                                  rz + sz + α*Dagger(α) - β*Dagger(β) - γ*Dagger(γ) + δ*Dagger(δ) + 1,                                 sx - I*sy + α*Dagger(β) + β*Dagger(α) - γ*Dagger(δ) - δ*Dagger(γ) - I*(I*α*Dagger(β) - I*β*Dagger(α) - I*γ*Dagger(δ) + I*δ*Dagger(γ)),                                 rx - I*ry + α*Dagger(γ) - β*Dagger(δ) + γ*Dagger(α) - δ*Dagger(β) - I*(I*α*Dagger(γ) - I*β*Dagger(δ) - I*γ*Dagger(α) + I*δ*Dagger(β)), 2*α*Dagger(δ) + 2*δ*Dagger(α) - I*(I*α*Dagger(δ) - I*β*Dagger(γ) + I*γ*Dagger(β) - I*δ*Dagger(α)) - I*(I*α*Dagger(δ) + I*β*Dagger(γ) - I*γ*Dagger(β) - I*δ*Dagger(α))],\n",
       "[                                sx + I*sy + α*Dagger(β) + β*Dagger(α) - γ*Dagger(δ) - δ*Dagger(γ) + I*(I*α*Dagger(β) - I*β*Dagger(α) - I*γ*Dagger(δ) + I*δ*Dagger(γ)),                                                                                                   rz - sz - α*Dagger(α) + β*Dagger(β) + γ*Dagger(γ) - δ*Dagger(δ) + 1, 2*β*Dagger(γ) + 2*γ*Dagger(β) + I*(I*α*Dagger(δ) - I*β*Dagger(γ) + I*γ*Dagger(β) - I*δ*Dagger(α)) - I*(I*α*Dagger(δ) + I*β*Dagger(γ) - I*γ*Dagger(β) - I*δ*Dagger(α)),                                 rx - I*ry - α*Dagger(γ) + β*Dagger(δ) - γ*Dagger(α) + δ*Dagger(β) + I*(I*α*Dagger(γ) - I*β*Dagger(δ) - I*γ*Dagger(α) + I*δ*Dagger(β))],\n",
       "[                                rx + I*ry + α*Dagger(γ) - β*Dagger(δ) + γ*Dagger(α) - δ*Dagger(β) + I*(I*α*Dagger(γ) - I*β*Dagger(δ) - I*γ*Dagger(α) + I*δ*Dagger(β)), 2*β*Dagger(γ) + 2*γ*Dagger(β) - I*(I*α*Dagger(δ) - I*β*Dagger(γ) + I*γ*Dagger(β) - I*δ*Dagger(α)) + I*(I*α*Dagger(δ) + I*β*Dagger(γ) - I*γ*Dagger(β) - I*δ*Dagger(α)),                                                                                                  -rz + sz - α*Dagger(α) + β*Dagger(β) + γ*Dagger(γ) - δ*Dagger(δ) + 1,                                 sx - I*sy - α*Dagger(β) - β*Dagger(α) + γ*Dagger(δ) + δ*Dagger(γ) + I*(I*α*Dagger(β) - I*β*Dagger(α) - I*γ*Dagger(δ) + I*δ*Dagger(γ))],\n",
       "[2*α*Dagger(δ) + 2*δ*Dagger(α) + I*(I*α*Dagger(δ) - I*β*Dagger(γ) + I*γ*Dagger(β) - I*δ*Dagger(α)) + I*(I*α*Dagger(δ) + I*β*Dagger(γ) - I*γ*Dagger(β) - I*δ*Dagger(α)),                                 rx + I*ry - α*Dagger(γ) + β*Dagger(δ) - γ*Dagger(α) + δ*Dagger(β) - I*(I*α*Dagger(γ) - I*β*Dagger(δ) - I*γ*Dagger(α) + I*δ*Dagger(β)),                                 sx + I*sy - α*Dagger(β) - β*Dagger(α) + γ*Dagger(δ) + δ*Dagger(γ) - I*(I*α*Dagger(β) - I*β*Dagger(α) - I*γ*Dagger(δ) + I*δ*Dagger(γ)),                                                                                                  -rz - sz + α*Dagger(α) - β*Dagger(β) - γ*Dagger(γ) + δ*Dagger(δ) + 1]])"
      ]
     },
     "execution_count": 43,
     "metadata": {},
     "output_type": "execute_result"
    }
   ],
   "source": [
    "rho_bell_basis"
   ]
  },
  {
   "cell_type": "code",
   "execution_count": 44,
   "id": "9e2877f6-c22b-47bd-9589-9b75cb27ab90",
   "metadata": {},
   "outputs": [
    {
     "data": {
      "text/latex": [
       "$\\displaystyle \\left[\\begin{matrix}\\left(rx - i ry + α γ^{\\dagger} - β δ^{\\dagger} + γ α^{\\dagger} - δ β^{\\dagger} - i \\left(i α γ^{\\dagger} - i β δ^{\\dagger} - i γ α^{\\dagger} + i δ β^{\\dagger}\\right)\\right)^{2} + \\left(rx + i ry + α γ^{\\dagger} - β δ^{\\dagger} + γ α^{\\dagger} - δ β^{\\dagger} + i \\left(i α γ^{\\dagger} - i β δ^{\\dagger} - i γ α^{\\dagger} + i δ β^{\\dagger}\\right)\\right)^{2} + \\left(- rz + sz - α α^{\\dagger} + β β^{\\dagger} + γ γ^{\\dagger} - δ δ^{\\dagger} + 1\\right)^{2} + \\left(rz + sz + α α^{\\dagger} - β β^{\\dagger} - γ γ^{\\dagger} + δ δ^{\\dagger} + 1\\right)^{2} & \\left(2 α δ^{\\dagger} + 2 δ α^{\\dagger} - i \\left(i α δ^{\\dagger} - i β γ^{\\dagger} + i γ β^{\\dagger} - i δ α^{\\dagger}\\right) - i \\left(i α δ^{\\dagger} + i β γ^{\\dagger} - i γ β^{\\dagger} - i δ α^{\\dagger}\\right)\\right) \\left(rx - i ry + α γ^{\\dagger} - β δ^{\\dagger} + γ α^{\\dagger} - δ β^{\\dagger} - i \\left(i α γ^{\\dagger} - i β δ^{\\dagger} - i γ α^{\\dagger} + i δ β^{\\dagger}\\right)\\right) + \\left(2 β γ^{\\dagger} + 2 γ β^{\\dagger} - i \\left(i α δ^{\\dagger} - i β γ^{\\dagger} + i γ β^{\\dagger} - i δ α^{\\dagger}\\right) + i \\left(i α δ^{\\dagger} + i β γ^{\\dagger} - i γ β^{\\dagger} - i δ α^{\\dagger}\\right)\\right) \\left(rx + i ry + α γ^{\\dagger} - β δ^{\\dagger} + γ α^{\\dagger} - δ β^{\\dagger} + i \\left(i α γ^{\\dagger} - i β δ^{\\dagger} - i γ α^{\\dagger} + i δ β^{\\dagger}\\right)\\right) + \\left(- rz + sz - α α^{\\dagger} + β β^{\\dagger} + γ γ^{\\dagger} - δ δ^{\\dagger} + 1\\right) \\left(sx - i sy - α β^{\\dagger} - β α^{\\dagger} + γ δ^{\\dagger} + δ γ^{\\dagger} + i \\left(i α β^{\\dagger} - i β α^{\\dagger} - i γ δ^{\\dagger} + i δ γ^{\\dagger}\\right)\\right) + \\left(rz + sz + α α^{\\dagger} - β β^{\\dagger} - γ γ^{\\dagger} + δ δ^{\\dagger} + 1\\right) \\left(sx - i sy + α β^{\\dagger} + β α^{\\dagger} - γ δ^{\\dagger} - δ γ^{\\dagger} - i \\left(i α β^{\\dagger} - i β α^{\\dagger} - i γ δ^{\\dagger} + i δ γ^{\\dagger}\\right)\\right) & \\left(2 α δ^{\\dagger} + 2 δ α^{\\dagger} + i \\left(i α δ^{\\dagger} - i β γ^{\\dagger} + i γ β^{\\dagger} - i δ α^{\\dagger}\\right) + i \\left(i α δ^{\\dagger} + i β γ^{\\dagger} - i γ β^{\\dagger} - i δ α^{\\dagger}\\right)\\right) \\left(rx + i ry + α γ^{\\dagger} - β δ^{\\dagger} + γ α^{\\dagger} - δ β^{\\dagger} + i \\left(i α γ^{\\dagger} - i β δ^{\\dagger} - i γ α^{\\dagger} + i δ β^{\\dagger}\\right)\\right) + \\left(2 β γ^{\\dagger} + 2 γ β^{\\dagger} + i \\left(i α δ^{\\dagger} - i β γ^{\\dagger} + i γ β^{\\dagger} - i δ α^{\\dagger}\\right) - i \\left(i α δ^{\\dagger} + i β γ^{\\dagger} - i γ β^{\\dagger} - i δ α^{\\dagger}\\right)\\right) \\left(rx - i ry + α γ^{\\dagger} - β δ^{\\dagger} + γ α^{\\dagger} - δ β^{\\dagger} - i \\left(i α γ^{\\dagger} - i β δ^{\\dagger} - i γ α^{\\dagger} + i δ β^{\\dagger}\\right)\\right) + \\left(- rz + sz - α α^{\\dagger} + β β^{\\dagger} + γ γ^{\\dagger} - δ δ^{\\dagger} + 1\\right) \\left(sx + i sy - α β^{\\dagger} - β α^{\\dagger} + γ δ^{\\dagger} + δ γ^{\\dagger} - i \\left(i α β^{\\dagger} - i β α^{\\dagger} - i γ δ^{\\dagger} + i δ γ^{\\dagger}\\right)\\right) + \\left(rz + sz + α α^{\\dagger} - β β^{\\dagger} - γ γ^{\\dagger} + δ δ^{\\dagger} + 1\\right) \\left(sx + i sy + α β^{\\dagger} + β α^{\\dagger} - γ δ^{\\dagger} - δ γ^{\\dagger} + i \\left(i α β^{\\dagger} - i β α^{\\dagger} - i γ δ^{\\dagger} + i δ γ^{\\dagger}\\right)\\right) & \\left(rx - i ry - α γ^{\\dagger} + β δ^{\\dagger} - γ α^{\\dagger} + δ β^{\\dagger} + i \\left(i α γ^{\\dagger} - i β δ^{\\dagger} - i γ α^{\\dagger} + i δ β^{\\dagger}\\right)\\right) \\left(rx - i ry + α γ^{\\dagger} - β δ^{\\dagger} + γ α^{\\dagger} - δ β^{\\dagger} - i \\left(i α γ^{\\dagger} - i β δ^{\\dagger} - i γ α^{\\dagger} + i δ β^{\\dagger}\\right)\\right) + \\left(rx + i ry - α γ^{\\dagger} + β δ^{\\dagger} - γ α^{\\dagger} + δ β^{\\dagger} - i \\left(i α γ^{\\dagger} - i β δ^{\\dagger} - i γ α^{\\dagger} + i δ β^{\\dagger}\\right)\\right) \\left(rx + i ry + α γ^{\\dagger} - β δ^{\\dagger} + γ α^{\\dagger} - δ β^{\\dagger} + i \\left(i α γ^{\\dagger} - i β δ^{\\dagger} - i γ α^{\\dagger} + i δ β^{\\dagger}\\right)\\right) + \\left(- rz - sz + α α^{\\dagger} - β β^{\\dagger} - γ γ^{\\dagger} + δ δ^{\\dagger} + 1\\right) \\left(- rz + sz - α α^{\\dagger} + β β^{\\dagger} + γ γ^{\\dagger} - δ δ^{\\dagger} + 1\\right) + \\left(rz - sz - α α^{\\dagger} + β β^{\\dagger} + γ γ^{\\dagger} - δ δ^{\\dagger} + 1\\right) \\left(rz + sz + α α^{\\dagger} - β β^{\\dagger} - γ γ^{\\dagger} + δ δ^{\\dagger} + 1\\right)\\\\\\left(2 α δ^{\\dagger} + 2 δ α^{\\dagger} - i \\left(i α δ^{\\dagger} - i β γ^{\\dagger} + i γ β^{\\dagger} - i δ α^{\\dagger}\\right) - i \\left(i α δ^{\\dagger} + i β γ^{\\dagger} - i γ β^{\\dagger} - i δ α^{\\dagger}\\right)\\right) \\left(rx - i ry + α γ^{\\dagger} - β δ^{\\dagger} + γ α^{\\dagger} - δ β^{\\dagger} - i \\left(i α γ^{\\dagger} - i β δ^{\\dagger} - i γ α^{\\dagger} + i δ β^{\\dagger}\\right)\\right) + \\left(2 β γ^{\\dagger} + 2 γ β^{\\dagger} - i \\left(i α δ^{\\dagger} - i β γ^{\\dagger} + i γ β^{\\dagger} - i δ α^{\\dagger}\\right) + i \\left(i α δ^{\\dagger} + i β γ^{\\dagger} - i γ β^{\\dagger} - i δ α^{\\dagger}\\right)\\right) \\left(rx + i ry + α γ^{\\dagger} - β δ^{\\dagger} + γ α^{\\dagger} - δ β^{\\dagger} + i \\left(i α γ^{\\dagger} - i β δ^{\\dagger} - i γ α^{\\dagger} + i δ β^{\\dagger}\\right)\\right) + \\left(- rz + sz - α α^{\\dagger} + β β^{\\dagger} + γ γ^{\\dagger} - δ δ^{\\dagger} + 1\\right) \\left(sx - i sy - α β^{\\dagger} - β α^{\\dagger} + γ δ^{\\dagger} + δ γ^{\\dagger} + i \\left(i α β^{\\dagger} - i β α^{\\dagger} - i γ δ^{\\dagger} + i δ γ^{\\dagger}\\right)\\right) + \\left(rz + sz + α α^{\\dagger} - β β^{\\dagger} - γ γ^{\\dagger} + δ δ^{\\dagger} + 1\\right) \\left(sx - i sy + α β^{\\dagger} + β α^{\\dagger} - γ δ^{\\dagger} - δ γ^{\\dagger} - i \\left(i α β^{\\dagger} - i β α^{\\dagger} - i γ δ^{\\dagger} + i δ γ^{\\dagger}\\right)\\right) & \\left(2 α δ^{\\dagger} + 2 δ α^{\\dagger} - i \\left(i α δ^{\\dagger} - i β γ^{\\dagger} + i γ β^{\\dagger} - i δ α^{\\dagger}\\right) - i \\left(i α δ^{\\dagger} + i β γ^{\\dagger} - i γ β^{\\dagger} - i δ α^{\\dagger}\\right)\\right)^{2} + \\left(2 β γ^{\\dagger} + 2 γ β^{\\dagger} - i \\left(i α δ^{\\dagger} - i β γ^{\\dagger} + i γ β^{\\dagger} - i δ α^{\\dagger}\\right) + i \\left(i α δ^{\\dagger} + i β γ^{\\dagger} - i γ β^{\\dagger} - i δ α^{\\dagger}\\right)\\right)^{2} + \\left(sx - i sy - α β^{\\dagger} - β α^{\\dagger} + γ δ^{\\dagger} + δ γ^{\\dagger} + i \\left(i α β^{\\dagger} - i β α^{\\dagger} - i γ δ^{\\dagger} + i δ γ^{\\dagger}\\right)\\right)^{2} + \\left(sx - i sy + α β^{\\dagger} + β α^{\\dagger} - γ δ^{\\dagger} - δ γ^{\\dagger} - i \\left(i α β^{\\dagger} - i β α^{\\dagger} - i γ δ^{\\dagger} + i δ γ^{\\dagger}\\right)\\right)^{2} & \\left(2 α δ^{\\dagger} + 2 δ α^{\\dagger} - i \\left(i α δ^{\\dagger} - i β γ^{\\dagger} + i γ β^{\\dagger} - i δ α^{\\dagger}\\right) - i \\left(i α δ^{\\dagger} + i β γ^{\\dagger} - i γ β^{\\dagger} - i δ α^{\\dagger}\\right)\\right) \\left(2 β γ^{\\dagger} + 2 γ β^{\\dagger} + i \\left(i α δ^{\\dagger} - i β γ^{\\dagger} + i γ β^{\\dagger} - i δ α^{\\dagger}\\right) - i \\left(i α δ^{\\dagger} + i β γ^{\\dagger} - i γ β^{\\dagger} - i δ α^{\\dagger}\\right)\\right) + \\left(2 α δ^{\\dagger} + 2 δ α^{\\dagger} + i \\left(i α δ^{\\dagger} - i β γ^{\\dagger} + i γ β^{\\dagger} - i δ α^{\\dagger}\\right) + i \\left(i α δ^{\\dagger} + i β γ^{\\dagger} - i γ β^{\\dagger} - i δ α^{\\dagger}\\right)\\right) \\left(2 β γ^{\\dagger} + 2 γ β^{\\dagger} - i \\left(i α δ^{\\dagger} - i β γ^{\\dagger} + i γ β^{\\dagger} - i δ α^{\\dagger}\\right) + i \\left(i α δ^{\\dagger} + i β γ^{\\dagger} - i γ β^{\\dagger} - i δ α^{\\dagger}\\right)\\right) + \\left(sx - i sy - α β^{\\dagger} - β α^{\\dagger} + γ δ^{\\dagger} + δ γ^{\\dagger} + i \\left(i α β^{\\dagger} - i β α^{\\dagger} - i γ δ^{\\dagger} + i δ γ^{\\dagger}\\right)\\right) \\left(sx + i sy - α β^{\\dagger} - β α^{\\dagger} + γ δ^{\\dagger} + δ γ^{\\dagger} - i \\left(i α β^{\\dagger} - i β α^{\\dagger} - i γ δ^{\\dagger} + i δ γ^{\\dagger}\\right)\\right) + \\left(sx - i sy + α β^{\\dagger} + β α^{\\dagger} - γ δ^{\\dagger} - δ γ^{\\dagger} - i \\left(i α β^{\\dagger} - i β α^{\\dagger} - i γ δ^{\\dagger} + i δ γ^{\\dagger}\\right)\\right) \\left(sx + i sy + α β^{\\dagger} + β α^{\\dagger} - γ δ^{\\dagger} - δ γ^{\\dagger} + i \\left(i α β^{\\dagger} - i β α^{\\dagger} - i γ δ^{\\dagger} + i δ γ^{\\dagger}\\right)\\right) & \\left(2 α δ^{\\dagger} + 2 δ α^{\\dagger} - i \\left(i α δ^{\\dagger} - i β γ^{\\dagger} + i γ β^{\\dagger} - i δ α^{\\dagger}\\right) - i \\left(i α δ^{\\dagger} + i β γ^{\\dagger} - i γ β^{\\dagger} - i δ α^{\\dagger}\\right)\\right) \\left(rx - i ry - α γ^{\\dagger} + β δ^{\\dagger} - γ α^{\\dagger} + δ β^{\\dagger} + i \\left(i α γ^{\\dagger} - i β δ^{\\dagger} - i γ α^{\\dagger} + i δ β^{\\dagger}\\right)\\right) + \\left(2 β γ^{\\dagger} + 2 γ β^{\\dagger} - i \\left(i α δ^{\\dagger} - i β γ^{\\dagger} + i γ β^{\\dagger} - i δ α^{\\dagger}\\right) + i \\left(i α δ^{\\dagger} + i β γ^{\\dagger} - i γ β^{\\dagger} - i δ α^{\\dagger}\\right)\\right) \\left(rx + i ry - α γ^{\\dagger} + β δ^{\\dagger} - γ α^{\\dagger} + δ β^{\\dagger} - i \\left(i α γ^{\\dagger} - i β δ^{\\dagger} - i γ α^{\\dagger} + i δ β^{\\dagger}\\right)\\right) + \\left(- rz - sz + α α^{\\dagger} - β β^{\\dagger} - γ γ^{\\dagger} + δ δ^{\\dagger} + 1\\right) \\left(sx - i sy - α β^{\\dagger} - β α^{\\dagger} + γ δ^{\\dagger} + δ γ^{\\dagger} + i \\left(i α β^{\\dagger} - i β α^{\\dagger} - i γ δ^{\\dagger} + i δ γ^{\\dagger}\\right)\\right) + \\left(rz - sz - α α^{\\dagger} + β β^{\\dagger} + γ γ^{\\dagger} - δ δ^{\\dagger} + 1\\right) \\left(sx - i sy + α β^{\\dagger} + β α^{\\dagger} - γ δ^{\\dagger} - δ γ^{\\dagger} - i \\left(i α β^{\\dagger} - i β α^{\\dagger} - i γ δ^{\\dagger} + i δ γ^{\\dagger}\\right)\\right)\\\\\\left(2 α δ^{\\dagger} + 2 δ α^{\\dagger} + i \\left(i α δ^{\\dagger} - i β γ^{\\dagger} + i γ β^{\\dagger} - i δ α^{\\dagger}\\right) + i \\left(i α δ^{\\dagger} + i β γ^{\\dagger} - i γ β^{\\dagger} - i δ α^{\\dagger}\\right)\\right) \\left(rx + i ry + α γ^{\\dagger} - β δ^{\\dagger} + γ α^{\\dagger} - δ β^{\\dagger} + i \\left(i α γ^{\\dagger} - i β δ^{\\dagger} - i γ α^{\\dagger} + i δ β^{\\dagger}\\right)\\right) + \\left(2 β γ^{\\dagger} + 2 γ β^{\\dagger} + i \\left(i α δ^{\\dagger} - i β γ^{\\dagger} + i γ β^{\\dagger} - i δ α^{\\dagger}\\right) - i \\left(i α δ^{\\dagger} + i β γ^{\\dagger} - i γ β^{\\dagger} - i δ α^{\\dagger}\\right)\\right) \\left(rx - i ry + α γ^{\\dagger} - β δ^{\\dagger} + γ α^{\\dagger} - δ β^{\\dagger} - i \\left(i α γ^{\\dagger} - i β δ^{\\dagger} - i γ α^{\\dagger} + i δ β^{\\dagger}\\right)\\right) + \\left(- rz + sz - α α^{\\dagger} + β β^{\\dagger} + γ γ^{\\dagger} - δ δ^{\\dagger} + 1\\right) \\left(sx + i sy - α β^{\\dagger} - β α^{\\dagger} + γ δ^{\\dagger} + δ γ^{\\dagger} - i \\left(i α β^{\\dagger} - i β α^{\\dagger} - i γ δ^{\\dagger} + i δ γ^{\\dagger}\\right)\\right) + \\left(rz + sz + α α^{\\dagger} - β β^{\\dagger} - γ γ^{\\dagger} + δ δ^{\\dagger} + 1\\right) \\left(sx + i sy + α β^{\\dagger} + β α^{\\dagger} - γ δ^{\\dagger} - δ γ^{\\dagger} + i \\left(i α β^{\\dagger} - i β α^{\\dagger} - i γ δ^{\\dagger} + i δ γ^{\\dagger}\\right)\\right) & \\left(2 α δ^{\\dagger} + 2 δ α^{\\dagger} - i \\left(i α δ^{\\dagger} - i β γ^{\\dagger} + i γ β^{\\dagger} - i δ α^{\\dagger}\\right) - i \\left(i α δ^{\\dagger} + i β γ^{\\dagger} - i γ β^{\\dagger} - i δ α^{\\dagger}\\right)\\right) \\left(2 β γ^{\\dagger} + 2 γ β^{\\dagger} + i \\left(i α δ^{\\dagger} - i β γ^{\\dagger} + i γ β^{\\dagger} - i δ α^{\\dagger}\\right) - i \\left(i α δ^{\\dagger} + i β γ^{\\dagger} - i γ β^{\\dagger} - i δ α^{\\dagger}\\right)\\right) + \\left(2 α δ^{\\dagger} + 2 δ α^{\\dagger} + i \\left(i α δ^{\\dagger} - i β γ^{\\dagger} + i γ β^{\\dagger} - i δ α^{\\dagger}\\right) + i \\left(i α δ^{\\dagger} + i β γ^{\\dagger} - i γ β^{\\dagger} - i δ α^{\\dagger}\\right)\\right) \\left(2 β γ^{\\dagger} + 2 γ β^{\\dagger} - i \\left(i α δ^{\\dagger} - i β γ^{\\dagger} + i γ β^{\\dagger} - i δ α^{\\dagger}\\right) + i \\left(i α δ^{\\dagger} + i β γ^{\\dagger} - i γ β^{\\dagger} - i δ α^{\\dagger}\\right)\\right) + \\left(sx - i sy - α β^{\\dagger} - β α^{\\dagger} + γ δ^{\\dagger} + δ γ^{\\dagger} + i \\left(i α β^{\\dagger} - i β α^{\\dagger} - i γ δ^{\\dagger} + i δ γ^{\\dagger}\\right)\\right) \\left(sx + i sy - α β^{\\dagger} - β α^{\\dagger} + γ δ^{\\dagger} + δ γ^{\\dagger} - i \\left(i α β^{\\dagger} - i β α^{\\dagger} - i γ δ^{\\dagger} + i δ γ^{\\dagger}\\right)\\right) + \\left(sx - i sy + α β^{\\dagger} + β α^{\\dagger} - γ δ^{\\dagger} - δ γ^{\\dagger} - i \\left(i α β^{\\dagger} - i β α^{\\dagger} - i γ δ^{\\dagger} + i δ γ^{\\dagger}\\right)\\right) \\left(sx + i sy + α β^{\\dagger} + β α^{\\dagger} - γ δ^{\\dagger} - δ γ^{\\dagger} + i \\left(i α β^{\\dagger} - i β α^{\\dagger} - i γ δ^{\\dagger} + i δ γ^{\\dagger}\\right)\\right) & \\left(2 α δ^{\\dagger} + 2 δ α^{\\dagger} + i \\left(i α δ^{\\dagger} - i β γ^{\\dagger} + i γ β^{\\dagger} - i δ α^{\\dagger}\\right) + i \\left(i α δ^{\\dagger} + i β γ^{\\dagger} - i γ β^{\\dagger} - i δ α^{\\dagger}\\right)\\right)^{2} + \\left(2 β γ^{\\dagger} + 2 γ β^{\\dagger} + i \\left(i α δ^{\\dagger} - i β γ^{\\dagger} + i γ β^{\\dagger} - i δ α^{\\dagger}\\right) - i \\left(i α δ^{\\dagger} + i β γ^{\\dagger} - i γ β^{\\dagger} - i δ α^{\\dagger}\\right)\\right)^{2} + \\left(sx + i sy - α β^{\\dagger} - β α^{\\dagger} + γ δ^{\\dagger} + δ γ^{\\dagger} - i \\left(i α β^{\\dagger} - i β α^{\\dagger} - i γ δ^{\\dagger} + i δ γ^{\\dagger}\\right)\\right)^{2} + \\left(sx + i sy + α β^{\\dagger} + β α^{\\dagger} - γ δ^{\\dagger} - δ γ^{\\dagger} + i \\left(i α β^{\\dagger} - i β α^{\\dagger} - i γ δ^{\\dagger} + i δ γ^{\\dagger}\\right)\\right)^{2} & \\left(2 α δ^{\\dagger} + 2 δ α^{\\dagger} + i \\left(i α δ^{\\dagger} - i β γ^{\\dagger} + i γ β^{\\dagger} - i δ α^{\\dagger}\\right) + i \\left(i α δ^{\\dagger} + i β γ^{\\dagger} - i γ β^{\\dagger} - i δ α^{\\dagger}\\right)\\right) \\left(rx + i ry - α γ^{\\dagger} + β δ^{\\dagger} - γ α^{\\dagger} + δ β^{\\dagger} - i \\left(i α γ^{\\dagger} - i β δ^{\\dagger} - i γ α^{\\dagger} + i δ β^{\\dagger}\\right)\\right) + \\left(2 β γ^{\\dagger} + 2 γ β^{\\dagger} + i \\left(i α δ^{\\dagger} - i β γ^{\\dagger} + i γ β^{\\dagger} - i δ α^{\\dagger}\\right) - i \\left(i α δ^{\\dagger} + i β γ^{\\dagger} - i γ β^{\\dagger} - i δ α^{\\dagger}\\right)\\right) \\left(rx - i ry - α γ^{\\dagger} + β δ^{\\dagger} - γ α^{\\dagger} + δ β^{\\dagger} + i \\left(i α γ^{\\dagger} - i β δ^{\\dagger} - i γ α^{\\dagger} + i δ β^{\\dagger}\\right)\\right) + \\left(- rz - sz + α α^{\\dagger} - β β^{\\dagger} - γ γ^{\\dagger} + δ δ^{\\dagger} + 1\\right) \\left(sx + i sy - α β^{\\dagger} - β α^{\\dagger} + γ δ^{\\dagger} + δ γ^{\\dagger} - i \\left(i α β^{\\dagger} - i β α^{\\dagger} - i γ δ^{\\dagger} + i δ γ^{\\dagger}\\right)\\right) + \\left(rz - sz - α α^{\\dagger} + β β^{\\dagger} + γ γ^{\\dagger} - δ δ^{\\dagger} + 1\\right) \\left(sx + i sy + α β^{\\dagger} + β α^{\\dagger} - γ δ^{\\dagger} - δ γ^{\\dagger} + i \\left(i α β^{\\dagger} - i β α^{\\dagger} - i γ δ^{\\dagger} + i δ γ^{\\dagger}\\right)\\right)\\\\\\left(rx - i ry - α γ^{\\dagger} + β δ^{\\dagger} - γ α^{\\dagger} + δ β^{\\dagger} + i \\left(i α γ^{\\dagger} - i β δ^{\\dagger} - i γ α^{\\dagger} + i δ β^{\\dagger}\\right)\\right) \\left(rx - i ry + α γ^{\\dagger} - β δ^{\\dagger} + γ α^{\\dagger} - δ β^{\\dagger} - i \\left(i α γ^{\\dagger} - i β δ^{\\dagger} - i γ α^{\\dagger} + i δ β^{\\dagger}\\right)\\right) + \\left(rx + i ry - α γ^{\\dagger} + β δ^{\\dagger} - γ α^{\\dagger} + δ β^{\\dagger} - i \\left(i α γ^{\\dagger} - i β δ^{\\dagger} - i γ α^{\\dagger} + i δ β^{\\dagger}\\right)\\right) \\left(rx + i ry + α γ^{\\dagger} - β δ^{\\dagger} + γ α^{\\dagger} - δ β^{\\dagger} + i \\left(i α γ^{\\dagger} - i β δ^{\\dagger} - i γ α^{\\dagger} + i δ β^{\\dagger}\\right)\\right) + \\left(- rz - sz + α α^{\\dagger} - β β^{\\dagger} - γ γ^{\\dagger} + δ δ^{\\dagger} + 1\\right) \\left(- rz + sz - α α^{\\dagger} + β β^{\\dagger} + γ γ^{\\dagger} - δ δ^{\\dagger} + 1\\right) + \\left(rz - sz - α α^{\\dagger} + β β^{\\dagger} + γ γ^{\\dagger} - δ δ^{\\dagger} + 1\\right) \\left(rz + sz + α α^{\\dagger} - β β^{\\dagger} - γ γ^{\\dagger} + δ δ^{\\dagger} + 1\\right) & \\left(2 α δ^{\\dagger} + 2 δ α^{\\dagger} - i \\left(i α δ^{\\dagger} - i β γ^{\\dagger} + i γ β^{\\dagger} - i δ α^{\\dagger}\\right) - i \\left(i α δ^{\\dagger} + i β γ^{\\dagger} - i γ β^{\\dagger} - i δ α^{\\dagger}\\right)\\right) \\left(rx - i ry - α γ^{\\dagger} + β δ^{\\dagger} - γ α^{\\dagger} + δ β^{\\dagger} + i \\left(i α γ^{\\dagger} - i β δ^{\\dagger} - i γ α^{\\dagger} + i δ β^{\\dagger}\\right)\\right) + \\left(2 β γ^{\\dagger} + 2 γ β^{\\dagger} - i \\left(i α δ^{\\dagger} - i β γ^{\\dagger} + i γ β^{\\dagger} - i δ α^{\\dagger}\\right) + i \\left(i α δ^{\\dagger} + i β γ^{\\dagger} - i γ β^{\\dagger} - i δ α^{\\dagger}\\right)\\right) \\left(rx + i ry - α γ^{\\dagger} + β δ^{\\dagger} - γ α^{\\dagger} + δ β^{\\dagger} - i \\left(i α γ^{\\dagger} - i β δ^{\\dagger} - i γ α^{\\dagger} + i δ β^{\\dagger}\\right)\\right) + \\left(- rz - sz + α α^{\\dagger} - β β^{\\dagger} - γ γ^{\\dagger} + δ δ^{\\dagger} + 1\\right) \\left(sx - i sy - α β^{\\dagger} - β α^{\\dagger} + γ δ^{\\dagger} + δ γ^{\\dagger} + i \\left(i α β^{\\dagger} - i β α^{\\dagger} - i γ δ^{\\dagger} + i δ γ^{\\dagger}\\right)\\right) + \\left(rz - sz - α α^{\\dagger} + β β^{\\dagger} + γ γ^{\\dagger} - δ δ^{\\dagger} + 1\\right) \\left(sx - i sy + α β^{\\dagger} + β α^{\\dagger} - γ δ^{\\dagger} - δ γ^{\\dagger} - i \\left(i α β^{\\dagger} - i β α^{\\dagger} - i γ δ^{\\dagger} + i δ γ^{\\dagger}\\right)\\right) & \\left(2 α δ^{\\dagger} + 2 δ α^{\\dagger} + i \\left(i α δ^{\\dagger} - i β γ^{\\dagger} + i γ β^{\\dagger} - i δ α^{\\dagger}\\right) + i \\left(i α δ^{\\dagger} + i β γ^{\\dagger} - i γ β^{\\dagger} - i δ α^{\\dagger}\\right)\\right) \\left(rx + i ry - α γ^{\\dagger} + β δ^{\\dagger} - γ α^{\\dagger} + δ β^{\\dagger} - i \\left(i α γ^{\\dagger} - i β δ^{\\dagger} - i γ α^{\\dagger} + i δ β^{\\dagger}\\right)\\right) + \\left(2 β γ^{\\dagger} + 2 γ β^{\\dagger} + i \\left(i α δ^{\\dagger} - i β γ^{\\dagger} + i γ β^{\\dagger} - i δ α^{\\dagger}\\right) - i \\left(i α δ^{\\dagger} + i β γ^{\\dagger} - i γ β^{\\dagger} - i δ α^{\\dagger}\\right)\\right) \\left(rx - i ry - α γ^{\\dagger} + β δ^{\\dagger} - γ α^{\\dagger} + δ β^{\\dagger} + i \\left(i α γ^{\\dagger} - i β δ^{\\dagger} - i γ α^{\\dagger} + i δ β^{\\dagger}\\right)\\right) + \\left(- rz - sz + α α^{\\dagger} - β β^{\\dagger} - γ γ^{\\dagger} + δ δ^{\\dagger} + 1\\right) \\left(sx + i sy - α β^{\\dagger} - β α^{\\dagger} + γ δ^{\\dagger} + δ γ^{\\dagger} - i \\left(i α β^{\\dagger} - i β α^{\\dagger} - i γ δ^{\\dagger} + i δ γ^{\\dagger}\\right)\\right) + \\left(rz - sz - α α^{\\dagger} + β β^{\\dagger} + γ γ^{\\dagger} - δ δ^{\\dagger} + 1\\right) \\left(sx + i sy + α β^{\\dagger} + β α^{\\dagger} - γ δ^{\\dagger} - δ γ^{\\dagger} + i \\left(i α β^{\\dagger} - i β α^{\\dagger} - i γ δ^{\\dagger} + i δ γ^{\\dagger}\\right)\\right) & \\left(rx - i ry - α γ^{\\dagger} + β δ^{\\dagger} - γ α^{\\dagger} + δ β^{\\dagger} + i \\left(i α γ^{\\dagger} - i β δ^{\\dagger} - i γ α^{\\dagger} + i δ β^{\\dagger}\\right)\\right)^{2} + \\left(rx + i ry - α γ^{\\dagger} + β δ^{\\dagger} - γ α^{\\dagger} + δ β^{\\dagger} - i \\left(i α γ^{\\dagger} - i β δ^{\\dagger} - i γ α^{\\dagger} + i δ β^{\\dagger}\\right)\\right)^{2} + \\left(- rz - sz + α α^{\\dagger} - β β^{\\dagger} - γ γ^{\\dagger} + δ δ^{\\dagger} + 1\\right)^{2} + \\left(rz - sz - α α^{\\dagger} + β β^{\\dagger} + γ γ^{\\dagger} - δ δ^{\\dagger} + 1\\right)^{2}\\end{matrix}\\right]$"
      ],
      "text/plain": [
       "Matrix([\n",
       "[                                                                                                                                                                                                                                                                                                                                                                                                                                                                                                                                                                                                                    (rx - I*ry + α*Dagger(γ) - β*Dagger(δ) + γ*Dagger(α) - δ*Dagger(β) - I*(I*α*Dagger(γ) - I*β*Dagger(δ) - I*γ*Dagger(α) + I*δ*Dagger(β)))**2 + (rx + I*ry + α*Dagger(γ) - β*Dagger(δ) + γ*Dagger(α) - δ*Dagger(β) + I*(I*α*Dagger(γ) - I*β*Dagger(δ) - I*γ*Dagger(α) + I*δ*Dagger(β)))**2 + (-rz + sz - α*Dagger(α) + β*Dagger(β) + γ*Dagger(γ) - δ*Dagger(δ) + 1)**2 + (rz + sz + α*Dagger(α) - β*Dagger(β) - γ*Dagger(γ) + δ*Dagger(δ) + 1)**2,                                                                                                                                                                                                    (2*α*Dagger(δ) + 2*δ*Dagger(α) - I*(I*α*Dagger(δ) - I*β*Dagger(γ) + I*γ*Dagger(β) - I*δ*Dagger(α)) - I*(I*α*Dagger(δ) + I*β*Dagger(γ) - I*γ*Dagger(β) - I*δ*Dagger(α)))*(rx - I*ry + α*Dagger(γ) - β*Dagger(δ) + γ*Dagger(α) - δ*Dagger(β) - I*(I*α*Dagger(γ) - I*β*Dagger(δ) - I*γ*Dagger(α) + I*δ*Dagger(β))) + (2*β*Dagger(γ) + 2*γ*Dagger(β) - I*(I*α*Dagger(δ) - I*β*Dagger(γ) + I*γ*Dagger(β) - I*δ*Dagger(α)) + I*(I*α*Dagger(δ) + I*β*Dagger(γ) - I*γ*Dagger(β) - I*δ*Dagger(α)))*(rx + I*ry + α*Dagger(γ) - β*Dagger(δ) + γ*Dagger(α) - δ*Dagger(β) + I*(I*α*Dagger(γ) - I*β*Dagger(δ) - I*γ*Dagger(α) + I*δ*Dagger(β))) + (-rz + sz - α*Dagger(α) + β*Dagger(β) + γ*Dagger(γ) - δ*Dagger(δ) + 1)*(sx - I*sy - α*Dagger(β) - β*Dagger(α) + γ*Dagger(δ) + δ*Dagger(γ) + I*(I*α*Dagger(β) - I*β*Dagger(α) - I*γ*Dagger(δ) + I*δ*Dagger(γ))) + (rz + sz + α*Dagger(α) - β*Dagger(β) - γ*Dagger(γ) + δ*Dagger(δ) + 1)*(sx - I*sy + α*Dagger(β) + β*Dagger(α) - γ*Dagger(δ) - δ*Dagger(γ) - I*(I*α*Dagger(β) - I*β*Dagger(α) - I*γ*Dagger(δ) + I*δ*Dagger(γ))),                                                                                                                                                                                                    (2*α*Dagger(δ) + 2*δ*Dagger(α) + I*(I*α*Dagger(δ) - I*β*Dagger(γ) + I*γ*Dagger(β) - I*δ*Dagger(α)) + I*(I*α*Dagger(δ) + I*β*Dagger(γ) - I*γ*Dagger(β) - I*δ*Dagger(α)))*(rx + I*ry + α*Dagger(γ) - β*Dagger(δ) + γ*Dagger(α) - δ*Dagger(β) + I*(I*α*Dagger(γ) - I*β*Dagger(δ) - I*γ*Dagger(α) + I*δ*Dagger(β))) + (2*β*Dagger(γ) + 2*γ*Dagger(β) + I*(I*α*Dagger(δ) - I*β*Dagger(γ) + I*γ*Dagger(β) - I*δ*Dagger(α)) - I*(I*α*Dagger(δ) + I*β*Dagger(γ) - I*γ*Dagger(β) - I*δ*Dagger(α)))*(rx - I*ry + α*Dagger(γ) - β*Dagger(δ) + γ*Dagger(α) - δ*Dagger(β) - I*(I*α*Dagger(γ) - I*β*Dagger(δ) - I*γ*Dagger(α) + I*δ*Dagger(β))) + (-rz + sz - α*Dagger(α) + β*Dagger(β) + γ*Dagger(γ) - δ*Dagger(δ) + 1)*(sx + I*sy - α*Dagger(β) - β*Dagger(α) + γ*Dagger(δ) + δ*Dagger(γ) - I*(I*α*Dagger(β) - I*β*Dagger(α) - I*γ*Dagger(δ) + I*δ*Dagger(γ))) + (rz + sz + α*Dagger(α) - β*Dagger(β) - γ*Dagger(γ) + δ*Dagger(δ) + 1)*(sx + I*sy + α*Dagger(β) + β*Dagger(α) - γ*Dagger(δ) - δ*Dagger(γ) + I*(I*α*Dagger(β) - I*β*Dagger(α) - I*γ*Dagger(δ) + I*δ*Dagger(γ))),                                                                                                                                                                                                    (rx - I*ry - α*Dagger(γ) + β*Dagger(δ) - γ*Dagger(α) + δ*Dagger(β) + I*(I*α*Dagger(γ) - I*β*Dagger(δ) - I*γ*Dagger(α) + I*δ*Dagger(β)))*(rx - I*ry + α*Dagger(γ) - β*Dagger(δ) + γ*Dagger(α) - δ*Dagger(β) - I*(I*α*Dagger(γ) - I*β*Dagger(δ) - I*γ*Dagger(α) + I*δ*Dagger(β))) + (rx + I*ry - α*Dagger(γ) + β*Dagger(δ) - γ*Dagger(α) + δ*Dagger(β) - I*(I*α*Dagger(γ) - I*β*Dagger(δ) - I*γ*Dagger(α) + I*δ*Dagger(β)))*(rx + I*ry + α*Dagger(γ) - β*Dagger(δ) + γ*Dagger(α) - δ*Dagger(β) + I*(I*α*Dagger(γ) - I*β*Dagger(δ) - I*γ*Dagger(α) + I*δ*Dagger(β))) + (-rz - sz + α*Dagger(α) - β*Dagger(β) - γ*Dagger(γ) + δ*Dagger(δ) + 1)*(-rz + sz - α*Dagger(α) + β*Dagger(β) + γ*Dagger(γ) - δ*Dagger(δ) + 1) + (rz - sz - α*Dagger(α) + β*Dagger(β) + γ*Dagger(γ) - δ*Dagger(δ) + 1)*(rz + sz + α*Dagger(α) - β*Dagger(β) - γ*Dagger(γ) + δ*Dagger(δ) + 1)],\n",
       "[(2*α*Dagger(δ) + 2*δ*Dagger(α) - I*(I*α*Dagger(δ) - I*β*Dagger(γ) + I*γ*Dagger(β) - I*δ*Dagger(α)) - I*(I*α*Dagger(δ) + I*β*Dagger(γ) - I*γ*Dagger(β) - I*δ*Dagger(α)))*(rx - I*ry + α*Dagger(γ) - β*Dagger(δ) + γ*Dagger(α) - δ*Dagger(β) - I*(I*α*Dagger(γ) - I*β*Dagger(δ) - I*γ*Dagger(α) + I*δ*Dagger(β))) + (2*β*Dagger(γ) + 2*γ*Dagger(β) - I*(I*α*Dagger(δ) - I*β*Dagger(γ) + I*γ*Dagger(β) - I*δ*Dagger(α)) + I*(I*α*Dagger(δ) + I*β*Dagger(γ) - I*γ*Dagger(β) - I*δ*Dagger(α)))*(rx + I*ry + α*Dagger(γ) - β*Dagger(δ) + γ*Dagger(α) - δ*Dagger(β) + I*(I*α*Dagger(γ) - I*β*Dagger(δ) - I*γ*Dagger(α) + I*δ*Dagger(β))) + (-rz + sz - α*Dagger(α) + β*Dagger(β) + γ*Dagger(γ) - δ*Dagger(δ) + 1)*(sx - I*sy - α*Dagger(β) - β*Dagger(α) + γ*Dagger(δ) + δ*Dagger(γ) + I*(I*α*Dagger(β) - I*β*Dagger(α) - I*γ*Dagger(δ) + I*δ*Dagger(γ))) + (rz + sz + α*Dagger(α) - β*Dagger(β) - γ*Dagger(γ) + δ*Dagger(δ) + 1)*(sx - I*sy + α*Dagger(β) + β*Dagger(α) - γ*Dagger(δ) - δ*Dagger(γ) - I*(I*α*Dagger(β) - I*β*Dagger(α) - I*γ*Dagger(δ) + I*δ*Dagger(γ))),                                                                                                                                                                                                                                                                                                                                                                                                                                                                                                                                                                                                                     (2*α*Dagger(δ) + 2*δ*Dagger(α) - I*(I*α*Dagger(δ) - I*β*Dagger(γ) + I*γ*Dagger(β) - I*δ*Dagger(α)) - I*(I*α*Dagger(δ) + I*β*Dagger(γ) - I*γ*Dagger(β) - I*δ*Dagger(α)))**2 + (2*β*Dagger(γ) + 2*γ*Dagger(β) - I*(I*α*Dagger(δ) - I*β*Dagger(γ) + I*γ*Dagger(β) - I*δ*Dagger(α)) + I*(I*α*Dagger(δ) + I*β*Dagger(γ) - I*γ*Dagger(β) - I*δ*Dagger(α)))**2 + (sx - I*sy - α*Dagger(β) - β*Dagger(α) + γ*Dagger(δ) + δ*Dagger(γ) + I*(I*α*Dagger(β) - I*β*Dagger(α) - I*γ*Dagger(δ) + I*δ*Dagger(γ)))**2 + (sx - I*sy + α*Dagger(β) + β*Dagger(α) - γ*Dagger(δ) - δ*Dagger(γ) - I*(I*α*Dagger(β) - I*β*Dagger(α) - I*γ*Dagger(δ) + I*δ*Dagger(γ)))**2, (2*α*Dagger(δ) + 2*δ*Dagger(α) - I*(I*α*Dagger(δ) - I*β*Dagger(γ) + I*γ*Dagger(β) - I*δ*Dagger(α)) - I*(I*α*Dagger(δ) + I*β*Dagger(γ) - I*γ*Dagger(β) - I*δ*Dagger(α)))*(2*β*Dagger(γ) + 2*γ*Dagger(β) + I*(I*α*Dagger(δ) - I*β*Dagger(γ) + I*γ*Dagger(β) - I*δ*Dagger(α)) - I*(I*α*Dagger(δ) + I*β*Dagger(γ) - I*γ*Dagger(β) - I*δ*Dagger(α))) + (2*α*Dagger(δ) + 2*δ*Dagger(α) + I*(I*α*Dagger(δ) - I*β*Dagger(γ) + I*γ*Dagger(β) - I*δ*Dagger(α)) + I*(I*α*Dagger(δ) + I*β*Dagger(γ) - I*γ*Dagger(β) - I*δ*Dagger(α)))*(2*β*Dagger(γ) + 2*γ*Dagger(β) - I*(I*α*Dagger(δ) - I*β*Dagger(γ) + I*γ*Dagger(β) - I*δ*Dagger(α)) + I*(I*α*Dagger(δ) + I*β*Dagger(γ) - I*γ*Dagger(β) - I*δ*Dagger(α))) + (sx - I*sy - α*Dagger(β) - β*Dagger(α) + γ*Dagger(δ) + δ*Dagger(γ) + I*(I*α*Dagger(β) - I*β*Dagger(α) - I*γ*Dagger(δ) + I*δ*Dagger(γ)))*(sx + I*sy - α*Dagger(β) - β*Dagger(α) + γ*Dagger(δ) + δ*Dagger(γ) - I*(I*α*Dagger(β) - I*β*Dagger(α) - I*γ*Dagger(δ) + I*δ*Dagger(γ))) + (sx - I*sy + α*Dagger(β) + β*Dagger(α) - γ*Dagger(δ) - δ*Dagger(γ) - I*(I*α*Dagger(β) - I*β*Dagger(α) - I*γ*Dagger(δ) + I*δ*Dagger(γ)))*(sx + I*sy + α*Dagger(β) + β*Dagger(α) - γ*Dagger(δ) - δ*Dagger(γ) + I*(I*α*Dagger(β) - I*β*Dagger(α) - I*γ*Dagger(δ) + I*δ*Dagger(γ))), (2*α*Dagger(δ) + 2*δ*Dagger(α) - I*(I*α*Dagger(δ) - I*β*Dagger(γ) + I*γ*Dagger(β) - I*δ*Dagger(α)) - I*(I*α*Dagger(δ) + I*β*Dagger(γ) - I*γ*Dagger(β) - I*δ*Dagger(α)))*(rx - I*ry - α*Dagger(γ) + β*Dagger(δ) - γ*Dagger(α) + δ*Dagger(β) + I*(I*α*Dagger(γ) - I*β*Dagger(δ) - I*γ*Dagger(α) + I*δ*Dagger(β))) + (2*β*Dagger(γ) + 2*γ*Dagger(β) - I*(I*α*Dagger(δ) - I*β*Dagger(γ) + I*γ*Dagger(β) - I*δ*Dagger(α)) + I*(I*α*Dagger(δ) + I*β*Dagger(γ) - I*γ*Dagger(β) - I*δ*Dagger(α)))*(rx + I*ry - α*Dagger(γ) + β*Dagger(δ) - γ*Dagger(α) + δ*Dagger(β) - I*(I*α*Dagger(γ) - I*β*Dagger(δ) - I*γ*Dagger(α) + I*δ*Dagger(β))) + (-rz - sz + α*Dagger(α) - β*Dagger(β) - γ*Dagger(γ) + δ*Dagger(δ) + 1)*(sx - I*sy - α*Dagger(β) - β*Dagger(α) + γ*Dagger(δ) + δ*Dagger(γ) + I*(I*α*Dagger(β) - I*β*Dagger(α) - I*γ*Dagger(δ) + I*δ*Dagger(γ))) + (rz - sz - α*Dagger(α) + β*Dagger(β) + γ*Dagger(γ) - δ*Dagger(δ) + 1)*(sx - I*sy + α*Dagger(β) + β*Dagger(α) - γ*Dagger(δ) - δ*Dagger(γ) - I*(I*α*Dagger(β) - I*β*Dagger(α) - I*γ*Dagger(δ) + I*δ*Dagger(γ)))],\n",
       "[(2*α*Dagger(δ) + 2*δ*Dagger(α) + I*(I*α*Dagger(δ) - I*β*Dagger(γ) + I*γ*Dagger(β) - I*δ*Dagger(α)) + I*(I*α*Dagger(δ) + I*β*Dagger(γ) - I*γ*Dagger(β) - I*δ*Dagger(α)))*(rx + I*ry + α*Dagger(γ) - β*Dagger(δ) + γ*Dagger(α) - δ*Dagger(β) + I*(I*α*Dagger(γ) - I*β*Dagger(δ) - I*γ*Dagger(α) + I*δ*Dagger(β))) + (2*β*Dagger(γ) + 2*γ*Dagger(β) + I*(I*α*Dagger(δ) - I*β*Dagger(γ) + I*γ*Dagger(β) - I*δ*Dagger(α)) - I*(I*α*Dagger(δ) + I*β*Dagger(γ) - I*γ*Dagger(β) - I*δ*Dagger(α)))*(rx - I*ry + α*Dagger(γ) - β*Dagger(δ) + γ*Dagger(α) - δ*Dagger(β) - I*(I*α*Dagger(γ) - I*β*Dagger(δ) - I*γ*Dagger(α) + I*δ*Dagger(β))) + (-rz + sz - α*Dagger(α) + β*Dagger(β) + γ*Dagger(γ) - δ*Dagger(δ) + 1)*(sx + I*sy - α*Dagger(β) - β*Dagger(α) + γ*Dagger(δ) + δ*Dagger(γ) - I*(I*α*Dagger(β) - I*β*Dagger(α) - I*γ*Dagger(δ) + I*δ*Dagger(γ))) + (rz + sz + α*Dagger(α) - β*Dagger(β) - γ*Dagger(γ) + δ*Dagger(δ) + 1)*(sx + I*sy + α*Dagger(β) + β*Dagger(α) - γ*Dagger(δ) - δ*Dagger(γ) + I*(I*α*Dagger(β) - I*β*Dagger(α) - I*γ*Dagger(δ) + I*δ*Dagger(γ))), (2*α*Dagger(δ) + 2*δ*Dagger(α) - I*(I*α*Dagger(δ) - I*β*Dagger(γ) + I*γ*Dagger(β) - I*δ*Dagger(α)) - I*(I*α*Dagger(δ) + I*β*Dagger(γ) - I*γ*Dagger(β) - I*δ*Dagger(α)))*(2*β*Dagger(γ) + 2*γ*Dagger(β) + I*(I*α*Dagger(δ) - I*β*Dagger(γ) + I*γ*Dagger(β) - I*δ*Dagger(α)) - I*(I*α*Dagger(δ) + I*β*Dagger(γ) - I*γ*Dagger(β) - I*δ*Dagger(α))) + (2*α*Dagger(δ) + 2*δ*Dagger(α) + I*(I*α*Dagger(δ) - I*β*Dagger(γ) + I*γ*Dagger(β) - I*δ*Dagger(α)) + I*(I*α*Dagger(δ) + I*β*Dagger(γ) - I*γ*Dagger(β) - I*δ*Dagger(α)))*(2*β*Dagger(γ) + 2*γ*Dagger(β) - I*(I*α*Dagger(δ) - I*β*Dagger(γ) + I*γ*Dagger(β) - I*δ*Dagger(α)) + I*(I*α*Dagger(δ) + I*β*Dagger(γ) - I*γ*Dagger(β) - I*δ*Dagger(α))) + (sx - I*sy - α*Dagger(β) - β*Dagger(α) + γ*Dagger(δ) + δ*Dagger(γ) + I*(I*α*Dagger(β) - I*β*Dagger(α) - I*γ*Dagger(δ) + I*δ*Dagger(γ)))*(sx + I*sy - α*Dagger(β) - β*Dagger(α) + γ*Dagger(δ) + δ*Dagger(γ) - I*(I*α*Dagger(β) - I*β*Dagger(α) - I*γ*Dagger(δ) + I*δ*Dagger(γ))) + (sx - I*sy + α*Dagger(β) + β*Dagger(α) - γ*Dagger(δ) - δ*Dagger(γ) - I*(I*α*Dagger(β) - I*β*Dagger(α) - I*γ*Dagger(δ) + I*δ*Dagger(γ)))*(sx + I*sy + α*Dagger(β) + β*Dagger(α) - γ*Dagger(δ) - δ*Dagger(γ) + I*(I*α*Dagger(β) - I*β*Dagger(α) - I*γ*Dagger(δ) + I*δ*Dagger(γ))),                                                                                                                                                                                                                                                                                                                                                                                                                                                                                                                                                                                                                     (2*α*Dagger(δ) + 2*δ*Dagger(α) + I*(I*α*Dagger(δ) - I*β*Dagger(γ) + I*γ*Dagger(β) - I*δ*Dagger(α)) + I*(I*α*Dagger(δ) + I*β*Dagger(γ) - I*γ*Dagger(β) - I*δ*Dagger(α)))**2 + (2*β*Dagger(γ) + 2*γ*Dagger(β) + I*(I*α*Dagger(δ) - I*β*Dagger(γ) + I*γ*Dagger(β) - I*δ*Dagger(α)) - I*(I*α*Dagger(δ) + I*β*Dagger(γ) - I*γ*Dagger(β) - I*δ*Dagger(α)))**2 + (sx + I*sy - α*Dagger(β) - β*Dagger(α) + γ*Dagger(δ) + δ*Dagger(γ) - I*(I*α*Dagger(β) - I*β*Dagger(α) - I*γ*Dagger(δ) + I*δ*Dagger(γ)))**2 + (sx + I*sy + α*Dagger(β) + β*Dagger(α) - γ*Dagger(δ) - δ*Dagger(γ) + I*(I*α*Dagger(β) - I*β*Dagger(α) - I*γ*Dagger(δ) + I*δ*Dagger(γ)))**2, (2*α*Dagger(δ) + 2*δ*Dagger(α) + I*(I*α*Dagger(δ) - I*β*Dagger(γ) + I*γ*Dagger(β) - I*δ*Dagger(α)) + I*(I*α*Dagger(δ) + I*β*Dagger(γ) - I*γ*Dagger(β) - I*δ*Dagger(α)))*(rx + I*ry - α*Dagger(γ) + β*Dagger(δ) - γ*Dagger(α) + δ*Dagger(β) - I*(I*α*Dagger(γ) - I*β*Dagger(δ) - I*γ*Dagger(α) + I*δ*Dagger(β))) + (2*β*Dagger(γ) + 2*γ*Dagger(β) + I*(I*α*Dagger(δ) - I*β*Dagger(γ) + I*γ*Dagger(β) - I*δ*Dagger(α)) - I*(I*α*Dagger(δ) + I*β*Dagger(γ) - I*γ*Dagger(β) - I*δ*Dagger(α)))*(rx - I*ry - α*Dagger(γ) + β*Dagger(δ) - γ*Dagger(α) + δ*Dagger(β) + I*(I*α*Dagger(γ) - I*β*Dagger(δ) - I*γ*Dagger(α) + I*δ*Dagger(β))) + (-rz - sz + α*Dagger(α) - β*Dagger(β) - γ*Dagger(γ) + δ*Dagger(δ) + 1)*(sx + I*sy - α*Dagger(β) - β*Dagger(α) + γ*Dagger(δ) + δ*Dagger(γ) - I*(I*α*Dagger(β) - I*β*Dagger(α) - I*γ*Dagger(δ) + I*δ*Dagger(γ))) + (rz - sz - α*Dagger(α) + β*Dagger(β) + γ*Dagger(γ) - δ*Dagger(δ) + 1)*(sx + I*sy + α*Dagger(β) + β*Dagger(α) - γ*Dagger(δ) - δ*Dagger(γ) + I*(I*α*Dagger(β) - I*β*Dagger(α) - I*γ*Dagger(δ) + I*δ*Dagger(γ)))],\n",
       "[                                                                                                                                                                                                   (rx - I*ry - α*Dagger(γ) + β*Dagger(δ) - γ*Dagger(α) + δ*Dagger(β) + I*(I*α*Dagger(γ) - I*β*Dagger(δ) - I*γ*Dagger(α) + I*δ*Dagger(β)))*(rx - I*ry + α*Dagger(γ) - β*Dagger(δ) + γ*Dagger(α) - δ*Dagger(β) - I*(I*α*Dagger(γ) - I*β*Dagger(δ) - I*γ*Dagger(α) + I*δ*Dagger(β))) + (rx + I*ry - α*Dagger(γ) + β*Dagger(δ) - γ*Dagger(α) + δ*Dagger(β) - I*(I*α*Dagger(γ) - I*β*Dagger(δ) - I*γ*Dagger(α) + I*δ*Dagger(β)))*(rx + I*ry + α*Dagger(γ) - β*Dagger(δ) + γ*Dagger(α) - δ*Dagger(β) + I*(I*α*Dagger(γ) - I*β*Dagger(δ) - I*γ*Dagger(α) + I*δ*Dagger(β))) + (-rz - sz + α*Dagger(α) - β*Dagger(β) - γ*Dagger(γ) + δ*Dagger(δ) + 1)*(-rz + sz - α*Dagger(α) + β*Dagger(β) + γ*Dagger(γ) - δ*Dagger(δ) + 1) + (rz - sz - α*Dagger(α) + β*Dagger(β) + γ*Dagger(γ) - δ*Dagger(δ) + 1)*(rz + sz + α*Dagger(α) - β*Dagger(β) - γ*Dagger(γ) + δ*Dagger(δ) + 1),                                                                                                                                                                                                    (2*α*Dagger(δ) + 2*δ*Dagger(α) - I*(I*α*Dagger(δ) - I*β*Dagger(γ) + I*γ*Dagger(β) - I*δ*Dagger(α)) - I*(I*α*Dagger(δ) + I*β*Dagger(γ) - I*γ*Dagger(β) - I*δ*Dagger(α)))*(rx - I*ry - α*Dagger(γ) + β*Dagger(δ) - γ*Dagger(α) + δ*Dagger(β) + I*(I*α*Dagger(γ) - I*β*Dagger(δ) - I*γ*Dagger(α) + I*δ*Dagger(β))) + (2*β*Dagger(γ) + 2*γ*Dagger(β) - I*(I*α*Dagger(δ) - I*β*Dagger(γ) + I*γ*Dagger(β) - I*δ*Dagger(α)) + I*(I*α*Dagger(δ) + I*β*Dagger(γ) - I*γ*Dagger(β) - I*δ*Dagger(α)))*(rx + I*ry - α*Dagger(γ) + β*Dagger(δ) - γ*Dagger(α) + δ*Dagger(β) - I*(I*α*Dagger(γ) - I*β*Dagger(δ) - I*γ*Dagger(α) + I*δ*Dagger(β))) + (-rz - sz + α*Dagger(α) - β*Dagger(β) - γ*Dagger(γ) + δ*Dagger(δ) + 1)*(sx - I*sy - α*Dagger(β) - β*Dagger(α) + γ*Dagger(δ) + δ*Dagger(γ) + I*(I*α*Dagger(β) - I*β*Dagger(α) - I*γ*Dagger(δ) + I*δ*Dagger(γ))) + (rz - sz - α*Dagger(α) + β*Dagger(β) + γ*Dagger(γ) - δ*Dagger(δ) + 1)*(sx - I*sy + α*Dagger(β) + β*Dagger(α) - γ*Dagger(δ) - δ*Dagger(γ) - I*(I*α*Dagger(β) - I*β*Dagger(α) - I*γ*Dagger(δ) + I*δ*Dagger(γ))),                                                                                                                                                                                                    (2*α*Dagger(δ) + 2*δ*Dagger(α) + I*(I*α*Dagger(δ) - I*β*Dagger(γ) + I*γ*Dagger(β) - I*δ*Dagger(α)) + I*(I*α*Dagger(δ) + I*β*Dagger(γ) - I*γ*Dagger(β) - I*δ*Dagger(α)))*(rx + I*ry - α*Dagger(γ) + β*Dagger(δ) - γ*Dagger(α) + δ*Dagger(β) - I*(I*α*Dagger(γ) - I*β*Dagger(δ) - I*γ*Dagger(α) + I*δ*Dagger(β))) + (2*β*Dagger(γ) + 2*γ*Dagger(β) + I*(I*α*Dagger(δ) - I*β*Dagger(γ) + I*γ*Dagger(β) - I*δ*Dagger(α)) - I*(I*α*Dagger(δ) + I*β*Dagger(γ) - I*γ*Dagger(β) - I*δ*Dagger(α)))*(rx - I*ry - α*Dagger(γ) + β*Dagger(δ) - γ*Dagger(α) + δ*Dagger(β) + I*(I*α*Dagger(γ) - I*β*Dagger(δ) - I*γ*Dagger(α) + I*δ*Dagger(β))) + (-rz - sz + α*Dagger(α) - β*Dagger(β) - γ*Dagger(γ) + δ*Dagger(δ) + 1)*(sx + I*sy - α*Dagger(β) - β*Dagger(α) + γ*Dagger(δ) + δ*Dagger(γ) - I*(I*α*Dagger(β) - I*β*Dagger(α) - I*γ*Dagger(δ) + I*δ*Dagger(γ))) + (rz - sz - α*Dagger(α) + β*Dagger(β) + γ*Dagger(γ) - δ*Dagger(δ) + 1)*(sx + I*sy + α*Dagger(β) + β*Dagger(α) - γ*Dagger(δ) - δ*Dagger(γ) + I*(I*α*Dagger(β) - I*β*Dagger(α) - I*γ*Dagger(δ) + I*δ*Dagger(γ))),                                                                                                                                                                                                                                                                                                                                                                                                                                                                                                                                                                                                                     (rx - I*ry - α*Dagger(γ) + β*Dagger(δ) - γ*Dagger(α) + δ*Dagger(β) + I*(I*α*Dagger(γ) - I*β*Dagger(δ) - I*γ*Dagger(α) + I*δ*Dagger(β)))**2 + (rx + I*ry - α*Dagger(γ) + β*Dagger(δ) - γ*Dagger(α) + δ*Dagger(β) - I*(I*α*Dagger(γ) - I*β*Dagger(δ) - I*γ*Dagger(α) + I*δ*Dagger(β)))**2 + (-rz - sz + α*Dagger(α) - β*Dagger(β) - γ*Dagger(γ) + δ*Dagger(δ) + 1)**2 + (rz - sz - α*Dagger(α) + β*Dagger(β) + γ*Dagger(γ) - δ*Dagger(δ) + 1)**2]])"
      ]
     },
     "execution_count": 44,
     "metadata": {},
     "output_type": "execute_result"
    }
   ],
   "source": [
    "rho_tensor = sp.MutableDenseNDimArray(rho_bell_basis, (dA, dB, dA, dB))\n",
    "rho_realigned_tensor = permute_dims(rho_tensor, (0, 2, 1, 3))\n",
    "realigned = sp.Matrix(rho_realigned_tensor.reshape(dA*dA, dB*dB))\n",
    "rhotilde_t_rhotilde= realigned.T * realigned\n",
    "rhotilde_t_rhotilde"
   ]
  },
  {
   "cell_type": "code",
   "execution_count": 45,
   "id": "7af7b067-e533-4302-8cd0-f0fd9344b4bc",
   "metadata": {},
   "outputs": [
    {
     "name": "stdout",
     "output_type": "stream",
     "text": [
      "Matrix([[(rx - I*ry + α*Dagger(γ) - β*Dagger(δ) + γ*Dagger(α) - δ*Dagger(β) - I*(I*α*Dagger(γ) - I*β*Dagger(δ) - I*γ*Dagger(α) + I*δ*Dagger(β)))**2 + (rx + I*ry + α*Dagger(γ) - β*Dagger(δ) + γ*Dagger(α) - δ*Dagger(β) + I*(I*α*Dagger(γ) - I*β*Dagger(δ) - I*γ*Dagger(α) + I*δ*Dagger(β)))**2 + (-rz + sz - α*Dagger(α) + β*Dagger(β) + γ*Dagger(γ) - δ*Dagger(δ) + 1)**2 + (rz + sz + α*Dagger(α) - β*Dagger(β) - γ*Dagger(γ) + δ*Dagger(δ) + 1)**2, (2*α*Dagger(δ) + 2*δ*Dagger(α) - I*(I*α*Dagger(δ) - I*β*Dagger(γ) + I*γ*Dagger(β) - I*δ*Dagger(α)) - I*(I*α*Dagger(δ) + I*β*Dagger(γ) - I*γ*Dagger(β) - I*δ*Dagger(α)))*(rx - I*ry + α*Dagger(γ) - β*Dagger(δ) + γ*Dagger(α) - δ*Dagger(β) - I*(I*α*Dagger(γ) - I*β*Dagger(δ) - I*γ*Dagger(α) + I*δ*Dagger(β))) + (2*β*Dagger(γ) + 2*γ*Dagger(β) - I*(I*α*Dagger(δ) - I*β*Dagger(γ) + I*γ*Dagger(β) - I*δ*Dagger(α)) + I*(I*α*Dagger(δ) + I*β*Dagger(γ) - I*γ*Dagger(β) - I*δ*Dagger(α)))*(rx + I*ry + α*Dagger(γ) - β*Dagger(δ) + γ*Dagger(α) - δ*Dagger(β) + I*(I*α*Dagger(γ) - I*β*Dagger(δ) - I*γ*Dagger(α) + I*δ*Dagger(β))) + (-rz + sz - α*Dagger(α) + β*Dagger(β) + γ*Dagger(γ) - δ*Dagger(δ) + 1)*(sx - I*sy - α*Dagger(β) - β*Dagger(α) + γ*Dagger(δ) + δ*Dagger(γ) + I*(I*α*Dagger(β) - I*β*Dagger(α) - I*γ*Dagger(δ) + I*δ*Dagger(γ))) + (rz + sz + α*Dagger(α) - β*Dagger(β) - γ*Dagger(γ) + δ*Dagger(δ) + 1)*(sx - I*sy + α*Dagger(β) + β*Dagger(α) - γ*Dagger(δ) - δ*Dagger(γ) - I*(I*α*Dagger(β) - I*β*Dagger(α) - I*γ*Dagger(δ) + I*δ*Dagger(γ))), (2*α*Dagger(δ) + 2*δ*Dagger(α) + I*(I*α*Dagger(δ) - I*β*Dagger(γ) + I*γ*Dagger(β) - I*δ*Dagger(α)) + I*(I*α*Dagger(δ) + I*β*Dagger(γ) - I*γ*Dagger(β) - I*δ*Dagger(α)))*(rx + I*ry + α*Dagger(γ) - β*Dagger(δ) + γ*Dagger(α) - δ*Dagger(β) + I*(I*α*Dagger(γ) - I*β*Dagger(δ) - I*γ*Dagger(α) + I*δ*Dagger(β))) + (2*β*Dagger(γ) + 2*γ*Dagger(β) + I*(I*α*Dagger(δ) - I*β*Dagger(γ) + I*γ*Dagger(β) - I*δ*Dagger(α)) - I*(I*α*Dagger(δ) + I*β*Dagger(γ) - I*γ*Dagger(β) - I*δ*Dagger(α)))*(rx - I*ry + α*Dagger(γ) - β*Dagger(δ) + γ*Dagger(α) - δ*Dagger(β) - I*(I*α*Dagger(γ) - I*β*Dagger(δ) - I*γ*Dagger(α) + I*δ*Dagger(β))) + (-rz + sz - α*Dagger(α) + β*Dagger(β) + γ*Dagger(γ) - δ*Dagger(δ) + 1)*(sx + I*sy - α*Dagger(β) - β*Dagger(α) + γ*Dagger(δ) + δ*Dagger(γ) - I*(I*α*Dagger(β) - I*β*Dagger(α) - I*γ*Dagger(δ) + I*δ*Dagger(γ))) + (rz + sz + α*Dagger(α) - β*Dagger(β) - γ*Dagger(γ) + δ*Dagger(δ) + 1)*(sx + I*sy + α*Dagger(β) + β*Dagger(α) - γ*Dagger(δ) - δ*Dagger(γ) + I*(I*α*Dagger(β) - I*β*Dagger(α) - I*γ*Dagger(δ) + I*δ*Dagger(γ))), (rx - I*ry - α*Dagger(γ) + β*Dagger(δ) - γ*Dagger(α) + δ*Dagger(β) + I*(I*α*Dagger(γ) - I*β*Dagger(δ) - I*γ*Dagger(α) + I*δ*Dagger(β)))*(rx - I*ry + α*Dagger(γ) - β*Dagger(δ) + γ*Dagger(α) - δ*Dagger(β) - I*(I*α*Dagger(γ) - I*β*Dagger(δ) - I*γ*Dagger(α) + I*δ*Dagger(β))) + (rx + I*ry - α*Dagger(γ) + β*Dagger(δ) - γ*Dagger(α) + δ*Dagger(β) - I*(I*α*Dagger(γ) - I*β*Dagger(δ) - I*γ*Dagger(α) + I*δ*Dagger(β)))*(rx + I*ry + α*Dagger(γ) - β*Dagger(δ) + γ*Dagger(α) - δ*Dagger(β) + I*(I*α*Dagger(γ) - I*β*Dagger(δ) - I*γ*Dagger(α) + I*δ*Dagger(β))) + (-rz - sz + α*Dagger(α) - β*Dagger(β) - γ*Dagger(γ) + δ*Dagger(δ) + 1)*(-rz + sz - α*Dagger(α) + β*Dagger(β) + γ*Dagger(γ) - δ*Dagger(δ) + 1) + (rz - sz - α*Dagger(α) + β*Dagger(β) + γ*Dagger(γ) - δ*Dagger(δ) + 1)*(rz + sz + α*Dagger(α) - β*Dagger(β) - γ*Dagger(γ) + δ*Dagger(δ) + 1)], [(2*α*Dagger(δ) + 2*δ*Dagger(α) - I*(I*α*Dagger(δ) - I*β*Dagger(γ) + I*γ*Dagger(β) - I*δ*Dagger(α)) - I*(I*α*Dagger(δ) + I*β*Dagger(γ) - I*γ*Dagger(β) - I*δ*Dagger(α)))*(rx - I*ry + α*Dagger(γ) - β*Dagger(δ) + γ*Dagger(α) - δ*Dagger(β) - I*(I*α*Dagger(γ) - I*β*Dagger(δ) - I*γ*Dagger(α) + I*δ*Dagger(β))) + (2*β*Dagger(γ) + 2*γ*Dagger(β) - I*(I*α*Dagger(δ) - I*β*Dagger(γ) + I*γ*Dagger(β) - I*δ*Dagger(α)) + I*(I*α*Dagger(δ) + I*β*Dagger(γ) - I*γ*Dagger(β) - I*δ*Dagger(α)))*(rx + I*ry + α*Dagger(γ) - β*Dagger(δ) + γ*Dagger(α) - δ*Dagger(β) + I*(I*α*Dagger(γ) - I*β*Dagger(δ) - I*γ*Dagger(α) + I*δ*Dagger(β))) + (-rz + sz - α*Dagger(α) + β*Dagger(β) + γ*Dagger(γ) - δ*Dagger(δ) + 1)*(sx - I*sy - α*Dagger(β) - β*Dagger(α) + γ*Dagger(δ) + δ*Dagger(γ) + I*(I*α*Dagger(β) - I*β*Dagger(α) - I*γ*Dagger(δ) + I*δ*Dagger(γ))) + (rz + sz + α*Dagger(α) - β*Dagger(β) - γ*Dagger(γ) + δ*Dagger(δ) + 1)*(sx - I*sy + α*Dagger(β) + β*Dagger(α) - γ*Dagger(δ) - δ*Dagger(γ) - I*(I*α*Dagger(β) - I*β*Dagger(α) - I*γ*Dagger(δ) + I*δ*Dagger(γ))), (2*α*Dagger(δ) + 2*δ*Dagger(α) - I*(I*α*Dagger(δ) - I*β*Dagger(γ) + I*γ*Dagger(β) - I*δ*Dagger(α)) - I*(I*α*Dagger(δ) + I*β*Dagger(γ) - I*γ*Dagger(β) - I*δ*Dagger(α)))**2 + (2*β*Dagger(γ) + 2*γ*Dagger(β) - I*(I*α*Dagger(δ) - I*β*Dagger(γ) + I*γ*Dagger(β) - I*δ*Dagger(α)) + I*(I*α*Dagger(δ) + I*β*Dagger(γ) - I*γ*Dagger(β) - I*δ*Dagger(α)))**2 + (sx - I*sy - α*Dagger(β) - β*Dagger(α) + γ*Dagger(δ) + δ*Dagger(γ) + I*(I*α*Dagger(β) - I*β*Dagger(α) - I*γ*Dagger(δ) + I*δ*Dagger(γ)))**2 + (sx - I*sy + α*Dagger(β) + β*Dagger(α) - γ*Dagger(δ) - δ*Dagger(γ) - I*(I*α*Dagger(β) - I*β*Dagger(α) - I*γ*Dagger(δ) + I*δ*Dagger(γ)))**2, (2*α*Dagger(δ) + 2*δ*Dagger(α) - I*(I*α*Dagger(δ) - I*β*Dagger(γ) + I*γ*Dagger(β) - I*δ*Dagger(α)) - I*(I*α*Dagger(δ) + I*β*Dagger(γ) - I*γ*Dagger(β) - I*δ*Dagger(α)))*(2*β*Dagger(γ) + 2*γ*Dagger(β) + I*(I*α*Dagger(δ) - I*β*Dagger(γ) + I*γ*Dagger(β) - I*δ*Dagger(α)) - I*(I*α*Dagger(δ) + I*β*Dagger(γ) - I*γ*Dagger(β) - I*δ*Dagger(α))) + (2*α*Dagger(δ) + 2*δ*Dagger(α) + I*(I*α*Dagger(δ) - I*β*Dagger(γ) + I*γ*Dagger(β) - I*δ*Dagger(α)) + I*(I*α*Dagger(δ) + I*β*Dagger(γ) - I*γ*Dagger(β) - I*δ*Dagger(α)))*(2*β*Dagger(γ) + 2*γ*Dagger(β) - I*(I*α*Dagger(δ) - I*β*Dagger(γ) + I*γ*Dagger(β) - I*δ*Dagger(α)) + I*(I*α*Dagger(δ) + I*β*Dagger(γ) - I*γ*Dagger(β) - I*δ*Dagger(α))) + (sx - I*sy - α*Dagger(β) - β*Dagger(α) + γ*Dagger(δ) + δ*Dagger(γ) + I*(I*α*Dagger(β) - I*β*Dagger(α) - I*γ*Dagger(δ) + I*δ*Dagger(γ)))*(sx + I*sy - α*Dagger(β) - β*Dagger(α) + γ*Dagger(δ) + δ*Dagger(γ) - I*(I*α*Dagger(β) - I*β*Dagger(α) - I*γ*Dagger(δ) + I*δ*Dagger(γ))) + (sx - I*sy + α*Dagger(β) + β*Dagger(α) - γ*Dagger(δ) - δ*Dagger(γ) - I*(I*α*Dagger(β) - I*β*Dagger(α) - I*γ*Dagger(δ) + I*δ*Dagger(γ)))*(sx + I*sy + α*Dagger(β) + β*Dagger(α) - γ*Dagger(δ) - δ*Dagger(γ) + I*(I*α*Dagger(β) - I*β*Dagger(α) - I*γ*Dagger(δ) + I*δ*Dagger(γ))), (2*α*Dagger(δ) + 2*δ*Dagger(α) - I*(I*α*Dagger(δ) - I*β*Dagger(γ) + I*γ*Dagger(β) - I*δ*Dagger(α)) - I*(I*α*Dagger(δ) + I*β*Dagger(γ) - I*γ*Dagger(β) - I*δ*Dagger(α)))*(rx - I*ry - α*Dagger(γ) + β*Dagger(δ) - γ*Dagger(α) + δ*Dagger(β) + I*(I*α*Dagger(γ) - I*β*Dagger(δ) - I*γ*Dagger(α) + I*δ*Dagger(β))) + (2*β*Dagger(γ) + 2*γ*Dagger(β) - I*(I*α*Dagger(δ) - I*β*Dagger(γ) + I*γ*Dagger(β) - I*δ*Dagger(α)) + I*(I*α*Dagger(δ) + I*β*Dagger(γ) - I*γ*Dagger(β) - I*δ*Dagger(α)))*(rx + I*ry - α*Dagger(γ) + β*Dagger(δ) - γ*Dagger(α) + δ*Dagger(β) - I*(I*α*Dagger(γ) - I*β*Dagger(δ) - I*γ*Dagger(α) + I*δ*Dagger(β))) + (-rz - sz + α*Dagger(α) - β*Dagger(β) - γ*Dagger(γ) + δ*Dagger(δ) + 1)*(sx - I*sy - α*Dagger(β) - β*Dagger(α) + γ*Dagger(δ) + δ*Dagger(γ) + I*(I*α*Dagger(β) - I*β*Dagger(α) - I*γ*Dagger(δ) + I*δ*Dagger(γ))) + (rz - sz - α*Dagger(α) + β*Dagger(β) + γ*Dagger(γ) - δ*Dagger(δ) + 1)*(sx - I*sy + α*Dagger(β) + β*Dagger(α) - γ*Dagger(δ) - δ*Dagger(γ) - I*(I*α*Dagger(β) - I*β*Dagger(α) - I*γ*Dagger(δ) + I*δ*Dagger(γ)))], [(2*α*Dagger(δ) + 2*δ*Dagger(α) + I*(I*α*Dagger(δ) - I*β*Dagger(γ) + I*γ*Dagger(β) - I*δ*Dagger(α)) + I*(I*α*Dagger(δ) + I*β*Dagger(γ) - I*γ*Dagger(β) - I*δ*Dagger(α)))*(rx + I*ry + α*Dagger(γ) - β*Dagger(δ) + γ*Dagger(α) - δ*Dagger(β) + I*(I*α*Dagger(γ) - I*β*Dagger(δ) - I*γ*Dagger(α) + I*δ*Dagger(β))) + (2*β*Dagger(γ) + 2*γ*Dagger(β) + I*(I*α*Dagger(δ) - I*β*Dagger(γ) + I*γ*Dagger(β) - I*δ*Dagger(α)) - I*(I*α*Dagger(δ) + I*β*Dagger(γ) - I*γ*Dagger(β) - I*δ*Dagger(α)))*(rx - I*ry + α*Dagger(γ) - β*Dagger(δ) + γ*Dagger(α) - δ*Dagger(β) - I*(I*α*Dagger(γ) - I*β*Dagger(δ) - I*γ*Dagger(α) + I*δ*Dagger(β))) + (-rz + sz - α*Dagger(α) + β*Dagger(β) + γ*Dagger(γ) - δ*Dagger(δ) + 1)*(sx + I*sy - α*Dagger(β) - β*Dagger(α) + γ*Dagger(δ) + δ*Dagger(γ) - I*(I*α*Dagger(β) - I*β*Dagger(α) - I*γ*Dagger(δ) + I*δ*Dagger(γ))) + (rz + sz + α*Dagger(α) - β*Dagger(β) - γ*Dagger(γ) + δ*Dagger(δ) + 1)*(sx + I*sy + α*Dagger(β) + β*Dagger(α) - γ*Dagger(δ) - δ*Dagger(γ) + I*(I*α*Dagger(β) - I*β*Dagger(α) - I*γ*Dagger(δ) + I*δ*Dagger(γ))), (2*α*Dagger(δ) + 2*δ*Dagger(α) - I*(I*α*Dagger(δ) - I*β*Dagger(γ) + I*γ*Dagger(β) - I*δ*Dagger(α)) - I*(I*α*Dagger(δ) + I*β*Dagger(γ) - I*γ*Dagger(β) - I*δ*Dagger(α)))*(2*β*Dagger(γ) + 2*γ*Dagger(β) + I*(I*α*Dagger(δ) - I*β*Dagger(γ) + I*γ*Dagger(β) - I*δ*Dagger(α)) - I*(I*α*Dagger(δ) + I*β*Dagger(γ) - I*γ*Dagger(β) - I*δ*Dagger(α))) + (2*α*Dagger(δ) + 2*δ*Dagger(α) + I*(I*α*Dagger(δ) - I*β*Dagger(γ) + I*γ*Dagger(β) - I*δ*Dagger(α)) + I*(I*α*Dagger(δ) + I*β*Dagger(γ) - I*γ*Dagger(β) - I*δ*Dagger(α)))*(2*β*Dagger(γ) + 2*γ*Dagger(β) - I*(I*α*Dagger(δ) - I*β*Dagger(γ) + I*γ*Dagger(β) - I*δ*Dagger(α)) + I*(I*α*Dagger(δ) + I*β*Dagger(γ) - I*γ*Dagger(β) - I*δ*Dagger(α))) + (sx - I*sy - α*Dagger(β) - β*Dagger(α) + γ*Dagger(δ) + δ*Dagger(γ) + I*(I*α*Dagger(β) - I*β*Dagger(α) - I*γ*Dagger(δ) + I*δ*Dagger(γ)))*(sx + I*sy - α*Dagger(β) - β*Dagger(α) + γ*Dagger(δ) + δ*Dagger(γ) - I*(I*α*Dagger(β) - I*β*Dagger(α) - I*γ*Dagger(δ) + I*δ*Dagger(γ))) + (sx - I*sy + α*Dagger(β) + β*Dagger(α) - γ*Dagger(δ) - δ*Dagger(γ) - I*(I*α*Dagger(β) - I*β*Dagger(α) - I*γ*Dagger(δ) + I*δ*Dagger(γ)))*(sx + I*sy + α*Dagger(β) + β*Dagger(α) - γ*Dagger(δ) - δ*Dagger(γ) + I*(I*α*Dagger(β) - I*β*Dagger(α) - I*γ*Dagger(δ) + I*δ*Dagger(γ))), (2*α*Dagger(δ) + 2*δ*Dagger(α) + I*(I*α*Dagger(δ) - I*β*Dagger(γ) + I*γ*Dagger(β) - I*δ*Dagger(α)) + I*(I*α*Dagger(δ) + I*β*Dagger(γ) - I*γ*Dagger(β) - I*δ*Dagger(α)))**2 + (2*β*Dagger(γ) + 2*γ*Dagger(β) + I*(I*α*Dagger(δ) - I*β*Dagger(γ) + I*γ*Dagger(β) - I*δ*Dagger(α)) - I*(I*α*Dagger(δ) + I*β*Dagger(γ) - I*γ*Dagger(β) - I*δ*Dagger(α)))**2 + (sx + I*sy - α*Dagger(β) - β*Dagger(α) + γ*Dagger(δ) + δ*Dagger(γ) - I*(I*α*Dagger(β) - I*β*Dagger(α) - I*γ*Dagger(δ) + I*δ*Dagger(γ)))**2 + (sx + I*sy + α*Dagger(β) + β*Dagger(α) - γ*Dagger(δ) - δ*Dagger(γ) + I*(I*α*Dagger(β) - I*β*Dagger(α) - I*γ*Dagger(δ) + I*δ*Dagger(γ)))**2, (2*α*Dagger(δ) + 2*δ*Dagger(α) + I*(I*α*Dagger(δ) - I*β*Dagger(γ) + I*γ*Dagger(β) - I*δ*Dagger(α)) + I*(I*α*Dagger(δ) + I*β*Dagger(γ) - I*γ*Dagger(β) - I*δ*Dagger(α)))*(rx + I*ry - α*Dagger(γ) + β*Dagger(δ) - γ*Dagger(α) + δ*Dagger(β) - I*(I*α*Dagger(γ) - I*β*Dagger(δ) - I*γ*Dagger(α) + I*δ*Dagger(β))) + (2*β*Dagger(γ) + 2*γ*Dagger(β) + I*(I*α*Dagger(δ) - I*β*Dagger(γ) + I*γ*Dagger(β) - I*δ*Dagger(α)) - I*(I*α*Dagger(δ) + I*β*Dagger(γ) - I*γ*Dagger(β) - I*δ*Dagger(α)))*(rx - I*ry - α*Dagger(γ) + β*Dagger(δ) - γ*Dagger(α) + δ*Dagger(β) + I*(I*α*Dagger(γ) - I*β*Dagger(δ) - I*γ*Dagger(α) + I*δ*Dagger(β))) + (-rz - sz + α*Dagger(α) - β*Dagger(β) - γ*Dagger(γ) + δ*Dagger(δ) + 1)*(sx + I*sy - α*Dagger(β) - β*Dagger(α) + γ*Dagger(δ) + δ*Dagger(γ) - I*(I*α*Dagger(β) - I*β*Dagger(α) - I*γ*Dagger(δ) + I*δ*Dagger(γ))) + (rz - sz - α*Dagger(α) + β*Dagger(β) + γ*Dagger(γ) - δ*Dagger(δ) + 1)*(sx + I*sy + α*Dagger(β) + β*Dagger(α) - γ*Dagger(δ) - δ*Dagger(γ) + I*(I*α*Dagger(β) - I*β*Dagger(α) - I*γ*Dagger(δ) + I*δ*Dagger(γ)))], [(rx - I*ry - α*Dagger(γ) + β*Dagger(δ) - γ*Dagger(α) + δ*Dagger(β) + I*(I*α*Dagger(γ) - I*β*Dagger(δ) - I*γ*Dagger(α) + I*δ*Dagger(β)))*(rx - I*ry + α*Dagger(γ) - β*Dagger(δ) + γ*Dagger(α) - δ*Dagger(β) - I*(I*α*Dagger(γ) - I*β*Dagger(δ) - I*γ*Dagger(α) + I*δ*Dagger(β))) + (rx + I*ry - α*Dagger(γ) + β*Dagger(δ) - γ*Dagger(α) + δ*Dagger(β) - I*(I*α*Dagger(γ) - I*β*Dagger(δ) - I*γ*Dagger(α) + I*δ*Dagger(β)))*(rx + I*ry + α*Dagger(γ) - β*Dagger(δ) + γ*Dagger(α) - δ*Dagger(β) + I*(I*α*Dagger(γ) - I*β*Dagger(δ) - I*γ*Dagger(α) + I*δ*Dagger(β))) + (-rz - sz + α*Dagger(α) - β*Dagger(β) - γ*Dagger(γ) + δ*Dagger(δ) + 1)*(-rz + sz - α*Dagger(α) + β*Dagger(β) + γ*Dagger(γ) - δ*Dagger(δ) + 1) + (rz - sz - α*Dagger(α) + β*Dagger(β) + γ*Dagger(γ) - δ*Dagger(δ) + 1)*(rz + sz + α*Dagger(α) - β*Dagger(β) - γ*Dagger(γ) + δ*Dagger(δ) + 1), (2*α*Dagger(δ) + 2*δ*Dagger(α) - I*(I*α*Dagger(δ) - I*β*Dagger(γ) + I*γ*Dagger(β) - I*δ*Dagger(α)) - I*(I*α*Dagger(δ) + I*β*Dagger(γ) - I*γ*Dagger(β) - I*δ*Dagger(α)))*(rx - I*ry - α*Dagger(γ) + β*Dagger(δ) - γ*Dagger(α) + δ*Dagger(β) + I*(I*α*Dagger(γ) - I*β*Dagger(δ) - I*γ*Dagger(α) + I*δ*Dagger(β))) + (2*β*Dagger(γ) + 2*γ*Dagger(β) - I*(I*α*Dagger(δ) - I*β*Dagger(γ) + I*γ*Dagger(β) - I*δ*Dagger(α)) + I*(I*α*Dagger(δ) + I*β*Dagger(γ) - I*γ*Dagger(β) - I*δ*Dagger(α)))*(rx + I*ry - α*Dagger(γ) + β*Dagger(δ) - γ*Dagger(α) + δ*Dagger(β) - I*(I*α*Dagger(γ) - I*β*Dagger(δ) - I*γ*Dagger(α) + I*δ*Dagger(β))) + (-rz - sz + α*Dagger(α) - β*Dagger(β) - γ*Dagger(γ) + δ*Dagger(δ) + 1)*(sx - I*sy - α*Dagger(β) - β*Dagger(α) + γ*Dagger(δ) + δ*Dagger(γ) + I*(I*α*Dagger(β) - I*β*Dagger(α) - I*γ*Dagger(δ) + I*δ*Dagger(γ))) + (rz - sz - α*Dagger(α) + β*Dagger(β) + γ*Dagger(γ) - δ*Dagger(δ) + 1)*(sx - I*sy + α*Dagger(β) + β*Dagger(α) - γ*Dagger(δ) - δ*Dagger(γ) - I*(I*α*Dagger(β) - I*β*Dagger(α) - I*γ*Dagger(δ) + I*δ*Dagger(γ))), (2*α*Dagger(δ) + 2*δ*Dagger(α) + I*(I*α*Dagger(δ) - I*β*Dagger(γ) + I*γ*Dagger(β) - I*δ*Dagger(α)) + I*(I*α*Dagger(δ) + I*β*Dagger(γ) - I*γ*Dagger(β) - I*δ*Dagger(α)))*(rx + I*ry - α*Dagger(γ) + β*Dagger(δ) - γ*Dagger(α) + δ*Dagger(β) - I*(I*α*Dagger(γ) - I*β*Dagger(δ) - I*γ*Dagger(α) + I*δ*Dagger(β))) + (2*β*Dagger(γ) + 2*γ*Dagger(β) + I*(I*α*Dagger(δ) - I*β*Dagger(γ) + I*γ*Dagger(β) - I*δ*Dagger(α)) - I*(I*α*Dagger(δ) + I*β*Dagger(γ) - I*γ*Dagger(β) - I*δ*Dagger(α)))*(rx - I*ry - α*Dagger(γ) + β*Dagger(δ) - γ*Dagger(α) + δ*Dagger(β) + I*(I*α*Dagger(γ) - I*β*Dagger(δ) - I*γ*Dagger(α) + I*δ*Dagger(β))) + (-rz - sz + α*Dagger(α) - β*Dagger(β) - γ*Dagger(γ) + δ*Dagger(δ) + 1)*(sx + I*sy - α*Dagger(β) - β*Dagger(α) + γ*Dagger(δ) + δ*Dagger(γ) - I*(I*α*Dagger(β) - I*β*Dagger(α) - I*γ*Dagger(δ) + I*δ*Dagger(γ))) + (rz - sz - α*Dagger(α) + β*Dagger(β) + γ*Dagger(γ) - δ*Dagger(δ) + 1)*(sx + I*sy + α*Dagger(β) + β*Dagger(α) - γ*Dagger(δ) - δ*Dagger(γ) + I*(I*α*Dagger(β) - I*β*Dagger(α) - I*γ*Dagger(δ) + I*δ*Dagger(γ))), (rx - I*ry - α*Dagger(γ) + β*Dagger(δ) - γ*Dagger(α) + δ*Dagger(β) + I*(I*α*Dagger(γ) - I*β*Dagger(δ) - I*γ*Dagger(α) + I*δ*Dagger(β)))**2 + (rx + I*ry - α*Dagger(γ) + β*Dagger(δ) - γ*Dagger(α) + δ*Dagger(β) - I*(I*α*Dagger(γ) - I*β*Dagger(δ) - I*γ*Dagger(α) + I*δ*Dagger(β)))**2 + (-rz - sz + α*Dagger(α) - β*Dagger(β) - γ*Dagger(γ) + δ*Dagger(δ) + 1)**2 + (rz - sz - α*Dagger(α) + β*Dagger(β) + γ*Dagger(γ) - δ*Dagger(δ) + 1)**2]])\n"
     ]
    }
   ],
   "source": [
    "print(rhotilde_t_rhotilde)"
   ]
  },
  {
   "cell_type": "markdown",
   "id": "0b4f99e8-e1f9-4e35-9df6-abd586e025c1",
   "metadata": {},
   "source": [
    "# now find the Bchsh condition for this general rho matrix"
   ]
  },
  {
   "cell_type": "code",
   "execution_count": 46,
   "id": "e0c451c2-e411-458b-b87b-194c4238db66",
   "metadata": {},
   "outputs": [
    {
     "name": "stdout",
     "output_type": "stream",
     "text": [
      "t symm eigs:  {4*α*δ*Dagger(α)*Dagger(δ) - 4*α*δ*Dagger(β)*Dagger(γ) - 4*β*γ*Dagger(α)*Dagger(δ) + 4*β*γ*Dagger(β)*Dagger(γ): 2, α**2*Dagger(α)**2 + 2*α*β*Dagger(α)*Dagger(β) + 2*α*γ*Dagger(α)*Dagger(γ) + 2*α*δ*Dagger(α)*Dagger(δ) + β**2*Dagger(β)**2 + 2*β*γ*Dagger(β)*Dagger(γ) + 2*β*δ*Dagger(β)*Dagger(δ) + γ**2*Dagger(γ)**2 + 2*γ*δ*Dagger(γ)*Dagger(δ) + δ**2*Dagger(δ)**2: 1}\n"
     ]
    },
    {
     "data": {
      "text/latex": [
       "$\\displaystyle 2 \\sqrt{α^{2} \\left(α^{\\dagger}\\right)^{2} + 2 α β α^{\\dagger} β^{\\dagger} + 2 α γ α^{\\dagger} γ^{\\dagger} + 10 α δ α^{\\dagger} δ^{\\dagger} - 8 α δ β^{\\dagger} γ^{\\dagger} + β^{2} \\left(β^{\\dagger}\\right)^{2} - 8 β γ α^{\\dagger} δ^{\\dagger} + 10 β γ β^{\\dagger} γ^{\\dagger} + 2 β δ β^{\\dagger} δ^{\\dagger} + γ^{2} \\left(γ^{\\dagger}\\right)^{2} + 2 γ δ γ^{\\dagger} δ^{\\dagger} + δ^{2} \\left(δ^{\\dagger}\\right)^{2}}$"
      ],
      "text/plain": [
       "2*sqrt(α**2*Dagger(α)**2 + 2*α*β*Dagger(α)*Dagger(β) + 2*α*γ*Dagger(α)*Dagger(γ) + 10*α*δ*Dagger(α)*Dagger(δ) - 8*α*δ*Dagger(β)*Dagger(γ) + β**2*Dagger(β)**2 - 8*β*γ*Dagger(α)*Dagger(δ) + 10*β*γ*Dagger(β)*Dagger(γ) + 2*β*δ*Dagger(β)*Dagger(δ) + γ**2*Dagger(γ)**2 + 2*γ*δ*Dagger(γ)*Dagger(δ) + δ**2*Dagger(δ)**2)"
      ]
     },
     "execution_count": 46,
     "metadata": {},
     "output_type": "execute_result"
    }
   ],
   "source": [
    "# if no substitution is done, all the singular values of T are considered instead of just two\n",
    "# because you cant compare expressions? can you?\n",
    "chsh_score= get_chsh_score(T)\n",
    "chsh_score"
   ]
  },
  {
   "cell_type": "markdown",
   "id": "6acab032-fcf6-4e0b-9975-900a643f508b",
   "metadata": {},
   "source": [
    "## we now have a general expression of singular values, sum of the biggest 2 can be found after analysis, and thus comparison can be done between this rule and realigned general rho"
   ]
  },
  {
   "cell_type": "code",
   "execution_count": 47,
   "id": "11cde662-9e29-48ce-9a88-4af82ef12c68",
   "metadata": {},
   "outputs": [
    {
     "data": {
      "text/plain": [
       "(0.137233184586898,\n",
       " 0.00712529277768793,\n",
       " 0.550525181425600,\n",
       " 0.0191287238588070,\n",
       " 0.118255380554405,\n",
       " -0.695599836613160,\n",
       " -0.0408381571867490,\n",
       " -0.400650031830459,\n",
       " -0.121548405239709,\n",
       " -0.0535417048665619)"
      ]
     },
     "execution_count": 47,
     "metadata": {},
     "output_type": "execute_result"
    }
   ],
   "source": [
    "generate_1_normalized_real(10)"
   ]
  },
  {
   "cell_type": "code",
   "execution_count": 48,
   "id": "88197761-4f1c-445a-962e-bb5d82e956fb",
   "metadata": {},
   "outputs": [],
   "source": [
    "def generate_realignment_scores_bell_basis(rhotilde_t_rhotilde, rx, ry, rz, sx, sy, sz, no_of_random_samples= 20):\n",
    "    res= {}\n",
    "    for i in range(no_of_random_samples):\n",
    "        a, b, c, d, e, f, g, h, i, j = generate_1_normalized_real(10)\n",
    "        subbed_symm= simplify(rhotilde_t_rhotilde.subs({rx: a, ry: b, rz: c, sx: d, sy: e, sz: f, alpha: g, beta: h, gamma: i, delta: j}))\n",
    "        print(\"subbed symm: \", subbed_symm)\n",
    "        try:\n",
    "            eig_dict= subbed_symm.eigenvals()\n",
    "            res[str((a, b, c, d))]= sum(get_singular_values_from_eig_dict(eig_dict))\n",
    "        except e:\n",
    "            print(e)\n",
    "    return res"
   ]
  },
  {
   "cell_type": "code",
   "execution_count": 49,
   "id": "2e8efc2f-62f5-46c0-87a0-2a6b104a0872",
   "metadata": {},
   "outputs": [
    {
     "name": "stdout",
     "output_type": "stream",
     "text": [
      "subbed symm:  Matrix([[3.27392821567761, 0.793535021198039 - 0.987553037392442*I, 0.793535021198039 + 0.987553037392442*I, 1.67877061887495], [0.793535021198039 - 0.987553037392442*I, 0.27974291194915 - 0.344077304194936*I, 0.653636969950706, 0.221880334344653 - 0.559658367703514*I], [0.793535021198039 + 0.987553037392442*I, 0.653636969950706, 0.27974291194915 + 0.344077304194936*I, 0.221880334344653 + 0.559658367703514*I], [1.67877061887495, 0.221880334344653 - 0.559658367703514*I, 0.221880334344653 + 0.559658367703514*I, 2.17630758681191]])\n",
      "subbed symm:  Matrix([[2.14645288575775, -0.0657349610440739 + 0.331692154503324*I, -0.0657349610440739 - 0.331692154503324*I, 0.770140280692768], [-0.0657349610440739 + 0.331692154503324*I, 0.485014732534829 - 0.00885712906166704*I, 0.192851812068618, -0.61371006972304 + 0.325006035997477*I], [-0.0657349610440739 - 0.331692154503324*I, 0.192851812068618, 0.485014732534829 + 0.00885712906166704*I, -0.61371006972304 - 0.325006035997477*I], [0.770140280692768, -0.61371006972304 + 0.325006035997477*I, -0.61371006972304 - 0.325006035997477*I, 2.23033429348170]])\n",
      "subbed symm:  Matrix([[3.18356791517786, 0.27822970586122 + 1.13968986207565*I, 0.27822970586122 - 1.13968986207565*I, 2.77524431290801], [0.27822970586122 + 1.13968986207565*I, -0.597483328306842 + 0.27091671778455*I, 0.742203902629497, 0.32206447760637 + 1.17569426590539*I], [0.27822970586122 - 1.13968986207565*I, 0.742203902629497, -0.597483328306842 - 0.27091671778455*I, 0.32206447760637 - 1.17569426590539*I], [2.77524431290801, 0.32206447760637 + 1.17569426590539*I, 0.32206447760637 - 1.17569426590539*I, 2.61427856421020]])\n",
      "subbed symm:  Matrix([[2.67249230791575, -0.585799122192197 + 0.0360791814229233*I, -0.585799122192197 - 0.0360791814229233*I, 0.984428572857915], [-0.585799122192197 + 0.0360791814229233*I, 0.342300374518007 - 0.121627671289227*I, 0.132125492664091, -0.323711812241607 - 0.160712630496101*I], [-0.585799122192197 - 0.0360791814229233*I, 0.132125492664091, 0.342300374518007 + 0.121627671289227*I, -0.323711812241607 + 0.160712630496101*I], [0.984428572857915, -0.323711812241607 - 0.160712630496101*I, -0.323711812241607 + 0.160712630496101*I, 0.761102481911724]])\n",
      "subbed symm:  Matrix([[3.15556409243102, -0.0579001635896653 - 0.0935604235940544*I, -0.0579001635896653 + 0.0935604235940544*I, 1.08308414614307], [-0.0579001635896653 - 0.0935604235940544*I, 0.242154867846477 - 0.0113673626853976*I, 0.242065671421472, 0.168551142656652 - 0.0655400719672246*I], [-0.0579001635896653 + 0.0935604235940544*I, 0.242065671421472, 0.242154867846477 + 0.0113673626853976*I, 0.168551142656652 + 0.0655400719672246*I], [1.08308414614307, 0.168551142656652 - 0.0655400719672246*I, 0.168551142656652 + 0.0655400719672246*I, 0.286788958126861]])\n",
      "subbed symm:  Matrix([[0.827820183376163, 0.269881769567345 - 0.593196531505293*I, 0.269881769567345 + 0.593196531505293*I, 1.19751121177740], [0.269881769567345 - 0.593196531505293*I, -0.344097088466727 - 0.268275538777544*I, 0.581644475114578, 0.236449887223559 - 1.1611027362778*I], [0.269881769567345 + 0.593196531505293*I, 0.581644475114578, -0.344097088466727 + 0.268275538777544*I, 0.236449887223559 + 1.1611027362778*I], [1.19751121177740, 0.236449887223559 - 1.1611027362778*I, 0.236449887223559 + 1.1611027362778*I, 3.59848400853610]])\n",
      "subbed symm:  Matrix([[2.04398204389749, -1.46519183298951 + 0.359311384182598*I, -1.46519183298951 - 0.359311384182598*I, 1.92481107452587], [-1.46519183298951 + 0.359311384182598*I, 1.25219061168539 - 0.717337505546948*I, 1.28512807040487, -1.6788125749733 + 0.446048209100092*I], [-1.46519183298951 - 0.359311384182598*I, 1.28512807040487, 1.25219061168539 + 0.717337505546948*I, -1.6788125749733 - 0.446048209100092*I], [1.92481107452587, -1.6788125749733 + 0.446048209100092*I, -1.6788125749733 - 0.446048209100092*I, 2.33608956176105]])\n",
      "subbed symm:  Matrix([[1.02595466554717, -0.0964537238303751 + 0.276292183376118*I, -0.0964537238303751 - 0.276292183376118*I, 0.788928789797840], [-0.0964537238303751 + 0.276292183376118*I, -0.050394324386285 - 0.176440902766311*I, 0.211479125591809, -0.649391713216859 + 0.729606284496336*I], [-0.0964537238303751 - 0.276292183376118*I, 0.211479125591809, -0.050394324386285 + 0.176440902766311*I, -0.649391713216859 - 0.729606284496336*I], [0.788928789797840, -0.649391713216859 + 0.729606284496336*I, -0.649391713216859 - 0.729606284496336*I, 5.14854795159763]])\n",
      "subbed symm:  Matrix([[-0.204828856743275, 0.215983045741351 + 0.167437637249826*I, 0.215983045741351 - 0.167437637249826*I, 0.638813825658594], [0.215983045741351 + 0.167437637249826*I, 0.100839851363465 + 0.343317463680575*I, 0.358338266263648, 1.14861078457242 + 0.868376969642925*I], [0.215983045741351 - 0.167437637249826*I, 0.358338266263648, 0.100839851363465 - 0.343317463680575*I, 1.14861078457242 - 0.868376969642925*I], [0.638813825658594, 1.14861078457242 + 0.868376969642925*I, 1.14861078457242 - 0.868376969642925*I, 5.29388025884383]])\n",
      "subbed symm:  Matrix([[1.57362990574356, -0.304133628080211 + 0.0602409102654731*I, -0.304133628080211 - 0.0602409102654731*I, 1.42495331903273], [-0.304133628080211 + 0.0602409102654731*I, 0.111636723521059 - 0.0893928699604341*I, 0.108722868491972, -0.28995131078932 + 0.0484986869682414*I], [-0.304133628080211 - 0.0602409102654731*I, 0.108722868491972, 0.111636723521059 + 0.0893928699604341*I, -0.28995131078932 - 0.0484986869682414*I], [1.42495331903273, -0.28995131078932 + 0.0484986869682414*I, -0.28995131078932 - 0.0484986869682414*I, 1.45603146657243]])\n",
      "subbed symm:  Matrix([[1.28593828907690, 0.854810619433209 + 0.186456915313622*I, 0.854810619433209 - 0.186456915313622*I, 2.12476094607784], [0.854810619433209 + 0.186456915313622*I, 1.01894512142879 + 0.407996768354805*I, 1.10021326364678, 1.88660959119127 + 0.387671503815369*I], [0.854810619433209 - 0.186456915313622*I, 1.10021326364678, 1.01894512142879 - 0.407996768354805*I, 1.88660959119127 - 0.387671503815369*I], [2.12476094607784, 1.88660959119127 + 0.387671503815369*I, 1.88660959119127 - 0.387671503815369*I, 3.97386198526227]])\n",
      "subbed symm:  Matrix([[3.58537045707139, 0.47713176129622 + 1.68269689992372*I, 0.47713176129622 - 1.68269689992372*I, 1.78566330649933], [0.47713176129622 + 1.68269689992372*I, -0.697439254086743 + 0.642259520500677*I, 1.08393953614186, 0.237417392475501 + 0.911409424214565*I], [0.47713176129622 - 1.68269689992372*I, 1.08393953614186, -0.697439254086743 - 0.642259520500677*I, 0.237417392475501 - 0.911409424214565*I], [1.78566330649933, 0.237417392475501 + 0.911409424214565*I, 0.237417392475501 - 0.911409424214565*I, 1.04749086606202]])\n",
      "subbed symm:  Matrix([[2.43518198046463, -0.263940448206343 - 0.0635901446360965*I, -0.263940448206343 + 0.0635901446360965*I, 2.26780750629142], [-0.263940448206343 - 0.0635901446360965*I, 0.20819343564093 + 0.00799300394393106*I, 0.139991236320487, -0.263396189494722 - 0.127366430176097*I], [-0.263940448206343 + 0.0635901446360965*I, 0.139991236320487, 0.20819343564093 - 0.00799300394393106*I, -0.263396189494722 + 0.127366430176097*I], [2.26780750629142, -0.263396189494722 - 0.127366430176097*I, -0.263396189494722 + 0.127366430176097*I, 2.50091919430494]])\n",
      "subbed symm:  Matrix([[2.99809399542872, 0.0995715254877618 - 1.01841641702608*I, 0.0995715254877618 + 1.01841641702608*I, 2.57316876557117], [0.0995715254877618 - 1.01841641702608*I, -0.413944147908407 - 0.0864287146685856*I, 0.445133829963833, 0.107903969926662 - 0.878965950024382*I], [0.0995715254877618 + 1.01841641702608*I, 0.445133829963833, -0.413944147908407 + 0.0864287146685856*I, 0.107903969926662 + 0.878965950024382*I], [2.57316876557117, 0.107903969926662 - 0.878965950024382*I, 0.107903969926662 + 0.878965950024382*I, 2.24727951681060]])\n",
      "subbed symm:  Matrix([[1.83703759055051, 0.314172545585629 + 0.382594269892627*I, 0.314172545585629 - 0.382594269892627*I, 2.11119623046907], [0.314172545585629 + 0.382594269892627*I, -0.145528960690925 + 0.0792110726027733*I, 0.361578503908702, 0.268307099885663 + 0.998696969972811*I], [0.314172545585629 - 0.382594269892627*I, 0.361578503908702, -0.145528960690925 - 0.0792110726027733*I, 0.268307099885663 - 0.998696969972811*I], [2.11119623046907, 0.268307099885663 + 0.998696969972811*I, 0.268307099885663 - 0.998696969972811*I, 4.08856259124209]])\n",
      "subbed symm:  Matrix([[2.71567029337231, 0.486150104295192 + 0.924363608856495*I, 0.486150104295192 - 0.924363608856495*I, 1.98404276461767], [0.486150104295192 + 0.924363608856495*I, -0.368668099020102 + 0.425970619252428*I, 0.737867399775301, 0.312057712660064 + 1.1468394540127*I], [0.486150104295192 - 0.924363608856495*I, 0.737867399775301, -0.368668099020102 - 0.425970619252428*I, 0.312057712660064 - 1.1468394540127*I], [1.98404276461767, 0.312057712660064 + 1.1468394540127*I, 0.312057712660064 - 1.1468394540127*I, 2.52807692521978]])\n",
      "subbed symm:  Matrix([[3.24123741019209, -0.15283059663726 - 0.488781211677566*I, -0.15283059663726 + 0.488781211677566*I, 2.83957520509490], [-0.15283059663726 - 0.488781211677566*I, 0.465944987943332 - 0.0989104095551745*I, 0.108529308898676, -0.215690953871297 - 0.407761234307036*I], [-0.15283059663726 + 0.488781211677566*I, 0.108529308898676, 0.465944987943332 + 0.0989104095551745*I, -0.215690953871297 + 0.407761234307036*I], [2.83957520509490, -0.215690953871297 - 0.407761234307036*I, -0.215690953871297 + 0.407761234307036*I, 3.52864064540792]])\n",
      "subbed symm:  Matrix([[2.45939263078638, -0.257222425807075 - 0.434976417464283*I, -0.257222425807075 + 0.434976417464283*I, 1.76467055330428], [-0.257222425807075 - 0.434976417464283*I, 0.347023194518369 + 0.181692309873698*I, 0.192346651383313, -0.173068760064295 - 0.336535993254717*I], [-0.257222425807075 + 0.434976417464283*I, 0.192346651383313, 0.347023194518369 - 0.181692309873698*I, -0.173068760064295 + 0.336535993254717*I], [1.76467055330428, -0.173068760064295 - 0.336535993254717*I, -0.173068760064295 + 0.336535993254717*I, 3.90889586592123]])\n",
      "subbed symm:  Matrix([[2.74314855172595, 1.08849065147232 + 0.335467243652845*I, 1.08849065147232 - 0.335467243652845*I, 1.82700326792543], [1.08849065147232 + 0.335467243652845*I, 0.379247496267278 + 0.31813392400298*I, 0.423247189793582, 0.708503487528735 + 0.220092483965394*I], [1.08849065147232 - 0.335467243652845*I, 0.423247189793582, 0.379247496267278 - 0.31813392400298*I, 0.708503487528735 - 0.220092483965394*I], [1.82700326792543, 0.708503487528735 + 0.220092483965394*I, 0.708503487528735 - 0.220092483965394*I, 2.48132503676704]])\n",
      "subbed symm:  Matrix([[0.759278194163052, 0.0851731917093597 - 0.383812562280045*I, 0.0851731917093597 + 0.383812562280045*I, 1.69266046959265], [0.0851731917093597 - 0.383812562280045*I, -0.102466498401395 + 0.0847048655653751*I, 0.494724159496286, 0.216462445760921 - 1.09321487783863*I], [0.0851731917093597 + 0.383812562280045*I, 0.494724159496286, -0.102466498401395 - 0.0847048655653751*I, 0.216462445760921 + 1.09321487783863*I], [1.69266046959265, 0.216462445760921 - 1.09321487783863*I, 0.216462445760921 + 1.09321487783863*I, 4.59700127450434]])\n"
     ]
    },
    {
     "data": {
      "text/plain": [
       "{'(0.359395643980454, -0.176848849134892, 0.0555195151107999, 0.193886082209290)': 4.26376447844523 + 0.e-33*I,\n",
       " '(0.0765007475985316, -0.539849387196041, -0.158803224308983, -0.123337500108516)': 4.21174954012086 + 0.e-32*I,\n",
       " '(0.593199874350130, 0.110154308118964, -0.280695152823607, 0.114178523709898)': 2.58346765556907 - 0.668042303947488*I,\n",
       " '(0.0736194357660213, -0.661185173473234, -0.327188789907657, -0.202781810579280)': 3.42067672826342 - 0.e-64*I,\n",
       " '(-0.194259344471788, 0.621890857296955, -0.223778268226467, 0.116708173288633)': 2.63527619404257 + 0.427875681316296*I,\n",
       " '(-0.172894011047486, -0.422320348518571, -0.0335851849800119, 0.131579205444338)': 2.87199976212909 - 0.e-64*I,\n",
       " '(-0.240602750934977, 0.171081009309855, -0.00952613918564805, -0.749712410482594)': 3.71203823381097 + 0.e-32*I,\n",
       " '(0.151062971909663, -0.241003698544867, 0.0656337247357289, -0.171747724574674)': 3.31722969332238 + 0.e-64*I,\n",
       " '(0.0599204129159702, -0.512473538444288, 0.234251047807275, 0.338027797249577)': 2.41286934706683 - 0.527138028626744*I,\n",
       " '(0.423993816102580, -0.728523252319188, -0.293123479738794, -0.205080039796783)': 2.54422890130503 + 0.e-65*I,\n",
       " '(-0.401888368511656, -0.0209695800692999, 0.166104585593468, 0.712106212681055)': 3.353364909077 + 0.e-64*I,\n",
       " '(-0.0952080768546052, -0.242480161928659, -0.274327437649072, 0.229781778657123)': 2.52297679956927 - 0.e-64*I,\n",
       " '(0.642105781303230, -0.494006090885082, 0.125326401319035, -0.0139121099601708)': 3.46707756872908 - 0.e-65*I,\n",
       " '(0.693380204094703, -0.429706043639979, -0.0532452526805825, 0.0465620664362972)': 2.34986504398546 - 0.469582648787766*I,\n",
       " '(0.190826862691090, -0.258256267667661, -0.546608167343345, 0.0523296786350787)': 3.43449170560266 + 0.e-64*I,\n",
       " '(-0.387777955529323, -0.194574473873629, 0.197399535377183, 0.194641606738561)': 3.19586045985739 + 0.e-65*I,\n",
       " '(0.195869593072013, -0.109764739652741, 0.727881830247579, 0.133288697341230)': 4.67359171974717 - 0.e-64*I,\n",
       " '(-0.141954443587555, 0.186346808701965, -0.501774620196834, -0.179879618501747)': 4.62685789959086 - 0.e-65*I,\n",
       " '(-0.340663964188992, 0.344574730584000, 0.335395026801322, 0.405979224407386)': 3.37548038478499 - 0.e-65*I,\n",
       " '(0.395530771924175, -0.300600864649971, 0.163145147862148, -0.0511944551240920)': 3.19638336579381 + 0.e-63*I}"
      ]
     },
     "execution_count": 49,
     "metadata": {},
     "output_type": "execute_result"
    }
   ],
   "source": [
    "generate_realignment_scores_bell_basis(rhotilde_t_rhotilde, rx, ry, rz, sx, sy, sz)"
   ]
  },
  {
   "cell_type": "code",
   "execution_count": 50,
   "id": "fab0f5c3-0b55-4ded-9a12-aed507cf2f96",
   "metadata": {},
   "outputs": [
    {
     "ename": "KeyboardInterrupt",
     "evalue": "",
     "output_type": "error",
     "traceback": [
      "\u001b[0;31m---------------------------------------------------------------------------\u001b[0m",
      "\u001b[0;31mKeyboardInterrupt\u001b[0m                         Traceback (most recent call last)",
      "Cell \u001b[0;32mIn[50], line 1\u001b[0m\n\u001b[0;32m----> 1\u001b[0m eigs\u001b[38;5;241m=\u001b[39m \u001b[43mrhotilde_t_rhotilde\u001b[49m\u001b[38;5;241;43m.\u001b[39;49m\u001b[43meigenvals\u001b[49m\u001b[43m(\u001b[49m\u001b[43m)\u001b[49m\n\u001b[1;32m      2\u001b[0m eigs\n",
      "File \u001b[0;32m/usr/lib/python3.13/site-packages/sympy/matrices/matrixbase.py:3333\u001b[0m, in \u001b[0;36mMatrixBase.eigenvals\u001b[0;34m(self, error_when_incomplete, **flags)\u001b[0m\n\u001b[1;32m   3332\u001b[0m \u001b[38;5;28;01mdef\u001b[39;00m\u001b[38;5;250m \u001b[39m\u001b[38;5;21meigenvals\u001b[39m(\u001b[38;5;28mself\u001b[39m, error_when_incomplete\u001b[38;5;241m=\u001b[39m\u001b[38;5;28;01mTrue\u001b[39;00m, \u001b[38;5;241m*\u001b[39m\u001b[38;5;241m*\u001b[39mflags):\n\u001b[0;32m-> 3333\u001b[0m     \u001b[38;5;28;01mreturn\u001b[39;00m \u001b[43m_eigenvals\u001b[49m\u001b[43m(\u001b[49m\u001b[38;5;28;43mself\u001b[39;49m\u001b[43m,\u001b[49m\u001b[43m \u001b[49m\u001b[43merror_when_incomplete\u001b[49m\u001b[38;5;241;43m=\u001b[39;49m\u001b[43merror_when_incomplete\u001b[49m\u001b[43m,\u001b[49m\u001b[43m \u001b[49m\u001b[38;5;241;43m*\u001b[39;49m\u001b[38;5;241;43m*\u001b[39;49m\u001b[43mflags\u001b[49m\u001b[43m)\u001b[49m\n",
      "File \u001b[0;32m/usr/lib/python3.13/site-packages/sympy/matrices/eigen.py:182\u001b[0m, in \u001b[0;36m_eigenvals\u001b[0;34m(M, error_when_incomplete, simplify, multiple, rational, **flags)\u001b[0m\n\u001b[1;32m    178\u001b[0m \u001b[38;5;28;01mif\u001b[39;00m multiple:\n\u001b[1;32m    179\u001b[0m     \u001b[38;5;28;01mreturn\u001b[39;00m _eigenvals_list(\n\u001b[1;32m    180\u001b[0m         M, error_when_incomplete\u001b[38;5;241m=\u001b[39merror_when_incomplete, simplify\u001b[38;5;241m=\u001b[39msimplify,\n\u001b[1;32m    181\u001b[0m         \u001b[38;5;241m*\u001b[39m\u001b[38;5;241m*\u001b[39mflags)\n\u001b[0;32m--> 182\u001b[0m \u001b[38;5;28;01mreturn\u001b[39;00m \u001b[43m_eigenvals_dict\u001b[49m\u001b[43m(\u001b[49m\n\u001b[1;32m    183\u001b[0m \u001b[43m    \u001b[49m\u001b[43mM\u001b[49m\u001b[43m,\u001b[49m\u001b[43m \u001b[49m\u001b[43merror_when_incomplete\u001b[49m\u001b[38;5;241;43m=\u001b[39;49m\u001b[43merror_when_incomplete\u001b[49m\u001b[43m,\u001b[49m\u001b[43m \u001b[49m\u001b[43msimplify\u001b[49m\u001b[38;5;241;43m=\u001b[39;49m\u001b[43msimplify\u001b[49m\u001b[43m,\u001b[49m\n\u001b[1;32m    184\u001b[0m \u001b[43m    \u001b[49m\u001b[38;5;241;43m*\u001b[39;49m\u001b[38;5;241;43m*\u001b[39;49m\u001b[43mflags\u001b[49m\u001b[43m)\u001b[49m\n",
      "File \u001b[0;32m/usr/lib/python3.13/site-packages/sympy/matrices/eigen.py:258\u001b[0m, in \u001b[0;36m_eigenvals_dict\u001b[0;34m(M, error_when_incomplete, simplify, **flags)\u001b[0m\n\u001b[1;32m    256\u001b[0m     charpoly \u001b[38;5;241m=\u001b[39m block\u001b[38;5;241m.\u001b[39mcharpoly(simplify\u001b[38;5;241m=\u001b[39msimplify)\n\u001b[1;32m    257\u001b[0m \u001b[38;5;28;01melse\u001b[39;00m:\n\u001b[0;32m--> 258\u001b[0m     charpoly \u001b[38;5;241m=\u001b[39m \u001b[43mblock\u001b[49m\u001b[38;5;241;43m.\u001b[39;49m\u001b[43mcharpoly\u001b[49m\u001b[43m(\u001b[49m\u001b[43m)\u001b[49m\n\u001b[1;32m    260\u001b[0m eigs \u001b[38;5;241m=\u001b[39m roots(charpoly, multiple\u001b[38;5;241m=\u001b[39m\u001b[38;5;28;01mFalse\u001b[39;00m, \u001b[38;5;241m*\u001b[39m\u001b[38;5;241m*\u001b[39mflags)\n\u001b[1;32m    262\u001b[0m \u001b[38;5;28;01mif\u001b[39;00m \u001b[38;5;28msum\u001b[39m(eigs\u001b[38;5;241m.\u001b[39mvalues()) \u001b[38;5;241m!=\u001b[39m block\u001b[38;5;241m.\u001b[39mrows:\n",
      "File \u001b[0;32m/usr/lib/python3.13/site-packages/sympy/matrices/matrixbase.py:3071\u001b[0m, in \u001b[0;36mMatrixBase.charpoly\u001b[0;34m(self, x, simplify)\u001b[0m\n\u001b[1;32m   3070\u001b[0m \u001b[38;5;28;01mdef\u001b[39;00m\u001b[38;5;250m \u001b[39m\u001b[38;5;21mcharpoly\u001b[39m(\u001b[38;5;28mself\u001b[39m, x\u001b[38;5;241m=\u001b[39m\u001b[38;5;124m'\u001b[39m\u001b[38;5;124mlambda\u001b[39m\u001b[38;5;124m'\u001b[39m, simplify\u001b[38;5;241m=\u001b[39m_utilities_simplify):\n\u001b[0;32m-> 3071\u001b[0m     \u001b[38;5;28;01mreturn\u001b[39;00m \u001b[43m_charpoly\u001b[49m\u001b[43m(\u001b[49m\u001b[38;5;28;43mself\u001b[39;49m\u001b[43m,\u001b[49m\u001b[43m \u001b[49m\u001b[43mx\u001b[49m\u001b[38;5;241;43m=\u001b[39;49m\u001b[43mx\u001b[49m\u001b[43m,\u001b[49m\u001b[43m \u001b[49m\u001b[43msimplify\u001b[49m\u001b[38;5;241;43m=\u001b[39;49m\u001b[43msimplify\u001b[49m\u001b[43m)\u001b[49m\n",
      "File \u001b[0;32m/usr/lib/python3.13/site-packages/sympy/matrices/determinant.py:431\u001b[0m, in \u001b[0;36m_charpoly\u001b[0;34m(M, x, simplify)\u001b[0m\n\u001b[1;32m    424\u001b[0m \u001b[38;5;28;01mif\u001b[39;00m K\u001b[38;5;241m.\u001b[39mis_EXRAW \u001b[38;5;129;01mor\u001b[39;00m simplify \u001b[38;5;129;01mis\u001b[39;00m \u001b[38;5;129;01mnot\u001b[39;00m _simplify:\n\u001b[1;32m    425\u001b[0m     \u001b[38;5;66;03m# XXX: Converting back to Expr is expensive. We only do it if the\u001b[39;00m\n\u001b[1;32m    426\u001b[0m     \u001b[38;5;66;03m# caller supplied a custom simplify function for backwards\u001b[39;00m\n\u001b[1;32m    427\u001b[0m     \u001b[38;5;66;03m# compatibility or otherwise if the domain was EX. For any other domain\u001b[39;00m\n\u001b[1;32m    428\u001b[0m     \u001b[38;5;66;03m# there should be no benefit in simplifying at this stage because Poly\u001b[39;00m\n\u001b[1;32m    429\u001b[0m     \u001b[38;5;66;03m# will put everything into canonical form anyway.\u001b[39;00m\n\u001b[1;32m    430\u001b[0m     berk_vector \u001b[38;5;241m=\u001b[39m [K\u001b[38;5;241m.\u001b[39mto_sympy(c) \u001b[38;5;28;01mfor\u001b[39;00m c \u001b[38;5;129;01min\u001b[39;00m cp]\n\u001b[0;32m--> 431\u001b[0m     berk_vector \u001b[38;5;241m=\u001b[39m [\u001b[43msimplify\u001b[49m\u001b[43m(\u001b[49m\u001b[43ma\u001b[49m\u001b[43m)\u001b[49m \u001b[38;5;28;01mfor\u001b[39;00m a \u001b[38;5;129;01min\u001b[39;00m berk_vector]\n\u001b[1;32m    432\u001b[0m     p \u001b[38;5;241m=\u001b[39m PurePoly(berk_vector, x)\n\u001b[1;32m    434\u001b[0m \u001b[38;5;28;01melse\u001b[39;00m:\n\u001b[1;32m    435\u001b[0m     \u001b[38;5;66;03m# Convert from the list of domain elements directly to Poly.\u001b[39;00m\n",
      "File \u001b[0;32m/usr/lib/python3.13/site-packages/sympy/matrices/utilities.py:72\u001b[0m, in \u001b[0;36m_simplify\u001b[0;34m(expr)\u001b[0m\n\u001b[1;32m     70\u001b[0m \u001b[38;5;250m\u001b[39m\u001b[38;5;124;03m\"\"\" Wrapper to avoid circular imports. \"\"\"\u001b[39;00m\n\u001b[1;32m     71\u001b[0m \u001b[38;5;28;01mfrom\u001b[39;00m\u001b[38;5;250m \u001b[39m\u001b[38;5;21;01msympy\u001b[39;00m\u001b[38;5;21;01m.\u001b[39;00m\u001b[38;5;21;01msimplify\u001b[39;00m\u001b[38;5;21;01m.\u001b[39;00m\u001b[38;5;21;01msimplify\u001b[39;00m\u001b[38;5;250m \u001b[39m\u001b[38;5;28;01mimport\u001b[39;00m simplify\n\u001b[0;32m---> 72\u001b[0m \u001b[38;5;28;01mreturn\u001b[39;00m \u001b[43msimplify\u001b[49m\u001b[43m(\u001b[49m\u001b[43mexpr\u001b[49m\u001b[43m)\u001b[49m\n",
      "File \u001b[0;32m/usr/lib/python3.13/site-packages/sympy/simplify/simplify.py:644\u001b[0m, in \u001b[0;36msimplify\u001b[0;34m(expr, ratio, measure, rational, inverse, doit, **kwargs)\u001b[0m\n\u001b[1;32m    642\u001b[0m expr \u001b[38;5;241m=\u001b[39m _bottom_up(expr, \u001b[38;5;28;01mlambda\u001b[39;00m w: \u001b[38;5;28mgetattr\u001b[39m(w, \u001b[38;5;124m'\u001b[39m\u001b[38;5;124mnormal\u001b[39m\u001b[38;5;124m'\u001b[39m, \u001b[38;5;28;01mlambda\u001b[39;00m: w)())\n\u001b[1;32m    643\u001b[0m expr \u001b[38;5;241m=\u001b[39m Mul(\u001b[38;5;241m*\u001b[39mpowsimp(expr)\u001b[38;5;241m.\u001b[39mas_content_primitive())\n\u001b[0;32m--> 644\u001b[0m _e \u001b[38;5;241m=\u001b[39m \u001b[43mcancel\u001b[49m\u001b[43m(\u001b[49m\u001b[43mexpr\u001b[49m\u001b[43m)\u001b[49m\n\u001b[1;32m    645\u001b[0m expr1 \u001b[38;5;241m=\u001b[39m shorter(_e, _mexpand(_e)\u001b[38;5;241m.\u001b[39mcancel())  \u001b[38;5;66;03m# issue 6829\u001b[39;00m\n\u001b[1;32m    646\u001b[0m expr2 \u001b[38;5;241m=\u001b[39m shorter(together(expr, deep\u001b[38;5;241m=\u001b[39m\u001b[38;5;28;01mTrue\u001b[39;00m), together(expr1, deep\u001b[38;5;241m=\u001b[39m\u001b[38;5;28;01mTrue\u001b[39;00m))\n",
      "File \u001b[0;32m/usr/lib/python3.13/site-packages/sympy/polys/polytools.py:7182\u001b[0m, in \u001b[0;36mcancel\u001b[0;34m(f, _signsimp, *gens, **args)\u001b[0m\n\u001b[1;32m   7180\u001b[0m \u001b[38;5;28;01mif\u001b[39;00m f\u001b[38;5;241m.\u001b[39mhas(Piecewise):\n\u001b[1;32m   7181\u001b[0m     \u001b[38;5;28;01mraise\u001b[39;00m PolynomialError()\n\u001b[0;32m-> 7182\u001b[0m R, (F, G) \u001b[38;5;241m=\u001b[39m \u001b[43msring\u001b[49m\u001b[43m(\u001b[49m\u001b[43m(\u001b[49m\u001b[43mp\u001b[49m\u001b[43m,\u001b[49m\u001b[43m \u001b[49m\u001b[43mq\u001b[49m\u001b[43m)\u001b[49m\u001b[43m,\u001b[49m\u001b[43m \u001b[49m\u001b[38;5;241;43m*\u001b[39;49m\u001b[43mgens\u001b[49m\u001b[43m,\u001b[49m\u001b[43m \u001b[49m\u001b[38;5;241;43m*\u001b[39;49m\u001b[38;5;241;43m*\u001b[39;49m\u001b[43margs\u001b[49m\u001b[43m)\u001b[49m\n\u001b[1;32m   7183\u001b[0m \u001b[38;5;28;01mif\u001b[39;00m \u001b[38;5;129;01mnot\u001b[39;00m R\u001b[38;5;241m.\u001b[39mngens:\n\u001b[1;32m   7184\u001b[0m     \u001b[38;5;28;01mif\u001b[39;00m \u001b[38;5;129;01mnot\u001b[39;00m \u001b[38;5;28misinstance\u001b[39m(f, (\u001b[38;5;28mtuple\u001b[39m, Tuple)):\n",
      "File \u001b[0;32m/usr/lib/python3.13/site-packages/sympy/polys/rings.py:163\u001b[0m, in \u001b[0;36msring\u001b[0;34m(exprs, *symbols, **options)\u001b[0m\n\u001b[1;32m    160\u001b[0m opt \u001b[38;5;241m=\u001b[39m build_options(symbols, options)\n\u001b[1;32m    162\u001b[0m \u001b[38;5;66;03m# TODO: rewrite this so that it doesn't use expand() (see poly()).\u001b[39;00m\n\u001b[0;32m--> 163\u001b[0m reps, opt \u001b[38;5;241m=\u001b[39m \u001b[43m_parallel_dict_from_expr\u001b[49m\u001b[43m(\u001b[49m\u001b[43mexprs\u001b[49m\u001b[43m,\u001b[49m\u001b[43m \u001b[49m\u001b[43mopt\u001b[49m\u001b[43m)\u001b[49m\n\u001b[1;32m    165\u001b[0m \u001b[38;5;28;01mif\u001b[39;00m opt\u001b[38;5;241m.\u001b[39mdomain \u001b[38;5;129;01mis\u001b[39;00m \u001b[38;5;28;01mNone\u001b[39;00m:\n\u001b[1;32m    166\u001b[0m     coeffs \u001b[38;5;241m=\u001b[39m \u001b[38;5;28msum\u001b[39m([ \u001b[38;5;28mlist\u001b[39m(rep\u001b[38;5;241m.\u001b[39mvalues()) \u001b[38;5;28;01mfor\u001b[39;00m rep \u001b[38;5;129;01min\u001b[39;00m reps ], [])\n",
      "File \u001b[0;32m/usr/lib/python3.13/site-packages/sympy/polys/polyutils.py:344\u001b[0m, in \u001b[0;36m_parallel_dict_from_expr\u001b[0;34m(exprs, opt)\u001b[0m\n\u001b[1;32m    342\u001b[0m \u001b[38;5;250m\u001b[39m\u001b[38;5;124;03m\"\"\"Transform expressions into a multinomial form. \"\"\"\u001b[39;00m\n\u001b[1;32m    343\u001b[0m \u001b[38;5;28;01mif\u001b[39;00m opt\u001b[38;5;241m.\u001b[39mexpand \u001b[38;5;129;01mis\u001b[39;00m \u001b[38;5;129;01mnot\u001b[39;00m \u001b[38;5;28;01mFalse\u001b[39;00m:\n\u001b[0;32m--> 344\u001b[0m     exprs \u001b[38;5;241m=\u001b[39m [ \u001b[43mexpr\u001b[49m\u001b[38;5;241;43m.\u001b[39;49m\u001b[43mexpand\u001b[49m\u001b[43m(\u001b[49m\u001b[43m)\u001b[49m \u001b[38;5;28;01mfor\u001b[39;00m expr \u001b[38;5;129;01min\u001b[39;00m exprs ]\n\u001b[1;32m    346\u001b[0m \u001b[38;5;28;01mif\u001b[39;00m \u001b[38;5;28many\u001b[39m(expr\u001b[38;5;241m.\u001b[39mis_commutative \u001b[38;5;129;01mis\u001b[39;00m \u001b[38;5;28;01mFalse\u001b[39;00m \u001b[38;5;28;01mfor\u001b[39;00m expr \u001b[38;5;129;01min\u001b[39;00m exprs):\n\u001b[1;32m    347\u001b[0m     \u001b[38;5;28;01mraise\u001b[39;00m PolynomialError(\u001b[38;5;124m'\u001b[39m\u001b[38;5;124mnon-commutative expressions are not supported\u001b[39m\u001b[38;5;124m'\u001b[39m)\n",
      "File \u001b[0;32m/usr/lib/python3.13/site-packages/sympy/core/cache.py:72\u001b[0m, in \u001b[0;36m__cacheit.<locals>.func_wrapper.<locals>.wrapper\u001b[0;34m(*args, **kwargs)\u001b[0m\n\u001b[1;32m     69\u001b[0m \u001b[38;5;129m@wraps\u001b[39m(func)\n\u001b[1;32m     70\u001b[0m \u001b[38;5;28;01mdef\u001b[39;00m\u001b[38;5;250m \u001b[39m\u001b[38;5;21mwrapper\u001b[39m(\u001b[38;5;241m*\u001b[39margs, \u001b[38;5;241m*\u001b[39m\u001b[38;5;241m*\u001b[39mkwargs):\n\u001b[1;32m     71\u001b[0m     \u001b[38;5;28;01mtry\u001b[39;00m:\n\u001b[0;32m---> 72\u001b[0m         retval \u001b[38;5;241m=\u001b[39m \u001b[43mcfunc\u001b[49m\u001b[43m(\u001b[49m\u001b[38;5;241;43m*\u001b[39;49m\u001b[43margs\u001b[49m\u001b[43m,\u001b[49m\u001b[43m \u001b[49m\u001b[38;5;241;43m*\u001b[39;49m\u001b[38;5;241;43m*\u001b[39;49m\u001b[43mkwargs\u001b[49m\u001b[43m)\u001b[49m\n\u001b[1;32m     73\u001b[0m     \u001b[38;5;28;01mexcept\u001b[39;00m \u001b[38;5;167;01mTypeError\u001b[39;00m \u001b[38;5;28;01mas\u001b[39;00m e:\n\u001b[1;32m     74\u001b[0m         \u001b[38;5;28;01mif\u001b[39;00m \u001b[38;5;129;01mnot\u001b[39;00m e\u001b[38;5;241m.\u001b[39margs \u001b[38;5;129;01mor\u001b[39;00m \u001b[38;5;129;01mnot\u001b[39;00m e\u001b[38;5;241m.\u001b[39margs[\u001b[38;5;241m0\u001b[39m]\u001b[38;5;241m.\u001b[39mstartswith(\u001b[38;5;124m'\u001b[39m\u001b[38;5;124munhashable type:\u001b[39m\u001b[38;5;124m'\u001b[39m):\n",
      "File \u001b[0;32m/usr/lib/python3.13/site-packages/sympy/core/expr.py:3673\u001b[0m, in \u001b[0;36mExpr.expand\u001b[0;34m(self, deep, modulus, power_base, power_exp, mul, log, multinomial, basic, **hints)\u001b[0m\n\u001b[1;32m   3671\u001b[0m     \u001b[38;5;28;01mif\u001b[39;00m use_hint:\n\u001b[1;32m   3672\u001b[0m         hint \u001b[38;5;241m=\u001b[39m \u001b[38;5;124m'\u001b[39m\u001b[38;5;124m_eval_expand_\u001b[39m\u001b[38;5;124m'\u001b[39m \u001b[38;5;241m+\u001b[39m hint\n\u001b[0;32m-> 3673\u001b[0m         expr, hit \u001b[38;5;241m=\u001b[39m \u001b[43mExpr\u001b[49m\u001b[38;5;241;43m.\u001b[39;49m\u001b[43m_expand_hint\u001b[49m\u001b[43m(\u001b[49m\u001b[43mexpr\u001b[49m\u001b[43m,\u001b[49m\u001b[43m \u001b[49m\u001b[43mhint\u001b[49m\u001b[43m,\u001b[49m\u001b[43m \u001b[49m\u001b[43mdeep\u001b[49m\u001b[38;5;241;43m=\u001b[39;49m\u001b[43mdeep\u001b[49m\u001b[43m,\u001b[49m\u001b[43m \u001b[49m\u001b[38;5;241;43m*\u001b[39;49m\u001b[38;5;241;43m*\u001b[39;49m\u001b[43mhints\u001b[49m\u001b[43m)\u001b[49m\n\u001b[1;32m   3675\u001b[0m \u001b[38;5;28;01mwhile\u001b[39;00m \u001b[38;5;28;01mTrue\u001b[39;00m:\n\u001b[1;32m   3676\u001b[0m     was \u001b[38;5;241m=\u001b[39m expr\n",
      "File \u001b[0;32m/usr/lib/python3.13/site-packages/sympy/core/expr.py:3604\u001b[0m, in \u001b[0;36mExpr._expand_hint\u001b[0;34m(expr, hint, deep, **hints)\u001b[0m\n\u001b[1;32m   3602\u001b[0m sargs \u001b[38;5;241m=\u001b[39m []\n\u001b[1;32m   3603\u001b[0m \u001b[38;5;28;01mfor\u001b[39;00m arg \u001b[38;5;129;01min\u001b[39;00m expr\u001b[38;5;241m.\u001b[39margs:\n\u001b[0;32m-> 3604\u001b[0m     arg, arghit \u001b[38;5;241m=\u001b[39m \u001b[43mExpr\u001b[49m\u001b[38;5;241;43m.\u001b[39;49m\u001b[43m_expand_hint\u001b[49m\u001b[43m(\u001b[49m\u001b[43marg\u001b[49m\u001b[43m,\u001b[49m\u001b[43m \u001b[49m\u001b[43mhint\u001b[49m\u001b[43m,\u001b[49m\u001b[43m \u001b[49m\u001b[38;5;241;43m*\u001b[39;49m\u001b[38;5;241;43m*\u001b[39;49m\u001b[43mhints\u001b[49m\u001b[43m)\u001b[49m\n\u001b[1;32m   3605\u001b[0m     hit \u001b[38;5;241m|\u001b[39m\u001b[38;5;241m=\u001b[39m arghit\n\u001b[1;32m   3606\u001b[0m     sargs\u001b[38;5;241m.\u001b[39mappend(arg)\n",
      "File \u001b[0;32m/usr/lib/python3.13/site-packages/sympy/core/expr.py:3612\u001b[0m, in \u001b[0;36mExpr._expand_hint\u001b[0;34m(expr, hint, deep, **hints)\u001b[0m\n\u001b[1;32m   3609\u001b[0m         expr \u001b[38;5;241m=\u001b[39m expr\u001b[38;5;241m.\u001b[39mfunc(\u001b[38;5;241m*\u001b[39msargs)\n\u001b[1;32m   3611\u001b[0m \u001b[38;5;28;01mif\u001b[39;00m \u001b[38;5;28mhasattr\u001b[39m(expr, hint):\n\u001b[0;32m-> 3612\u001b[0m     newexpr \u001b[38;5;241m=\u001b[39m \u001b[38;5;28;43mgetattr\u001b[39;49m\u001b[43m(\u001b[49m\u001b[43mexpr\u001b[49m\u001b[43m,\u001b[49m\u001b[43m \u001b[49m\u001b[43mhint\u001b[49m\u001b[43m)\u001b[49m\u001b[43m(\u001b[49m\u001b[38;5;241;43m*\u001b[39;49m\u001b[38;5;241;43m*\u001b[39;49m\u001b[43mhints\u001b[49m\u001b[43m)\u001b[49m\n\u001b[1;32m   3613\u001b[0m     \u001b[38;5;28;01mif\u001b[39;00m newexpr \u001b[38;5;241m!=\u001b[39m expr:\n\u001b[1;32m   3614\u001b[0m         \u001b[38;5;28;01mreturn\u001b[39;00m (newexpr, \u001b[38;5;28;01mTrue\u001b[39;00m)\n",
      "File \u001b[0;32m/usr/lib/python3.13/site-packages/sympy/core/mul.py:948\u001b[0m, in \u001b[0;36mMul._eval_expand_mul\u001b[0;34m(self, **hints)\u001b[0m\n\u001b[1;32m    946\u001b[0m \u001b[38;5;28;01mif\u001b[39;00m sums:\n\u001b[1;32m    947\u001b[0m     deep \u001b[38;5;241m=\u001b[39m hints\u001b[38;5;241m.\u001b[39mget(\u001b[38;5;124m\"\u001b[39m\u001b[38;5;124mdeep\u001b[39m\u001b[38;5;124m\"\u001b[39m, \u001b[38;5;28;01mFalse\u001b[39;00m)\n\u001b[0;32m--> 948\u001b[0m     terms \u001b[38;5;241m=\u001b[39m \u001b[38;5;28;43mself\u001b[39;49m\u001b[38;5;241;43m.\u001b[39;49m\u001b[43mfunc\u001b[49m\u001b[38;5;241;43m.\u001b[39;49m\u001b[43m_expandsums\u001b[49m\u001b[43m(\u001b[49m\u001b[43msums\u001b[49m\u001b[43m)\u001b[49m\n\u001b[1;32m    949\u001b[0m     args \u001b[38;5;241m=\u001b[39m []\n\u001b[1;32m    950\u001b[0m     \u001b[38;5;28;01mfor\u001b[39;00m term \u001b[38;5;129;01min\u001b[39;00m terms:\n",
      "File \u001b[0;32m/usr/lib/python3.13/site-packages/sympy/core/mul.py:913\u001b[0m, in \u001b[0;36mMul._expandsums\u001b[0;34m(sums)\u001b[0m\n\u001b[1;32m    910\u001b[0m right \u001b[38;5;241m=\u001b[39m Mul\u001b[38;5;241m.\u001b[39m_expandsums(sums[L\u001b[38;5;241m/\u001b[39m\u001b[38;5;241m/\u001b[39m\u001b[38;5;241m2\u001b[39m:])\n\u001b[1;32m    912\u001b[0m terms \u001b[38;5;241m=\u001b[39m [Mul(a, b) \u001b[38;5;28;01mfor\u001b[39;00m a \u001b[38;5;129;01min\u001b[39;00m left \u001b[38;5;28;01mfor\u001b[39;00m b \u001b[38;5;129;01min\u001b[39;00m right]\n\u001b[0;32m--> 913\u001b[0m added \u001b[38;5;241m=\u001b[39m \u001b[43mAdd\u001b[49m\u001b[43m(\u001b[49m\u001b[38;5;241;43m*\u001b[39;49m\u001b[43mterms\u001b[49m\u001b[43m)\u001b[49m\n\u001b[1;32m    914\u001b[0m \u001b[38;5;28;01mreturn\u001b[39;00m Add\u001b[38;5;241m.\u001b[39mmake_args(added)\n",
      "File \u001b[0;32m/usr/lib/python3.13/site-packages/sympy/core/cache.py:72\u001b[0m, in \u001b[0;36m__cacheit.<locals>.func_wrapper.<locals>.wrapper\u001b[0;34m(*args, **kwargs)\u001b[0m\n\u001b[1;32m     69\u001b[0m \u001b[38;5;129m@wraps\u001b[39m(func)\n\u001b[1;32m     70\u001b[0m \u001b[38;5;28;01mdef\u001b[39;00m\u001b[38;5;250m \u001b[39m\u001b[38;5;21mwrapper\u001b[39m(\u001b[38;5;241m*\u001b[39margs, \u001b[38;5;241m*\u001b[39m\u001b[38;5;241m*\u001b[39mkwargs):\n\u001b[1;32m     71\u001b[0m     \u001b[38;5;28;01mtry\u001b[39;00m:\n\u001b[0;32m---> 72\u001b[0m         retval \u001b[38;5;241m=\u001b[39m \u001b[43mcfunc\u001b[49m\u001b[43m(\u001b[49m\u001b[38;5;241;43m*\u001b[39;49m\u001b[43margs\u001b[49m\u001b[43m,\u001b[49m\u001b[43m \u001b[49m\u001b[38;5;241;43m*\u001b[39;49m\u001b[38;5;241;43m*\u001b[39;49m\u001b[43mkwargs\u001b[49m\u001b[43m)\u001b[49m\n\u001b[1;32m     73\u001b[0m     \u001b[38;5;28;01mexcept\u001b[39;00m \u001b[38;5;167;01mTypeError\u001b[39;00m \u001b[38;5;28;01mas\u001b[39;00m e:\n\u001b[1;32m     74\u001b[0m         \u001b[38;5;28;01mif\u001b[39;00m \u001b[38;5;129;01mnot\u001b[39;00m e\u001b[38;5;241m.\u001b[39margs \u001b[38;5;129;01mor\u001b[39;00m \u001b[38;5;129;01mnot\u001b[39;00m e\u001b[38;5;241m.\u001b[39margs[\u001b[38;5;241m0\u001b[39m]\u001b[38;5;241m.\u001b[39mstartswith(\u001b[38;5;124m'\u001b[39m\u001b[38;5;124munhashable type:\u001b[39m\u001b[38;5;124m'\u001b[39m):\n",
      "File \u001b[0;32m/usr/lib/python3.13/site-packages/sympy/core/operations.py:98\u001b[0m, in \u001b[0;36mAssocOp.__new__\u001b[0;34m(cls, evaluate, _sympify, *args)\u001b[0m\n\u001b[1;32m     95\u001b[0m \u001b[38;5;28;01mif\u001b[39;00m \u001b[38;5;28mlen\u001b[39m(args) \u001b[38;5;241m==\u001b[39m \u001b[38;5;241m1\u001b[39m:\n\u001b[1;32m     96\u001b[0m     \u001b[38;5;28;01mreturn\u001b[39;00m args[\u001b[38;5;241m0\u001b[39m]\n\u001b[0;32m---> 98\u001b[0m c_part, nc_part, order_symbols \u001b[38;5;241m=\u001b[39m \u001b[38;5;28;43mcls\u001b[39;49m\u001b[38;5;241;43m.\u001b[39;49m\u001b[43mflatten\u001b[49m\u001b[43m(\u001b[49m\u001b[43margs\u001b[49m\u001b[43m)\u001b[49m\n\u001b[1;32m     99\u001b[0m is_commutative \u001b[38;5;241m=\u001b[39m \u001b[38;5;129;01mnot\u001b[39;00m nc_part\n\u001b[1;32m    100\u001b[0m obj \u001b[38;5;241m=\u001b[39m \u001b[38;5;28mcls\u001b[39m\u001b[38;5;241m.\u001b[39m_from_args(c_part \u001b[38;5;241m+\u001b[39m nc_part, is_commutative)\n",
      "File \u001b[0;32m/usr/lib/python3.13/site-packages/sympy/core/add.py:378\u001b[0m, in \u001b[0;36mAdd.flatten\u001b[0;34m(cls, seq)\u001b[0m\n\u001b[1;32m    375\u001b[0m             \u001b[38;5;28;01mbreak\u001b[39;00m\n\u001b[1;32m    377\u001b[0m \u001b[38;5;66;03m# order args canonically\u001b[39;00m\n\u001b[0;32m--> 378\u001b[0m \u001b[43m_addsort\u001b[49m\u001b[43m(\u001b[49m\u001b[43mnewseq\u001b[49m\u001b[43m)\u001b[49m\n\u001b[1;32m    380\u001b[0m \u001b[38;5;66;03m# current code expects coeff to be first\u001b[39;00m\n\u001b[1;32m    381\u001b[0m \u001b[38;5;28;01mif\u001b[39;00m coeff \u001b[38;5;129;01mis\u001b[39;00m \u001b[38;5;129;01mnot\u001b[39;00m S\u001b[38;5;241m.\u001b[39mZero:\n",
      "File \u001b[0;32m/usr/lib/python3.13/site-packages/sympy/core/add.py:35\u001b[0m, in \u001b[0;36m_addsort\u001b[0;34m(args)\u001b[0m\n\u001b[1;32m     33\u001b[0m \u001b[38;5;28;01mdef\u001b[39;00m\u001b[38;5;250m \u001b[39m\u001b[38;5;21m_addsort\u001b[39m(args):\n\u001b[1;32m     34\u001b[0m     \u001b[38;5;66;03m# in-place sorting of args\u001b[39;00m\n\u001b[0;32m---> 35\u001b[0m     \u001b[43margs\u001b[49m\u001b[38;5;241;43m.\u001b[39;49m\u001b[43msort\u001b[49m\u001b[43m(\u001b[49m\u001b[43mkey\u001b[49m\u001b[38;5;241;43m=\u001b[39;49m\u001b[43m_args_sortkey\u001b[49m\u001b[43m)\u001b[49m\n",
      "File \u001b[0;32m/usr/lib/python3.13/site-packages/sympy/core/basic.py:354\u001b[0m, in \u001b[0;36mBasic.compare\u001b[0;34m(self, other)\u001b[0m\n\u001b[1;32m    352\u001b[0m r \u001b[38;5;241m=\u001b[39m Basic(\u001b[38;5;241m*\u001b[39mr) \u001b[38;5;28;01mif\u001b[39;00m \u001b[38;5;28misinstance\u001b[39m(r, \u001b[38;5;28mfrozenset\u001b[39m) \u001b[38;5;28;01melse\u001b[39;00m r\n\u001b[1;32m    353\u001b[0m \u001b[38;5;28;01mif\u001b[39;00m \u001b[38;5;28misinstance\u001b[39m(l, Basic):\n\u001b[0;32m--> 354\u001b[0m     c \u001b[38;5;241m=\u001b[39m \u001b[43ml\u001b[49m\u001b[38;5;241;43m.\u001b[39;49m\u001b[43mcompare\u001b[49m\u001b[43m(\u001b[49m\u001b[43mr\u001b[49m\u001b[43m)\u001b[49m\n\u001b[1;32m    355\u001b[0m \u001b[38;5;28;01melse\u001b[39;00m:\n\u001b[1;32m    356\u001b[0m     c \u001b[38;5;241m=\u001b[39m (l \u001b[38;5;241m>\u001b[39m r) \u001b[38;5;241m-\u001b[39m (l \u001b[38;5;241m<\u001b[39m r)\n",
      "File \u001b[0;32m/usr/lib/python3.13/site-packages/sympy/core/basic.py:350\u001b[0m, in \u001b[0;36mBasic.compare\u001b[0;34m(self, other)\u001b[0m\n\u001b[1;32m    348\u001b[0m \u001b[38;5;28;01mif\u001b[39;00m c:\n\u001b[1;32m    349\u001b[0m     \u001b[38;5;28;01mreturn\u001b[39;00m c\n\u001b[0;32m--> 350\u001b[0m \u001b[38;5;28;01mfor\u001b[39;00m l, r \u001b[38;5;129;01min\u001b[39;00m \u001b[38;5;28;43mzip\u001b[39;49m\u001b[43m(\u001b[49m\u001b[43mst\u001b[49m\u001b[43m,\u001b[49m\u001b[43m \u001b[49m\u001b[43mot\u001b[49m\u001b[43m)\u001b[49m:\n\u001b[1;32m    351\u001b[0m     l \u001b[38;5;241m=\u001b[39m Basic(\u001b[38;5;241m*\u001b[39ml) \u001b[38;5;28;01mif\u001b[39;00m \u001b[38;5;28misinstance\u001b[39m(l, \u001b[38;5;28mfrozenset\u001b[39m) \u001b[38;5;28;01melse\u001b[39;00m l\n\u001b[1;32m    352\u001b[0m     r \u001b[38;5;241m=\u001b[39m Basic(\u001b[38;5;241m*\u001b[39mr) \u001b[38;5;28;01mif\u001b[39;00m \u001b[38;5;28misinstance\u001b[39m(r, \u001b[38;5;28mfrozenset\u001b[39m) \u001b[38;5;28;01melse\u001b[39;00m r\n",
      "\u001b[0;31mKeyboardInterrupt\u001b[0m: "
     ]
    }
   ],
   "source": [
    "eigs= rhotilde_t_rhotilde.eigenvals()\n",
    "eigs"
   ]
  },
  {
   "cell_type": "code",
   "execution_count": null,
   "id": "a035df90-2be9-488f-bba4-fb126af1e322",
   "metadata": {},
   "outputs": [],
   "source": []
  }
 ],
 "metadata": {
  "kernelspec": {
   "display_name": "Python 3 (ipykernel)",
   "language": "python",
   "name": "python3"
  },
  "language_info": {
   "codemirror_mode": {
    "name": "ipython",
    "version": 3
   },
   "file_extension": ".py",
   "mimetype": "text/x-python",
   "name": "python",
   "nbconvert_exporter": "python",
   "pygments_lexer": "ipython3",
   "version": "3.13.2"
  }
 },
 "nbformat": 4,
 "nbformat_minor": 5
}
