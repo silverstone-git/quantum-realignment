{
 "cells": [
  {
   "cell_type": "code",
   "execution_count": 1,
   "id": "f1ebde23-281f-4776-af66-0d5673ee9144",
   "metadata": {},
   "outputs": [],
   "source": [
    "from sympy.physics.quantum.qubit import Qubit\n",
    "from sympy import Matrix, sqrt, symbols, simplify\n",
    "import sympy as sp\n",
    "from IPython.display import display, Latex\n",
    "from itertools import product"
   ]
  },
  {
   "cell_type": "code",
   "execution_count": 2,
   "id": "272a8237-d2eb-4c5c-8dec-8d368fad3740",
   "metadata": {},
   "outputs": [],
   "source": [
    "from sympy.physics.quantum import Ket, Bra, Dagger, represent, TensorProduct"
   ]
  },
  {
   "cell_type": "code",
   "execution_count": 3,
   "id": "0eb6c08e-d9f5-4786-a18b-8be39a56f458",
   "metadata": {},
   "outputs": [],
   "source": [
    "from sympy.physics.matrices import msigma"
   ]
  },
  {
   "cell_type": "code",
   "execution_count": 4,
   "id": "fb7cd078-21f0-4e98-bc28-22f3f5cb564a",
   "metadata": {},
   "outputs": [],
   "source": [
    "import random\n",
    "import math\n",
    "import cmath"
   ]
  },
  {
   "cell_type": "code",
   "execution_count": 5,
   "id": "e78ec723-4cdf-4ae9-9d6a-a2531203c2ef",
   "metadata": {},
   "outputs": [],
   "source": [
    "import numpy as np"
   ]
  },
  {
   "cell_type": "code",
   "execution_count": 6,
   "id": "36f66757-7fb1-4bd4-b4d7-874ca5532dd8",
   "metadata": {},
   "outputs": [],
   "source": [
    "import itertools"
   ]
  },
  {
   "cell_type": "code",
   "execution_count": 7,
   "id": "c5f0d957-3c79-4f98-8320-46faa4450c82",
   "metadata": {},
   "outputs": [
    {
     "data": {
      "text/latex": [
       "$\\displaystyle α α^{\\dagger} {\\left|0\\right\\rangle } {\\left\\langle 0\\right|} + α β^{\\dagger} {\\left|0\\right\\rangle } {\\left\\langle 1\\right|} + β α^{\\dagger} {\\left|1\\right\\rangle } {\\left\\langle 0\\right|} + β β^{\\dagger} {\\left|1\\right\\rangle } {\\left\\langle 1\\right|}$"
      ],
      "text/plain": [
       "α*Dagger(α)*|0>*<0| + α*Dagger(β)*|0>*<1| + β*Dagger(α)*|1>*<0| + β*Dagger(β)*|1>*<1|"
      ]
     },
     "execution_count": 7,
     "metadata": {},
     "output_type": "execute_result"
    }
   ],
   "source": [
    "# Step 1: Symbols define karein\n",
    "alpha, beta = symbols('α β')\n",
    "\n",
    "# Step 2: Quantum state banayein (example: superposition state)\n",
    "psi = alpha * Qubit('0') + beta * Qubit('1')\n",
    "\n",
    "# Step 3: Density matrix calculate karein\n",
    "rho = psi * Dagger(psi)\n",
    "\n",
    "# Step 4: Matrix ko expand aur simplify karein\n",
    "density_matrix = rho.doit().expand()\n",
    "simplified_matrix = simplify(density_matrix)\n",
    "simplified_matrix"
   ]
  },
  {
   "cell_type": "code",
   "execution_count": 8,
   "id": "075b5e96-6425-4156-b6e4-37acf3a7e54a",
   "metadata": {},
   "outputs": [
    {
     "data": {
      "text/latex": [
       "$\\displaystyle \\left[\\begin{matrix}α α^{\\dagger} & α β^{\\dagger}\\\\β α^{\\dagger} & β β^{\\dagger}\\end{matrix}\\right]$"
      ],
      "text/plain": [
       "Matrix([\n",
       "[α*Dagger(α), α*Dagger(β)],\n",
       "[β*Dagger(α), β*Dagger(β)]])"
      ]
     },
     "execution_count": 8,
     "metadata": {},
     "output_type": "execute_result"
    }
   ],
   "source": [
    "res = represent(simplified_matrix.doit(), basis_set=[Qubit('0'), Qubit('1')])\n",
    "res\n",
    "\n",
    "# this is for one qubit, lets do for 2"
   ]
  },
  {
   "cell_type": "code",
   "execution_count": 9,
   "id": "b3c7d4a7-7cfd-4047-b02a-92b4d9b2a05a",
   "metadata": {},
   "outputs": [],
   "source": [
    "def get_rho_bipartite(alpha, beta, gamma, delta):\n",
    "    psi = alpha * TensorProduct(Qubit(0), Qubit(0)) + beta * TensorProduct(Qubit(0), Qubit(1)) + gamma * TensorProduct(Qubit(1), Qubit(0)) + delta * TensorProduct(Qubit(1), Qubit(1))\n",
    "    \n",
    "    rho = psi * Dagger(psi)\n",
    "    density_matrix = rho.doit().expand()\n",
    "    simplified_matrix = simplify(density_matrix)\n",
    "    print(simplified_matrix)\n",
    "    \n",
    "    rho = represent(simplified_matrix.doit(), basis_set=[Qubit('0'), Qubit('1')])\n",
    "    return rho"
   ]
  },
  {
   "cell_type": "code",
   "execution_count": 10,
   "id": "ac2153d6-004f-483c-8352-83b01f76d4a0",
   "metadata": {},
   "outputs": [],
   "source": [
    "dA, dB = 2, 2"
   ]
  },
  {
   "cell_type": "code",
   "execution_count": 11,
   "id": "1b69cfe3-af08-4d0d-a05b-102e1a37f02c",
   "metadata": {},
   "outputs": [],
   "source": [
    "def permute_dims(tensor, perm):\n",
    "    \"\"\"\n",
    "    Permutes the dimensions of a sympy MutableDenseNDimArray according to the given permutation tuple.\n",
    "    \"\"\"\n",
    "    old_shape = tensor.shape\n",
    "    new_shape = tuple(old_shape[i] for i in perm)\n",
    "    new_tensor = sp.MutableDenseNDimArray.zeros(*new_shape)\n",
    "    for new_index in product(*[range(s) for s in new_shape]):\n",
    "        # Compute the corresponding old index.\n",
    "        old_index = [None] * len(new_index)\n",
    "        for new_axis, old_axis in enumerate(perm):\n",
    "            old_index[old_axis] = new_index[new_axis]\n",
    "        new_tensor[new_index] = tensor[tuple(old_index)]\n",
    "    return new_tensor\n"
   ]
  },
  {
   "cell_type": "code",
   "execution_count": 12,
   "id": "0170d857-1d59-44b4-a693-4097c4388eba",
   "metadata": {},
   "outputs": [],
   "source": [
    "def compute_entanglement_measures_symbolic(rho, dA, dB, display_output=True):\n",
    "    \"\"\"\n",
    "    Computes entanglement measures for a bipartite system (dA x dB).\n",
    "    \"\"\"\n",
    "    N = dA * dB\n",
    "    assert rho.shape[0] == N, \"Product dA*dB must equal the matrix dimension.\"\n",
    "    \n",
    "    if display_output:\n",
    "        display(Latex(r\"Density matrix $\\rho$: \"))\n",
    "        display(Latex(r\"$$\" + sp.latex(rho) + r\"$$\"))\n",
    "    \n",
    "    eig_dict_input = rho.eigenvals()\n",
    "    eigenvals_input = [sp.simplify(ev) for ev, mult in eig_dict_input.items() for _ in range(mult)]\n",
    "    if display_output:\n",
    "        display(Latex(r\"Eigenvalues of $\\rho$: \"))\n",
    "        display(Latex(r\"$$\" + sp.latex(eigenvals_input) + r\"$$\"))\n",
    "    \n",
    "    # Partial Transpose\n",
    "    rho_tensor = sp.MutableDenseNDimArray(rho, (dA, dB, dA, dB))\n",
    "    rho_pt_tensor = permute_dims(rho_tensor, (0, 3, 2, 1))\n",
    "    rho_pt = sp.Matrix(rho_pt_tensor.reshape(N, N))\n",
    "    if display_output:\n",
    "        display(Latex(r\"Partial transpose $\\rho^{T_B}$: \"))\n",
    "        display(Latex(r\"$$\" + sp.latex(rho_pt) + r\"$$\"))\n",
    "    \n",
    "    eig_dict_pt = rho_pt.eigenvals()\n",
    "    eigenvals_pt = [sp.simplify(ev) for ev, mult in eig_dict_pt.items() for _ in range(mult)]\n",
    "    if display_output:\n",
    "        display(Latex(r\"Eigenvalues of $\\rho^{T_B}$: \"))\n",
    "        display(Latex(r\"$$\" + sp.latex(eigenvals_pt) + r\"$$\"))\n",
    "    \n",
    "    det_rho_pt = sp.simplify(rho_pt.det())\n",
    "    if display_output:\n",
    "        display(Latex(r\"Determinant of $\\rho^{T_B}$: \"))\n",
    "        display(Latex(r\"$$\" + sp.latex(det_rho_pt) + r\"$$\"))\n",
    "    \n",
    "    # Realignment\n",
    "    rho_realigned_tensor = permute_dims(rho_tensor, (0, 2, 1, 3))\n",
    "    realigned = sp.Matrix(rho_realigned_tensor.reshape(dA*dA, dB*dB))\n",
    "    if display_output:\n",
    "        display(Latex(r\"Realigned matrix: \"))\n",
    "        display(Latex(r\"$$\" + sp.latex(realigned) + r\"$$\"))\n",
    "    \n",
    "    rhotilde_t_rhotilde = realigned.T * realigned\n",
    "    if display_output:\n",
    "        display(Latex(r\"Symmetric for realigned: \"))\n",
    "        display(Latex(r\"$$\" + sp.latex(rhotilde_t_rhotilde) + r\"$$\"))\n",
    "    \n",
    "    # sum_sv = sp.simplify(sum(singular_vals))\n",
    "    # if display_output:\n",
    "    #     display(Latex(r\"Sum of singular values: \"))\n",
    "    #     display(Latex(r\"$$\" + sp.latex(sum_sv) + r\"$$\"))\n",
    "    \n",
    "    # product_sv = sp.simplify(sp.Mul(*singular_vals))\n",
    "    # if display_output:\n",
    "    #     display(Latex(r\"Product of singular values: \"))\n",
    "    #     display(Latex(r\"$$\" + sp.latex(product_sv) + r\"$$\"))\n",
    "    \n",
    "    # det_realigned = sp.simplify(realigned.det())\n",
    "    # if display_output:\n",
    "    #     display(Latex(r\"Determinant of the realigned matrix: \"))\n",
    "    #     display(Latex(r\"$$\" + sp.latex(det_realigned) + r\"$$\"))\n",
    "    \n",
    "    # product_eigenvals = sp.simplify(sp.Mul(*eigenvals_pt))\n",
    "    # if display_output:\n",
    "    #     display(Latex(r\"Product of eigenvalues of $\\rho^{T_B}$: \"))\n",
    "    #     display(Latex(r\"$$\" + sp.latex(product_eigenvals) + r\"$$\"))\n",
    "    \n",
    "    #return eigenvals_input, eigenvals_pt, singular_vals, sum_sv, product_sv, product_eigenvals, det_rho_pt, det_realigned\n",
    "    return realigned, rhotilde_t_rhotilde\n"
   ]
  },
  {
   "cell_type": "code",
   "execution_count": 13,
   "id": "fccb2585-90a4-41e3-af95-7aa19f9eabf7",
   "metadata": {},
   "outputs": [
    {
     "name": "stdout",
     "output_type": "stream",
     "text": [
      "α*Dagger(α)*|0>x|0>*<0|x<0| + α*Dagger(β)*|0>x|0>*<0|x<1| + α*Dagger(γ)*|0>x|0>*<1|x<0| + α*Dagger(δ)*|0>x|0>*<1|x<1| + β*Dagger(α)*|0>x|1>*<0|x<0| + β*Dagger(β)*|0>x|1>*<0|x<1| + β*Dagger(γ)*|0>x|1>*<1|x<0| + β*Dagger(δ)*|0>x|1>*<1|x<1| + γ*Dagger(α)*|1>x|0>*<0|x<0| + γ*Dagger(β)*|1>x|0>*<0|x<1| + γ*Dagger(γ)*|1>x|0>*<1|x<0| + γ*Dagger(δ)*|1>x|0>*<1|x<1| + δ*Dagger(α)*|1>x|1>*<0|x<0| + δ*Dagger(β)*|1>x|1>*<0|x<1| + δ*Dagger(γ)*|1>x|1>*<1|x<0| + δ*Dagger(δ)*|1>x|1>*<1|x<1|\n"
     ]
    },
    {
     "data": {
      "text/latex": [
       "Density matrix $\\rho$: "
      ],
      "text/plain": [
       "<IPython.core.display.Latex object>"
      ]
     },
     "metadata": {},
     "output_type": "display_data"
    },
    {
     "data": {
      "text/latex": [
       "$$\\left[\\begin{matrix}α α^{\\dagger} & α β^{\\dagger} & α γ^{\\dagger} & α δ^{\\dagger}\\\\β α^{\\dagger} & β β^{\\dagger} & β γ^{\\dagger} & β δ^{\\dagger}\\\\γ α^{\\dagger} & γ β^{\\dagger} & γ γ^{\\dagger} & γ δ^{\\dagger}\\\\δ α^{\\dagger} & δ β^{\\dagger} & δ γ^{\\dagger} & δ δ^{\\dagger}\\end{matrix}\\right]$$"
      ],
      "text/plain": [
       "<IPython.core.display.Latex object>"
      ]
     },
     "metadata": {},
     "output_type": "display_data"
    },
    {
     "data": {
      "text/latex": [
       "Eigenvalues of $\\rho$: "
      ],
      "text/plain": [
       "<IPython.core.display.Latex object>"
      ]
     },
     "metadata": {},
     "output_type": "display_data"
    },
    {
     "data": {
      "text/latex": [
       "$$\\left[ α α^{\\dagger} + β β^{\\dagger} + γ γ^{\\dagger} + δ δ^{\\dagger}, \\  0, \\  0, \\  0\\right]$$"
      ],
      "text/plain": [
       "<IPython.core.display.Latex object>"
      ]
     },
     "metadata": {},
     "output_type": "display_data"
    },
    {
     "data": {
      "text/latex": [
       "Partial transpose $\\rho^{T_B}$: "
      ],
      "text/plain": [
       "<IPython.core.display.Latex object>"
      ]
     },
     "metadata": {},
     "output_type": "display_data"
    },
    {
     "data": {
      "text/latex": [
       "$$\\left[\\begin{matrix}α α^{\\dagger} & β α^{\\dagger} & α γ^{\\dagger} & β γ^{\\dagger}\\\\α β^{\\dagger} & β β^{\\dagger} & α δ^{\\dagger} & β δ^{\\dagger}\\\\γ α^{\\dagger} & δ α^{\\dagger} & γ γ^{\\dagger} & δ γ^{\\dagger}\\\\γ β^{\\dagger} & δ β^{\\dagger} & γ δ^{\\dagger} & δ δ^{\\dagger}\\end{matrix}\\right]$$"
      ],
      "text/plain": [
       "<IPython.core.display.Latex object>"
      ]
     },
     "metadata": {},
     "output_type": "display_data"
    },
    {
     "data": {
      "text/latex": [
       "Eigenvalues of $\\rho^{T_B}$: "
      ],
      "text/plain": [
       "<IPython.core.display.Latex object>"
      ]
     },
     "metadata": {},
     "output_type": "display_data"
    },
    {
     "data": {
      "text/latex": [
       "$$\\left[ - \\sqrt{α δ α^{\\dagger} δ^{\\dagger} - α δ β^{\\dagger} γ^{\\dagger} - β γ α^{\\dagger} δ^{\\dagger} + β γ β^{\\dagger} γ^{\\dagger}}, \\  \\sqrt{α δ α^{\\dagger} δ^{\\dagger} - α δ β^{\\dagger} γ^{\\dagger} - β γ α^{\\dagger} δ^{\\dagger} + β γ β^{\\dagger} γ^{\\dagger}}, \\  \\frac{α α^{\\dagger}}{2} + \\frac{β β^{\\dagger}}{2} + \\frac{γ γ^{\\dagger}}{2} + \\frac{δ δ^{\\dagger}}{2} - \\frac{\\sqrt{α^{2} \\left(α^{\\dagger}\\right)^{2} + 2 α β α^{\\dagger} β^{\\dagger} + 2 α γ α^{\\dagger} γ^{\\dagger} - 2 α δ α^{\\dagger} δ^{\\dagger} + 4 α δ β^{\\dagger} γ^{\\dagger} + β^{2} \\left(β^{\\dagger}\\right)^{2} + 4 β γ α^{\\dagger} δ^{\\dagger} - 2 β γ β^{\\dagger} γ^{\\dagger} + 2 β δ β^{\\dagger} δ^{\\dagger} + γ^{2} \\left(γ^{\\dagger}\\right)^{2} + 2 γ δ γ^{\\dagger} δ^{\\dagger} + δ^{2} \\left(δ^{\\dagger}\\right)^{2}}}{2}, \\  \\frac{α α^{\\dagger}}{2} + \\frac{β β^{\\dagger}}{2} + \\frac{γ γ^{\\dagger}}{2} + \\frac{δ δ^{\\dagger}}{2} + \\frac{\\sqrt{α^{2} \\left(α^{\\dagger}\\right)^{2} + 2 α β α^{\\dagger} β^{\\dagger} + 2 α γ α^{\\dagger} γ^{\\dagger} - 2 α δ α^{\\dagger} δ^{\\dagger} + 4 α δ β^{\\dagger} γ^{\\dagger} + β^{2} \\left(β^{\\dagger}\\right)^{2} + 4 β γ α^{\\dagger} δ^{\\dagger} - 2 β γ β^{\\dagger} γ^{\\dagger} + 2 β δ β^{\\dagger} δ^{\\dagger} + γ^{2} \\left(γ^{\\dagger}\\right)^{2} + 2 γ δ γ^{\\dagger} δ^{\\dagger} + δ^{2} \\left(δ^{\\dagger}\\right)^{2}}}{2}\\right]$$"
      ],
      "text/plain": [
       "<IPython.core.display.Latex object>"
      ]
     },
     "metadata": {},
     "output_type": "display_data"
    },
    {
     "data": {
      "text/latex": [
       "Determinant of $\\rho^{T_B}$: "
      ],
      "text/plain": [
       "<IPython.core.display.Latex object>"
      ]
     },
     "metadata": {},
     "output_type": "display_data"
    },
    {
     "data": {
      "text/latex": [
       "$$- α^{2} δ^{2} \\left(α^{\\dagger}\\right)^{2} \\left(δ^{\\dagger}\\right)^{2} + 2 α^{2} δ^{2} α^{\\dagger} β^{\\dagger} γ^{\\dagger} δ^{\\dagger} - α^{2} δ^{2} \\left(β^{\\dagger}\\right)^{2} \\left(γ^{\\dagger}\\right)^{2} + 2 α β γ δ \\left(α^{\\dagger}\\right)^{2} \\left(δ^{\\dagger}\\right)^{2} - 4 α β γ δ α^{\\dagger} β^{\\dagger} γ^{\\dagger} δ^{\\dagger} + 2 α β γ δ \\left(β^{\\dagger}\\right)^{2} \\left(γ^{\\dagger}\\right)^{2} - β^{2} γ^{2} \\left(α^{\\dagger}\\right)^{2} \\left(δ^{\\dagger}\\right)^{2} + 2 β^{2} γ^{2} α^{\\dagger} β^{\\dagger} γ^{\\dagger} δ^{\\dagger} - β^{2} γ^{2} \\left(β^{\\dagger}\\right)^{2} \\left(γ^{\\dagger}\\right)^{2}$$"
      ],
      "text/plain": [
       "<IPython.core.display.Latex object>"
      ]
     },
     "metadata": {},
     "output_type": "display_data"
    },
    {
     "data": {
      "text/latex": [
       "Realigned matrix: "
      ],
      "text/plain": [
       "<IPython.core.display.Latex object>"
      ]
     },
     "metadata": {},
     "output_type": "display_data"
    },
    {
     "data": {
      "text/latex": [
       "$$\\left[\\begin{matrix}α α^{\\dagger} & α β^{\\dagger} & β α^{\\dagger} & β β^{\\dagger}\\\\α γ^{\\dagger} & α δ^{\\dagger} & β γ^{\\dagger} & β δ^{\\dagger}\\\\γ α^{\\dagger} & γ β^{\\dagger} & δ α^{\\dagger} & δ β^{\\dagger}\\\\γ γ^{\\dagger} & γ δ^{\\dagger} & δ γ^{\\dagger} & δ δ^{\\dagger}\\end{matrix}\\right]$$"
      ],
      "text/plain": [
       "<IPython.core.display.Latex object>"
      ]
     },
     "metadata": {},
     "output_type": "display_data"
    },
    {
     "data": {
      "text/latex": [
       "Symmetric for realigned: "
      ],
      "text/plain": [
       "<IPython.core.display.Latex object>"
      ]
     },
     "metadata": {},
     "output_type": "display_data"
    },
    {
     "data": {
      "text/latex": [
       "$$\\left[\\begin{matrix}α^{2} \\left(α^{\\dagger}\\right)^{2} + α^{2} \\left(γ^{\\dagger}\\right)^{2} + γ^{2} \\left(α^{\\dagger}\\right)^{2} + γ^{2} \\left(γ^{\\dagger}\\right)^{2} & α^{2} α^{\\dagger} β^{\\dagger} + α^{2} γ^{\\dagger} δ^{\\dagger} + γ^{2} α^{\\dagger} β^{\\dagger} + γ^{2} γ^{\\dagger} δ^{\\dagger} & α β \\left(α^{\\dagger}\\right)^{2} + α β \\left(γ^{\\dagger}\\right)^{2} + γ δ \\left(α^{\\dagger}\\right)^{2} + γ δ \\left(γ^{\\dagger}\\right)^{2} & α β α^{\\dagger} β^{\\dagger} + α β γ^{\\dagger} δ^{\\dagger} + γ δ α^{\\dagger} β^{\\dagger} + γ δ γ^{\\dagger} δ^{\\dagger}\\\\α^{2} α^{\\dagger} β^{\\dagger} + α^{2} γ^{\\dagger} δ^{\\dagger} + γ^{2} α^{\\dagger} β^{\\dagger} + γ^{2} γ^{\\dagger} δ^{\\dagger} & α^{2} \\left(β^{\\dagger}\\right)^{2} + α^{2} \\left(δ^{\\dagger}\\right)^{2} + γ^{2} \\left(β^{\\dagger}\\right)^{2} + γ^{2} \\left(δ^{\\dagger}\\right)^{2} & α β α^{\\dagger} β^{\\dagger} + α β γ^{\\dagger} δ^{\\dagger} + γ δ α^{\\dagger} β^{\\dagger} + γ δ γ^{\\dagger} δ^{\\dagger} & α β \\left(β^{\\dagger}\\right)^{2} + α β \\left(δ^{\\dagger}\\right)^{2} + γ δ \\left(β^{\\dagger}\\right)^{2} + γ δ \\left(δ^{\\dagger}\\right)^{2}\\\\α β \\left(α^{\\dagger}\\right)^{2} + α β \\left(γ^{\\dagger}\\right)^{2} + γ δ \\left(α^{\\dagger}\\right)^{2} + γ δ \\left(γ^{\\dagger}\\right)^{2} & α β α^{\\dagger} β^{\\dagger} + α β γ^{\\dagger} δ^{\\dagger} + γ δ α^{\\dagger} β^{\\dagger} + γ δ γ^{\\dagger} δ^{\\dagger} & β^{2} \\left(α^{\\dagger}\\right)^{2} + β^{2} \\left(γ^{\\dagger}\\right)^{2} + δ^{2} \\left(α^{\\dagger}\\right)^{2} + δ^{2} \\left(γ^{\\dagger}\\right)^{2} & β^{2} α^{\\dagger} β^{\\dagger} + β^{2} γ^{\\dagger} δ^{\\dagger} + δ^{2} α^{\\dagger} β^{\\dagger} + δ^{2} γ^{\\dagger} δ^{\\dagger}\\\\α β α^{\\dagger} β^{\\dagger} + α β γ^{\\dagger} δ^{\\dagger} + γ δ α^{\\dagger} β^{\\dagger} + γ δ γ^{\\dagger} δ^{\\dagger} & α β \\left(β^{\\dagger}\\right)^{2} + α β \\left(δ^{\\dagger}\\right)^{2} + γ δ \\left(β^{\\dagger}\\right)^{2} + γ δ \\left(δ^{\\dagger}\\right)^{2} & β^{2} α^{\\dagger} β^{\\dagger} + β^{2} γ^{\\dagger} δ^{\\dagger} + δ^{2} α^{\\dagger} β^{\\dagger} + δ^{2} γ^{\\dagger} δ^{\\dagger} & β^{2} \\left(β^{\\dagger}\\right)^{2} + β^{2} \\left(δ^{\\dagger}\\right)^{2} + δ^{2} \\left(β^{\\dagger}\\right)^{2} + δ^{2} \\left(δ^{\\dagger}\\right)^{2}\\end{matrix}\\right]$$"
      ],
      "text/plain": [
       "<IPython.core.display.Latex object>"
      ]
     },
     "metadata": {},
     "output_type": "display_data"
    }
   ],
   "source": [
    "alpha, beta, gamma, delta= symbols('α β γ δ')\n",
    "realigned, rhotilde_t_rhotilde= compute_entanglement_measures_symbolic(get_rho_bipartite(alpha, beta, gamma, delta), dA, dB, True)"
   ]
  },
  {
   "cell_type": "code",
   "execution_count": 14,
   "id": "f4255535-6c21-4aaa-a0a0-addbc15dcb83",
   "metadata": {},
   "outputs": [
    {
     "data": {
      "text/latex": [
       "$\\displaystyle \\left[\\begin{matrix}α α^{\\dagger} & α β^{\\dagger} & β α^{\\dagger} & β β^{\\dagger}\\\\α γ^{\\dagger} & α δ^{\\dagger} & β γ^{\\dagger} & β δ^{\\dagger}\\\\γ α^{\\dagger} & γ β^{\\dagger} & δ α^{\\dagger} & δ β^{\\dagger}\\\\γ γ^{\\dagger} & γ δ^{\\dagger} & δ γ^{\\dagger} & δ δ^{\\dagger}\\end{matrix}\\right]$"
      ],
      "text/plain": [
       "Matrix([\n",
       "[α*Dagger(α), α*Dagger(β), β*Dagger(α), β*Dagger(β)],\n",
       "[α*Dagger(γ), α*Dagger(δ), β*Dagger(γ), β*Dagger(δ)],\n",
       "[γ*Dagger(α), γ*Dagger(β), δ*Dagger(α), δ*Dagger(β)],\n",
       "[γ*Dagger(γ), γ*Dagger(δ), δ*Dagger(γ), δ*Dagger(δ)]])"
      ]
     },
     "execution_count": 14,
     "metadata": {},
     "output_type": "execute_result"
    }
   ],
   "source": [
    "realigned"
   ]
  },
  {
   "cell_type": "code",
   "execution_count": 15,
   "id": "52ee25d7-7bc5-4443-a903-fdc63fb14ac0",
   "metadata": {},
   "outputs": [
    {
     "data": {
      "text/latex": [
       "$\\displaystyle \\left[\\begin{matrix}α^{2} \\left(α^{\\dagger}\\right)^{2} + α^{2} \\left(γ^{\\dagger}\\right)^{2} + γ^{2} \\left(α^{\\dagger}\\right)^{2} + γ^{2} \\left(γ^{\\dagger}\\right)^{2} & α^{2} α^{\\dagger} β^{\\dagger} + α^{2} γ^{\\dagger} δ^{\\dagger} + γ^{2} α^{\\dagger} β^{\\dagger} + γ^{2} γ^{\\dagger} δ^{\\dagger} & α β \\left(α^{\\dagger}\\right)^{2} + α β \\left(γ^{\\dagger}\\right)^{2} + γ δ \\left(α^{\\dagger}\\right)^{2} + γ δ \\left(γ^{\\dagger}\\right)^{2} & α β α^{\\dagger} β^{\\dagger} + α β γ^{\\dagger} δ^{\\dagger} + γ δ α^{\\dagger} β^{\\dagger} + γ δ γ^{\\dagger} δ^{\\dagger}\\\\α^{2} α^{\\dagger} β^{\\dagger} + α^{2} γ^{\\dagger} δ^{\\dagger} + γ^{2} α^{\\dagger} β^{\\dagger} + γ^{2} γ^{\\dagger} δ^{\\dagger} & α^{2} \\left(β^{\\dagger}\\right)^{2} + α^{2} \\left(δ^{\\dagger}\\right)^{2} + γ^{2} \\left(β^{\\dagger}\\right)^{2} + γ^{2} \\left(δ^{\\dagger}\\right)^{2} & α β α^{\\dagger} β^{\\dagger} + α β γ^{\\dagger} δ^{\\dagger} + γ δ α^{\\dagger} β^{\\dagger} + γ δ γ^{\\dagger} δ^{\\dagger} & α β \\left(β^{\\dagger}\\right)^{2} + α β \\left(δ^{\\dagger}\\right)^{2} + γ δ \\left(β^{\\dagger}\\right)^{2} + γ δ \\left(δ^{\\dagger}\\right)^{2}\\\\α β \\left(α^{\\dagger}\\right)^{2} + α β \\left(γ^{\\dagger}\\right)^{2} + γ δ \\left(α^{\\dagger}\\right)^{2} + γ δ \\left(γ^{\\dagger}\\right)^{2} & α β α^{\\dagger} β^{\\dagger} + α β γ^{\\dagger} δ^{\\dagger} + γ δ α^{\\dagger} β^{\\dagger} + γ δ γ^{\\dagger} δ^{\\dagger} & β^{2} \\left(α^{\\dagger}\\right)^{2} + β^{2} \\left(γ^{\\dagger}\\right)^{2} + δ^{2} \\left(α^{\\dagger}\\right)^{2} + δ^{2} \\left(γ^{\\dagger}\\right)^{2} & β^{2} α^{\\dagger} β^{\\dagger} + β^{2} γ^{\\dagger} δ^{\\dagger} + δ^{2} α^{\\dagger} β^{\\dagger} + δ^{2} γ^{\\dagger} δ^{\\dagger}\\\\α β α^{\\dagger} β^{\\dagger} + α β γ^{\\dagger} δ^{\\dagger} + γ δ α^{\\dagger} β^{\\dagger} + γ δ γ^{\\dagger} δ^{\\dagger} & α β \\left(β^{\\dagger}\\right)^{2} + α β \\left(δ^{\\dagger}\\right)^{2} + γ δ \\left(β^{\\dagger}\\right)^{2} + γ δ \\left(δ^{\\dagger}\\right)^{2} & β^{2} α^{\\dagger} β^{\\dagger} + β^{2} γ^{\\dagger} δ^{\\dagger} + δ^{2} α^{\\dagger} β^{\\dagger} + δ^{2} γ^{\\dagger} δ^{\\dagger} & β^{2} \\left(β^{\\dagger}\\right)^{2} + β^{2} \\left(δ^{\\dagger}\\right)^{2} + δ^{2} \\left(β^{\\dagger}\\right)^{2} + δ^{2} \\left(δ^{\\dagger}\\right)^{2}\\end{matrix}\\right]$"
      ],
      "text/plain": [
       "Matrix([\n",
       "[                            α**2*Dagger(α)**2 + α**2*Dagger(γ)**2 + γ**2*Dagger(α)**2 + γ**2*Dagger(γ)**2, α**2*Dagger(α)*Dagger(β) + α**2*Dagger(γ)*Dagger(δ) + γ**2*Dagger(α)*Dagger(β) + γ**2*Dagger(γ)*Dagger(δ),                                 α*β*Dagger(α)**2 + α*β*Dagger(γ)**2 + γ*δ*Dagger(α)**2 + γ*δ*Dagger(γ)**2,     α*β*Dagger(α)*Dagger(β) + α*β*Dagger(γ)*Dagger(δ) + γ*δ*Dagger(α)*Dagger(β) + γ*δ*Dagger(γ)*Dagger(δ)],\n",
       "[α**2*Dagger(α)*Dagger(β) + α**2*Dagger(γ)*Dagger(δ) + γ**2*Dagger(α)*Dagger(β) + γ**2*Dagger(γ)*Dagger(δ),                             α**2*Dagger(β)**2 + α**2*Dagger(δ)**2 + γ**2*Dagger(β)**2 + γ**2*Dagger(δ)**2,     α*β*Dagger(α)*Dagger(β) + α*β*Dagger(γ)*Dagger(δ) + γ*δ*Dagger(α)*Dagger(β) + γ*δ*Dagger(γ)*Dagger(δ),                                 α*β*Dagger(β)**2 + α*β*Dagger(δ)**2 + γ*δ*Dagger(β)**2 + γ*δ*Dagger(δ)**2],\n",
       "[                                α*β*Dagger(α)**2 + α*β*Dagger(γ)**2 + γ*δ*Dagger(α)**2 + γ*δ*Dagger(γ)**2,     α*β*Dagger(α)*Dagger(β) + α*β*Dagger(γ)*Dagger(δ) + γ*δ*Dagger(α)*Dagger(β) + γ*δ*Dagger(γ)*Dagger(δ),                             β**2*Dagger(α)**2 + β**2*Dagger(γ)**2 + δ**2*Dagger(α)**2 + δ**2*Dagger(γ)**2, β**2*Dagger(α)*Dagger(β) + β**2*Dagger(γ)*Dagger(δ) + δ**2*Dagger(α)*Dagger(β) + δ**2*Dagger(γ)*Dagger(δ)],\n",
       "[    α*β*Dagger(α)*Dagger(β) + α*β*Dagger(γ)*Dagger(δ) + γ*δ*Dagger(α)*Dagger(β) + γ*δ*Dagger(γ)*Dagger(δ),                                 α*β*Dagger(β)**2 + α*β*Dagger(δ)**2 + γ*δ*Dagger(β)**2 + γ*δ*Dagger(δ)**2, β**2*Dagger(α)*Dagger(β) + β**2*Dagger(γ)*Dagger(δ) + δ**2*Dagger(α)*Dagger(β) + δ**2*Dagger(γ)*Dagger(δ),                             β**2*Dagger(β)**2 + β**2*Dagger(δ)**2 + δ**2*Dagger(β)**2 + δ**2*Dagger(δ)**2]])"
      ]
     },
     "execution_count": 15,
     "metadata": {},
     "output_type": "execute_result"
    }
   ],
   "source": [
    "rhotilde_t_rhotilde"
   ]
  },
  {
   "cell_type": "code",
   "execution_count": 16,
   "id": "39f9e2ae-82b5-45bf-ac05-d828272b5ef0",
   "metadata": {},
   "outputs": [],
   "source": [
    "def generate_alpha_beta_gamma_delta():\n",
    "    # Generate four random complex numbers using a Gaussian distribution.\n",
    "    # Using a Gaussian can help ensure a uniform distribution on the complex sphere.\n",
    "    a = random.gauss(0,1) + 1j * random.gauss(0,1)\n",
    "    b = random.gauss(0,1) + 1j * random.gauss(0,1)\n",
    "    c = random.gauss(0,1) + 1j * random.gauss(0,1)\n",
    "    d = random.gauss(0,1) + 1j * random.gauss(0,1)\n",
    "    \n",
    "    # Normalize the state so that |α|^2 + |β|^2 + |γ|^2 + |δ|^2 = 1\n",
    "    norm = math.sqrt(abs(a)**2 + abs(b)**2 + abs(c)**2 + abs(d)**2)\n",
    "    alpha = a / norm\n",
    "    beta  = b / norm\n",
    "    gamma = c / norm\n",
    "    delta = d / norm\n",
    "\n",
    "    return alpha, beta, gamma, delta"
   ]
  },
  {
   "cell_type": "code",
   "execution_count": 17,
   "id": "9aff9839-c748-4177-9f36-db7aba6b2dd7",
   "metadata": {},
   "outputs": [],
   "source": [
    "a, b, c, d= generate_alpha_beta_gamma_delta()"
   ]
  },
  {
   "cell_type": "code",
   "execution_count": 18,
   "id": "5d81350b-3d4b-436d-9c4f-31e206343ed9",
   "metadata": {},
   "outputs": [],
   "source": [
    "rhotilde_t_rhotilde_subbed= simplify(rhotilde_t_rhotilde.subs({alpha: a, beta: b, gamma: c, delta: d}))"
   ]
  },
  {
   "cell_type": "code",
   "execution_count": 19,
   "id": "0b55823a-0ba6-4084-99e5-31df49b0d47b",
   "metadata": {},
   "outputs": [
    {
     "data": {
      "text/plain": [
       "{-0.219721926609201 + 0.0568510450609913*I: 1,\n",
       " -0.219721926609201 - 0.0568510450609913*I: 1,\n",
       " 0.164169206920667 + 1.33703938673465e-66*I: 1,\n",
       " 0.313760219249141 - 2.19253978507304e-65*I: 1}"
      ]
     },
     "execution_count": 19,
     "metadata": {},
     "output_type": "execute_result"
    }
   ],
   "source": [
    "eig_dict= rhotilde_t_rhotilde_subbed.eigenvals()\n",
    "eig_dict"
   ]
  },
  {
   "cell_type": "code",
   "execution_count": 20,
   "id": "361587fa-3cb7-4882-96f1-d6251ab37af6",
   "metadata": {},
   "outputs": [],
   "source": [
    "def get_singular_values_from_eig_dict(eig_dict):\n",
    "    singular_vals= []\n",
    "    for eigenvalue, multiplicity in eig_dict.items():\n",
    "        # Simplify the eigenvalue for a cleaner expression.\n",
    "        eigenvalue = sp.simplify(eigenvalue)\n",
    "        # print(\"current eig: \", eigenvalue)\n",
    "        # print(\"multiplicity: \", multiplicity)\n",
    "        # Assume eigenvalues are nonnegative; take the square root.\n",
    "        s_val = sp.sqrt(eigenvalue).evalf()\n",
    "        singular_vals.extend([sp.simplify(s_val)] * multiplicity)\n",
    "    return singular_vals"
   ]
  },
  {
   "cell_type": "code",
   "execution_count": 21,
   "id": "aa2288ac-cc56-4a0a-900b-238cd3c9767a",
   "metadata": {},
   "outputs": [
    {
     "data": {
      "text/plain": [
       "[0.060148585125616 + 0.472588382106263*I,\n",
       " 0.060148585125616 - 0.472588382106263*I,\n",
       " 0.405177994121925 + 0.e-66*I,\n",
       " 0.560143034634138 - 0.e-65*I]"
      ]
     },
     "execution_count": 21,
     "metadata": {},
     "output_type": "execute_result"
    }
   ],
   "source": [
    "singular_vals= get_singular_values_from_eig_dict(eig_dict)\n",
    "singular_vals"
   ]
  },
  {
   "cell_type": "code",
   "execution_count": 22,
   "id": "8ffcd4ef-f982-4168-a7f9-c56ca9be25b1",
   "metadata": {},
   "outputs": [
    {
     "data": {
      "text/latex": [
       "$\\displaystyle 1.0856181990073 - 2.0 \\cdot 10^{-65} i$"
      ],
      "text/plain": [
       "1.0856181990073 - 0.e-65*I"
      ]
     },
     "execution_count": 22,
     "metadata": {},
     "output_type": "execute_result"
    }
   ],
   "source": [
    "sum(singular_vals)"
   ]
  },
  {
   "cell_type": "code",
   "execution_count": 23,
   "id": "f09a64f1-3421-4b30-b753-ca606b9afef1",
   "metadata": {},
   "outputs": [],
   "source": [
    "def generate_1_normalized_real(n):\n",
    "    # Generate n random real numbers from a Gaussian distribution\n",
    "    random_numbers= [random.gauss(0, 1) for i in range(n)]\n",
    "    \n",
    "    # Compute the norm: sqrt(a^2 + b^2 + c^2 + d^2)\n",
    "    sqsum= sum(map(lambda x: x**2, random_numbers))\n",
    "    norm= sqrt(sqsum)\n",
    "    return tuple(map(lambda x: x / norm, random_numbers))"
   ]
  },
  {
   "cell_type": "code",
   "execution_count": 24,
   "id": "951aca2b-aba7-41e0-8293-b1a0c65307d9",
   "metadata": {},
   "outputs": [
    {
     "name": "stdout",
     "output_type": "stream",
     "text": [
      "α*Dagger(α)*|0>x|0>*<0|x<0| + α*Dagger(β)*|0>x|0>*<0|x<1| + α*Dagger(γ)*|0>x|0>*<1|x<0| + α*Dagger(δ)*|0>x|0>*<1|x<1| + β*Dagger(α)*|0>x|1>*<0|x<0| + β*Dagger(β)*|0>x|1>*<0|x<1| + β*Dagger(γ)*|0>x|1>*<1|x<0| + β*Dagger(δ)*|0>x|1>*<1|x<1| + γ*Dagger(α)*|1>x|0>*<0|x<0| + γ*Dagger(β)*|1>x|0>*<0|x<1| + γ*Dagger(γ)*|1>x|0>*<1|x<0| + γ*Dagger(δ)*|1>x|0>*<1|x<1| + δ*Dagger(α)*|1>x|1>*<0|x<0| + δ*Dagger(β)*|1>x|1>*<0|x<1| + δ*Dagger(γ)*|1>x|1>*<1|x<0| + δ*Dagger(δ)*|1>x|1>*<1|x<1|\n"
     ]
    },
    {
     "data": {
      "text/latex": [
       "$\\displaystyle \\left[\\begin{matrix}α α^{\\dagger} & α β^{\\dagger} & α γ^{\\dagger} & α δ^{\\dagger}\\\\β α^{\\dagger} & β β^{\\dagger} & β γ^{\\dagger} & β δ^{\\dagger}\\\\γ α^{\\dagger} & γ β^{\\dagger} & γ γ^{\\dagger} & γ δ^{\\dagger}\\\\δ α^{\\dagger} & δ β^{\\dagger} & δ γ^{\\dagger} & δ δ^{\\dagger}\\end{matrix}\\right]$"
      ],
      "text/plain": [
       "Matrix([\n",
       "[α*Dagger(α), α*Dagger(β), α*Dagger(γ), α*Dagger(δ)],\n",
       "[β*Dagger(α), β*Dagger(β), β*Dagger(γ), β*Dagger(δ)],\n",
       "[γ*Dagger(α), γ*Dagger(β), γ*Dagger(γ), γ*Dagger(δ)],\n",
       "[δ*Dagger(α), δ*Dagger(β), δ*Dagger(γ), δ*Dagger(δ)]])"
      ]
     },
     "execution_count": 24,
     "metadata": {},
     "output_type": "execute_result"
    }
   ],
   "source": [
    "rho= get_rho_bipartite(alpha, beta, gamma, delta)\n",
    "rho"
   ]
  },
  {
   "cell_type": "code",
   "execution_count": 25,
   "id": "8d70a3fe-3e8e-4635-ab4d-a2de3a56a704",
   "metadata": {},
   "outputs": [],
   "source": [
    "def generate_realignment_scores(rhotilde_t_rhotilde, alpha, beta, gamma, delta, no_of_random_samples= 20):\n",
    "    res= {}\n",
    "    for i in range(no_of_random_samples):\n",
    "        a, b, c, d= generate_1_normalized_real(4)\n",
    "        subbed_symm= simplify(rhotilde_t_rhotilde.subs({alpha: a, beta: b, gamma: c, delta: d}))\n",
    "        print(\"subbed symm: \", subbed_symm)\n",
    "        try:\n",
    "            eig_dict= subbed_symm.eigenvals()\n",
    "            res[str((a, b, c, d))]= sum(get_singular_values_from_eig_dict(eig_dict))\n",
    "        except e:\n",
    "            print(e)\n",
    "    return res\n",
    "    "
   ]
  },
  {
   "cell_type": "code",
   "execution_count": 26,
   "id": "f15e9a38-2956-4c8d-9b26-35f962278379",
   "metadata": {},
   "outputs": [
    {
     "data": {
      "text/latex": [
       "$\\displaystyle \\left[\\begin{matrix}α α^{\\dagger} & α β^{\\dagger} & β α^{\\dagger} & β β^{\\dagger}\\\\α γ^{\\dagger} & α δ^{\\dagger} & β γ^{\\dagger} & β δ^{\\dagger}\\\\γ α^{\\dagger} & γ β^{\\dagger} & δ α^{\\dagger} & δ β^{\\dagger}\\\\γ γ^{\\dagger} & γ δ^{\\dagger} & δ γ^{\\dagger} & δ δ^{\\dagger}\\end{matrix}\\right]$"
      ],
      "text/plain": [
       "Matrix([\n",
       "[α*Dagger(α), α*Dagger(β), β*Dagger(α), β*Dagger(β)],\n",
       "[α*Dagger(γ), α*Dagger(δ), β*Dagger(γ), β*Dagger(δ)],\n",
       "[γ*Dagger(α), γ*Dagger(β), δ*Dagger(α), δ*Dagger(β)],\n",
       "[γ*Dagger(γ), γ*Dagger(δ), δ*Dagger(γ), δ*Dagger(δ)]])"
      ]
     },
     "execution_count": 26,
     "metadata": {},
     "output_type": "execute_result"
    }
   ],
   "source": [
    "realigned, rhotilde_t_rhotilde= compute_entanglement_measures_symbolic(rho, dA, dB, False)\n",
    "realigned"
   ]
  },
  {
   "cell_type": "code",
   "execution_count": 27,
   "id": "a0dc3adf-addd-49ef-a2b2-b2aa38a29517",
   "metadata": {},
   "outputs": [
    {
     "data": {
      "text/latex": [
       "$\\displaystyle \\left[\\begin{matrix}α^{2} \\left(α^{\\dagger}\\right)^{2} + α^{2} \\left(γ^{\\dagger}\\right)^{2} + γ^{2} \\left(α^{\\dagger}\\right)^{2} + γ^{2} \\left(γ^{\\dagger}\\right)^{2} & α^{2} α^{\\dagger} β^{\\dagger} + α^{2} γ^{\\dagger} δ^{\\dagger} + γ^{2} α^{\\dagger} β^{\\dagger} + γ^{2} γ^{\\dagger} δ^{\\dagger} & α β \\left(α^{\\dagger}\\right)^{2} + α β \\left(γ^{\\dagger}\\right)^{2} + γ δ \\left(α^{\\dagger}\\right)^{2} + γ δ \\left(γ^{\\dagger}\\right)^{2} & α β α^{\\dagger} β^{\\dagger} + α β γ^{\\dagger} δ^{\\dagger} + γ δ α^{\\dagger} β^{\\dagger} + γ δ γ^{\\dagger} δ^{\\dagger}\\\\α^{2} α^{\\dagger} β^{\\dagger} + α^{2} γ^{\\dagger} δ^{\\dagger} + γ^{2} α^{\\dagger} β^{\\dagger} + γ^{2} γ^{\\dagger} δ^{\\dagger} & α^{2} \\left(β^{\\dagger}\\right)^{2} + α^{2} \\left(δ^{\\dagger}\\right)^{2} + γ^{2} \\left(β^{\\dagger}\\right)^{2} + γ^{2} \\left(δ^{\\dagger}\\right)^{2} & α β α^{\\dagger} β^{\\dagger} + α β γ^{\\dagger} δ^{\\dagger} + γ δ α^{\\dagger} β^{\\dagger} + γ δ γ^{\\dagger} δ^{\\dagger} & α β \\left(β^{\\dagger}\\right)^{2} + α β \\left(δ^{\\dagger}\\right)^{2} + γ δ \\left(β^{\\dagger}\\right)^{2} + γ δ \\left(δ^{\\dagger}\\right)^{2}\\\\α β \\left(α^{\\dagger}\\right)^{2} + α β \\left(γ^{\\dagger}\\right)^{2} + γ δ \\left(α^{\\dagger}\\right)^{2} + γ δ \\left(γ^{\\dagger}\\right)^{2} & α β α^{\\dagger} β^{\\dagger} + α β γ^{\\dagger} δ^{\\dagger} + γ δ α^{\\dagger} β^{\\dagger} + γ δ γ^{\\dagger} δ^{\\dagger} & β^{2} \\left(α^{\\dagger}\\right)^{2} + β^{2} \\left(γ^{\\dagger}\\right)^{2} + δ^{2} \\left(α^{\\dagger}\\right)^{2} + δ^{2} \\left(γ^{\\dagger}\\right)^{2} & β^{2} α^{\\dagger} β^{\\dagger} + β^{2} γ^{\\dagger} δ^{\\dagger} + δ^{2} α^{\\dagger} β^{\\dagger} + δ^{2} γ^{\\dagger} δ^{\\dagger}\\\\α β α^{\\dagger} β^{\\dagger} + α β γ^{\\dagger} δ^{\\dagger} + γ δ α^{\\dagger} β^{\\dagger} + γ δ γ^{\\dagger} δ^{\\dagger} & α β \\left(β^{\\dagger}\\right)^{2} + α β \\left(δ^{\\dagger}\\right)^{2} + γ δ \\left(β^{\\dagger}\\right)^{2} + γ δ \\left(δ^{\\dagger}\\right)^{2} & β^{2} α^{\\dagger} β^{\\dagger} + β^{2} γ^{\\dagger} δ^{\\dagger} + δ^{2} α^{\\dagger} β^{\\dagger} + δ^{2} γ^{\\dagger} δ^{\\dagger} & β^{2} \\left(β^{\\dagger}\\right)^{2} + β^{2} \\left(δ^{\\dagger}\\right)^{2} + δ^{2} \\left(β^{\\dagger}\\right)^{2} + δ^{2} \\left(δ^{\\dagger}\\right)^{2}\\end{matrix}\\right]$"
      ],
      "text/plain": [
       "Matrix([\n",
       "[                            α**2*Dagger(α)**2 + α**2*Dagger(γ)**2 + γ**2*Dagger(α)**2 + γ**2*Dagger(γ)**2, α**2*Dagger(α)*Dagger(β) + α**2*Dagger(γ)*Dagger(δ) + γ**2*Dagger(α)*Dagger(β) + γ**2*Dagger(γ)*Dagger(δ),                                 α*β*Dagger(α)**2 + α*β*Dagger(γ)**2 + γ*δ*Dagger(α)**2 + γ*δ*Dagger(γ)**2,     α*β*Dagger(α)*Dagger(β) + α*β*Dagger(γ)*Dagger(δ) + γ*δ*Dagger(α)*Dagger(β) + γ*δ*Dagger(γ)*Dagger(δ)],\n",
       "[α**2*Dagger(α)*Dagger(β) + α**2*Dagger(γ)*Dagger(δ) + γ**2*Dagger(α)*Dagger(β) + γ**2*Dagger(γ)*Dagger(δ),                             α**2*Dagger(β)**2 + α**2*Dagger(δ)**2 + γ**2*Dagger(β)**2 + γ**2*Dagger(δ)**2,     α*β*Dagger(α)*Dagger(β) + α*β*Dagger(γ)*Dagger(δ) + γ*δ*Dagger(α)*Dagger(β) + γ*δ*Dagger(γ)*Dagger(δ),                                 α*β*Dagger(β)**2 + α*β*Dagger(δ)**2 + γ*δ*Dagger(β)**2 + γ*δ*Dagger(δ)**2],\n",
       "[                                α*β*Dagger(α)**2 + α*β*Dagger(γ)**2 + γ*δ*Dagger(α)**2 + γ*δ*Dagger(γ)**2,     α*β*Dagger(α)*Dagger(β) + α*β*Dagger(γ)*Dagger(δ) + γ*δ*Dagger(α)*Dagger(β) + γ*δ*Dagger(γ)*Dagger(δ),                             β**2*Dagger(α)**2 + β**2*Dagger(γ)**2 + δ**2*Dagger(α)**2 + δ**2*Dagger(γ)**2, β**2*Dagger(α)*Dagger(β) + β**2*Dagger(γ)*Dagger(δ) + δ**2*Dagger(α)*Dagger(β) + δ**2*Dagger(γ)*Dagger(δ)],\n",
       "[    α*β*Dagger(α)*Dagger(β) + α*β*Dagger(γ)*Dagger(δ) + γ*δ*Dagger(α)*Dagger(β) + γ*δ*Dagger(γ)*Dagger(δ),                                 α*β*Dagger(β)**2 + α*β*Dagger(δ)**2 + γ*δ*Dagger(β)**2 + γ*δ*Dagger(δ)**2, β**2*Dagger(α)*Dagger(β) + β**2*Dagger(γ)*Dagger(δ) + δ**2*Dagger(α)*Dagger(β) + δ**2*Dagger(γ)*Dagger(δ),                             β**2*Dagger(β)**2 + β**2*Dagger(δ)**2 + δ**2*Dagger(β)**2 + δ**2*Dagger(δ)**2]])"
      ]
     },
     "execution_count": 27,
     "metadata": {},
     "output_type": "execute_result"
    }
   ],
   "source": [
    "rhotilde_t_rhotilde"
   ]
  },
  {
   "cell_type": "code",
   "execution_count": 28,
   "id": "bf1c9faa-96f3-422a-9d60-9cd4879377fd",
   "metadata": {},
   "outputs": [
    {
     "name": "stdout",
     "output_type": "stream",
     "text": [
      "subbed symm:  Matrix([[0.897106997150186, -0.0574447618965762, -0.0574447618965762, 0.00367838025992109], [-0.0574447618965762, 0.0500503272422223, 0.00367838025992109, -0.00320488987423855], [-0.0574447618965762, 0.00367838025992109, 0.0500503272422223, -0.00320488987423855], [0.00367838025992109, -0.00320488987423855, -0.00320488987423855, 0.00279234836536914]])\n",
      "subbed symm:  Matrix([[0.962877275895525, -0.0392875402361195, -0.0392875402361195, 0.00160301925950964], [-0.0392875402361195, 0.0183858263841461, 0.00160301925950964, -0.000750182719983335], [-0.0392875402361195, 0.00160301925950964, 0.0183858263841461, -0.000750182719983335], [0.00160301925950964, -0.000750182719983335, -0.000750182719983335, 0.000351071336182040]])\n",
      "subbed symm:  Matrix([[5.79662373175446e-7, -2.05628859376644e-5, -2.05628859376644e-5, 0.000729445790605796], [-2.05628859376644e-5, 0.000760775953075641, 0.000729445790605796, -0.0269876912339753], [-2.05628859376644e-5, 0.000729445790605796, 0.000760775953075641, -0.0269876912339753], [0.000729445790605796, -0.0269876912339753, -0.0269876912339753, 0.998477868431476]])\n",
      "subbed symm:  Matrix([[0.0942083238203473, -0.135203730634573, -0.135203730634573, 0.194038573622919], [-0.135203730634573, 0.212725421180666, 0.194038573622919, -0.305294366549647], [-0.135203730634573, 0.194038573622919, 0.212725421180666, -0.305294366549647], [0.194038573622919, -0.305294366549647, -0.305294366549647, 0.480340833818320]])\n",
      "subbed symm:  Matrix([[0.179662281582170, -0.196921325362599, -0.196921325362599, 0.215838338693405], [-0.196921325362599, 0.244203595296554, 0.215838338693405, -0.267662723753818], [-0.196921325362599, 0.215838338693405, 0.244203595296554, -0.267662723753818], [0.215838338693405, -0.267662723753818, -0.267662723753818, 0.331930527824721]])\n",
      "subbed symm:  Matrix([[0.125775263761979, 0.000568901946724730, 0.000568901946724730, 2.57323590749717e-6], [0.000568901946724730, 0.228872820628701, 2.57323590749717e-6, 0.00103522894179300], [0.000568901946724730, 2.57323590749717e-6, 0.228872820628701, 0.00103522894179300], [2.57323590749717e-6, 0.00103522894179300, 0.00103522894179300, 0.416479094980618]])\n",
      "subbed symm:  Matrix([[0.441856930624909, -0.0535523640442666, -0.0535523640442666, 0.00649046217442762], [-0.0535523640442666, 0.222866267875722, 0.00649046217442762, -0.0270110406406623], [-0.0535523640442666, 0.00649046217442762, 0.222866267875722, -0.0270110406406623], [0.00649046217442762, -0.0270110406406623, -0.0270110406406623, 0.112410533623648]])\n",
      "subbed symm:  Matrix([[0.173985027392722, -0.201835382456721, -0.201835382456721, 0.234143835374392], [-0.201835382456721, 0.243130097474169, 0.234143835374392, -0.282048731122546], [-0.201835382456721, 0.234143835374392, 0.243130097474169, -0.282048731122546], [0.234143835374392, -0.282048731122546, -0.282048731122546, 0.339754777658940]])\n",
      "subbed symm:  Matrix([[0.679853502643160, 0.278028811105194, 0.278028811105194, 0.113700995146804], [0.278028811105194, 0.144678790625672, 0.113700995146804, 0.0591669705214510], [0.278028811105194, 0.113700995146804, 0.144678790625672, 0.0591669705214510], [0.113700995146804, 0.0591669705214510, 0.0591669705214510, 0.0307889161054950]])\n",
      "subbed symm:  Matrix([[0.798157241567329, -0.206111877815375, -0.206111877815375, 0.0532252342823560], [-0.206111877815375, 0.0952392222533698, 0.0532252342823560, -0.0245940698373805], [-0.206111877815375, 0.0532252342823560, 0.0952392222533698, -0.0245940698373805], [0.0532252342823560, -0.0245940698373805, -0.0245940698373805, 0.0113643139259316]])\n",
      "subbed symm:  Matrix([[0.000210098762576518, -0.000480979324548649, -0.000480979324548649, 0.00110110648823560], [-0.000480979324548649, 0.0142846852156868, 0.00110110648823560, -0.0327019453240655], [-0.000480979324548649, 0.00110110648823560, 0.0142846852156868, -0.0327019453240655], [0.00110110648823560, -0.0327019453240655, -0.0327019453240655, 0.971220530806050]])\n",
      "subbed symm:  Matrix([[0.00178960272215310, -0.00551236066908257, -0.00551236066908257, 0.0169792545406337], [-0.00551236066908257, 0.0405140935956996, 0.0169792545406337, -0.124792107944368], [-0.00551236066908257, 0.0169792545406337, 0.0405140935956996, -0.124792107944368], [0.0169792545406337, -0.124792107944368, -0.124792107944368, 0.917182210086448]])\n",
      "subbed symm:  Matrix([[0.822181990389848, -0.198470701986671, -0.198470701986671, 0.0479098545182248], [-0.198470701986671, 0.0845605256475595, 0.0479098545182248, -0.0204124963594439], [-0.198470701986671, 0.0479098545182248, 0.0845605256475595, -0.0204124963594439], [0.0479098545182248, -0.0204124963594439, -0.0204124963594439, 0.00869695831503324]])\n",
      "subbed symm:  Matrix([[0.330497143829738, -0.200258343814746, -0.200258343814746, 0.121342665182259], [-0.200258343814746, 0.244391666141145, 0.121342665182259, -0.148084397149178], [-0.200258343814746, 0.121342665182259, 0.244391666141145, -0.148084397149178], [0.121342665182259, -0.148084397149178, -0.148084397149178, 0.180719523887972]])\n",
      "subbed symm:  Matrix([[0.531852681870139, -0.322594109970427, -0.322594109970427, 0.195668769445111], [-0.322594109970427, 0.197429624147318, 0.195668769445111, -0.119750517492268], [-0.322594109970427, 0.195668769445111, 0.197429624147318, -0.119750517492268], [0.195668769445111, -0.119750517492268, -0.119750517492268, 0.0732880698352262]])\n",
      "subbed symm:  Matrix([[0.361803583294111, -0.277388966316170, -0.277388966316170, 0.212669642277714], [-0.277388966316170, 0.239697525012524, 0.212669642277714, -0.183772222724834], [-0.277388966316170, 0.212669642277714, 0.239697525012524, -0.183772222724834], [0.212669642277714, -0.183772222724834, -0.183772222724834, 0.158801366680839]])\n",
      "subbed symm:  Matrix([[0.468998047512176, -0.0432095162982260, -0.0432095162982260, 0.00398095964072896], [-0.0432095162982260, 0.215836273701485, 0.00398095964072896, -0.0198853300898029], [-0.0432095162982260, 0.00398095964072896, 0.215836273701485, -0.0198853300898029], [0.00398095964072896, -0.0198853300898029, -0.0198853300898029, 0.0993294050848536]])\n",
      "subbed symm:  Matrix([[0.0174149751475232, 0.0354821797234715, 0.0354821797234715, 0.0722932457418858], [0.0354821797234715, 0.114550835377488, 0.0722932457418858, 0.233391853500055], [0.0354821797234715, 0.0722932457418858, 0.114550835377488, 0.233391853500055], [0.0722932457418858, 0.233391853500055, 0.233391853500055, 0.753483354097500]])\n",
      "subbed symm:  Matrix([[0.0131676188877798, -0.0130729820388093, -0.0130729820388093, 0.0129790253532958], [-0.0130729820388093, 0.101582626810344, 0.0129790253532958, -0.100852543429787], [-0.0130729820388093, 0.0129790253532958, 0.101582626810344, -0.100852543429787], [0.0129790253532958, -0.100852543429787, -0.100852543429787, 0.783667127491532]])\n",
      "subbed symm:  Matrix([[0.355445828513912, -0.00235763217924573, -0.00235763217924573, 1.56379089209027e-5], [-0.00235763217924573, 0.240746949464748, 1.56379089209027e-5, -0.00159684742253523], [-0.00235763217924573, 1.56379089209027e-5, 0.240746949464748, -0.00159684742253523], [1.56379089209027e-5, -0.00159684742253523, -0.00159684742253523, 0.163060272556592]])\n"
     ]
    },
    {
     "data": {
      "text/plain": [
       "{'(-0.887501028648928, -0.0339701345486815, 0.399373570156444, -0.227351502230216)': 1.43068293201519,\n",
       " '(0.0752295706015858, 0.127332249846971, -0.987726487438083, 0.0502334138720104)': 1.25909694806876,\n",
       " '(-0.0275490161771428, 0.965864361944414, 0.00155155506519715, -0.257574608046411)': 1.01119467060165,\n",
       " '(-0.466215769056483, 0.535795709193153, -0.299293504246394, 0.637172828210049)': 1.27339968952248,\n",
       " '(-0.494260051004366, 0.373362583533043, -0.423760402656839, 0.660858914094988)': 1.33683976370464,\n",
       " '(0.585924676721671, -0.141001353747436, -0.106491115118987, -0.790866950789265)': 1.95680770772981,\n",
       " '(-0.738614784152404, -0.152054685498695, -0.345212107452980, 0.558709382521238)': 1.93032425680790,\n",
       " '(-0.576944074968945, 0.603331392806304, -0.290259641054555, 0.467841966466791)': 1.18959179412387,\n",
       " '(0.147625539907358, -0.130879406716477, -0.895957026444848, -0.397917438206358)': 1.35201020143665,\n",
       " '(0.879963622720560, -0.306402730103375, -0.345051425890701, -0.112786981360882)': 1.40994627926602,\n",
       " '(-0.113476003498688, 0.578414335402548, 0.0402241296764636, 0.806809811927548)': 1.22963953255005,\n",
       " '(-0.202812917974456, 0.748782440512913, -0.0342142750988408, -0.630096151759137)': 1.30682137510327,\n",
       " '(-0.425809339162346, -0.0770385143221627, -0.851721153147868, 0.295503893838350)': 1.38288730002096,\n",
       " '(0.368640855731467, -0.627652274373965, -0.662565264299642, 0.176532751925260)': 1.70156682064900,\n",
       " '(0.853177448498166, -0.515362797565606, 0.0370209047919709, -0.0715463546792966)': 1.08392507854525,\n",
       " '(-0.562804972688914, 0.577342240082293, 0.533621280519496, -0.255293614315212)': 1.32880317963676,\n",
       " '(0.00473148858576729, 0.555749787269256, -0.827533645376080, 0.0794219915169334)': 1.92055486324446,\n",
       " '(-0.226987010238700, -0.904283895169797, -0.283624236813267, -0.224287374614639)': 1.41113301806400,\n",
       " '(-0.338641940382625, 0.358200958920465, 0.00847832011747859, 0.870024038363501)': 1.59532714185412,\n",
       " '(-0.629420097600693, 0.372235767229964, -0.447239442262190, -0.515022092357270)': 1.98128754512799}"
      ]
     },
     "execution_count": 28,
     "metadata": {},
     "output_type": "execute_result"
    }
   ],
   "source": [
    "generate_realignment_scores(rhotilde_t_rhotilde, alpha, beta, gamma, delta)"
   ]
  },
  {
   "cell_type": "code",
   "execution_count": 29,
   "id": "3bd16a35-32ad-4201-9ad4-c94f575bd673",
   "metadata": {},
   "outputs": [
    {
     "data": {
      "text/latex": [
       "$\\displaystyle \\frac{\\left({{\\left|0\\right\\rangle }}\\otimes {{\\left|0\\right\\rangle }} + {{\\left|1\\right\\rangle }}\\otimes {{\\left|1\\right\\rangle }}\\right) \\left({{\\left\\langle 0\\right|}}\\otimes {{\\left\\langle 0\\right|}} + {{\\left\\langle 1\\right|}}\\otimes {{\\left\\langle 1\\right|}}\\right)}{2}$"
      ],
      "text/plain": [
       "(|0>x|0> + |1>x|1>)*(<0|x<0| + <1|x<1|)/2"
      ]
     },
     "execution_count": 29,
     "metadata": {},
     "output_type": "execute_result"
    }
   ],
   "source": [
    "# Bell state (|00⟩ + |11⟩)/√2\n",
    "bell_state = (TensorProduct(Qubit('0'), Qubit('0')) + \n",
    "             TensorProduct(Qubit('1'), Qubit('1')))/sqrt(2)\n",
    "\n",
    "# Density matrix\n",
    "bell_rho = bell_state * Dagger(bell_state)\n",
    "bell_rho"
   ]
  },
  {
   "cell_type": "code",
   "execution_count": 30,
   "id": "53c3f027-e6a9-4b58-92b6-b65143c079df",
   "metadata": {},
   "outputs": [
    {
     "data": {
      "text/latex": [
       "$\\displaystyle \\left[\\begin{matrix}\\frac{1}{2} & 0 & 0 & \\frac{1}{2}\\\\0 & 0 & 0 & 0\\\\0 & 0 & 0 & 0\\\\\\frac{1}{2} & 0 & 0 & \\frac{1}{2}\\end{matrix}\\right]$"
      ],
      "text/plain": [
       "Matrix([\n",
       "[1/2, 0, 0, 1/2],\n",
       "[  0, 0, 0,   0],\n",
       "[  0, 0, 0,   0],\n",
       "[1/2, 0, 0, 1/2]])"
      ]
     },
     "execution_count": 30,
     "metadata": {},
     "output_type": "execute_result"
    }
   ],
   "source": [
    "matrix_form = represent(bell_rho.doit(), basis_set=[Qubit('0'), Qubit('1')])\n",
    "\n",
    "# Simplify करें और output को Matrix के रूप में प्राप्त करें\n",
    "final_matrix = Matrix(simplify(matrix_form)).expand()\n",
    "final_matrix"
   ]
  },
  {
   "cell_type": "code",
   "execution_count": 31,
   "id": "2b652c1c-e6fa-4531-88f1-01d17653284d",
   "metadata": {},
   "outputs": [
    {
     "data": {
      "text/latex": [
       "$\\displaystyle \\left[\\begin{matrix}\\frac{1}{2} & 0 & 0 & \\frac{1}{2}\\\\0 & 0 & 0 & 0\\\\0 & 0 & 0 & 0\\\\\\frac{1}{2} & 0 & 0 & \\frac{1}{2}\\end{matrix}\\right]$"
      ],
      "text/plain": [
       "Matrix([\n",
       "[1/2, 0, 0, 1/2],\n",
       "[  0, 0, 0,   0],\n",
       "[  0, 0, 0,   0],\n",
       "[1/2, 0, 0, 1/2]])"
      ]
     },
     "execution_count": 31,
     "metadata": {},
     "output_type": "execute_result"
    }
   ],
   "source": [
    "# Bell state vector (|00⟩ + |11⟩)/√2 को Matrix के रूप में परिभाषित करें\n",
    "bell_vector = Matrix([[1], [0], [0], [1]])/sqrt(2)\n",
    "\n",
    "# Density matrix बनाएं (outer product)\n",
    "density_matrix = bell_vector * Dagger(bell_vector)\n",
    "\n",
    "# मैट्रिक्स को simplify करें और expand करें\n",
    "rho = density_matrix.expand()\n",
    "rho"
   ]
  },
  {
   "cell_type": "code",
   "execution_count": 32,
   "id": "4c52e5de-7a84-40d3-8e72-cefe0c12baab",
   "metadata": {},
   "outputs": [
    {
     "data": {
      "text/latex": [
       "Density matrix $\\rho$: "
      ],
      "text/plain": [
       "<IPython.core.display.Latex object>"
      ]
     },
     "metadata": {},
     "output_type": "display_data"
    },
    {
     "data": {
      "text/latex": [
       "$$\\left[\\begin{matrix}\\frac{1}{2} & 0 & 0 & \\frac{1}{2}\\\\0 & 0 & 0 & 0\\\\0 & 0 & 0 & 0\\\\\\frac{1}{2} & 0 & 0 & \\frac{1}{2}\\end{matrix}\\right]$$"
      ],
      "text/plain": [
       "<IPython.core.display.Latex object>"
      ]
     },
     "metadata": {},
     "output_type": "display_data"
    },
    {
     "data": {
      "text/latex": [
       "Eigenvalues of $\\rho$: "
      ],
      "text/plain": [
       "<IPython.core.display.Latex object>"
      ]
     },
     "metadata": {},
     "output_type": "display_data"
    },
    {
     "data": {
      "text/latex": [
       "$$\\left[ 1, \\  0, \\  0, \\  0\\right]$$"
      ],
      "text/plain": [
       "<IPython.core.display.Latex object>"
      ]
     },
     "metadata": {},
     "output_type": "display_data"
    },
    {
     "data": {
      "text/latex": [
       "Partial transpose $\\rho^{T_B}$: "
      ],
      "text/plain": [
       "<IPython.core.display.Latex object>"
      ]
     },
     "metadata": {},
     "output_type": "display_data"
    },
    {
     "data": {
      "text/latex": [
       "$$\\left[\\begin{matrix}\\frac{1}{2} & 0 & 0 & 0\\\\0 & 0 & \\frac{1}{2} & 0\\\\0 & \\frac{1}{2} & 0 & 0\\\\0 & 0 & 0 & \\frac{1}{2}\\end{matrix}\\right]$$"
      ],
      "text/plain": [
       "<IPython.core.display.Latex object>"
      ]
     },
     "metadata": {},
     "output_type": "display_data"
    },
    {
     "data": {
      "text/latex": [
       "Eigenvalues of $\\rho^{T_B}$: "
      ],
      "text/plain": [
       "<IPython.core.display.Latex object>"
      ]
     },
     "metadata": {},
     "output_type": "display_data"
    },
    {
     "data": {
      "text/latex": [
       "$$\\left[ \\frac{1}{2}, \\  \\frac{1}{2}, \\  \\frac{1}{2}, \\  - \\frac{1}{2}\\right]$$"
      ],
      "text/plain": [
       "<IPython.core.display.Latex object>"
      ]
     },
     "metadata": {},
     "output_type": "display_data"
    },
    {
     "data": {
      "text/latex": [
       "Determinant of $\\rho^{T_B}$: "
      ],
      "text/plain": [
       "<IPython.core.display.Latex object>"
      ]
     },
     "metadata": {},
     "output_type": "display_data"
    },
    {
     "data": {
      "text/latex": [
       "$$- \\frac{1}{16}$$"
      ],
      "text/plain": [
       "<IPython.core.display.Latex object>"
      ]
     },
     "metadata": {},
     "output_type": "display_data"
    },
    {
     "data": {
      "text/latex": [
       "Realigned matrix: "
      ],
      "text/plain": [
       "<IPython.core.display.Latex object>"
      ]
     },
     "metadata": {},
     "output_type": "display_data"
    },
    {
     "data": {
      "text/latex": [
       "$$\\left[\\begin{matrix}\\frac{1}{2} & 0 & 0 & 0\\\\0 & \\frac{1}{2} & 0 & 0\\\\0 & 0 & \\frac{1}{2} & 0\\\\0 & 0 & 0 & \\frac{1}{2}\\end{matrix}\\right]$$"
      ],
      "text/plain": [
       "<IPython.core.display.Latex object>"
      ]
     },
     "metadata": {},
     "output_type": "display_data"
    },
    {
     "data": {
      "text/latex": [
       "Symmetric for realigned: "
      ],
      "text/plain": [
       "<IPython.core.display.Latex object>"
      ]
     },
     "metadata": {},
     "output_type": "display_data"
    },
    {
     "data": {
      "text/latex": [
       "$$\\left[\\begin{matrix}\\frac{1}{4} & 0 & 0 & 0\\\\0 & \\frac{1}{4} & 0 & 0\\\\0 & 0 & \\frac{1}{4} & 0\\\\0 & 0 & 0 & \\frac{1}{4}\\end{matrix}\\right]$$"
      ],
      "text/plain": [
       "<IPython.core.display.Latex object>"
      ]
     },
     "metadata": {},
     "output_type": "display_data"
    },
    {
     "data": {
      "text/plain": [
       "(Matrix([\n",
       " [1/2,   0,   0,   0],\n",
       " [  0, 1/2,   0,   0],\n",
       " [  0,   0, 1/2,   0],\n",
       " [  0,   0,   0, 1/2]]),\n",
       " Matrix([\n",
       " [1/4,   0,   0,   0],\n",
       " [  0, 1/4,   0,   0],\n",
       " [  0,   0, 1/4,   0],\n",
       " [  0,   0,   0, 1/4]]))"
      ]
     },
     "execution_count": 32,
     "metadata": {},
     "output_type": "execute_result"
    }
   ],
   "source": [
    "# Execute the optimized function\n",
    "\n",
    "result = compute_entanglement_measures_symbolic(rho, dA, dB)\n",
    "result"
   ]
  },
  {
   "cell_type": "code",
   "execution_count": 33,
   "id": "8adb5901-9507-445d-974c-2ecda2043a51",
   "metadata": {},
   "outputs": [
    {
     "data": {
      "text/latex": [
       "$\\displaystyle \\left[\\begin{matrix}0.5 & 0 & 0 & 0\\\\0 & 0 & 0.5 & 0\\\\0 & 0.5 & 0 & 0\\\\0 & 0 & 0 & 0.5\\end{matrix}\\right]$"
      ],
      "text/plain": [
       "Matrix([\n",
       "[0.5,   0,   0,   0],\n",
       "[  0,   0, 0.5,   0],\n",
       "[  0, 0.5,   0,   0],\n",
       "[  0,   0,   0, 0.5]])"
      ]
     },
     "execution_count": 33,
     "metadata": {},
     "output_type": "execute_result"
    }
   ],
   "source": [
    "ajeeb_matrix= sp.Matrix([\n",
    "    [0.5, 0, 0, 0],\n",
    "    [0, 0, 0.5, 0],\n",
    "    [0, 0.5, 0, 0],\n",
    "    [0, 0, 0, 0.5]\n",
    "])\n",
    "ajeeb_matrix\n"
   ]
  },
  {
   "cell_type": "code",
   "execution_count": 34,
   "id": "50c249e6-84b1-40f7-ac64-f0de035ad1c3",
   "metadata": {},
   "outputs": [
    {
     "data": {
      "text/latex": [
       "$\\displaystyle -0.0625$"
      ],
      "text/plain": [
       "-0.0625000000000000"
      ]
     },
     "execution_count": 34,
     "metadata": {},
     "output_type": "execute_result"
    }
   ],
   "source": [
    "ajeeb_matrix.det()"
   ]
  },
  {
   "cell_type": "code",
   "execution_count": 35,
   "id": "c37a425f-f20c-4d93-9fba-4ee158175b42",
   "metadata": {},
   "outputs": [
    {
     "data": {
      "text/plain": [
       "0.0625"
      ]
     },
     "execution_count": 35,
     "metadata": {},
     "output_type": "execute_result"
    }
   ],
   "source": [
    "1 / 16"
   ]
  },
  {
   "cell_type": "code",
   "execution_count": 36,
   "id": "7309feaa-78b3-4b98-92c4-adae4713895c",
   "metadata": {},
   "outputs": [
    {
     "data": {
      "text/latex": [
       "$\\displaystyle \\left[\\begin{matrix}\\frac{1}{2} & 0 & 0 & \\frac{1}{2}\\\\0 & 0 & 0 & 0\\\\0 & 0 & 0 & 0\\\\\\frac{1}{2} & 0 & 0 & \\frac{1}{2}\\end{matrix}\\right]$"
      ],
      "text/plain": [
       "Matrix([\n",
       "[1/2, 0, 0, 1/2],\n",
       "[  0, 0, 0,   0],\n",
       "[  0, 0, 0,   0],\n",
       "[1/2, 0, 0, 1/2]])"
      ]
     },
     "execution_count": 36,
     "metadata": {},
     "output_type": "execute_result"
    }
   ],
   "source": [
    "I_2= Matrix.eye(2)\n",
    "rx, ry, rz, sx, sy, sz = symbols('rx ry rz sx sy sz')\n",
    "rho"
   ]
  },
  {
   "cell_type": "code",
   "execution_count": 37,
   "id": "8ec7f51f-6984-4b4f-9978-94b1f74fd329",
   "metadata": {},
   "outputs": [
    {
     "data": {
      "text/latex": [
       "$\\displaystyle 1$"
      ],
      "text/plain": [
       "1"
      ]
     },
     "execution_count": 37,
     "metadata": {},
     "output_type": "execute_result"
    }
   ],
   "source": [
    "rho.trace()"
   ]
  },
  {
   "cell_type": "code",
   "execution_count": 38,
   "id": "b1bf4c34-4f2e-4c9b-afa2-c9ecdfa44bb9",
   "metadata": {},
   "outputs": [],
   "source": [
    "t_nm = lambda n, m: (rho * TensorProduct(msigma(n), msigma(m))).trace()"
   ]
  },
  {
   "cell_type": "code",
   "execution_count": 39,
   "id": "8ed7506a-c1ee-4631-9c4e-b502601e47f5",
   "metadata": {},
   "outputs": [],
   "source": [
    "T= Matrix([[t_nm(n, m) for m in range(1, 4)] for n in range(1, 4)])"
   ]
  },
  {
   "cell_type": "code",
   "execution_count": 40,
   "id": "107e418b-a1c3-41a0-9fa1-dd880c6c3c00",
   "metadata": {},
   "outputs": [
    {
     "data": {
      "text/latex": [
       "$\\displaystyle \\left[\\begin{matrix}1 & 0 & 0\\\\0 & -1 & 0\\\\0 & 0 & 1\\end{matrix}\\right]$"
      ],
      "text/plain": [
       "Matrix([\n",
       "[1,  0, 0],\n",
       "[0, -1, 0],\n",
       "[0,  0, 1]])"
      ]
     },
     "metadata": {},
     "output_type": "display_data"
    }
   ],
   "source": [
    "display(T)"
   ]
  },
  {
   "cell_type": "code",
   "execution_count": 41,
   "id": "365ae693-e1af-4209-bf70-846923b14668",
   "metadata": {},
   "outputs": [],
   "source": [
    "bchsh_sum_correlations= Matrix.zeros(4)\n",
    "for n in range(1, 4):\n",
    "    for m in range(1, 4):\n",
    "        tba= T[n - 1, m - 1] * TensorProduct(msigma(n), msigma(m))\n",
    "        bchsh_sum_correlations += tba\n",
    "    # print(\"sum at the end of n= \", n, \"is: \", s)"
   ]
  },
  {
   "cell_type": "code",
   "execution_count": 42,
   "id": "520826e8-9d39-44b4-b1c7-f47f667975a6",
   "metadata": {},
   "outputs": [
    {
     "data": {
      "text/latex": [
       "$\\displaystyle \\left[\\begin{matrix}1 & 0 & 0 & 2\\\\0 & -1 & 0 & 0\\\\0 & 0 & -1 & 0\\\\2 & 0 & 0 & 1\\end{matrix}\\right]$"
      ],
      "text/plain": [
       "Matrix([\n",
       "[1,  0,  0, 2],\n",
       "[0, -1,  0, 0],\n",
       "[0,  0, -1, 0],\n",
       "[2,  0,  0, 1]])"
      ]
     },
     "execution_count": 42,
     "metadata": {},
     "output_type": "execute_result"
    }
   ],
   "source": [
    "bchsh_sum_correlations"
   ]
  },
  {
   "cell_type": "code",
   "execution_count": 43,
   "id": "6b2089cc-7e4e-49b4-bdcb-aa775eb42c8b",
   "metadata": {},
   "outputs": [],
   "source": [
    "s= Matrix([sx, sy, sz])\n",
    "r= Matrix([rx, ry, rz])"
   ]
  },
  {
   "cell_type": "code",
   "execution_count": 44,
   "id": "08081a33-31c5-4b53-8bcc-0f51c5b28483",
   "metadata": {},
   "outputs": [],
   "source": [
    "ssigma= Matrix.zeros(2)\n",
    "rsigma= Matrix.zeros(2)\n",
    "for i in range(1, 4):\n",
    "    ssigma += s[i-1] * msigma(i)\n",
    "    rsigma += r[i-1] * msigma(i)"
   ]
  },
  {
   "cell_type": "code",
   "execution_count": 45,
   "id": "ed3bee95-a34d-42f6-b018-4fbadd38fb30",
   "metadata": {},
   "outputs": [],
   "source": [
    "rho_bell_basis= Matrix.zeros(4)"
   ]
  },
  {
   "cell_type": "code",
   "execution_count": 46,
   "id": "0c30b86c-16bc-4f45-9485-9b28eeb28f3f",
   "metadata": {},
   "outputs": [
    {
     "data": {
      "text/latex": [
       "$\\displaystyle \\left[\\begin{matrix}1 & 0 & 0 & 0\\\\0 & 1 & 0 & 0\\\\0 & 0 & 1 & 0\\\\0 & 0 & 0 & 1\\end{matrix}\\right]$"
      ],
      "text/plain": [
       "Matrix([\n",
       "[1, 0, 0, 0],\n",
       "[0, 1, 0, 0],\n",
       "[0, 0, 1, 0],\n",
       "[0, 0, 0, 1]])"
      ]
     },
     "execution_count": 46,
     "metadata": {},
     "output_type": "execute_result"
    }
   ],
   "source": [
    "rho_bell_basis+= TensorProduct(I_2, I_2)\n",
    "rho_bell_basis"
   ]
  },
  {
   "cell_type": "code",
   "execution_count": 47,
   "id": "e8f74a73-35b4-4ed0-beac-e60a4c69eb99",
   "metadata": {},
   "outputs": [
    {
     "data": {
      "text/latex": [
       "$\\displaystyle \\left[\\begin{matrix}rz & 0 & rx - i ry & 0\\\\0 & rz & 0 & rx - i ry\\\\rx + i ry & 0 & - rz & 0\\\\0 & rx + i ry & 0 & - rz\\end{matrix}\\right]$"
      ],
      "text/plain": [
       "Matrix([\n",
       "[       rz,         0, rx - I*ry,         0],\n",
       "[        0,        rz,         0, rx - I*ry],\n",
       "[rx + I*ry,         0,       -rz,         0],\n",
       "[        0, rx + I*ry,         0,       -rz]])"
      ]
     },
     "execution_count": 47,
     "metadata": {},
     "output_type": "execute_result"
    }
   ],
   "source": [
    "res= TensorProduct(rsigma, I_2)\n",
    "rho_bell_basis += res\n",
    "res"
   ]
  },
  {
   "cell_type": "code",
   "execution_count": 48,
   "id": "f7fd6786-922f-4533-a2ca-53d0880c2514",
   "metadata": {},
   "outputs": [
    {
     "data": {
      "text/latex": [
       "$\\displaystyle \\left[\\begin{matrix}sz & sx - i sy & 0 & 0\\\\sx + i sy & - sz & 0 & 0\\\\0 & 0 & sz & sx - i sy\\\\0 & 0 & sx + i sy & - sz\\end{matrix}\\right]$"
      ],
      "text/plain": [
       "Matrix([\n",
       "[       sz, sx - I*sy,         0,         0],\n",
       "[sx + I*sy,       -sz,         0,         0],\n",
       "[        0,         0,        sz, sx - I*sy],\n",
       "[        0,         0, sx + I*sy,       -sz]])"
      ]
     },
     "execution_count": 48,
     "metadata": {},
     "output_type": "execute_result"
    }
   ],
   "source": [
    "res=  TensorProduct(I_2, ssigma)\n",
    "rho_bell_basis += res\n",
    "res"
   ]
  },
  {
   "cell_type": "code",
   "execution_count": 49,
   "id": "cf5cd62f-9d28-46cf-a2ae-121dc74cb185",
   "metadata": {},
   "outputs": [
    {
     "data": {
      "text/latex": [
       "$\\displaystyle \\left[\\begin{matrix}1 & 0 & 0 & 2\\\\0 & -1 & 0 & 0\\\\0 & 0 & -1 & 0\\\\2 & 0 & 0 & 1\\end{matrix}\\right]$"
      ],
      "text/plain": [
       "Matrix([\n",
       "[1,  0,  0, 2],\n",
       "[0, -1,  0, 0],\n",
       "[0,  0, -1, 0],\n",
       "[2,  0,  0, 1]])"
      ]
     },
     "execution_count": 49,
     "metadata": {},
     "output_type": "execute_result"
    }
   ],
   "source": [
    "rho_bell_basis += bchsh_sum_correlations\n",
    "bchsh_sum_correlations"
   ]
  },
  {
   "cell_type": "code",
   "execution_count": 50,
   "id": "fee3a86b-33c8-47e2-8c40-79d979033326",
   "metadata": {},
   "outputs": [
    {
     "data": {
      "text/latex": [
       "$\\displaystyle \\left[\\begin{matrix}rz + sz + 2 & sx - i sy & rx - i ry & 2\\\\sx + i sy & rz - sz & 0 & rx - i ry\\\\rx + i ry & 0 & - rz + sz & sx - i sy\\\\2 & rx + i ry & sx + i sy & - rz - sz + 2\\end{matrix}\\right]$"
      ],
      "text/plain": [
       "Matrix([\n",
       "[rz + sz + 2, sx - I*sy, rx - I*ry,            2],\n",
       "[  sx + I*sy,   rz - sz,         0,    rx - I*ry],\n",
       "[  rx + I*ry,         0,  -rz + sz,    sx - I*sy],\n",
       "[          2, rx + I*ry, sx + I*sy, -rz - sz + 2]])"
      ]
     },
     "execution_count": 50,
     "metadata": {},
     "output_type": "execute_result"
    }
   ],
   "source": [
    "rho_bell_basis"
   ]
  },
  {
   "cell_type": "code",
   "execution_count": 51,
   "id": "496f510d-8f38-4704-bfd7-76504b5c3487",
   "metadata": {},
   "outputs": [],
   "source": [
    "eig_dict= rho_bell_basis.eigenvals()"
   ]
  },
  {
   "cell_type": "code",
   "execution_count": 52,
   "id": "9d17584e-cfc3-4a4c-8905-6ca7b9d3c871",
   "metadata": {},
   "outputs": [
    {
     "data": {
      "text/plain": [
       "{Piecewise((-sqrt(4*rx**2/3 + 4*ry**2/3 + 4*rz**2/3 + 4*sx**2/3 + 4*sy**2/3 + 4*sz**2/3 - 2*(-(-8*rx*sx + 8*ry*sy - 8*rz*sz - 8)**2/8 - (-2*rx**2 - 2*ry**2 - 2*rz**2 - 2*sx**2 - 2*sy**2 - 2*sz**2 - 6)**3/108 + (-2*rx**2 - 2*ry**2 - 2*rz**2 - 2*sx**2 - 2*sy**2 - 2*sz**2 - 6)*(rx**4 + 2*rx**2*ry**2 + 2*rx**2*rz**2 - 2*rx**2*sx**2 - 2*rx**2*sy**2 - 2*rx**2*sz**2 + 2*rx**2 - 8*rx*sx + ry**4 + 2*ry**2*rz**2 - 2*ry**2*sx**2 - 2*ry**2*sy**2 - 2*ry**2*sz**2 + 2*ry**2 + 8*ry*sy + rz**4 - 2*rz**2*sx**2 - 2*rz**2*sy**2 - 2*rz**2*sz**2 + 2*rz**2 - 8*rz*sz + sx**4 + 2*sx**2*sy**2 + 2*sx**2*sz**2 + 2*sx**2 + sy**4 + 2*sy**2*sz**2 + 2*sy**2 + sz**4 + 2*sz**2 - 3)/3)**(1/3) + 4)/2 + sqrt(8*rx**2/3 + 8*ry**2/3 + 8*rz**2/3 + 8*sx**2/3 + 8*sy**2/3 + 8*sz**2/3 + 2*(-(-8*rx*sx + 8*ry*sy - 8*rz*sz - 8)**2/8 - (-2*rx**2 - 2*ry**2 - 2*rz**2 - 2*sx**2 - 2*sy**2 - 2*sz**2 - 6)**3/108 + (-2*rx**2 - 2*ry**2 - 2*rz**2 - 2*sx**2 - 2*sy**2 - 2*sz**2 - 6)*(rx**4 + 2*rx**2*ry**2 + 2*rx**2*rz**2 - 2*rx**2*sx**2 - 2*rx**2*sy**2 - 2*rx**2*sz**2 + 2*rx**2 - 8*rx*sx + ry**4 + 2*ry**2*rz**2 - 2*ry**2*sx**2 - 2*ry**2*sy**2 - 2*ry**2*sz**2 + 2*ry**2 + 8*ry*sy + rz**4 - 2*rz**2*sx**2 - 2*rz**2*sy**2 - 2*rz**2*sz**2 + 2*rz**2 - 8*rz*sz + sx**4 + 2*sx**2*sy**2 + 2*sx**2*sz**2 + 2*sx**2 + sy**4 + 2*sy**2*sz**2 + 2*sy**2 + sz**4 + 2*sz**2 - 3)/3)**(1/3) + (-16*rx*sx + 16*ry*sy - 16*rz*sz - 16)/sqrt(4*rx**2/3 + 4*ry**2/3 + 4*rz**2/3 + 4*sx**2/3 + 4*sy**2/3 + 4*sz**2/3 - 2*(-(-8*rx*sx + 8*ry*sy - 8*rz*sz - 8)**2/8 - (-2*rx**2 - 2*ry**2 - 2*rz**2 - 2*sx**2 - 2*sy**2 - 2*sz**2 - 6)**3/108 + (-2*rx**2 - 2*ry**2 - 2*rz**2 - 2*sx**2 - 2*sy**2 - 2*sz**2 - 6)*(rx**4 + 2*rx**2*ry**2 + 2*rx**2*rz**2 - 2*rx**2*sx**2 - 2*rx**2*sy**2 - 2*rx**2*sz**2 + 2*rx**2 - 8*rx*sx + ry**4 + 2*ry**2*rz**2 - 2*ry**2*sx**2 - 2*ry**2*sy**2 - 2*ry**2*sz**2 + 2*ry**2 + 8*ry*sy + rz**4 - 2*rz**2*sx**2 - 2*rz**2*sy**2 - 2*rz**2*sz**2 + 2*rz**2 - 8*rz*sz + sx**4 + 2*sx**2*sy**2 + 2*sx**2*sz**2 + 2*sx**2 + sy**4 + 2*sy**2*sz**2 + 2*sy**2 + sz**4 + 2*sz**2 - 3)/3)**(1/3) + 4) + 8)/2 + 1, Eq(4*rx**4/3 + 8*rx**2*ry**2/3 + 8*rx**2*rz**2/3 - 4*rx**2*sx**2/3 - 4*rx**2*sy**2/3 - 4*rx**2*sz**2/3 + 4*rx**2 - 8*rx*sx + 4*ry**4/3 + 8*ry**2*rz**2/3 - 4*ry**2*sx**2/3 - 4*ry**2*sy**2/3 - 4*ry**2*sz**2/3 + 4*ry**2 + 8*ry*sy + 4*rz**4/3 - 4*rz**2*sx**2/3 - 4*rz**2*sy**2/3 - 4*rz**2*sz**2/3 + 4*rz**2 - 8*rz*sz + 4*sx**4/3 + 8*sx**2*sy**2/3 + 8*sx**2*sz**2/3 + 4*sx**2 + 4*sy**4/3 + 8*sy**2*sz**2/3 + 4*sy**2 + 4*sz**4/3 + 4*sz**2, 0)), (-sqrt(4*rx**2/3 + 4*ry**2/3 + 4*rz**2/3 + 4*sx**2/3 + 4*sy**2/3 + 4*sz**2/3 + 2*(sqrt((-(-8*rx*sx + 8*ry*sy - 8*rz*sz - 8)**2/8 - (-2*rx**2 - 2*ry**2 - 2*rz**2 - 2*sx**2 - 2*sy**2 - 2*sz**2 - 6)**3/108 + (-2*rx**2 - 2*ry**2 - 2*rz**2 - 2*sx**2 - 2*sy**2 - 2*sz**2 - 6)*(rx**4 + 2*rx**2*ry**2 + 2*rx**2*rz**2 - 2*rx**2*sx**2 - 2*rx**2*sy**2 - 2*rx**2*sz**2 + 2*rx**2 - 8*rx*sx + ry**4 + 2*ry**2*rz**2 - 2*ry**2*sx**2 - 2*ry**2*sy**2 - 2*ry**2*sz**2 + 2*ry**2 + 8*ry*sy + rz**4 - 2*rz**2*sx**2 - 2*rz**2*sy**2 - 2*rz**2*sz**2 + 2*rz**2 - 8*rz*sz + sx**4 + 2*sx**2*sy**2 + 2*sx**2*sz**2 + 2*sx**2 + sy**4 + 2*sy**2*sz**2 + 2*sy**2 + sz**4 + 2*sz**2 - 3)/3)**2/4 + (-4*rx**4/3 - 8*rx**2*ry**2/3 - 8*rx**2*rz**2/3 + 4*rx**2*sx**2/3 + 4*rx**2*sy**2/3 + 4*rx**2*sz**2/3 - 4*rx**2 + 8*rx*sx - 4*ry**4/3 - 8*ry**2*rz**2/3 + 4*ry**2*sx**2/3 + 4*ry**2*sy**2/3 + 4*ry**2*sz**2/3 - 4*ry**2 - 8*ry*sy - 4*rz**4/3 + 4*rz**2*sx**2/3 + 4*rz**2*sy**2/3 + 4*rz**2*sz**2/3 - 4*rz**2 + 8*rz*sz - 4*sx**4/3 - 8*sx**2*sy**2/3 - 8*sx**2*sz**2/3 - 4*sx**2 - 4*sy**4/3 - 8*sy**2*sz**2/3 - 4*sy**2 - 4*sz**4/3 - 4*sz**2)**3/27) + (-8*rx*sx + 8*ry*sy - 8*rz*sz - 8)**2/16 + (-2*rx**2 - 2*ry**2 - 2*rz**2 - 2*sx**2 - 2*sy**2 - 2*sz**2 - 6)**3/216 - (-2*rx**2 - 2*ry**2 - 2*rz**2 - 2*sx**2 - 2*sy**2 - 2*sz**2 - 6)*(rx**4 + 2*rx**2*ry**2 + 2*rx**2*rz**2 - 2*rx**2*sx**2 - 2*rx**2*sy**2 - 2*rx**2*sz**2 + 2*rx**2 - 8*rx*sx + ry**4 + 2*ry**2*rz**2 - 2*ry**2*sx**2 - 2*ry**2*sy**2 - 2*ry**2*sz**2 + 2*ry**2 + 8*ry*sy + rz**4 - 2*rz**2*sx**2 - 2*rz**2*sy**2 - 2*rz**2*sz**2 + 2*rz**2 - 8*rz*sz + sx**4 + 2*sx**2*sy**2 + 2*sx**2*sz**2 + 2*sx**2 + sy**4 + 2*sy**2*sz**2 + 2*sy**2 + sz**4 + 2*sz**2 - 3)/6)**(1/3) + 4 - 2*(-4*rx**4/3 - 8*rx**2*ry**2/3 - 8*rx**2*rz**2/3 + 4*rx**2*sx**2/3 + 4*rx**2*sy**2/3 + 4*rx**2*sz**2/3 - 4*rx**2 + 8*rx*sx - 4*ry**4/3 - 8*ry**2*rz**2/3 + 4*ry**2*sx**2/3 + 4*ry**2*sy**2/3 + 4*ry**2*sz**2/3 - 4*ry**2 - 8*ry*sy - 4*rz**4/3 + 4*rz**2*sx**2/3 + 4*rz**2*sy**2/3 + 4*rz**2*sz**2/3 - 4*rz**2 + 8*rz*sz - 4*sx**4/3 - 8*sx**2*sy**2/3 - 8*sx**2*sz**2/3 - 4*sx**2 - 4*sy**4/3 - 8*sy**2*sz**2/3 - 4*sy**2 - 4*sz**4/3 - 4*sz**2)/(3*(sqrt((-(-8*rx*sx + 8*ry*sy - 8*rz*sz - 8)**2/8 - (-2*rx**2 - 2*ry**2 - 2*rz**2 - 2*sx**2 - 2*sy**2 - 2*sz**2 - 6)**3/108 + (-2*rx**2 - 2*ry**2 - 2*rz**2 - 2*sx**2 - 2*sy**2 - 2*sz**2 - 6)*(rx**4 + 2*rx**2*ry**2 + 2*rx**2*rz**2 - 2*rx**2*sx**2 - 2*rx**2*sy**2 - 2*rx**2*sz**2 + 2*rx**2 - 8*rx*sx + ry**4 + 2*ry**2*rz**2 - 2*ry**2*sx**2 - 2*ry**2*sy**2 - 2*ry**2*sz**2 + 2*ry**2 + 8*ry*sy + rz**4 - 2*rz**2*sx**2 - 2*rz**2*sy**2 - 2*rz**2*sz**2 + 2*rz**2 - 8*rz*sz + sx**4 + 2*sx**2*sy**2 + 2*sx**2*sz**2 + 2*sx**2 + sy**4 + 2*sy**2*sz**2 + 2*sy**2 + sz**4 + 2*sz**2 - 3)/3)**2/4 + (-4*rx**4/3 - 8*rx**2*ry**2/3 - 8*rx**2*rz**2/3 + 4*rx**2*sx**2/3 + 4*rx**2*sy**2/3 + 4*rx**2*sz**2/3 - 4*rx**2 + 8*rx*sx - 4*ry**4/3 - 8*ry**2*rz**2/3 + 4*ry**2*sx**2/3 + 4*ry**2*sy**2/3 + 4*ry**2*sz**2/3 - 4*ry**2 - 8*ry*sy - 4*rz**4/3 + 4*rz**2*sx**2/3 + 4*rz**2*sy**2/3 + 4*rz**2*sz**2/3 - 4*rz**2 + 8*rz*sz - 4*sx**4/3 - 8*sx**2*sy**2/3 - 8*sx**2*sz**2/3 - 4*sx**2 - 4*sy**4/3 - 8*sy**2*sz**2/3 - 4*sy**2 - 4*sz**4/3 - 4*sz**2)**3/27) + (-8*rx*sx + 8*ry*sy - 8*rz*sz - 8)**2/16 + (-2*rx**2 - 2*ry**2 - 2*rz**2 - 2*sx**2 - 2*sy**2 - 2*sz**2 - 6)**3/216 - (-2*rx**2 - 2*ry**2 - 2*rz**2 - 2*sx**2 - 2*sy**2 - 2*sz**2 - 6)*(rx**4 + 2*rx**2*ry**2 + 2*rx**2*rz**2 - 2*rx**2*sx**2 - 2*rx**2*sy**2 - 2*rx**2*sz**2 + 2*rx**2 - 8*rx*sx + ry**4 + 2*ry**2*rz**2 - 2*ry**2*sx**2 - 2*ry**2*sy**2 - 2*ry**2*sz**2 + 2*ry**2 + 8*ry*sy + rz**4 - 2*rz**2*sx**2 - 2*rz**2*sy**2 - 2*rz**2*sz**2 + 2*rz**2 - 8*rz*sz + sx**4 + 2*sx**2*sy**2 + 2*sx**2*sz**2 + 2*sx**2 + sy**4 + 2*sy**2*sz**2 + 2*sy**2 + sz**4 + 2*sz**2 - 3)/6)**(1/3)))/2 + sqrt(8*rx**2/3 + 8*ry**2/3 + 8*rz**2/3 + 8*sx**2/3 + 8*sy**2/3 + 8*sz**2/3 + (-16*rx*sx + 16*ry*sy - 16*rz*sz - 16)/sqrt(4*rx**2/3 + 4*ry**2/3 + 4*rz**2/3 + 4*sx**2/3 + 4*sy**2/3 + 4*sz**2/3 + 2*(sqrt((-(-8*rx*sx + 8*ry*sy - 8*rz*sz - 8)**2/8 - (-2*rx**2 - 2*ry**2 - 2*rz**2 - 2*sx**2 - 2*sy**2 - 2*sz**2 - 6)**3/108 + (-2*rx**2 - 2*ry**2 - 2*rz**2 - 2*sx**2 - 2*sy**2 - 2*sz**2 - 6)*(rx**4 + 2*rx**2*ry**2 + 2*rx**2*rz**2 - 2*rx**2*sx**2 - 2*rx**2*sy**2 - 2*rx**2*sz**2 + 2*rx**2 - 8*rx*sx + ry**4 + 2*ry**2*rz**2 - 2*ry**2*sx**2 - 2*ry**2*sy**2 - 2*ry**2*sz**2 + 2*ry**2 + 8*ry*sy + rz**4 - 2*rz**2*sx**2 - 2*rz**2*sy**2 - 2*rz**2*sz**2 + 2*rz**2 - 8*rz*sz + sx**4 + 2*sx**2*sy**2 + 2*sx**2*sz**2 + 2*sx**2 + sy**4 + 2*sy**2*sz**2 + 2*sy**2 + sz**4 + 2*sz**2 - 3)/3)**2/4 + (-4*rx**4/3 - 8*rx**2*ry**2/3 - 8*rx**2*rz**2/3 + 4*rx**2*sx**2/3 + 4*rx**2*sy**2/3 + 4*rx**2*sz**2/3 - 4*rx**2 + 8*rx*sx - 4*ry**4/3 - 8*ry**2*rz**2/3 + 4*ry**2*sx**2/3 + 4*ry**2*sy**2/3 + 4*ry**2*sz**2/3 - 4*ry**2 - 8*ry*sy - 4*rz**4/3 + 4*rz**2*sx**2/3 + 4*rz**2*sy**2/3 + 4*rz**2*sz**2/3 - 4*rz**2 + 8*rz*sz - 4*sx**4/3 - 8*sx**2*sy**2/3 - 8*sx**2*sz**2/3 - 4*sx**2 - 4*sy**4/3 - 8*sy**2*sz**2/3 - 4*sy**2 - 4*sz**4/3 - 4*sz**2)**3/27) + (-8*rx*sx + 8*ry*sy - 8*rz*sz - 8)**2/16 + (-2*rx**2 - 2*ry**2 - 2*rz**2 - 2*sx**2 - 2*sy**2 - 2*sz**2 - 6)**3/216 - (-2*rx**2 - 2*ry**2 - 2*rz**2 - 2*sx**2 - 2*sy**2 - 2*sz**2 - 6)*(rx**4 + 2*rx**2*ry**2 + 2*rx**2*rz**2 - 2*rx**2*sx**2 - 2*rx**2*sy**2 - 2*rx**2*sz**2 + 2*rx**2 - 8*rx*sx + ry**4 + 2*ry**2*rz**2 - 2*ry**2*sx**2 - 2*ry**2*sy**2 - 2*ry**2*sz**2 + 2*ry**2 + 8*ry*sy + rz**4 - 2*rz**2*sx**2 - 2*rz**2*sy**2 - 2*rz**2*sz**2 + 2*rz**2 - 8*rz*sz + sx**4 + 2*sx**2*sy**2 + 2*sx**2*sz**2 + 2*sx**2 + sy**4 + 2*sy**2*sz**2 + 2*sy**2 + sz**4 + 2*sz**2 - 3)/6)**(1/3) + 4 - 2*(-4*rx**4/3 - 8*rx**2*ry**2/3 - 8*rx**2*rz**2/3 + 4*rx**2*sx**2/3 + 4*rx**2*sy**2/3 + 4*rx**2*sz**2/3 - 4*rx**2 + 8*rx*sx - 4*ry**4/3 - 8*ry**2*rz**2/3 + 4*ry**2*sx**2/3 + 4*ry**2*sy**2/3 + 4*ry**2*sz**2/3 - 4*ry**2 - 8*ry*sy - 4*rz**4/3 + 4*rz**2*sx**2/3 + 4*rz**2*sy**2/3 + 4*rz**2*sz**2/3 - 4*rz**2 + 8*rz*sz - 4*sx**4/3 - 8*sx**2*sy**2/3 - 8*sx**2*sz**2/3 - 4*sx**2 - 4*sy**4/3 - 8*sy**2*sz**2/3 - 4*sy**2 - 4*sz**4/3 - 4*sz**2)/(3*(sqrt((-(-8*rx*sx + 8*ry*sy - 8*rz*sz - 8)**2/8 - (-2*rx**2 - 2*ry**2 - 2*rz**2 - 2*sx**2 - 2*sy**2 - 2*sz**2 - 6)**3/108 + (-2*rx**2 - 2*ry**2 - 2*rz**2 - 2*sx**2 - 2*sy**2 - 2*sz**2 - 6)*(rx**4 + 2*rx**2*ry**2 + 2*rx**2*rz**2 - 2*rx**2*sx**2 - 2*rx**2*sy**2 - 2*rx**2*sz**2 + 2*rx**2 - 8*rx*sx + ry**4 + 2*ry**2*rz**2 - 2*ry**2*sx**2 - 2*ry**2*sy**2 - 2*ry**2*sz**2 + 2*ry**2 + 8*ry*sy + rz**4 - 2*rz**2*sx**2 - 2*rz**2*sy**2 - 2*rz**2*sz**2 + 2*rz**2 - 8*rz*sz + sx**4 + 2*sx**2*sy**2 + 2*sx**2*sz**2 + 2*sx**2 + sy**4 + 2*sy**2*sz**2 + 2*sy**2 + sz**4 + 2*sz**2 - 3)/3)**2/4 + (-4*rx**4/3 - 8*rx**2*ry**2/3 - 8*rx**2*rz**2/3 + 4*rx**2*sx**2/3 + 4*rx**2*sy**2/3 + 4*rx**2*sz**2/3 - 4*rx**2 + 8*rx*sx - 4*ry**4/3 - 8*ry**2*rz**2/3 + 4*ry**2*sx**2/3 + 4*ry**2*sy**2/3 + 4*ry**2*sz**2/3 - 4*ry**2 - 8*ry*sy - 4*rz**4/3 + 4*rz**2*sx**2/3 + 4*rz**2*sy**2/3 + 4*rz**2*sz**2/3 - 4*rz**2 + 8*rz*sz - 4*sx**4/3 - 8*sx**2*sy**2/3 - 8*sx**2*sz**2/3 - 4*sx**2 - 4*sy**4/3 - 8*sy**2*sz**2/3 - 4*sy**2 - 4*sz**4/3 - 4*sz**2)**3/27) + (-8*rx*sx + 8*ry*sy - 8*rz*sz - 8)**2/16 + (-2*rx**2 - 2*ry**2 - 2*rz**2 - 2*sx**2 - 2*sy**2 - 2*sz**2 - 6)**3/216 - (-2*rx**2 - 2*ry**2 - 2*rz**2 - 2*sx**2 - 2*sy**2 - 2*sz**2 - 6)*(rx**4 + 2*rx**2*ry**2 + 2*rx**2*rz**2 - 2*rx**2*sx**2 - 2*rx**2*sy**2 - 2*rx**2*sz**2 + 2*rx**2 - 8*rx*sx + ry**4 + 2*ry**2*rz**2 - 2*ry**2*sx**2 - 2*ry**2*sy**2 - 2*ry**2*sz**2 + 2*ry**2 + 8*ry*sy + rz**4 - 2*rz**2*sx**2 - 2*rz**2*sy**2 - 2*rz**2*sz**2 + 2*rz**2 - 8*rz*sz + sx**4 + 2*sx**2*sy**2 + 2*sx**2*sz**2 + 2*sx**2 + sy**4 + 2*sy**2*sz**2 + 2*sy**2 + sz**4 + 2*sz**2 - 3)/6)**(1/3))) - 2*(sqrt((-(-8*rx*sx + 8*ry*sy - 8*rz*sz - 8)**2/8 - (-2*rx**2 - 2*ry**2 - 2*rz**2 - 2*sx**2 - 2*sy**2 - 2*sz**2 - 6)**3/108 + (-2*rx**2 - 2*ry**2 - 2*rz**2 - 2*sx**2 - 2*sy**2 - 2*sz**2 - 6)*(rx**4 + 2*rx**2*ry**2 + 2*rx**2*rz**2 - 2*rx**2*sx**2 - 2*rx**2*sy**2 - 2*rx**2*sz**2 + 2*rx**2 - 8*rx*sx + ry**4 + 2*ry**2*rz**2 - 2*ry**2*sx**2 - 2*ry**2*sy**2 - 2*ry**2*sz**2 + 2*ry**2 + 8*ry*sy + rz**4 - 2*rz**2*sx**2 - 2*rz**2*sy**2 - 2*rz**2*sz**2 + 2*rz**2 - 8*rz*sz + sx**4 + 2*sx**2*sy**2 + 2*sx**2*sz**2 + 2*sx**2 + sy**4 + 2*sy**2*sz**2 + 2*sy**2 + sz**4 + 2*sz**2 - 3)/3)**2/4 + (-4*rx**4/3 - 8*rx**2*ry**2/3 - 8*rx**2*rz**2/3 + 4*rx**2*sx**2/3 + 4*rx**2*sy**2/3 + 4*rx**2*sz**2/3 - 4*rx**2 + 8*rx*sx - 4*ry**4/3 - 8*ry**2*rz**2/3 + 4*ry**2*sx**2/3 + 4*ry**2*sy**2/3 + 4*ry**2*sz**2/3 - 4*ry**2 - 8*ry*sy - 4*rz**4/3 + 4*rz**2*sx**2/3 + 4*rz**2*sy**2/3 + 4*rz**2*sz**2/3 - 4*rz**2 + 8*rz*sz - 4*sx**4/3 - 8*sx**2*sy**2/3 - 8*sx**2*sz**2/3 - 4*sx**2 - 4*sy**4/3 - 8*sy**2*sz**2/3 - 4*sy**2 - 4*sz**4/3 - 4*sz**2)**3/27) + (-8*rx*sx + 8*ry*sy - 8*rz*sz - 8)**2/16 + (-2*rx**2 - 2*ry**2 - 2*rz**2 - 2*sx**2 - 2*sy**2 - 2*sz**2 - 6)**3/216 - (-2*rx**2 - 2*ry**2 - 2*rz**2 - 2*sx**2 - 2*sy**2 - 2*sz**2 - 6)*(rx**4 + 2*rx**2*ry**2 + 2*rx**2*rz**2 - 2*rx**2*sx**2 - 2*rx**2*sy**2 - 2*rx**2*sz**2 + 2*rx**2 - 8*rx*sx + ry**4 + 2*ry**2*rz**2 - 2*ry**2*sx**2 - 2*ry**2*sy**2 - 2*ry**2*sz**2 + 2*ry**2 + 8*ry*sy + rz**4 - 2*rz**2*sx**2 - 2*rz**2*sy**2 - 2*rz**2*sz**2 + 2*rz**2 - 8*rz*sz + sx**4 + 2*sx**2*sy**2 + 2*sx**2*sz**2 + 2*sx**2 + sy**4 + 2*sy**2*sz**2 + 2*sy**2 + sz**4 + 2*sz**2 - 3)/6)**(1/3) + 8 + 2*(-4*rx**4/3 - 8*rx**2*ry**2/3 - 8*rx**2*rz**2/3 + 4*rx**2*sx**2/3 + 4*rx**2*sy**2/3 + 4*rx**2*sz**2/3 - 4*rx**2 + 8*rx*sx - 4*ry**4/3 - 8*ry**2*rz**2/3 + 4*ry**2*sx**2/3 + 4*ry**2*sy**2/3 + 4*ry**2*sz**2/3 - 4*ry**2 - 8*ry*sy - 4*rz**4/3 + 4*rz**2*sx**2/3 + 4*rz**2*sy**2/3 + 4*rz**2*sz**2/3 - 4*rz**2 + 8*rz*sz - 4*sx**4/3 - 8*sx**2*sy**2/3 - 8*sx**2*sz**2/3 - 4*sx**2 - 4*sy**4/3 - 8*sy**2*sz**2/3 - 4*sy**2 - 4*sz**4/3 - 4*sz**2)/(3*(sqrt((-(-8*rx*sx + 8*ry*sy - 8*rz*sz - 8)**2/8 - (-2*rx**2 - 2*ry**2 - 2*rz**2 - 2*sx**2 - 2*sy**2 - 2*sz**2 - 6)**3/108 + (-2*rx**2 - 2*ry**2 - 2*rz**2 - 2*sx**2 - 2*sy**2 - 2*sz**2 - 6)*(rx**4 + 2*rx**2*ry**2 + 2*rx**2*rz**2 - 2*rx**2*sx**2 - 2*rx**2*sy**2 - 2*rx**2*sz**2 + 2*rx**2 - 8*rx*sx + ry**4 + 2*ry**2*rz**2 - 2*ry**2*sx**2 - 2*ry**2*sy**2 - 2*ry**2*sz**2 + 2*ry**2 + 8*ry*sy + rz**4 - 2*rz**2*sx**2 - 2*rz**2*sy**2 - 2*rz**2*sz**2 + 2*rz**2 - 8*rz*sz + sx**4 + 2*sx**2*sy**2 + 2*sx**2*sz**2 + 2*sx**2 + sy**4 + 2*sy**2*sz**2 + 2*sy**2 + sz**4 + 2*sz**2 - 3)/3)**2/4 + (-4*rx**4/3 - 8*rx**2*ry**2/3 - 8*rx**2*rz**2/3 + 4*rx**2*sx**2/3 + 4*rx**2*sy**2/3 + 4*rx**2*sz**2/3 - 4*rx**2 + 8*rx*sx - 4*ry**4/3 - 8*ry**2*rz**2/3 + 4*ry**2*sx**2/3 + 4*ry**2*sy**2/3 + 4*ry**2*sz**2/3 - 4*ry**2 - 8*ry*sy - 4*rz**4/3 + 4*rz**2*sx**2/3 + 4*rz**2*sy**2/3 + 4*rz**2*sz**2/3 - 4*rz**2 + 8*rz*sz - 4*sx**4/3 - 8*sx**2*sy**2/3 - 8*sx**2*sz**2/3 - 4*sx**2 - 4*sy**4/3 - 8*sy**2*sz**2/3 - 4*sy**2 - 4*sz**4/3 - 4*sz**2)**3/27) + (-8*rx*sx + 8*ry*sy - 8*rz*sz - 8)**2/16 + (-2*rx**2 - 2*ry**2 - 2*rz**2 - 2*sx**2 - 2*sy**2 - 2*sz**2 - 6)**3/216 - (-2*rx**2 - 2*ry**2 - 2*rz**2 - 2*sx**2 - 2*sy**2 - 2*sz**2 - 6)*(rx**4 + 2*rx**2*ry**2 + 2*rx**2*rz**2 - 2*rx**2*sx**2 - 2*rx**2*sy**2 - 2*rx**2*sz**2 + 2*rx**2 - 8*rx*sx + ry**4 + 2*ry**2*rz**2 - 2*ry**2*sx**2 - 2*ry**2*sy**2 - 2*ry**2*sz**2 + 2*ry**2 + 8*ry*sy + rz**4 - 2*rz**2*sx**2 - 2*rz**2*sy**2 - 2*rz**2*sz**2 + 2*rz**2 - 8*rz*sz + sx**4 + 2*sx**2*sy**2 + 2*sx**2*sz**2 + 2*sx**2 + sy**4 + 2*sy**2*sz**2 + 2*sy**2 + sz**4 + 2*sz**2 - 3)/6)**(1/3)))/2 + 1, True)): 1,\n",
       " Piecewise((-sqrt(4*rx**2/3 + 4*ry**2/3 + 4*rz**2/3 + 4*sx**2/3 + 4*sy**2/3 + 4*sz**2/3 - 2*(-(-8*rx*sx + 8*ry*sy - 8*rz*sz - 8)**2/8 - (-2*rx**2 - 2*ry**2 - 2*rz**2 - 2*sx**2 - 2*sy**2 - 2*sz**2 - 6)**3/108 + (-2*rx**2 - 2*ry**2 - 2*rz**2 - 2*sx**2 - 2*sy**2 - 2*sz**2 - 6)*(rx**4 + 2*rx**2*ry**2 + 2*rx**2*rz**2 - 2*rx**2*sx**2 - 2*rx**2*sy**2 - 2*rx**2*sz**2 + 2*rx**2 - 8*rx*sx + ry**4 + 2*ry**2*rz**2 - 2*ry**2*sx**2 - 2*ry**2*sy**2 - 2*ry**2*sz**2 + 2*ry**2 + 8*ry*sy + rz**4 - 2*rz**2*sx**2 - 2*rz**2*sy**2 - 2*rz**2*sz**2 + 2*rz**2 - 8*rz*sz + sx**4 + 2*sx**2*sy**2 + 2*sx**2*sz**2 + 2*sx**2 + sy**4 + 2*sy**2*sz**2 + 2*sy**2 + sz**4 + 2*sz**2 - 3)/3)**(1/3) + 4)/2 - sqrt(8*rx**2/3 + 8*ry**2/3 + 8*rz**2/3 + 8*sx**2/3 + 8*sy**2/3 + 8*sz**2/3 + 2*(-(-8*rx*sx + 8*ry*sy - 8*rz*sz - 8)**2/8 - (-2*rx**2 - 2*ry**2 - 2*rz**2 - 2*sx**2 - 2*sy**2 - 2*sz**2 - 6)**3/108 + (-2*rx**2 - 2*ry**2 - 2*rz**2 - 2*sx**2 - 2*sy**2 - 2*sz**2 - 6)*(rx**4 + 2*rx**2*ry**2 + 2*rx**2*rz**2 - 2*rx**2*sx**2 - 2*rx**2*sy**2 - 2*rx**2*sz**2 + 2*rx**2 - 8*rx*sx + ry**4 + 2*ry**2*rz**2 - 2*ry**2*sx**2 - 2*ry**2*sy**2 - 2*ry**2*sz**2 + 2*ry**2 + 8*ry*sy + rz**4 - 2*rz**2*sx**2 - 2*rz**2*sy**2 - 2*rz**2*sz**2 + 2*rz**2 - 8*rz*sz + sx**4 + 2*sx**2*sy**2 + 2*sx**2*sz**2 + 2*sx**2 + sy**4 + 2*sy**2*sz**2 + 2*sy**2 + sz**4 + 2*sz**2 - 3)/3)**(1/3) + (-16*rx*sx + 16*ry*sy - 16*rz*sz - 16)/sqrt(4*rx**2/3 + 4*ry**2/3 + 4*rz**2/3 + 4*sx**2/3 + 4*sy**2/3 + 4*sz**2/3 - 2*(-(-8*rx*sx + 8*ry*sy - 8*rz*sz - 8)**2/8 - (-2*rx**2 - 2*ry**2 - 2*rz**2 - 2*sx**2 - 2*sy**2 - 2*sz**2 - 6)**3/108 + (-2*rx**2 - 2*ry**2 - 2*rz**2 - 2*sx**2 - 2*sy**2 - 2*sz**2 - 6)*(rx**4 + 2*rx**2*ry**2 + 2*rx**2*rz**2 - 2*rx**2*sx**2 - 2*rx**2*sy**2 - 2*rx**2*sz**2 + 2*rx**2 - 8*rx*sx + ry**4 + 2*ry**2*rz**2 - 2*ry**2*sx**2 - 2*ry**2*sy**2 - 2*ry**2*sz**2 + 2*ry**2 + 8*ry*sy + rz**4 - 2*rz**2*sx**2 - 2*rz**2*sy**2 - 2*rz**2*sz**2 + 2*rz**2 - 8*rz*sz + sx**4 + 2*sx**2*sy**2 + 2*sx**2*sz**2 + 2*sx**2 + sy**4 + 2*sy**2*sz**2 + 2*sy**2 + sz**4 + 2*sz**2 - 3)/3)**(1/3) + 4) + 8)/2 + 1, Eq(4*rx**4/3 + 8*rx**2*ry**2/3 + 8*rx**2*rz**2/3 - 4*rx**2*sx**2/3 - 4*rx**2*sy**2/3 - 4*rx**2*sz**2/3 + 4*rx**2 - 8*rx*sx + 4*ry**4/3 + 8*ry**2*rz**2/3 - 4*ry**2*sx**2/3 - 4*ry**2*sy**2/3 - 4*ry**2*sz**2/3 + 4*ry**2 + 8*ry*sy + 4*rz**4/3 - 4*rz**2*sx**2/3 - 4*rz**2*sy**2/3 - 4*rz**2*sz**2/3 + 4*rz**2 - 8*rz*sz + 4*sx**4/3 + 8*sx**2*sy**2/3 + 8*sx**2*sz**2/3 + 4*sx**2 + 4*sy**4/3 + 8*sy**2*sz**2/3 + 4*sy**2 + 4*sz**4/3 + 4*sz**2, 0)), (-sqrt(4*rx**2/3 + 4*ry**2/3 + 4*rz**2/3 + 4*sx**2/3 + 4*sy**2/3 + 4*sz**2/3 + 2*(sqrt((-(-8*rx*sx + 8*ry*sy - 8*rz*sz - 8)**2/8 - (-2*rx**2 - 2*ry**2 - 2*rz**2 - 2*sx**2 - 2*sy**2 - 2*sz**2 - 6)**3/108 + (-2*rx**2 - 2*ry**2 - 2*rz**2 - 2*sx**2 - 2*sy**2 - 2*sz**2 - 6)*(rx**4 + 2*rx**2*ry**2 + 2*rx**2*rz**2 - 2*rx**2*sx**2 - 2*rx**2*sy**2 - 2*rx**2*sz**2 + 2*rx**2 - 8*rx*sx + ry**4 + 2*ry**2*rz**2 - 2*ry**2*sx**2 - 2*ry**2*sy**2 - 2*ry**2*sz**2 + 2*ry**2 + 8*ry*sy + rz**4 - 2*rz**2*sx**2 - 2*rz**2*sy**2 - 2*rz**2*sz**2 + 2*rz**2 - 8*rz*sz + sx**4 + 2*sx**2*sy**2 + 2*sx**2*sz**2 + 2*sx**2 + sy**4 + 2*sy**2*sz**2 + 2*sy**2 + sz**4 + 2*sz**2 - 3)/3)**2/4 + (-4*rx**4/3 - 8*rx**2*ry**2/3 - 8*rx**2*rz**2/3 + 4*rx**2*sx**2/3 + 4*rx**2*sy**2/3 + 4*rx**2*sz**2/3 - 4*rx**2 + 8*rx*sx - 4*ry**4/3 - 8*ry**2*rz**2/3 + 4*ry**2*sx**2/3 + 4*ry**2*sy**2/3 + 4*ry**2*sz**2/3 - 4*ry**2 - 8*ry*sy - 4*rz**4/3 + 4*rz**2*sx**2/3 + 4*rz**2*sy**2/3 + 4*rz**2*sz**2/3 - 4*rz**2 + 8*rz*sz - 4*sx**4/3 - 8*sx**2*sy**2/3 - 8*sx**2*sz**2/3 - 4*sx**2 - 4*sy**4/3 - 8*sy**2*sz**2/3 - 4*sy**2 - 4*sz**4/3 - 4*sz**2)**3/27) + (-8*rx*sx + 8*ry*sy - 8*rz*sz - 8)**2/16 + (-2*rx**2 - 2*ry**2 - 2*rz**2 - 2*sx**2 - 2*sy**2 - 2*sz**2 - 6)**3/216 - (-2*rx**2 - 2*ry**2 - 2*rz**2 - 2*sx**2 - 2*sy**2 - 2*sz**2 - 6)*(rx**4 + 2*rx**2*ry**2 + 2*rx**2*rz**2 - 2*rx**2*sx**2 - 2*rx**2*sy**2 - 2*rx**2*sz**2 + 2*rx**2 - 8*rx*sx + ry**4 + 2*ry**2*rz**2 - 2*ry**2*sx**2 - 2*ry**2*sy**2 - 2*ry**2*sz**2 + 2*ry**2 + 8*ry*sy + rz**4 - 2*rz**2*sx**2 - 2*rz**2*sy**2 - 2*rz**2*sz**2 + 2*rz**2 - 8*rz*sz + sx**4 + 2*sx**2*sy**2 + 2*sx**2*sz**2 + 2*sx**2 + sy**4 + 2*sy**2*sz**2 + 2*sy**2 + sz**4 + 2*sz**2 - 3)/6)**(1/3) + 4 - 2*(-4*rx**4/3 - 8*rx**2*ry**2/3 - 8*rx**2*rz**2/3 + 4*rx**2*sx**2/3 + 4*rx**2*sy**2/3 + 4*rx**2*sz**2/3 - 4*rx**2 + 8*rx*sx - 4*ry**4/3 - 8*ry**2*rz**2/3 + 4*ry**2*sx**2/3 + 4*ry**2*sy**2/3 + 4*ry**2*sz**2/3 - 4*ry**2 - 8*ry*sy - 4*rz**4/3 + 4*rz**2*sx**2/3 + 4*rz**2*sy**2/3 + 4*rz**2*sz**2/3 - 4*rz**2 + 8*rz*sz - 4*sx**4/3 - 8*sx**2*sy**2/3 - 8*sx**2*sz**2/3 - 4*sx**2 - 4*sy**4/3 - 8*sy**2*sz**2/3 - 4*sy**2 - 4*sz**4/3 - 4*sz**2)/(3*(sqrt((-(-8*rx*sx + 8*ry*sy - 8*rz*sz - 8)**2/8 - (-2*rx**2 - 2*ry**2 - 2*rz**2 - 2*sx**2 - 2*sy**2 - 2*sz**2 - 6)**3/108 + (-2*rx**2 - 2*ry**2 - 2*rz**2 - 2*sx**2 - 2*sy**2 - 2*sz**2 - 6)*(rx**4 + 2*rx**2*ry**2 + 2*rx**2*rz**2 - 2*rx**2*sx**2 - 2*rx**2*sy**2 - 2*rx**2*sz**2 + 2*rx**2 - 8*rx*sx + ry**4 + 2*ry**2*rz**2 - 2*ry**2*sx**2 - 2*ry**2*sy**2 - 2*ry**2*sz**2 + 2*ry**2 + 8*ry*sy + rz**4 - 2*rz**2*sx**2 - 2*rz**2*sy**2 - 2*rz**2*sz**2 + 2*rz**2 - 8*rz*sz + sx**4 + 2*sx**2*sy**2 + 2*sx**2*sz**2 + 2*sx**2 + sy**4 + 2*sy**2*sz**2 + 2*sy**2 + sz**4 + 2*sz**2 - 3)/3)**2/4 + (-4*rx**4/3 - 8*rx**2*ry**2/3 - 8*rx**2*rz**2/3 + 4*rx**2*sx**2/3 + 4*rx**2*sy**2/3 + 4*rx**2*sz**2/3 - 4*rx**2 + 8*rx*sx - 4*ry**4/3 - 8*ry**2*rz**2/3 + 4*ry**2*sx**2/3 + 4*ry**2*sy**2/3 + 4*ry**2*sz**2/3 - 4*ry**2 - 8*ry*sy - 4*rz**4/3 + 4*rz**2*sx**2/3 + 4*rz**2*sy**2/3 + 4*rz**2*sz**2/3 - 4*rz**2 + 8*rz*sz - 4*sx**4/3 - 8*sx**2*sy**2/3 - 8*sx**2*sz**2/3 - 4*sx**2 - 4*sy**4/3 - 8*sy**2*sz**2/3 - 4*sy**2 - 4*sz**4/3 - 4*sz**2)**3/27) + (-8*rx*sx + 8*ry*sy - 8*rz*sz - 8)**2/16 + (-2*rx**2 - 2*ry**2 - 2*rz**2 - 2*sx**2 - 2*sy**2 - 2*sz**2 - 6)**3/216 - (-2*rx**2 - 2*ry**2 - 2*rz**2 - 2*sx**2 - 2*sy**2 - 2*sz**2 - 6)*(rx**4 + 2*rx**2*ry**2 + 2*rx**2*rz**2 - 2*rx**2*sx**2 - 2*rx**2*sy**2 - 2*rx**2*sz**2 + 2*rx**2 - 8*rx*sx + ry**4 + 2*ry**2*rz**2 - 2*ry**2*sx**2 - 2*ry**2*sy**2 - 2*ry**2*sz**2 + 2*ry**2 + 8*ry*sy + rz**4 - 2*rz**2*sx**2 - 2*rz**2*sy**2 - 2*rz**2*sz**2 + 2*rz**2 - 8*rz*sz + sx**4 + 2*sx**2*sy**2 + 2*sx**2*sz**2 + 2*sx**2 + sy**4 + 2*sy**2*sz**2 + 2*sy**2 + sz**4 + 2*sz**2 - 3)/6)**(1/3)))/2 - sqrt(8*rx**2/3 + 8*ry**2/3 + 8*rz**2/3 + 8*sx**2/3 + 8*sy**2/3 + 8*sz**2/3 + (-16*rx*sx + 16*ry*sy - 16*rz*sz - 16)/sqrt(4*rx**2/3 + 4*ry**2/3 + 4*rz**2/3 + 4*sx**2/3 + 4*sy**2/3 + 4*sz**2/3 + 2*(sqrt((-(-8*rx*sx + 8*ry*sy - 8*rz*sz - 8)**2/8 - (-2*rx**2 - 2*ry**2 - 2*rz**2 - 2*sx**2 - 2*sy**2 - 2*sz**2 - 6)**3/108 + (-2*rx**2 - 2*ry**2 - 2*rz**2 - 2*sx**2 - 2*sy**2 - 2*sz**2 - 6)*(rx**4 + 2*rx**2*ry**2 + 2*rx**2*rz**2 - 2*rx**2*sx**2 - 2*rx**2*sy**2 - 2*rx**2*sz**2 + 2*rx**2 - 8*rx*sx + ry**4 + 2*ry**2*rz**2 - 2*ry**2*sx**2 - 2*ry**2*sy**2 - 2*ry**2*sz**2 + 2*ry**2 + 8*ry*sy + rz**4 - 2*rz**2*sx**2 - 2*rz**2*sy**2 - 2*rz**2*sz**2 + 2*rz**2 - 8*rz*sz + sx**4 + 2*sx**2*sy**2 + 2*sx**2*sz**2 + 2*sx**2 + sy**4 + 2*sy**2*sz**2 + 2*sy**2 + sz**4 + 2*sz**2 - 3)/3)**2/4 + (-4*rx**4/3 - 8*rx**2*ry**2/3 - 8*rx**2*rz**2/3 + 4*rx**2*sx**2/3 + 4*rx**2*sy**2/3 + 4*rx**2*sz**2/3 - 4*rx**2 + 8*rx*sx - 4*ry**4/3 - 8*ry**2*rz**2/3 + 4*ry**2*sx**2/3 + 4*ry**2*sy**2/3 + 4*ry**2*sz**2/3 - 4*ry**2 - 8*ry*sy - 4*rz**4/3 + 4*rz**2*sx**2/3 + 4*rz**2*sy**2/3 + 4*rz**2*sz**2/3 - 4*rz**2 + 8*rz*sz - 4*sx**4/3 - 8*sx**2*sy**2/3 - 8*sx**2*sz**2/3 - 4*sx**2 - 4*sy**4/3 - 8*sy**2*sz**2/3 - 4*sy**2 - 4*sz**4/3 - 4*sz**2)**3/27) + (-8*rx*sx + 8*ry*sy - 8*rz*sz - 8)**2/16 + (-2*rx**2 - 2*ry**2 - 2*rz**2 - 2*sx**2 - 2*sy**2 - 2*sz**2 - 6)**3/216 - (-2*rx**2 - 2*ry**2 - 2*rz**2 - 2*sx**2 - 2*sy**2 - 2*sz**2 - 6)*(rx**4 + 2*rx**2*ry**2 + 2*rx**2*rz**2 - 2*rx**2*sx**2 - 2*rx**2*sy**2 - 2*rx**2*sz**2 + 2*rx**2 - 8*rx*sx + ry**4 + 2*ry**2*rz**2 - 2*ry**2*sx**2 - 2*ry**2*sy**2 - 2*ry**2*sz**2 + 2*ry**2 + 8*ry*sy + rz**4 - 2*rz**2*sx**2 - 2*rz**2*sy**2 - 2*rz**2*sz**2 + 2*rz**2 - 8*rz*sz + sx**4 + 2*sx**2*sy**2 + 2*sx**2*sz**2 + 2*sx**2 + sy**4 + 2*sy**2*sz**2 + 2*sy**2 + sz**4 + 2*sz**2 - 3)/6)**(1/3) + 4 - 2*(-4*rx**4/3 - 8*rx**2*ry**2/3 - 8*rx**2*rz**2/3 + 4*rx**2*sx**2/3 + 4*rx**2*sy**2/3 + 4*rx**2*sz**2/3 - 4*rx**2 + 8*rx*sx - 4*ry**4/3 - 8*ry**2*rz**2/3 + 4*ry**2*sx**2/3 + 4*ry**2*sy**2/3 + 4*ry**2*sz**2/3 - 4*ry**2 - 8*ry*sy - 4*rz**4/3 + 4*rz**2*sx**2/3 + 4*rz**2*sy**2/3 + 4*rz**2*sz**2/3 - 4*rz**2 + 8*rz*sz - 4*sx**4/3 - 8*sx**2*sy**2/3 - 8*sx**2*sz**2/3 - 4*sx**2 - 4*sy**4/3 - 8*sy**2*sz**2/3 - 4*sy**2 - 4*sz**4/3 - 4*sz**2)/(3*(sqrt((-(-8*rx*sx + 8*ry*sy - 8*rz*sz - 8)**2/8 - (-2*rx**2 - 2*ry**2 - 2*rz**2 - 2*sx**2 - 2*sy**2 - 2*sz**2 - 6)**3/108 + (-2*rx**2 - 2*ry**2 - 2*rz**2 - 2*sx**2 - 2*sy**2 - 2*sz**2 - 6)*(rx**4 + 2*rx**2*ry**2 + 2*rx**2*rz**2 - 2*rx**2*sx**2 - 2*rx**2*sy**2 - 2*rx**2*sz**2 + 2*rx**2 - 8*rx*sx + ry**4 + 2*ry**2*rz**2 - 2*ry**2*sx**2 - 2*ry**2*sy**2 - 2*ry**2*sz**2 + 2*ry**2 + 8*ry*sy + rz**4 - 2*rz**2*sx**2 - 2*rz**2*sy**2 - 2*rz**2*sz**2 + 2*rz**2 - 8*rz*sz + sx**4 + 2*sx**2*sy**2 + 2*sx**2*sz**2 + 2*sx**2 + sy**4 + 2*sy**2*sz**2 + 2*sy**2 + sz**4 + 2*sz**2 - 3)/3)**2/4 + (-4*rx**4/3 - 8*rx**2*ry**2/3 - 8*rx**2*rz**2/3 + 4*rx**2*sx**2/3 + 4*rx**2*sy**2/3 + 4*rx**2*sz**2/3 - 4*rx**2 + 8*rx*sx - 4*ry**4/3 - 8*ry**2*rz**2/3 + 4*ry**2*sx**2/3 + 4*ry**2*sy**2/3 + 4*ry**2*sz**2/3 - 4*ry**2 - 8*ry*sy - 4*rz**4/3 + 4*rz**2*sx**2/3 + 4*rz**2*sy**2/3 + 4*rz**2*sz**2/3 - 4*rz**2 + 8*rz*sz - 4*sx**4/3 - 8*sx**2*sy**2/3 - 8*sx**2*sz**2/3 - 4*sx**2 - 4*sy**4/3 - 8*sy**2*sz**2/3 - 4*sy**2 - 4*sz**4/3 - 4*sz**2)**3/27) + (-8*rx*sx + 8*ry*sy - 8*rz*sz - 8)**2/16 + (-2*rx**2 - 2*ry**2 - 2*rz**2 - 2*sx**2 - 2*sy**2 - 2*sz**2 - 6)**3/216 - (-2*rx**2 - 2*ry**2 - 2*rz**2 - 2*sx**2 - 2*sy**2 - 2*sz**2 - 6)*(rx**4 + 2*rx**2*ry**2 + 2*rx**2*rz**2 - 2*rx**2*sx**2 - 2*rx**2*sy**2 - 2*rx**2*sz**2 + 2*rx**2 - 8*rx*sx + ry**4 + 2*ry**2*rz**2 - 2*ry**2*sx**2 - 2*ry**2*sy**2 - 2*ry**2*sz**2 + 2*ry**2 + 8*ry*sy + rz**4 - 2*rz**2*sx**2 - 2*rz**2*sy**2 - 2*rz**2*sz**2 + 2*rz**2 - 8*rz*sz + sx**4 + 2*sx**2*sy**2 + 2*sx**2*sz**2 + 2*sx**2 + sy**4 + 2*sy**2*sz**2 + 2*sy**2 + sz**4 + 2*sz**2 - 3)/6)**(1/3))) - 2*(sqrt((-(-8*rx*sx + 8*ry*sy - 8*rz*sz - 8)**2/8 - (-2*rx**2 - 2*ry**2 - 2*rz**2 - 2*sx**2 - 2*sy**2 - 2*sz**2 - 6)**3/108 + (-2*rx**2 - 2*ry**2 - 2*rz**2 - 2*sx**2 - 2*sy**2 - 2*sz**2 - 6)*(rx**4 + 2*rx**2*ry**2 + 2*rx**2*rz**2 - 2*rx**2*sx**2 - 2*rx**2*sy**2 - 2*rx**2*sz**2 + 2*rx**2 - 8*rx*sx + ry**4 + 2*ry**2*rz**2 - 2*ry**2*sx**2 - 2*ry**2*sy**2 - 2*ry**2*sz**2 + 2*ry**2 + 8*ry*sy + rz**4 - 2*rz**2*sx**2 - 2*rz**2*sy**2 - 2*rz**2*sz**2 + 2*rz**2 - 8*rz*sz + sx**4 + 2*sx**2*sy**2 + 2*sx**2*sz**2 + 2*sx**2 + sy**4 + 2*sy**2*sz**2 + 2*sy**2 + sz**4 + 2*sz**2 - 3)/3)**2/4 + (-4*rx**4/3 - 8*rx**2*ry**2/3 - 8*rx**2*rz**2/3 + 4*rx**2*sx**2/3 + 4*rx**2*sy**2/3 + 4*rx**2*sz**2/3 - 4*rx**2 + 8*rx*sx - 4*ry**4/3 - 8*ry**2*rz**2/3 + 4*ry**2*sx**2/3 + 4*ry**2*sy**2/3 + 4*ry**2*sz**2/3 - 4*ry**2 - 8*ry*sy - 4*rz**4/3 + 4*rz**2*sx**2/3 + 4*rz**2*sy**2/3 + 4*rz**2*sz**2/3 - 4*rz**2 + 8*rz*sz - 4*sx**4/3 - 8*sx**2*sy**2/3 - 8*sx**2*sz**2/3 - 4*sx**2 - 4*sy**4/3 - 8*sy**2*sz**2/3 - 4*sy**2 - 4*sz**4/3 - 4*sz**2)**3/27) + (-8*rx*sx + 8*ry*sy - 8*rz*sz - 8)**2/16 + (-2*rx**2 - 2*ry**2 - 2*rz**2 - 2*sx**2 - 2*sy**2 - 2*sz**2 - 6)**3/216 - (-2*rx**2 - 2*ry**2 - 2*rz**2 - 2*sx**2 - 2*sy**2 - 2*sz**2 - 6)*(rx**4 + 2*rx**2*ry**2 + 2*rx**2*rz**2 - 2*rx**2*sx**2 - 2*rx**2*sy**2 - 2*rx**2*sz**2 + 2*rx**2 - 8*rx*sx + ry**4 + 2*ry**2*rz**2 - 2*ry**2*sx**2 - 2*ry**2*sy**2 - 2*ry**2*sz**2 + 2*ry**2 + 8*ry*sy + rz**4 - 2*rz**2*sx**2 - 2*rz**2*sy**2 - 2*rz**2*sz**2 + 2*rz**2 - 8*rz*sz + sx**4 + 2*sx**2*sy**2 + 2*sx**2*sz**2 + 2*sx**2 + sy**4 + 2*sy**2*sz**2 + 2*sy**2 + sz**4 + 2*sz**2 - 3)/6)**(1/3) + 8 + 2*(-4*rx**4/3 - 8*rx**2*ry**2/3 - 8*rx**2*rz**2/3 + 4*rx**2*sx**2/3 + 4*rx**2*sy**2/3 + 4*rx**2*sz**2/3 - 4*rx**2 + 8*rx*sx - 4*ry**4/3 - 8*ry**2*rz**2/3 + 4*ry**2*sx**2/3 + 4*ry**2*sy**2/3 + 4*ry**2*sz**2/3 - 4*ry**2 - 8*ry*sy - 4*rz**4/3 + 4*rz**2*sx**2/3 + 4*rz**2*sy**2/3 + 4*rz**2*sz**2/3 - 4*rz**2 + 8*rz*sz - 4*sx**4/3 - 8*sx**2*sy**2/3 - 8*sx**2*sz**2/3 - 4*sx**2 - 4*sy**4/3 - 8*sy**2*sz**2/3 - 4*sy**2 - 4*sz**4/3 - 4*sz**2)/(3*(sqrt((-(-8*rx*sx + 8*ry*sy - 8*rz*sz - 8)**2/8 - (-2*rx**2 - 2*ry**2 - 2*rz**2 - 2*sx**2 - 2*sy**2 - 2*sz**2 - 6)**3/108 + (-2*rx**2 - 2*ry**2 - 2*rz**2 - 2*sx**2 - 2*sy**2 - 2*sz**2 - 6)*(rx**4 + 2*rx**2*ry**2 + 2*rx**2*rz**2 - 2*rx**2*sx**2 - 2*rx**2*sy**2 - 2*rx**2*sz**2 + 2*rx**2 - 8*rx*sx + ry**4 + 2*ry**2*rz**2 - 2*ry**2*sx**2 - 2*ry**2*sy**2 - 2*ry**2*sz**2 + 2*ry**2 + 8*ry*sy + rz**4 - 2*rz**2*sx**2 - 2*rz**2*sy**2 - 2*rz**2*sz**2 + 2*rz**2 - 8*rz*sz + sx**4 + 2*sx**2*sy**2 + 2*sx**2*sz**2 + 2*sx**2 + sy**4 + 2*sy**2*sz**2 + 2*sy**2 + sz**4 + 2*sz**2 - 3)/3)**2/4 + (-4*rx**4/3 - 8*rx**2*ry**2/3 - 8*rx**2*rz**2/3 + 4*rx**2*sx**2/3 + 4*rx**2*sy**2/3 + 4*rx**2*sz**2/3 - 4*rx**2 + 8*rx*sx - 4*ry**4/3 - 8*ry**2*rz**2/3 + 4*ry**2*sx**2/3 + 4*ry**2*sy**2/3 + 4*ry**2*sz**2/3 - 4*ry**2 - 8*ry*sy - 4*rz**4/3 + 4*rz**2*sx**2/3 + 4*rz**2*sy**2/3 + 4*rz**2*sz**2/3 - 4*rz**2 + 8*rz*sz - 4*sx**4/3 - 8*sx**2*sy**2/3 - 8*sx**2*sz**2/3 - 4*sx**2 - 4*sy**4/3 - 8*sy**2*sz**2/3 - 4*sy**2 - 4*sz**4/3 - 4*sz**2)**3/27) + (-8*rx*sx + 8*ry*sy - 8*rz*sz - 8)**2/16 + (-2*rx**2 - 2*ry**2 - 2*rz**2 - 2*sx**2 - 2*sy**2 - 2*sz**2 - 6)**3/216 - (-2*rx**2 - 2*ry**2 - 2*rz**2 - 2*sx**2 - 2*sy**2 - 2*sz**2 - 6)*(rx**4 + 2*rx**2*ry**2 + 2*rx**2*rz**2 - 2*rx**2*sx**2 - 2*rx**2*sy**2 - 2*rx**2*sz**2 + 2*rx**2 - 8*rx*sx + ry**4 + 2*ry**2*rz**2 - 2*ry**2*sx**2 - 2*ry**2*sy**2 - 2*ry**2*sz**2 + 2*ry**2 + 8*ry*sy + rz**4 - 2*rz**2*sx**2 - 2*rz**2*sy**2 - 2*rz**2*sz**2 + 2*rz**2 - 8*rz*sz + sx**4 + 2*sx**2*sy**2 + 2*sx**2*sz**2 + 2*sx**2 + sy**4 + 2*sy**2*sz**2 + 2*sy**2 + sz**4 + 2*sz**2 - 3)/6)**(1/3)))/2 + 1, True)): 1,\n",
       " Piecewise((sqrt(4*rx**2/3 + 4*ry**2/3 + 4*rz**2/3 + 4*sx**2/3 + 4*sy**2/3 + 4*sz**2/3 - 2*(-(-8*rx*sx + 8*ry*sy - 8*rz*sz - 8)**2/8 - (-2*rx**2 - 2*ry**2 - 2*rz**2 - 2*sx**2 - 2*sy**2 - 2*sz**2 - 6)**3/108 + (-2*rx**2 - 2*ry**2 - 2*rz**2 - 2*sx**2 - 2*sy**2 - 2*sz**2 - 6)*(rx**4 + 2*rx**2*ry**2 + 2*rx**2*rz**2 - 2*rx**2*sx**2 - 2*rx**2*sy**2 - 2*rx**2*sz**2 + 2*rx**2 - 8*rx*sx + ry**4 + 2*ry**2*rz**2 - 2*ry**2*sx**2 - 2*ry**2*sy**2 - 2*ry**2*sz**2 + 2*ry**2 + 8*ry*sy + rz**4 - 2*rz**2*sx**2 - 2*rz**2*sy**2 - 2*rz**2*sz**2 + 2*rz**2 - 8*rz*sz + sx**4 + 2*sx**2*sy**2 + 2*sx**2*sz**2 + 2*sx**2 + sy**4 + 2*sy**2*sz**2 + 2*sy**2 + sz**4 + 2*sz**2 - 3)/3)**(1/3) + 4)/2 + sqrt(8*rx**2/3 + 8*ry**2/3 + 8*rz**2/3 + 8*sx**2/3 + 8*sy**2/3 + 8*sz**2/3 + 2*(-(-8*rx*sx + 8*ry*sy - 8*rz*sz - 8)**2/8 - (-2*rx**2 - 2*ry**2 - 2*rz**2 - 2*sx**2 - 2*sy**2 - 2*sz**2 - 6)**3/108 + (-2*rx**2 - 2*ry**2 - 2*rz**2 - 2*sx**2 - 2*sy**2 - 2*sz**2 - 6)*(rx**4 + 2*rx**2*ry**2 + 2*rx**2*rz**2 - 2*rx**2*sx**2 - 2*rx**2*sy**2 - 2*rx**2*sz**2 + 2*rx**2 - 8*rx*sx + ry**4 + 2*ry**2*rz**2 - 2*ry**2*sx**2 - 2*ry**2*sy**2 - 2*ry**2*sz**2 + 2*ry**2 + 8*ry*sy + rz**4 - 2*rz**2*sx**2 - 2*rz**2*sy**2 - 2*rz**2*sz**2 + 2*rz**2 - 8*rz*sz + sx**4 + 2*sx**2*sy**2 + 2*sx**2*sz**2 + 2*sx**2 + sy**4 + 2*sy**2*sz**2 + 2*sy**2 + sz**4 + 2*sz**2 - 3)/3)**(1/3) - (-16*rx*sx + 16*ry*sy - 16*rz*sz - 16)/sqrt(4*rx**2/3 + 4*ry**2/3 + 4*rz**2/3 + 4*sx**2/3 + 4*sy**2/3 + 4*sz**2/3 - 2*(-(-8*rx*sx + 8*ry*sy - 8*rz*sz - 8)**2/8 - (-2*rx**2 - 2*ry**2 - 2*rz**2 - 2*sx**2 - 2*sy**2 - 2*sz**2 - 6)**3/108 + (-2*rx**2 - 2*ry**2 - 2*rz**2 - 2*sx**2 - 2*sy**2 - 2*sz**2 - 6)*(rx**4 + 2*rx**2*ry**2 + 2*rx**2*rz**2 - 2*rx**2*sx**2 - 2*rx**2*sy**2 - 2*rx**2*sz**2 + 2*rx**2 - 8*rx*sx + ry**4 + 2*ry**2*rz**2 - 2*ry**2*sx**2 - 2*ry**2*sy**2 - 2*ry**2*sz**2 + 2*ry**2 + 8*ry*sy + rz**4 - 2*rz**2*sx**2 - 2*rz**2*sy**2 - 2*rz**2*sz**2 + 2*rz**2 - 8*rz*sz + sx**4 + 2*sx**2*sy**2 + 2*sx**2*sz**2 + 2*sx**2 + sy**4 + 2*sy**2*sz**2 + 2*sy**2 + sz**4 + 2*sz**2 - 3)/3)**(1/3) + 4) + 8)/2 + 1, Eq(4*rx**4/3 + 8*rx**2*ry**2/3 + 8*rx**2*rz**2/3 - 4*rx**2*sx**2/3 - 4*rx**2*sy**2/3 - 4*rx**2*sz**2/3 + 4*rx**2 - 8*rx*sx + 4*ry**4/3 + 8*ry**2*rz**2/3 - 4*ry**2*sx**2/3 - 4*ry**2*sy**2/3 - 4*ry**2*sz**2/3 + 4*ry**2 + 8*ry*sy + 4*rz**4/3 - 4*rz**2*sx**2/3 - 4*rz**2*sy**2/3 - 4*rz**2*sz**2/3 + 4*rz**2 - 8*rz*sz + 4*sx**4/3 + 8*sx**2*sy**2/3 + 8*sx**2*sz**2/3 + 4*sx**2 + 4*sy**4/3 + 8*sy**2*sz**2/3 + 4*sy**2 + 4*sz**4/3 + 4*sz**2, 0)), (sqrt(4*rx**2/3 + 4*ry**2/3 + 4*rz**2/3 + 4*sx**2/3 + 4*sy**2/3 + 4*sz**2/3 + 2*(sqrt((-(-8*rx*sx + 8*ry*sy - 8*rz*sz - 8)**2/8 - (-2*rx**2 - 2*ry**2 - 2*rz**2 - 2*sx**2 - 2*sy**2 - 2*sz**2 - 6)**3/108 + (-2*rx**2 - 2*ry**2 - 2*rz**2 - 2*sx**2 - 2*sy**2 - 2*sz**2 - 6)*(rx**4 + 2*rx**2*ry**2 + 2*rx**2*rz**2 - 2*rx**2*sx**2 - 2*rx**2*sy**2 - 2*rx**2*sz**2 + 2*rx**2 - 8*rx*sx + ry**4 + 2*ry**2*rz**2 - 2*ry**2*sx**2 - 2*ry**2*sy**2 - 2*ry**2*sz**2 + 2*ry**2 + 8*ry*sy + rz**4 - 2*rz**2*sx**2 - 2*rz**2*sy**2 - 2*rz**2*sz**2 + 2*rz**2 - 8*rz*sz + sx**4 + 2*sx**2*sy**2 + 2*sx**2*sz**2 + 2*sx**2 + sy**4 + 2*sy**2*sz**2 + 2*sy**2 + sz**4 + 2*sz**2 - 3)/3)**2/4 + (-4*rx**4/3 - 8*rx**2*ry**2/3 - 8*rx**2*rz**2/3 + 4*rx**2*sx**2/3 + 4*rx**2*sy**2/3 + 4*rx**2*sz**2/3 - 4*rx**2 + 8*rx*sx - 4*ry**4/3 - 8*ry**2*rz**2/3 + 4*ry**2*sx**2/3 + 4*ry**2*sy**2/3 + 4*ry**2*sz**2/3 - 4*ry**2 - 8*ry*sy - 4*rz**4/3 + 4*rz**2*sx**2/3 + 4*rz**2*sy**2/3 + 4*rz**2*sz**2/3 - 4*rz**2 + 8*rz*sz - 4*sx**4/3 - 8*sx**2*sy**2/3 - 8*sx**2*sz**2/3 - 4*sx**2 - 4*sy**4/3 - 8*sy**2*sz**2/3 - 4*sy**2 - 4*sz**4/3 - 4*sz**2)**3/27) + (-8*rx*sx + 8*ry*sy - 8*rz*sz - 8)**2/16 + (-2*rx**2 - 2*ry**2 - 2*rz**2 - 2*sx**2 - 2*sy**2 - 2*sz**2 - 6)**3/216 - (-2*rx**2 - 2*ry**2 - 2*rz**2 - 2*sx**2 - 2*sy**2 - 2*sz**2 - 6)*(rx**4 + 2*rx**2*ry**2 + 2*rx**2*rz**2 - 2*rx**2*sx**2 - 2*rx**2*sy**2 - 2*rx**2*sz**2 + 2*rx**2 - 8*rx*sx + ry**4 + 2*ry**2*rz**2 - 2*ry**2*sx**2 - 2*ry**2*sy**2 - 2*ry**2*sz**2 + 2*ry**2 + 8*ry*sy + rz**4 - 2*rz**2*sx**2 - 2*rz**2*sy**2 - 2*rz**2*sz**2 + 2*rz**2 - 8*rz*sz + sx**4 + 2*sx**2*sy**2 + 2*sx**2*sz**2 + 2*sx**2 + sy**4 + 2*sy**2*sz**2 + 2*sy**2 + sz**4 + 2*sz**2 - 3)/6)**(1/3) + 4 - 2*(-4*rx**4/3 - 8*rx**2*ry**2/3 - 8*rx**2*rz**2/3 + 4*rx**2*sx**2/3 + 4*rx**2*sy**2/3 + 4*rx**2*sz**2/3 - 4*rx**2 + 8*rx*sx - 4*ry**4/3 - 8*ry**2*rz**2/3 + 4*ry**2*sx**2/3 + 4*ry**2*sy**2/3 + 4*ry**2*sz**2/3 - 4*ry**2 - 8*ry*sy - 4*rz**4/3 + 4*rz**2*sx**2/3 + 4*rz**2*sy**2/3 + 4*rz**2*sz**2/3 - 4*rz**2 + 8*rz*sz - 4*sx**4/3 - 8*sx**2*sy**2/3 - 8*sx**2*sz**2/3 - 4*sx**2 - 4*sy**4/3 - 8*sy**2*sz**2/3 - 4*sy**2 - 4*sz**4/3 - 4*sz**2)/(3*(sqrt((-(-8*rx*sx + 8*ry*sy - 8*rz*sz - 8)**2/8 - (-2*rx**2 - 2*ry**2 - 2*rz**2 - 2*sx**2 - 2*sy**2 - 2*sz**2 - 6)**3/108 + (-2*rx**2 - 2*ry**2 - 2*rz**2 - 2*sx**2 - 2*sy**2 - 2*sz**2 - 6)*(rx**4 + 2*rx**2*ry**2 + 2*rx**2*rz**2 - 2*rx**2*sx**2 - 2*rx**2*sy**2 - 2*rx**2*sz**2 + 2*rx**2 - 8*rx*sx + ry**4 + 2*ry**2*rz**2 - 2*ry**2*sx**2 - 2*ry**2*sy**2 - 2*ry**2*sz**2 + 2*ry**2 + 8*ry*sy + rz**4 - 2*rz**2*sx**2 - 2*rz**2*sy**2 - 2*rz**2*sz**2 + 2*rz**2 - 8*rz*sz + sx**4 + 2*sx**2*sy**2 + 2*sx**2*sz**2 + 2*sx**2 + sy**4 + 2*sy**2*sz**2 + 2*sy**2 + sz**4 + 2*sz**2 - 3)/3)**2/4 + (-4*rx**4/3 - 8*rx**2*ry**2/3 - 8*rx**2*rz**2/3 + 4*rx**2*sx**2/3 + 4*rx**2*sy**2/3 + 4*rx**2*sz**2/3 - 4*rx**2 + 8*rx*sx - 4*ry**4/3 - 8*ry**2*rz**2/3 + 4*ry**2*sx**2/3 + 4*ry**2*sy**2/3 + 4*ry**2*sz**2/3 - 4*ry**2 - 8*ry*sy - 4*rz**4/3 + 4*rz**2*sx**2/3 + 4*rz**2*sy**2/3 + 4*rz**2*sz**2/3 - 4*rz**2 + 8*rz*sz - 4*sx**4/3 - 8*sx**2*sy**2/3 - 8*sx**2*sz**2/3 - 4*sx**2 - 4*sy**4/3 - 8*sy**2*sz**2/3 - 4*sy**2 - 4*sz**4/3 - 4*sz**2)**3/27) + (-8*rx*sx + 8*ry*sy - 8*rz*sz - 8)**2/16 + (-2*rx**2 - 2*ry**2 - 2*rz**2 - 2*sx**2 - 2*sy**2 - 2*sz**2 - 6)**3/216 - (-2*rx**2 - 2*ry**2 - 2*rz**2 - 2*sx**2 - 2*sy**2 - 2*sz**2 - 6)*(rx**4 + 2*rx**2*ry**2 + 2*rx**2*rz**2 - 2*rx**2*sx**2 - 2*rx**2*sy**2 - 2*rx**2*sz**2 + 2*rx**2 - 8*rx*sx + ry**4 + 2*ry**2*rz**2 - 2*ry**2*sx**2 - 2*ry**2*sy**2 - 2*ry**2*sz**2 + 2*ry**2 + 8*ry*sy + rz**4 - 2*rz**2*sx**2 - 2*rz**2*sy**2 - 2*rz**2*sz**2 + 2*rz**2 - 8*rz*sz + sx**4 + 2*sx**2*sy**2 + 2*sx**2*sz**2 + 2*sx**2 + sy**4 + 2*sy**2*sz**2 + 2*sy**2 + sz**4 + 2*sz**2 - 3)/6)**(1/3)))/2 + sqrt(8*rx**2/3 + 8*ry**2/3 + 8*rz**2/3 + 8*sx**2/3 + 8*sy**2/3 + 8*sz**2/3 - (-16*rx*sx + 16*ry*sy - 16*rz*sz - 16)/sqrt(4*rx**2/3 + 4*ry**2/3 + 4*rz**2/3 + 4*sx**2/3 + 4*sy**2/3 + 4*sz**2/3 + 2*(sqrt((-(-8*rx*sx + 8*ry*sy - 8*rz*sz - 8)**2/8 - (-2*rx**2 - 2*ry**2 - 2*rz**2 - 2*sx**2 - 2*sy**2 - 2*sz**2 - 6)**3/108 + (-2*rx**2 - 2*ry**2 - 2*rz**2 - 2*sx**2 - 2*sy**2 - 2*sz**2 - 6)*(rx**4 + 2*rx**2*ry**2 + 2*rx**2*rz**2 - 2*rx**2*sx**2 - 2*rx**2*sy**2 - 2*rx**2*sz**2 + 2*rx**2 - 8*rx*sx + ry**4 + 2*ry**2*rz**2 - 2*ry**2*sx**2 - 2*ry**2*sy**2 - 2*ry**2*sz**2 + 2*ry**2 + 8*ry*sy + rz**4 - 2*rz**2*sx**2 - 2*rz**2*sy**2 - 2*rz**2*sz**2 + 2*rz**2 - 8*rz*sz + sx**4 + 2*sx**2*sy**2 + 2*sx**2*sz**2 + 2*sx**2 + sy**4 + 2*sy**2*sz**2 + 2*sy**2 + sz**4 + 2*sz**2 - 3)/3)**2/4 + (-4*rx**4/3 - 8*rx**2*ry**2/3 - 8*rx**2*rz**2/3 + 4*rx**2*sx**2/3 + 4*rx**2*sy**2/3 + 4*rx**2*sz**2/3 - 4*rx**2 + 8*rx*sx - 4*ry**4/3 - 8*ry**2*rz**2/3 + 4*ry**2*sx**2/3 + 4*ry**2*sy**2/3 + 4*ry**2*sz**2/3 - 4*ry**2 - 8*ry*sy - 4*rz**4/3 + 4*rz**2*sx**2/3 + 4*rz**2*sy**2/3 + 4*rz**2*sz**2/3 - 4*rz**2 + 8*rz*sz - 4*sx**4/3 - 8*sx**2*sy**2/3 - 8*sx**2*sz**2/3 - 4*sx**2 - 4*sy**4/3 - 8*sy**2*sz**2/3 - 4*sy**2 - 4*sz**4/3 - 4*sz**2)**3/27) + (-8*rx*sx + 8*ry*sy - 8*rz*sz - 8)**2/16 + (-2*rx**2 - 2*ry**2 - 2*rz**2 - 2*sx**2 - 2*sy**2 - 2*sz**2 - 6)**3/216 - (-2*rx**2 - 2*ry**2 - 2*rz**2 - 2*sx**2 - 2*sy**2 - 2*sz**2 - 6)*(rx**4 + 2*rx**2*ry**2 + 2*rx**2*rz**2 - 2*rx**2*sx**2 - 2*rx**2*sy**2 - 2*rx**2*sz**2 + 2*rx**2 - 8*rx*sx + ry**4 + 2*ry**2*rz**2 - 2*ry**2*sx**2 - 2*ry**2*sy**2 - 2*ry**2*sz**2 + 2*ry**2 + 8*ry*sy + rz**4 - 2*rz**2*sx**2 - 2*rz**2*sy**2 - 2*rz**2*sz**2 + 2*rz**2 - 8*rz*sz + sx**4 + 2*sx**2*sy**2 + 2*sx**2*sz**2 + 2*sx**2 + sy**4 + 2*sy**2*sz**2 + 2*sy**2 + sz**4 + 2*sz**2 - 3)/6)**(1/3) + 4 - 2*(-4*rx**4/3 - 8*rx**2*ry**2/3 - 8*rx**2*rz**2/3 + 4*rx**2*sx**2/3 + 4*rx**2*sy**2/3 + 4*rx**2*sz**2/3 - 4*rx**2 + 8*rx*sx - 4*ry**4/3 - 8*ry**2*rz**2/3 + 4*ry**2*sx**2/3 + 4*ry**2*sy**2/3 + 4*ry**2*sz**2/3 - 4*ry**2 - 8*ry*sy - 4*rz**4/3 + 4*rz**2*sx**2/3 + 4*rz**2*sy**2/3 + 4*rz**2*sz**2/3 - 4*rz**2 + 8*rz*sz - 4*sx**4/3 - 8*sx**2*sy**2/3 - 8*sx**2*sz**2/3 - 4*sx**2 - 4*sy**4/3 - 8*sy**2*sz**2/3 - 4*sy**2 - 4*sz**4/3 - 4*sz**2)/(3*(sqrt((-(-8*rx*sx + 8*ry*sy - 8*rz*sz - 8)**2/8 - (-2*rx**2 - 2*ry**2 - 2*rz**2 - 2*sx**2 - 2*sy**2 - 2*sz**2 - 6)**3/108 + (-2*rx**2 - 2*ry**2 - 2*rz**2 - 2*sx**2 - 2*sy**2 - 2*sz**2 - 6)*(rx**4 + 2*rx**2*ry**2 + 2*rx**2*rz**2 - 2*rx**2*sx**2 - 2*rx**2*sy**2 - 2*rx**2*sz**2 + 2*rx**2 - 8*rx*sx + ry**4 + 2*ry**2*rz**2 - 2*ry**2*sx**2 - 2*ry**2*sy**2 - 2*ry**2*sz**2 + 2*ry**2 + 8*ry*sy + rz**4 - 2*rz**2*sx**2 - 2*rz**2*sy**2 - 2*rz**2*sz**2 + 2*rz**2 - 8*rz*sz + sx**4 + 2*sx**2*sy**2 + 2*sx**2*sz**2 + 2*sx**2 + sy**4 + 2*sy**2*sz**2 + 2*sy**2 + sz**4 + 2*sz**2 - 3)/3)**2/4 + (-4*rx**4/3 - 8*rx**2*ry**2/3 - 8*rx**2*rz**2/3 + 4*rx**2*sx**2/3 + 4*rx**2*sy**2/3 + 4*rx**2*sz**2/3 - 4*rx**2 + 8*rx*sx - 4*ry**4/3 - 8*ry**2*rz**2/3 + 4*ry**2*sx**2/3 + 4*ry**2*sy**2/3 + 4*ry**2*sz**2/3 - 4*ry**2 - 8*ry*sy - 4*rz**4/3 + 4*rz**2*sx**2/3 + 4*rz**2*sy**2/3 + 4*rz**2*sz**2/3 - 4*rz**2 + 8*rz*sz - 4*sx**4/3 - 8*sx**2*sy**2/3 - 8*sx**2*sz**2/3 - 4*sx**2 - 4*sy**4/3 - 8*sy**2*sz**2/3 - 4*sy**2 - 4*sz**4/3 - 4*sz**2)**3/27) + (-8*rx*sx + 8*ry*sy - 8*rz*sz - 8)**2/16 + (-2*rx**2 - 2*ry**2 - 2*rz**2 - 2*sx**2 - 2*sy**2 - 2*sz**2 - 6)**3/216 - (-2*rx**2 - 2*ry**2 - 2*rz**2 - 2*sx**2 - 2*sy**2 - 2*sz**2 - 6)*(rx**4 + 2*rx**2*ry**2 + 2*rx**2*rz**2 - 2*rx**2*sx**2 - 2*rx**2*sy**2 - 2*rx**2*sz**2 + 2*rx**2 - 8*rx*sx + ry**4 + 2*ry**2*rz**2 - 2*ry**2*sx**2 - 2*ry**2*sy**2 - 2*ry**2*sz**2 + 2*ry**2 + 8*ry*sy + rz**4 - 2*rz**2*sx**2 - 2*rz**2*sy**2 - 2*rz**2*sz**2 + 2*rz**2 - 8*rz*sz + sx**4 + 2*sx**2*sy**2 + 2*sx**2*sz**2 + 2*sx**2 + sy**4 + 2*sy**2*sz**2 + 2*sy**2 + sz**4 + 2*sz**2 - 3)/6)**(1/3))) - 2*(sqrt((-(-8*rx*sx + 8*ry*sy - 8*rz*sz - 8)**2/8 - (-2*rx**2 - 2*ry**2 - 2*rz**2 - 2*sx**2 - 2*sy**2 - 2*sz**2 - 6)**3/108 + (-2*rx**2 - 2*ry**2 - 2*rz**2 - 2*sx**2 - 2*sy**2 - 2*sz**2 - 6)*(rx**4 + 2*rx**2*ry**2 + 2*rx**2*rz**2 - 2*rx**2*sx**2 - 2*rx**2*sy**2 - 2*rx**2*sz**2 + 2*rx**2 - 8*rx*sx + ry**4 + 2*ry**2*rz**2 - 2*ry**2*sx**2 - 2*ry**2*sy**2 - 2*ry**2*sz**2 + 2*ry**2 + 8*ry*sy + rz**4 - 2*rz**2*sx**2 - 2*rz**2*sy**2 - 2*rz**2*sz**2 + 2*rz**2 - 8*rz*sz + sx**4 + 2*sx**2*sy**2 + 2*sx**2*sz**2 + 2*sx**2 + sy**4 + 2*sy**2*sz**2 + 2*sy**2 + sz**4 + 2*sz**2 - 3)/3)**2/4 + (-4*rx**4/3 - 8*rx**2*ry**2/3 - 8*rx**2*rz**2/3 + 4*rx**2*sx**2/3 + 4*rx**2*sy**2/3 + 4*rx**2*sz**2/3 - 4*rx**2 + 8*rx*sx - 4*ry**4/3 - 8*ry**2*rz**2/3 + 4*ry**2*sx**2/3 + 4*ry**2*sy**2/3 + 4*ry**2*sz**2/3 - 4*ry**2 - 8*ry*sy - 4*rz**4/3 + 4*rz**2*sx**2/3 + 4*rz**2*sy**2/3 + 4*rz**2*sz**2/3 - 4*rz**2 + 8*rz*sz - 4*sx**4/3 - 8*sx**2*sy**2/3 - 8*sx**2*sz**2/3 - 4*sx**2 - 4*sy**4/3 - 8*sy**2*sz**2/3 - 4*sy**2 - 4*sz**4/3 - 4*sz**2)**3/27) + (-8*rx*sx + 8*ry*sy - 8*rz*sz - 8)**2/16 + (-2*rx**2 - 2*ry**2 - 2*rz**2 - 2*sx**2 - 2*sy**2 - 2*sz**2 - 6)**3/216 - (-2*rx**2 - 2*ry**2 - 2*rz**2 - 2*sx**2 - 2*sy**2 - 2*sz**2 - 6)*(rx**4 + 2*rx**2*ry**2 + 2*rx**2*rz**2 - 2*rx**2*sx**2 - 2*rx**2*sy**2 - 2*rx**2*sz**2 + 2*rx**2 - 8*rx*sx + ry**4 + 2*ry**2*rz**2 - 2*ry**2*sx**2 - 2*ry**2*sy**2 - 2*ry**2*sz**2 + 2*ry**2 + 8*ry*sy + rz**4 - 2*rz**2*sx**2 - 2*rz**2*sy**2 - 2*rz**2*sz**2 + 2*rz**2 - 8*rz*sz + sx**4 + 2*sx**2*sy**2 + 2*sx**2*sz**2 + 2*sx**2 + sy**4 + 2*sy**2*sz**2 + 2*sy**2 + sz**4 + 2*sz**2 - 3)/6)**(1/3) + 8 + 2*(-4*rx**4/3 - 8*rx**2*ry**2/3 - 8*rx**2*rz**2/3 + 4*rx**2*sx**2/3 + 4*rx**2*sy**2/3 + 4*rx**2*sz**2/3 - 4*rx**2 + 8*rx*sx - 4*ry**4/3 - 8*ry**2*rz**2/3 + 4*ry**2*sx**2/3 + 4*ry**2*sy**2/3 + 4*ry**2*sz**2/3 - 4*ry**2 - 8*ry*sy - 4*rz**4/3 + 4*rz**2*sx**2/3 + 4*rz**2*sy**2/3 + 4*rz**2*sz**2/3 - 4*rz**2 + 8*rz*sz - 4*sx**4/3 - 8*sx**2*sy**2/3 - 8*sx**2*sz**2/3 - 4*sx**2 - 4*sy**4/3 - 8*sy**2*sz**2/3 - 4*sy**2 - 4*sz**4/3 - 4*sz**2)/(3*(sqrt((-(-8*rx*sx + 8*ry*sy - 8*rz*sz - 8)**2/8 - (-2*rx**2 - 2*ry**2 - 2*rz**2 - 2*sx**2 - 2*sy**2 - 2*sz**2 - 6)**3/108 + (-2*rx**2 - 2*ry**2 - 2*rz**2 - 2*sx**2 - 2*sy**2 - 2*sz**2 - 6)*(rx**4 + 2*rx**2*ry**2 + 2*rx**2*rz**2 - 2*rx**2*sx**2 - 2*rx**2*sy**2 - 2*rx**2*sz**2 + 2*rx**2 - 8*rx*sx + ry**4 + 2*ry**2*rz**2 - 2*ry**2*sx**2 - 2*ry**2*sy**2 - 2*ry**2*sz**2 + 2*ry**2 + 8*ry*sy + rz**4 - 2*rz**2*sx**2 - 2*rz**2*sy**2 - 2*rz**2*sz**2 + 2*rz**2 - 8*rz*sz + sx**4 + 2*sx**2*sy**2 + 2*sx**2*sz**2 + 2*sx**2 + sy**4 + 2*sy**2*sz**2 + 2*sy**2 + sz**4 + 2*sz**2 - 3)/3)**2/4 + (-4*rx**4/3 - 8*rx**2*ry**2/3 - 8*rx**2*rz**2/3 + 4*rx**2*sx**2/3 + 4*rx**2*sy**2/3 + 4*rx**2*sz**2/3 - 4*rx**2 + 8*rx*sx - 4*ry**4/3 - 8*ry**2*rz**2/3 + 4*ry**2*sx**2/3 + 4*ry**2*sy**2/3 + 4*ry**2*sz**2/3 - 4*ry**2 - 8*ry*sy - 4*rz**4/3 + 4*rz**2*sx**2/3 + 4*rz**2*sy**2/3 + 4*rz**2*sz**2/3 - 4*rz**2 + 8*rz*sz - 4*sx**4/3 - 8*sx**2*sy**2/3 - 8*sx**2*sz**2/3 - 4*sx**2 - 4*sy**4/3 - 8*sy**2*sz**2/3 - 4*sy**2 - 4*sz**4/3 - 4*sz**2)**3/27) + (-8*rx*sx + 8*ry*sy - 8*rz*sz - 8)**2/16 + (-2*rx**2 - 2*ry**2 - 2*rz**2 - 2*sx**2 - 2*sy**2 - 2*sz**2 - 6)**3/216 - (-2*rx**2 - 2*ry**2 - 2*rz**2 - 2*sx**2 - 2*sy**2 - 2*sz**2 - 6)*(rx**4 + 2*rx**2*ry**2 + 2*rx**2*rz**2 - 2*rx**2*sx**2 - 2*rx**2*sy**2 - 2*rx**2*sz**2 + 2*rx**2 - 8*rx*sx + ry**4 + 2*ry**2*rz**2 - 2*ry**2*sx**2 - 2*ry**2*sy**2 - 2*ry**2*sz**2 + 2*ry**2 + 8*ry*sy + rz**4 - 2*rz**2*sx**2 - 2*rz**2*sy**2 - 2*rz**2*sz**2 + 2*rz**2 - 8*rz*sz + sx**4 + 2*sx**2*sy**2 + 2*sx**2*sz**2 + 2*sx**2 + sy**4 + 2*sy**2*sz**2 + 2*sy**2 + sz**4 + 2*sz**2 - 3)/6)**(1/3)))/2 + 1, True)): 1,\n",
       " Piecewise((sqrt(4*rx**2/3 + 4*ry**2/3 + 4*rz**2/3 + 4*sx**2/3 + 4*sy**2/3 + 4*sz**2/3 - 2*(-(-8*rx*sx + 8*ry*sy - 8*rz*sz - 8)**2/8 - (-2*rx**2 - 2*ry**2 - 2*rz**2 - 2*sx**2 - 2*sy**2 - 2*sz**2 - 6)**3/108 + (-2*rx**2 - 2*ry**2 - 2*rz**2 - 2*sx**2 - 2*sy**2 - 2*sz**2 - 6)*(rx**4 + 2*rx**2*ry**2 + 2*rx**2*rz**2 - 2*rx**2*sx**2 - 2*rx**2*sy**2 - 2*rx**2*sz**2 + 2*rx**2 - 8*rx*sx + ry**4 + 2*ry**2*rz**2 - 2*ry**2*sx**2 - 2*ry**2*sy**2 - 2*ry**2*sz**2 + 2*ry**2 + 8*ry*sy + rz**4 - 2*rz**2*sx**2 - 2*rz**2*sy**2 - 2*rz**2*sz**2 + 2*rz**2 - 8*rz*sz + sx**4 + 2*sx**2*sy**2 + 2*sx**2*sz**2 + 2*sx**2 + sy**4 + 2*sy**2*sz**2 + 2*sy**2 + sz**4 + 2*sz**2 - 3)/3)**(1/3) + 4)/2 - sqrt(8*rx**2/3 + 8*ry**2/3 + 8*rz**2/3 + 8*sx**2/3 + 8*sy**2/3 + 8*sz**2/3 + 2*(-(-8*rx*sx + 8*ry*sy - 8*rz*sz - 8)**2/8 - (-2*rx**2 - 2*ry**2 - 2*rz**2 - 2*sx**2 - 2*sy**2 - 2*sz**2 - 6)**3/108 + (-2*rx**2 - 2*ry**2 - 2*rz**2 - 2*sx**2 - 2*sy**2 - 2*sz**2 - 6)*(rx**4 + 2*rx**2*ry**2 + 2*rx**2*rz**2 - 2*rx**2*sx**2 - 2*rx**2*sy**2 - 2*rx**2*sz**2 + 2*rx**2 - 8*rx*sx + ry**4 + 2*ry**2*rz**2 - 2*ry**2*sx**2 - 2*ry**2*sy**2 - 2*ry**2*sz**2 + 2*ry**2 + 8*ry*sy + rz**4 - 2*rz**2*sx**2 - 2*rz**2*sy**2 - 2*rz**2*sz**2 + 2*rz**2 - 8*rz*sz + sx**4 + 2*sx**2*sy**2 + 2*sx**2*sz**2 + 2*sx**2 + sy**4 + 2*sy**2*sz**2 + 2*sy**2 + sz**4 + 2*sz**2 - 3)/3)**(1/3) - (-16*rx*sx + 16*ry*sy - 16*rz*sz - 16)/sqrt(4*rx**2/3 + 4*ry**2/3 + 4*rz**2/3 + 4*sx**2/3 + 4*sy**2/3 + 4*sz**2/3 - 2*(-(-8*rx*sx + 8*ry*sy - 8*rz*sz - 8)**2/8 - (-2*rx**2 - 2*ry**2 - 2*rz**2 - 2*sx**2 - 2*sy**2 - 2*sz**2 - 6)**3/108 + (-2*rx**2 - 2*ry**2 - 2*rz**2 - 2*sx**2 - 2*sy**2 - 2*sz**2 - 6)*(rx**4 + 2*rx**2*ry**2 + 2*rx**2*rz**2 - 2*rx**2*sx**2 - 2*rx**2*sy**2 - 2*rx**2*sz**2 + 2*rx**2 - 8*rx*sx + ry**4 + 2*ry**2*rz**2 - 2*ry**2*sx**2 - 2*ry**2*sy**2 - 2*ry**2*sz**2 + 2*ry**2 + 8*ry*sy + rz**4 - 2*rz**2*sx**2 - 2*rz**2*sy**2 - 2*rz**2*sz**2 + 2*rz**2 - 8*rz*sz + sx**4 + 2*sx**2*sy**2 + 2*sx**2*sz**2 + 2*sx**2 + sy**4 + 2*sy**2*sz**2 + 2*sy**2 + sz**4 + 2*sz**2 - 3)/3)**(1/3) + 4) + 8)/2 + 1, Eq(4*rx**4/3 + 8*rx**2*ry**2/3 + 8*rx**2*rz**2/3 - 4*rx**2*sx**2/3 - 4*rx**2*sy**2/3 - 4*rx**2*sz**2/3 + 4*rx**2 - 8*rx*sx + 4*ry**4/3 + 8*ry**2*rz**2/3 - 4*ry**2*sx**2/3 - 4*ry**2*sy**2/3 - 4*ry**2*sz**2/3 + 4*ry**2 + 8*ry*sy + 4*rz**4/3 - 4*rz**2*sx**2/3 - 4*rz**2*sy**2/3 - 4*rz**2*sz**2/3 + 4*rz**2 - 8*rz*sz + 4*sx**4/3 + 8*sx**2*sy**2/3 + 8*sx**2*sz**2/3 + 4*sx**2 + 4*sy**4/3 + 8*sy**2*sz**2/3 + 4*sy**2 + 4*sz**4/3 + 4*sz**2, 0)), (sqrt(4*rx**2/3 + 4*ry**2/3 + 4*rz**2/3 + 4*sx**2/3 + 4*sy**2/3 + 4*sz**2/3 + 2*(sqrt((-(-8*rx*sx + 8*ry*sy - 8*rz*sz - 8)**2/8 - (-2*rx**2 - 2*ry**2 - 2*rz**2 - 2*sx**2 - 2*sy**2 - 2*sz**2 - 6)**3/108 + (-2*rx**2 - 2*ry**2 - 2*rz**2 - 2*sx**2 - 2*sy**2 - 2*sz**2 - 6)*(rx**4 + 2*rx**2*ry**2 + 2*rx**2*rz**2 - 2*rx**2*sx**2 - 2*rx**2*sy**2 - 2*rx**2*sz**2 + 2*rx**2 - 8*rx*sx + ry**4 + 2*ry**2*rz**2 - 2*ry**2*sx**2 - 2*ry**2*sy**2 - 2*ry**2*sz**2 + 2*ry**2 + 8*ry*sy + rz**4 - 2*rz**2*sx**2 - 2*rz**2*sy**2 - 2*rz**2*sz**2 + 2*rz**2 - 8*rz*sz + sx**4 + 2*sx**2*sy**2 + 2*sx**2*sz**2 + 2*sx**2 + sy**4 + 2*sy**2*sz**2 + 2*sy**2 + sz**4 + 2*sz**2 - 3)/3)**2/4 + (-4*rx**4/3 - 8*rx**2*ry**2/3 - 8*rx**2*rz**2/3 + 4*rx**2*sx**2/3 + 4*rx**2*sy**2/3 + 4*rx**2*sz**2/3 - 4*rx**2 + 8*rx*sx - 4*ry**4/3 - 8*ry**2*rz**2/3 + 4*ry**2*sx**2/3 + 4*ry**2*sy**2/3 + 4*ry**2*sz**2/3 - 4*ry**2 - 8*ry*sy - 4*rz**4/3 + 4*rz**2*sx**2/3 + 4*rz**2*sy**2/3 + 4*rz**2*sz**2/3 - 4*rz**2 + 8*rz*sz - 4*sx**4/3 - 8*sx**2*sy**2/3 - 8*sx**2*sz**2/3 - 4*sx**2 - 4*sy**4/3 - 8*sy**2*sz**2/3 - 4*sy**2 - 4*sz**4/3 - 4*sz**2)**3/27) + (-8*rx*sx + 8*ry*sy - 8*rz*sz - 8)**2/16 + (-2*rx**2 - 2*ry**2 - 2*rz**2 - 2*sx**2 - 2*sy**2 - 2*sz**2 - 6)**3/216 - (-2*rx**2 - 2*ry**2 - 2*rz**2 - 2*sx**2 - 2*sy**2 - 2*sz**2 - 6)*(rx**4 + 2*rx**2*ry**2 + 2*rx**2*rz**2 - 2*rx**2*sx**2 - 2*rx**2*sy**2 - 2*rx**2*sz**2 + 2*rx**2 - 8*rx*sx + ry**4 + 2*ry**2*rz**2 - 2*ry**2*sx**2 - 2*ry**2*sy**2 - 2*ry**2*sz**2 + 2*ry**2 + 8*ry*sy + rz**4 - 2*rz**2*sx**2 - 2*rz**2*sy**2 - 2*rz**2*sz**2 + 2*rz**2 - 8*rz*sz + sx**4 + 2*sx**2*sy**2 + 2*sx**2*sz**2 + 2*sx**2 + sy**4 + 2*sy**2*sz**2 + 2*sy**2 + sz**4 + 2*sz**2 - 3)/6)**(1/3) + 4 - 2*(-4*rx**4/3 - 8*rx**2*ry**2/3 - 8*rx**2*rz**2/3 + 4*rx**2*sx**2/3 + 4*rx**2*sy**2/3 + 4*rx**2*sz**2/3 - 4*rx**2 + 8*rx*sx - 4*ry**4/3 - 8*ry**2*rz**2/3 + 4*ry**2*sx**2/3 + 4*ry**2*sy**2/3 + 4*ry**2*sz**2/3 - 4*ry**2 - 8*ry*sy - 4*rz**4/3 + 4*rz**2*sx**2/3 + 4*rz**2*sy**2/3 + 4*rz**2*sz**2/3 - 4*rz**2 + 8*rz*sz - 4*sx**4/3 - 8*sx**2*sy**2/3 - 8*sx**2*sz**2/3 - 4*sx**2 - 4*sy**4/3 - 8*sy**2*sz**2/3 - 4*sy**2 - 4*sz**4/3 - 4*sz**2)/(3*(sqrt((-(-8*rx*sx + 8*ry*sy - 8*rz*sz - 8)**2/8 - (-2*rx**2 - 2*ry**2 - 2*rz**2 - 2*sx**2 - 2*sy**2 - 2*sz**2 - 6)**3/108 + (-2*rx**2 - 2*ry**2 - 2*rz**2 - 2*sx**2 - 2*sy**2 - 2*sz**2 - 6)*(rx**4 + 2*rx**2*ry**2 + 2*rx**2*rz**2 - 2*rx**2*sx**2 - 2*rx**2*sy**2 - 2*rx**2*sz**2 + 2*rx**2 - 8*rx*sx + ry**4 + 2*ry**2*rz**2 - 2*ry**2*sx**2 - 2*ry**2*sy**2 - 2*ry**2*sz**2 + 2*ry**2 + 8*ry*sy + rz**4 - 2*rz**2*sx**2 - 2*rz**2*sy**2 - 2*rz**2*sz**2 + 2*rz**2 - 8*rz*sz + sx**4 + 2*sx**2*sy**2 + 2*sx**2*sz**2 + 2*sx**2 + sy**4 + 2*sy**2*sz**2 + 2*sy**2 + sz**4 + 2*sz**2 - 3)/3)**2/4 + (-4*rx**4/3 - 8*rx**2*ry**2/3 - 8*rx**2*rz**2/3 + 4*rx**2*sx**2/3 + 4*rx**2*sy**2/3 + 4*rx**2*sz**2/3 - 4*rx**2 + 8*rx*sx - 4*ry**4/3 - 8*ry**2*rz**2/3 + 4*ry**2*sx**2/3 + 4*ry**2*sy**2/3 + 4*ry**2*sz**2/3 - 4*ry**2 - 8*ry*sy - 4*rz**4/3 + 4*rz**2*sx**2/3 + 4*rz**2*sy**2/3 + 4*rz**2*sz**2/3 - 4*rz**2 + 8*rz*sz - 4*sx**4/3 - 8*sx**2*sy**2/3 - 8*sx**2*sz**2/3 - 4*sx**2 - 4*sy**4/3 - 8*sy**2*sz**2/3 - 4*sy**2 - 4*sz**4/3 - 4*sz**2)**3/27) + (-8*rx*sx + 8*ry*sy - 8*rz*sz - 8)**2/16 + (-2*rx**2 - 2*ry**2 - 2*rz**2 - 2*sx**2 - 2*sy**2 - 2*sz**2 - 6)**3/216 - (-2*rx**2 - 2*ry**2 - 2*rz**2 - 2*sx**2 - 2*sy**2 - 2*sz**2 - 6)*(rx**4 + 2*rx**2*ry**2 + 2*rx**2*rz**2 - 2*rx**2*sx**2 - 2*rx**2*sy**2 - 2*rx**2*sz**2 + 2*rx**2 - 8*rx*sx + ry**4 + 2*ry**2*rz**2 - 2*ry**2*sx**2 - 2*ry**2*sy**2 - 2*ry**2*sz**2 + 2*ry**2 + 8*ry*sy + rz**4 - 2*rz**2*sx**2 - 2*rz**2*sy**2 - 2*rz**2*sz**2 + 2*rz**2 - 8*rz*sz + sx**4 + 2*sx**2*sy**2 + 2*sx**2*sz**2 + 2*sx**2 + sy**4 + 2*sy**2*sz**2 + 2*sy**2 + sz**4 + 2*sz**2 - 3)/6)**(1/3)))/2 - sqrt(8*rx**2/3 + 8*ry**2/3 + 8*rz**2/3 + 8*sx**2/3 + 8*sy**2/3 + 8*sz**2/3 - (-16*rx*sx + 16*ry*sy - 16*rz*sz - 16)/sqrt(4*rx**2/3 + 4*ry**2/3 + 4*rz**2/3 + 4*sx**2/3 + 4*sy**2/3 + 4*sz**2/3 + 2*(sqrt((-(-8*rx*sx + 8*ry*sy - 8*rz*sz - 8)**2/8 - (-2*rx**2 - 2*ry**2 - 2*rz**2 - 2*sx**2 - 2*sy**2 - 2*sz**2 - 6)**3/108 + (-2*rx**2 - 2*ry**2 - 2*rz**2 - 2*sx**2 - 2*sy**2 - 2*sz**2 - 6)*(rx**4 + 2*rx**2*ry**2 + 2*rx**2*rz**2 - 2*rx**2*sx**2 - 2*rx**2*sy**2 - 2*rx**2*sz**2 + 2*rx**2 - 8*rx*sx + ry**4 + 2*ry**2*rz**2 - 2*ry**2*sx**2 - 2*ry**2*sy**2 - 2*ry**2*sz**2 + 2*ry**2 + 8*ry*sy + rz**4 - 2*rz**2*sx**2 - 2*rz**2*sy**2 - 2*rz**2*sz**2 + 2*rz**2 - 8*rz*sz + sx**4 + 2*sx**2*sy**2 + 2*sx**2*sz**2 + 2*sx**2 + sy**4 + 2*sy**2*sz**2 + 2*sy**2 + sz**4 + 2*sz**2 - 3)/3)**2/4 + (-4*rx**4/3 - 8*rx**2*ry**2/3 - 8*rx**2*rz**2/3 + 4*rx**2*sx**2/3 + 4*rx**2*sy**2/3 + 4*rx**2*sz**2/3 - 4*rx**2 + 8*rx*sx - 4*ry**4/3 - 8*ry**2*rz**2/3 + 4*ry**2*sx**2/3 + 4*ry**2*sy**2/3 + 4*ry**2*sz**2/3 - 4*ry**2 - 8*ry*sy - 4*rz**4/3 + 4*rz**2*sx**2/3 + 4*rz**2*sy**2/3 + 4*rz**2*sz**2/3 - 4*rz**2 + 8*rz*sz - 4*sx**4/3 - 8*sx**2*sy**2/3 - 8*sx**2*sz**2/3 - 4*sx**2 - 4*sy**4/3 - 8*sy**2*sz**2/3 - 4*sy**2 - 4*sz**4/3 - 4*sz**2)**3/27) + (-8*rx*sx + 8*ry*sy - 8*rz*sz - 8)**2/16 + (-2*rx**2 - 2*ry**2 - 2*rz**2 - 2*sx**2 - 2*sy**2 - 2*sz**2 - 6)**3/216 - (-2*rx**2 - 2*ry**2 - 2*rz**2 - 2*sx**2 - 2*sy**2 - 2*sz**2 - 6)*(rx**4 + 2*rx**2*ry**2 + 2*rx**2*rz**2 - 2*rx**2*sx**2 - 2*rx**2*sy**2 - 2*rx**2*sz**2 + 2*rx**2 - 8*rx*sx + ry**4 + 2*ry**2*rz**2 - 2*ry**2*sx**2 - 2*ry**2*sy**2 - 2*ry**2*sz**2 + 2*ry**2 + 8*ry*sy + rz**4 - 2*rz**2*sx**2 - 2*rz**2*sy**2 - 2*rz**2*sz**2 + 2*rz**2 - 8*rz*sz + sx**4 + 2*sx**2*sy**2 + 2*sx**2*sz**2 + 2*sx**2 + sy**4 + 2*sy**2*sz**2 + 2*sy**2 + sz**4 + 2*sz**2 - 3)/6)**(1/3) + 4 - 2*(-4*rx**4/3 - 8*rx**2*ry**2/3 - 8*rx**2*rz**2/3 + 4*rx**2*sx**2/3 + 4*rx**2*sy**2/3 + 4*rx**2*sz**2/3 - 4*rx**2 + 8*rx*sx - 4*ry**4/3 - 8*ry**2*rz**2/3 + 4*ry**2*sx**2/3 + 4*ry**2*sy**2/3 + 4*ry**2*sz**2/3 - 4*ry**2 - 8*ry*sy - 4*rz**4/3 + 4*rz**2*sx**2/3 + 4*rz**2*sy**2/3 + 4*rz**2*sz**2/3 - 4*rz**2 + 8*rz*sz - 4*sx**4/3 - 8*sx**2*sy**2/3 - 8*sx**2*sz**2/3 - 4*sx**2 - 4*sy**4/3 - 8*sy**2*sz**2/3 - 4*sy**2 - 4*sz**4/3 - 4*sz**2)/(3*(sqrt((-(-8*rx*sx + 8*ry*sy - 8*rz*sz - 8)**2/8 - (-2*rx**2 - 2*ry**2 - 2*rz**2 - 2*sx**2 - 2*sy**2 - 2*sz**2 - 6)**3/108 + (-2*rx**2 - 2*ry**2 - 2*rz**2 - 2*sx**2 - 2*sy**2 - 2*sz**2 - 6)*(rx**4 + 2*rx**2*ry**2 + 2*rx**2*rz**2 - 2*rx**2*sx**2 - 2*rx**2*sy**2 - 2*rx**2*sz**2 + 2*rx**2 - 8*rx*sx + ry**4 + 2*ry**2*rz**2 - 2*ry**2*sx**2 - 2*ry**2*sy**2 - 2*ry**2*sz**2 + 2*ry**2 + 8*ry*sy + rz**4 - 2*rz**2*sx**2 - 2*rz**2*sy**2 - 2*rz**2*sz**2 + 2*rz**2 - 8*rz*sz + sx**4 + 2*sx**2*sy**2 + 2*sx**2*sz**2 + 2*sx**2 + sy**4 + 2*sy**2*sz**2 + 2*sy**2 + sz**4 + 2*sz**2 - 3)/3)**2/4 + (-4*rx**4/3 - 8*rx**2*ry**2/3 - 8*rx**2*rz**2/3 + 4*rx**2*sx**2/3 + 4*rx**2*sy**2/3 + 4*rx**2*sz**2/3 - 4*rx**2 + 8*rx*sx - 4*ry**4/3 - 8*ry**2*rz**2/3 + 4*ry**2*sx**2/3 + 4*ry**2*sy**2/3 + 4*ry**2*sz**2/3 - 4*ry**2 - 8*ry*sy - 4*rz**4/3 + 4*rz**2*sx**2/3 + 4*rz**2*sy**2/3 + 4*rz**2*sz**2/3 - 4*rz**2 + 8*rz*sz - 4*sx**4/3 - 8*sx**2*sy**2/3 - 8*sx**2*sz**2/3 - 4*sx**2 - 4*sy**4/3 - 8*sy**2*sz**2/3 - 4*sy**2 - 4*sz**4/3 - 4*sz**2)**3/27) + (-8*rx*sx + 8*ry*sy - 8*rz*sz - 8)**2/16 + (-2*rx**2 - 2*ry**2 - 2*rz**2 - 2*sx**2 - 2*sy**2 - 2*sz**2 - 6)**3/216 - (-2*rx**2 - 2*ry**2 - 2*rz**2 - 2*sx**2 - 2*sy**2 - 2*sz**2 - 6)*(rx**4 + 2*rx**2*ry**2 + 2*rx**2*rz**2 - 2*rx**2*sx**2 - 2*rx**2*sy**2 - 2*rx**2*sz**2 + 2*rx**2 - 8*rx*sx + ry**4 + 2*ry**2*rz**2 - 2*ry**2*sx**2 - 2*ry**2*sy**2 - 2*ry**2*sz**2 + 2*ry**2 + 8*ry*sy + rz**4 - 2*rz**2*sx**2 - 2*rz**2*sy**2 - 2*rz**2*sz**2 + 2*rz**2 - 8*rz*sz + sx**4 + 2*sx**2*sy**2 + 2*sx**2*sz**2 + 2*sx**2 + sy**4 + 2*sy**2*sz**2 + 2*sy**2 + sz**4 + 2*sz**2 - 3)/6)**(1/3))) - 2*(sqrt((-(-8*rx*sx + 8*ry*sy - 8*rz*sz - 8)**2/8 - (-2*rx**2 - 2*ry**2 - 2*rz**2 - 2*sx**2 - 2*sy**2 - 2*sz**2 - 6)**3/108 + (-2*rx**2 - 2*ry**2 - 2*rz**2 - 2*sx**2 - 2*sy**2 - 2*sz**2 - 6)*(rx**4 + 2*rx**2*ry**2 + 2*rx**2*rz**2 - 2*rx**2*sx**2 - 2*rx**2*sy**2 - 2*rx**2*sz**2 + 2*rx**2 - 8*rx*sx + ry**4 + 2*ry**2*rz**2 - 2*ry**2*sx**2 - 2*ry**2*sy**2 - 2*ry**2*sz**2 + 2*ry**2 + 8*ry*sy + rz**4 - 2*rz**2*sx**2 - 2*rz**2*sy**2 - 2*rz**2*sz**2 + 2*rz**2 - 8*rz*sz + sx**4 + 2*sx**2*sy**2 + 2*sx**2*sz**2 + 2*sx**2 + sy**4 + 2*sy**2*sz**2 + 2*sy**2 + sz**4 + 2*sz**2 - 3)/3)**2/4 + (-4*rx**4/3 - 8*rx**2*ry**2/3 - 8*rx**2*rz**2/3 + 4*rx**2*sx**2/3 + 4*rx**2*sy**2/3 + 4*rx**2*sz**2/3 - 4*rx**2 + 8*rx*sx - 4*ry**4/3 - 8*ry**2*rz**2/3 + 4*ry**2*sx**2/3 + 4*ry**2*sy**2/3 + 4*ry**2*sz**2/3 - 4*ry**2 - 8*ry*sy - 4*rz**4/3 + 4*rz**2*sx**2/3 + 4*rz**2*sy**2/3 + 4*rz**2*sz**2/3 - 4*rz**2 + 8*rz*sz - 4*sx**4/3 - 8*sx**2*sy**2/3 - 8*sx**2*sz**2/3 - 4*sx**2 - 4*sy**4/3 - 8*sy**2*sz**2/3 - 4*sy**2 - 4*sz**4/3 - 4*sz**2)**3/27) + (-8*rx*sx + 8*ry*sy - 8*rz*sz - 8)**2/16 + (-2*rx**2 - 2*ry**2 - 2*rz**2 - 2*sx**2 - 2*sy**2 - 2*sz**2 - 6)**3/216 - (-2*rx**2 - 2*ry**2 - 2*rz**2 - 2*sx**2 - 2*sy**2 - 2*sz**2 - 6)*(rx**4 + 2*rx**2*ry**2 + 2*rx**2*rz**2 - 2*rx**2*sx**2 - 2*rx**2*sy**2 - 2*rx**2*sz**2 + 2*rx**2 - 8*rx*sx + ry**4 + 2*ry**2*rz**2 - 2*ry**2*sx**2 - 2*ry**2*sy**2 - 2*ry**2*sz**2 + 2*ry**2 + 8*ry*sy + rz**4 - 2*rz**2*sx**2 - 2*rz**2*sy**2 - 2*rz**2*sz**2 + 2*rz**2 - 8*rz*sz + sx**4 + 2*sx**2*sy**2 + 2*sx**2*sz**2 + 2*sx**2 + sy**4 + 2*sy**2*sz**2 + 2*sy**2 + sz**4 + 2*sz**2 - 3)/6)**(1/3) + 8 + 2*(-4*rx**4/3 - 8*rx**2*ry**2/3 - 8*rx**2*rz**2/3 + 4*rx**2*sx**2/3 + 4*rx**2*sy**2/3 + 4*rx**2*sz**2/3 - 4*rx**2 + 8*rx*sx - 4*ry**4/3 - 8*ry**2*rz**2/3 + 4*ry**2*sx**2/3 + 4*ry**2*sy**2/3 + 4*ry**2*sz**2/3 - 4*ry**2 - 8*ry*sy - 4*rz**4/3 + 4*rz**2*sx**2/3 + 4*rz**2*sy**2/3 + 4*rz**2*sz**2/3 - 4*rz**2 + 8*rz*sz - 4*sx**4/3 - 8*sx**2*sy**2/3 - 8*sx**2*sz**2/3 - 4*sx**2 - 4*sy**4/3 - 8*sy**2*sz**2/3 - 4*sy**2 - 4*sz**4/3 - 4*sz**2)/(3*(sqrt((-(-8*rx*sx + 8*ry*sy - 8*rz*sz - 8)**2/8 - (-2*rx**2 - 2*ry**2 - 2*rz**2 - 2*sx**2 - 2*sy**2 - 2*sz**2 - 6)**3/108 + (-2*rx**2 - 2*ry**2 - 2*rz**2 - 2*sx**2 - 2*sy**2 - 2*sz**2 - 6)*(rx**4 + 2*rx**2*ry**2 + 2*rx**2*rz**2 - 2*rx**2*sx**2 - 2*rx**2*sy**2 - 2*rx**2*sz**2 + 2*rx**2 - 8*rx*sx + ry**4 + 2*ry**2*rz**2 - 2*ry**2*sx**2 - 2*ry**2*sy**2 - 2*ry**2*sz**2 + 2*ry**2 + 8*ry*sy + rz**4 - 2*rz**2*sx**2 - 2*rz**2*sy**2 - 2*rz**2*sz**2 + 2*rz**2 - 8*rz*sz + sx**4 + 2*sx**2*sy**2 + 2*sx**2*sz**2 + 2*sx**2 + sy**4 + 2*sy**2*sz**2 + 2*sy**2 + sz**4 + 2*sz**2 - 3)/3)**2/4 + (-4*rx**4/3 - 8*rx**2*ry**2/3 - 8*rx**2*rz**2/3 + 4*rx**2*sx**2/3 + 4*rx**2*sy**2/3 + 4*rx**2*sz**2/3 - 4*rx**2 + 8*rx*sx - 4*ry**4/3 - 8*ry**2*rz**2/3 + 4*ry**2*sx**2/3 + 4*ry**2*sy**2/3 + 4*ry**2*sz**2/3 - 4*ry**2 - 8*ry*sy - 4*rz**4/3 + 4*rz**2*sx**2/3 + 4*rz**2*sy**2/3 + 4*rz**2*sz**2/3 - 4*rz**2 + 8*rz*sz - 4*sx**4/3 - 8*sx**2*sy**2/3 - 8*sx**2*sz**2/3 - 4*sx**2 - 4*sy**4/3 - 8*sy**2*sz**2/3 - 4*sy**2 - 4*sz**4/3 - 4*sz**2)**3/27) + (-8*rx*sx + 8*ry*sy - 8*rz*sz - 8)**2/16 + (-2*rx**2 - 2*ry**2 - 2*rz**2 - 2*sx**2 - 2*sy**2 - 2*sz**2 - 6)**3/216 - (-2*rx**2 - 2*ry**2 - 2*rz**2 - 2*sx**2 - 2*sy**2 - 2*sz**2 - 6)*(rx**4 + 2*rx**2*ry**2 + 2*rx**2*rz**2 - 2*rx**2*sx**2 - 2*rx**2*sy**2 - 2*rx**2*sz**2 + 2*rx**2 - 8*rx*sx + ry**4 + 2*ry**2*rz**2 - 2*ry**2*sx**2 - 2*ry**2*sy**2 - 2*ry**2*sz**2 + 2*ry**2 + 8*ry*sy + rz**4 - 2*rz**2*sx**2 - 2*rz**2*sy**2 - 2*rz**2*sz**2 + 2*rz**2 - 8*rz*sz + sx**4 + 2*sx**2*sy**2 + 2*sx**2*sz**2 + 2*sx**2 + sy**4 + 2*sy**2*sz**2 + 2*sy**2 + sz**4 + 2*sz**2 - 3)/6)**(1/3)))/2 + 1, True)): 1}"
      ]
     },
     "execution_count": 52,
     "metadata": {},
     "output_type": "execute_result"
    }
   ],
   "source": [
    "eig_dict"
   ]
  },
  {
   "cell_type": "code",
   "execution_count": 53,
   "id": "9e2877f6-c22b-47bd-9589-9b75cb27ab90",
   "metadata": {},
   "outputs": [
    {
     "data": {
      "text/latex": [
       "$\\displaystyle \\left[\\begin{matrix}\\left(rx - i ry\\right)^{2} + \\left(rx + i ry\\right)^{2} + \\left(- rz + sz\\right)^{2} + \\left(rz + sz + 2\\right)^{2} & 2 rx - 2 i ry + \\left(- rz + sz\\right) \\left(sx - i sy\\right) + \\left(sx - i sy\\right) \\left(rz + sz + 2\\right) & 2 rx + 2 i ry + \\left(- rz + sz\\right) \\left(sx + i sy\\right) + \\left(sx + i sy\\right) \\left(rz + sz + 2\\right) & \\left(rx - i ry\\right)^{2} + \\left(rx + i ry\\right)^{2} + \\left(- rz + sz\\right) \\left(- rz - sz + 2\\right) + \\left(rz - sz\\right) \\left(rz + sz + 2\\right)\\\\2 rx - 2 i ry + \\left(- rz + sz\\right) \\left(sx - i sy\\right) + \\left(sx - i sy\\right) \\left(rz + sz + 2\\right) & 2 \\left(sx - i sy\\right)^{2} + 4 & 2 \\left(sx - i sy\\right) \\left(sx + i sy\\right) & 2 rx - 2 i ry + \\left(rz - sz\\right) \\left(sx - i sy\\right) + \\left(sx - i sy\\right) \\left(- rz - sz + 2\\right)\\\\2 rx + 2 i ry + \\left(- rz + sz\\right) \\left(sx + i sy\\right) + \\left(sx + i sy\\right) \\left(rz + sz + 2\\right) & 2 \\left(sx - i sy\\right) \\left(sx + i sy\\right) & 2 \\left(sx + i sy\\right)^{2} + 4 & 2 rx + 2 i ry + \\left(rz - sz\\right) \\left(sx + i sy\\right) + \\left(sx + i sy\\right) \\left(- rz - sz + 2\\right)\\\\\\left(rx - i ry\\right)^{2} + \\left(rx + i ry\\right)^{2} + \\left(- rz + sz\\right) \\left(- rz - sz + 2\\right) + \\left(rz - sz\\right) \\left(rz + sz + 2\\right) & 2 rx - 2 i ry + \\left(rz - sz\\right) \\left(sx - i sy\\right) + \\left(sx - i sy\\right) \\left(- rz - sz + 2\\right) & 2 rx + 2 i ry + \\left(rz - sz\\right) \\left(sx + i sy\\right) + \\left(sx + i sy\\right) \\left(- rz - sz + 2\\right) & \\left(rx - i ry\\right)^{2} + \\left(rx + i ry\\right)^{2} + \\left(rz - sz\\right)^{2} + \\left(- rz - sz + 2\\right)^{2}\\end{matrix}\\right]$"
      ],
      "text/plain": [
       "Matrix([\n",
       "[                   (rx - I*ry)**2 + (rx + I*ry)**2 + (-rz + sz)**2 + (rz + sz + 2)**2, 2*rx - 2*I*ry + (-rz + sz)*(sx - I*sy) + (sx - I*sy)*(rz + sz + 2), 2*rx + 2*I*ry + (-rz + sz)*(sx + I*sy) + (sx + I*sy)*(rz + sz + 2), (rx - I*ry)**2 + (rx + I*ry)**2 + (-rz + sz)*(-rz - sz + 2) + (rz - sz)*(rz + sz + 2)],\n",
       "[                   2*rx - 2*I*ry + (-rz + sz)*(sx - I*sy) + (sx - I*sy)*(rz + sz + 2),                                               2*(sx - I*sy)**2 + 4,                                          2*(sx - I*sy)*(sx + I*sy),                    2*rx - 2*I*ry + (rz - sz)*(sx - I*sy) + (sx - I*sy)*(-rz - sz + 2)],\n",
       "[                   2*rx + 2*I*ry + (-rz + sz)*(sx + I*sy) + (sx + I*sy)*(rz + sz + 2),                                          2*(sx - I*sy)*(sx + I*sy),                                               2*(sx + I*sy)**2 + 4,                    2*rx + 2*I*ry + (rz - sz)*(sx + I*sy) + (sx + I*sy)*(-rz - sz + 2)],\n",
       "[(rx - I*ry)**2 + (rx + I*ry)**2 + (-rz + sz)*(-rz - sz + 2) + (rz - sz)*(rz + sz + 2), 2*rx - 2*I*ry + (rz - sz)*(sx - I*sy) + (sx - I*sy)*(-rz - sz + 2), 2*rx + 2*I*ry + (rz - sz)*(sx + I*sy) + (sx + I*sy)*(-rz - sz + 2),                    (rx - I*ry)**2 + (rx + I*ry)**2 + (rz - sz)**2 + (-rz - sz + 2)**2]])"
      ]
     },
     "execution_count": 53,
     "metadata": {},
     "output_type": "execute_result"
    }
   ],
   "source": [
    "rho_tensor = sp.MutableDenseNDimArray(rho_bell_basis, (dA, dB, dA, dB))\n",
    "rho_realigned_tensor = permute_dims(rho_tensor, (0, 2, 1, 3))\n",
    "realigned = sp.Matrix(rho_realigned_tensor.reshape(dA*dA, dB*dB))\n",
    "rhotilde_t_rhotilde= realigned.T * realigned\n",
    "rhotilde_t_rhotilde"
   ]
  },
  {
   "cell_type": "code",
   "execution_count": 54,
   "id": "11cde662-9e29-48ce-9a88-4af82ef12c68",
   "metadata": {},
   "outputs": [
    {
     "data": {
      "text/plain": [
       "(-0.106651517260556,\n",
       " 0.532563140325097,\n",
       " 0.357355496351069,\n",
       " -0.674252804129866,\n",
       " -0.311294594664216,\n",
       " -0.160554776062962)"
      ]
     },
     "execution_count": 54,
     "metadata": {},
     "output_type": "execute_result"
    }
   ],
   "source": [
    "generate_1_normalized_real(6)"
   ]
  },
  {
   "cell_type": "code",
   "execution_count": 55,
   "id": "88197761-4f1c-445a-962e-bb5d82e956fb",
   "metadata": {},
   "outputs": [],
   "source": [
    "def generate_realignment_scores_bell_basis(rhotilde_t_rhotilde, rx, ry, rz, sx, sy, sz, no_of_random_samples= 20):\n",
    "    res= {}\n",
    "    for i in range(no_of_random_samples):\n",
    "        a, b, c, d, e, f = generate_1_normalized_real(6)\n",
    "        subbed_symm= simplify(rhotilde_t_rhotilde.subs({rx: a, ry: b, rz: c, sx: d, sy: e, sz: f}))\n",
    "        print(\"subbed symm: \", subbed_symm)\n",
    "        try:\n",
    "            eig_dict= subbed_symm.eigenvals()\n",
    "            res[str((a, b, c, d))]= sum(get_singular_values_from_eig_dict(eig_dict))\n",
    "        except e:\n",
    "            print(e)\n",
    "    return res"
   ]
  },
  {
   "cell_type": "code",
   "execution_count": 56,
   "id": "2e8efc2f-62f5-46c0-87a0-2a6b104a0872",
   "metadata": {},
   "outputs": [
    {
     "name": "stdout",
     "output_type": "stream",
     "text": [
      "subbed symm:  Matrix([[3.34626092678612, -0.592173310172567 - 0.333613548387647*I, -0.592173310172567 + 0.333613548387647*I, -0.329040398794266], [-0.592173310172567 - 0.333613548387647*I, 5.1305177169992 - 0.813197750053435*I, 1.39260938139202, -1.70762293256017 + 0.0258931620756989*I], [-0.592173310172567 + 0.333613548387647*I, 1.39260938139202, 5.1305177169992 + 0.813197750053435*I, -1.70762293256017 - 0.0258931620756989*I], [-0.329040398794266, -1.70762293256017 + 0.0258931620756989*I, -1.70762293256017 - 0.0258931620756989*I, 4.98191684411203]])\n",
      "subbed symm:  Matrix([[4.84246439918377, -0.95247976037569 - 1.06949899623149*I, -0.95247976037569 + 1.06949899623149*I, 0.166092048284938], [-0.95247976037569 - 1.06949899623149*I, 3.26025052038375 + 1.35767353549738*I, 1.54612636016028, -1.43300312710082 - 1.87854235291933*I], [-0.95247976037569 + 1.06949899623149*I, 1.54612636016028, 3.26025052038375 - 1.35767353549738*I, -1.43300312710082 + 1.87854235291933*I], [0.166092048284938, -1.43300312710082 - 1.87854235291933*I, -1.43300312710082 + 1.87854235291933*I, 4.06241147846264]])\n",
      "subbed symm:  Matrix([[4.57956585900256, -0.853122302099255 - 0.688676199280991*I, -0.853122302099255 + 0.688676199280991*I, 0.00411257663868488], [-0.853122302099255 - 0.688676199280991*I, 3.62678142815493 + 1.59524523496066*I, 1.63832214842954, -1.29351181828206 - 1.24398984333371*I], [-0.853122302099255 + 0.688676199280991*I, 1.63832214842954, 3.62678142815493 - 1.59524523496066*I, -1.29351181828206 + 1.24398984333371*I], [0.00411257663868488, -1.29351181828206 - 1.24398984333371*I, -1.29351181828206 + 1.24398984333371*I, 3.73526332188705]])\n",
      "subbed symm:  Matrix([[3.87967025162455, 0.985200213302739 + 1.81893390199806*I, 0.985200213302739 - 1.81893390199806*I, -1.36275416571608], [0.985200213302739 + 1.81893390199806*I, 4.51041097008227 + 0.180685413836229*I, 0.541448591422576, 0.451015772558587 + 1.72717323329943*I], [0.985200213302739 - 1.81893390199806*I, 0.541448591422576, 4.51041097008227 - 0.180685413836229*I, 0.451015772558587 - 1.72717323329943*I], [-1.36275416571608, 0.451015772558587 + 1.72717323329943*I, 0.451015772558587 - 1.72717323329943*I, 1.93739007758255]])\n",
      "subbed symm:  Matrix([[7.38712382238099, 0.145877813613065 + 0.182319427643603*I, 0.145877813613065 - 0.182319427643603*I, 1.21066318046865], [0.145877813613065 + 0.182319427643603*I, 4.36517967949066 + 0.206207034826757*I, 0.419377562018929, -0.289750855285235 + 0.0678221145779529*I], [0.145877813613065 - 0.182319427643603*I, 0.419377562018929, 4.36517967949066 - 0.206207034826757*I, -0.289750855285235 - 0.0678221145779529*I], [1.21066318046865, -0.289750855285235 + 0.0678221145779529*I, -0.289750855285235 - 0.0678221145779529*I, 3.51797179623586]])\n",
      "subbed symm:  Matrix([[7.79159461273379, 2.37783876365919 - 1.08703626455993*I, 2.37783876365919 + 1.08703626455993*I, 0.150941362812631], [2.37783876365919 - 1.08703626455993*I, 4.72777850122985 - 1.0839684362385*I, 1.30562211899680, 1.32880030886604 - 0.527813176849144*I], [2.37783876365919 + 1.08703626455993*I, 1.30562211899680, 4.72777850122985 + 1.0839684362385*I, 1.32880030886604 + 0.527813176849144*I], [0.150941362812631, 1.32880030886604 - 0.527813176849144*I, 1.32880030886604 + 0.527813176849144*I, 1.59269329039370]])\n",
      "subbed symm:  Matrix([[3.96573131901995, 1.90223802270368 - 1.52703598829244*I, 1.90223802270368 + 1.52703598829244*I, 0.655730278958014], [1.90223802270368 - 1.52703598829244*I, 3.42236748022884 - 1.10630614700337*I, 1.24802749120146, 1.64963263930531 - 1.11017891100332*I], [1.90223802270368 + 1.52703598829244*I, 1.24802749120146, 3.42236748022884 + 1.10630614700337*I, 1.64963263930531 + 1.11017891100332*I], [0.655730278958014, 1.64963263930531 - 1.11017891100332*I, 1.64963263930531 + 1.11017891100332*I, 5.53609307645798]])\n",
      "subbed symm:  Matrix([[6.05615674809562, -0.6610272605324 - 0.533126459462504*I, -0.6610272605324 + 0.533126459462504*I, 0.0185456830125224], [-0.6610272605324 - 0.533126459462504*I, 4.34802350638692 + 0.252415819341806*I, 0.429923373232772, 0.435926053576163 - 0.177204510529716*I], [-0.6610272605324 + 0.533126459462504*I, 0.429923373232772, 4.34802350638692 - 0.252415819341806*I, 0.435926053576163 + 0.177204510529716*I], [0.0185456830125224, 0.435926053576163 - 0.177204510529716*I, 0.435926053576163 + 0.177204510529716*I, 5.07447893273406]])\n",
      "subbed symm:  Matrix([[7.30662189941577, -1.94683112180287 - 0.386165804778276*I, -1.94683112180287 + 0.386165804778276*I, 1.83572824000013], [-1.94683112180287 - 0.386165804778276*I, 4.02676059001998 + 0.0293193994907376*I, 0.0396957978218706, -2.00074289229688 - 0.409950737840373*I], [-1.94683112180287 + 0.386165804778276*I, 0.0396957978218706, 4.02676059001998 - 0.0293193994907376*I, -2.00074289229688 + 0.409950737840373*I], [1.83572824000013, -2.00074289229688 - 0.409950737840373*I, -2.00074289229688 + 0.409950737840373*I, 4.45230484769310]])\n",
      "subbed symm:  Matrix([[9.64769265733383, 0.674629329459895 - 1.17368261047542*I, 0.674629329459895 + 1.17368261047542*I, -1.61874068573502], [0.674629329459895 - 1.17368261047542*I, 4.06804841099872 - 0.0826916955269238*I, 0.107091095561531, -0.0327427184184531 - 0.839698604489375*I], [0.674629329459895 + 1.17368261047542*I, 0.107091095561531, 4.06804841099872 + 0.0826916955269238*I, -0.0327427184184531 + 0.839698604489375*I], [-1.61874068573502, -0.0327427184184531 - 0.839698604489375*I, -0.0327427184184531 + 0.839698604489375*I, 0.828844743396522]])\n",
      "subbed symm:  Matrix([[2.13017802335386, -1.70146384732708 + 1.05691442690997*I, -1.70146384732708 - 1.05691442690997*I, 1.12896762157758], [-1.70146384732708 + 1.05691442690997*I, 4.21676936448734 - 0.445508981952155*I, 0.495446475797629, -1.86675263371071 + 1.16030673410776*I], [-1.70146384732708 - 1.05691442690997*I, 0.495446475797629, 4.21676936448734 + 0.445508981952155*I, -1.86675263371071 - 1.16030673410776*I], [1.12896762157758, -1.86675263371071 + 1.16030673410776*I, -1.86675263371071 - 1.16030673410776*I, 8.20447661119602]])\n",
      "subbed symm:  Matrix([[0.297594132061669, -0.37046604421938 - 1.06092989231952*I, -0.37046604421938 + 1.06092989231952*I, -0.466612003201883], [-0.37046604421938 - 1.06092989231952*I, 3.91162516321681 + 0.0255504871837427*I, 0.0919942344485894, -0.445649317020684 - 1.59167269146133*I], [-0.37046604421938 + 1.06092989231952*I, 0.0919942344485894, 3.91162516321681 - 0.0255504871837427*I, -0.445649317020684 + 1.59167269146133*I], [-0.466612003201883, -0.445649317020684 - 1.59167269146133*I, -0.445649317020684 + 1.59167269146133*I, 9.89264329444193]])\n",
      "subbed symm:  Matrix([[9.10477081210045, -1.54739560359345 + 0.29044043067383*I, -1.54739560359345 - 0.29044043067383*I, 1.80975400730700], [-1.54739560359345 + 0.29044043067383*I, 4.12722593610751 - 0.0225943595226323*I, 0.129216654888873, -1.53190772247191 + 0.289075841613393*I], [-1.54739560359345 - 0.29044043067383*I, 0.129216654888873, 4.12722593610751 + 0.0225943595226323*I, -1.53190772247191 - 0.289075841613393*I], [1.80975400730700, -1.53190772247191 + 0.289075841613393*I, -1.53190772247191 - 0.289075841613393*I, 2.51660798739918]])\n",
      "subbed symm:  Matrix([[2.38826949568200, -1.97564533670338 + 0.640268242738166*I, -1.97564533670338 - 0.640268242738166*I, 0.562450818902562], [-1.97564533670338 + 0.640268242738166*I, 4.92255922321426 + 0.0956574190589112*I, 0.927505181742241, -1.90677176008767 + 0.643829345023451*I], [-1.97564533670338 - 0.640268242738166*I, 0.927505181742241, 4.92255922321426 - 0.0956574190589112*I, -1.90677176008767 - 0.643829345023451*I], [0.562450818902562, -1.90677176008767 + 0.643829345023451*I, -1.90677176008767 - 0.643829345023451*I, 6.74176014690299]])\n",
      "subbed symm:  Matrix([[2.90312820292598, 0.0133302214049493 + 0.46678464713377*I, 0.0133302214049493 - 0.46678464713377*I, 0.671328532659016], [0.0133302214049493 + 0.46678464713377*I, 4.79929677879278 - 0.818819851211448*I, 1.14426451894938, -0.585290249546072 + 0.718982674294356*I], [0.0133302214049493 - 0.46678464713377*I, 1.14426451894938, 4.79929677879278 + 0.818819851211448*I, -0.585290249546072 - 0.718982674294356*I], [0.671328532659016, -0.585290249546072 + 0.718982674294356*I, -0.585290249546072 - 0.718982674294356*I, 6.80828128471896]])\n",
      "subbed symm:  Matrix([[5.36614847382749, -0.147903053732432 - 0.241184163178189*I, -0.147903053732432 + 0.241184163178189*I, 0.0150682317300512], [-0.147903053732432 - 0.241184163178189*I, 3.65017494837846 - 0.570632176772706*I, 0.669327011191370, -0.564793821897154 + 0.503384936913012*I], [-0.147903053732432 + 0.241184163178189*I, 0.669327011191370, 3.65017494837846 + 0.570632176772706*I, -0.564793821897154 - 0.503384936913012*I], [0.0150682317300512, -0.564793821897154 + 0.503384936913012*I, -0.564793821897154 - 0.503384936913012*I, 3.75191817206387]])\n",
      "subbed symm:  Matrix([[4.58566871520550, -1.5176497905719 - 2.49927533524392*I, -1.5176497905719 + 2.49927533524392*I, -0.0731552113992345], [-1.5176497905719 - 2.49927533524392*I, 3.09935609835416 + 1.18401930845118*I, 1.48763609809559, -1.08783773254318 - 1.63230337413589*I], [-1.5176497905719 + 2.49927533524392*I, 1.48763609809559, 3.09935609835416 - 1.18401930845118*I, -1.08783773254318 + 1.63230337413589*I], [-0.0731552113992345, -1.08783773254318 - 1.63230337413589*I, -1.08783773254318 + 1.63230337413589*I, 3.89746161553321]])\n",
      "subbed symm:  Matrix([[4.80337416069483, -0.205479251044958 + 0.0423970094653175*I, -0.205479251044958 - 0.0423970094653175*I, 0.800128289340514], [-0.205479251044958 + 0.0423970094653175*I, 4.3055589180244 - 0.202840978037065*I, 0.366757024138977, 0.498109772362016 - 0.16987920874361*I], [-0.205479251044958 - 0.0423970094653175*I, 0.366757024138977, 4.3055589180244 + 0.202840978037065*I, 0.498109772362016 + 0.16987920874361*I], [0.800128289340514, 0.498109772362016 - 0.16987920874361*I, 0.498109772362016 + 0.16987920874361*I, 6.26951599042788]])\n",
      "subbed symm:  Matrix([[7.95639136063655, 0.56885854285768 - 1.90833547311423*I, 0.56885854285768 + 1.90833547311423*I, -0.984706769589768], [0.56885854285768 - 1.90833547311423*I, 3.13927760395566 - 0.476053521158671*I, 0.983600527683816, 0.0907985908673125 - 0.056239250348669*I], [0.56885854285768 + 1.90833547311423*I, 0.983600527683816, 3.13927760395566 + 0.476053521158671*I, 0.0907985908673125 + 0.056239250348669*I], [-0.984706769589768, 0.0907985908673125 - 0.056239250348669*I, 0.0907985908673125 + 0.056239250348669*I, 1.79399966829983]])\n",
      "subbed symm:  Matrix([[4.82929381929820, 0.437982506127023 - 2.73433334054231*I, 0.437982506127023 + 2.73433334054231*I, -0.353279452837477], [0.437982506127023 - 2.73433334054231*I, 3.13404280981122 - 0.958678963331298*I, 1.29187739742346, -0.0328020706891757 - 1.67467178331117*I], [0.437982506127023 + 2.73433334054231*I, 1.29187739742346, 3.13404280981122 + 0.958678963331298*I, -0.0328020706891757 + 1.67467178331117*I], [-0.353279452837477, -0.0328020706891757 - 1.67467178331117*I, -0.0328020706891757 + 1.67467178331117*I, 3.50489675816130]])\n"
     ]
    },
    {
     "data": {
      "text/plain": [
       "{'(0.219268651658843, 0.332904540806710, 0.146658833191672, -0.794217712342028)': 8.43491068052467,\n",
       " '(-0.147378271892507, -0.0189453227507205, 0.365063100032232, -0.448992449976620)': 7.93906327017170,\n",
       " '(0.0257255860976131, -0.225977466313379, 0.301306822478718, -0.562384116192942)': 7.85485865731066 - 0.e-63*I,\n",
       " '(-0.153747027691418, -0.798439296999759, -0.0176397900041277, 0.512801024156750)': 7.98161138821280,\n",
       " '(0.406907919091983, -0.178937578971443, 0.729552842495088, -0.442876179510025)': 8.73135497107899 + 0.e-65*I,\n",
       " '(0.213672983501562, 0.0236322313771547, 0.407030302404499, 0.712986784629745)': 8.06396873007625 + 0.e-66*I,\n",
       " '(0.478579411081613, -0.0162812089506051, -0.350553054797578, 0.409388254420636)': 7.87302134293638 + 0.e-62*I,\n",
       " '(0.384731183366232, 0.0344919786051264, -0.499136748787901, -0.441006485105292)': 8.86784111638018,\n",
       " '(-0.857997821050844, 0.142162608149696, 0.461354364471139, -0.128895682474093)': 8.40423073251373 + 0.e-64*I,\n",
       " '(-0.0487767083803278, 0.404549194806173, 0.257221475377625, 0.209248361140688)': 8.14405818742924 + 0.e-65*I,\n",
       " '(-0.470089714093189, -0.290355905281532, -0.661359166526609, -0.421964406166257)': 8.16054346228229 - 0.e-64*I,\n",
       " '(-0.173948125286103, 0.450801245644800, -0.574535020948969, -0.0300807150239136)': 7.98076157285984 - 0.e-64*I,\n",
       " '(-0.516625026325883, -0.122570332219211, 0.808228260009703, -0.253200805190457)': 8.33475955264071 - 0.e-64*I,\n",
       " '(-0.290518910997581, -0.356188151461156, -0.569504321004556, -0.680085363200183)': 8.18376517848243 - 0.e-64*I,\n",
       " '(0.554068329429853, -0.00277205826744554, -0.273448879592184, -0.697058336465134)': 8.68934352931533 + 0.e-63*I,\n",
       " '(0.104448303005590, 0.439215114113503, 0.570548733355813, -0.282622521912986)': 8.06919352087996 - 0.e-63*I,\n",
       " '(-0.268294800920896, 0.260191629638166, -0.194473834808469, -0.383077079857873)': 7.98331066684901 - 0.e-63*I,\n",
       " '(0.483132002139071, 0.155561804678771, -0.612312244536623, -0.409974371809806)': 8.81848737724827 + 0.e-65*I,\n",
       " '(-0.0103556024872079, -0.187885575449525, 0.0884077891293006, 0.175269885918456)': 7.80818442574619 - 0.e-64*I,\n",
       " '(-0.225017703957734, 0.367772794618766, -0.195135389769141, 0.326312812817196)': 8.21596425338155 + 0.e-63*I}"
      ]
     },
     "execution_count": 56,
     "metadata": {},
     "output_type": "execute_result"
    }
   ],
   "source": [
    "generate_realignment_scores_bell_basis(rhotilde_t_rhotilde, rx, ry, rz, sx, sy, sz)"
   ]
  },
  {
   "cell_type": "code",
   "execution_count": null,
   "id": "fab0f5c3-0b55-4ded-9a12-aed507cf2f96",
   "metadata": {},
   "outputs": [],
   "source": []
  }
 ],
 "metadata": {
  "kernelspec": {
   "display_name": "Python 3 (ipykernel)",
   "language": "python",
   "name": "python3"
  },
  "language_info": {
   "codemirror_mode": {
    "name": "ipython",
    "version": 3
   },
   "file_extension": ".py",
   "mimetype": "text/x-python",
   "name": "python",
   "nbconvert_exporter": "python",
   "pygments_lexer": "ipython3",
   "version": "3.13.2"
  }
 },
 "nbformat": 4,
 "nbformat_minor": 5
}
