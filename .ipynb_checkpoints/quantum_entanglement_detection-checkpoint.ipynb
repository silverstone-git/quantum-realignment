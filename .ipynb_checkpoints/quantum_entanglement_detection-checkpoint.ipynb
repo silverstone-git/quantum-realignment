{
 "cells": [
  {
   "cell_type": "code",
   "execution_count": 2,
   "id": "f1ebde23-281f-4776-af66-0d5673ee9144",
   "metadata": {},
   "outputs": [],
   "source": [
    "from sympy.physics.quantum.qubit import Qubit\n",
    "from sympy import Matrix, sqrt, symbols, simplify\n",
    "import sympy as sp\n",
    "from IPython.display import display, Latex\n",
    "from itertools import product"
   ]
  },
  {
   "cell_type": "code",
   "execution_count": 3,
   "id": "272a8237-d2eb-4c5c-8dec-8d368fad3740",
   "metadata": {},
   "outputs": [],
   "source": [
    "from sympy.physics.quantum import Ket, Bra, Dagger, represent, TensorProduct"
   ]
  },
  {
   "cell_type": "code",
   "execution_count": 1,
   "id": "0eb6c08e-d9f5-4786-a18b-8be39a56f458",
   "metadata": {},
   "outputs": [],
   "source": [
    "from sympy.physics.matrices import msigma"
   ]
  },
  {
   "cell_type": "code",
   "execution_count": 4,
   "id": "fb7cd078-21f0-4e98-bc28-22f3f5cb564a",
   "metadata": {},
   "outputs": [],
   "source": [
    "import random\n",
    "import math\n",
    "import cmath"
   ]
  },
  {
   "cell_type": "code",
   "execution_count": 5,
   "id": "e78ec723-4cdf-4ae9-9d6a-a2531203c2ef",
   "metadata": {},
   "outputs": [],
   "source": [
    "import numpy as np"
   ]
  },
  {
   "cell_type": "code",
   "execution_count": 6,
   "id": "36f66757-7fb1-4bd4-b4d7-874ca5532dd8",
   "metadata": {},
   "outputs": [],
   "source": [
    "import itertools"
   ]
  },
  {
   "cell_type": "code",
   "execution_count": 5,
   "id": "c5f0d957-3c79-4f98-8320-46faa4450c82",
   "metadata": {},
   "outputs": [
    {
     "data": {
      "text/latex": [
       "$\\displaystyle α α^{\\dagger} {\\left|0\\right\\rangle } {\\left\\langle 0\\right|} + α β^{\\dagger} {\\left|0\\right\\rangle } {\\left\\langle 1\\right|} + β α^{\\dagger} {\\left|1\\right\\rangle } {\\left\\langle 0\\right|} + β β^{\\dagger} {\\left|1\\right\\rangle } {\\left\\langle 1\\right|}$"
      ],
      "text/plain": [
       "α*Dagger(α)*|0>*<0| + α*Dagger(β)*|0>*<1| + β*Dagger(α)*|1>*<0| + β*Dagger(β)*|1>*<1|"
      ]
     },
     "execution_count": 5,
     "metadata": {},
     "output_type": "execute_result"
    }
   ],
   "source": [
    "# Step 1: Symbols define karein\n",
    "alpha, beta = symbols('α β')\n",
    "\n",
    "# Step 2: Quantum state banayein (example: superposition state)\n",
    "psi = alpha * Qubit('0') + beta * Qubit('1')\n",
    "\n",
    "# Step 3: Density matrix calculate karein\n",
    "rho = psi * Dagger(psi)\n",
    "\n",
    "# Step 4: Matrix ko expand aur simplify karein\n",
    "density_matrix = rho.doit().expand()\n",
    "simplified_matrix = simplify(density_matrix)\n",
    "simplified_matrix"
   ]
  },
  {
   "cell_type": "code",
   "execution_count": 6,
   "id": "075b5e96-6425-4156-b6e4-37acf3a7e54a",
   "metadata": {},
   "outputs": [
    {
     "data": {
      "text/latex": [
       "$\\displaystyle \\left[\\begin{matrix}α α^{\\dagger} & α β^{\\dagger}\\\\β α^{\\dagger} & β β^{\\dagger}\\end{matrix}\\right]$"
      ],
      "text/plain": [
       "Matrix([\n",
       "[α*Dagger(α), α*Dagger(β)],\n",
       "[β*Dagger(α), β*Dagger(β)]])"
      ]
     },
     "execution_count": 6,
     "metadata": {},
     "output_type": "execute_result"
    }
   ],
   "source": [
    "res = represent(simplified_matrix.doit(), basis_set=[Qubit('0'), Qubit('1')])\n",
    "res\n",
    "\n",
    "# this is for one qubit, lets do for 2"
   ]
  },
  {
   "cell_type": "code",
   "execution_count": 7,
   "id": "b3c7d4a7-7cfd-4047-b02a-92b4d9b2a05a",
   "metadata": {},
   "outputs": [],
   "source": [
    "def get_rho_bipartite(alpha, beta, gamma, delta):\n",
    "    psi = alpha * TensorProduct(Qubit(0), Qubit(0)) + beta * TensorProduct(Qubit(0), Qubit(1)) + gamma * TensorProduct(Qubit(1), Qubit(0)) + delta * TensorProduct(Qubit(1), Qubit(1))\n",
    "    \n",
    "    rho = psi * Dagger(psi)\n",
    "    density_matrix = rho.doit().expand()\n",
    "    simplified_matrix = simplify(density_matrix)\n",
    "    print(simplified_matrix)\n",
    "    \n",
    "    rho = represent(simplified_matrix.doit(), basis_set=[Qubit('0'), Qubit('1')])\n",
    "    return rho"
   ]
  },
  {
   "cell_type": "code",
   "execution_count": 8,
   "id": "ac2153d6-004f-483c-8352-83b01f76d4a0",
   "metadata": {},
   "outputs": [],
   "source": [
    "dA, dB = 2, 2"
   ]
  },
  {
   "cell_type": "code",
   "execution_count": 9,
   "id": "1b69cfe3-af08-4d0d-a05b-102e1a37f02c",
   "metadata": {},
   "outputs": [],
   "source": [
    "def permute_dims(tensor, perm):\n",
    "    \"\"\"\n",
    "    Permutes the dimensions of a sympy MutableDenseNDimArray according to the given permutation tuple.\n",
    "    \"\"\"\n",
    "    old_shape = tensor.shape\n",
    "    new_shape = tuple(old_shape[i] for i in perm)\n",
    "    new_tensor = sp.MutableDenseNDimArray.zeros(*new_shape)\n",
    "    for new_index in product(*[range(s) for s in new_shape]):\n",
    "        # Compute the corresponding old index.\n",
    "        old_index = [None] * len(new_index)\n",
    "        for new_axis, old_axis in enumerate(perm):\n",
    "            old_index[old_axis] = new_index[new_axis]\n",
    "        new_tensor[new_index] = tensor[tuple(old_index)]\n",
    "    return new_tensor\n"
   ]
  },
  {
   "cell_type": "code",
   "execution_count": 10,
   "id": "648a69b5-067a-47a2-a265-d8b4f8767b64",
   "metadata": {},
   "outputs": [],
   "source": [
    "def get_rho_t_rho(M):\n",
    "    \"\"\"\n",
    "    Compute the singular values of matrix M by computing the eigenvalues of M^T*M.\n",
    "    \"\"\"\n",
    "    MTM = M.T * M\n",
    "    display(Latex(r\"$$\" + sp.latex(MTM) + r\"$$\"))\n",
    "    return MTM\n",
    "    # eig_dict = MTM.eigenvals()\n",
    "    # print(\"eig_dict: \", eig_dict)\n",
    "    # singular_vals = []\n",
    "    # for eigenvalue, multiplicity in eig_dict.items():\n",
    "    #     # Simplify the eigenvalue for a cleaner expression.\n",
    "    #     eigenvalue = sp.simplify(eigenvalue)\n",
    "    #     print(\"current eig: \", eigenvalue)\n",
    "    #     print(\"multiplicity: \", multiplicity)\n",
    "    #     # Assume eigenvalues are nonnegative; take the square root.\n",
    "    #     s_val = sp.sqrt(eigenvalue)\n",
    "    #     singular_vals.extend([sp.simplify(s_val)] * multiplicity)\n",
    "    # return singular_vals\n",
    "\n"
   ]
  },
  {
   "cell_type": "code",
   "execution_count": 11,
   "id": "0170d857-1d59-44b4-a693-4097c4388eba",
   "metadata": {},
   "outputs": [],
   "source": [
    "def compute_entanglement_measures_symbolic(rho, dA, dB, display_output=True):\n",
    "    \"\"\"\n",
    "    Computes entanglement measures for a bipartite system (dA x dB).\n",
    "    \"\"\"\n",
    "    N = dA * dB\n",
    "    assert rho.shape[0] == N, \"Product dA*dB must equal the matrix dimension.\"\n",
    "    \n",
    "    if display_output:\n",
    "        display(Latex(r\"Density matrix $\\rho$: \"))\n",
    "        display(Latex(r\"$$\" + sp.latex(rho) + r\"$$\"))\n",
    "    \n",
    "    eig_dict_input = rho.eigenvals()\n",
    "    eigenvals_input = [sp.simplify(ev) for ev, mult in eig_dict_input.items() for _ in range(mult)]\n",
    "    if display_output:\n",
    "        display(Latex(r\"Eigenvalues of $\\rho$: \"))\n",
    "        display(Latex(r\"$$\" + sp.latex(eigenvals_input) + r\"$$\"))\n",
    "    \n",
    "    # Partial Transpose\n",
    "    rho_tensor = sp.MutableDenseNDimArray(rho, (dA, dB, dA, dB))\n",
    "    rho_pt_tensor = permute_dims(rho_tensor, (0, 3, 2, 1))\n",
    "    rho_pt = sp.Matrix(rho_pt_tensor.reshape(N, N))\n",
    "    if display_output:\n",
    "        display(Latex(r\"Partial transpose $\\rho^{T_B}$: \"))\n",
    "        display(Latex(r\"$$\" + sp.latex(rho_pt) + r\"$$\"))\n",
    "    \n",
    "    eig_dict_pt = rho_pt.eigenvals()\n",
    "    eigenvals_pt = [sp.simplify(ev) for ev, mult in eig_dict_pt.items() for _ in range(mult)]\n",
    "    if display_output:\n",
    "        display(Latex(r\"Eigenvalues of $\\rho^{T_B}$: \"))\n",
    "        display(Latex(r\"$$\" + sp.latex(eigenvals_pt) + r\"$$\"))\n",
    "    \n",
    "    det_rho_pt = sp.simplify(rho_pt.det())\n",
    "    if display_output:\n",
    "        display(Latex(r\"Determinant of $\\rho^{T_B}$: \"))\n",
    "        display(Latex(r\"$$\" + sp.latex(det_rho_pt) + r\"$$\"))\n",
    "    \n",
    "    # Realignment\n",
    "    rho_realigned_tensor = permute_dims(rho_tensor, (0, 2, 1, 3))\n",
    "    realigned = sp.Matrix(rho_realigned_tensor.reshape(dA*dA, dB*dB))\n",
    "    if display_output:\n",
    "        display(Latex(r\"Realigned matrix: \"))\n",
    "        display(Latex(r\"$$\" + sp.latex(realigned) + r\"$$\"))\n",
    "    \n",
    "    rhotilde_t_rhotilde = get_rho_t_rho(realigned)\n",
    "    if display_output:\n",
    "        display(Latex(r\"Symmetric for realigned: \"))\n",
    "        display(Latex(r\"$$\" + sp.latex(rhotilde_t_rhotilde) + r\"$$\"))\n",
    "    \n",
    "    # sum_sv = sp.simplify(sum(singular_vals))\n",
    "    # if display_output:\n",
    "    #     display(Latex(r\"Sum of singular values: \"))\n",
    "    #     display(Latex(r\"$$\" + sp.latex(sum_sv) + r\"$$\"))\n",
    "    \n",
    "    # product_sv = sp.simplify(sp.Mul(*singular_vals))\n",
    "    # if display_output:\n",
    "    #     display(Latex(r\"Product of singular values: \"))\n",
    "    #     display(Latex(r\"$$\" + sp.latex(product_sv) + r\"$$\"))\n",
    "    \n",
    "    # det_realigned = sp.simplify(realigned.det())\n",
    "    # if display_output:\n",
    "    #     display(Latex(r\"Determinant of the realigned matrix: \"))\n",
    "    #     display(Latex(r\"$$\" + sp.latex(det_realigned) + r\"$$\"))\n",
    "    \n",
    "    # product_eigenvals = sp.simplify(sp.Mul(*eigenvals_pt))\n",
    "    # if display_output:\n",
    "    #     display(Latex(r\"Product of eigenvalues of $\\rho^{T_B}$: \"))\n",
    "    #     display(Latex(r\"$$\" + sp.latex(product_eigenvals) + r\"$$\"))\n",
    "    \n",
    "    #return eigenvals_input, eigenvals_pt, singular_vals, sum_sv, product_sv, product_eigenvals, det_rho_pt, det_realigned\n",
    "    return realigned, rhotilde_t_rhotilde\n"
   ]
  },
  {
   "cell_type": "code",
   "execution_count": 12,
   "id": "fccb2585-90a4-41e3-af95-7aa19f9eabf7",
   "metadata": {},
   "outputs": [
    {
     "name": "stdout",
     "output_type": "stream",
     "text": [
      "α*Dagger(α)*|0>x|0>*<0|x<0| + α*Dagger(β)*|0>x|0>*<0|x<1| + α*Dagger(γ)*|0>x|0>*<1|x<0| + α*Dagger(δ)*|0>x|0>*<1|x<1| + β*Dagger(α)*|0>x|1>*<0|x<0| + β*Dagger(β)*|0>x|1>*<0|x<1| + β*Dagger(γ)*|0>x|1>*<1|x<0| + β*Dagger(δ)*|0>x|1>*<1|x<1| + γ*Dagger(α)*|1>x|0>*<0|x<0| + γ*Dagger(β)*|1>x|0>*<0|x<1| + γ*Dagger(γ)*|1>x|0>*<1|x<0| + γ*Dagger(δ)*|1>x|0>*<1|x<1| + δ*Dagger(α)*|1>x|1>*<0|x<0| + δ*Dagger(β)*|1>x|1>*<0|x<1| + δ*Dagger(γ)*|1>x|1>*<1|x<0| + δ*Dagger(δ)*|1>x|1>*<1|x<1|\n"
     ]
    },
    {
     "data": {
      "text/latex": [
       "Density matrix $\\rho$: "
      ],
      "text/plain": [
       "<IPython.core.display.Latex object>"
      ]
     },
     "metadata": {},
     "output_type": "display_data"
    },
    {
     "data": {
      "text/latex": [
       "$$\\left[\\begin{matrix}α α^{\\dagger} & α β^{\\dagger} & α γ^{\\dagger} & α δ^{\\dagger}\\\\β α^{\\dagger} & β β^{\\dagger} & β γ^{\\dagger} & β δ^{\\dagger}\\\\γ α^{\\dagger} & γ β^{\\dagger} & γ γ^{\\dagger} & γ δ^{\\dagger}\\\\δ α^{\\dagger} & δ β^{\\dagger} & δ γ^{\\dagger} & δ δ^{\\dagger}\\end{matrix}\\right]$$"
      ],
      "text/plain": [
       "<IPython.core.display.Latex object>"
      ]
     },
     "metadata": {},
     "output_type": "display_data"
    },
    {
     "data": {
      "text/latex": [
       "Eigenvalues of $\\rho$: "
      ],
      "text/plain": [
       "<IPython.core.display.Latex object>"
      ]
     },
     "metadata": {},
     "output_type": "display_data"
    },
    {
     "data": {
      "text/latex": [
       "$$\\left[ α α^{\\dagger} + β β^{\\dagger} + γ γ^{\\dagger} + δ δ^{\\dagger}, \\  0, \\  0, \\  0\\right]$$"
      ],
      "text/plain": [
       "<IPython.core.display.Latex object>"
      ]
     },
     "metadata": {},
     "output_type": "display_data"
    },
    {
     "data": {
      "text/latex": [
       "Partial transpose $\\rho^{T_B}$: "
      ],
      "text/plain": [
       "<IPython.core.display.Latex object>"
      ]
     },
     "metadata": {},
     "output_type": "display_data"
    },
    {
     "data": {
      "text/latex": [
       "$$\\left[\\begin{matrix}α α^{\\dagger} & β α^{\\dagger} & α γ^{\\dagger} & β γ^{\\dagger}\\\\α β^{\\dagger} & β β^{\\dagger} & α δ^{\\dagger} & β δ^{\\dagger}\\\\γ α^{\\dagger} & δ α^{\\dagger} & γ γ^{\\dagger} & δ γ^{\\dagger}\\\\γ β^{\\dagger} & δ β^{\\dagger} & γ δ^{\\dagger} & δ δ^{\\dagger}\\end{matrix}\\right]$$"
      ],
      "text/plain": [
       "<IPython.core.display.Latex object>"
      ]
     },
     "metadata": {},
     "output_type": "display_data"
    },
    {
     "data": {
      "text/latex": [
       "Eigenvalues of $\\rho^{T_B}$: "
      ],
      "text/plain": [
       "<IPython.core.display.Latex object>"
      ]
     },
     "metadata": {},
     "output_type": "display_data"
    },
    {
     "data": {
      "text/latex": [
       "$$\\left[ - \\sqrt{α δ α^{\\dagger} δ^{\\dagger} - α δ β^{\\dagger} γ^{\\dagger} - β γ α^{\\dagger} δ^{\\dagger} + β γ β^{\\dagger} γ^{\\dagger}}, \\  \\sqrt{α δ α^{\\dagger} δ^{\\dagger} - α δ β^{\\dagger} γ^{\\dagger} - β γ α^{\\dagger} δ^{\\dagger} + β γ β^{\\dagger} γ^{\\dagger}}, \\  \\frac{α α^{\\dagger}}{2} + \\frac{β β^{\\dagger}}{2} + \\frac{γ γ^{\\dagger}}{2} + \\frac{δ δ^{\\dagger}}{2} - \\frac{\\sqrt{α^{2} \\left(α^{\\dagger}\\right)^{2} + 2 α β α^{\\dagger} β^{\\dagger} + 2 α γ α^{\\dagger} γ^{\\dagger} - 2 α δ α^{\\dagger} δ^{\\dagger} + 4 α δ β^{\\dagger} γ^{\\dagger} + β^{2} \\left(β^{\\dagger}\\right)^{2} + 4 β γ α^{\\dagger} δ^{\\dagger} - 2 β γ β^{\\dagger} γ^{\\dagger} + 2 β δ β^{\\dagger} δ^{\\dagger} + γ^{2} \\left(γ^{\\dagger}\\right)^{2} + 2 γ δ γ^{\\dagger} δ^{\\dagger} + δ^{2} \\left(δ^{\\dagger}\\right)^{2}}}{2}, \\  \\frac{α α^{\\dagger}}{2} + \\frac{β β^{\\dagger}}{2} + \\frac{γ γ^{\\dagger}}{2} + \\frac{δ δ^{\\dagger}}{2} + \\frac{\\sqrt{α^{2} \\left(α^{\\dagger}\\right)^{2} + 2 α β α^{\\dagger} β^{\\dagger} + 2 α γ α^{\\dagger} γ^{\\dagger} - 2 α δ α^{\\dagger} δ^{\\dagger} + 4 α δ β^{\\dagger} γ^{\\dagger} + β^{2} \\left(β^{\\dagger}\\right)^{2} + 4 β γ α^{\\dagger} δ^{\\dagger} - 2 β γ β^{\\dagger} γ^{\\dagger} + 2 β δ β^{\\dagger} δ^{\\dagger} + γ^{2} \\left(γ^{\\dagger}\\right)^{2} + 2 γ δ γ^{\\dagger} δ^{\\dagger} + δ^{2} \\left(δ^{\\dagger}\\right)^{2}}}{2}\\right]$$"
      ],
      "text/plain": [
       "<IPython.core.display.Latex object>"
      ]
     },
     "metadata": {},
     "output_type": "display_data"
    },
    {
     "data": {
      "text/latex": [
       "Determinant of $\\rho^{T_B}$: "
      ],
      "text/plain": [
       "<IPython.core.display.Latex object>"
      ]
     },
     "metadata": {},
     "output_type": "display_data"
    },
    {
     "data": {
      "text/latex": [
       "$$- α^{2} δ^{2} \\left(α^{\\dagger}\\right)^{2} \\left(δ^{\\dagger}\\right)^{2} + 2 α^{2} δ^{2} α^{\\dagger} β^{\\dagger} γ^{\\dagger} δ^{\\dagger} - α^{2} δ^{2} \\left(β^{\\dagger}\\right)^{2} \\left(γ^{\\dagger}\\right)^{2} + 2 α β γ δ \\left(α^{\\dagger}\\right)^{2} \\left(δ^{\\dagger}\\right)^{2} - 4 α β γ δ α^{\\dagger} β^{\\dagger} γ^{\\dagger} δ^{\\dagger} + 2 α β γ δ \\left(β^{\\dagger}\\right)^{2} \\left(γ^{\\dagger}\\right)^{2} - β^{2} γ^{2} \\left(α^{\\dagger}\\right)^{2} \\left(δ^{\\dagger}\\right)^{2} + 2 β^{2} γ^{2} α^{\\dagger} β^{\\dagger} γ^{\\dagger} δ^{\\dagger} - β^{2} γ^{2} \\left(β^{\\dagger}\\right)^{2} \\left(γ^{\\dagger}\\right)^{2}$$"
      ],
      "text/plain": [
       "<IPython.core.display.Latex object>"
      ]
     },
     "metadata": {},
     "output_type": "display_data"
    },
    {
     "data": {
      "text/latex": [
       "Realigned matrix: "
      ],
      "text/plain": [
       "<IPython.core.display.Latex object>"
      ]
     },
     "metadata": {},
     "output_type": "display_data"
    },
    {
     "data": {
      "text/latex": [
       "$$\\left[\\begin{matrix}α α^{\\dagger} & α β^{\\dagger} & β α^{\\dagger} & β β^{\\dagger}\\\\α γ^{\\dagger} & α δ^{\\dagger} & β γ^{\\dagger} & β δ^{\\dagger}\\\\γ α^{\\dagger} & γ β^{\\dagger} & δ α^{\\dagger} & δ β^{\\dagger}\\\\γ γ^{\\dagger} & γ δ^{\\dagger} & δ γ^{\\dagger} & δ δ^{\\dagger}\\end{matrix}\\right]$$"
      ],
      "text/plain": [
       "<IPython.core.display.Latex object>"
      ]
     },
     "metadata": {},
     "output_type": "display_data"
    },
    {
     "data": {
      "text/latex": [
       "$$\\left[\\begin{matrix}α^{2} \\left(α^{\\dagger}\\right)^{2} + α^{2} \\left(γ^{\\dagger}\\right)^{2} + γ^{2} \\left(α^{\\dagger}\\right)^{2} + γ^{2} \\left(γ^{\\dagger}\\right)^{2} & α^{2} α^{\\dagger} β^{\\dagger} + α^{2} γ^{\\dagger} δ^{\\dagger} + γ^{2} α^{\\dagger} β^{\\dagger} + γ^{2} γ^{\\dagger} δ^{\\dagger} & α β \\left(α^{\\dagger}\\right)^{2} + α β \\left(γ^{\\dagger}\\right)^{2} + γ δ \\left(α^{\\dagger}\\right)^{2} + γ δ \\left(γ^{\\dagger}\\right)^{2} & α β α^{\\dagger} β^{\\dagger} + α β γ^{\\dagger} δ^{\\dagger} + γ δ α^{\\dagger} β^{\\dagger} + γ δ γ^{\\dagger} δ^{\\dagger}\\\\α^{2} α^{\\dagger} β^{\\dagger} + α^{2} γ^{\\dagger} δ^{\\dagger} + γ^{2} α^{\\dagger} β^{\\dagger} + γ^{2} γ^{\\dagger} δ^{\\dagger} & α^{2} \\left(β^{\\dagger}\\right)^{2} + α^{2} \\left(δ^{\\dagger}\\right)^{2} + γ^{2} \\left(β^{\\dagger}\\right)^{2} + γ^{2} \\left(δ^{\\dagger}\\right)^{2} & α β α^{\\dagger} β^{\\dagger} + α β γ^{\\dagger} δ^{\\dagger} + γ δ α^{\\dagger} β^{\\dagger} + γ δ γ^{\\dagger} δ^{\\dagger} & α β \\left(β^{\\dagger}\\right)^{2} + α β \\left(δ^{\\dagger}\\right)^{2} + γ δ \\left(β^{\\dagger}\\right)^{2} + γ δ \\left(δ^{\\dagger}\\right)^{2}\\\\α β \\left(α^{\\dagger}\\right)^{2} + α β \\left(γ^{\\dagger}\\right)^{2} + γ δ \\left(α^{\\dagger}\\right)^{2} + γ δ \\left(γ^{\\dagger}\\right)^{2} & α β α^{\\dagger} β^{\\dagger} + α β γ^{\\dagger} δ^{\\dagger} + γ δ α^{\\dagger} β^{\\dagger} + γ δ γ^{\\dagger} δ^{\\dagger} & β^{2} \\left(α^{\\dagger}\\right)^{2} + β^{2} \\left(γ^{\\dagger}\\right)^{2} + δ^{2} \\left(α^{\\dagger}\\right)^{2} + δ^{2} \\left(γ^{\\dagger}\\right)^{2} & β^{2} α^{\\dagger} β^{\\dagger} + β^{2} γ^{\\dagger} δ^{\\dagger} + δ^{2} α^{\\dagger} β^{\\dagger} + δ^{2} γ^{\\dagger} δ^{\\dagger}\\\\α β α^{\\dagger} β^{\\dagger} + α β γ^{\\dagger} δ^{\\dagger} + γ δ α^{\\dagger} β^{\\dagger} + γ δ γ^{\\dagger} δ^{\\dagger} & α β \\left(β^{\\dagger}\\right)^{2} + α β \\left(δ^{\\dagger}\\right)^{2} + γ δ \\left(β^{\\dagger}\\right)^{2} + γ δ \\left(δ^{\\dagger}\\right)^{2} & β^{2} α^{\\dagger} β^{\\dagger} + β^{2} γ^{\\dagger} δ^{\\dagger} + δ^{2} α^{\\dagger} β^{\\dagger} + δ^{2} γ^{\\dagger} δ^{\\dagger} & β^{2} \\left(β^{\\dagger}\\right)^{2} + β^{2} \\left(δ^{\\dagger}\\right)^{2} + δ^{2} \\left(β^{\\dagger}\\right)^{2} + δ^{2} \\left(δ^{\\dagger}\\right)^{2}\\end{matrix}\\right]$$"
      ],
      "text/plain": [
       "<IPython.core.display.Latex object>"
      ]
     },
     "metadata": {},
     "output_type": "display_data"
    },
    {
     "data": {
      "text/latex": [
       "Symmetric for realigned: "
      ],
      "text/plain": [
       "<IPython.core.display.Latex object>"
      ]
     },
     "metadata": {},
     "output_type": "display_data"
    },
    {
     "data": {
      "text/latex": [
       "$$\\left[\\begin{matrix}α^{2} \\left(α^{\\dagger}\\right)^{2} + α^{2} \\left(γ^{\\dagger}\\right)^{2} + γ^{2} \\left(α^{\\dagger}\\right)^{2} + γ^{2} \\left(γ^{\\dagger}\\right)^{2} & α^{2} α^{\\dagger} β^{\\dagger} + α^{2} γ^{\\dagger} δ^{\\dagger} + γ^{2} α^{\\dagger} β^{\\dagger} + γ^{2} γ^{\\dagger} δ^{\\dagger} & α β \\left(α^{\\dagger}\\right)^{2} + α β \\left(γ^{\\dagger}\\right)^{2} + γ δ \\left(α^{\\dagger}\\right)^{2} + γ δ \\left(γ^{\\dagger}\\right)^{2} & α β α^{\\dagger} β^{\\dagger} + α β γ^{\\dagger} δ^{\\dagger} + γ δ α^{\\dagger} β^{\\dagger} + γ δ γ^{\\dagger} δ^{\\dagger}\\\\α^{2} α^{\\dagger} β^{\\dagger} + α^{2} γ^{\\dagger} δ^{\\dagger} + γ^{2} α^{\\dagger} β^{\\dagger} + γ^{2} γ^{\\dagger} δ^{\\dagger} & α^{2} \\left(β^{\\dagger}\\right)^{2} + α^{2} \\left(δ^{\\dagger}\\right)^{2} + γ^{2} \\left(β^{\\dagger}\\right)^{2} + γ^{2} \\left(δ^{\\dagger}\\right)^{2} & α β α^{\\dagger} β^{\\dagger} + α β γ^{\\dagger} δ^{\\dagger} + γ δ α^{\\dagger} β^{\\dagger} + γ δ γ^{\\dagger} δ^{\\dagger} & α β \\left(β^{\\dagger}\\right)^{2} + α β \\left(δ^{\\dagger}\\right)^{2} + γ δ \\left(β^{\\dagger}\\right)^{2} + γ δ \\left(δ^{\\dagger}\\right)^{2}\\\\α β \\left(α^{\\dagger}\\right)^{2} + α β \\left(γ^{\\dagger}\\right)^{2} + γ δ \\left(α^{\\dagger}\\right)^{2} + γ δ \\left(γ^{\\dagger}\\right)^{2} & α β α^{\\dagger} β^{\\dagger} + α β γ^{\\dagger} δ^{\\dagger} + γ δ α^{\\dagger} β^{\\dagger} + γ δ γ^{\\dagger} δ^{\\dagger} & β^{2} \\left(α^{\\dagger}\\right)^{2} + β^{2} \\left(γ^{\\dagger}\\right)^{2} + δ^{2} \\left(α^{\\dagger}\\right)^{2} + δ^{2} \\left(γ^{\\dagger}\\right)^{2} & β^{2} α^{\\dagger} β^{\\dagger} + β^{2} γ^{\\dagger} δ^{\\dagger} + δ^{2} α^{\\dagger} β^{\\dagger} + δ^{2} γ^{\\dagger} δ^{\\dagger}\\\\α β α^{\\dagger} β^{\\dagger} + α β γ^{\\dagger} δ^{\\dagger} + γ δ α^{\\dagger} β^{\\dagger} + γ δ γ^{\\dagger} δ^{\\dagger} & α β \\left(β^{\\dagger}\\right)^{2} + α β \\left(δ^{\\dagger}\\right)^{2} + γ δ \\left(β^{\\dagger}\\right)^{2} + γ δ \\left(δ^{\\dagger}\\right)^{2} & β^{2} α^{\\dagger} β^{\\dagger} + β^{2} γ^{\\dagger} δ^{\\dagger} + δ^{2} α^{\\dagger} β^{\\dagger} + δ^{2} γ^{\\dagger} δ^{\\dagger} & β^{2} \\left(β^{\\dagger}\\right)^{2} + β^{2} \\left(δ^{\\dagger}\\right)^{2} + δ^{2} \\left(β^{\\dagger}\\right)^{2} + δ^{2} \\left(δ^{\\dagger}\\right)^{2}\\end{matrix}\\right]$$"
      ],
      "text/plain": [
       "<IPython.core.display.Latex object>"
      ]
     },
     "metadata": {},
     "output_type": "display_data"
    }
   ],
   "source": [
    "alpha, beta, gamma, delta= symbols('α β γ δ')\n",
    "realigned, rhotilde_t_rhotilde= compute_entanglement_measures_symbolic(get_rho_bipartite(alpha, beta, gamma, delta), dA, dB, True)"
   ]
  },
  {
   "cell_type": "code",
   "execution_count": 44,
   "id": "f4255535-6c21-4aaa-a0a0-addbc15dcb83",
   "metadata": {},
   "outputs": [
    {
     "data": {
      "text/latex": [
       "$\\displaystyle \\left[\\begin{matrix}α α^{\\dagger} & α β^{\\dagger} & β α^{\\dagger} & β β^{\\dagger}\\\\α γ^{\\dagger} & α δ^{\\dagger} & β γ^{\\dagger} & β δ^{\\dagger}\\\\γ α^{\\dagger} & γ β^{\\dagger} & δ α^{\\dagger} & δ β^{\\dagger}\\\\γ γ^{\\dagger} & γ δ^{\\dagger} & δ γ^{\\dagger} & δ δ^{\\dagger}\\end{matrix}\\right]$"
      ],
      "text/plain": [
       "Matrix([\n",
       "[α*Dagger(α), α*Dagger(β), β*Dagger(α), β*Dagger(β)],\n",
       "[α*Dagger(γ), α*Dagger(δ), β*Dagger(γ), β*Dagger(δ)],\n",
       "[γ*Dagger(α), γ*Dagger(β), δ*Dagger(α), δ*Dagger(β)],\n",
       "[γ*Dagger(γ), γ*Dagger(δ), δ*Dagger(γ), δ*Dagger(δ)]])"
      ]
     },
     "execution_count": 44,
     "metadata": {},
     "output_type": "execute_result"
    }
   ],
   "source": [
    "realigned"
   ]
  },
  {
   "cell_type": "code",
   "execution_count": 45,
   "id": "52ee25d7-7bc5-4443-a903-fdc63fb14ac0",
   "metadata": {},
   "outputs": [
    {
     "data": {
      "text/latex": [
       "$\\displaystyle \\left[\\begin{matrix}α^{2} \\left(α^{\\dagger}\\right)^{2} + α^{2} \\left(γ^{\\dagger}\\right)^{2} + γ^{2} \\left(α^{\\dagger}\\right)^{2} + γ^{2} \\left(γ^{\\dagger}\\right)^{2} & α^{2} α^{\\dagger} β^{\\dagger} + α^{2} γ^{\\dagger} δ^{\\dagger} + γ^{2} α^{\\dagger} β^{\\dagger} + γ^{2} γ^{\\dagger} δ^{\\dagger} & α β \\left(α^{\\dagger}\\right)^{2} + α β \\left(γ^{\\dagger}\\right)^{2} + γ δ \\left(α^{\\dagger}\\right)^{2} + γ δ \\left(γ^{\\dagger}\\right)^{2} & α β α^{\\dagger} β^{\\dagger} + α β γ^{\\dagger} δ^{\\dagger} + γ δ α^{\\dagger} β^{\\dagger} + γ δ γ^{\\dagger} δ^{\\dagger}\\\\α^{2} α^{\\dagger} β^{\\dagger} + α^{2} γ^{\\dagger} δ^{\\dagger} + γ^{2} α^{\\dagger} β^{\\dagger} + γ^{2} γ^{\\dagger} δ^{\\dagger} & α^{2} \\left(β^{\\dagger}\\right)^{2} + α^{2} \\left(δ^{\\dagger}\\right)^{2} + γ^{2} \\left(β^{\\dagger}\\right)^{2} + γ^{2} \\left(δ^{\\dagger}\\right)^{2} & α β α^{\\dagger} β^{\\dagger} + α β γ^{\\dagger} δ^{\\dagger} + γ δ α^{\\dagger} β^{\\dagger} + γ δ γ^{\\dagger} δ^{\\dagger} & α β \\left(β^{\\dagger}\\right)^{2} + α β \\left(δ^{\\dagger}\\right)^{2} + γ δ \\left(β^{\\dagger}\\right)^{2} + γ δ \\left(δ^{\\dagger}\\right)^{2}\\\\α β \\left(α^{\\dagger}\\right)^{2} + α β \\left(γ^{\\dagger}\\right)^{2} + γ δ \\left(α^{\\dagger}\\right)^{2} + γ δ \\left(γ^{\\dagger}\\right)^{2} & α β α^{\\dagger} β^{\\dagger} + α β γ^{\\dagger} δ^{\\dagger} + γ δ α^{\\dagger} β^{\\dagger} + γ δ γ^{\\dagger} δ^{\\dagger} & β^{2} \\left(α^{\\dagger}\\right)^{2} + β^{2} \\left(γ^{\\dagger}\\right)^{2} + δ^{2} \\left(α^{\\dagger}\\right)^{2} + δ^{2} \\left(γ^{\\dagger}\\right)^{2} & β^{2} α^{\\dagger} β^{\\dagger} + β^{2} γ^{\\dagger} δ^{\\dagger} + δ^{2} α^{\\dagger} β^{\\dagger} + δ^{2} γ^{\\dagger} δ^{\\dagger}\\\\α β α^{\\dagger} β^{\\dagger} + α β γ^{\\dagger} δ^{\\dagger} + γ δ α^{\\dagger} β^{\\dagger} + γ δ γ^{\\dagger} δ^{\\dagger} & α β \\left(β^{\\dagger}\\right)^{2} + α β \\left(δ^{\\dagger}\\right)^{2} + γ δ \\left(β^{\\dagger}\\right)^{2} + γ δ \\left(δ^{\\dagger}\\right)^{2} & β^{2} α^{\\dagger} β^{\\dagger} + β^{2} γ^{\\dagger} δ^{\\dagger} + δ^{2} α^{\\dagger} β^{\\dagger} + δ^{2} γ^{\\dagger} δ^{\\dagger} & β^{2} \\left(β^{\\dagger}\\right)^{2} + β^{2} \\left(δ^{\\dagger}\\right)^{2} + δ^{2} \\left(β^{\\dagger}\\right)^{2} + δ^{2} \\left(δ^{\\dagger}\\right)^{2}\\end{matrix}\\right]$"
      ],
      "text/plain": [
       "Matrix([\n",
       "[                            α**2*Dagger(α)**2 + α**2*Dagger(γ)**2 + γ**2*Dagger(α)**2 + γ**2*Dagger(γ)**2, α**2*Dagger(α)*Dagger(β) + α**2*Dagger(γ)*Dagger(δ) + γ**2*Dagger(α)*Dagger(β) + γ**2*Dagger(γ)*Dagger(δ),                                 α*β*Dagger(α)**2 + α*β*Dagger(γ)**2 + γ*δ*Dagger(α)**2 + γ*δ*Dagger(γ)**2,     α*β*Dagger(α)*Dagger(β) + α*β*Dagger(γ)*Dagger(δ) + γ*δ*Dagger(α)*Dagger(β) + γ*δ*Dagger(γ)*Dagger(δ)],\n",
       "[α**2*Dagger(α)*Dagger(β) + α**2*Dagger(γ)*Dagger(δ) + γ**2*Dagger(α)*Dagger(β) + γ**2*Dagger(γ)*Dagger(δ),                             α**2*Dagger(β)**2 + α**2*Dagger(δ)**2 + γ**2*Dagger(β)**2 + γ**2*Dagger(δ)**2,     α*β*Dagger(α)*Dagger(β) + α*β*Dagger(γ)*Dagger(δ) + γ*δ*Dagger(α)*Dagger(β) + γ*δ*Dagger(γ)*Dagger(δ),                                 α*β*Dagger(β)**2 + α*β*Dagger(δ)**2 + γ*δ*Dagger(β)**2 + γ*δ*Dagger(δ)**2],\n",
       "[                                α*β*Dagger(α)**2 + α*β*Dagger(γ)**2 + γ*δ*Dagger(α)**2 + γ*δ*Dagger(γ)**2,     α*β*Dagger(α)*Dagger(β) + α*β*Dagger(γ)*Dagger(δ) + γ*δ*Dagger(α)*Dagger(β) + γ*δ*Dagger(γ)*Dagger(δ),                             β**2*Dagger(α)**2 + β**2*Dagger(γ)**2 + δ**2*Dagger(α)**2 + δ**2*Dagger(γ)**2, β**2*Dagger(α)*Dagger(β) + β**2*Dagger(γ)*Dagger(δ) + δ**2*Dagger(α)*Dagger(β) + δ**2*Dagger(γ)*Dagger(δ)],\n",
       "[    α*β*Dagger(α)*Dagger(β) + α*β*Dagger(γ)*Dagger(δ) + γ*δ*Dagger(α)*Dagger(β) + γ*δ*Dagger(γ)*Dagger(δ),                                 α*β*Dagger(β)**2 + α*β*Dagger(δ)**2 + γ*δ*Dagger(β)**2 + γ*δ*Dagger(δ)**2, β**2*Dagger(α)*Dagger(β) + β**2*Dagger(γ)*Dagger(δ) + δ**2*Dagger(α)*Dagger(β) + δ**2*Dagger(γ)*Dagger(δ),                             β**2*Dagger(β)**2 + β**2*Dagger(δ)**2 + δ**2*Dagger(β)**2 + δ**2*Dagger(δ)**2]])"
      ]
     },
     "execution_count": 45,
     "metadata": {},
     "output_type": "execute_result"
    }
   ],
   "source": [
    "rhotilde_t_rhotilde"
   ]
  },
  {
   "cell_type": "code",
   "execution_count": 13,
   "id": "39f9e2ae-82b5-45bf-ac05-d828272b5ef0",
   "metadata": {},
   "outputs": [],
   "source": [
    "def generate_alpha_beta_gamma_delta():\n",
    "    # Generate four random complex numbers using a Gaussian distribution.\n",
    "    # Using a Gaussian can help ensure a uniform distribution on the complex sphere.\n",
    "    a = random.gauss(0,1) + 1j * random.gauss(0,1)\n",
    "    b = random.gauss(0,1) + 1j * random.gauss(0,1)\n",
    "    c = random.gauss(0,1) + 1j * random.gauss(0,1)\n",
    "    d = random.gauss(0,1) + 1j * random.gauss(0,1)\n",
    "    \n",
    "    # Normalize the state so that |α|^2 + |β|^2 + |γ|^2 + |δ|^2 = 1\n",
    "    norm = math.sqrt(abs(a)**2 + abs(b)**2 + abs(c)**2 + abs(d)**2)\n",
    "    alpha = a / norm\n",
    "    beta  = b / norm\n",
    "    gamma = c / norm\n",
    "    delta = d / norm\n",
    "\n",
    "    return alpha, beta, gamma, delta"
   ]
  },
  {
   "cell_type": "code",
   "execution_count": 47,
   "id": "9aff9839-c748-4177-9f36-db7aba6b2dd7",
   "metadata": {},
   "outputs": [],
   "source": [
    "a, b, c, d= generate_alpha_beta_gamma_delta()"
   ]
  },
  {
   "cell_type": "code",
   "execution_count": 49,
   "id": "5d81350b-3d4b-436d-9c4f-31e206343ed9",
   "metadata": {},
   "outputs": [],
   "source": [
    "rhotilde_t_rhotilde_subbed= simplify(rhotilde_t_rhotilde.subs({alpha: a, beta: b, gamma: c, delta: d}))"
   ]
  },
  {
   "cell_type": "code",
   "execution_count": 58,
   "id": "0b55823a-0ba6-4084-99e5-31df49b0d47b",
   "metadata": {},
   "outputs": [
    {
     "data": {
      "text/plain": [
       "{0.00036749816251849 + 0.0192172704409255*I: 1,\n",
       " 0.000456062407188881 - 7.31125082696031e-34*I: 1,\n",
       " 0.00036749816251849 - 0.0192172704409255*I: 1,\n",
       " 0.810061369399613 + 4.68608352309999e-33*I: 1}"
      ]
     },
     "execution_count": 58,
     "metadata": {},
     "output_type": "execute_result"
    }
   ],
   "source": [
    "eig_dict= rhotilde_t_rhotilde_subbed.eigenvals()\n",
    "eig_dict"
   ]
  },
  {
   "cell_type": "code",
   "execution_count": 14,
   "id": "361587fa-3cb7-4882-96f1-d6251ab37af6",
   "metadata": {},
   "outputs": [],
   "source": [
    "def get_singular_values_from_eig_dict(eig_dict):\n",
    "    singular_vals= []\n",
    "    for eigenvalue, multiplicity in eig_dict.items():\n",
    "        # Simplify the eigenvalue for a cleaner expression.\n",
    "        eigenvalue = sp.simplify(eigenvalue)\n",
    "        # print(\"current eig: \", eigenvalue)\n",
    "        # print(\"multiplicity: \", multiplicity)\n",
    "        # Assume eigenvalues are nonnegative; take the square root.\n",
    "        s_val = sp.sqrt(eigenvalue).evalf()\n",
    "        singular_vals.extend([sp.simplify(s_val)] * multiplicity)\n",
    "    return singular_vals"
   ]
  },
  {
   "cell_type": "code",
   "execution_count": 69,
   "id": "aa2288ac-cc56-4a0a-900b-238cd3c9767a",
   "metadata": {},
   "outputs": [
    {
     "name": "stdout",
     "output_type": "stream",
     "text": [
      "current eig:  0.00036749816251849 + 0.0192172704409255*I\n",
      "multiplicity:  1\n",
      "current eig:  0.000456062407188881 - 7.31125082696031e-34*I\n",
      "multiplicity:  1\n",
      "current eig:  0.00036749816251849 - 0.0192172704409255*I\n",
      "multiplicity:  1\n",
      "current eig:  0.810061369399613 + 4.68608352309999e-33*I\n",
      "multiplicity:  1\n"
     ]
    },
    {
     "data": {
      "text/plain": [
       "[0.0989653529680003 + 0.0970909003231631*I,\n",
       " 0.0213556176962616 - 0.e-32*I,\n",
       " 0.0989653529680003 - 0.0970909003231631*I,\n",
       " 0.900034093465138 + 0.e-33*I]"
      ]
     },
     "execution_count": 69,
     "metadata": {},
     "output_type": "execute_result"
    }
   ],
   "source": [
    "singular_vals= get_singular_values_from_eig_dict(eig_dict)\n",
    "singular_vals"
   ]
  },
  {
   "cell_type": "code",
   "execution_count": 70,
   "id": "8ffcd4ef-f982-4168-a7f9-c56ca9be25b1",
   "metadata": {},
   "outputs": [
    {
     "data": {
      "text/latex": [
       "$\\displaystyle 1.1193204170974 + 3.0 \\cdot 10^{-33} i$"
      ],
      "text/plain": [
       "1.1193204170974 + 0.e-33*I"
      ]
     },
     "execution_count": 70,
     "metadata": {},
     "output_type": "execute_result"
    }
   ],
   "source": [
    "sum(singular_vals)"
   ]
  },
  {
   "cell_type": "code",
   "execution_count": 17,
   "id": "951aca2b-aba7-41e0-8293-b1a0c65307d9",
   "metadata": {},
   "outputs": [
    {
     "name": "stdout",
     "output_type": "stream",
     "text": [
      "α*Dagger(α)*|0>x|0>*<0|x<0| + α*Dagger(β)*|0>x|0>*<0|x<1| + α*Dagger(γ)*|0>x|0>*<1|x<0| + α*Dagger(δ)*|0>x|0>*<1|x<1| + β*Dagger(α)*|0>x|1>*<0|x<0| + β*Dagger(β)*|0>x|1>*<0|x<1| + β*Dagger(γ)*|0>x|1>*<1|x<0| + β*Dagger(δ)*|0>x|1>*<1|x<1| + γ*Dagger(α)*|1>x|0>*<0|x<0| + γ*Dagger(β)*|1>x|0>*<0|x<1| + γ*Dagger(γ)*|1>x|0>*<1|x<0| + γ*Dagger(δ)*|1>x|0>*<1|x<1| + δ*Dagger(α)*|1>x|1>*<0|x<0| + δ*Dagger(β)*|1>x|1>*<0|x<1| + δ*Dagger(γ)*|1>x|1>*<1|x<0| + δ*Dagger(δ)*|1>x|1>*<1|x<1|\n"
     ]
    }
   ],
   "source": [
    "rho= get_rho_bipartite(alpha, beta, gamma, delta)"
   ]
  },
  {
   "cell_type": "code",
   "execution_count": 15,
   "id": "f09a64f1-3421-4b30-b753-ca606b9afef1",
   "metadata": {},
   "outputs": [],
   "source": [
    "def generate_alpha_beta_gamma_delta_real():\n",
    "    # Generate four random real numbers from a Gaussian distribution\n",
    "    a = random.gauss(0, 1)\n",
    "    b = random.gauss(0, 1)\n",
    "    c = random.gauss(0, 1)\n",
    "    d = random.gauss(0, 1)\n",
    "    \n",
    "    # Compute the norm: sqrt(a^2 + b^2 + c^2 + d^2)\n",
    "    norm = math.sqrt(a**2 + b**2 + c**2 + d**2)\n",
    "    \n",
    "    # Normalize to get the real coefficients\n",
    "    alpha = a / norm\n",
    "    beta  = b / norm\n",
    "    gamma = c / norm\n",
    "    delta = d / norm\n",
    "\n",
    "    return alpha, beta, gamma, delta"
   ]
  },
  {
   "cell_type": "code",
   "execution_count": 80,
   "id": "8d70a3fe-3e8e-4635-ab4d-a2de3a56a704",
   "metadata": {},
   "outputs": [
    {
     "data": {
      "text/latex": [
       "$$\\left[\\begin{matrix}α^{2} \\left(α^{\\dagger}\\right)^{2} + α^{2} \\left(γ^{\\dagger}\\right)^{2} + γ^{2} \\left(α^{\\dagger}\\right)^{2} + γ^{2} \\left(γ^{\\dagger}\\right)^{2} & α^{2} α^{\\dagger} β^{\\dagger} + α^{2} γ^{\\dagger} δ^{\\dagger} + γ^{2} α^{\\dagger} β^{\\dagger} + γ^{2} γ^{\\dagger} δ^{\\dagger} & α β \\left(α^{\\dagger}\\right)^{2} + α β \\left(γ^{\\dagger}\\right)^{2} + γ δ \\left(α^{\\dagger}\\right)^{2} + γ δ \\left(γ^{\\dagger}\\right)^{2} & α β α^{\\dagger} β^{\\dagger} + α β γ^{\\dagger} δ^{\\dagger} + γ δ α^{\\dagger} β^{\\dagger} + γ δ γ^{\\dagger} δ^{\\dagger}\\\\α^{2} α^{\\dagger} β^{\\dagger} + α^{2} γ^{\\dagger} δ^{\\dagger} + γ^{2} α^{\\dagger} β^{\\dagger} + γ^{2} γ^{\\dagger} δ^{\\dagger} & α^{2} \\left(β^{\\dagger}\\right)^{2} + α^{2} \\left(δ^{\\dagger}\\right)^{2} + γ^{2} \\left(β^{\\dagger}\\right)^{2} + γ^{2} \\left(δ^{\\dagger}\\right)^{2} & α β α^{\\dagger} β^{\\dagger} + α β γ^{\\dagger} δ^{\\dagger} + γ δ α^{\\dagger} β^{\\dagger} + γ δ γ^{\\dagger} δ^{\\dagger} & α β \\left(β^{\\dagger}\\right)^{2} + α β \\left(δ^{\\dagger}\\right)^{2} + γ δ \\left(β^{\\dagger}\\right)^{2} + γ δ \\left(δ^{\\dagger}\\right)^{2}\\\\α β \\left(α^{\\dagger}\\right)^{2} + α β \\left(γ^{\\dagger}\\right)^{2} + γ δ \\left(α^{\\dagger}\\right)^{2} + γ δ \\left(γ^{\\dagger}\\right)^{2} & α β α^{\\dagger} β^{\\dagger} + α β γ^{\\dagger} δ^{\\dagger} + γ δ α^{\\dagger} β^{\\dagger} + γ δ γ^{\\dagger} δ^{\\dagger} & β^{2} \\left(α^{\\dagger}\\right)^{2} + β^{2} \\left(γ^{\\dagger}\\right)^{2} + δ^{2} \\left(α^{\\dagger}\\right)^{2} + δ^{2} \\left(γ^{\\dagger}\\right)^{2} & β^{2} α^{\\dagger} β^{\\dagger} + β^{2} γ^{\\dagger} δ^{\\dagger} + δ^{2} α^{\\dagger} β^{\\dagger} + δ^{2} γ^{\\dagger} δ^{\\dagger}\\\\α β α^{\\dagger} β^{\\dagger} + α β γ^{\\dagger} δ^{\\dagger} + γ δ α^{\\dagger} β^{\\dagger} + γ δ γ^{\\dagger} δ^{\\dagger} & α β \\left(β^{\\dagger}\\right)^{2} + α β \\left(δ^{\\dagger}\\right)^{2} + γ δ \\left(β^{\\dagger}\\right)^{2} + γ δ \\left(δ^{\\dagger}\\right)^{2} & β^{2} α^{\\dagger} β^{\\dagger} + β^{2} γ^{\\dagger} δ^{\\dagger} + δ^{2} α^{\\dagger} β^{\\dagger} + δ^{2} γ^{\\dagger} δ^{\\dagger} & β^{2} \\left(β^{\\dagger}\\right)^{2} + β^{2} \\left(δ^{\\dagger}\\right)^{2} + δ^{2} \\left(β^{\\dagger}\\right)^{2} + δ^{2} \\left(δ^{\\dagger}\\right)^{2}\\end{matrix}\\right]$$"
      ],
      "text/plain": [
       "<IPython.core.display.Latex object>"
      ]
     },
     "metadata": {},
     "output_type": "display_data"
    },
    {
     "name": "stdout",
     "output_type": "stream",
     "text": [
      "-0.8268399036190223 -0.22918708965391563 -0.3886944882609703 -0.3357464020876419\n",
      "1.37704952842706\n",
      "0.20600724156054703 0.7596181487393229 -0.07653287229931846 -0.6121143716562083\n",
      "1.13592846890150\n",
      "-0.4122818427450144 -0.27950776483034845 0.8667748976042312 0.024502416727588714\n",
      "1.46433682544051\n",
      "0.11345025933894658 0.2639215787620019 -0.8056728857533519 0.5180401915696933\n",
      "1.54281250811068\n",
      "-0.5428091890718864 -0.13091055293700937 -0.8253046629292549 -0.08421890961106578\n",
      "1.12465258347012\n",
      "-0.06578364465134362 0.12697668762623918 -0.9049687982689139 0.4007254759253176\n",
      "1.17709751619655\n",
      "-0.872808734651351 0.1491589327479155 -0.4646041308866445 -0.009976325018564974\n",
      "1.15601455985850\n",
      "0.607899074510846 0.42848489401542317 -0.3295913272291981 -0.5815745591278424\n",
      "1.42462746267333\n",
      "0.3758078772006844 0.12786687521739362 0.3046668826745757 0.8657924648883305\n",
      "1.57282965211242\n",
      "-0.5995042744185273 0.3451054860325797 -0.29722572579348033 0.6581441304081279\n",
      "1.58397198160358\n",
      "0.08142103689581909 0.19980911479916294 0.96508188064493 0.14853920709640933\n",
      "1.36147588003781\n",
      "-0.265298242886771 -0.8162102848039899 -0.19061439451651632 -0.47653306905658005\n",
      "1.05831608667583\n",
      "-0.3140871761272988 0.07533940715801846 -0.30804906668915666 -0.8948625548280568\n",
      "1.60854617385589\n",
      "0.29326135252751284 -0.5769280941944519 0.6117307429847878 -0.4549035626703434\n",
      "1.43903803530416\n",
      "-0.061754937239532175 -0.9589122878945496 -0.2369135455350308 0.1433370984546659\n",
      "1.47206216700274\n",
      "0.44437321208767944 0.7238540633479593 -0.5162624779615372 0.10973056640034277\n",
      "1.84492003336413\n",
      "-0.7796714618515683 -0.27687716111437577 0.14207113906814273 -0.5433849838478819\n",
      "1.92599603673268\n",
      "-0.3366591338845161 0.8102006464018556 -0.1743796082818284 -0.44702046078185176\n",
      "1.58355198500943\n",
      "-0.697922844968035 0.1563218204098535 0.5440107366439066 0.4387704517759004\n",
      "1.78253734133205\n",
      "-0.1629367175303589 0.9524122820853206 -0.257580494079202 0.0038418853936532135\n",
      "1.48939368398294\n"
     ]
    }
   ],
   "source": [
    "no_of_random_samples= 20\n",
    "realigned, sum_sv= compute_entanglement_measures_symbolic(rho, dA, dB, False)\n",
    "for i in range(no_of_random_samples):\n",
    "    a, b, c, d= generate_alpha_beta_gamma_delta_real()\n",
    "    print(a, b, c, d)\n",
    "    subbed_symm= simplify(rhotilde_t_rhotilde.subs({alpha: a, beta: b, gamma: c, delta: d}))\n",
    "    try:\n",
    "        eig_dict= subbed_symm.eigenvals()\n",
    "        print(sum(get_singular_values_from_eig_dict(eig_dict)))\n",
    "    except e:\n",
    "        print(e)\n",
    "    "
   ]
  },
  {
   "cell_type": "code",
   "execution_count": 22,
   "id": "3bd16a35-32ad-4201-9ad4-c94f575bd673",
   "metadata": {},
   "outputs": [
    {
     "data": {
      "text/latex": [
       "$\\displaystyle \\frac{\\left({{\\left|0\\right\\rangle }}\\otimes {{\\left|0\\right\\rangle }} + {{\\left|1\\right\\rangle }}\\otimes {{\\left|1\\right\\rangle }}\\right) \\left({{\\left\\langle 0\\right|}}\\otimes {{\\left\\langle 0\\right|}} + {{\\left\\langle 1\\right|}}\\otimes {{\\left\\langle 1\\right|}}\\right)}{2}$"
      ],
      "text/plain": [
       "(|0>x|0> + |1>x|1>)*(<0|x<0| + <1|x<1|)/2"
      ]
     },
     "execution_count": 22,
     "metadata": {},
     "output_type": "execute_result"
    }
   ],
   "source": [
    "# Bell state (|00⟩ + |11⟩)/√2\n",
    "bell_state = (TensorProduct(Qubit('0'), Qubit('0')) + \n",
    "             TensorProduct(Qubit('1'), Qubit('1')))/sqrt(2)\n",
    "\n",
    "# Density matrix\n",
    "bell_rho = bell_state * Dagger(bell_state)\n",
    "bell_rho"
   ]
  },
  {
   "cell_type": "code",
   "execution_count": 23,
   "id": "53c3f027-e6a9-4b58-92b6-b65143c079df",
   "metadata": {},
   "outputs": [
    {
     "data": {
      "text/latex": [
       "$\\displaystyle \\left[\\begin{matrix}\\frac{1}{2} & 0 & 0 & \\frac{1}{2}\\\\0 & 0 & 0 & 0\\\\0 & 0 & 0 & 0\\\\\\frac{1}{2} & 0 & 0 & \\frac{1}{2}\\end{matrix}\\right]$"
      ],
      "text/plain": [
       "Matrix([\n",
       "[1/2, 0, 0, 1/2],\n",
       "[  0, 0, 0,   0],\n",
       "[  0, 0, 0,   0],\n",
       "[1/2, 0, 0, 1/2]])"
      ]
     },
     "execution_count": 23,
     "metadata": {},
     "output_type": "execute_result"
    }
   ],
   "source": [
    "matrix_form = represent(bell_rho.doit(), basis_set=[Qubit('0'), Qubit('1')])\n",
    "\n",
    "# Simplify करें और output को Matrix के रूप में प्राप्त करें\n",
    "final_matrix = Matrix(simplify(matrix_form)).expand()\n",
    "final_matrix"
   ]
  },
  {
   "cell_type": "code",
   "execution_count": 24,
   "id": "2b652c1c-e6fa-4531-88f1-01d17653284d",
   "metadata": {},
   "outputs": [
    {
     "data": {
      "text/latex": [
       "$\\displaystyle \\left[\\begin{matrix}\\frac{1}{2} & 0 & 0 & \\frac{1}{2}\\\\0 & 0 & 0 & 0\\\\0 & 0 & 0 & 0\\\\\\frac{1}{2} & 0 & 0 & \\frac{1}{2}\\end{matrix}\\right]$"
      ],
      "text/plain": [
       "Matrix([\n",
       "[1/2, 0, 0, 1/2],\n",
       "[  0, 0, 0,   0],\n",
       "[  0, 0, 0,   0],\n",
       "[1/2, 0, 0, 1/2]])"
      ]
     },
     "execution_count": 24,
     "metadata": {},
     "output_type": "execute_result"
    }
   ],
   "source": [
    "# Bell state vector (|00⟩ + |11⟩)/√2 को Matrix के रूप में परिभाषित करें\n",
    "bell_vector = Matrix([[1], [0], [0], [1]])/sqrt(2)\n",
    "\n",
    "# Density matrix बनाएं (outer product)\n",
    "density_matrix = bell_vector * Dagger(bell_vector)\n",
    "\n",
    "# मैट्रिक्स को simplify करें और expand करें\n",
    "rho = density_matrix.expand()\n",
    "rho"
   ]
  },
  {
   "cell_type": "code",
   "execution_count": null,
   "id": "4c52e5de-7a84-40d3-8e72-cefe0c12baab",
   "metadata": {},
   "outputs": [
    {
     "data": {
      "text/latex": [
       "Realigned matrix: "
      ],
      "text/plain": [
       "<IPython.core.display.Latex object>"
      ]
     },
     "metadata": {},
     "output_type": "display_data"
    },
    {
     "data": {
      "text/latex": [
       "$$\\left[\\begin{matrix}\\frac{1}{2} & 0 & 0 & 0\\\\0 & \\frac{1}{2} & 0 & 0\\\\0 & 0 & \\frac{1}{2} & 0\\\\0 & 0 & 0 & \\frac{1}{2}\\end{matrix}\\right]$$"
      ],
      "text/plain": [
       "<IPython.core.display.Latex object>"
      ]
     },
     "metadata": {},
     "output_type": "display_data"
    },
    {
     "data": {
      "text/latex": [
       "Sum of singular values: "
      ],
      "text/plain": [
       "<IPython.core.display.Latex object>"
      ]
     },
     "metadata": {},
     "output_type": "display_data"
    }
   ],
   "source": [
    "# Execute the optimized function\n",
    "\n",
    "result = compute_entanglement_measures_symbolic(rho, dA, dB)\n",
    "result"
   ]
  },
  {
   "cell_type": "code",
   "execution_count": null,
   "id": "8adb5901-9507-445d-974c-2ecda2043a51",
   "metadata": {},
   "outputs": [],
   "source": [
    "ajeeb_matrix= sp.Matrix([\n",
    "    [0.5, 0, 0, 0],\n",
    "    [0, 0, 0.5, 0],\n",
    "    [0, 0.5, 0, 0],\n",
    "    [0, 0, 0, 0.5]\n",
    "])\n",
    "ajeeb_matrix\n"
   ]
  },
  {
   "cell_type": "code",
   "execution_count": null,
   "id": "50c249e6-84b1-40f7-ac64-f0de035ad1c3",
   "metadata": {},
   "outputs": [],
   "source": [
    "ajeeb_matrix.det()"
   ]
  },
  {
   "cell_type": "code",
   "execution_count": null,
   "id": "c37a425f-f20c-4d93-9fba-4ee158175b42",
   "metadata": {},
   "outputs": [],
   "source": [
    "1 / 16"
   ]
  },
  {
   "cell_type": "code",
   "execution_count": 18,
   "id": "7309feaa-78b3-4b98-92c4-adae4713895c",
   "metadata": {},
   "outputs": [
    {
     "data": {
      "text/latex": [
       "$\\displaystyle \\left[\\begin{matrix}α α^{\\dagger} & α β^{\\dagger} & α γ^{\\dagger} & α δ^{\\dagger}\\\\β α^{\\dagger} & β β^{\\dagger} & β γ^{\\dagger} & β δ^{\\dagger}\\\\γ α^{\\dagger} & γ β^{\\dagger} & γ γ^{\\dagger} & γ δ^{\\dagger}\\\\δ α^{\\dagger} & δ β^{\\dagger} & δ γ^{\\dagger} & δ δ^{\\dagger}\\end{matrix}\\right]$"
      ],
      "text/plain": [
       "Matrix([\n",
       "[α*Dagger(α), α*Dagger(β), α*Dagger(γ), α*Dagger(δ)],\n",
       "[β*Dagger(α), β*Dagger(β), β*Dagger(γ), β*Dagger(δ)],\n",
       "[γ*Dagger(α), γ*Dagger(β), γ*Dagger(γ), γ*Dagger(δ)],\n",
       "[δ*Dagger(α), δ*Dagger(β), δ*Dagger(γ), δ*Dagger(δ)]])"
      ]
     },
     "execution_count": 18,
     "metadata": {},
     "output_type": "execute_result"
    }
   ],
   "source": [
    "I_2= Matrix.eye(2)\n",
    "rx, ry, rz, sx, sy, sz = symbols('rx ry rz sx sy sz')\n",
    "rho"
   ]
  },
  {
   "cell_type": "code",
   "execution_count": 20,
   "id": "8ec7f51f-6984-4b4f-9978-94b1f74fd329",
   "metadata": {},
   "outputs": [
    {
     "data": {
      "text/latex": [
       "$\\displaystyle α α^{\\dagger} + β β^{\\dagger} + γ γ^{\\dagger} + δ δ^{\\dagger}$"
      ],
      "text/plain": [
       "α*Dagger(α) + β*Dagger(β) + γ*Dagger(γ) + δ*Dagger(δ)"
      ]
     },
     "execution_count": 20,
     "metadata": {},
     "output_type": "execute_result"
    }
   ],
   "source": [
    "rho.trace()"
   ]
  },
  {
   "cell_type": "code",
   "execution_count": 45,
   "id": "b1bf4c34-4f2e-4c9b-afa2-c9ecdfa44bb9",
   "metadata": {},
   "outputs": [],
   "source": [
    "t_nm = lambda n, m: (rho * TensorProduct(msigma(n), msigma(m))).trace()"
   ]
  },
  {
   "cell_type": "code",
   "execution_count": 46,
   "id": "8ed7506a-c1ee-4631-9c4e-b502601e47f5",
   "metadata": {},
   "outputs": [],
   "source": [
    "T= Matrix([[t_nm(n, m) for m in range(1, 4)] for n in range(1, 4)])"
   ]
  },
  {
   "cell_type": "code",
   "execution_count": 47,
   "id": "107e418b-a1c3-41a0-9fa1-dd880c6c3c00",
   "metadata": {},
   "outputs": [
    {
     "data": {
      "text/latex": [
       "$\\displaystyle \\left[\\begin{matrix}α δ^{\\dagger} + β γ^{\\dagger} + γ β^{\\dagger} + δ α^{\\dagger} & i α δ^{\\dagger} - i β γ^{\\dagger} + i γ β^{\\dagger} - i δ α^{\\dagger} & α γ^{\\dagger} - β δ^{\\dagger} + γ α^{\\dagger} - δ β^{\\dagger}\\\\i α δ^{\\dagger} + i β γ^{\\dagger} - i γ β^{\\dagger} - i δ α^{\\dagger} & - α δ^{\\dagger} + β γ^{\\dagger} + γ β^{\\dagger} - δ α^{\\dagger} & i α γ^{\\dagger} - i β δ^{\\dagger} - i γ α^{\\dagger} + i δ β^{\\dagger}\\\\α β^{\\dagger} + β α^{\\dagger} - γ δ^{\\dagger} - δ γ^{\\dagger} & i α β^{\\dagger} - i β α^{\\dagger} - i γ δ^{\\dagger} + i δ γ^{\\dagger} & α α^{\\dagger} - β β^{\\dagger} - γ γ^{\\dagger} + δ δ^{\\dagger}\\end{matrix}\\right]$"
      ],
      "text/plain": [
       "Matrix([\n",
       "[        α*Dagger(δ) + β*Dagger(γ) + γ*Dagger(β) + δ*Dagger(α), I*α*Dagger(δ) - I*β*Dagger(γ) + I*γ*Dagger(β) - I*δ*Dagger(α),         α*Dagger(γ) - β*Dagger(δ) + γ*Dagger(α) - δ*Dagger(β)],\n",
       "[I*α*Dagger(δ) + I*β*Dagger(γ) - I*γ*Dagger(β) - I*δ*Dagger(α),        -α*Dagger(δ) + β*Dagger(γ) + γ*Dagger(β) - δ*Dagger(α), I*α*Dagger(γ) - I*β*Dagger(δ) - I*γ*Dagger(α) + I*δ*Dagger(β)],\n",
       "[        α*Dagger(β) + β*Dagger(α) - γ*Dagger(δ) - δ*Dagger(γ), I*α*Dagger(β) - I*β*Dagger(α) - I*γ*Dagger(δ) + I*δ*Dagger(γ),         α*Dagger(α) - β*Dagger(β) - γ*Dagger(γ) + δ*Dagger(δ)]])"
      ]
     },
     "metadata": {},
     "output_type": "display_data"
    }
   ],
   "source": [
    "display(T)"
   ]
  },
  {
   "cell_type": "code",
   "execution_count": 52,
   "id": "365ae693-e1af-4209-bf70-846923b14668",
   "metadata": {},
   "outputs": [],
   "source": [
    "bchsh_sum_correlations= Matrix.zeros(4)\n",
    "for n in range(1, 4):\n",
    "    for m in range(1, 4):\n",
    "        tba= T[n - 1, m - 1] * TensorProduct(msigma(n), msigma(m))\n",
    "        bchsh_sum_correlations += tba\n",
    "    # print(\"sum at the end of n= \", n, \"is: \", s)"
   ]
  },
  {
   "cell_type": "code",
   "execution_count": 73,
   "id": "520826e8-9d39-44b4-b1c7-f47f667975a6",
   "metadata": {},
   "outputs": [
    {
     "data": {
      "text/latex": [
       "$\\displaystyle \\left[\\begin{matrix}α α^{\\dagger} - β β^{\\dagger} - γ γ^{\\dagger} + δ δ^{\\dagger} & α β^{\\dagger} + β α^{\\dagger} - γ δ^{\\dagger} - δ γ^{\\dagger} - i \\left(i α β^{\\dagger} - i β α^{\\dagger} - i γ δ^{\\dagger} + i δ γ^{\\dagger}\\right) & α γ^{\\dagger} - β δ^{\\dagger} + γ α^{\\dagger} - δ β^{\\dagger} - i \\left(i α γ^{\\dagger} - i β δ^{\\dagger} - i γ α^{\\dagger} + i δ β^{\\dagger}\\right) & 2 α δ^{\\dagger} + 2 δ α^{\\dagger} - i \\left(i α δ^{\\dagger} - i β γ^{\\dagger} + i γ β^{\\dagger} - i δ α^{\\dagger}\\right) - i \\left(i α δ^{\\dagger} + i β γ^{\\dagger} - i γ β^{\\dagger} - i δ α^{\\dagger}\\right)\\\\α β^{\\dagger} + β α^{\\dagger} - γ δ^{\\dagger} - δ γ^{\\dagger} + i \\left(i α β^{\\dagger} - i β α^{\\dagger} - i γ δ^{\\dagger} + i δ γ^{\\dagger}\\right) & - α α^{\\dagger} + β β^{\\dagger} + γ γ^{\\dagger} - δ δ^{\\dagger} & 2 β γ^{\\dagger} + 2 γ β^{\\dagger} + i \\left(i α δ^{\\dagger} - i β γ^{\\dagger} + i γ β^{\\dagger} - i δ α^{\\dagger}\\right) - i \\left(i α δ^{\\dagger} + i β γ^{\\dagger} - i γ β^{\\dagger} - i δ α^{\\dagger}\\right) & - α γ^{\\dagger} + β δ^{\\dagger} - γ α^{\\dagger} + δ β^{\\dagger} + i \\left(i α γ^{\\dagger} - i β δ^{\\dagger} - i γ α^{\\dagger} + i δ β^{\\dagger}\\right)\\\\α γ^{\\dagger} - β δ^{\\dagger} + γ α^{\\dagger} - δ β^{\\dagger} + i \\left(i α γ^{\\dagger} - i β δ^{\\dagger} - i γ α^{\\dagger} + i δ β^{\\dagger}\\right) & 2 β γ^{\\dagger} + 2 γ β^{\\dagger} - i \\left(i α δ^{\\dagger} - i β γ^{\\dagger} + i γ β^{\\dagger} - i δ α^{\\dagger}\\right) + i \\left(i α δ^{\\dagger} + i β γ^{\\dagger} - i γ β^{\\dagger} - i δ α^{\\dagger}\\right) & - α α^{\\dagger} + β β^{\\dagger} + γ γ^{\\dagger} - δ δ^{\\dagger} & - α β^{\\dagger} - β α^{\\dagger} + γ δ^{\\dagger} + δ γ^{\\dagger} + i \\left(i α β^{\\dagger} - i β α^{\\dagger} - i γ δ^{\\dagger} + i δ γ^{\\dagger}\\right)\\\\2 α δ^{\\dagger} + 2 δ α^{\\dagger} + i \\left(i α δ^{\\dagger} - i β γ^{\\dagger} + i γ β^{\\dagger} - i δ α^{\\dagger}\\right) + i \\left(i α δ^{\\dagger} + i β γ^{\\dagger} - i γ β^{\\dagger} - i δ α^{\\dagger}\\right) & - α γ^{\\dagger} + β δ^{\\dagger} - γ α^{\\dagger} + δ β^{\\dagger} - i \\left(i α γ^{\\dagger} - i β δ^{\\dagger} - i γ α^{\\dagger} + i δ β^{\\dagger}\\right) & - α β^{\\dagger} - β α^{\\dagger} + γ δ^{\\dagger} + δ γ^{\\dagger} - i \\left(i α β^{\\dagger} - i β α^{\\dagger} - i γ δ^{\\dagger} + i δ γ^{\\dagger}\\right) & α α^{\\dagger} - β β^{\\dagger} - γ γ^{\\dagger} + δ δ^{\\dagger}\\end{matrix}\\right]$"
      ],
      "text/plain": [
       "Matrix([\n",
       "[                                                                                                                α*Dagger(α) - β*Dagger(β) - γ*Dagger(γ) + δ*Dagger(δ),                                             α*Dagger(β) + β*Dagger(α) - γ*Dagger(δ) - δ*Dagger(γ) - I*(I*α*Dagger(β) - I*β*Dagger(α) - I*γ*Dagger(δ) + I*δ*Dagger(γ)),                                             α*Dagger(γ) - β*Dagger(δ) + γ*Dagger(α) - δ*Dagger(β) - I*(I*α*Dagger(γ) - I*β*Dagger(δ) - I*γ*Dagger(α) + I*δ*Dagger(β)), 2*α*Dagger(δ) + 2*δ*Dagger(α) - I*(I*α*Dagger(δ) - I*β*Dagger(γ) + I*γ*Dagger(β) - I*δ*Dagger(α)) - I*(I*α*Dagger(δ) + I*β*Dagger(γ) - I*γ*Dagger(β) - I*δ*Dagger(α))],\n",
       "[                                            α*Dagger(β) + β*Dagger(α) - γ*Dagger(δ) - δ*Dagger(γ) + I*(I*α*Dagger(β) - I*β*Dagger(α) - I*γ*Dagger(δ) + I*δ*Dagger(γ)),                                                                                                                -α*Dagger(α) + β*Dagger(β) + γ*Dagger(γ) - δ*Dagger(δ), 2*β*Dagger(γ) + 2*γ*Dagger(β) + I*(I*α*Dagger(δ) - I*β*Dagger(γ) + I*γ*Dagger(β) - I*δ*Dagger(α)) - I*(I*α*Dagger(δ) + I*β*Dagger(γ) - I*γ*Dagger(β) - I*δ*Dagger(α)),                                            -α*Dagger(γ) + β*Dagger(δ) - γ*Dagger(α) + δ*Dagger(β) + I*(I*α*Dagger(γ) - I*β*Dagger(δ) - I*γ*Dagger(α) + I*δ*Dagger(β))],\n",
       "[                                            α*Dagger(γ) - β*Dagger(δ) + γ*Dagger(α) - δ*Dagger(β) + I*(I*α*Dagger(γ) - I*β*Dagger(δ) - I*γ*Dagger(α) + I*δ*Dagger(β)), 2*β*Dagger(γ) + 2*γ*Dagger(β) - I*(I*α*Dagger(δ) - I*β*Dagger(γ) + I*γ*Dagger(β) - I*δ*Dagger(α)) + I*(I*α*Dagger(δ) + I*β*Dagger(γ) - I*γ*Dagger(β) - I*δ*Dagger(α)),                                                                                                                -α*Dagger(α) + β*Dagger(β) + γ*Dagger(γ) - δ*Dagger(δ),                                            -α*Dagger(β) - β*Dagger(α) + γ*Dagger(δ) + δ*Dagger(γ) + I*(I*α*Dagger(β) - I*β*Dagger(α) - I*γ*Dagger(δ) + I*δ*Dagger(γ))],\n",
       "[2*α*Dagger(δ) + 2*δ*Dagger(α) + I*(I*α*Dagger(δ) - I*β*Dagger(γ) + I*γ*Dagger(β) - I*δ*Dagger(α)) + I*(I*α*Dagger(δ) + I*β*Dagger(γ) - I*γ*Dagger(β) - I*δ*Dagger(α)),                                            -α*Dagger(γ) + β*Dagger(δ) - γ*Dagger(α) + δ*Dagger(β) - I*(I*α*Dagger(γ) - I*β*Dagger(δ) - I*γ*Dagger(α) + I*δ*Dagger(β)),                                            -α*Dagger(β) - β*Dagger(α) + γ*Dagger(δ) + δ*Dagger(γ) - I*(I*α*Dagger(β) - I*β*Dagger(α) - I*γ*Dagger(δ) + I*δ*Dagger(γ)),                                                                                                                 α*Dagger(α) - β*Dagger(β) - γ*Dagger(γ) + δ*Dagger(δ)]])"
      ]
     },
     "execution_count": 73,
     "metadata": {},
     "output_type": "execute_result"
    }
   ],
   "source": [
    "bchsh_sum_correlations"
   ]
  },
  {
   "cell_type": "code",
   "execution_count": 54,
   "id": "6b2089cc-7e4e-49b4-bdcb-aa775eb42c8b",
   "metadata": {},
   "outputs": [],
   "source": [
    "s= Matrix([sx, sy, sz])\n",
    "r= Matrix([rx, ry, rz])"
   ]
  },
  {
   "cell_type": "code",
   "execution_count": 68,
   "id": "08081a33-31c5-4b53-8bcc-0f51c5b28483",
   "metadata": {},
   "outputs": [],
   "source": [
    "ssigma= Matrix.zeros(2)\n",
    "rsigma= Matrix.zeros(2)\n",
    "for i in range(1, 4):\n",
    "    ssigma += s[i-1] * msigma(i)\n",
    "    rsigma += r[i-1] * msigma(i)"
   ]
  },
  {
   "cell_type": "code",
   "execution_count": 69,
   "id": "ed3bee95-a34d-42f6-b018-4fbadd38fb30",
   "metadata": {},
   "outputs": [],
   "source": [
    "rho_bell_basis= Matrix.zeros(4)"
   ]
  },
  {
   "cell_type": "code",
   "execution_count": 70,
   "id": "0c30b86c-16bc-4f45-9485-9b28eeb28f3f",
   "metadata": {},
   "outputs": [
    {
     "data": {
      "text/latex": [
       "$\\displaystyle \\left[\\begin{matrix}1 & 0 & 0 & 0\\\\0 & 1 & 0 & 0\\\\0 & 0 & 1 & 0\\\\0 & 0 & 0 & 1\\end{matrix}\\right]$"
      ],
      "text/plain": [
       "Matrix([\n",
       "[1, 0, 0, 0],\n",
       "[0, 1, 0, 0],\n",
       "[0, 0, 1, 0],\n",
       "[0, 0, 0, 1]])"
      ]
     },
     "execution_count": 70,
     "metadata": {},
     "output_type": "execute_result"
    }
   ],
   "source": [
    "rho_bell_basis+= TensorProduct(I_2, I_2)\n",
    "rho_bell_basis"
   ]
  },
  {
   "cell_type": "code",
   "execution_count": 71,
   "id": "e8f74a73-35b4-4ed0-beac-e60a4c69eb99",
   "metadata": {},
   "outputs": [
    {
     "data": {
      "text/latex": [
       "$\\displaystyle \\left[\\begin{matrix}rz & 0 & rx - i ry & 0\\\\0 & rz & 0 & rx - i ry\\\\rx + i ry & 0 & - rz & 0\\\\0 & rx + i ry & 0 & - rz\\end{matrix}\\right]$"
      ],
      "text/plain": [
       "Matrix([\n",
       "[       rz,         0, rx - I*ry,         0],\n",
       "[        0,        rz,         0, rx - I*ry],\n",
       "[rx + I*ry,         0,       -rz,         0],\n",
       "[        0, rx + I*ry,         0,       -rz]])"
      ]
     },
     "execution_count": 71,
     "metadata": {},
     "output_type": "execute_result"
    }
   ],
   "source": [
    "res= TensorProduct(rsigma, I_2)\n",
    "rho_bell_basis += res\n",
    "res"
   ]
  },
  {
   "cell_type": "code",
   "execution_count": 72,
   "id": "f7fd6786-922f-4533-a2ca-53d0880c2514",
   "metadata": {},
   "outputs": [
    {
     "data": {
      "text/latex": [
       "$\\displaystyle \\left[\\begin{matrix}sz & sx - i sy & 0 & 0\\\\sx + i sy & - sz & 0 & 0\\\\0 & 0 & sz & sx - i sy\\\\0 & 0 & sx + i sy & - sz\\end{matrix}\\right]$"
      ],
      "text/plain": [
       "Matrix([\n",
       "[       sz, sx - I*sy,         0,         0],\n",
       "[sx + I*sy,       -sz,         0,         0],\n",
       "[        0,         0,        sz, sx - I*sy],\n",
       "[        0,         0, sx + I*sy,       -sz]])"
      ]
     },
     "execution_count": 72,
     "metadata": {},
     "output_type": "execute_result"
    }
   ],
   "source": [
    "res=  TensorProduct(I_2, ssigma)\n",
    "rho_bell_basis += res\n",
    "res"
   ]
  },
  {
   "cell_type": "code",
   "execution_count": 74,
   "id": "cf5cd62f-9d28-46cf-a2ae-121dc74cb185",
   "metadata": {},
   "outputs": [
    {
     "data": {
      "text/latex": [
       "$\\displaystyle \\left[\\begin{matrix}α α^{\\dagger} - β β^{\\dagger} - γ γ^{\\dagger} + δ δ^{\\dagger} & α β^{\\dagger} + β α^{\\dagger} - γ δ^{\\dagger} - δ γ^{\\dagger} - i \\left(i α β^{\\dagger} - i β α^{\\dagger} - i γ δ^{\\dagger} + i δ γ^{\\dagger}\\right) & α γ^{\\dagger} - β δ^{\\dagger} + γ α^{\\dagger} - δ β^{\\dagger} - i \\left(i α γ^{\\dagger} - i β δ^{\\dagger} - i γ α^{\\dagger} + i δ β^{\\dagger}\\right) & 2 α δ^{\\dagger} + 2 δ α^{\\dagger} - i \\left(i α δ^{\\dagger} - i β γ^{\\dagger} + i γ β^{\\dagger} - i δ α^{\\dagger}\\right) - i \\left(i α δ^{\\dagger} + i β γ^{\\dagger} - i γ β^{\\dagger} - i δ α^{\\dagger}\\right)\\\\α β^{\\dagger} + β α^{\\dagger} - γ δ^{\\dagger} - δ γ^{\\dagger} + i \\left(i α β^{\\dagger} - i β α^{\\dagger} - i γ δ^{\\dagger} + i δ γ^{\\dagger}\\right) & - α α^{\\dagger} + β β^{\\dagger} + γ γ^{\\dagger} - δ δ^{\\dagger} & 2 β γ^{\\dagger} + 2 γ β^{\\dagger} + i \\left(i α δ^{\\dagger} - i β γ^{\\dagger} + i γ β^{\\dagger} - i δ α^{\\dagger}\\right) - i \\left(i α δ^{\\dagger} + i β γ^{\\dagger} - i γ β^{\\dagger} - i δ α^{\\dagger}\\right) & - α γ^{\\dagger} + β δ^{\\dagger} - γ α^{\\dagger} + δ β^{\\dagger} + i \\left(i α γ^{\\dagger} - i β δ^{\\dagger} - i γ α^{\\dagger} + i δ β^{\\dagger}\\right)\\\\α γ^{\\dagger} - β δ^{\\dagger} + γ α^{\\dagger} - δ β^{\\dagger} + i \\left(i α γ^{\\dagger} - i β δ^{\\dagger} - i γ α^{\\dagger} + i δ β^{\\dagger}\\right) & 2 β γ^{\\dagger} + 2 γ β^{\\dagger} - i \\left(i α δ^{\\dagger} - i β γ^{\\dagger} + i γ β^{\\dagger} - i δ α^{\\dagger}\\right) + i \\left(i α δ^{\\dagger} + i β γ^{\\dagger} - i γ β^{\\dagger} - i δ α^{\\dagger}\\right) & - α α^{\\dagger} + β β^{\\dagger} + γ γ^{\\dagger} - δ δ^{\\dagger} & - α β^{\\dagger} - β α^{\\dagger} + γ δ^{\\dagger} + δ γ^{\\dagger} + i \\left(i α β^{\\dagger} - i β α^{\\dagger} - i γ δ^{\\dagger} + i δ γ^{\\dagger}\\right)\\\\2 α δ^{\\dagger} + 2 δ α^{\\dagger} + i \\left(i α δ^{\\dagger} - i β γ^{\\dagger} + i γ β^{\\dagger} - i δ α^{\\dagger}\\right) + i \\left(i α δ^{\\dagger} + i β γ^{\\dagger} - i γ β^{\\dagger} - i δ α^{\\dagger}\\right) & - α γ^{\\dagger} + β δ^{\\dagger} - γ α^{\\dagger} + δ β^{\\dagger} - i \\left(i α γ^{\\dagger} - i β δ^{\\dagger} - i γ α^{\\dagger} + i δ β^{\\dagger}\\right) & - α β^{\\dagger} - β α^{\\dagger} + γ δ^{\\dagger} + δ γ^{\\dagger} - i \\left(i α β^{\\dagger} - i β α^{\\dagger} - i γ δ^{\\dagger} + i δ γ^{\\dagger}\\right) & α α^{\\dagger} - β β^{\\dagger} - γ γ^{\\dagger} + δ δ^{\\dagger}\\end{matrix}\\right]$"
      ],
      "text/plain": [
       "Matrix([\n",
       "[                                                                                                                α*Dagger(α) - β*Dagger(β) - γ*Dagger(γ) + δ*Dagger(δ),                                             α*Dagger(β) + β*Dagger(α) - γ*Dagger(δ) - δ*Dagger(γ) - I*(I*α*Dagger(β) - I*β*Dagger(α) - I*γ*Dagger(δ) + I*δ*Dagger(γ)),                                             α*Dagger(γ) - β*Dagger(δ) + γ*Dagger(α) - δ*Dagger(β) - I*(I*α*Dagger(γ) - I*β*Dagger(δ) - I*γ*Dagger(α) + I*δ*Dagger(β)), 2*α*Dagger(δ) + 2*δ*Dagger(α) - I*(I*α*Dagger(δ) - I*β*Dagger(γ) + I*γ*Dagger(β) - I*δ*Dagger(α)) - I*(I*α*Dagger(δ) + I*β*Dagger(γ) - I*γ*Dagger(β) - I*δ*Dagger(α))],\n",
       "[                                            α*Dagger(β) + β*Dagger(α) - γ*Dagger(δ) - δ*Dagger(γ) + I*(I*α*Dagger(β) - I*β*Dagger(α) - I*γ*Dagger(δ) + I*δ*Dagger(γ)),                                                                                                                -α*Dagger(α) + β*Dagger(β) + γ*Dagger(γ) - δ*Dagger(δ), 2*β*Dagger(γ) + 2*γ*Dagger(β) + I*(I*α*Dagger(δ) - I*β*Dagger(γ) + I*γ*Dagger(β) - I*δ*Dagger(α)) - I*(I*α*Dagger(δ) + I*β*Dagger(γ) - I*γ*Dagger(β) - I*δ*Dagger(α)),                                            -α*Dagger(γ) + β*Dagger(δ) - γ*Dagger(α) + δ*Dagger(β) + I*(I*α*Dagger(γ) - I*β*Dagger(δ) - I*γ*Dagger(α) + I*δ*Dagger(β))],\n",
       "[                                            α*Dagger(γ) - β*Dagger(δ) + γ*Dagger(α) - δ*Dagger(β) + I*(I*α*Dagger(γ) - I*β*Dagger(δ) - I*γ*Dagger(α) + I*δ*Dagger(β)), 2*β*Dagger(γ) + 2*γ*Dagger(β) - I*(I*α*Dagger(δ) - I*β*Dagger(γ) + I*γ*Dagger(β) - I*δ*Dagger(α)) + I*(I*α*Dagger(δ) + I*β*Dagger(γ) - I*γ*Dagger(β) - I*δ*Dagger(α)),                                                                                                                -α*Dagger(α) + β*Dagger(β) + γ*Dagger(γ) - δ*Dagger(δ),                                            -α*Dagger(β) - β*Dagger(α) + γ*Dagger(δ) + δ*Dagger(γ) + I*(I*α*Dagger(β) - I*β*Dagger(α) - I*γ*Dagger(δ) + I*δ*Dagger(γ))],\n",
       "[2*α*Dagger(δ) + 2*δ*Dagger(α) + I*(I*α*Dagger(δ) - I*β*Dagger(γ) + I*γ*Dagger(β) - I*δ*Dagger(α)) + I*(I*α*Dagger(δ) + I*β*Dagger(γ) - I*γ*Dagger(β) - I*δ*Dagger(α)),                                            -α*Dagger(γ) + β*Dagger(δ) - γ*Dagger(α) + δ*Dagger(β) - I*(I*α*Dagger(γ) - I*β*Dagger(δ) - I*γ*Dagger(α) + I*δ*Dagger(β)),                                            -α*Dagger(β) - β*Dagger(α) + γ*Dagger(δ) + δ*Dagger(γ) - I*(I*α*Dagger(β) - I*β*Dagger(α) - I*γ*Dagger(δ) + I*δ*Dagger(γ)),                                                                                                                 α*Dagger(α) - β*Dagger(β) - γ*Dagger(γ) + δ*Dagger(δ)]])"
      ]
     },
     "execution_count": 74,
     "metadata": {},
     "output_type": "execute_result"
    }
   ],
   "source": [
    "rho_bell_basis += bchsh_sum_correlations\n",
    "bchsh_sum_correlations"
   ]
  },
  {
   "cell_type": "code",
   "execution_count": 75,
   "id": "fee3a86b-33c8-47e2-8c40-79d979033326",
   "metadata": {},
   "outputs": [
    {
     "data": {
      "text/latex": [
       "$\\displaystyle \\left[\\begin{matrix}rz + sz + α α^{\\dagger} - β β^{\\dagger} - γ γ^{\\dagger} + δ δ^{\\dagger} + 1 & sx - i sy + α β^{\\dagger} + β α^{\\dagger} - γ δ^{\\dagger} - δ γ^{\\dagger} - i \\left(i α β^{\\dagger} - i β α^{\\dagger} - i γ δ^{\\dagger} + i δ γ^{\\dagger}\\right) & rx - i ry + α γ^{\\dagger} - β δ^{\\dagger} + γ α^{\\dagger} - δ β^{\\dagger} - i \\left(i α γ^{\\dagger} - i β δ^{\\dagger} - i γ α^{\\dagger} + i δ β^{\\dagger}\\right) & 2 α δ^{\\dagger} + 2 δ α^{\\dagger} - i \\left(i α δ^{\\dagger} - i β γ^{\\dagger} + i γ β^{\\dagger} - i δ α^{\\dagger}\\right) - i \\left(i α δ^{\\dagger} + i β γ^{\\dagger} - i γ β^{\\dagger} - i δ α^{\\dagger}\\right)\\\\sx + i sy + α β^{\\dagger} + β α^{\\dagger} - γ δ^{\\dagger} - δ γ^{\\dagger} + i \\left(i α β^{\\dagger} - i β α^{\\dagger} - i γ δ^{\\dagger} + i δ γ^{\\dagger}\\right) & rz - sz - α α^{\\dagger} + β β^{\\dagger} + γ γ^{\\dagger} - δ δ^{\\dagger} + 1 & 2 β γ^{\\dagger} + 2 γ β^{\\dagger} + i \\left(i α δ^{\\dagger} - i β γ^{\\dagger} + i γ β^{\\dagger} - i δ α^{\\dagger}\\right) - i \\left(i α δ^{\\dagger} + i β γ^{\\dagger} - i γ β^{\\dagger} - i δ α^{\\dagger}\\right) & rx - i ry - α γ^{\\dagger} + β δ^{\\dagger} - γ α^{\\dagger} + δ β^{\\dagger} + i \\left(i α γ^{\\dagger} - i β δ^{\\dagger} - i γ α^{\\dagger} + i δ β^{\\dagger}\\right)\\\\rx + i ry + α γ^{\\dagger} - β δ^{\\dagger} + γ α^{\\dagger} - δ β^{\\dagger} + i \\left(i α γ^{\\dagger} - i β δ^{\\dagger} - i γ α^{\\dagger} + i δ β^{\\dagger}\\right) & 2 β γ^{\\dagger} + 2 γ β^{\\dagger} - i \\left(i α δ^{\\dagger} - i β γ^{\\dagger} + i γ β^{\\dagger} - i δ α^{\\dagger}\\right) + i \\left(i α δ^{\\dagger} + i β γ^{\\dagger} - i γ β^{\\dagger} - i δ α^{\\dagger}\\right) & - rz + sz - α α^{\\dagger} + β β^{\\dagger} + γ γ^{\\dagger} - δ δ^{\\dagger} + 1 & sx - i sy - α β^{\\dagger} - β α^{\\dagger} + γ δ^{\\dagger} + δ γ^{\\dagger} + i \\left(i α β^{\\dagger} - i β α^{\\dagger} - i γ δ^{\\dagger} + i δ γ^{\\dagger}\\right)\\\\2 α δ^{\\dagger} + 2 δ α^{\\dagger} + i \\left(i α δ^{\\dagger} - i β γ^{\\dagger} + i γ β^{\\dagger} - i δ α^{\\dagger}\\right) + i \\left(i α δ^{\\dagger} + i β γ^{\\dagger} - i γ β^{\\dagger} - i δ α^{\\dagger}\\right) & rx + i ry - α γ^{\\dagger} + β δ^{\\dagger} - γ α^{\\dagger} + δ β^{\\dagger} - i \\left(i α γ^{\\dagger} - i β δ^{\\dagger} - i γ α^{\\dagger} + i δ β^{\\dagger}\\right) & sx + i sy - α β^{\\dagger} - β α^{\\dagger} + γ δ^{\\dagger} + δ γ^{\\dagger} - i \\left(i α β^{\\dagger} - i β α^{\\dagger} - i γ δ^{\\dagger} + i δ γ^{\\dagger}\\right) & - rz - sz + α α^{\\dagger} - β β^{\\dagger} - γ γ^{\\dagger} + δ δ^{\\dagger} + 1\\end{matrix}\\right]$"
      ],
      "text/plain": [
       "Matrix([\n",
       "[                                                                                                  rz + sz + α*Dagger(α) - β*Dagger(β) - γ*Dagger(γ) + δ*Dagger(δ) + 1,                                 sx - I*sy + α*Dagger(β) + β*Dagger(α) - γ*Dagger(δ) - δ*Dagger(γ) - I*(I*α*Dagger(β) - I*β*Dagger(α) - I*γ*Dagger(δ) + I*δ*Dagger(γ)),                                 rx - I*ry + α*Dagger(γ) - β*Dagger(δ) + γ*Dagger(α) - δ*Dagger(β) - I*(I*α*Dagger(γ) - I*β*Dagger(δ) - I*γ*Dagger(α) + I*δ*Dagger(β)), 2*α*Dagger(δ) + 2*δ*Dagger(α) - I*(I*α*Dagger(δ) - I*β*Dagger(γ) + I*γ*Dagger(β) - I*δ*Dagger(α)) - I*(I*α*Dagger(δ) + I*β*Dagger(γ) - I*γ*Dagger(β) - I*δ*Dagger(α))],\n",
       "[                                sx + I*sy + α*Dagger(β) + β*Dagger(α) - γ*Dagger(δ) - δ*Dagger(γ) + I*(I*α*Dagger(β) - I*β*Dagger(α) - I*γ*Dagger(δ) + I*δ*Dagger(γ)),                                                                                                   rz - sz - α*Dagger(α) + β*Dagger(β) + γ*Dagger(γ) - δ*Dagger(δ) + 1, 2*β*Dagger(γ) + 2*γ*Dagger(β) + I*(I*α*Dagger(δ) - I*β*Dagger(γ) + I*γ*Dagger(β) - I*δ*Dagger(α)) - I*(I*α*Dagger(δ) + I*β*Dagger(γ) - I*γ*Dagger(β) - I*δ*Dagger(α)),                                 rx - I*ry - α*Dagger(γ) + β*Dagger(δ) - γ*Dagger(α) + δ*Dagger(β) + I*(I*α*Dagger(γ) - I*β*Dagger(δ) - I*γ*Dagger(α) + I*δ*Dagger(β))],\n",
       "[                                rx + I*ry + α*Dagger(γ) - β*Dagger(δ) + γ*Dagger(α) - δ*Dagger(β) + I*(I*α*Dagger(γ) - I*β*Dagger(δ) - I*γ*Dagger(α) + I*δ*Dagger(β)), 2*β*Dagger(γ) + 2*γ*Dagger(β) - I*(I*α*Dagger(δ) - I*β*Dagger(γ) + I*γ*Dagger(β) - I*δ*Dagger(α)) + I*(I*α*Dagger(δ) + I*β*Dagger(γ) - I*γ*Dagger(β) - I*δ*Dagger(α)),                                                                                                  -rz + sz - α*Dagger(α) + β*Dagger(β) + γ*Dagger(γ) - δ*Dagger(δ) + 1,                                 sx - I*sy - α*Dagger(β) - β*Dagger(α) + γ*Dagger(δ) + δ*Dagger(γ) + I*(I*α*Dagger(β) - I*β*Dagger(α) - I*γ*Dagger(δ) + I*δ*Dagger(γ))],\n",
       "[2*α*Dagger(δ) + 2*δ*Dagger(α) + I*(I*α*Dagger(δ) - I*β*Dagger(γ) + I*γ*Dagger(β) - I*δ*Dagger(α)) + I*(I*α*Dagger(δ) + I*β*Dagger(γ) - I*γ*Dagger(β) - I*δ*Dagger(α)),                                 rx + I*ry - α*Dagger(γ) + β*Dagger(δ) - γ*Dagger(α) + δ*Dagger(β) - I*(I*α*Dagger(γ) - I*β*Dagger(δ) - I*γ*Dagger(α) + I*δ*Dagger(β)),                                 sx + I*sy - α*Dagger(β) - β*Dagger(α) + γ*Dagger(δ) + δ*Dagger(γ) - I*(I*α*Dagger(β) - I*β*Dagger(α) - I*γ*Dagger(δ) + I*δ*Dagger(γ)),                                                                                                  -rz - sz + α*Dagger(α) - β*Dagger(β) - γ*Dagger(γ) + δ*Dagger(δ) + 1]])"
      ]
     },
     "execution_count": 75,
     "metadata": {},
     "output_type": "execute_result"
    }
   ],
   "source": [
    "rho_bell_basis"
   ]
  },
  {
   "cell_type": "code",
   "execution_count": null,
   "id": "496f510d-8f38-4704-bfd7-76504b5c3487",
   "metadata": {},
   "outputs": [],
   "source": [
    "rho_bell_basis.eigenvals()"
   ]
  }
 ],
 "metadata": {
  "kernelspec": {
   "display_name": "Python 3 (ipykernel)",
   "language": "python",
   "name": "python3"
  },
  "language_info": {
   "codemirror_mode": {
    "name": "ipython",
    "version": 3
   },
   "file_extension": ".py",
   "mimetype": "text/x-python",
   "name": "python",
   "nbconvert_exporter": "python",
   "pygments_lexer": "ipython3",
   "version": "3.13.2"
  }
 },
 "nbformat": 4,
 "nbformat_minor": 5
}
