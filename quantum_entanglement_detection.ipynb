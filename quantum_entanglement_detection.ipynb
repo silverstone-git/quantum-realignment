{
 "cells": [
  {
   "cell_type": "code",
   "execution_count": 1,
   "id": "f1ebde23-281f-4776-af66-0d5673ee9144",
   "metadata": {},
   "outputs": [],
   "source": [
    "from sympy.physics.quantum.qubit import Qubit\n",
    "from sympy import Matrix, sqrt, symbols, simplify\n",
    "import sympy as sp\n",
    "from IPython.display import display, Latex\n",
    "from itertools import product"
   ]
  },
  {
   "cell_type": "code",
   "execution_count": 2,
   "id": "272a8237-d2eb-4c5c-8dec-8d368fad3740",
   "metadata": {},
   "outputs": [],
   "source": [
    "from sympy.physics.quantum import Ket, Bra, Dagger, represent, TensorProduct"
   ]
  },
  {
   "cell_type": "code",
   "execution_count": 3,
   "id": "0eb6c08e-d9f5-4786-a18b-8be39a56f458",
   "metadata": {},
   "outputs": [],
   "source": [
    "from sympy.physics.matrices import msigma"
   ]
  },
  {
   "cell_type": "code",
   "execution_count": 4,
   "id": "fb7cd078-21f0-4e98-bc28-22f3f5cb564a",
   "metadata": {},
   "outputs": [],
   "source": [
    "import random\n",
    "import math\n",
    "import cmath"
   ]
  },
  {
   "cell_type": "code",
   "execution_count": 5,
   "id": "e78ec723-4cdf-4ae9-9d6a-a2531203c2ef",
   "metadata": {},
   "outputs": [],
   "source": [
    "import numpy as np"
   ]
  },
  {
   "cell_type": "code",
   "execution_count": 6,
   "id": "36f66757-7fb1-4bd4-b4d7-874ca5532dd8",
   "metadata": {},
   "outputs": [],
   "source": [
    "import itertools"
   ]
  },
  {
   "cell_type": "code",
   "execution_count": 7,
   "id": "c5f0d957-3c79-4f98-8320-46faa4450c82",
   "metadata": {},
   "outputs": [
    {
     "data": {
      "text/latex": [
       "$\\displaystyle α α^{\\dagger} {\\left|0\\right\\rangle } {\\left\\langle 0\\right|} + α β^{\\dagger} {\\left|0\\right\\rangle } {\\left\\langle 1\\right|} + β α^{\\dagger} {\\left|1\\right\\rangle } {\\left\\langle 0\\right|} + β β^{\\dagger} {\\left|1\\right\\rangle } {\\left\\langle 1\\right|}$"
      ],
      "text/plain": [
       "α*Dagger(α)*|0>*<0| + α*Dagger(β)*|0>*<1| + β*Dagger(α)*|1>*<0| + β*Dagger(β)*|1>*<1|"
      ]
     },
     "execution_count": 7,
     "metadata": {},
     "output_type": "execute_result"
    }
   ],
   "source": [
    "# Step 1: Symbols define karein\n",
    "alpha, beta = symbols('α β')\n",
    "\n",
    "# Step 2: Quantum state banayein (example: superposition state)\n",
    "psi = alpha * Qubit('0') + beta * Qubit('1')\n",
    "\n",
    "# Step 3: Density matrix calculate karein\n",
    "rho = psi * Dagger(psi)\n",
    "\n",
    "# Step 4: Matrix ko expand aur simplify karein\n",
    "density_matrix = rho.doit().expand()\n",
    "simplified_matrix = simplify(density_matrix)\n",
    "simplified_matrix"
   ]
  },
  {
   "cell_type": "code",
   "execution_count": 8,
   "id": "075b5e96-6425-4156-b6e4-37acf3a7e54a",
   "metadata": {},
   "outputs": [
    {
     "data": {
      "text/latex": [
       "$\\displaystyle \\left[\\begin{matrix}α α^{\\dagger} & α β^{\\dagger}\\\\β α^{\\dagger} & β β^{\\dagger}\\end{matrix}\\right]$"
      ],
      "text/plain": [
       "Matrix([\n",
       "[α*Dagger(α), α*Dagger(β)],\n",
       "[β*Dagger(α), β*Dagger(β)]])"
      ]
     },
     "execution_count": 8,
     "metadata": {},
     "output_type": "execute_result"
    }
   ],
   "source": [
    "res = represent(simplified_matrix.doit(), basis_set=[Qubit('0'), Qubit('1')])\n",
    "res\n",
    "\n",
    "# this is for one qubit, lets do for 2"
   ]
  },
  {
   "cell_type": "code",
   "execution_count": 9,
   "id": "b3c7d4a7-7cfd-4047-b02a-92b4d9b2a05a",
   "metadata": {},
   "outputs": [],
   "source": [
    "def get_rho_bipartite(alpha, beta, gamma, delta):\n",
    "    psi = alpha * TensorProduct(Qubit(0), Qubit(0)) + beta * TensorProduct(Qubit(0), Qubit(1)) + gamma * TensorProduct(Qubit(1), Qubit(0)) + delta * TensorProduct(Qubit(1), Qubit(1))\n",
    "    \n",
    "    rho = psi * Dagger(psi)\n",
    "    density_matrix = rho.doit().expand()\n",
    "    simplified_matrix = simplify(density_matrix)\n",
    "    print(simplified_matrix)\n",
    "    \n",
    "    rho = represent(simplified_matrix.doit(), basis_set=[Qubit('0'), Qubit('1')])\n",
    "    return rho"
   ]
  },
  {
   "cell_type": "code",
   "execution_count": 10,
   "id": "ac2153d6-004f-483c-8352-83b01f76d4a0",
   "metadata": {},
   "outputs": [],
   "source": [
    "dA, dB = 2, 2"
   ]
  },
  {
   "cell_type": "code",
   "execution_count": 11,
   "id": "1b69cfe3-af08-4d0d-a05b-102e1a37f02c",
   "metadata": {},
   "outputs": [],
   "source": [
    "def permute_dims(tensor, perm):\n",
    "    \"\"\"\n",
    "    Permutes the dimensions of a sympy MutableDenseNDimArray according to the given permutation tuple.\n",
    "    \"\"\"\n",
    "    old_shape = tensor.shape\n",
    "    new_shape = tuple(old_shape[i] for i in perm)\n",
    "    new_tensor = sp.MutableDenseNDimArray.zeros(*new_shape)\n",
    "    for new_index in product(*[range(s) for s in new_shape]):\n",
    "        # Compute the corresponding old index.\n",
    "        old_index = [None] * len(new_index)\n",
    "        for new_axis, old_axis in enumerate(perm):\n",
    "            old_index[old_axis] = new_index[new_axis]\n",
    "        new_tensor[new_index] = tensor[tuple(old_index)]\n",
    "    return new_tensor\n"
   ]
  },
  {
   "cell_type": "code",
   "execution_count": 12,
   "id": "0170d857-1d59-44b4-a693-4097c4388eba",
   "metadata": {},
   "outputs": [],
   "source": [
    "def compute_entanglement_measures_symbolic(rho, dA, dB, display_output=True):\n",
    "    \"\"\"\n",
    "    Computes entanglement measures for a bipartite system (dA x dB).\n",
    "    \"\"\"\n",
    "    N = dA * dB\n",
    "    assert rho.shape[0] == N, \"Product dA*dB must equal the matrix dimension.\"\n",
    "    \n",
    "    if display_output:\n",
    "        display(Latex(r\"Density matrix $\\rho$: \"))\n",
    "        display(Latex(r\"$$\" + sp.latex(rho) + r\"$$\"))\n",
    "    \n",
    "    eig_dict_input = rho.eigenvals()\n",
    "    eigenvals_input = [sp.simplify(ev) for ev, mult in eig_dict_input.items() for _ in range(mult)]\n",
    "    if display_output:\n",
    "        display(Latex(r\"Eigenvalues of $\\rho$: \"))\n",
    "        display(Latex(r\"$$\" + sp.latex(eigenvals_input) + r\"$$\"))\n",
    "    \n",
    "    # Partial Transpose\n",
    "    rho_tensor = sp.MutableDenseNDimArray(rho, (dA, dB, dA, dB))\n",
    "    rho_pt_tensor = permute_dims(rho_tensor, (0, 3, 2, 1))\n",
    "    rho_pt = sp.Matrix(rho_pt_tensor.reshape(N, N))\n",
    "    if display_output:\n",
    "        display(Latex(r\"Partial transpose $\\rho^{T_B}$: \"))\n",
    "        display(Latex(r\"$$\" + sp.latex(rho_pt) + r\"$$\"))\n",
    "    \n",
    "    eig_dict_pt = rho_pt.eigenvals()\n",
    "    eigenvals_pt = [sp.simplify(ev) for ev, mult in eig_dict_pt.items() for _ in range(mult)]\n",
    "    if display_output:\n",
    "        display(Latex(r\"Eigenvalues of $\\rho^{T_B}$: \"))\n",
    "        display(Latex(r\"$$\" + sp.latex(eigenvals_pt) + r\"$$\"))\n",
    "    \n",
    "    det_rho_pt = sp.simplify(rho_pt.det())\n",
    "    if display_output:\n",
    "        display(Latex(r\"Determinant of $\\rho^{T_B}$: \"))\n",
    "        display(Latex(r\"$$\" + sp.latex(det_rho_pt) + r\"$$\"))\n",
    "    \n",
    "    # Realignment\n",
    "    rho_realigned_tensor = permute_dims(rho_tensor, (0, 2, 1, 3))\n",
    "    realigned = sp.Matrix(rho_realigned_tensor.reshape(dA*dA, dB*dB))\n",
    "    if display_output:\n",
    "        display(Latex(r\"Realigned matrix: \"))\n",
    "        display(Latex(r\"$$\" + sp.latex(realigned) + r\"$$\"))\n",
    "    \n",
    "    rhotilde_t_rhotilde = realigned.T * realigned\n",
    "    if display_output:\n",
    "        display(Latex(r\"Symmetric for realigned: \"))\n",
    "        display(Latex(r\"$$\" + sp.latex(rhotilde_t_rhotilde) + r\"$$\"))\n",
    "    \n",
    "    # sum_sv = sp.simplify(sum(singular_vals))\n",
    "    # if display_output:\n",
    "    #     display(Latex(r\"Sum of singular values: \"))\n",
    "    #     display(Latex(r\"$$\" + sp.latex(sum_sv) + r\"$$\"))\n",
    "    \n",
    "    # product_sv = sp.simplify(sp.Mul(*singular_vals))\n",
    "    # if display_output:\n",
    "    #     display(Latex(r\"Product of singular values: \"))\n",
    "    #     display(Latex(r\"$$\" + sp.latex(product_sv) + r\"$$\"))\n",
    "    \n",
    "    # det_realigned = sp.simplify(realigned.det())\n",
    "    # if display_output:\n",
    "    #     display(Latex(r\"Determinant of the realigned matrix: \"))\n",
    "    #     display(Latex(r\"$$\" + sp.latex(det_realigned) + r\"$$\"))\n",
    "    \n",
    "    # product_eigenvals = sp.simplify(sp.Mul(*eigenvals_pt))\n",
    "    # if display_output:\n",
    "    #     display(Latex(r\"Product of eigenvalues of $\\rho^{T_B}$: \"))\n",
    "    #     display(Latex(r\"$$\" + sp.latex(product_eigenvals) + r\"$$\"))\n",
    "    \n",
    "    #return eigenvals_input, eigenvals_pt, singular_vals, sum_sv, product_sv, product_eigenvals, det_rho_pt, det_realigned\n",
    "    return realigned, rhotilde_t_rhotilde\n"
   ]
  },
  {
   "cell_type": "code",
   "execution_count": 13,
   "id": "fccb2585-90a4-41e3-af95-7aa19f9eabf7",
   "metadata": {},
   "outputs": [
    {
     "name": "stdout",
     "output_type": "stream",
     "text": [
      "α*Dagger(α)*|0>x|0>*<0|x<0| + α*Dagger(β)*|0>x|0>*<0|x<1| + α*Dagger(γ)*|0>x|0>*<1|x<0| + α*Dagger(δ)*|0>x|0>*<1|x<1| + β*Dagger(α)*|0>x|1>*<0|x<0| + β*Dagger(β)*|0>x|1>*<0|x<1| + β*Dagger(γ)*|0>x|1>*<1|x<0| + β*Dagger(δ)*|0>x|1>*<1|x<1| + γ*Dagger(α)*|1>x|0>*<0|x<0| + γ*Dagger(β)*|1>x|0>*<0|x<1| + γ*Dagger(γ)*|1>x|0>*<1|x<0| + γ*Dagger(δ)*|1>x|0>*<1|x<1| + δ*Dagger(α)*|1>x|1>*<0|x<0| + δ*Dagger(β)*|1>x|1>*<0|x<1| + δ*Dagger(γ)*|1>x|1>*<1|x<0| + δ*Dagger(δ)*|1>x|1>*<1|x<1|\n"
     ]
    },
    {
     "data": {
      "text/latex": [
       "Density matrix $\\rho$: "
      ],
      "text/plain": [
       "<IPython.core.display.Latex object>"
      ]
     },
     "metadata": {},
     "output_type": "display_data"
    },
    {
     "data": {
      "text/latex": [
       "$$\\left[\\begin{matrix}α α^{\\dagger} & α β^{\\dagger} & α γ^{\\dagger} & α δ^{\\dagger}\\\\β α^{\\dagger} & β β^{\\dagger} & β γ^{\\dagger} & β δ^{\\dagger}\\\\γ α^{\\dagger} & γ β^{\\dagger} & γ γ^{\\dagger} & γ δ^{\\dagger}\\\\δ α^{\\dagger} & δ β^{\\dagger} & δ γ^{\\dagger} & δ δ^{\\dagger}\\end{matrix}\\right]$$"
      ],
      "text/plain": [
       "<IPython.core.display.Latex object>"
      ]
     },
     "metadata": {},
     "output_type": "display_data"
    },
    {
     "data": {
      "text/latex": [
       "Eigenvalues of $\\rho$: "
      ],
      "text/plain": [
       "<IPython.core.display.Latex object>"
      ]
     },
     "metadata": {},
     "output_type": "display_data"
    },
    {
     "data": {
      "text/latex": [
       "$$\\left[ α α^{\\dagger} + β β^{\\dagger} + γ γ^{\\dagger} + δ δ^{\\dagger}, \\  0, \\  0, \\  0\\right]$$"
      ],
      "text/plain": [
       "<IPython.core.display.Latex object>"
      ]
     },
     "metadata": {},
     "output_type": "display_data"
    },
    {
     "data": {
      "text/latex": [
       "Partial transpose $\\rho^{T_B}$: "
      ],
      "text/plain": [
       "<IPython.core.display.Latex object>"
      ]
     },
     "metadata": {},
     "output_type": "display_data"
    },
    {
     "data": {
      "text/latex": [
       "$$\\left[\\begin{matrix}α α^{\\dagger} & β α^{\\dagger} & α γ^{\\dagger} & β γ^{\\dagger}\\\\α β^{\\dagger} & β β^{\\dagger} & α δ^{\\dagger} & β δ^{\\dagger}\\\\γ α^{\\dagger} & δ α^{\\dagger} & γ γ^{\\dagger} & δ γ^{\\dagger}\\\\γ β^{\\dagger} & δ β^{\\dagger} & γ δ^{\\dagger} & δ δ^{\\dagger}\\end{matrix}\\right]$$"
      ],
      "text/plain": [
       "<IPython.core.display.Latex object>"
      ]
     },
     "metadata": {},
     "output_type": "display_data"
    },
    {
     "data": {
      "text/latex": [
       "Eigenvalues of $\\rho^{T_B}$: "
      ],
      "text/plain": [
       "<IPython.core.display.Latex object>"
      ]
     },
     "metadata": {},
     "output_type": "display_data"
    },
    {
     "data": {
      "text/latex": [
       "$$\\left[ - \\sqrt{α δ α^{\\dagger} δ^{\\dagger} - α δ β^{\\dagger} γ^{\\dagger} - β γ α^{\\dagger} δ^{\\dagger} + β γ β^{\\dagger} γ^{\\dagger}}, \\  \\sqrt{α δ α^{\\dagger} δ^{\\dagger} - α δ β^{\\dagger} γ^{\\dagger} - β γ α^{\\dagger} δ^{\\dagger} + β γ β^{\\dagger} γ^{\\dagger}}, \\  \\frac{α α^{\\dagger}}{2} + \\frac{β β^{\\dagger}}{2} + \\frac{γ γ^{\\dagger}}{2} + \\frac{δ δ^{\\dagger}}{2} - \\frac{\\sqrt{α^{2} \\left(α^{\\dagger}\\right)^{2} + 2 α β α^{\\dagger} β^{\\dagger} + 2 α γ α^{\\dagger} γ^{\\dagger} - 2 α δ α^{\\dagger} δ^{\\dagger} + 4 α δ β^{\\dagger} γ^{\\dagger} + β^{2} \\left(β^{\\dagger}\\right)^{2} + 4 β γ α^{\\dagger} δ^{\\dagger} - 2 β γ β^{\\dagger} γ^{\\dagger} + 2 β δ β^{\\dagger} δ^{\\dagger} + γ^{2} \\left(γ^{\\dagger}\\right)^{2} + 2 γ δ γ^{\\dagger} δ^{\\dagger} + δ^{2} \\left(δ^{\\dagger}\\right)^{2}}}{2}, \\  \\frac{α α^{\\dagger}}{2} + \\frac{β β^{\\dagger}}{2} + \\frac{γ γ^{\\dagger}}{2} + \\frac{δ δ^{\\dagger}}{2} + \\frac{\\sqrt{α^{2} \\left(α^{\\dagger}\\right)^{2} + 2 α β α^{\\dagger} β^{\\dagger} + 2 α γ α^{\\dagger} γ^{\\dagger} - 2 α δ α^{\\dagger} δ^{\\dagger} + 4 α δ β^{\\dagger} γ^{\\dagger} + β^{2} \\left(β^{\\dagger}\\right)^{2} + 4 β γ α^{\\dagger} δ^{\\dagger} - 2 β γ β^{\\dagger} γ^{\\dagger} + 2 β δ β^{\\dagger} δ^{\\dagger} + γ^{2} \\left(γ^{\\dagger}\\right)^{2} + 2 γ δ γ^{\\dagger} δ^{\\dagger} + δ^{2} \\left(δ^{\\dagger}\\right)^{2}}}{2}\\right]$$"
      ],
      "text/plain": [
       "<IPython.core.display.Latex object>"
      ]
     },
     "metadata": {},
     "output_type": "display_data"
    },
    {
     "data": {
      "text/latex": [
       "Determinant of $\\rho^{T_B}$: "
      ],
      "text/plain": [
       "<IPython.core.display.Latex object>"
      ]
     },
     "metadata": {},
     "output_type": "display_data"
    },
    {
     "data": {
      "text/latex": [
       "$$- α^{2} δ^{2} \\left(α^{\\dagger}\\right)^{2} \\left(δ^{\\dagger}\\right)^{2} + 2 α^{2} δ^{2} α^{\\dagger} β^{\\dagger} γ^{\\dagger} δ^{\\dagger} - α^{2} δ^{2} \\left(β^{\\dagger}\\right)^{2} \\left(γ^{\\dagger}\\right)^{2} + 2 α β γ δ \\left(α^{\\dagger}\\right)^{2} \\left(δ^{\\dagger}\\right)^{2} - 4 α β γ δ α^{\\dagger} β^{\\dagger} γ^{\\dagger} δ^{\\dagger} + 2 α β γ δ \\left(β^{\\dagger}\\right)^{2} \\left(γ^{\\dagger}\\right)^{2} - β^{2} γ^{2} \\left(α^{\\dagger}\\right)^{2} \\left(δ^{\\dagger}\\right)^{2} + 2 β^{2} γ^{2} α^{\\dagger} β^{\\dagger} γ^{\\dagger} δ^{\\dagger} - β^{2} γ^{2} \\left(β^{\\dagger}\\right)^{2} \\left(γ^{\\dagger}\\right)^{2}$$"
      ],
      "text/plain": [
       "<IPython.core.display.Latex object>"
      ]
     },
     "metadata": {},
     "output_type": "display_data"
    },
    {
     "data": {
      "text/latex": [
       "Realigned matrix: "
      ],
      "text/plain": [
       "<IPython.core.display.Latex object>"
      ]
     },
     "metadata": {},
     "output_type": "display_data"
    },
    {
     "data": {
      "text/latex": [
       "$$\\left[\\begin{matrix}α α^{\\dagger} & α β^{\\dagger} & β α^{\\dagger} & β β^{\\dagger}\\\\α γ^{\\dagger} & α δ^{\\dagger} & β γ^{\\dagger} & β δ^{\\dagger}\\\\γ α^{\\dagger} & γ β^{\\dagger} & δ α^{\\dagger} & δ β^{\\dagger}\\\\γ γ^{\\dagger} & γ δ^{\\dagger} & δ γ^{\\dagger} & δ δ^{\\dagger}\\end{matrix}\\right]$$"
      ],
      "text/plain": [
       "<IPython.core.display.Latex object>"
      ]
     },
     "metadata": {},
     "output_type": "display_data"
    },
    {
     "data": {
      "text/latex": [
       "Symmetric for realigned: "
      ],
      "text/plain": [
       "<IPython.core.display.Latex object>"
      ]
     },
     "metadata": {},
     "output_type": "display_data"
    },
    {
     "data": {
      "text/latex": [
       "$$\\left[\\begin{matrix}α^{2} \\left(α^{\\dagger}\\right)^{2} + α^{2} \\left(γ^{\\dagger}\\right)^{2} + γ^{2} \\left(α^{\\dagger}\\right)^{2} + γ^{2} \\left(γ^{\\dagger}\\right)^{2} & α^{2} α^{\\dagger} β^{\\dagger} + α^{2} γ^{\\dagger} δ^{\\dagger} + γ^{2} α^{\\dagger} β^{\\dagger} + γ^{2} γ^{\\dagger} δ^{\\dagger} & α β \\left(α^{\\dagger}\\right)^{2} + α β \\left(γ^{\\dagger}\\right)^{2} + γ δ \\left(α^{\\dagger}\\right)^{2} + γ δ \\left(γ^{\\dagger}\\right)^{2} & α β α^{\\dagger} β^{\\dagger} + α β γ^{\\dagger} δ^{\\dagger} + γ δ α^{\\dagger} β^{\\dagger} + γ δ γ^{\\dagger} δ^{\\dagger}\\\\α^{2} α^{\\dagger} β^{\\dagger} + α^{2} γ^{\\dagger} δ^{\\dagger} + γ^{2} α^{\\dagger} β^{\\dagger} + γ^{2} γ^{\\dagger} δ^{\\dagger} & α^{2} \\left(β^{\\dagger}\\right)^{2} + α^{2} \\left(δ^{\\dagger}\\right)^{2} + γ^{2} \\left(β^{\\dagger}\\right)^{2} + γ^{2} \\left(δ^{\\dagger}\\right)^{2} & α β α^{\\dagger} β^{\\dagger} + α β γ^{\\dagger} δ^{\\dagger} + γ δ α^{\\dagger} β^{\\dagger} + γ δ γ^{\\dagger} δ^{\\dagger} & α β \\left(β^{\\dagger}\\right)^{2} + α β \\left(δ^{\\dagger}\\right)^{2} + γ δ \\left(β^{\\dagger}\\right)^{2} + γ δ \\left(δ^{\\dagger}\\right)^{2}\\\\α β \\left(α^{\\dagger}\\right)^{2} + α β \\left(γ^{\\dagger}\\right)^{2} + γ δ \\left(α^{\\dagger}\\right)^{2} + γ δ \\left(γ^{\\dagger}\\right)^{2} & α β α^{\\dagger} β^{\\dagger} + α β γ^{\\dagger} δ^{\\dagger} + γ δ α^{\\dagger} β^{\\dagger} + γ δ γ^{\\dagger} δ^{\\dagger} & β^{2} \\left(α^{\\dagger}\\right)^{2} + β^{2} \\left(γ^{\\dagger}\\right)^{2} + δ^{2} \\left(α^{\\dagger}\\right)^{2} + δ^{2} \\left(γ^{\\dagger}\\right)^{2} & β^{2} α^{\\dagger} β^{\\dagger} + β^{2} γ^{\\dagger} δ^{\\dagger} + δ^{2} α^{\\dagger} β^{\\dagger} + δ^{2} γ^{\\dagger} δ^{\\dagger}\\\\α β α^{\\dagger} β^{\\dagger} + α β γ^{\\dagger} δ^{\\dagger} + γ δ α^{\\dagger} β^{\\dagger} + γ δ γ^{\\dagger} δ^{\\dagger} & α β \\left(β^{\\dagger}\\right)^{2} + α β \\left(δ^{\\dagger}\\right)^{2} + γ δ \\left(β^{\\dagger}\\right)^{2} + γ δ \\left(δ^{\\dagger}\\right)^{2} & β^{2} α^{\\dagger} β^{\\dagger} + β^{2} γ^{\\dagger} δ^{\\dagger} + δ^{2} α^{\\dagger} β^{\\dagger} + δ^{2} γ^{\\dagger} δ^{\\dagger} & β^{2} \\left(β^{\\dagger}\\right)^{2} + β^{2} \\left(δ^{\\dagger}\\right)^{2} + δ^{2} \\left(β^{\\dagger}\\right)^{2} + δ^{2} \\left(δ^{\\dagger}\\right)^{2}\\end{matrix}\\right]$$"
      ],
      "text/plain": [
       "<IPython.core.display.Latex object>"
      ]
     },
     "metadata": {},
     "output_type": "display_data"
    }
   ],
   "source": [
    "alpha, beta, gamma, delta= symbols('α β γ δ')\n",
    "realigned, rhotilde_t_rhotilde= compute_entanglement_measures_symbolic(get_rho_bipartite(alpha, beta, gamma, delta), dA, dB, True)"
   ]
  },
  {
   "cell_type": "code",
   "execution_count": 14,
   "id": "f4255535-6c21-4aaa-a0a0-addbc15dcb83",
   "metadata": {},
   "outputs": [
    {
     "data": {
      "text/latex": [
       "$\\displaystyle \\left[\\begin{matrix}α α^{\\dagger} & α β^{\\dagger} & β α^{\\dagger} & β β^{\\dagger}\\\\α γ^{\\dagger} & α δ^{\\dagger} & β γ^{\\dagger} & β δ^{\\dagger}\\\\γ α^{\\dagger} & γ β^{\\dagger} & δ α^{\\dagger} & δ β^{\\dagger}\\\\γ γ^{\\dagger} & γ δ^{\\dagger} & δ γ^{\\dagger} & δ δ^{\\dagger}\\end{matrix}\\right]$"
      ],
      "text/plain": [
       "Matrix([\n",
       "[α*Dagger(α), α*Dagger(β), β*Dagger(α), β*Dagger(β)],\n",
       "[α*Dagger(γ), α*Dagger(δ), β*Dagger(γ), β*Dagger(δ)],\n",
       "[γ*Dagger(α), γ*Dagger(β), δ*Dagger(α), δ*Dagger(β)],\n",
       "[γ*Dagger(γ), γ*Dagger(δ), δ*Dagger(γ), δ*Dagger(δ)]])"
      ]
     },
     "execution_count": 14,
     "metadata": {},
     "output_type": "execute_result"
    }
   ],
   "source": [
    "realigned"
   ]
  },
  {
   "cell_type": "code",
   "execution_count": 15,
   "id": "52ee25d7-7bc5-4443-a903-fdc63fb14ac0",
   "metadata": {},
   "outputs": [
    {
     "data": {
      "text/latex": [
       "$\\displaystyle \\left[\\begin{matrix}α^{2} \\left(α^{\\dagger}\\right)^{2} + α^{2} \\left(γ^{\\dagger}\\right)^{2} + γ^{2} \\left(α^{\\dagger}\\right)^{2} + γ^{2} \\left(γ^{\\dagger}\\right)^{2} & α^{2} α^{\\dagger} β^{\\dagger} + α^{2} γ^{\\dagger} δ^{\\dagger} + γ^{2} α^{\\dagger} β^{\\dagger} + γ^{2} γ^{\\dagger} δ^{\\dagger} & α β \\left(α^{\\dagger}\\right)^{2} + α β \\left(γ^{\\dagger}\\right)^{2} + γ δ \\left(α^{\\dagger}\\right)^{2} + γ δ \\left(γ^{\\dagger}\\right)^{2} & α β α^{\\dagger} β^{\\dagger} + α β γ^{\\dagger} δ^{\\dagger} + γ δ α^{\\dagger} β^{\\dagger} + γ δ γ^{\\dagger} δ^{\\dagger}\\\\α^{2} α^{\\dagger} β^{\\dagger} + α^{2} γ^{\\dagger} δ^{\\dagger} + γ^{2} α^{\\dagger} β^{\\dagger} + γ^{2} γ^{\\dagger} δ^{\\dagger} & α^{2} \\left(β^{\\dagger}\\right)^{2} + α^{2} \\left(δ^{\\dagger}\\right)^{2} + γ^{2} \\left(β^{\\dagger}\\right)^{2} + γ^{2} \\left(δ^{\\dagger}\\right)^{2} & α β α^{\\dagger} β^{\\dagger} + α β γ^{\\dagger} δ^{\\dagger} + γ δ α^{\\dagger} β^{\\dagger} + γ δ γ^{\\dagger} δ^{\\dagger} & α β \\left(β^{\\dagger}\\right)^{2} + α β \\left(δ^{\\dagger}\\right)^{2} + γ δ \\left(β^{\\dagger}\\right)^{2} + γ δ \\left(δ^{\\dagger}\\right)^{2}\\\\α β \\left(α^{\\dagger}\\right)^{2} + α β \\left(γ^{\\dagger}\\right)^{2} + γ δ \\left(α^{\\dagger}\\right)^{2} + γ δ \\left(γ^{\\dagger}\\right)^{2} & α β α^{\\dagger} β^{\\dagger} + α β γ^{\\dagger} δ^{\\dagger} + γ δ α^{\\dagger} β^{\\dagger} + γ δ γ^{\\dagger} δ^{\\dagger} & β^{2} \\left(α^{\\dagger}\\right)^{2} + β^{2} \\left(γ^{\\dagger}\\right)^{2} + δ^{2} \\left(α^{\\dagger}\\right)^{2} + δ^{2} \\left(γ^{\\dagger}\\right)^{2} & β^{2} α^{\\dagger} β^{\\dagger} + β^{2} γ^{\\dagger} δ^{\\dagger} + δ^{2} α^{\\dagger} β^{\\dagger} + δ^{2} γ^{\\dagger} δ^{\\dagger}\\\\α β α^{\\dagger} β^{\\dagger} + α β γ^{\\dagger} δ^{\\dagger} + γ δ α^{\\dagger} β^{\\dagger} + γ δ γ^{\\dagger} δ^{\\dagger} & α β \\left(β^{\\dagger}\\right)^{2} + α β \\left(δ^{\\dagger}\\right)^{2} + γ δ \\left(β^{\\dagger}\\right)^{2} + γ δ \\left(δ^{\\dagger}\\right)^{2} & β^{2} α^{\\dagger} β^{\\dagger} + β^{2} γ^{\\dagger} δ^{\\dagger} + δ^{2} α^{\\dagger} β^{\\dagger} + δ^{2} γ^{\\dagger} δ^{\\dagger} & β^{2} \\left(β^{\\dagger}\\right)^{2} + β^{2} \\left(δ^{\\dagger}\\right)^{2} + δ^{2} \\left(β^{\\dagger}\\right)^{2} + δ^{2} \\left(δ^{\\dagger}\\right)^{2}\\end{matrix}\\right]$"
      ],
      "text/plain": [
       "Matrix([\n",
       "[                            α**2*Dagger(α)**2 + α**2*Dagger(γ)**2 + γ**2*Dagger(α)**2 + γ**2*Dagger(γ)**2, α**2*Dagger(α)*Dagger(β) + α**2*Dagger(γ)*Dagger(δ) + γ**2*Dagger(α)*Dagger(β) + γ**2*Dagger(γ)*Dagger(δ),                                 α*β*Dagger(α)**2 + α*β*Dagger(γ)**2 + γ*δ*Dagger(α)**2 + γ*δ*Dagger(γ)**2,     α*β*Dagger(α)*Dagger(β) + α*β*Dagger(γ)*Dagger(δ) + γ*δ*Dagger(α)*Dagger(β) + γ*δ*Dagger(γ)*Dagger(δ)],\n",
       "[α**2*Dagger(α)*Dagger(β) + α**2*Dagger(γ)*Dagger(δ) + γ**2*Dagger(α)*Dagger(β) + γ**2*Dagger(γ)*Dagger(δ),                             α**2*Dagger(β)**2 + α**2*Dagger(δ)**2 + γ**2*Dagger(β)**2 + γ**2*Dagger(δ)**2,     α*β*Dagger(α)*Dagger(β) + α*β*Dagger(γ)*Dagger(δ) + γ*δ*Dagger(α)*Dagger(β) + γ*δ*Dagger(γ)*Dagger(δ),                                 α*β*Dagger(β)**2 + α*β*Dagger(δ)**2 + γ*δ*Dagger(β)**2 + γ*δ*Dagger(δ)**2],\n",
       "[                                α*β*Dagger(α)**2 + α*β*Dagger(γ)**2 + γ*δ*Dagger(α)**2 + γ*δ*Dagger(γ)**2,     α*β*Dagger(α)*Dagger(β) + α*β*Dagger(γ)*Dagger(δ) + γ*δ*Dagger(α)*Dagger(β) + γ*δ*Dagger(γ)*Dagger(δ),                             β**2*Dagger(α)**2 + β**2*Dagger(γ)**2 + δ**2*Dagger(α)**2 + δ**2*Dagger(γ)**2, β**2*Dagger(α)*Dagger(β) + β**2*Dagger(γ)*Dagger(δ) + δ**2*Dagger(α)*Dagger(β) + δ**2*Dagger(γ)*Dagger(δ)],\n",
       "[    α*β*Dagger(α)*Dagger(β) + α*β*Dagger(γ)*Dagger(δ) + γ*δ*Dagger(α)*Dagger(β) + γ*δ*Dagger(γ)*Dagger(δ),                                 α*β*Dagger(β)**2 + α*β*Dagger(δ)**2 + γ*δ*Dagger(β)**2 + γ*δ*Dagger(δ)**2, β**2*Dagger(α)*Dagger(β) + β**2*Dagger(γ)*Dagger(δ) + δ**2*Dagger(α)*Dagger(β) + δ**2*Dagger(γ)*Dagger(δ),                             β**2*Dagger(β)**2 + β**2*Dagger(δ)**2 + δ**2*Dagger(β)**2 + δ**2*Dagger(δ)**2]])"
      ]
     },
     "execution_count": 15,
     "metadata": {},
     "output_type": "execute_result"
    }
   ],
   "source": [
    "rhotilde_t_rhotilde"
   ]
  },
  {
   "cell_type": "code",
   "execution_count": 16,
   "id": "39f9e2ae-82b5-45bf-ac05-d828272b5ef0",
   "metadata": {},
   "outputs": [],
   "source": [
    "def generate_alpha_beta_gamma_delta():\n",
    "    # Generate four random complex numbers using a Gaussian distribution.\n",
    "    # Using a Gaussian can help ensure a uniform distribution on the complex sphere.\n",
    "    a = random.gauss(0,1) + 1j * random.gauss(0,1)\n",
    "    b = random.gauss(0,1) + 1j * random.gauss(0,1)\n",
    "    c = random.gauss(0,1) + 1j * random.gauss(0,1)\n",
    "    d = random.gauss(0,1) + 1j * random.gauss(0,1)\n",
    "    \n",
    "    # Normalize the state so that |α|^2 + |β|^2 + |γ|^2 + |δ|^2 = 1\n",
    "    norm = math.sqrt(abs(a)**2 + abs(b)**2 + abs(c)**2 + abs(d)**2)\n",
    "    alpha = a / norm\n",
    "    beta  = b / norm\n",
    "    gamma = c / norm\n",
    "    delta = d / norm\n",
    "\n",
    "    return alpha, beta, gamma, delta"
   ]
  },
  {
   "cell_type": "code",
   "execution_count": 17,
   "id": "9aff9839-c748-4177-9f36-db7aba6b2dd7",
   "metadata": {},
   "outputs": [],
   "source": [
    "a, b, c, d= generate_alpha_beta_gamma_delta()"
   ]
  },
  {
   "cell_type": "code",
   "execution_count": 18,
   "id": "5d81350b-3d4b-436d-9c4f-31e206343ed9",
   "metadata": {},
   "outputs": [],
   "source": [
    "rhotilde_t_rhotilde_subbed= simplify(rhotilde_t_rhotilde.subs({alpha: a, beta: b, gamma: c, delta: d}))"
   ]
  },
  {
   "cell_type": "code",
   "execution_count": 19,
   "id": "0b55823a-0ba6-4084-99e5-31df49b0d47b",
   "metadata": {},
   "outputs": [
    {
     "data": {
      "text/plain": [
       "{0.66188091712555 - 1.05060656182647e-64*I: 1,\n",
       " -0.0879563942131484 + 0.119347600618104*I: 1,\n",
       " -0.0879563942131484 - 0.119347600618104*I: 1,\n",
       " 0.0332086580645562 - 8.84987623668608e-67*I: 1}"
      ]
     },
     "execution_count": 19,
     "metadata": {},
     "output_type": "execute_result"
    }
   ],
   "source": [
    "eig_dict= rhotilde_t_rhotilde_subbed.eigenvals()\n",
    "eig_dict"
   ]
  },
  {
   "cell_type": "code",
   "execution_count": 20,
   "id": "361587fa-3cb7-4882-96f1-d6251ab37af6",
   "metadata": {},
   "outputs": [],
   "source": [
    "def get_singular_values_from_eig_dict(eig_dict):\n",
    "    singular_vals= []\n",
    "    for eigenvalue, multiplicity in eig_dict.items():\n",
    "        # Simplify the eigenvalue for a cleaner expression.\n",
    "        eigenvalue = sp.simplify(eigenvalue)\n",
    "        # print(\"current eig: \", eigenvalue)\n",
    "        # print(\"multiplicity: \", multiplicity)\n",
    "        # Assume eigenvalues are nonnegative; take the square root.\n",
    "        s_val = sp.sqrt(eigenvalue).evalf()\n",
    "        singular_vals.extend([sp.simplify(s_val)] * multiplicity)\n",
    "    return singular_vals"
   ]
  },
  {
   "cell_type": "code",
   "execution_count": 21,
   "id": "aa2288ac-cc56-4a0a-900b-238cd3c9767a",
   "metadata": {},
   "outputs": [
    {
     "data": {
      "text/plain": [
       "[0.813560641332624 - 0.e-64*I,\n",
       " 0.173638615146078 + 0.343666644996276*I,\n",
       " 0.173638615146078 - 0.343666644996276*I,\n",
       " 0.182232428685336 - 0.e-66*I]"
      ]
     },
     "execution_count": 21,
     "metadata": {},
     "output_type": "execute_result"
    }
   ],
   "source": [
    "singular_vals= get_singular_values_from_eig_dict(eig_dict)\n",
    "singular_vals"
   ]
  },
  {
   "cell_type": "code",
   "execution_count": 22,
   "id": "8ffcd4ef-f982-4168-a7f9-c56ca9be25b1",
   "metadata": {},
   "outputs": [
    {
     "data": {
      "text/latex": [
       "$\\displaystyle 1.34307030031012 - 2.0 \\cdot 10^{-66} i$"
      ],
      "text/plain": [
       "1.34307030031012 - 0.e-66*I"
      ]
     },
     "execution_count": 22,
     "metadata": {},
     "output_type": "execute_result"
    }
   ],
   "source": [
    "sum(singular_vals)"
   ]
  },
  {
   "cell_type": "code",
   "execution_count": 23,
   "id": "f09a64f1-3421-4b30-b753-ca606b9afef1",
   "metadata": {},
   "outputs": [],
   "source": [
    "def generate_1_normalized_real(n):\n",
    "    # Generate n random real numbers from a Gaussian distribution\n",
    "    random_numbers= [random.gauss(0, 1) for i in range(n)]\n",
    "    \n",
    "    # Compute the norm: sqrt(a^2 + b^2 + c^2 + d^2)\n",
    "    sqsum= sum(map(lambda x: x**2, random_numbers))\n",
    "    norm= sqrt(sqsum)\n",
    "    return tuple(map(lambda x: x / norm, random_numbers))"
   ]
  },
  {
   "cell_type": "code",
   "execution_count": 24,
   "id": "951aca2b-aba7-41e0-8293-b1a0c65307d9",
   "metadata": {},
   "outputs": [
    {
     "name": "stdout",
     "output_type": "stream",
     "text": [
      "α*Dagger(α)*|0>x|0>*<0|x<0| + α*Dagger(β)*|0>x|0>*<0|x<1| + α*Dagger(γ)*|0>x|0>*<1|x<0| + α*Dagger(δ)*|0>x|0>*<1|x<1| + β*Dagger(α)*|0>x|1>*<0|x<0| + β*Dagger(β)*|0>x|1>*<0|x<1| + β*Dagger(γ)*|0>x|1>*<1|x<0| + β*Dagger(δ)*|0>x|1>*<1|x<1| + γ*Dagger(α)*|1>x|0>*<0|x<0| + γ*Dagger(β)*|1>x|0>*<0|x<1| + γ*Dagger(γ)*|1>x|0>*<1|x<0| + γ*Dagger(δ)*|1>x|0>*<1|x<1| + δ*Dagger(α)*|1>x|1>*<0|x<0| + δ*Dagger(β)*|1>x|1>*<0|x<1| + δ*Dagger(γ)*|1>x|1>*<1|x<0| + δ*Dagger(δ)*|1>x|1>*<1|x<1|\n"
     ]
    },
    {
     "data": {
      "text/latex": [
       "$\\displaystyle \\left[\\begin{matrix}α α^{\\dagger} & α β^{\\dagger} & α γ^{\\dagger} & α δ^{\\dagger}\\\\β α^{\\dagger} & β β^{\\dagger} & β γ^{\\dagger} & β δ^{\\dagger}\\\\γ α^{\\dagger} & γ β^{\\dagger} & γ γ^{\\dagger} & γ δ^{\\dagger}\\\\δ α^{\\dagger} & δ β^{\\dagger} & δ γ^{\\dagger} & δ δ^{\\dagger}\\end{matrix}\\right]$"
      ],
      "text/plain": [
       "Matrix([\n",
       "[α*Dagger(α), α*Dagger(β), α*Dagger(γ), α*Dagger(δ)],\n",
       "[β*Dagger(α), β*Dagger(β), β*Dagger(γ), β*Dagger(δ)],\n",
       "[γ*Dagger(α), γ*Dagger(β), γ*Dagger(γ), γ*Dagger(δ)],\n",
       "[δ*Dagger(α), δ*Dagger(β), δ*Dagger(γ), δ*Dagger(δ)]])"
      ]
     },
     "execution_count": 24,
     "metadata": {},
     "output_type": "execute_result"
    }
   ],
   "source": [
    "rho= get_rho_bipartite(alpha, beta, gamma, delta)\n",
    "rho"
   ]
  },
  {
   "cell_type": "code",
   "execution_count": 25,
   "id": "8d70a3fe-3e8e-4635-ab4d-a2de3a56a704",
   "metadata": {},
   "outputs": [],
   "source": [
    "def generate_realignment_scores(rhotilde_t_rhotilde, alpha, beta, gamma, delta, no_of_random_samples= 20):\n",
    "    res= {}\n",
    "    for i in range(no_of_random_samples):\n",
    "        a, b, c, d= generate_1_normalized_real(4)\n",
    "        subbed_symm= simplify(rhotilde_t_rhotilde.subs({alpha: a, beta: b, gamma: c, delta: d}))\n",
    "        print(\"subbed symm: \", subbed_symm)\n",
    "        try:\n",
    "            eig_dict= subbed_symm.eigenvals()\n",
    "            res[str((a, b, c, d))]= sum(get_singular_values_from_eig_dict(eig_dict))\n",
    "        except e:\n",
    "            print(e)\n",
    "    return res\n",
    "    "
   ]
  },
  {
   "cell_type": "code",
   "execution_count": 26,
   "id": "f15e9a38-2956-4c8d-9b26-35f962278379",
   "metadata": {},
   "outputs": [
    {
     "data": {
      "text/latex": [
       "$\\displaystyle \\left[\\begin{matrix}α α^{\\dagger} & α β^{\\dagger} & β α^{\\dagger} & β β^{\\dagger}\\\\α γ^{\\dagger} & α δ^{\\dagger} & β γ^{\\dagger} & β δ^{\\dagger}\\\\γ α^{\\dagger} & γ β^{\\dagger} & δ α^{\\dagger} & δ β^{\\dagger}\\\\γ γ^{\\dagger} & γ δ^{\\dagger} & δ γ^{\\dagger} & δ δ^{\\dagger}\\end{matrix}\\right]$"
      ],
      "text/plain": [
       "Matrix([\n",
       "[α*Dagger(α), α*Dagger(β), β*Dagger(α), β*Dagger(β)],\n",
       "[α*Dagger(γ), α*Dagger(δ), β*Dagger(γ), β*Dagger(δ)],\n",
       "[γ*Dagger(α), γ*Dagger(β), δ*Dagger(α), δ*Dagger(β)],\n",
       "[γ*Dagger(γ), γ*Dagger(δ), δ*Dagger(γ), δ*Dagger(δ)]])"
      ]
     },
     "execution_count": 26,
     "metadata": {},
     "output_type": "execute_result"
    }
   ],
   "source": [
    "realigned, rhotilde_t_rhotilde= compute_entanglement_measures_symbolic(rho, dA, dB, False)\n",
    "realigned"
   ]
  },
  {
   "cell_type": "code",
   "execution_count": 27,
   "id": "a0dc3adf-addd-49ef-a2b2-b2aa38a29517",
   "metadata": {},
   "outputs": [
    {
     "data": {
      "text/latex": [
       "$\\displaystyle \\left[\\begin{matrix}α^{2} \\left(α^{\\dagger}\\right)^{2} + α^{2} \\left(γ^{\\dagger}\\right)^{2} + γ^{2} \\left(α^{\\dagger}\\right)^{2} + γ^{2} \\left(γ^{\\dagger}\\right)^{2} & α^{2} α^{\\dagger} β^{\\dagger} + α^{2} γ^{\\dagger} δ^{\\dagger} + γ^{2} α^{\\dagger} β^{\\dagger} + γ^{2} γ^{\\dagger} δ^{\\dagger} & α β \\left(α^{\\dagger}\\right)^{2} + α β \\left(γ^{\\dagger}\\right)^{2} + γ δ \\left(α^{\\dagger}\\right)^{2} + γ δ \\left(γ^{\\dagger}\\right)^{2} & α β α^{\\dagger} β^{\\dagger} + α β γ^{\\dagger} δ^{\\dagger} + γ δ α^{\\dagger} β^{\\dagger} + γ δ γ^{\\dagger} δ^{\\dagger}\\\\α^{2} α^{\\dagger} β^{\\dagger} + α^{2} γ^{\\dagger} δ^{\\dagger} + γ^{2} α^{\\dagger} β^{\\dagger} + γ^{2} γ^{\\dagger} δ^{\\dagger} & α^{2} \\left(β^{\\dagger}\\right)^{2} + α^{2} \\left(δ^{\\dagger}\\right)^{2} + γ^{2} \\left(β^{\\dagger}\\right)^{2} + γ^{2} \\left(δ^{\\dagger}\\right)^{2} & α β α^{\\dagger} β^{\\dagger} + α β γ^{\\dagger} δ^{\\dagger} + γ δ α^{\\dagger} β^{\\dagger} + γ δ γ^{\\dagger} δ^{\\dagger} & α β \\left(β^{\\dagger}\\right)^{2} + α β \\left(δ^{\\dagger}\\right)^{2} + γ δ \\left(β^{\\dagger}\\right)^{2} + γ δ \\left(δ^{\\dagger}\\right)^{2}\\\\α β \\left(α^{\\dagger}\\right)^{2} + α β \\left(γ^{\\dagger}\\right)^{2} + γ δ \\left(α^{\\dagger}\\right)^{2} + γ δ \\left(γ^{\\dagger}\\right)^{2} & α β α^{\\dagger} β^{\\dagger} + α β γ^{\\dagger} δ^{\\dagger} + γ δ α^{\\dagger} β^{\\dagger} + γ δ γ^{\\dagger} δ^{\\dagger} & β^{2} \\left(α^{\\dagger}\\right)^{2} + β^{2} \\left(γ^{\\dagger}\\right)^{2} + δ^{2} \\left(α^{\\dagger}\\right)^{2} + δ^{2} \\left(γ^{\\dagger}\\right)^{2} & β^{2} α^{\\dagger} β^{\\dagger} + β^{2} γ^{\\dagger} δ^{\\dagger} + δ^{2} α^{\\dagger} β^{\\dagger} + δ^{2} γ^{\\dagger} δ^{\\dagger}\\\\α β α^{\\dagger} β^{\\dagger} + α β γ^{\\dagger} δ^{\\dagger} + γ δ α^{\\dagger} β^{\\dagger} + γ δ γ^{\\dagger} δ^{\\dagger} & α β \\left(β^{\\dagger}\\right)^{2} + α β \\left(δ^{\\dagger}\\right)^{2} + γ δ \\left(β^{\\dagger}\\right)^{2} + γ δ \\left(δ^{\\dagger}\\right)^{2} & β^{2} α^{\\dagger} β^{\\dagger} + β^{2} γ^{\\dagger} δ^{\\dagger} + δ^{2} α^{\\dagger} β^{\\dagger} + δ^{2} γ^{\\dagger} δ^{\\dagger} & β^{2} \\left(β^{\\dagger}\\right)^{2} + β^{2} \\left(δ^{\\dagger}\\right)^{2} + δ^{2} \\left(β^{\\dagger}\\right)^{2} + δ^{2} \\left(δ^{\\dagger}\\right)^{2}\\end{matrix}\\right]$"
      ],
      "text/plain": [
       "Matrix([\n",
       "[                            α**2*Dagger(α)**2 + α**2*Dagger(γ)**2 + γ**2*Dagger(α)**2 + γ**2*Dagger(γ)**2, α**2*Dagger(α)*Dagger(β) + α**2*Dagger(γ)*Dagger(δ) + γ**2*Dagger(α)*Dagger(β) + γ**2*Dagger(γ)*Dagger(δ),                                 α*β*Dagger(α)**2 + α*β*Dagger(γ)**2 + γ*δ*Dagger(α)**2 + γ*δ*Dagger(γ)**2,     α*β*Dagger(α)*Dagger(β) + α*β*Dagger(γ)*Dagger(δ) + γ*δ*Dagger(α)*Dagger(β) + γ*δ*Dagger(γ)*Dagger(δ)],\n",
       "[α**2*Dagger(α)*Dagger(β) + α**2*Dagger(γ)*Dagger(δ) + γ**2*Dagger(α)*Dagger(β) + γ**2*Dagger(γ)*Dagger(δ),                             α**2*Dagger(β)**2 + α**2*Dagger(δ)**2 + γ**2*Dagger(β)**2 + γ**2*Dagger(δ)**2,     α*β*Dagger(α)*Dagger(β) + α*β*Dagger(γ)*Dagger(δ) + γ*δ*Dagger(α)*Dagger(β) + γ*δ*Dagger(γ)*Dagger(δ),                                 α*β*Dagger(β)**2 + α*β*Dagger(δ)**2 + γ*δ*Dagger(β)**2 + γ*δ*Dagger(δ)**2],\n",
       "[                                α*β*Dagger(α)**2 + α*β*Dagger(γ)**2 + γ*δ*Dagger(α)**2 + γ*δ*Dagger(γ)**2,     α*β*Dagger(α)*Dagger(β) + α*β*Dagger(γ)*Dagger(δ) + γ*δ*Dagger(α)*Dagger(β) + γ*δ*Dagger(γ)*Dagger(δ),                             β**2*Dagger(α)**2 + β**2*Dagger(γ)**2 + δ**2*Dagger(α)**2 + δ**2*Dagger(γ)**2, β**2*Dagger(α)*Dagger(β) + β**2*Dagger(γ)*Dagger(δ) + δ**2*Dagger(α)*Dagger(β) + δ**2*Dagger(γ)*Dagger(δ)],\n",
       "[    α*β*Dagger(α)*Dagger(β) + α*β*Dagger(γ)*Dagger(δ) + γ*δ*Dagger(α)*Dagger(β) + γ*δ*Dagger(γ)*Dagger(δ),                                 α*β*Dagger(β)**2 + α*β*Dagger(δ)**2 + γ*δ*Dagger(β)**2 + γ*δ*Dagger(δ)**2, β**2*Dagger(α)*Dagger(β) + β**2*Dagger(γ)*Dagger(δ) + δ**2*Dagger(α)*Dagger(β) + δ**2*Dagger(γ)*Dagger(δ),                             β**2*Dagger(β)**2 + β**2*Dagger(δ)**2 + δ**2*Dagger(β)**2 + δ**2*Dagger(δ)**2]])"
      ]
     },
     "execution_count": 27,
     "metadata": {},
     "output_type": "execute_result"
    }
   ],
   "source": [
    "rhotilde_t_rhotilde"
   ]
  },
  {
   "cell_type": "code",
   "execution_count": 28,
   "id": "bf1c9faa-96f3-422a-9d60-9cd4879377fd",
   "metadata": {},
   "outputs": [
    {
     "name": "stdout",
     "output_type": "stream",
     "text": [
      "subbed symm:  Matrix([[0.137530914715934, 0.0625561782485530, 0.0625561782485530, 0.0284537876094802], [0.0625561782485530, 0.233320692690498, 0.0284537876094802, 0.106126327096489], [0.0625561782485530, 0.0284537876094802, 0.233320692690498, 0.106126327096489], [0.0284537876094802, 0.106126327096489, 0.106126327096489, 0.395827699903071]])\n",
      "subbed symm:  Matrix([[0.190984731927230, -0.0598087712844545, -0.0598087712844545, 0.0187297125087421], [-0.0598087712844545, 0.246033267618818, 0.0187297125087421, -0.0770477685985269], [-0.0598087712844545, 0.0187297125087421, 0.246033267618818, -0.0770477685985269], [0.0187297125087421, -0.0770477685985269, -0.0770477685985269, 0.316948732835133]])\n",
      "subbed symm:  Matrix([[0.724244842573485, 0.189225904209725, 0.189225904209725, 0.0494396932075566], [0.189225904209725, 0.126780916480543, 0.0494396932075566, 0.0331244796612195], [0.189225904209725, 0.0494396932075566, 0.126780916480543, 0.0331244796612195], [0.0494396932075566, 0.0331244796612195, 0.0331244796612195, 0.0221933244654285]])\n",
      "subbed symm:  Matrix([[0.557822165076025, -0.283281363137707, -0.283281363137707, 0.143860061011058], [-0.283281363137707, 0.189052767610851, 0.143860061011058, -0.0960075254565387], [-0.283281363137707, 0.143860061011058, 0.189052767610851, -0.0960075254565387], [0.143860061011058, -0.0960075254565387, -0.0960075254565387, 0.0640722997022738]])\n",
      "subbed symm:  Matrix([[0.990520816150088, 0.0643989609444138, 0.0643989609444138, 0.00418691470497247], [0.0643989609444138, 0.00472830650719362, 0.00418691470497247, 0.000307412041347590], [0.0643989609444138, 0.00418691470497247, 0.00472830650719362, 0.000307412041347590], [0.00418691470497247, 0.000307412041347590, 0.000307412041347590, 2.25708355255625e-5]])\n",
      "subbed symm:  Matrix([[0.593158296240203, -0.312565982992971, -0.312565982992971, 0.164707286981617], [-0.312565982992971, 0.177009410327791, 0.164707286981617, -0.0932754724814756], [-0.312565982992971, 0.164707286981617, 0.177009410327791, -0.0932754724814756], [0.164707286981617, -0.0932754724814756, -0.0932754724814756, 0.0528228831042161]])\n",
      "subbed symm:  Matrix([[0.108475145942434, 0.0653309926557020, 0.0653309926557020, 0.0393466960961215], [0.0653309926557020, 0.220880506722636, 0.0393466960961215, 0.133029023718873], [0.0653309926557020, 0.0393466960961215, 0.220880506722636, 0.133029023718873], [0.0393466960961215, 0.133029023718873, 0.133029023718873, 0.449763840612295]])\n",
      "subbed symm:  Matrix([[0.699230802285877, -0.230349515279152, -0.230349515279152, 0.0758846707208511], [-0.230349515279152, 0.136969414340426, 0.0758846707208511, -0.0451222087159816], [-0.230349515279152, 0.0758846707208511, 0.136969414340426, -0.0451222087159816], [0.0758846707208511, -0.0451222087159816, -0.0451222087159816, 0.0268303690332698]])\n",
      "subbed symm:  Matrix([[0.999839539641927, 0.00862546924205744, 0.00862546924205744, 7.44106596067639e-5], [0.00862546924205744, 8.02269603371265e-5, 7.44106596067639e-5, 6.92106234385841e-7], [0.00862546924205744, 7.44106596067639e-5, 8.02269603371265e-5, 6.92106234385841e-7], [7.44106596067639e-5, 6.92106234385841e-7, 6.92106234385841e-7, 6.43739811214099e-9]])\n",
      "subbed symm:  Matrix([[0.184655711321065, -0.176101812743744, -0.176101812743744, 0.167944160674845], [-0.176101812743744, 0.245060138190057, 0.167944160674845, -0.233708095231703], [-0.176101812743744, 0.167944160674845, 0.245060138190057, -0.233708095231703], [0.167944160674845, -0.233708095231703, -0.233708095231703, 0.325224012298821]])\n",
      "subbed symm:  Matrix([[0.0287031736253887, 0.0220083677599625, 0.0220083677599625, 0.0168750765256606], [0.0220083677599625, 0.140716936235834, 0.0168750765256606, 0.107895737354774], [0.0220083677599625, 0.0168750765256606, 0.140716936235834, 0.107895737354774], [0.0168750765256606, 0.107895737354774, 0.107895737354774, 0.689862953902943]])\n",
      "subbed symm:  Matrix([[0.417562333131424, -0.200455919583926, -0.200455919583926, 0.0962313228659686], [-0.200455919583926, 0.228628299059591, 0.0962313228659686, -0.109755819178438], [-0.200455919583926, 0.0962313228659686, 0.228628299059591, -0.109755819178438], [0.0962313228659686, -0.109755819178438, -0.109755819178438, 0.125181068749393]])\n",
      "subbed symm:  Matrix([[0.621499140815738, -0.205874741883163, -0.205874741883163, 0.0681970521951618], [-0.205874741883163, 0.166853027200396, 0.0681970521951618, -0.0552709113358054], [-0.205874741883163, 0.0681970521951618, 0.166853027200396, -0.0552709113358054], [0.0681970521951618, -0.0552709113358054, -0.0552709113358054, 0.0447948047834710]])\n",
      "subbed symm:  Matrix([[0.643478921461590, -0.303198054784411, -0.303198054784411, 0.142862582376815], [-0.303198054784411, 0.158692457647382, 0.142862582376815, -0.0747736139644719], [-0.303198054784411, 0.142862582376815, 0.158692457647382, -0.0747736139644719], [0.142862582376815, -0.0747736139644719, -0.0747736139644719, 0.0391361632436461]])\n",
      "subbed symm:  Matrix([[0.0322260861509237, 0.0586489197283370, 0.0586489197283370, 0.106736380247725], [0.0586489197283370, 0.147290169800797, 0.106736380247725, 0.268056421898831], [0.0586489197283370, 0.106736380247725, 0.147290169800797, 0.268056421898831], [0.106736380247725, 0.268056421898831, 0.268056421898831, 0.673193574247482]])\n",
      "subbed symm:  Matrix([[0.0199251072146250, 0.0380094224021410, 0.0380094224021410, 0.0725073233374604], [0.0380094224021410, 0.121231214693482, 0.0725073233374604, 0.231262416707448], [0.0380094224021410, 0.0725073233374604, 0.121231214693482, 0.231262416707448], [0.0725073233374604, 0.231262416707448, 0.231262416707448, 0.737612463398412]])\n",
      "subbed symm:  Matrix([[0.273349085059595, -0.109503304841474, -0.109503304841474, 0.0438668882633738], [-0.109503304841474, 0.249478883836097, 0.0438668882633738, -0.0999409318024929], [-0.109503304841474, 0.0438668882633738, 0.249478883836097, -0.0999409318024929], [0.0438668882633738, -0.0999409318024929, -0.0999409318024929, 0.227693147268211]])\n",
      "subbed symm:  Matrix([[0.745341440782990, -0.264912472505777, -0.264912472505777, 0.0941563345993488], [-0.264912472505777, 0.117990152976320, 0.0941563345993488, -0.0419365695317515], [-0.264912472505777, 0.0941563345993488, 0.117990152976320, -0.0419365695317515], [0.0941563345993488, -0.0419365695317515, -0.0419365695317515, 0.0186782532643703]])\n",
      "subbed symm:  Matrix([[0.739238213181316, -0.0908515372018401, -0.0908515372018401, 0.0111655507856070], [-0.0908515372018401, 0.120551419915825, 0.0111655507856070, -0.0148156326552492], [-0.0908515372018401, 0.0111655507856070, 0.120551419915825, -0.0148156326552492], [0.0111655507856070, -0.0148156326552492, -0.0148156326552492, 0.0196589469870343]])\n",
      "subbed symm:  Matrix([[0.551040610785768, -0.279007357082204, -0.279007357082204, 0.141269270870965], [-0.279007357082204, 0.191280486035391, 0.141269270870965, -0.0968506890881085], [-0.279007357082204, 0.141269270870965, 0.191280486035391, -0.0968506890881085], [0.141269270870965, -0.0968506890881085, -0.0968506890881085, 0.0663984171434508]])\n"
     ]
    },
    {
     "data": {
      "text/plain": [
       "{'(-0.459595417104146, 0.278575427648833, -0.399529298028690, -0.742660167037278)': 1.90524450858543,\n",
       " '(-0.658864575167269, 0.147424190847003, 0.0539951028863075, -0.735695662898089)': 1.95352725207007,\n",
       " '(-0.168922409193299, -0.340500934231569, -0.906912883758060, -0.181750803941553)': 1.55620580102328,\n",
       " '(0.0980684105669898, -0.294199541652412, 0.858637012675170, -0.408131960283234)': 1.42517152585653,\n",
       " '(-0.876059667508122, -0.0681148444502068, -0.477251067702148, -0.0105472891419225)': 1.04653565524289,\n",
       " '(-0.195995361024215, -0.0199131578817058, 0.855425931933900, -0.478994529796724)': 1.22182987486968,\n",
       " '(-0.511621621203499, -0.644476775565084, -0.259998018035086, 0.505266299185056)': 1.85213569489023,\n",
       " '(0.537415558447387, -0.395718942383900, -0.739854535814295, 0.0848899405834620)': 1.49430655921028,\n",
       " '(0.899925072313566, 0.00881499325770101, -0.435952555702667, -0.00159037467344158)': 1.00482340159239,\n",
       " '(0.192613148483307, 0.221234582193411, 0.626590795130657, -0.722038371646954)': 1.55539527371130,\n",
       " '(0.205710657701191, -0.582807387274569, 0.356515406636748, 0.700653580221330)': 1.70382344294624,\n",
       " '(0.479123892621984, -0.593467214111479, 0.645469540497282, -0.0400753488287265)': 1.72772790572747,\n",
       " '(0.874001828120091, -0.227189307871335, -0.156438398287862, 0.400041060858521)': 1.62819097416386,\n",
       " '(-0.895093266233029, 0.426663723405866, -0.0312957481658374, -0.125645087530198)': 1.25163366444550,\n",
       " '(0.0442739138372792, 0.553268596346129, 0.421374033971304, 0.717201230022274)': 1.40275942970003,\n",
       " '(-0.215638060479920, -0.892466050645193, 0.307663044223002, 0.249695868082884)': 1.44146977860787,\n",
       " '(0.101656783521309, 0.580159388883382, -0.715886769859448, 0.374949482723699)': 1.90688917861605,\n",
       " '(-0.746022800550737, 0.364199931328077, -0.553878664346033, 0.0634572002322372)': 1.30876410657310,\n",
       " '(0.911813175535116, -0.0472506125037979, -0.168482539207207, 0.371453559036490)': 1.66147069211029,\n",
       " '(-0.0293239706733434, -0.244562091689860, -0.861081414016763, 0.444823882550299)': 1.44726374842782}"
      ]
     },
     "execution_count": 28,
     "metadata": {},
     "output_type": "execute_result"
    }
   ],
   "source": [
    "generate_realignment_scores(rhotilde_t_rhotilde, alpha, beta, gamma, delta)"
   ]
  },
  {
   "cell_type": "code",
   "execution_count": 29,
   "id": "3bd16a35-32ad-4201-9ad4-c94f575bd673",
   "metadata": {},
   "outputs": [
    {
     "data": {
      "text/latex": [
       "$\\displaystyle \\frac{\\left({{\\left|0\\right\\rangle }}\\otimes {{\\left|0\\right\\rangle }} + {{\\left|1\\right\\rangle }}\\otimes {{\\left|1\\right\\rangle }}\\right) \\left({{\\left\\langle 0\\right|}}\\otimes {{\\left\\langle 0\\right|}} + {{\\left\\langle 1\\right|}}\\otimes {{\\left\\langle 1\\right|}}\\right)}{2}$"
      ],
      "text/plain": [
       "(|0>x|0> + |1>x|1>)*(<0|x<0| + <1|x<1|)/2"
      ]
     },
     "execution_count": 29,
     "metadata": {},
     "output_type": "execute_result"
    }
   ],
   "source": [
    "# Bell state (|00⟩ + |11⟩)/√2\n",
    "bell_state = (TensorProduct(Qubit('0'), Qubit('0')) + \n",
    "             TensorProduct(Qubit('1'), Qubit('1')))/sqrt(2)\n",
    "\n",
    "# Density matrix\n",
    "bell_rho = bell_state * Dagger(bell_state)\n",
    "bell_rho"
   ]
  },
  {
   "cell_type": "code",
   "execution_count": 30,
   "id": "53c3f027-e6a9-4b58-92b6-b65143c079df",
   "metadata": {},
   "outputs": [
    {
     "data": {
      "text/latex": [
       "$\\displaystyle \\left[\\begin{matrix}\\frac{1}{2} & 0 & 0 & \\frac{1}{2}\\\\0 & 0 & 0 & 0\\\\0 & 0 & 0 & 0\\\\\\frac{1}{2} & 0 & 0 & \\frac{1}{2}\\end{matrix}\\right]$"
      ],
      "text/plain": [
       "Matrix([\n",
       "[1/2, 0, 0, 1/2],\n",
       "[  0, 0, 0,   0],\n",
       "[  0, 0, 0,   0],\n",
       "[1/2, 0, 0, 1/2]])"
      ]
     },
     "execution_count": 30,
     "metadata": {},
     "output_type": "execute_result"
    }
   ],
   "source": [
    "matrix_form = represent(bell_rho.doit(), basis_set=[Qubit('0'), Qubit('1')])\n",
    "\n",
    "# Simplify करें और output को Matrix के रूप में प्राप्त करें\n",
    "final_matrix = Matrix(simplify(matrix_form)).expand()\n",
    "final_matrix"
   ]
  },
  {
   "cell_type": "code",
   "execution_count": 31,
   "id": "2b652c1c-e6fa-4531-88f1-01d17653284d",
   "metadata": {},
   "outputs": [
    {
     "data": {
      "text/latex": [
       "$\\displaystyle \\left[\\begin{matrix}\\frac{1}{2} & 0 & 0 & \\frac{1}{2}\\\\0 & 0 & 0 & 0\\\\0 & 0 & 0 & 0\\\\\\frac{1}{2} & 0 & 0 & \\frac{1}{2}\\end{matrix}\\right]$"
      ],
      "text/plain": [
       "Matrix([\n",
       "[1/2, 0, 0, 1/2],\n",
       "[  0, 0, 0,   0],\n",
       "[  0, 0, 0,   0],\n",
       "[1/2, 0, 0, 1/2]])"
      ]
     },
     "execution_count": 31,
     "metadata": {},
     "output_type": "execute_result"
    }
   ],
   "source": [
    "# Bell state vector (|00⟩ + |11⟩)/√2 को Matrix के रूप में परिभाषित करें\n",
    "bell_vector = Matrix([[1], [0], [0], [1]])/sqrt(2)\n",
    "\n",
    "# Density matrix बनाएं (outer product)\n",
    "density_matrix = bell_vector * Dagger(bell_vector)\n",
    "\n",
    "# मैट्रिक्स को simplify करें और expand करें\n",
    "rho = density_matrix.expand()\n",
    "rho"
   ]
  },
  {
   "cell_type": "code",
   "execution_count": 32,
   "id": "4c52e5de-7a84-40d3-8e72-cefe0c12baab",
   "metadata": {},
   "outputs": [
    {
     "data": {
      "text/latex": [
       "Density matrix $\\rho$: "
      ],
      "text/plain": [
       "<IPython.core.display.Latex object>"
      ]
     },
     "metadata": {},
     "output_type": "display_data"
    },
    {
     "data": {
      "text/latex": [
       "$$\\left[\\begin{matrix}\\frac{1}{2} & 0 & 0 & \\frac{1}{2}\\\\0 & 0 & 0 & 0\\\\0 & 0 & 0 & 0\\\\\\frac{1}{2} & 0 & 0 & \\frac{1}{2}\\end{matrix}\\right]$$"
      ],
      "text/plain": [
       "<IPython.core.display.Latex object>"
      ]
     },
     "metadata": {},
     "output_type": "display_data"
    },
    {
     "data": {
      "text/latex": [
       "Eigenvalues of $\\rho$: "
      ],
      "text/plain": [
       "<IPython.core.display.Latex object>"
      ]
     },
     "metadata": {},
     "output_type": "display_data"
    },
    {
     "data": {
      "text/latex": [
       "$$\\left[ 1, \\  0, \\  0, \\  0\\right]$$"
      ],
      "text/plain": [
       "<IPython.core.display.Latex object>"
      ]
     },
     "metadata": {},
     "output_type": "display_data"
    },
    {
     "data": {
      "text/latex": [
       "Partial transpose $\\rho^{T_B}$: "
      ],
      "text/plain": [
       "<IPython.core.display.Latex object>"
      ]
     },
     "metadata": {},
     "output_type": "display_data"
    },
    {
     "data": {
      "text/latex": [
       "$$\\left[\\begin{matrix}\\frac{1}{2} & 0 & 0 & 0\\\\0 & 0 & \\frac{1}{2} & 0\\\\0 & \\frac{1}{2} & 0 & 0\\\\0 & 0 & 0 & \\frac{1}{2}\\end{matrix}\\right]$$"
      ],
      "text/plain": [
       "<IPython.core.display.Latex object>"
      ]
     },
     "metadata": {},
     "output_type": "display_data"
    },
    {
     "data": {
      "text/latex": [
       "Eigenvalues of $\\rho^{T_B}$: "
      ],
      "text/plain": [
       "<IPython.core.display.Latex object>"
      ]
     },
     "metadata": {},
     "output_type": "display_data"
    },
    {
     "data": {
      "text/latex": [
       "$$\\left[ \\frac{1}{2}, \\  \\frac{1}{2}, \\  \\frac{1}{2}, \\  - \\frac{1}{2}\\right]$$"
      ],
      "text/plain": [
       "<IPython.core.display.Latex object>"
      ]
     },
     "metadata": {},
     "output_type": "display_data"
    },
    {
     "data": {
      "text/latex": [
       "Determinant of $\\rho^{T_B}$: "
      ],
      "text/plain": [
       "<IPython.core.display.Latex object>"
      ]
     },
     "metadata": {},
     "output_type": "display_data"
    },
    {
     "data": {
      "text/latex": [
       "$$- \\frac{1}{16}$$"
      ],
      "text/plain": [
       "<IPython.core.display.Latex object>"
      ]
     },
     "metadata": {},
     "output_type": "display_data"
    },
    {
     "data": {
      "text/latex": [
       "Realigned matrix: "
      ],
      "text/plain": [
       "<IPython.core.display.Latex object>"
      ]
     },
     "metadata": {},
     "output_type": "display_data"
    },
    {
     "data": {
      "text/latex": [
       "$$\\left[\\begin{matrix}\\frac{1}{2} & 0 & 0 & 0\\\\0 & \\frac{1}{2} & 0 & 0\\\\0 & 0 & \\frac{1}{2} & 0\\\\0 & 0 & 0 & \\frac{1}{2}\\end{matrix}\\right]$$"
      ],
      "text/plain": [
       "<IPython.core.display.Latex object>"
      ]
     },
     "metadata": {},
     "output_type": "display_data"
    },
    {
     "data": {
      "text/latex": [
       "Symmetric for realigned: "
      ],
      "text/plain": [
       "<IPython.core.display.Latex object>"
      ]
     },
     "metadata": {},
     "output_type": "display_data"
    },
    {
     "data": {
      "text/latex": [
       "$$\\left[\\begin{matrix}\\frac{1}{4} & 0 & 0 & 0\\\\0 & \\frac{1}{4} & 0 & 0\\\\0 & 0 & \\frac{1}{4} & 0\\\\0 & 0 & 0 & \\frac{1}{4}\\end{matrix}\\right]$$"
      ],
      "text/plain": [
       "<IPython.core.display.Latex object>"
      ]
     },
     "metadata": {},
     "output_type": "display_data"
    },
    {
     "data": {
      "text/plain": [
       "(Matrix([\n",
       " [1/2,   0,   0,   0],\n",
       " [  0, 1/2,   0,   0],\n",
       " [  0,   0, 1/2,   0],\n",
       " [  0,   0,   0, 1/2]]),\n",
       " Matrix([\n",
       " [1/4,   0,   0,   0],\n",
       " [  0, 1/4,   0,   0],\n",
       " [  0,   0, 1/4,   0],\n",
       " [  0,   0,   0, 1/4]]))"
      ]
     },
     "execution_count": 32,
     "metadata": {},
     "output_type": "execute_result"
    }
   ],
   "source": [
    "# Execute the optimized function\n",
    "\n",
    "result = compute_entanglement_measures_symbolic(rho, dA, dB)\n",
    "result"
   ]
  },
  {
   "cell_type": "code",
   "execution_count": 33,
   "id": "8adb5901-9507-445d-974c-2ecda2043a51",
   "metadata": {},
   "outputs": [
    {
     "data": {
      "text/latex": [
       "$\\displaystyle \\left[\\begin{matrix}0.5 & 0 & 0 & 0\\\\0 & 0 & 0.5 & 0\\\\0 & 0.5 & 0 & 0\\\\0 & 0 & 0 & 0.5\\end{matrix}\\right]$"
      ],
      "text/plain": [
       "Matrix([\n",
       "[0.5,   0,   0,   0],\n",
       "[  0,   0, 0.5,   0],\n",
       "[  0, 0.5,   0,   0],\n",
       "[  0,   0,   0, 0.5]])"
      ]
     },
     "execution_count": 33,
     "metadata": {},
     "output_type": "execute_result"
    }
   ],
   "source": [
    "ajeeb_matrix= sp.Matrix([\n",
    "    [0.5, 0, 0, 0],\n",
    "    [0, 0, 0.5, 0],\n",
    "    [0, 0.5, 0, 0],\n",
    "    [0, 0, 0, 0.5]\n",
    "])\n",
    "ajeeb_matrix\n"
   ]
  },
  {
   "cell_type": "code",
   "execution_count": 34,
   "id": "50c249e6-84b1-40f7-ac64-f0de035ad1c3",
   "metadata": {},
   "outputs": [
    {
     "data": {
      "text/latex": [
       "$\\displaystyle -0.0625$"
      ],
      "text/plain": [
       "-0.0625000000000000"
      ]
     },
     "execution_count": 34,
     "metadata": {},
     "output_type": "execute_result"
    }
   ],
   "source": [
    "ajeeb_matrix.det()"
   ]
  },
  {
   "cell_type": "code",
   "execution_count": 35,
   "id": "c37a425f-f20c-4d93-9fba-4ee158175b42",
   "metadata": {},
   "outputs": [
    {
     "data": {
      "text/plain": [
       "0.0625"
      ]
     },
     "execution_count": 35,
     "metadata": {},
     "output_type": "execute_result"
    }
   ],
   "source": [
    "1 / 16"
   ]
  },
  {
   "cell_type": "code",
   "execution_count": 36,
   "id": "d659a835-a433-4ae4-bbb3-33816ce5798b",
   "metadata": {},
   "outputs": [
    {
     "name": "stdout",
     "output_type": "stream",
     "text": [
      "α*Dagger(α)*|0>x|0>*<0|x<0| + α*Dagger(β)*|0>x|0>*<0|x<1| + α*Dagger(γ)*|0>x|0>*<1|x<0| + α*Dagger(δ)*|0>x|0>*<1|x<1| + β*Dagger(α)*|0>x|1>*<0|x<0| + β*Dagger(β)*|0>x|1>*<0|x<1| + β*Dagger(γ)*|0>x|1>*<1|x<0| + β*Dagger(δ)*|0>x|1>*<1|x<1| + γ*Dagger(α)*|1>x|0>*<0|x<0| + γ*Dagger(β)*|1>x|0>*<0|x<1| + γ*Dagger(γ)*|1>x|0>*<1|x<0| + γ*Dagger(δ)*|1>x|0>*<1|x<1| + δ*Dagger(α)*|1>x|1>*<0|x<0| + δ*Dagger(β)*|1>x|1>*<0|x<1| + δ*Dagger(γ)*|1>x|1>*<1|x<0| + δ*Dagger(δ)*|1>x|1>*<1|x<1|\n"
     ]
    }
   ],
   "source": [
    "alpha, beta, gamma, delta= symbols('α β γ δ')\n",
    "rho= get_rho_bipartite(alpha, beta, gamma, delta)"
   ]
  },
  {
   "cell_type": "code",
   "execution_count": 37,
   "id": "7309feaa-78b3-4b98-92c4-adae4713895c",
   "metadata": {},
   "outputs": [
    {
     "data": {
      "text/latex": [
       "$\\displaystyle \\left[\\begin{matrix}α α^{\\dagger} & α β^{\\dagger} & α γ^{\\dagger} & α δ^{\\dagger}\\\\β α^{\\dagger} & β β^{\\dagger} & β γ^{\\dagger} & β δ^{\\dagger}\\\\γ α^{\\dagger} & γ β^{\\dagger} & γ γ^{\\dagger} & γ δ^{\\dagger}\\\\δ α^{\\dagger} & δ β^{\\dagger} & δ γ^{\\dagger} & δ δ^{\\dagger}\\end{matrix}\\right]$"
      ],
      "text/plain": [
       "Matrix([\n",
       "[α*Dagger(α), α*Dagger(β), α*Dagger(γ), α*Dagger(δ)],\n",
       "[β*Dagger(α), β*Dagger(β), β*Dagger(γ), β*Dagger(δ)],\n",
       "[γ*Dagger(α), γ*Dagger(β), γ*Dagger(γ), γ*Dagger(δ)],\n",
       "[δ*Dagger(α), δ*Dagger(β), δ*Dagger(γ), δ*Dagger(δ)]])"
      ]
     },
     "execution_count": 37,
     "metadata": {},
     "output_type": "execute_result"
    }
   ],
   "source": [
    "I_2= Matrix.eye(2)\n",
    "rx, ry, rz, sx, sy, sz = symbols('rx ry rz sx sy sz')\n",
    "rho"
   ]
  },
  {
   "cell_type": "code",
   "execution_count": 38,
   "id": "8ec7f51f-6984-4b4f-9978-94b1f74fd329",
   "metadata": {},
   "outputs": [
    {
     "data": {
      "text/latex": [
       "$\\displaystyle α α^{\\dagger} + β β^{\\dagger} + γ γ^{\\dagger} + δ δ^{\\dagger}$"
      ],
      "text/plain": [
       "α*Dagger(α) + β*Dagger(β) + γ*Dagger(γ) + δ*Dagger(δ)"
      ]
     },
     "execution_count": 38,
     "metadata": {},
     "output_type": "execute_result"
    }
   ],
   "source": [
    "rho.trace()"
   ]
  },
  {
   "cell_type": "code",
   "execution_count": 39,
   "id": "b1bf4c34-4f2e-4c9b-afa2-c9ecdfa44bb9",
   "metadata": {},
   "outputs": [],
   "source": [
    "t_nm = lambda n, m: (rho * TensorProduct(msigma(n), msigma(m))).trace()"
   ]
  },
  {
   "cell_type": "code",
   "execution_count": 40,
   "id": "8ed7506a-c1ee-4631-9c4e-b502601e47f5",
   "metadata": {},
   "outputs": [],
   "source": [
    "T= Matrix([[t_nm(n, m) for m in range(1, 4)] for n in range(1, 4)])"
   ]
  },
  {
   "cell_type": "code",
   "execution_count": 41,
   "id": "107e418b-a1c3-41a0-9fa1-dd880c6c3c00",
   "metadata": {},
   "outputs": [
    {
     "data": {
      "text/latex": [
       "$\\displaystyle \\left[\\begin{matrix}α δ^{\\dagger} + β γ^{\\dagger} + γ β^{\\dagger} + δ α^{\\dagger} & i α δ^{\\dagger} - i β γ^{\\dagger} + i γ β^{\\dagger} - i δ α^{\\dagger} & α γ^{\\dagger} - β δ^{\\dagger} + γ α^{\\dagger} - δ β^{\\dagger}\\\\i α δ^{\\dagger} + i β γ^{\\dagger} - i γ β^{\\dagger} - i δ α^{\\dagger} & - α δ^{\\dagger} + β γ^{\\dagger} + γ β^{\\dagger} - δ α^{\\dagger} & i α γ^{\\dagger} - i β δ^{\\dagger} - i γ α^{\\dagger} + i δ β^{\\dagger}\\\\α β^{\\dagger} + β α^{\\dagger} - γ δ^{\\dagger} - δ γ^{\\dagger} & i α β^{\\dagger} - i β α^{\\dagger} - i γ δ^{\\dagger} + i δ γ^{\\dagger} & α α^{\\dagger} - β β^{\\dagger} - γ γ^{\\dagger} + δ δ^{\\dagger}\\end{matrix}\\right]$"
      ],
      "text/plain": [
       "Matrix([\n",
       "[        α*Dagger(δ) + β*Dagger(γ) + γ*Dagger(β) + δ*Dagger(α), I*α*Dagger(δ) - I*β*Dagger(γ) + I*γ*Dagger(β) - I*δ*Dagger(α),         α*Dagger(γ) - β*Dagger(δ) + γ*Dagger(α) - δ*Dagger(β)],\n",
       "[I*α*Dagger(δ) + I*β*Dagger(γ) - I*γ*Dagger(β) - I*δ*Dagger(α),        -α*Dagger(δ) + β*Dagger(γ) + γ*Dagger(β) - δ*Dagger(α), I*α*Dagger(γ) - I*β*Dagger(δ) - I*γ*Dagger(α) + I*δ*Dagger(β)],\n",
       "[        α*Dagger(β) + β*Dagger(α) - γ*Dagger(δ) - δ*Dagger(γ), I*α*Dagger(β) - I*β*Dagger(α) - I*γ*Dagger(δ) + I*δ*Dagger(γ),         α*Dagger(α) - β*Dagger(β) - γ*Dagger(γ) + δ*Dagger(δ)]])"
      ]
     },
     "metadata": {},
     "output_type": "display_data"
    }
   ],
   "source": [
    "display(T)"
   ]
  },
  {
   "cell_type": "code",
   "execution_count": 42,
   "id": "365ae693-e1af-4209-bf70-846923b14668",
   "metadata": {},
   "outputs": [],
   "source": [
    "bchsh_sum_correlations= Matrix.zeros(4)\n",
    "for n in range(1, 4):\n",
    "    for m in range(1, 4):\n",
    "        tba= T[n - 1, m - 1] * TensorProduct(msigma(n), msigma(m))\n",
    "        bchsh_sum_correlations += tba\n",
    "    # print(\"sum at the end of n= \", n, \"is: \", s)"
   ]
  },
  {
   "cell_type": "code",
   "execution_count": 43,
   "id": "520826e8-9d39-44b4-b1c7-f47f667975a6",
   "metadata": {},
   "outputs": [
    {
     "data": {
      "text/latex": [
       "$\\displaystyle \\left[\\begin{matrix}α α^{\\dagger} - β β^{\\dagger} - γ γ^{\\dagger} + δ δ^{\\dagger} & α β^{\\dagger} + β α^{\\dagger} - γ δ^{\\dagger} - δ γ^{\\dagger} - i \\left(i α β^{\\dagger} - i β α^{\\dagger} - i γ δ^{\\dagger} + i δ γ^{\\dagger}\\right) & α γ^{\\dagger} - β δ^{\\dagger} + γ α^{\\dagger} - δ β^{\\dagger} - i \\left(i α γ^{\\dagger} - i β δ^{\\dagger} - i γ α^{\\dagger} + i δ β^{\\dagger}\\right) & 2 α δ^{\\dagger} + 2 δ α^{\\dagger} - i \\left(i α δ^{\\dagger} - i β γ^{\\dagger} + i γ β^{\\dagger} - i δ α^{\\dagger}\\right) - i \\left(i α δ^{\\dagger} + i β γ^{\\dagger} - i γ β^{\\dagger} - i δ α^{\\dagger}\\right)\\\\α β^{\\dagger} + β α^{\\dagger} - γ δ^{\\dagger} - δ γ^{\\dagger} + i \\left(i α β^{\\dagger} - i β α^{\\dagger} - i γ δ^{\\dagger} + i δ γ^{\\dagger}\\right) & - α α^{\\dagger} + β β^{\\dagger} + γ γ^{\\dagger} - δ δ^{\\dagger} & 2 β γ^{\\dagger} + 2 γ β^{\\dagger} + i \\left(i α δ^{\\dagger} - i β γ^{\\dagger} + i γ β^{\\dagger} - i δ α^{\\dagger}\\right) - i \\left(i α δ^{\\dagger} + i β γ^{\\dagger} - i γ β^{\\dagger} - i δ α^{\\dagger}\\right) & - α γ^{\\dagger} + β δ^{\\dagger} - γ α^{\\dagger} + δ β^{\\dagger} + i \\left(i α γ^{\\dagger} - i β δ^{\\dagger} - i γ α^{\\dagger} + i δ β^{\\dagger}\\right)\\\\α γ^{\\dagger} - β δ^{\\dagger} + γ α^{\\dagger} - δ β^{\\dagger} + i \\left(i α γ^{\\dagger} - i β δ^{\\dagger} - i γ α^{\\dagger} + i δ β^{\\dagger}\\right) & 2 β γ^{\\dagger} + 2 γ β^{\\dagger} - i \\left(i α δ^{\\dagger} - i β γ^{\\dagger} + i γ β^{\\dagger} - i δ α^{\\dagger}\\right) + i \\left(i α δ^{\\dagger} + i β γ^{\\dagger} - i γ β^{\\dagger} - i δ α^{\\dagger}\\right) & - α α^{\\dagger} + β β^{\\dagger} + γ γ^{\\dagger} - δ δ^{\\dagger} & - α β^{\\dagger} - β α^{\\dagger} + γ δ^{\\dagger} + δ γ^{\\dagger} + i \\left(i α β^{\\dagger} - i β α^{\\dagger} - i γ δ^{\\dagger} + i δ γ^{\\dagger}\\right)\\\\2 α δ^{\\dagger} + 2 δ α^{\\dagger} + i \\left(i α δ^{\\dagger} - i β γ^{\\dagger} + i γ β^{\\dagger} - i δ α^{\\dagger}\\right) + i \\left(i α δ^{\\dagger} + i β γ^{\\dagger} - i γ β^{\\dagger} - i δ α^{\\dagger}\\right) & - α γ^{\\dagger} + β δ^{\\dagger} - γ α^{\\dagger} + δ β^{\\dagger} - i \\left(i α γ^{\\dagger} - i β δ^{\\dagger} - i γ α^{\\dagger} + i δ β^{\\dagger}\\right) & - α β^{\\dagger} - β α^{\\dagger} + γ δ^{\\dagger} + δ γ^{\\dagger} - i \\left(i α β^{\\dagger} - i β α^{\\dagger} - i γ δ^{\\dagger} + i δ γ^{\\dagger}\\right) & α α^{\\dagger} - β β^{\\dagger} - γ γ^{\\dagger} + δ δ^{\\dagger}\\end{matrix}\\right]$"
      ],
      "text/plain": [
       "Matrix([\n",
       "[                                                                                                                α*Dagger(α) - β*Dagger(β) - γ*Dagger(γ) + δ*Dagger(δ),                                             α*Dagger(β) + β*Dagger(α) - γ*Dagger(δ) - δ*Dagger(γ) - I*(I*α*Dagger(β) - I*β*Dagger(α) - I*γ*Dagger(δ) + I*δ*Dagger(γ)),                                             α*Dagger(γ) - β*Dagger(δ) + γ*Dagger(α) - δ*Dagger(β) - I*(I*α*Dagger(γ) - I*β*Dagger(δ) - I*γ*Dagger(α) + I*δ*Dagger(β)), 2*α*Dagger(δ) + 2*δ*Dagger(α) - I*(I*α*Dagger(δ) - I*β*Dagger(γ) + I*γ*Dagger(β) - I*δ*Dagger(α)) - I*(I*α*Dagger(δ) + I*β*Dagger(γ) - I*γ*Dagger(β) - I*δ*Dagger(α))],\n",
       "[                                            α*Dagger(β) + β*Dagger(α) - γ*Dagger(δ) - δ*Dagger(γ) + I*(I*α*Dagger(β) - I*β*Dagger(α) - I*γ*Dagger(δ) + I*δ*Dagger(γ)),                                                                                                                -α*Dagger(α) + β*Dagger(β) + γ*Dagger(γ) - δ*Dagger(δ), 2*β*Dagger(γ) + 2*γ*Dagger(β) + I*(I*α*Dagger(δ) - I*β*Dagger(γ) + I*γ*Dagger(β) - I*δ*Dagger(α)) - I*(I*α*Dagger(δ) + I*β*Dagger(γ) - I*γ*Dagger(β) - I*δ*Dagger(α)),                                            -α*Dagger(γ) + β*Dagger(δ) - γ*Dagger(α) + δ*Dagger(β) + I*(I*α*Dagger(γ) - I*β*Dagger(δ) - I*γ*Dagger(α) + I*δ*Dagger(β))],\n",
       "[                                            α*Dagger(γ) - β*Dagger(δ) + γ*Dagger(α) - δ*Dagger(β) + I*(I*α*Dagger(γ) - I*β*Dagger(δ) - I*γ*Dagger(α) + I*δ*Dagger(β)), 2*β*Dagger(γ) + 2*γ*Dagger(β) - I*(I*α*Dagger(δ) - I*β*Dagger(γ) + I*γ*Dagger(β) - I*δ*Dagger(α)) + I*(I*α*Dagger(δ) + I*β*Dagger(γ) - I*γ*Dagger(β) - I*δ*Dagger(α)),                                                                                                                -α*Dagger(α) + β*Dagger(β) + γ*Dagger(γ) - δ*Dagger(δ),                                            -α*Dagger(β) - β*Dagger(α) + γ*Dagger(δ) + δ*Dagger(γ) + I*(I*α*Dagger(β) - I*β*Dagger(α) - I*γ*Dagger(δ) + I*δ*Dagger(γ))],\n",
       "[2*α*Dagger(δ) + 2*δ*Dagger(α) + I*(I*α*Dagger(δ) - I*β*Dagger(γ) + I*γ*Dagger(β) - I*δ*Dagger(α)) + I*(I*α*Dagger(δ) + I*β*Dagger(γ) - I*γ*Dagger(β) - I*δ*Dagger(α)),                                            -α*Dagger(γ) + β*Dagger(δ) - γ*Dagger(α) + δ*Dagger(β) - I*(I*α*Dagger(γ) - I*β*Dagger(δ) - I*γ*Dagger(α) + I*δ*Dagger(β)),                                            -α*Dagger(β) - β*Dagger(α) + γ*Dagger(δ) + δ*Dagger(γ) - I*(I*α*Dagger(β) - I*β*Dagger(α) - I*γ*Dagger(δ) + I*δ*Dagger(γ)),                                                                                                                 α*Dagger(α) - β*Dagger(β) - γ*Dagger(γ) + δ*Dagger(δ)]])"
      ]
     },
     "execution_count": 43,
     "metadata": {},
     "output_type": "execute_result"
    }
   ],
   "source": [
    "bchsh_sum_correlations"
   ]
  },
  {
   "cell_type": "code",
   "execution_count": 44,
   "id": "6b2089cc-7e4e-49b4-bdcb-aa775eb42c8b",
   "metadata": {},
   "outputs": [],
   "source": [
    "s= Matrix([sx, sy, sz])\n",
    "r= Matrix([rx, ry, rz])"
   ]
  },
  {
   "cell_type": "code",
   "execution_count": 45,
   "id": "08081a33-31c5-4b53-8bcc-0f51c5b28483",
   "metadata": {},
   "outputs": [],
   "source": [
    "ssigma= Matrix.zeros(2)\n",
    "rsigma= Matrix.zeros(2)\n",
    "for i in range(1, 4):\n",
    "    ssigma += s[i-1] * msigma(i)\n",
    "    rsigma += r[i-1] * msigma(i)"
   ]
  },
  {
   "cell_type": "code",
   "execution_count": 46,
   "id": "ed3bee95-a34d-42f6-b018-4fbadd38fb30",
   "metadata": {},
   "outputs": [],
   "source": [
    "rho_bell_basis= Matrix.zeros(4)"
   ]
  },
  {
   "cell_type": "code",
   "execution_count": 47,
   "id": "0c30b86c-16bc-4f45-9485-9b28eeb28f3f",
   "metadata": {},
   "outputs": [
    {
     "data": {
      "text/latex": [
       "$\\displaystyle \\left[\\begin{matrix}1 & 0 & 0 & 0\\\\0 & 1 & 0 & 0\\\\0 & 0 & 1 & 0\\\\0 & 0 & 0 & 1\\end{matrix}\\right]$"
      ],
      "text/plain": [
       "Matrix([\n",
       "[1, 0, 0, 0],\n",
       "[0, 1, 0, 0],\n",
       "[0, 0, 1, 0],\n",
       "[0, 0, 0, 1]])"
      ]
     },
     "execution_count": 47,
     "metadata": {},
     "output_type": "execute_result"
    }
   ],
   "source": [
    "rho_bell_basis+= TensorProduct(I_2, I_2)\n",
    "rho_bell_basis"
   ]
  },
  {
   "cell_type": "code",
   "execution_count": 48,
   "id": "e8f74a73-35b4-4ed0-beac-e60a4c69eb99",
   "metadata": {},
   "outputs": [
    {
     "data": {
      "text/latex": [
       "$\\displaystyle \\left[\\begin{matrix}rz & 0 & rx - i ry & 0\\\\0 & rz & 0 & rx - i ry\\\\rx + i ry & 0 & - rz & 0\\\\0 & rx + i ry & 0 & - rz\\end{matrix}\\right]$"
      ],
      "text/plain": [
       "Matrix([\n",
       "[       rz,         0, rx - I*ry,         0],\n",
       "[        0,        rz,         0, rx - I*ry],\n",
       "[rx + I*ry,         0,       -rz,         0],\n",
       "[        0, rx + I*ry,         0,       -rz]])"
      ]
     },
     "execution_count": 48,
     "metadata": {},
     "output_type": "execute_result"
    }
   ],
   "source": [
    "res= TensorProduct(rsigma, I_2)\n",
    "rho_bell_basis += res\n",
    "res"
   ]
  },
  {
   "cell_type": "code",
   "execution_count": 49,
   "id": "f7fd6786-922f-4533-a2ca-53d0880c2514",
   "metadata": {},
   "outputs": [
    {
     "data": {
      "text/latex": [
       "$\\displaystyle \\left[\\begin{matrix}sz & sx - i sy & 0 & 0\\\\sx + i sy & - sz & 0 & 0\\\\0 & 0 & sz & sx - i sy\\\\0 & 0 & sx + i sy & - sz\\end{matrix}\\right]$"
      ],
      "text/plain": [
       "Matrix([\n",
       "[       sz, sx - I*sy,         0,         0],\n",
       "[sx + I*sy,       -sz,         0,         0],\n",
       "[        0,         0,        sz, sx - I*sy],\n",
       "[        0,         0, sx + I*sy,       -sz]])"
      ]
     },
     "execution_count": 49,
     "metadata": {},
     "output_type": "execute_result"
    }
   ],
   "source": [
    "res=  TensorProduct(I_2, ssigma)\n",
    "rho_bell_basis += res\n",
    "res"
   ]
  },
  {
   "cell_type": "code",
   "execution_count": 50,
   "id": "cf5cd62f-9d28-46cf-a2ae-121dc74cb185",
   "metadata": {},
   "outputs": [
    {
     "data": {
      "text/latex": [
       "$\\displaystyle \\left[\\begin{matrix}α α^{\\dagger} - β β^{\\dagger} - γ γ^{\\dagger} + δ δ^{\\dagger} & α β^{\\dagger} + β α^{\\dagger} - γ δ^{\\dagger} - δ γ^{\\dagger} - i \\left(i α β^{\\dagger} - i β α^{\\dagger} - i γ δ^{\\dagger} + i δ γ^{\\dagger}\\right) & α γ^{\\dagger} - β δ^{\\dagger} + γ α^{\\dagger} - δ β^{\\dagger} - i \\left(i α γ^{\\dagger} - i β δ^{\\dagger} - i γ α^{\\dagger} + i δ β^{\\dagger}\\right) & 2 α δ^{\\dagger} + 2 δ α^{\\dagger} - i \\left(i α δ^{\\dagger} - i β γ^{\\dagger} + i γ β^{\\dagger} - i δ α^{\\dagger}\\right) - i \\left(i α δ^{\\dagger} + i β γ^{\\dagger} - i γ β^{\\dagger} - i δ α^{\\dagger}\\right)\\\\α β^{\\dagger} + β α^{\\dagger} - γ δ^{\\dagger} - δ γ^{\\dagger} + i \\left(i α β^{\\dagger} - i β α^{\\dagger} - i γ δ^{\\dagger} + i δ γ^{\\dagger}\\right) & - α α^{\\dagger} + β β^{\\dagger} + γ γ^{\\dagger} - δ δ^{\\dagger} & 2 β γ^{\\dagger} + 2 γ β^{\\dagger} + i \\left(i α δ^{\\dagger} - i β γ^{\\dagger} + i γ β^{\\dagger} - i δ α^{\\dagger}\\right) - i \\left(i α δ^{\\dagger} + i β γ^{\\dagger} - i γ β^{\\dagger} - i δ α^{\\dagger}\\right) & - α γ^{\\dagger} + β δ^{\\dagger} - γ α^{\\dagger} + δ β^{\\dagger} + i \\left(i α γ^{\\dagger} - i β δ^{\\dagger} - i γ α^{\\dagger} + i δ β^{\\dagger}\\right)\\\\α γ^{\\dagger} - β δ^{\\dagger} + γ α^{\\dagger} - δ β^{\\dagger} + i \\left(i α γ^{\\dagger} - i β δ^{\\dagger} - i γ α^{\\dagger} + i δ β^{\\dagger}\\right) & 2 β γ^{\\dagger} + 2 γ β^{\\dagger} - i \\left(i α δ^{\\dagger} - i β γ^{\\dagger} + i γ β^{\\dagger} - i δ α^{\\dagger}\\right) + i \\left(i α δ^{\\dagger} + i β γ^{\\dagger} - i γ β^{\\dagger} - i δ α^{\\dagger}\\right) & - α α^{\\dagger} + β β^{\\dagger} + γ γ^{\\dagger} - δ δ^{\\dagger} & - α β^{\\dagger} - β α^{\\dagger} + γ δ^{\\dagger} + δ γ^{\\dagger} + i \\left(i α β^{\\dagger} - i β α^{\\dagger} - i γ δ^{\\dagger} + i δ γ^{\\dagger}\\right)\\\\2 α δ^{\\dagger} + 2 δ α^{\\dagger} + i \\left(i α δ^{\\dagger} - i β γ^{\\dagger} + i γ β^{\\dagger} - i δ α^{\\dagger}\\right) + i \\left(i α δ^{\\dagger} + i β γ^{\\dagger} - i γ β^{\\dagger} - i δ α^{\\dagger}\\right) & - α γ^{\\dagger} + β δ^{\\dagger} - γ α^{\\dagger} + δ β^{\\dagger} - i \\left(i α γ^{\\dagger} - i β δ^{\\dagger} - i γ α^{\\dagger} + i δ β^{\\dagger}\\right) & - α β^{\\dagger} - β α^{\\dagger} + γ δ^{\\dagger} + δ γ^{\\dagger} - i \\left(i α β^{\\dagger} - i β α^{\\dagger} - i γ δ^{\\dagger} + i δ γ^{\\dagger}\\right) & α α^{\\dagger} - β β^{\\dagger} - γ γ^{\\dagger} + δ δ^{\\dagger}\\end{matrix}\\right]$"
      ],
      "text/plain": [
       "Matrix([\n",
       "[                                                                                                                α*Dagger(α) - β*Dagger(β) - γ*Dagger(γ) + δ*Dagger(δ),                                             α*Dagger(β) + β*Dagger(α) - γ*Dagger(δ) - δ*Dagger(γ) - I*(I*α*Dagger(β) - I*β*Dagger(α) - I*γ*Dagger(δ) + I*δ*Dagger(γ)),                                             α*Dagger(γ) - β*Dagger(δ) + γ*Dagger(α) - δ*Dagger(β) - I*(I*α*Dagger(γ) - I*β*Dagger(δ) - I*γ*Dagger(α) + I*δ*Dagger(β)), 2*α*Dagger(δ) + 2*δ*Dagger(α) - I*(I*α*Dagger(δ) - I*β*Dagger(γ) + I*γ*Dagger(β) - I*δ*Dagger(α)) - I*(I*α*Dagger(δ) + I*β*Dagger(γ) - I*γ*Dagger(β) - I*δ*Dagger(α))],\n",
       "[                                            α*Dagger(β) + β*Dagger(α) - γ*Dagger(δ) - δ*Dagger(γ) + I*(I*α*Dagger(β) - I*β*Dagger(α) - I*γ*Dagger(δ) + I*δ*Dagger(γ)),                                                                                                                -α*Dagger(α) + β*Dagger(β) + γ*Dagger(γ) - δ*Dagger(δ), 2*β*Dagger(γ) + 2*γ*Dagger(β) + I*(I*α*Dagger(δ) - I*β*Dagger(γ) + I*γ*Dagger(β) - I*δ*Dagger(α)) - I*(I*α*Dagger(δ) + I*β*Dagger(γ) - I*γ*Dagger(β) - I*δ*Dagger(α)),                                            -α*Dagger(γ) + β*Dagger(δ) - γ*Dagger(α) + δ*Dagger(β) + I*(I*α*Dagger(γ) - I*β*Dagger(δ) - I*γ*Dagger(α) + I*δ*Dagger(β))],\n",
       "[                                            α*Dagger(γ) - β*Dagger(δ) + γ*Dagger(α) - δ*Dagger(β) + I*(I*α*Dagger(γ) - I*β*Dagger(δ) - I*γ*Dagger(α) + I*δ*Dagger(β)), 2*β*Dagger(γ) + 2*γ*Dagger(β) - I*(I*α*Dagger(δ) - I*β*Dagger(γ) + I*γ*Dagger(β) - I*δ*Dagger(α)) + I*(I*α*Dagger(δ) + I*β*Dagger(γ) - I*γ*Dagger(β) - I*δ*Dagger(α)),                                                                                                                -α*Dagger(α) + β*Dagger(β) + γ*Dagger(γ) - δ*Dagger(δ),                                            -α*Dagger(β) - β*Dagger(α) + γ*Dagger(δ) + δ*Dagger(γ) + I*(I*α*Dagger(β) - I*β*Dagger(α) - I*γ*Dagger(δ) + I*δ*Dagger(γ))],\n",
       "[2*α*Dagger(δ) + 2*δ*Dagger(α) + I*(I*α*Dagger(δ) - I*β*Dagger(γ) + I*γ*Dagger(β) - I*δ*Dagger(α)) + I*(I*α*Dagger(δ) + I*β*Dagger(γ) - I*γ*Dagger(β) - I*δ*Dagger(α)),                                            -α*Dagger(γ) + β*Dagger(δ) - γ*Dagger(α) + δ*Dagger(β) - I*(I*α*Dagger(γ) - I*β*Dagger(δ) - I*γ*Dagger(α) + I*δ*Dagger(β)),                                            -α*Dagger(β) - β*Dagger(α) + γ*Dagger(δ) + δ*Dagger(γ) - I*(I*α*Dagger(β) - I*β*Dagger(α) - I*γ*Dagger(δ) + I*δ*Dagger(γ)),                                                                                                                 α*Dagger(α) - β*Dagger(β) - γ*Dagger(γ) + δ*Dagger(δ)]])"
      ]
     },
     "execution_count": 50,
     "metadata": {},
     "output_type": "execute_result"
    }
   ],
   "source": [
    "rho_bell_basis += bchsh_sum_correlations\n",
    "bchsh_sum_correlations"
   ]
  },
  {
   "cell_type": "code",
   "execution_count": 51,
   "id": "fee3a86b-33c8-47e2-8c40-79d979033326",
   "metadata": {},
   "outputs": [
    {
     "data": {
      "text/latex": [
       "$\\displaystyle \\left[\\begin{matrix}rz + sz + α α^{\\dagger} - β β^{\\dagger} - γ γ^{\\dagger} + δ δ^{\\dagger} + 1 & sx - i sy + α β^{\\dagger} + β α^{\\dagger} - γ δ^{\\dagger} - δ γ^{\\dagger} - i \\left(i α β^{\\dagger} - i β α^{\\dagger} - i γ δ^{\\dagger} + i δ γ^{\\dagger}\\right) & rx - i ry + α γ^{\\dagger} - β δ^{\\dagger} + γ α^{\\dagger} - δ β^{\\dagger} - i \\left(i α γ^{\\dagger} - i β δ^{\\dagger} - i γ α^{\\dagger} + i δ β^{\\dagger}\\right) & 2 α δ^{\\dagger} + 2 δ α^{\\dagger} - i \\left(i α δ^{\\dagger} - i β γ^{\\dagger} + i γ β^{\\dagger} - i δ α^{\\dagger}\\right) - i \\left(i α δ^{\\dagger} + i β γ^{\\dagger} - i γ β^{\\dagger} - i δ α^{\\dagger}\\right)\\\\sx + i sy + α β^{\\dagger} + β α^{\\dagger} - γ δ^{\\dagger} - δ γ^{\\dagger} + i \\left(i α β^{\\dagger} - i β α^{\\dagger} - i γ δ^{\\dagger} + i δ γ^{\\dagger}\\right) & rz - sz - α α^{\\dagger} + β β^{\\dagger} + γ γ^{\\dagger} - δ δ^{\\dagger} + 1 & 2 β γ^{\\dagger} + 2 γ β^{\\dagger} + i \\left(i α δ^{\\dagger} - i β γ^{\\dagger} + i γ β^{\\dagger} - i δ α^{\\dagger}\\right) - i \\left(i α δ^{\\dagger} + i β γ^{\\dagger} - i γ β^{\\dagger} - i δ α^{\\dagger}\\right) & rx - i ry - α γ^{\\dagger} + β δ^{\\dagger} - γ α^{\\dagger} + δ β^{\\dagger} + i \\left(i α γ^{\\dagger} - i β δ^{\\dagger} - i γ α^{\\dagger} + i δ β^{\\dagger}\\right)\\\\rx + i ry + α γ^{\\dagger} - β δ^{\\dagger} + γ α^{\\dagger} - δ β^{\\dagger} + i \\left(i α γ^{\\dagger} - i β δ^{\\dagger} - i γ α^{\\dagger} + i δ β^{\\dagger}\\right) & 2 β γ^{\\dagger} + 2 γ β^{\\dagger} - i \\left(i α δ^{\\dagger} - i β γ^{\\dagger} + i γ β^{\\dagger} - i δ α^{\\dagger}\\right) + i \\left(i α δ^{\\dagger} + i β γ^{\\dagger} - i γ β^{\\dagger} - i δ α^{\\dagger}\\right) & - rz + sz - α α^{\\dagger} + β β^{\\dagger} + γ γ^{\\dagger} - δ δ^{\\dagger} + 1 & sx - i sy - α β^{\\dagger} - β α^{\\dagger} + γ δ^{\\dagger} + δ γ^{\\dagger} + i \\left(i α β^{\\dagger} - i β α^{\\dagger} - i γ δ^{\\dagger} + i δ γ^{\\dagger}\\right)\\\\2 α δ^{\\dagger} + 2 δ α^{\\dagger} + i \\left(i α δ^{\\dagger} - i β γ^{\\dagger} + i γ β^{\\dagger} - i δ α^{\\dagger}\\right) + i \\left(i α δ^{\\dagger} + i β γ^{\\dagger} - i γ β^{\\dagger} - i δ α^{\\dagger}\\right) & rx + i ry - α γ^{\\dagger} + β δ^{\\dagger} - γ α^{\\dagger} + δ β^{\\dagger} - i \\left(i α γ^{\\dagger} - i β δ^{\\dagger} - i γ α^{\\dagger} + i δ β^{\\dagger}\\right) & sx + i sy - α β^{\\dagger} - β α^{\\dagger} + γ δ^{\\dagger} + δ γ^{\\dagger} - i \\left(i α β^{\\dagger} - i β α^{\\dagger} - i γ δ^{\\dagger} + i δ γ^{\\dagger}\\right) & - rz - sz + α α^{\\dagger} - β β^{\\dagger} - γ γ^{\\dagger} + δ δ^{\\dagger} + 1\\end{matrix}\\right]$"
      ],
      "text/plain": [
       "Matrix([\n",
       "[                                                                                                  rz + sz + α*Dagger(α) - β*Dagger(β) - γ*Dagger(γ) + δ*Dagger(δ) + 1,                                 sx - I*sy + α*Dagger(β) + β*Dagger(α) - γ*Dagger(δ) - δ*Dagger(γ) - I*(I*α*Dagger(β) - I*β*Dagger(α) - I*γ*Dagger(δ) + I*δ*Dagger(γ)),                                 rx - I*ry + α*Dagger(γ) - β*Dagger(δ) + γ*Dagger(α) - δ*Dagger(β) - I*(I*α*Dagger(γ) - I*β*Dagger(δ) - I*γ*Dagger(α) + I*δ*Dagger(β)), 2*α*Dagger(δ) + 2*δ*Dagger(α) - I*(I*α*Dagger(δ) - I*β*Dagger(γ) + I*γ*Dagger(β) - I*δ*Dagger(α)) - I*(I*α*Dagger(δ) + I*β*Dagger(γ) - I*γ*Dagger(β) - I*δ*Dagger(α))],\n",
       "[                                sx + I*sy + α*Dagger(β) + β*Dagger(α) - γ*Dagger(δ) - δ*Dagger(γ) + I*(I*α*Dagger(β) - I*β*Dagger(α) - I*γ*Dagger(δ) + I*δ*Dagger(γ)),                                                                                                   rz - sz - α*Dagger(α) + β*Dagger(β) + γ*Dagger(γ) - δ*Dagger(δ) + 1, 2*β*Dagger(γ) + 2*γ*Dagger(β) + I*(I*α*Dagger(δ) - I*β*Dagger(γ) + I*γ*Dagger(β) - I*δ*Dagger(α)) - I*(I*α*Dagger(δ) + I*β*Dagger(γ) - I*γ*Dagger(β) - I*δ*Dagger(α)),                                 rx - I*ry - α*Dagger(γ) + β*Dagger(δ) - γ*Dagger(α) + δ*Dagger(β) + I*(I*α*Dagger(γ) - I*β*Dagger(δ) - I*γ*Dagger(α) + I*δ*Dagger(β))],\n",
       "[                                rx + I*ry + α*Dagger(γ) - β*Dagger(δ) + γ*Dagger(α) - δ*Dagger(β) + I*(I*α*Dagger(γ) - I*β*Dagger(δ) - I*γ*Dagger(α) + I*δ*Dagger(β)), 2*β*Dagger(γ) + 2*γ*Dagger(β) - I*(I*α*Dagger(δ) - I*β*Dagger(γ) + I*γ*Dagger(β) - I*δ*Dagger(α)) + I*(I*α*Dagger(δ) + I*β*Dagger(γ) - I*γ*Dagger(β) - I*δ*Dagger(α)),                                                                                                  -rz + sz - α*Dagger(α) + β*Dagger(β) + γ*Dagger(γ) - δ*Dagger(δ) + 1,                                 sx - I*sy - α*Dagger(β) - β*Dagger(α) + γ*Dagger(δ) + δ*Dagger(γ) + I*(I*α*Dagger(β) - I*β*Dagger(α) - I*γ*Dagger(δ) + I*δ*Dagger(γ))],\n",
       "[2*α*Dagger(δ) + 2*δ*Dagger(α) + I*(I*α*Dagger(δ) - I*β*Dagger(γ) + I*γ*Dagger(β) - I*δ*Dagger(α)) + I*(I*α*Dagger(δ) + I*β*Dagger(γ) - I*γ*Dagger(β) - I*δ*Dagger(α)),                                 rx + I*ry - α*Dagger(γ) + β*Dagger(δ) - γ*Dagger(α) + δ*Dagger(β) - I*(I*α*Dagger(γ) - I*β*Dagger(δ) - I*γ*Dagger(α) + I*δ*Dagger(β)),                                 sx + I*sy - α*Dagger(β) - β*Dagger(α) + γ*Dagger(δ) + δ*Dagger(γ) - I*(I*α*Dagger(β) - I*β*Dagger(α) - I*γ*Dagger(δ) + I*δ*Dagger(γ)),                                                                                                  -rz - sz + α*Dagger(α) - β*Dagger(β) - γ*Dagger(γ) + δ*Dagger(δ) + 1]])"
      ]
     },
     "execution_count": 51,
     "metadata": {},
     "output_type": "execute_result"
    }
   ],
   "source": [
    "rho_bell_basis"
   ]
  },
  {
   "cell_type": "code",
   "execution_count": 52,
   "id": "9e2877f6-c22b-47bd-9589-9b75cb27ab90",
   "metadata": {},
   "outputs": [
    {
     "data": {
      "text/latex": [
       "$\\displaystyle \\left[\\begin{matrix}\\left(rx - i ry + α γ^{\\dagger} - β δ^{\\dagger} + γ α^{\\dagger} - δ β^{\\dagger} - i \\left(i α γ^{\\dagger} - i β δ^{\\dagger} - i γ α^{\\dagger} + i δ β^{\\dagger}\\right)\\right)^{2} + \\left(rx + i ry + α γ^{\\dagger} - β δ^{\\dagger} + γ α^{\\dagger} - δ β^{\\dagger} + i \\left(i α γ^{\\dagger} - i β δ^{\\dagger} - i γ α^{\\dagger} + i δ β^{\\dagger}\\right)\\right)^{2} + \\left(- rz + sz - α α^{\\dagger} + β β^{\\dagger} + γ γ^{\\dagger} - δ δ^{\\dagger} + 1\\right)^{2} + \\left(rz + sz + α α^{\\dagger} - β β^{\\dagger} - γ γ^{\\dagger} + δ δ^{\\dagger} + 1\\right)^{2} & \\left(2 α δ^{\\dagger} + 2 δ α^{\\dagger} - i \\left(i α δ^{\\dagger} - i β γ^{\\dagger} + i γ β^{\\dagger} - i δ α^{\\dagger}\\right) - i \\left(i α δ^{\\dagger} + i β γ^{\\dagger} - i γ β^{\\dagger} - i δ α^{\\dagger}\\right)\\right) \\left(rx - i ry + α γ^{\\dagger} - β δ^{\\dagger} + γ α^{\\dagger} - δ β^{\\dagger} - i \\left(i α γ^{\\dagger} - i β δ^{\\dagger} - i γ α^{\\dagger} + i δ β^{\\dagger}\\right)\\right) + \\left(2 β γ^{\\dagger} + 2 γ β^{\\dagger} - i \\left(i α δ^{\\dagger} - i β γ^{\\dagger} + i γ β^{\\dagger} - i δ α^{\\dagger}\\right) + i \\left(i α δ^{\\dagger} + i β γ^{\\dagger} - i γ β^{\\dagger} - i δ α^{\\dagger}\\right)\\right) \\left(rx + i ry + α γ^{\\dagger} - β δ^{\\dagger} + γ α^{\\dagger} - δ β^{\\dagger} + i \\left(i α γ^{\\dagger} - i β δ^{\\dagger} - i γ α^{\\dagger} + i δ β^{\\dagger}\\right)\\right) + \\left(- rz + sz - α α^{\\dagger} + β β^{\\dagger} + γ γ^{\\dagger} - δ δ^{\\dagger} + 1\\right) \\left(sx - i sy - α β^{\\dagger} - β α^{\\dagger} + γ δ^{\\dagger} + δ γ^{\\dagger} + i \\left(i α β^{\\dagger} - i β α^{\\dagger} - i γ δ^{\\dagger} + i δ γ^{\\dagger}\\right)\\right) + \\left(rz + sz + α α^{\\dagger} - β β^{\\dagger} - γ γ^{\\dagger} + δ δ^{\\dagger} + 1\\right) \\left(sx - i sy + α β^{\\dagger} + β α^{\\dagger} - γ δ^{\\dagger} - δ γ^{\\dagger} - i \\left(i α β^{\\dagger} - i β α^{\\dagger} - i γ δ^{\\dagger} + i δ γ^{\\dagger}\\right)\\right) & \\left(2 α δ^{\\dagger} + 2 δ α^{\\dagger} + i \\left(i α δ^{\\dagger} - i β γ^{\\dagger} + i γ β^{\\dagger} - i δ α^{\\dagger}\\right) + i \\left(i α δ^{\\dagger} + i β γ^{\\dagger} - i γ β^{\\dagger} - i δ α^{\\dagger}\\right)\\right) \\left(rx + i ry + α γ^{\\dagger} - β δ^{\\dagger} + γ α^{\\dagger} - δ β^{\\dagger} + i \\left(i α γ^{\\dagger} - i β δ^{\\dagger} - i γ α^{\\dagger} + i δ β^{\\dagger}\\right)\\right) + \\left(2 β γ^{\\dagger} + 2 γ β^{\\dagger} + i \\left(i α δ^{\\dagger} - i β γ^{\\dagger} + i γ β^{\\dagger} - i δ α^{\\dagger}\\right) - i \\left(i α δ^{\\dagger} + i β γ^{\\dagger} - i γ β^{\\dagger} - i δ α^{\\dagger}\\right)\\right) \\left(rx - i ry + α γ^{\\dagger} - β δ^{\\dagger} + γ α^{\\dagger} - δ β^{\\dagger} - i \\left(i α γ^{\\dagger} - i β δ^{\\dagger} - i γ α^{\\dagger} + i δ β^{\\dagger}\\right)\\right) + \\left(- rz + sz - α α^{\\dagger} + β β^{\\dagger} + γ γ^{\\dagger} - δ δ^{\\dagger} + 1\\right) \\left(sx + i sy - α β^{\\dagger} - β α^{\\dagger} + γ δ^{\\dagger} + δ γ^{\\dagger} - i \\left(i α β^{\\dagger} - i β α^{\\dagger} - i γ δ^{\\dagger} + i δ γ^{\\dagger}\\right)\\right) + \\left(rz + sz + α α^{\\dagger} - β β^{\\dagger} - γ γ^{\\dagger} + δ δ^{\\dagger} + 1\\right) \\left(sx + i sy + α β^{\\dagger} + β α^{\\dagger} - γ δ^{\\dagger} - δ γ^{\\dagger} + i \\left(i α β^{\\dagger} - i β α^{\\dagger} - i γ δ^{\\dagger} + i δ γ^{\\dagger}\\right)\\right) & \\left(rx - i ry - α γ^{\\dagger} + β δ^{\\dagger} - γ α^{\\dagger} + δ β^{\\dagger} + i \\left(i α γ^{\\dagger} - i β δ^{\\dagger} - i γ α^{\\dagger} + i δ β^{\\dagger}\\right)\\right) \\left(rx - i ry + α γ^{\\dagger} - β δ^{\\dagger} + γ α^{\\dagger} - δ β^{\\dagger} - i \\left(i α γ^{\\dagger} - i β δ^{\\dagger} - i γ α^{\\dagger} + i δ β^{\\dagger}\\right)\\right) + \\left(rx + i ry - α γ^{\\dagger} + β δ^{\\dagger} - γ α^{\\dagger} + δ β^{\\dagger} - i \\left(i α γ^{\\dagger} - i β δ^{\\dagger} - i γ α^{\\dagger} + i δ β^{\\dagger}\\right)\\right) \\left(rx + i ry + α γ^{\\dagger} - β δ^{\\dagger} + γ α^{\\dagger} - δ β^{\\dagger} + i \\left(i α γ^{\\dagger} - i β δ^{\\dagger} - i γ α^{\\dagger} + i δ β^{\\dagger}\\right)\\right) + \\left(- rz - sz + α α^{\\dagger} - β β^{\\dagger} - γ γ^{\\dagger} + δ δ^{\\dagger} + 1\\right) \\left(- rz + sz - α α^{\\dagger} + β β^{\\dagger} + γ γ^{\\dagger} - δ δ^{\\dagger} + 1\\right) + \\left(rz - sz - α α^{\\dagger} + β β^{\\dagger} + γ γ^{\\dagger} - δ δ^{\\dagger} + 1\\right) \\left(rz + sz + α α^{\\dagger} - β β^{\\dagger} - γ γ^{\\dagger} + δ δ^{\\dagger} + 1\\right)\\\\\\left(2 α δ^{\\dagger} + 2 δ α^{\\dagger} - i \\left(i α δ^{\\dagger} - i β γ^{\\dagger} + i γ β^{\\dagger} - i δ α^{\\dagger}\\right) - i \\left(i α δ^{\\dagger} + i β γ^{\\dagger} - i γ β^{\\dagger} - i δ α^{\\dagger}\\right)\\right) \\left(rx - i ry + α γ^{\\dagger} - β δ^{\\dagger} + γ α^{\\dagger} - δ β^{\\dagger} - i \\left(i α γ^{\\dagger} - i β δ^{\\dagger} - i γ α^{\\dagger} + i δ β^{\\dagger}\\right)\\right) + \\left(2 β γ^{\\dagger} + 2 γ β^{\\dagger} - i \\left(i α δ^{\\dagger} - i β γ^{\\dagger} + i γ β^{\\dagger} - i δ α^{\\dagger}\\right) + i \\left(i α δ^{\\dagger} + i β γ^{\\dagger} - i γ β^{\\dagger} - i δ α^{\\dagger}\\right)\\right) \\left(rx + i ry + α γ^{\\dagger} - β δ^{\\dagger} + γ α^{\\dagger} - δ β^{\\dagger} + i \\left(i α γ^{\\dagger} - i β δ^{\\dagger} - i γ α^{\\dagger} + i δ β^{\\dagger}\\right)\\right) + \\left(- rz + sz - α α^{\\dagger} + β β^{\\dagger} + γ γ^{\\dagger} - δ δ^{\\dagger} + 1\\right) \\left(sx - i sy - α β^{\\dagger} - β α^{\\dagger} + γ δ^{\\dagger} + δ γ^{\\dagger} + i \\left(i α β^{\\dagger} - i β α^{\\dagger} - i γ δ^{\\dagger} + i δ γ^{\\dagger}\\right)\\right) + \\left(rz + sz + α α^{\\dagger} - β β^{\\dagger} - γ γ^{\\dagger} + δ δ^{\\dagger} + 1\\right) \\left(sx - i sy + α β^{\\dagger} + β α^{\\dagger} - γ δ^{\\dagger} - δ γ^{\\dagger} - i \\left(i α β^{\\dagger} - i β α^{\\dagger} - i γ δ^{\\dagger} + i δ γ^{\\dagger}\\right)\\right) & \\left(2 α δ^{\\dagger} + 2 δ α^{\\dagger} - i \\left(i α δ^{\\dagger} - i β γ^{\\dagger} + i γ β^{\\dagger} - i δ α^{\\dagger}\\right) - i \\left(i α δ^{\\dagger} + i β γ^{\\dagger} - i γ β^{\\dagger} - i δ α^{\\dagger}\\right)\\right)^{2} + \\left(2 β γ^{\\dagger} + 2 γ β^{\\dagger} - i \\left(i α δ^{\\dagger} - i β γ^{\\dagger} + i γ β^{\\dagger} - i δ α^{\\dagger}\\right) + i \\left(i α δ^{\\dagger} + i β γ^{\\dagger} - i γ β^{\\dagger} - i δ α^{\\dagger}\\right)\\right)^{2} + \\left(sx - i sy - α β^{\\dagger} - β α^{\\dagger} + γ δ^{\\dagger} + δ γ^{\\dagger} + i \\left(i α β^{\\dagger} - i β α^{\\dagger} - i γ δ^{\\dagger} + i δ γ^{\\dagger}\\right)\\right)^{2} + \\left(sx - i sy + α β^{\\dagger} + β α^{\\dagger} - γ δ^{\\dagger} - δ γ^{\\dagger} - i \\left(i α β^{\\dagger} - i β α^{\\dagger} - i γ δ^{\\dagger} + i δ γ^{\\dagger}\\right)\\right)^{2} & \\left(2 α δ^{\\dagger} + 2 δ α^{\\dagger} - i \\left(i α δ^{\\dagger} - i β γ^{\\dagger} + i γ β^{\\dagger} - i δ α^{\\dagger}\\right) - i \\left(i α δ^{\\dagger} + i β γ^{\\dagger} - i γ β^{\\dagger} - i δ α^{\\dagger}\\right)\\right) \\left(2 β γ^{\\dagger} + 2 γ β^{\\dagger} + i \\left(i α δ^{\\dagger} - i β γ^{\\dagger} + i γ β^{\\dagger} - i δ α^{\\dagger}\\right) - i \\left(i α δ^{\\dagger} + i β γ^{\\dagger} - i γ β^{\\dagger} - i δ α^{\\dagger}\\right)\\right) + \\left(2 α δ^{\\dagger} + 2 δ α^{\\dagger} + i \\left(i α δ^{\\dagger} - i β γ^{\\dagger} + i γ β^{\\dagger} - i δ α^{\\dagger}\\right) + i \\left(i α δ^{\\dagger} + i β γ^{\\dagger} - i γ β^{\\dagger} - i δ α^{\\dagger}\\right)\\right) \\left(2 β γ^{\\dagger} + 2 γ β^{\\dagger} - i \\left(i α δ^{\\dagger} - i β γ^{\\dagger} + i γ β^{\\dagger} - i δ α^{\\dagger}\\right) + i \\left(i α δ^{\\dagger} + i β γ^{\\dagger} - i γ β^{\\dagger} - i δ α^{\\dagger}\\right)\\right) + \\left(sx - i sy - α β^{\\dagger} - β α^{\\dagger} + γ δ^{\\dagger} + δ γ^{\\dagger} + i \\left(i α β^{\\dagger} - i β α^{\\dagger} - i γ δ^{\\dagger} + i δ γ^{\\dagger}\\right)\\right) \\left(sx + i sy - α β^{\\dagger} - β α^{\\dagger} + γ δ^{\\dagger} + δ γ^{\\dagger} - i \\left(i α β^{\\dagger} - i β α^{\\dagger} - i γ δ^{\\dagger} + i δ γ^{\\dagger}\\right)\\right) + \\left(sx - i sy + α β^{\\dagger} + β α^{\\dagger} - γ δ^{\\dagger} - δ γ^{\\dagger} - i \\left(i α β^{\\dagger} - i β α^{\\dagger} - i γ δ^{\\dagger} + i δ γ^{\\dagger}\\right)\\right) \\left(sx + i sy + α β^{\\dagger} + β α^{\\dagger} - γ δ^{\\dagger} - δ γ^{\\dagger} + i \\left(i α β^{\\dagger} - i β α^{\\dagger} - i γ δ^{\\dagger} + i δ γ^{\\dagger}\\right)\\right) & \\left(2 α δ^{\\dagger} + 2 δ α^{\\dagger} - i \\left(i α δ^{\\dagger} - i β γ^{\\dagger} + i γ β^{\\dagger} - i δ α^{\\dagger}\\right) - i \\left(i α δ^{\\dagger} + i β γ^{\\dagger} - i γ β^{\\dagger} - i δ α^{\\dagger}\\right)\\right) \\left(rx - i ry - α γ^{\\dagger} + β δ^{\\dagger} - γ α^{\\dagger} + δ β^{\\dagger} + i \\left(i α γ^{\\dagger} - i β δ^{\\dagger} - i γ α^{\\dagger} + i δ β^{\\dagger}\\right)\\right) + \\left(2 β γ^{\\dagger} + 2 γ β^{\\dagger} - i \\left(i α δ^{\\dagger} - i β γ^{\\dagger} + i γ β^{\\dagger} - i δ α^{\\dagger}\\right) + i \\left(i α δ^{\\dagger} + i β γ^{\\dagger} - i γ β^{\\dagger} - i δ α^{\\dagger}\\right)\\right) \\left(rx + i ry - α γ^{\\dagger} + β δ^{\\dagger} - γ α^{\\dagger} + δ β^{\\dagger} - i \\left(i α γ^{\\dagger} - i β δ^{\\dagger} - i γ α^{\\dagger} + i δ β^{\\dagger}\\right)\\right) + \\left(- rz - sz + α α^{\\dagger} - β β^{\\dagger} - γ γ^{\\dagger} + δ δ^{\\dagger} + 1\\right) \\left(sx - i sy - α β^{\\dagger} - β α^{\\dagger} + γ δ^{\\dagger} + δ γ^{\\dagger} + i \\left(i α β^{\\dagger} - i β α^{\\dagger} - i γ δ^{\\dagger} + i δ γ^{\\dagger}\\right)\\right) + \\left(rz - sz - α α^{\\dagger} + β β^{\\dagger} + γ γ^{\\dagger} - δ δ^{\\dagger} + 1\\right) \\left(sx - i sy + α β^{\\dagger} + β α^{\\dagger} - γ δ^{\\dagger} - δ γ^{\\dagger} - i \\left(i α β^{\\dagger} - i β α^{\\dagger} - i γ δ^{\\dagger} + i δ γ^{\\dagger}\\right)\\right)\\\\\\left(2 α δ^{\\dagger} + 2 δ α^{\\dagger} + i \\left(i α δ^{\\dagger} - i β γ^{\\dagger} + i γ β^{\\dagger} - i δ α^{\\dagger}\\right) + i \\left(i α δ^{\\dagger} + i β γ^{\\dagger} - i γ β^{\\dagger} - i δ α^{\\dagger}\\right)\\right) \\left(rx + i ry + α γ^{\\dagger} - β δ^{\\dagger} + γ α^{\\dagger} - δ β^{\\dagger} + i \\left(i α γ^{\\dagger} - i β δ^{\\dagger} - i γ α^{\\dagger} + i δ β^{\\dagger}\\right)\\right) + \\left(2 β γ^{\\dagger} + 2 γ β^{\\dagger} + i \\left(i α δ^{\\dagger} - i β γ^{\\dagger} + i γ β^{\\dagger} - i δ α^{\\dagger}\\right) - i \\left(i α δ^{\\dagger} + i β γ^{\\dagger} - i γ β^{\\dagger} - i δ α^{\\dagger}\\right)\\right) \\left(rx - i ry + α γ^{\\dagger} - β δ^{\\dagger} + γ α^{\\dagger} - δ β^{\\dagger} - i \\left(i α γ^{\\dagger} - i β δ^{\\dagger} - i γ α^{\\dagger} + i δ β^{\\dagger}\\right)\\right) + \\left(- rz + sz - α α^{\\dagger} + β β^{\\dagger} + γ γ^{\\dagger} - δ δ^{\\dagger} + 1\\right) \\left(sx + i sy - α β^{\\dagger} - β α^{\\dagger} + γ δ^{\\dagger} + δ γ^{\\dagger} - i \\left(i α β^{\\dagger} - i β α^{\\dagger} - i γ δ^{\\dagger} + i δ γ^{\\dagger}\\right)\\right) + \\left(rz + sz + α α^{\\dagger} - β β^{\\dagger} - γ γ^{\\dagger} + δ δ^{\\dagger} + 1\\right) \\left(sx + i sy + α β^{\\dagger} + β α^{\\dagger} - γ δ^{\\dagger} - δ γ^{\\dagger} + i \\left(i α β^{\\dagger} - i β α^{\\dagger} - i γ δ^{\\dagger} + i δ γ^{\\dagger}\\right)\\right) & \\left(2 α δ^{\\dagger} + 2 δ α^{\\dagger} - i \\left(i α δ^{\\dagger} - i β γ^{\\dagger} + i γ β^{\\dagger} - i δ α^{\\dagger}\\right) - i \\left(i α δ^{\\dagger} + i β γ^{\\dagger} - i γ β^{\\dagger} - i δ α^{\\dagger}\\right)\\right) \\left(2 β γ^{\\dagger} + 2 γ β^{\\dagger} + i \\left(i α δ^{\\dagger} - i β γ^{\\dagger} + i γ β^{\\dagger} - i δ α^{\\dagger}\\right) - i \\left(i α δ^{\\dagger} + i β γ^{\\dagger} - i γ β^{\\dagger} - i δ α^{\\dagger}\\right)\\right) + \\left(2 α δ^{\\dagger} + 2 δ α^{\\dagger} + i \\left(i α δ^{\\dagger} - i β γ^{\\dagger} + i γ β^{\\dagger} - i δ α^{\\dagger}\\right) + i \\left(i α δ^{\\dagger} + i β γ^{\\dagger} - i γ β^{\\dagger} - i δ α^{\\dagger}\\right)\\right) \\left(2 β γ^{\\dagger} + 2 γ β^{\\dagger} - i \\left(i α δ^{\\dagger} - i β γ^{\\dagger} + i γ β^{\\dagger} - i δ α^{\\dagger}\\right) + i \\left(i α δ^{\\dagger} + i β γ^{\\dagger} - i γ β^{\\dagger} - i δ α^{\\dagger}\\right)\\right) + \\left(sx - i sy - α β^{\\dagger} - β α^{\\dagger} + γ δ^{\\dagger} + δ γ^{\\dagger} + i \\left(i α β^{\\dagger} - i β α^{\\dagger} - i γ δ^{\\dagger} + i δ γ^{\\dagger}\\right)\\right) \\left(sx + i sy - α β^{\\dagger} - β α^{\\dagger} + γ δ^{\\dagger} + δ γ^{\\dagger} - i \\left(i α β^{\\dagger} - i β α^{\\dagger} - i γ δ^{\\dagger} + i δ γ^{\\dagger}\\right)\\right) + \\left(sx - i sy + α β^{\\dagger} + β α^{\\dagger} - γ δ^{\\dagger} - δ γ^{\\dagger} - i \\left(i α β^{\\dagger} - i β α^{\\dagger} - i γ δ^{\\dagger} + i δ γ^{\\dagger}\\right)\\right) \\left(sx + i sy + α β^{\\dagger} + β α^{\\dagger} - γ δ^{\\dagger} - δ γ^{\\dagger} + i \\left(i α β^{\\dagger} - i β α^{\\dagger} - i γ δ^{\\dagger} + i δ γ^{\\dagger}\\right)\\right) & \\left(2 α δ^{\\dagger} + 2 δ α^{\\dagger} + i \\left(i α δ^{\\dagger} - i β γ^{\\dagger} + i γ β^{\\dagger} - i δ α^{\\dagger}\\right) + i \\left(i α δ^{\\dagger} + i β γ^{\\dagger} - i γ β^{\\dagger} - i δ α^{\\dagger}\\right)\\right)^{2} + \\left(2 β γ^{\\dagger} + 2 γ β^{\\dagger} + i \\left(i α δ^{\\dagger} - i β γ^{\\dagger} + i γ β^{\\dagger} - i δ α^{\\dagger}\\right) - i \\left(i α δ^{\\dagger} + i β γ^{\\dagger} - i γ β^{\\dagger} - i δ α^{\\dagger}\\right)\\right)^{2} + \\left(sx + i sy - α β^{\\dagger} - β α^{\\dagger} + γ δ^{\\dagger} + δ γ^{\\dagger} - i \\left(i α β^{\\dagger} - i β α^{\\dagger} - i γ δ^{\\dagger} + i δ γ^{\\dagger}\\right)\\right)^{2} + \\left(sx + i sy + α β^{\\dagger} + β α^{\\dagger} - γ δ^{\\dagger} - δ γ^{\\dagger} + i \\left(i α β^{\\dagger} - i β α^{\\dagger} - i γ δ^{\\dagger} + i δ γ^{\\dagger}\\right)\\right)^{2} & \\left(2 α δ^{\\dagger} + 2 δ α^{\\dagger} + i \\left(i α δ^{\\dagger} - i β γ^{\\dagger} + i γ β^{\\dagger} - i δ α^{\\dagger}\\right) + i \\left(i α δ^{\\dagger} + i β γ^{\\dagger} - i γ β^{\\dagger} - i δ α^{\\dagger}\\right)\\right) \\left(rx + i ry - α γ^{\\dagger} + β δ^{\\dagger} - γ α^{\\dagger} + δ β^{\\dagger} - i \\left(i α γ^{\\dagger} - i β δ^{\\dagger} - i γ α^{\\dagger} + i δ β^{\\dagger}\\right)\\right) + \\left(2 β γ^{\\dagger} + 2 γ β^{\\dagger} + i \\left(i α δ^{\\dagger} - i β γ^{\\dagger} + i γ β^{\\dagger} - i δ α^{\\dagger}\\right) - i \\left(i α δ^{\\dagger} + i β γ^{\\dagger} - i γ β^{\\dagger} - i δ α^{\\dagger}\\right)\\right) \\left(rx - i ry - α γ^{\\dagger} + β δ^{\\dagger} - γ α^{\\dagger} + δ β^{\\dagger} + i \\left(i α γ^{\\dagger} - i β δ^{\\dagger} - i γ α^{\\dagger} + i δ β^{\\dagger}\\right)\\right) + \\left(- rz - sz + α α^{\\dagger} - β β^{\\dagger} - γ γ^{\\dagger} + δ δ^{\\dagger} + 1\\right) \\left(sx + i sy - α β^{\\dagger} - β α^{\\dagger} + γ δ^{\\dagger} + δ γ^{\\dagger} - i \\left(i α β^{\\dagger} - i β α^{\\dagger} - i γ δ^{\\dagger} + i δ γ^{\\dagger}\\right)\\right) + \\left(rz - sz - α α^{\\dagger} + β β^{\\dagger} + γ γ^{\\dagger} - δ δ^{\\dagger} + 1\\right) \\left(sx + i sy + α β^{\\dagger} + β α^{\\dagger} - γ δ^{\\dagger} - δ γ^{\\dagger} + i \\left(i α β^{\\dagger} - i β α^{\\dagger} - i γ δ^{\\dagger} + i δ γ^{\\dagger}\\right)\\right)\\\\\\left(rx - i ry - α γ^{\\dagger} + β δ^{\\dagger} - γ α^{\\dagger} + δ β^{\\dagger} + i \\left(i α γ^{\\dagger} - i β δ^{\\dagger} - i γ α^{\\dagger} + i δ β^{\\dagger}\\right)\\right) \\left(rx - i ry + α γ^{\\dagger} - β δ^{\\dagger} + γ α^{\\dagger} - δ β^{\\dagger} - i \\left(i α γ^{\\dagger} - i β δ^{\\dagger} - i γ α^{\\dagger} + i δ β^{\\dagger}\\right)\\right) + \\left(rx + i ry - α γ^{\\dagger} + β δ^{\\dagger} - γ α^{\\dagger} + δ β^{\\dagger} - i \\left(i α γ^{\\dagger} - i β δ^{\\dagger} - i γ α^{\\dagger} + i δ β^{\\dagger}\\right)\\right) \\left(rx + i ry + α γ^{\\dagger} - β δ^{\\dagger} + γ α^{\\dagger} - δ β^{\\dagger} + i \\left(i α γ^{\\dagger} - i β δ^{\\dagger} - i γ α^{\\dagger} + i δ β^{\\dagger}\\right)\\right) + \\left(- rz - sz + α α^{\\dagger} - β β^{\\dagger} - γ γ^{\\dagger} + δ δ^{\\dagger} + 1\\right) \\left(- rz + sz - α α^{\\dagger} + β β^{\\dagger} + γ γ^{\\dagger} - δ δ^{\\dagger} + 1\\right) + \\left(rz - sz - α α^{\\dagger} + β β^{\\dagger} + γ γ^{\\dagger} - δ δ^{\\dagger} + 1\\right) \\left(rz + sz + α α^{\\dagger} - β β^{\\dagger} - γ γ^{\\dagger} + δ δ^{\\dagger} + 1\\right) & \\left(2 α δ^{\\dagger} + 2 δ α^{\\dagger} - i \\left(i α δ^{\\dagger} - i β γ^{\\dagger} + i γ β^{\\dagger} - i δ α^{\\dagger}\\right) - i \\left(i α δ^{\\dagger} + i β γ^{\\dagger} - i γ β^{\\dagger} - i δ α^{\\dagger}\\right)\\right) \\left(rx - i ry - α γ^{\\dagger} + β δ^{\\dagger} - γ α^{\\dagger} + δ β^{\\dagger} + i \\left(i α γ^{\\dagger} - i β δ^{\\dagger} - i γ α^{\\dagger} + i δ β^{\\dagger}\\right)\\right) + \\left(2 β γ^{\\dagger} + 2 γ β^{\\dagger} - i \\left(i α δ^{\\dagger} - i β γ^{\\dagger} + i γ β^{\\dagger} - i δ α^{\\dagger}\\right) + i \\left(i α δ^{\\dagger} + i β γ^{\\dagger} - i γ β^{\\dagger} - i δ α^{\\dagger}\\right)\\right) \\left(rx + i ry - α γ^{\\dagger} + β δ^{\\dagger} - γ α^{\\dagger} + δ β^{\\dagger} - i \\left(i α γ^{\\dagger} - i β δ^{\\dagger} - i γ α^{\\dagger} + i δ β^{\\dagger}\\right)\\right) + \\left(- rz - sz + α α^{\\dagger} - β β^{\\dagger} - γ γ^{\\dagger} + δ δ^{\\dagger} + 1\\right) \\left(sx - i sy - α β^{\\dagger} - β α^{\\dagger} + γ δ^{\\dagger} + δ γ^{\\dagger} + i \\left(i α β^{\\dagger} - i β α^{\\dagger} - i γ δ^{\\dagger} + i δ γ^{\\dagger}\\right)\\right) + \\left(rz - sz - α α^{\\dagger} + β β^{\\dagger} + γ γ^{\\dagger} - δ δ^{\\dagger} + 1\\right) \\left(sx - i sy + α β^{\\dagger} + β α^{\\dagger} - γ δ^{\\dagger} - δ γ^{\\dagger} - i \\left(i α β^{\\dagger} - i β α^{\\dagger} - i γ δ^{\\dagger} + i δ γ^{\\dagger}\\right)\\right) & \\left(2 α δ^{\\dagger} + 2 δ α^{\\dagger} + i \\left(i α δ^{\\dagger} - i β γ^{\\dagger} + i γ β^{\\dagger} - i δ α^{\\dagger}\\right) + i \\left(i α δ^{\\dagger} + i β γ^{\\dagger} - i γ β^{\\dagger} - i δ α^{\\dagger}\\right)\\right) \\left(rx + i ry - α γ^{\\dagger} + β δ^{\\dagger} - γ α^{\\dagger} + δ β^{\\dagger} - i \\left(i α γ^{\\dagger} - i β δ^{\\dagger} - i γ α^{\\dagger} + i δ β^{\\dagger}\\right)\\right) + \\left(2 β γ^{\\dagger} + 2 γ β^{\\dagger} + i \\left(i α δ^{\\dagger} - i β γ^{\\dagger} + i γ β^{\\dagger} - i δ α^{\\dagger}\\right) - i \\left(i α δ^{\\dagger} + i β γ^{\\dagger} - i γ β^{\\dagger} - i δ α^{\\dagger}\\right)\\right) \\left(rx - i ry - α γ^{\\dagger} + β δ^{\\dagger} - γ α^{\\dagger} + δ β^{\\dagger} + i \\left(i α γ^{\\dagger} - i β δ^{\\dagger} - i γ α^{\\dagger} + i δ β^{\\dagger}\\right)\\right) + \\left(- rz - sz + α α^{\\dagger} - β β^{\\dagger} - γ γ^{\\dagger} + δ δ^{\\dagger} + 1\\right) \\left(sx + i sy - α β^{\\dagger} - β α^{\\dagger} + γ δ^{\\dagger} + δ γ^{\\dagger} - i \\left(i α β^{\\dagger} - i β α^{\\dagger} - i γ δ^{\\dagger} + i δ γ^{\\dagger}\\right)\\right) + \\left(rz - sz - α α^{\\dagger} + β β^{\\dagger} + γ γ^{\\dagger} - δ δ^{\\dagger} + 1\\right) \\left(sx + i sy + α β^{\\dagger} + β α^{\\dagger} - γ δ^{\\dagger} - δ γ^{\\dagger} + i \\left(i α β^{\\dagger} - i β α^{\\dagger} - i γ δ^{\\dagger} + i δ γ^{\\dagger}\\right)\\right) & \\left(rx - i ry - α γ^{\\dagger} + β δ^{\\dagger} - γ α^{\\dagger} + δ β^{\\dagger} + i \\left(i α γ^{\\dagger} - i β δ^{\\dagger} - i γ α^{\\dagger} + i δ β^{\\dagger}\\right)\\right)^{2} + \\left(rx + i ry - α γ^{\\dagger} + β δ^{\\dagger} - γ α^{\\dagger} + δ β^{\\dagger} - i \\left(i α γ^{\\dagger} - i β δ^{\\dagger} - i γ α^{\\dagger} + i δ β^{\\dagger}\\right)\\right)^{2} + \\left(- rz - sz + α α^{\\dagger} - β β^{\\dagger} - γ γ^{\\dagger} + δ δ^{\\dagger} + 1\\right)^{2} + \\left(rz - sz - α α^{\\dagger} + β β^{\\dagger} + γ γ^{\\dagger} - δ δ^{\\dagger} + 1\\right)^{2}\\end{matrix}\\right]$"
      ],
      "text/plain": [
       "Matrix([\n",
       "[                                                                                                                                                                                                                                                                                                                                                                                                                                                                                                                                                                                                                    (rx - I*ry + α*Dagger(γ) - β*Dagger(δ) + γ*Dagger(α) - δ*Dagger(β) - I*(I*α*Dagger(γ) - I*β*Dagger(δ) - I*γ*Dagger(α) + I*δ*Dagger(β)))**2 + (rx + I*ry + α*Dagger(γ) - β*Dagger(δ) + γ*Dagger(α) - δ*Dagger(β) + I*(I*α*Dagger(γ) - I*β*Dagger(δ) - I*γ*Dagger(α) + I*δ*Dagger(β)))**2 + (-rz + sz - α*Dagger(α) + β*Dagger(β) + γ*Dagger(γ) - δ*Dagger(δ) + 1)**2 + (rz + sz + α*Dagger(α) - β*Dagger(β) - γ*Dagger(γ) + δ*Dagger(δ) + 1)**2,                                                                                                                                                                                                    (2*α*Dagger(δ) + 2*δ*Dagger(α) - I*(I*α*Dagger(δ) - I*β*Dagger(γ) + I*γ*Dagger(β) - I*δ*Dagger(α)) - I*(I*α*Dagger(δ) + I*β*Dagger(γ) - I*γ*Dagger(β) - I*δ*Dagger(α)))*(rx - I*ry + α*Dagger(γ) - β*Dagger(δ) + γ*Dagger(α) - δ*Dagger(β) - I*(I*α*Dagger(γ) - I*β*Dagger(δ) - I*γ*Dagger(α) + I*δ*Dagger(β))) + (2*β*Dagger(γ) + 2*γ*Dagger(β) - I*(I*α*Dagger(δ) - I*β*Dagger(γ) + I*γ*Dagger(β) - I*δ*Dagger(α)) + I*(I*α*Dagger(δ) + I*β*Dagger(γ) - I*γ*Dagger(β) - I*δ*Dagger(α)))*(rx + I*ry + α*Dagger(γ) - β*Dagger(δ) + γ*Dagger(α) - δ*Dagger(β) + I*(I*α*Dagger(γ) - I*β*Dagger(δ) - I*γ*Dagger(α) + I*δ*Dagger(β))) + (-rz + sz - α*Dagger(α) + β*Dagger(β) + γ*Dagger(γ) - δ*Dagger(δ) + 1)*(sx - I*sy - α*Dagger(β) - β*Dagger(α) + γ*Dagger(δ) + δ*Dagger(γ) + I*(I*α*Dagger(β) - I*β*Dagger(α) - I*γ*Dagger(δ) + I*δ*Dagger(γ))) + (rz + sz + α*Dagger(α) - β*Dagger(β) - γ*Dagger(γ) + δ*Dagger(δ) + 1)*(sx - I*sy + α*Dagger(β) + β*Dagger(α) - γ*Dagger(δ) - δ*Dagger(γ) - I*(I*α*Dagger(β) - I*β*Dagger(α) - I*γ*Dagger(δ) + I*δ*Dagger(γ))),                                                                                                                                                                                                    (2*α*Dagger(δ) + 2*δ*Dagger(α) + I*(I*α*Dagger(δ) - I*β*Dagger(γ) + I*γ*Dagger(β) - I*δ*Dagger(α)) + I*(I*α*Dagger(δ) + I*β*Dagger(γ) - I*γ*Dagger(β) - I*δ*Dagger(α)))*(rx + I*ry + α*Dagger(γ) - β*Dagger(δ) + γ*Dagger(α) - δ*Dagger(β) + I*(I*α*Dagger(γ) - I*β*Dagger(δ) - I*γ*Dagger(α) + I*δ*Dagger(β))) + (2*β*Dagger(γ) + 2*γ*Dagger(β) + I*(I*α*Dagger(δ) - I*β*Dagger(γ) + I*γ*Dagger(β) - I*δ*Dagger(α)) - I*(I*α*Dagger(δ) + I*β*Dagger(γ) - I*γ*Dagger(β) - I*δ*Dagger(α)))*(rx - I*ry + α*Dagger(γ) - β*Dagger(δ) + γ*Dagger(α) - δ*Dagger(β) - I*(I*α*Dagger(γ) - I*β*Dagger(δ) - I*γ*Dagger(α) + I*δ*Dagger(β))) + (-rz + sz - α*Dagger(α) + β*Dagger(β) + γ*Dagger(γ) - δ*Dagger(δ) + 1)*(sx + I*sy - α*Dagger(β) - β*Dagger(α) + γ*Dagger(δ) + δ*Dagger(γ) - I*(I*α*Dagger(β) - I*β*Dagger(α) - I*γ*Dagger(δ) + I*δ*Dagger(γ))) + (rz + sz + α*Dagger(α) - β*Dagger(β) - γ*Dagger(γ) + δ*Dagger(δ) + 1)*(sx + I*sy + α*Dagger(β) + β*Dagger(α) - γ*Dagger(δ) - δ*Dagger(γ) + I*(I*α*Dagger(β) - I*β*Dagger(α) - I*γ*Dagger(δ) + I*δ*Dagger(γ))),                                                                                                                                                                                                    (rx - I*ry - α*Dagger(γ) + β*Dagger(δ) - γ*Dagger(α) + δ*Dagger(β) + I*(I*α*Dagger(γ) - I*β*Dagger(δ) - I*γ*Dagger(α) + I*δ*Dagger(β)))*(rx - I*ry + α*Dagger(γ) - β*Dagger(δ) + γ*Dagger(α) - δ*Dagger(β) - I*(I*α*Dagger(γ) - I*β*Dagger(δ) - I*γ*Dagger(α) + I*δ*Dagger(β))) + (rx + I*ry - α*Dagger(γ) + β*Dagger(δ) - γ*Dagger(α) + δ*Dagger(β) - I*(I*α*Dagger(γ) - I*β*Dagger(δ) - I*γ*Dagger(α) + I*δ*Dagger(β)))*(rx + I*ry + α*Dagger(γ) - β*Dagger(δ) + γ*Dagger(α) - δ*Dagger(β) + I*(I*α*Dagger(γ) - I*β*Dagger(δ) - I*γ*Dagger(α) + I*δ*Dagger(β))) + (-rz - sz + α*Dagger(α) - β*Dagger(β) - γ*Dagger(γ) + δ*Dagger(δ) + 1)*(-rz + sz - α*Dagger(α) + β*Dagger(β) + γ*Dagger(γ) - δ*Dagger(δ) + 1) + (rz - sz - α*Dagger(α) + β*Dagger(β) + γ*Dagger(γ) - δ*Dagger(δ) + 1)*(rz + sz + α*Dagger(α) - β*Dagger(β) - γ*Dagger(γ) + δ*Dagger(δ) + 1)],\n",
       "[(2*α*Dagger(δ) + 2*δ*Dagger(α) - I*(I*α*Dagger(δ) - I*β*Dagger(γ) + I*γ*Dagger(β) - I*δ*Dagger(α)) - I*(I*α*Dagger(δ) + I*β*Dagger(γ) - I*γ*Dagger(β) - I*δ*Dagger(α)))*(rx - I*ry + α*Dagger(γ) - β*Dagger(δ) + γ*Dagger(α) - δ*Dagger(β) - I*(I*α*Dagger(γ) - I*β*Dagger(δ) - I*γ*Dagger(α) + I*δ*Dagger(β))) + (2*β*Dagger(γ) + 2*γ*Dagger(β) - I*(I*α*Dagger(δ) - I*β*Dagger(γ) + I*γ*Dagger(β) - I*δ*Dagger(α)) + I*(I*α*Dagger(δ) + I*β*Dagger(γ) - I*γ*Dagger(β) - I*δ*Dagger(α)))*(rx + I*ry + α*Dagger(γ) - β*Dagger(δ) + γ*Dagger(α) - δ*Dagger(β) + I*(I*α*Dagger(γ) - I*β*Dagger(δ) - I*γ*Dagger(α) + I*δ*Dagger(β))) + (-rz + sz - α*Dagger(α) + β*Dagger(β) + γ*Dagger(γ) - δ*Dagger(δ) + 1)*(sx - I*sy - α*Dagger(β) - β*Dagger(α) + γ*Dagger(δ) + δ*Dagger(γ) + I*(I*α*Dagger(β) - I*β*Dagger(α) - I*γ*Dagger(δ) + I*δ*Dagger(γ))) + (rz + sz + α*Dagger(α) - β*Dagger(β) - γ*Dagger(γ) + δ*Dagger(δ) + 1)*(sx - I*sy + α*Dagger(β) + β*Dagger(α) - γ*Dagger(δ) - δ*Dagger(γ) - I*(I*α*Dagger(β) - I*β*Dagger(α) - I*γ*Dagger(δ) + I*δ*Dagger(γ))),                                                                                                                                                                                                                                                                                                                                                                                                                                                                                                                                                                                                                     (2*α*Dagger(δ) + 2*δ*Dagger(α) - I*(I*α*Dagger(δ) - I*β*Dagger(γ) + I*γ*Dagger(β) - I*δ*Dagger(α)) - I*(I*α*Dagger(δ) + I*β*Dagger(γ) - I*γ*Dagger(β) - I*δ*Dagger(α)))**2 + (2*β*Dagger(γ) + 2*γ*Dagger(β) - I*(I*α*Dagger(δ) - I*β*Dagger(γ) + I*γ*Dagger(β) - I*δ*Dagger(α)) + I*(I*α*Dagger(δ) + I*β*Dagger(γ) - I*γ*Dagger(β) - I*δ*Dagger(α)))**2 + (sx - I*sy - α*Dagger(β) - β*Dagger(α) + γ*Dagger(δ) + δ*Dagger(γ) + I*(I*α*Dagger(β) - I*β*Dagger(α) - I*γ*Dagger(δ) + I*δ*Dagger(γ)))**2 + (sx - I*sy + α*Dagger(β) + β*Dagger(α) - γ*Dagger(δ) - δ*Dagger(γ) - I*(I*α*Dagger(β) - I*β*Dagger(α) - I*γ*Dagger(δ) + I*δ*Dagger(γ)))**2, (2*α*Dagger(δ) + 2*δ*Dagger(α) - I*(I*α*Dagger(δ) - I*β*Dagger(γ) + I*γ*Dagger(β) - I*δ*Dagger(α)) - I*(I*α*Dagger(δ) + I*β*Dagger(γ) - I*γ*Dagger(β) - I*δ*Dagger(α)))*(2*β*Dagger(γ) + 2*γ*Dagger(β) + I*(I*α*Dagger(δ) - I*β*Dagger(γ) + I*γ*Dagger(β) - I*δ*Dagger(α)) - I*(I*α*Dagger(δ) + I*β*Dagger(γ) - I*γ*Dagger(β) - I*δ*Dagger(α))) + (2*α*Dagger(δ) + 2*δ*Dagger(α) + I*(I*α*Dagger(δ) - I*β*Dagger(γ) + I*γ*Dagger(β) - I*δ*Dagger(α)) + I*(I*α*Dagger(δ) + I*β*Dagger(γ) - I*γ*Dagger(β) - I*δ*Dagger(α)))*(2*β*Dagger(γ) + 2*γ*Dagger(β) - I*(I*α*Dagger(δ) - I*β*Dagger(γ) + I*γ*Dagger(β) - I*δ*Dagger(α)) + I*(I*α*Dagger(δ) + I*β*Dagger(γ) - I*γ*Dagger(β) - I*δ*Dagger(α))) + (sx - I*sy - α*Dagger(β) - β*Dagger(α) + γ*Dagger(δ) + δ*Dagger(γ) + I*(I*α*Dagger(β) - I*β*Dagger(α) - I*γ*Dagger(δ) + I*δ*Dagger(γ)))*(sx + I*sy - α*Dagger(β) - β*Dagger(α) + γ*Dagger(δ) + δ*Dagger(γ) - I*(I*α*Dagger(β) - I*β*Dagger(α) - I*γ*Dagger(δ) + I*δ*Dagger(γ))) + (sx - I*sy + α*Dagger(β) + β*Dagger(α) - γ*Dagger(δ) - δ*Dagger(γ) - I*(I*α*Dagger(β) - I*β*Dagger(α) - I*γ*Dagger(δ) + I*δ*Dagger(γ)))*(sx + I*sy + α*Dagger(β) + β*Dagger(α) - γ*Dagger(δ) - δ*Dagger(γ) + I*(I*α*Dagger(β) - I*β*Dagger(α) - I*γ*Dagger(δ) + I*δ*Dagger(γ))), (2*α*Dagger(δ) + 2*δ*Dagger(α) - I*(I*α*Dagger(δ) - I*β*Dagger(γ) + I*γ*Dagger(β) - I*δ*Dagger(α)) - I*(I*α*Dagger(δ) + I*β*Dagger(γ) - I*γ*Dagger(β) - I*δ*Dagger(α)))*(rx - I*ry - α*Dagger(γ) + β*Dagger(δ) - γ*Dagger(α) + δ*Dagger(β) + I*(I*α*Dagger(γ) - I*β*Dagger(δ) - I*γ*Dagger(α) + I*δ*Dagger(β))) + (2*β*Dagger(γ) + 2*γ*Dagger(β) - I*(I*α*Dagger(δ) - I*β*Dagger(γ) + I*γ*Dagger(β) - I*δ*Dagger(α)) + I*(I*α*Dagger(δ) + I*β*Dagger(γ) - I*γ*Dagger(β) - I*δ*Dagger(α)))*(rx + I*ry - α*Dagger(γ) + β*Dagger(δ) - γ*Dagger(α) + δ*Dagger(β) - I*(I*α*Dagger(γ) - I*β*Dagger(δ) - I*γ*Dagger(α) + I*δ*Dagger(β))) + (-rz - sz + α*Dagger(α) - β*Dagger(β) - γ*Dagger(γ) + δ*Dagger(δ) + 1)*(sx - I*sy - α*Dagger(β) - β*Dagger(α) + γ*Dagger(δ) + δ*Dagger(γ) + I*(I*α*Dagger(β) - I*β*Dagger(α) - I*γ*Dagger(δ) + I*δ*Dagger(γ))) + (rz - sz - α*Dagger(α) + β*Dagger(β) + γ*Dagger(γ) - δ*Dagger(δ) + 1)*(sx - I*sy + α*Dagger(β) + β*Dagger(α) - γ*Dagger(δ) - δ*Dagger(γ) - I*(I*α*Dagger(β) - I*β*Dagger(α) - I*γ*Dagger(δ) + I*δ*Dagger(γ)))],\n",
       "[(2*α*Dagger(δ) + 2*δ*Dagger(α) + I*(I*α*Dagger(δ) - I*β*Dagger(γ) + I*γ*Dagger(β) - I*δ*Dagger(α)) + I*(I*α*Dagger(δ) + I*β*Dagger(γ) - I*γ*Dagger(β) - I*δ*Dagger(α)))*(rx + I*ry + α*Dagger(γ) - β*Dagger(δ) + γ*Dagger(α) - δ*Dagger(β) + I*(I*α*Dagger(γ) - I*β*Dagger(δ) - I*γ*Dagger(α) + I*δ*Dagger(β))) + (2*β*Dagger(γ) + 2*γ*Dagger(β) + I*(I*α*Dagger(δ) - I*β*Dagger(γ) + I*γ*Dagger(β) - I*δ*Dagger(α)) - I*(I*α*Dagger(δ) + I*β*Dagger(γ) - I*γ*Dagger(β) - I*δ*Dagger(α)))*(rx - I*ry + α*Dagger(γ) - β*Dagger(δ) + γ*Dagger(α) - δ*Dagger(β) - I*(I*α*Dagger(γ) - I*β*Dagger(δ) - I*γ*Dagger(α) + I*δ*Dagger(β))) + (-rz + sz - α*Dagger(α) + β*Dagger(β) + γ*Dagger(γ) - δ*Dagger(δ) + 1)*(sx + I*sy - α*Dagger(β) - β*Dagger(α) + γ*Dagger(δ) + δ*Dagger(γ) - I*(I*α*Dagger(β) - I*β*Dagger(α) - I*γ*Dagger(δ) + I*δ*Dagger(γ))) + (rz + sz + α*Dagger(α) - β*Dagger(β) - γ*Dagger(γ) + δ*Dagger(δ) + 1)*(sx + I*sy + α*Dagger(β) + β*Dagger(α) - γ*Dagger(δ) - δ*Dagger(γ) + I*(I*α*Dagger(β) - I*β*Dagger(α) - I*γ*Dagger(δ) + I*δ*Dagger(γ))), (2*α*Dagger(δ) + 2*δ*Dagger(α) - I*(I*α*Dagger(δ) - I*β*Dagger(γ) + I*γ*Dagger(β) - I*δ*Dagger(α)) - I*(I*α*Dagger(δ) + I*β*Dagger(γ) - I*γ*Dagger(β) - I*δ*Dagger(α)))*(2*β*Dagger(γ) + 2*γ*Dagger(β) + I*(I*α*Dagger(δ) - I*β*Dagger(γ) + I*γ*Dagger(β) - I*δ*Dagger(α)) - I*(I*α*Dagger(δ) + I*β*Dagger(γ) - I*γ*Dagger(β) - I*δ*Dagger(α))) + (2*α*Dagger(δ) + 2*δ*Dagger(α) + I*(I*α*Dagger(δ) - I*β*Dagger(γ) + I*γ*Dagger(β) - I*δ*Dagger(α)) + I*(I*α*Dagger(δ) + I*β*Dagger(γ) - I*γ*Dagger(β) - I*δ*Dagger(α)))*(2*β*Dagger(γ) + 2*γ*Dagger(β) - I*(I*α*Dagger(δ) - I*β*Dagger(γ) + I*γ*Dagger(β) - I*δ*Dagger(α)) + I*(I*α*Dagger(δ) + I*β*Dagger(γ) - I*γ*Dagger(β) - I*δ*Dagger(α))) + (sx - I*sy - α*Dagger(β) - β*Dagger(α) + γ*Dagger(δ) + δ*Dagger(γ) + I*(I*α*Dagger(β) - I*β*Dagger(α) - I*γ*Dagger(δ) + I*δ*Dagger(γ)))*(sx + I*sy - α*Dagger(β) - β*Dagger(α) + γ*Dagger(δ) + δ*Dagger(γ) - I*(I*α*Dagger(β) - I*β*Dagger(α) - I*γ*Dagger(δ) + I*δ*Dagger(γ))) + (sx - I*sy + α*Dagger(β) + β*Dagger(α) - γ*Dagger(δ) - δ*Dagger(γ) - I*(I*α*Dagger(β) - I*β*Dagger(α) - I*γ*Dagger(δ) + I*δ*Dagger(γ)))*(sx + I*sy + α*Dagger(β) + β*Dagger(α) - γ*Dagger(δ) - δ*Dagger(γ) + I*(I*α*Dagger(β) - I*β*Dagger(α) - I*γ*Dagger(δ) + I*δ*Dagger(γ))),                                                                                                                                                                                                                                                                                                                                                                                                                                                                                                                                                                                                                     (2*α*Dagger(δ) + 2*δ*Dagger(α) + I*(I*α*Dagger(δ) - I*β*Dagger(γ) + I*γ*Dagger(β) - I*δ*Dagger(α)) + I*(I*α*Dagger(δ) + I*β*Dagger(γ) - I*γ*Dagger(β) - I*δ*Dagger(α)))**2 + (2*β*Dagger(γ) + 2*γ*Dagger(β) + I*(I*α*Dagger(δ) - I*β*Dagger(γ) + I*γ*Dagger(β) - I*δ*Dagger(α)) - I*(I*α*Dagger(δ) + I*β*Dagger(γ) - I*γ*Dagger(β) - I*δ*Dagger(α)))**2 + (sx + I*sy - α*Dagger(β) - β*Dagger(α) + γ*Dagger(δ) + δ*Dagger(γ) - I*(I*α*Dagger(β) - I*β*Dagger(α) - I*γ*Dagger(δ) + I*δ*Dagger(γ)))**2 + (sx + I*sy + α*Dagger(β) + β*Dagger(α) - γ*Dagger(δ) - δ*Dagger(γ) + I*(I*α*Dagger(β) - I*β*Dagger(α) - I*γ*Dagger(δ) + I*δ*Dagger(γ)))**2, (2*α*Dagger(δ) + 2*δ*Dagger(α) + I*(I*α*Dagger(δ) - I*β*Dagger(γ) + I*γ*Dagger(β) - I*δ*Dagger(α)) + I*(I*α*Dagger(δ) + I*β*Dagger(γ) - I*γ*Dagger(β) - I*δ*Dagger(α)))*(rx + I*ry - α*Dagger(γ) + β*Dagger(δ) - γ*Dagger(α) + δ*Dagger(β) - I*(I*α*Dagger(γ) - I*β*Dagger(δ) - I*γ*Dagger(α) + I*δ*Dagger(β))) + (2*β*Dagger(γ) + 2*γ*Dagger(β) + I*(I*α*Dagger(δ) - I*β*Dagger(γ) + I*γ*Dagger(β) - I*δ*Dagger(α)) - I*(I*α*Dagger(δ) + I*β*Dagger(γ) - I*γ*Dagger(β) - I*δ*Dagger(α)))*(rx - I*ry - α*Dagger(γ) + β*Dagger(δ) - γ*Dagger(α) + δ*Dagger(β) + I*(I*α*Dagger(γ) - I*β*Dagger(δ) - I*γ*Dagger(α) + I*δ*Dagger(β))) + (-rz - sz + α*Dagger(α) - β*Dagger(β) - γ*Dagger(γ) + δ*Dagger(δ) + 1)*(sx + I*sy - α*Dagger(β) - β*Dagger(α) + γ*Dagger(δ) + δ*Dagger(γ) - I*(I*α*Dagger(β) - I*β*Dagger(α) - I*γ*Dagger(δ) + I*δ*Dagger(γ))) + (rz - sz - α*Dagger(α) + β*Dagger(β) + γ*Dagger(γ) - δ*Dagger(δ) + 1)*(sx + I*sy + α*Dagger(β) + β*Dagger(α) - γ*Dagger(δ) - δ*Dagger(γ) + I*(I*α*Dagger(β) - I*β*Dagger(α) - I*γ*Dagger(δ) + I*δ*Dagger(γ)))],\n",
       "[                                                                                                                                                                                                   (rx - I*ry - α*Dagger(γ) + β*Dagger(δ) - γ*Dagger(α) + δ*Dagger(β) + I*(I*α*Dagger(γ) - I*β*Dagger(δ) - I*γ*Dagger(α) + I*δ*Dagger(β)))*(rx - I*ry + α*Dagger(γ) - β*Dagger(δ) + γ*Dagger(α) - δ*Dagger(β) - I*(I*α*Dagger(γ) - I*β*Dagger(δ) - I*γ*Dagger(α) + I*δ*Dagger(β))) + (rx + I*ry - α*Dagger(γ) + β*Dagger(δ) - γ*Dagger(α) + δ*Dagger(β) - I*(I*α*Dagger(γ) - I*β*Dagger(δ) - I*γ*Dagger(α) + I*δ*Dagger(β)))*(rx + I*ry + α*Dagger(γ) - β*Dagger(δ) + γ*Dagger(α) - δ*Dagger(β) + I*(I*α*Dagger(γ) - I*β*Dagger(δ) - I*γ*Dagger(α) + I*δ*Dagger(β))) + (-rz - sz + α*Dagger(α) - β*Dagger(β) - γ*Dagger(γ) + δ*Dagger(δ) + 1)*(-rz + sz - α*Dagger(α) + β*Dagger(β) + γ*Dagger(γ) - δ*Dagger(δ) + 1) + (rz - sz - α*Dagger(α) + β*Dagger(β) + γ*Dagger(γ) - δ*Dagger(δ) + 1)*(rz + sz + α*Dagger(α) - β*Dagger(β) - γ*Dagger(γ) + δ*Dagger(δ) + 1),                                                                                                                                                                                                    (2*α*Dagger(δ) + 2*δ*Dagger(α) - I*(I*α*Dagger(δ) - I*β*Dagger(γ) + I*γ*Dagger(β) - I*δ*Dagger(α)) - I*(I*α*Dagger(δ) + I*β*Dagger(γ) - I*γ*Dagger(β) - I*δ*Dagger(α)))*(rx - I*ry - α*Dagger(γ) + β*Dagger(δ) - γ*Dagger(α) + δ*Dagger(β) + I*(I*α*Dagger(γ) - I*β*Dagger(δ) - I*γ*Dagger(α) + I*δ*Dagger(β))) + (2*β*Dagger(γ) + 2*γ*Dagger(β) - I*(I*α*Dagger(δ) - I*β*Dagger(γ) + I*γ*Dagger(β) - I*δ*Dagger(α)) + I*(I*α*Dagger(δ) + I*β*Dagger(γ) - I*γ*Dagger(β) - I*δ*Dagger(α)))*(rx + I*ry - α*Dagger(γ) + β*Dagger(δ) - γ*Dagger(α) + δ*Dagger(β) - I*(I*α*Dagger(γ) - I*β*Dagger(δ) - I*γ*Dagger(α) + I*δ*Dagger(β))) + (-rz - sz + α*Dagger(α) - β*Dagger(β) - γ*Dagger(γ) + δ*Dagger(δ) + 1)*(sx - I*sy - α*Dagger(β) - β*Dagger(α) + γ*Dagger(δ) + δ*Dagger(γ) + I*(I*α*Dagger(β) - I*β*Dagger(α) - I*γ*Dagger(δ) + I*δ*Dagger(γ))) + (rz - sz - α*Dagger(α) + β*Dagger(β) + γ*Dagger(γ) - δ*Dagger(δ) + 1)*(sx - I*sy + α*Dagger(β) + β*Dagger(α) - γ*Dagger(δ) - δ*Dagger(γ) - I*(I*α*Dagger(β) - I*β*Dagger(α) - I*γ*Dagger(δ) + I*δ*Dagger(γ))),                                                                                                                                                                                                    (2*α*Dagger(δ) + 2*δ*Dagger(α) + I*(I*α*Dagger(δ) - I*β*Dagger(γ) + I*γ*Dagger(β) - I*δ*Dagger(α)) + I*(I*α*Dagger(δ) + I*β*Dagger(γ) - I*γ*Dagger(β) - I*δ*Dagger(α)))*(rx + I*ry - α*Dagger(γ) + β*Dagger(δ) - γ*Dagger(α) + δ*Dagger(β) - I*(I*α*Dagger(γ) - I*β*Dagger(δ) - I*γ*Dagger(α) + I*δ*Dagger(β))) + (2*β*Dagger(γ) + 2*γ*Dagger(β) + I*(I*α*Dagger(δ) - I*β*Dagger(γ) + I*γ*Dagger(β) - I*δ*Dagger(α)) - I*(I*α*Dagger(δ) + I*β*Dagger(γ) - I*γ*Dagger(β) - I*δ*Dagger(α)))*(rx - I*ry - α*Dagger(γ) + β*Dagger(δ) - γ*Dagger(α) + δ*Dagger(β) + I*(I*α*Dagger(γ) - I*β*Dagger(δ) - I*γ*Dagger(α) + I*δ*Dagger(β))) + (-rz - sz + α*Dagger(α) - β*Dagger(β) - γ*Dagger(γ) + δ*Dagger(δ) + 1)*(sx + I*sy - α*Dagger(β) - β*Dagger(α) + γ*Dagger(δ) + δ*Dagger(γ) - I*(I*α*Dagger(β) - I*β*Dagger(α) - I*γ*Dagger(δ) + I*δ*Dagger(γ))) + (rz - sz - α*Dagger(α) + β*Dagger(β) + γ*Dagger(γ) - δ*Dagger(δ) + 1)*(sx + I*sy + α*Dagger(β) + β*Dagger(α) - γ*Dagger(δ) - δ*Dagger(γ) + I*(I*α*Dagger(β) - I*β*Dagger(α) - I*γ*Dagger(δ) + I*δ*Dagger(γ))),                                                                                                                                                                                                                                                                                                                                                                                                                                                                                                                                                                                                                     (rx - I*ry - α*Dagger(γ) + β*Dagger(δ) - γ*Dagger(α) + δ*Dagger(β) + I*(I*α*Dagger(γ) - I*β*Dagger(δ) - I*γ*Dagger(α) + I*δ*Dagger(β)))**2 + (rx + I*ry - α*Dagger(γ) + β*Dagger(δ) - γ*Dagger(α) + δ*Dagger(β) - I*(I*α*Dagger(γ) - I*β*Dagger(δ) - I*γ*Dagger(α) + I*δ*Dagger(β)))**2 + (-rz - sz + α*Dagger(α) - β*Dagger(β) - γ*Dagger(γ) + δ*Dagger(δ) + 1)**2 + (rz - sz - α*Dagger(α) + β*Dagger(β) + γ*Dagger(γ) - δ*Dagger(δ) + 1)**2]])"
      ]
     },
     "execution_count": 52,
     "metadata": {},
     "output_type": "execute_result"
    }
   ],
   "source": [
    "rho_tensor = sp.MutableDenseNDimArray(rho_bell_basis, (dA, dB, dA, dB))\n",
    "rho_realigned_tensor = permute_dims(rho_tensor, (0, 2, 1, 3))\n",
    "realigned = sp.Matrix(rho_realigned_tensor.reshape(dA*dA, dB*dB))\n",
    "rhotilde_t_rhotilde= realigned.T * realigned\n",
    "rhotilde_t_rhotilde"
   ]
  },
  {
   "cell_type": "code",
   "execution_count": 53,
   "id": "7af7b067-e533-4302-8cd0-f0fd9344b4bc",
   "metadata": {},
   "outputs": [
    {
     "name": "stdout",
     "output_type": "stream",
     "text": [
      "Matrix([[(rx - I*ry + α*Dagger(γ) - β*Dagger(δ) + γ*Dagger(α) - δ*Dagger(β) - I*(I*α*Dagger(γ) - I*β*Dagger(δ) - I*γ*Dagger(α) + I*δ*Dagger(β)))**2 + (rx + I*ry + α*Dagger(γ) - β*Dagger(δ) + γ*Dagger(α) - δ*Dagger(β) + I*(I*α*Dagger(γ) - I*β*Dagger(δ) - I*γ*Dagger(α) + I*δ*Dagger(β)))**2 + (-rz + sz - α*Dagger(α) + β*Dagger(β) + γ*Dagger(γ) - δ*Dagger(δ) + 1)**2 + (rz + sz + α*Dagger(α) - β*Dagger(β) - γ*Dagger(γ) + δ*Dagger(δ) + 1)**2, (2*α*Dagger(δ) + 2*δ*Dagger(α) - I*(I*α*Dagger(δ) - I*β*Dagger(γ) + I*γ*Dagger(β) - I*δ*Dagger(α)) - I*(I*α*Dagger(δ) + I*β*Dagger(γ) - I*γ*Dagger(β) - I*δ*Dagger(α)))*(rx - I*ry + α*Dagger(γ) - β*Dagger(δ) + γ*Dagger(α) - δ*Dagger(β) - I*(I*α*Dagger(γ) - I*β*Dagger(δ) - I*γ*Dagger(α) + I*δ*Dagger(β))) + (2*β*Dagger(γ) + 2*γ*Dagger(β) - I*(I*α*Dagger(δ) - I*β*Dagger(γ) + I*γ*Dagger(β) - I*δ*Dagger(α)) + I*(I*α*Dagger(δ) + I*β*Dagger(γ) - I*γ*Dagger(β) - I*δ*Dagger(α)))*(rx + I*ry + α*Dagger(γ) - β*Dagger(δ) + γ*Dagger(α) - δ*Dagger(β) + I*(I*α*Dagger(γ) - I*β*Dagger(δ) - I*γ*Dagger(α) + I*δ*Dagger(β))) + (-rz + sz - α*Dagger(α) + β*Dagger(β) + γ*Dagger(γ) - δ*Dagger(δ) + 1)*(sx - I*sy - α*Dagger(β) - β*Dagger(α) + γ*Dagger(δ) + δ*Dagger(γ) + I*(I*α*Dagger(β) - I*β*Dagger(α) - I*γ*Dagger(δ) + I*δ*Dagger(γ))) + (rz + sz + α*Dagger(α) - β*Dagger(β) - γ*Dagger(γ) + δ*Dagger(δ) + 1)*(sx - I*sy + α*Dagger(β) + β*Dagger(α) - γ*Dagger(δ) - δ*Dagger(γ) - I*(I*α*Dagger(β) - I*β*Dagger(α) - I*γ*Dagger(δ) + I*δ*Dagger(γ))), (2*α*Dagger(δ) + 2*δ*Dagger(α) + I*(I*α*Dagger(δ) - I*β*Dagger(γ) + I*γ*Dagger(β) - I*δ*Dagger(α)) + I*(I*α*Dagger(δ) + I*β*Dagger(γ) - I*γ*Dagger(β) - I*δ*Dagger(α)))*(rx + I*ry + α*Dagger(γ) - β*Dagger(δ) + γ*Dagger(α) - δ*Dagger(β) + I*(I*α*Dagger(γ) - I*β*Dagger(δ) - I*γ*Dagger(α) + I*δ*Dagger(β))) + (2*β*Dagger(γ) + 2*γ*Dagger(β) + I*(I*α*Dagger(δ) - I*β*Dagger(γ) + I*γ*Dagger(β) - I*δ*Dagger(α)) - I*(I*α*Dagger(δ) + I*β*Dagger(γ) - I*γ*Dagger(β) - I*δ*Dagger(α)))*(rx - I*ry + α*Dagger(γ) - β*Dagger(δ) + γ*Dagger(α) - δ*Dagger(β) - I*(I*α*Dagger(γ) - I*β*Dagger(δ) - I*γ*Dagger(α) + I*δ*Dagger(β))) + (-rz + sz - α*Dagger(α) + β*Dagger(β) + γ*Dagger(γ) - δ*Dagger(δ) + 1)*(sx + I*sy - α*Dagger(β) - β*Dagger(α) + γ*Dagger(δ) + δ*Dagger(γ) - I*(I*α*Dagger(β) - I*β*Dagger(α) - I*γ*Dagger(δ) + I*δ*Dagger(γ))) + (rz + sz + α*Dagger(α) - β*Dagger(β) - γ*Dagger(γ) + δ*Dagger(δ) + 1)*(sx + I*sy + α*Dagger(β) + β*Dagger(α) - γ*Dagger(δ) - δ*Dagger(γ) + I*(I*α*Dagger(β) - I*β*Dagger(α) - I*γ*Dagger(δ) + I*δ*Dagger(γ))), (rx - I*ry - α*Dagger(γ) + β*Dagger(δ) - γ*Dagger(α) + δ*Dagger(β) + I*(I*α*Dagger(γ) - I*β*Dagger(δ) - I*γ*Dagger(α) + I*δ*Dagger(β)))*(rx - I*ry + α*Dagger(γ) - β*Dagger(δ) + γ*Dagger(α) - δ*Dagger(β) - I*(I*α*Dagger(γ) - I*β*Dagger(δ) - I*γ*Dagger(α) + I*δ*Dagger(β))) + (rx + I*ry - α*Dagger(γ) + β*Dagger(δ) - γ*Dagger(α) + δ*Dagger(β) - I*(I*α*Dagger(γ) - I*β*Dagger(δ) - I*γ*Dagger(α) + I*δ*Dagger(β)))*(rx + I*ry + α*Dagger(γ) - β*Dagger(δ) + γ*Dagger(α) - δ*Dagger(β) + I*(I*α*Dagger(γ) - I*β*Dagger(δ) - I*γ*Dagger(α) + I*δ*Dagger(β))) + (-rz - sz + α*Dagger(α) - β*Dagger(β) - γ*Dagger(γ) + δ*Dagger(δ) + 1)*(-rz + sz - α*Dagger(α) + β*Dagger(β) + γ*Dagger(γ) - δ*Dagger(δ) + 1) + (rz - sz - α*Dagger(α) + β*Dagger(β) + γ*Dagger(γ) - δ*Dagger(δ) + 1)*(rz + sz + α*Dagger(α) - β*Dagger(β) - γ*Dagger(γ) + δ*Dagger(δ) + 1)], [(2*α*Dagger(δ) + 2*δ*Dagger(α) - I*(I*α*Dagger(δ) - I*β*Dagger(γ) + I*γ*Dagger(β) - I*δ*Dagger(α)) - I*(I*α*Dagger(δ) + I*β*Dagger(γ) - I*γ*Dagger(β) - I*δ*Dagger(α)))*(rx - I*ry + α*Dagger(γ) - β*Dagger(δ) + γ*Dagger(α) - δ*Dagger(β) - I*(I*α*Dagger(γ) - I*β*Dagger(δ) - I*γ*Dagger(α) + I*δ*Dagger(β))) + (2*β*Dagger(γ) + 2*γ*Dagger(β) - I*(I*α*Dagger(δ) - I*β*Dagger(γ) + I*γ*Dagger(β) - I*δ*Dagger(α)) + I*(I*α*Dagger(δ) + I*β*Dagger(γ) - I*γ*Dagger(β) - I*δ*Dagger(α)))*(rx + I*ry + α*Dagger(γ) - β*Dagger(δ) + γ*Dagger(α) - δ*Dagger(β) + I*(I*α*Dagger(γ) - I*β*Dagger(δ) - I*γ*Dagger(α) + I*δ*Dagger(β))) + (-rz + sz - α*Dagger(α) + β*Dagger(β) + γ*Dagger(γ) - δ*Dagger(δ) + 1)*(sx - I*sy - α*Dagger(β) - β*Dagger(α) + γ*Dagger(δ) + δ*Dagger(γ) + I*(I*α*Dagger(β) - I*β*Dagger(α) - I*γ*Dagger(δ) + I*δ*Dagger(γ))) + (rz + sz + α*Dagger(α) - β*Dagger(β) - γ*Dagger(γ) + δ*Dagger(δ) + 1)*(sx - I*sy + α*Dagger(β) + β*Dagger(α) - γ*Dagger(δ) - δ*Dagger(γ) - I*(I*α*Dagger(β) - I*β*Dagger(α) - I*γ*Dagger(δ) + I*δ*Dagger(γ))), (2*α*Dagger(δ) + 2*δ*Dagger(α) - I*(I*α*Dagger(δ) - I*β*Dagger(γ) + I*γ*Dagger(β) - I*δ*Dagger(α)) - I*(I*α*Dagger(δ) + I*β*Dagger(γ) - I*γ*Dagger(β) - I*δ*Dagger(α)))**2 + (2*β*Dagger(γ) + 2*γ*Dagger(β) - I*(I*α*Dagger(δ) - I*β*Dagger(γ) + I*γ*Dagger(β) - I*δ*Dagger(α)) + I*(I*α*Dagger(δ) + I*β*Dagger(γ) - I*γ*Dagger(β) - I*δ*Dagger(α)))**2 + (sx - I*sy - α*Dagger(β) - β*Dagger(α) + γ*Dagger(δ) + δ*Dagger(γ) + I*(I*α*Dagger(β) - I*β*Dagger(α) - I*γ*Dagger(δ) + I*δ*Dagger(γ)))**2 + (sx - I*sy + α*Dagger(β) + β*Dagger(α) - γ*Dagger(δ) - δ*Dagger(γ) - I*(I*α*Dagger(β) - I*β*Dagger(α) - I*γ*Dagger(δ) + I*δ*Dagger(γ)))**2, (2*α*Dagger(δ) + 2*δ*Dagger(α) - I*(I*α*Dagger(δ) - I*β*Dagger(γ) + I*γ*Dagger(β) - I*δ*Dagger(α)) - I*(I*α*Dagger(δ) + I*β*Dagger(γ) - I*γ*Dagger(β) - I*δ*Dagger(α)))*(2*β*Dagger(γ) + 2*γ*Dagger(β) + I*(I*α*Dagger(δ) - I*β*Dagger(γ) + I*γ*Dagger(β) - I*δ*Dagger(α)) - I*(I*α*Dagger(δ) + I*β*Dagger(γ) - I*γ*Dagger(β) - I*δ*Dagger(α))) + (2*α*Dagger(δ) + 2*δ*Dagger(α) + I*(I*α*Dagger(δ) - I*β*Dagger(γ) + I*γ*Dagger(β) - I*δ*Dagger(α)) + I*(I*α*Dagger(δ) + I*β*Dagger(γ) - I*γ*Dagger(β) - I*δ*Dagger(α)))*(2*β*Dagger(γ) + 2*γ*Dagger(β) - I*(I*α*Dagger(δ) - I*β*Dagger(γ) + I*γ*Dagger(β) - I*δ*Dagger(α)) + I*(I*α*Dagger(δ) + I*β*Dagger(γ) - I*γ*Dagger(β) - I*δ*Dagger(α))) + (sx - I*sy - α*Dagger(β) - β*Dagger(α) + γ*Dagger(δ) + δ*Dagger(γ) + I*(I*α*Dagger(β) - I*β*Dagger(α) - I*γ*Dagger(δ) + I*δ*Dagger(γ)))*(sx + I*sy - α*Dagger(β) - β*Dagger(α) + γ*Dagger(δ) + δ*Dagger(γ) - I*(I*α*Dagger(β) - I*β*Dagger(α) - I*γ*Dagger(δ) + I*δ*Dagger(γ))) + (sx - I*sy + α*Dagger(β) + β*Dagger(α) - γ*Dagger(δ) - δ*Dagger(γ) - I*(I*α*Dagger(β) - I*β*Dagger(α) - I*γ*Dagger(δ) + I*δ*Dagger(γ)))*(sx + I*sy + α*Dagger(β) + β*Dagger(α) - γ*Dagger(δ) - δ*Dagger(γ) + I*(I*α*Dagger(β) - I*β*Dagger(α) - I*γ*Dagger(δ) + I*δ*Dagger(γ))), (2*α*Dagger(δ) + 2*δ*Dagger(α) - I*(I*α*Dagger(δ) - I*β*Dagger(γ) + I*γ*Dagger(β) - I*δ*Dagger(α)) - I*(I*α*Dagger(δ) + I*β*Dagger(γ) - I*γ*Dagger(β) - I*δ*Dagger(α)))*(rx - I*ry - α*Dagger(γ) + β*Dagger(δ) - γ*Dagger(α) + δ*Dagger(β) + I*(I*α*Dagger(γ) - I*β*Dagger(δ) - I*γ*Dagger(α) + I*δ*Dagger(β))) + (2*β*Dagger(γ) + 2*γ*Dagger(β) - I*(I*α*Dagger(δ) - I*β*Dagger(γ) + I*γ*Dagger(β) - I*δ*Dagger(α)) + I*(I*α*Dagger(δ) + I*β*Dagger(γ) - I*γ*Dagger(β) - I*δ*Dagger(α)))*(rx + I*ry - α*Dagger(γ) + β*Dagger(δ) - γ*Dagger(α) + δ*Dagger(β) - I*(I*α*Dagger(γ) - I*β*Dagger(δ) - I*γ*Dagger(α) + I*δ*Dagger(β))) + (-rz - sz + α*Dagger(α) - β*Dagger(β) - γ*Dagger(γ) + δ*Dagger(δ) + 1)*(sx - I*sy - α*Dagger(β) - β*Dagger(α) + γ*Dagger(δ) + δ*Dagger(γ) + I*(I*α*Dagger(β) - I*β*Dagger(α) - I*γ*Dagger(δ) + I*δ*Dagger(γ))) + (rz - sz - α*Dagger(α) + β*Dagger(β) + γ*Dagger(γ) - δ*Dagger(δ) + 1)*(sx - I*sy + α*Dagger(β) + β*Dagger(α) - γ*Dagger(δ) - δ*Dagger(γ) - I*(I*α*Dagger(β) - I*β*Dagger(α) - I*γ*Dagger(δ) + I*δ*Dagger(γ)))], [(2*α*Dagger(δ) + 2*δ*Dagger(α) + I*(I*α*Dagger(δ) - I*β*Dagger(γ) + I*γ*Dagger(β) - I*δ*Dagger(α)) + I*(I*α*Dagger(δ) + I*β*Dagger(γ) - I*γ*Dagger(β) - I*δ*Dagger(α)))*(rx + I*ry + α*Dagger(γ) - β*Dagger(δ) + γ*Dagger(α) - δ*Dagger(β) + I*(I*α*Dagger(γ) - I*β*Dagger(δ) - I*γ*Dagger(α) + I*δ*Dagger(β))) + (2*β*Dagger(γ) + 2*γ*Dagger(β) + I*(I*α*Dagger(δ) - I*β*Dagger(γ) + I*γ*Dagger(β) - I*δ*Dagger(α)) - I*(I*α*Dagger(δ) + I*β*Dagger(γ) - I*γ*Dagger(β) - I*δ*Dagger(α)))*(rx - I*ry + α*Dagger(γ) - β*Dagger(δ) + γ*Dagger(α) - δ*Dagger(β) - I*(I*α*Dagger(γ) - I*β*Dagger(δ) - I*γ*Dagger(α) + I*δ*Dagger(β))) + (-rz + sz - α*Dagger(α) + β*Dagger(β) + γ*Dagger(γ) - δ*Dagger(δ) + 1)*(sx + I*sy - α*Dagger(β) - β*Dagger(α) + γ*Dagger(δ) + δ*Dagger(γ) - I*(I*α*Dagger(β) - I*β*Dagger(α) - I*γ*Dagger(δ) + I*δ*Dagger(γ))) + (rz + sz + α*Dagger(α) - β*Dagger(β) - γ*Dagger(γ) + δ*Dagger(δ) + 1)*(sx + I*sy + α*Dagger(β) + β*Dagger(α) - γ*Dagger(δ) - δ*Dagger(γ) + I*(I*α*Dagger(β) - I*β*Dagger(α) - I*γ*Dagger(δ) + I*δ*Dagger(γ))), (2*α*Dagger(δ) + 2*δ*Dagger(α) - I*(I*α*Dagger(δ) - I*β*Dagger(γ) + I*γ*Dagger(β) - I*δ*Dagger(α)) - I*(I*α*Dagger(δ) + I*β*Dagger(γ) - I*γ*Dagger(β) - I*δ*Dagger(α)))*(2*β*Dagger(γ) + 2*γ*Dagger(β) + I*(I*α*Dagger(δ) - I*β*Dagger(γ) + I*γ*Dagger(β) - I*δ*Dagger(α)) - I*(I*α*Dagger(δ) + I*β*Dagger(γ) - I*γ*Dagger(β) - I*δ*Dagger(α))) + (2*α*Dagger(δ) + 2*δ*Dagger(α) + I*(I*α*Dagger(δ) - I*β*Dagger(γ) + I*γ*Dagger(β) - I*δ*Dagger(α)) + I*(I*α*Dagger(δ) + I*β*Dagger(γ) - I*γ*Dagger(β) - I*δ*Dagger(α)))*(2*β*Dagger(γ) + 2*γ*Dagger(β) - I*(I*α*Dagger(δ) - I*β*Dagger(γ) + I*γ*Dagger(β) - I*δ*Dagger(α)) + I*(I*α*Dagger(δ) + I*β*Dagger(γ) - I*γ*Dagger(β) - I*δ*Dagger(α))) + (sx - I*sy - α*Dagger(β) - β*Dagger(α) + γ*Dagger(δ) + δ*Dagger(γ) + I*(I*α*Dagger(β) - I*β*Dagger(α) - I*γ*Dagger(δ) + I*δ*Dagger(γ)))*(sx + I*sy - α*Dagger(β) - β*Dagger(α) + γ*Dagger(δ) + δ*Dagger(γ) - I*(I*α*Dagger(β) - I*β*Dagger(α) - I*γ*Dagger(δ) + I*δ*Dagger(γ))) + (sx - I*sy + α*Dagger(β) + β*Dagger(α) - γ*Dagger(δ) - δ*Dagger(γ) - I*(I*α*Dagger(β) - I*β*Dagger(α) - I*γ*Dagger(δ) + I*δ*Dagger(γ)))*(sx + I*sy + α*Dagger(β) + β*Dagger(α) - γ*Dagger(δ) - δ*Dagger(γ) + I*(I*α*Dagger(β) - I*β*Dagger(α) - I*γ*Dagger(δ) + I*δ*Dagger(γ))), (2*α*Dagger(δ) + 2*δ*Dagger(α) + I*(I*α*Dagger(δ) - I*β*Dagger(γ) + I*γ*Dagger(β) - I*δ*Dagger(α)) + I*(I*α*Dagger(δ) + I*β*Dagger(γ) - I*γ*Dagger(β) - I*δ*Dagger(α)))**2 + (2*β*Dagger(γ) + 2*γ*Dagger(β) + I*(I*α*Dagger(δ) - I*β*Dagger(γ) + I*γ*Dagger(β) - I*δ*Dagger(α)) - I*(I*α*Dagger(δ) + I*β*Dagger(γ) - I*γ*Dagger(β) - I*δ*Dagger(α)))**2 + (sx + I*sy - α*Dagger(β) - β*Dagger(α) + γ*Dagger(δ) + δ*Dagger(γ) - I*(I*α*Dagger(β) - I*β*Dagger(α) - I*γ*Dagger(δ) + I*δ*Dagger(γ)))**2 + (sx + I*sy + α*Dagger(β) + β*Dagger(α) - γ*Dagger(δ) - δ*Dagger(γ) + I*(I*α*Dagger(β) - I*β*Dagger(α) - I*γ*Dagger(δ) + I*δ*Dagger(γ)))**2, (2*α*Dagger(δ) + 2*δ*Dagger(α) + I*(I*α*Dagger(δ) - I*β*Dagger(γ) + I*γ*Dagger(β) - I*δ*Dagger(α)) + I*(I*α*Dagger(δ) + I*β*Dagger(γ) - I*γ*Dagger(β) - I*δ*Dagger(α)))*(rx + I*ry - α*Dagger(γ) + β*Dagger(δ) - γ*Dagger(α) + δ*Dagger(β) - I*(I*α*Dagger(γ) - I*β*Dagger(δ) - I*γ*Dagger(α) + I*δ*Dagger(β))) + (2*β*Dagger(γ) + 2*γ*Dagger(β) + I*(I*α*Dagger(δ) - I*β*Dagger(γ) + I*γ*Dagger(β) - I*δ*Dagger(α)) - I*(I*α*Dagger(δ) + I*β*Dagger(γ) - I*γ*Dagger(β) - I*δ*Dagger(α)))*(rx - I*ry - α*Dagger(γ) + β*Dagger(δ) - γ*Dagger(α) + δ*Dagger(β) + I*(I*α*Dagger(γ) - I*β*Dagger(δ) - I*γ*Dagger(α) + I*δ*Dagger(β))) + (-rz - sz + α*Dagger(α) - β*Dagger(β) - γ*Dagger(γ) + δ*Dagger(δ) + 1)*(sx + I*sy - α*Dagger(β) - β*Dagger(α) + γ*Dagger(δ) + δ*Dagger(γ) - I*(I*α*Dagger(β) - I*β*Dagger(α) - I*γ*Dagger(δ) + I*δ*Dagger(γ))) + (rz - sz - α*Dagger(α) + β*Dagger(β) + γ*Dagger(γ) - δ*Dagger(δ) + 1)*(sx + I*sy + α*Dagger(β) + β*Dagger(α) - γ*Dagger(δ) - δ*Dagger(γ) + I*(I*α*Dagger(β) - I*β*Dagger(α) - I*γ*Dagger(δ) + I*δ*Dagger(γ)))], [(rx - I*ry - α*Dagger(γ) + β*Dagger(δ) - γ*Dagger(α) + δ*Dagger(β) + I*(I*α*Dagger(γ) - I*β*Dagger(δ) - I*γ*Dagger(α) + I*δ*Dagger(β)))*(rx - I*ry + α*Dagger(γ) - β*Dagger(δ) + γ*Dagger(α) - δ*Dagger(β) - I*(I*α*Dagger(γ) - I*β*Dagger(δ) - I*γ*Dagger(α) + I*δ*Dagger(β))) + (rx + I*ry - α*Dagger(γ) + β*Dagger(δ) - γ*Dagger(α) + δ*Dagger(β) - I*(I*α*Dagger(γ) - I*β*Dagger(δ) - I*γ*Dagger(α) + I*δ*Dagger(β)))*(rx + I*ry + α*Dagger(γ) - β*Dagger(δ) + γ*Dagger(α) - δ*Dagger(β) + I*(I*α*Dagger(γ) - I*β*Dagger(δ) - I*γ*Dagger(α) + I*δ*Dagger(β))) + (-rz - sz + α*Dagger(α) - β*Dagger(β) - γ*Dagger(γ) + δ*Dagger(δ) + 1)*(-rz + sz - α*Dagger(α) + β*Dagger(β) + γ*Dagger(γ) - δ*Dagger(δ) + 1) + (rz - sz - α*Dagger(α) + β*Dagger(β) + γ*Dagger(γ) - δ*Dagger(δ) + 1)*(rz + sz + α*Dagger(α) - β*Dagger(β) - γ*Dagger(γ) + δ*Dagger(δ) + 1), (2*α*Dagger(δ) + 2*δ*Dagger(α) - I*(I*α*Dagger(δ) - I*β*Dagger(γ) + I*γ*Dagger(β) - I*δ*Dagger(α)) - I*(I*α*Dagger(δ) + I*β*Dagger(γ) - I*γ*Dagger(β) - I*δ*Dagger(α)))*(rx - I*ry - α*Dagger(γ) + β*Dagger(δ) - γ*Dagger(α) + δ*Dagger(β) + I*(I*α*Dagger(γ) - I*β*Dagger(δ) - I*γ*Dagger(α) + I*δ*Dagger(β))) + (2*β*Dagger(γ) + 2*γ*Dagger(β) - I*(I*α*Dagger(δ) - I*β*Dagger(γ) + I*γ*Dagger(β) - I*δ*Dagger(α)) + I*(I*α*Dagger(δ) + I*β*Dagger(γ) - I*γ*Dagger(β) - I*δ*Dagger(α)))*(rx + I*ry - α*Dagger(γ) + β*Dagger(δ) - γ*Dagger(α) + δ*Dagger(β) - I*(I*α*Dagger(γ) - I*β*Dagger(δ) - I*γ*Dagger(α) + I*δ*Dagger(β))) + (-rz - sz + α*Dagger(α) - β*Dagger(β) - γ*Dagger(γ) + δ*Dagger(δ) + 1)*(sx - I*sy - α*Dagger(β) - β*Dagger(α) + γ*Dagger(δ) + δ*Dagger(γ) + I*(I*α*Dagger(β) - I*β*Dagger(α) - I*γ*Dagger(δ) + I*δ*Dagger(γ))) + (rz - sz - α*Dagger(α) + β*Dagger(β) + γ*Dagger(γ) - δ*Dagger(δ) + 1)*(sx - I*sy + α*Dagger(β) + β*Dagger(α) - γ*Dagger(δ) - δ*Dagger(γ) - I*(I*α*Dagger(β) - I*β*Dagger(α) - I*γ*Dagger(δ) + I*δ*Dagger(γ))), (2*α*Dagger(δ) + 2*δ*Dagger(α) + I*(I*α*Dagger(δ) - I*β*Dagger(γ) + I*γ*Dagger(β) - I*δ*Dagger(α)) + I*(I*α*Dagger(δ) + I*β*Dagger(γ) - I*γ*Dagger(β) - I*δ*Dagger(α)))*(rx + I*ry - α*Dagger(γ) + β*Dagger(δ) - γ*Dagger(α) + δ*Dagger(β) - I*(I*α*Dagger(γ) - I*β*Dagger(δ) - I*γ*Dagger(α) + I*δ*Dagger(β))) + (2*β*Dagger(γ) + 2*γ*Dagger(β) + I*(I*α*Dagger(δ) - I*β*Dagger(γ) + I*γ*Dagger(β) - I*δ*Dagger(α)) - I*(I*α*Dagger(δ) + I*β*Dagger(γ) - I*γ*Dagger(β) - I*δ*Dagger(α)))*(rx - I*ry - α*Dagger(γ) + β*Dagger(δ) - γ*Dagger(α) + δ*Dagger(β) + I*(I*α*Dagger(γ) - I*β*Dagger(δ) - I*γ*Dagger(α) + I*δ*Dagger(β))) + (-rz - sz + α*Dagger(α) - β*Dagger(β) - γ*Dagger(γ) + δ*Dagger(δ) + 1)*(sx + I*sy - α*Dagger(β) - β*Dagger(α) + γ*Dagger(δ) + δ*Dagger(γ) - I*(I*α*Dagger(β) - I*β*Dagger(α) - I*γ*Dagger(δ) + I*δ*Dagger(γ))) + (rz - sz - α*Dagger(α) + β*Dagger(β) + γ*Dagger(γ) - δ*Dagger(δ) + 1)*(sx + I*sy + α*Dagger(β) + β*Dagger(α) - γ*Dagger(δ) - δ*Dagger(γ) + I*(I*α*Dagger(β) - I*β*Dagger(α) - I*γ*Dagger(δ) + I*δ*Dagger(γ))), (rx - I*ry - α*Dagger(γ) + β*Dagger(δ) - γ*Dagger(α) + δ*Dagger(β) + I*(I*α*Dagger(γ) - I*β*Dagger(δ) - I*γ*Dagger(α) + I*δ*Dagger(β)))**2 + (rx + I*ry - α*Dagger(γ) + β*Dagger(δ) - γ*Dagger(α) + δ*Dagger(β) - I*(I*α*Dagger(γ) - I*β*Dagger(δ) - I*γ*Dagger(α) + I*δ*Dagger(β)))**2 + (-rz - sz + α*Dagger(α) - β*Dagger(β) - γ*Dagger(γ) + δ*Dagger(δ) + 1)**2 + (rz - sz - α*Dagger(α) + β*Dagger(β) + γ*Dagger(γ) - δ*Dagger(δ) + 1)**2]])\n"
     ]
    }
   ],
   "source": [
    "print(rhotilde_t_rhotilde)"
   ]
  },
  {
   "cell_type": "code",
   "execution_count": 54,
   "id": "11cde662-9e29-48ce-9a88-4af82ef12c68",
   "metadata": {},
   "outputs": [
    {
     "data": {
      "text/plain": [
       "(-0.278538751843119,\n",
       " 0.358829007632541,\n",
       " 0.281352347361526,\n",
       " -0.162147487180593,\n",
       " 0.609405998987736,\n",
       " -0.332135092376224,\n",
       " -0.245545312143585,\n",
       " -0.301879292702120,\n",
       " 0.0697023792399445,\n",
       " 0.224132852341119)"
      ]
     },
     "execution_count": 54,
     "metadata": {},
     "output_type": "execute_result"
    }
   ],
   "source": [
    "generate_1_normalized_real(10)"
   ]
  },
  {
   "cell_type": "code",
   "execution_count": 55,
   "id": "88197761-4f1c-445a-962e-bb5d82e956fb",
   "metadata": {},
   "outputs": [],
   "source": [
    "def generate_realignment_scores_bell_basis(rhotilde_t_rhotilde, rx, ry, rz, sx, sy, sz, no_of_random_samples= 20):\n",
    "    res= {}\n",
    "    for i in range(no_of_random_samples):\n",
    "        a, b, c, d, e, f, g, h, i, j = generate_1_normalized_real(10)\n",
    "        subbed_symm= simplify(rhotilde_t_rhotilde.subs({rx: a, ry: b, rz: c, sx: d, sy: e, sz: f, alpha: g, beta: h, gamma: i, delta: j}))\n",
    "        print(\"subbed symm: \", subbed_symm)\n",
    "        try:\n",
    "            eig_dict= subbed_symm.eigenvals()\n",
    "            res[str((a, b, c, d))]= sum(get_singular_values_from_eig_dict(eig_dict))\n",
    "        except e:\n",
    "            print(e)\n",
    "    return res"
   ]
  },
  {
   "cell_type": "code",
   "execution_count": 56,
   "id": "2e8efc2f-62f5-46c0-87a0-2a6b104a0872",
   "metadata": {},
   "outputs": [
    {
     "name": "stdout",
     "output_type": "stream",
     "text": [
      "subbed symm:  Matrix([[2.20619381715615, -0.28162095972033 - 0.32766659464971*I, -0.28162095972033 + 0.32766659464971*I, 1.20428374291458], [-0.28162095972033 - 0.32766659464971*I, 0.107484734942269 + 0.123059579825344*I, 0.164681223436363, -0.470465181641861 - 0.344680062797846*I], [-0.28162095972033 + 0.32766659464971*I, 0.164681223436363, 0.107484734942269 - 0.123059579825344*I, -0.470465181641861 + 0.344680062797846*I], [1.20428374291458, -0.470465181641861 - 0.344680062797846*I, -0.470465181641861 + 0.344680062797846*I, 1.39912239590904]])\n",
      "subbed symm:  Matrix([[1.65474027333943, -0.0515344191368419 - 0.0398453392086683*I, -0.0515344191368419 + 0.0398453392086683*I, 1.47719181938143], [-0.0515344191368419 - 0.0398453392086683*I, 1.16511190304174 - 0.0606083551271326*I, 0.573555285483109, 0.585813525123394 - 0.156467881878576*I], [-0.0515344191368419 + 0.0398453392086683*I, 0.573555285483109, 1.16511190304174 + 0.0606083551271326*I, 0.585813525123394 + 0.156467881878576*I], [1.47719181938143, 0.585813525123394 - 0.156467881878576*I, 0.585813525123394 + 0.156467881878576*I, 4.24918117119319]])\n",
      "subbed symm:  Matrix([[2.63978564394641, -0.0515507620245131 + 1.29384243537397*I, -0.0515507620245131 - 1.29384243537397*I, 2.60457395863976], [-0.0515507620245131 + 1.29384243537397*I, -0.791879472662228 + 0.100513139575002*I, 0.857639396808114, -0.0508770304682181 + 1.27847521753155*I], [-0.0515507620245131 - 1.29384243537397*I, 0.857639396808114, -0.791879472662228 - 0.100513139575002*I, -0.0508770304682181 - 1.27847521753155*I], [2.60457395863976, -0.0508770304682181 + 1.27847521753155*I, -0.0508770304682181 - 1.27847521753155*I, 2.56981645357457]])\n",
      "subbed symm:  Matrix([[0.886031047652571, 0.0627595657557519 + 0.599115432290208*I, 0.0627595657557519 - 0.599115432290208*I, 1.78710998995249], [0.0627595657557519 + 0.599115432290208*I, -0.413176262123585 + 0.185892095802311*I, 0.501762573103311, 0.209699976011648 + 1.16530021752362*I], [0.0627595657557519 - 0.599115432290208*I, 0.501762573103311, -0.413176262123585 - 0.185892095802311*I, 0.209699976011648 - 1.16530021752362*I], [1.78710998995249, 0.209699976011648 + 1.16530021752362*I, 0.209699976011648 - 1.16530021752362*I, 3.67117890210521]])\n",
      "subbed symm:  Matrix([[2.34895241554602, 0.442101751383137 - 0.202967227943884*I, 0.442101751383137 + 0.202967227943884*I, 2.67950171746895], [0.442101751383137 - 0.202967227943884*I, 0.661003903002405 - 0.252277308692249*I, 0.549626899810211, 0.524952474770961 - 0.258877469976041*I], [0.442101751383137 + 0.202967227943884*I, 0.549626899810211, 0.661003903002405 + 0.252277308692249*I, 0.524952474770961 + 0.258877469976041*I], [2.67950171746895, 0.524952474770961 - 0.258877469976041*I, 0.524952474770961 + 0.258877469976041*I, 3.55458593606398]])\n",
      "subbed symm:  Matrix([[4.64890008476608, -0.345492674090073 + 0.942278261853625*I, -0.345492674090073 - 0.942278261853625*I, 2.41274420738428], [-0.345492674090073 + 0.942278261853625*I, -0.0524184278942152 - 0.393802578520127*I, 0.470263488551831, -0.214849223670463 + 0.521071886855903*I], [-0.345492674090073 - 0.942278261853625*I, 0.470263488551831, -0.0524184278942152 + 0.393802578520127*I, -0.214849223670463 - 0.521071886855903*I], [2.41274420738428, -0.214849223670463 + 0.521071886855903*I, -0.214849223670463 - 0.521071886855903*I, 1.42025584078668]])\n",
      "subbed symm:  Matrix([[2.52967984602769, 1.24017352795661 - 0.112433956647171*I, 1.24017352795661 + 0.112433956647171*I, 1.46952442715075], [1.24017352795661 - 0.112433956647171*I, 1.02896803668869 - 0.348372871501048*I, 0.545526419534573, 0.986827924521213 + 0.0172484110927173*I], [1.24017352795661 + 0.112433956647171*I, 0.545526419534573, 1.02896803668869 + 0.348372871501048*I, 0.986827924521213 - 0.0172484110927173*I], [1.46952442715075, 0.986827924521213 + 0.0172484110927173*I, 0.986827924521213 - 0.0172484110927173*I, 2.04310567050435]])\n",
      "subbed symm:  Matrix([[3.15751218253880, -0.504587881945637 + 0.128721926304113*I, -0.504587881945637 - 0.128721926304113*I, 2.37059020334388], [-0.504587881945637 + 0.128721926304113*I, 0.689352402224226 + 0.00857851158607109*I, 0.387026784042380, -0.318368854677872 + 0.12485793296732*I], [-0.504587881945637 - 0.128721926304113*I, 0.387026784042380, 0.689352402224226 - 0.00857851158607109*I, -0.318368854677872 - 0.12485793296732*I], [2.37059020334388, -0.318368854677872 + 0.12485793296732*I, -0.318368854677872 - 0.12485793296732*I, 2.49533406516118]])\n",
      "subbed symm:  Matrix([[4.59161650069507, 0.910226191375193 + 0.476058398996036*I, 0.910226191375193 - 0.476058398996036*I, 1.90511405481160], [0.910226191375193 + 0.476058398996036*I, 0.554231899162291 + 0.255753622046805*I, 0.442852788643758, 0.102097074270951 + 0.246851397708808*I], [0.910226191375193 - 0.476058398996036*I, 0.442852788643758, 0.554231899162291 - 0.255753622046805*I, 0.102097074270951 - 0.246851397708808*I], [1.90511405481160, 0.102097074270951 + 0.246851397708808*I, 0.102097074270951 - 0.246851397708808*I, 1.52268283764219]])\n",
      "subbed symm:  Matrix([[1.08345553393095, 0.690804180081795 - 0.475572951666885*I, 0.690804180081795 + 0.475572951666885*I, 1.41274112262639], [0.690804180081795 - 0.475572951666885*I, 0.47906108478278 - 0.786466451126175*I, 0.909040601813376, 1.05108747912161 - 0.983025933399109*I], [0.690804180081795 + 0.475572951666885*I, 0.909040601813376, 0.47906108478278 + 0.786466451126175*I, 1.05108747912161 + 0.983025933399109*I], [1.41274112262639, 1.05108747912161 - 0.983025933399109*I, 1.05108747912161 + 0.983025933399109*I, 3.31095087031615]])\n",
      "subbed symm:  Matrix([[1.83605457356301, -0.245444748946821 + 1.52552861185683*I, -0.245444748946821 - 1.52552861185683*I, 2.12271466486231], [-0.245444748946821 + 1.52552861185683*I, -1.36456165289122 - 0.51314670098999*I, 1.46523834351096, -0.297735766988086 + 1.80647141623381*I], [-0.245444748946821 - 1.52552861185683*I, 1.46523834351096, -1.36456165289122 + 0.51314670098999*I, -0.297735766988086 - 1.80647141623381*I], [2.12271466486231, -0.297735766988086 + 1.80647141623381*I, -0.297735766988086 - 1.80647141623381*I, 2.47451526739386]])\n",
      "subbed symm:  Matrix([[3.40088748971263, 0.365623387492491 + 0.0158799267808387*I, 0.365623387492491 - 0.0158799267808387*I, 0.715276503704036], [0.365623387492491 + 0.0158799267808387*I, 0.273031008399285 - 0.037435416892649*I, 0.0649268760076777, 0.00655750355191169 + 0.151251318374681*I], [0.365623387492491 - 0.0158799267808387*I, 0.0649268760076777, 0.273031008399285 + 0.037435416892649*I, 0.00655750355191169 - 0.151251318374681*I], [0.715276503704036, 0.00655750355191169 + 0.151251318374681*I, 0.00655750355191169 - 0.151251318374681*I, 1.15816501983240]])\n",
      "subbed symm:  Matrix([[2.97593709288700, 0.118843304083925 + 0.340291993532101*I, 0.118843304083925 - 0.340291993532101*I, 1.75390343930761], [0.118843304083925 + 0.340291993532101*I, 0.0881074221195055 + 0.0193946135623394*I, 0.133539284091554, -0.405303936152661 + 0.264937645091828*I], [0.118843304083925 - 0.340291993532101*I, 0.133539284091554, 0.0881074221195055 - 0.0193946135623394*I, -0.405303936152661 - 0.264937645091828*I], [1.75390343930761, -0.405303936152661 + 0.264937645091828*I, -0.405303936152661 - 0.264937645091828*I, 3.39921410382391]])\n",
      "subbed symm:  Matrix([[4.37613183474338, -0.451956543235351 - 0.386593381777823*I, -0.451956543235351 + 0.386593381777823*I, 1.49014557112599], [-0.451956543235351 - 0.386593381777823*I, 0.673595954316685 - 0.0236735135009589*I, 0.511897689333330, 0.138030688689764 - 0.27532191117943*I], [-0.451956543235351 + 0.386593381777823*I, 0.511897689333330, 0.673595954316685 + 0.0236735135009589*I, 0.138030688689764 + 0.27532191117943*I], [1.49014557112599, 0.138030688689764 - 0.27532191117943*I, 0.138030688689764 + 0.27532191117943*I, 0.705404312835686]])\n",
      "subbed symm:  Matrix([[5.15958900907909, 1.19395865859891 + 0.499142219163489*I, 1.19395865859891 - 0.499142219163489*I, 1.25892409826193], [1.19395865859891 + 0.499142219163489*I, 1.55495310728968 + 0.191298744362109*I, 0.291543685784588, 0.683038550496162 + 0.248908394217892*I], [1.19395865859891 - 0.499142219163489*I, 0.291543685784588, 1.55495310728968 - 0.191298744362109*I, 0.683038550496162 - 0.248908394217892*I], [1.25892409826193, 0.683038550496162 + 0.248908394217892*I, 0.683038550496162 - 0.248908394217892*I, 1.32713744362530]])\n",
      "subbed symm:  Matrix([[2.60178405869368, 0.0741026304372238 + 0.421546968584811*I, 0.0741026304372238 - 0.421546968584811*I, 3.11235602017616], [0.0741026304372238 + 0.421546968584811*I, -0.163146365536932 + 0.108169280235119*I, 0.202860783273531, 0.200186672710078 + 0.807110806058263*I], [0.0741026304372238 - 0.421546968584811*I, 0.202860783273531, -0.163146365536932 - 0.108169280235119*I, 0.200186672710078 - 0.807110806058263*I], [3.11235602017616, 0.200186672710078 + 0.807110806058263*I, 0.200186672710078 - 0.807110806058263*I, 4.50654261521597]])\n",
      "subbed symm:  Matrix([[2.82483511695724, 0.402868268630101 - 0.775466021658158*I, 0.402868268630101 + 0.775466021658158*I, 1.90462993818415], [0.402868268630101 - 0.775466021658158*I, 0.4146157965104 - 0.127315205471072*I, 0.583093996005622, 0.57681078064363 - 0.997252747301047*I], [0.402868268630101 + 0.775466021658158*I, 0.583093996005622, 0.4146157965104 + 0.127315205471072*I, 0.57681078064363 + 0.997252747301047*I], [1.90462993818415, 0.57681078064363 - 0.997252747301047*I, 0.57681078064363 + 0.997252747301047*I, 2.91607186447592]])\n",
      "subbed symm:  Matrix([[0.883124147291644, 0.401693081513715 - 0.934860210787261*I, 0.401693081513715 + 0.934860210787261*I, 1.66054066261094], [0.401693081513715 - 0.934860210787261*I, -0.597550554438557 - 0.64564572368094*I, 0.903134465980767, 0.748350854202505 - 1.5389013125303*I], [0.401693081513715 + 0.934860210787261*I, 0.903134465980767, -0.597550554438557 + 0.64564572368094*I, 0.748350854202505 + 1.5389013125303*I], [1.66054066261094, 0.748350854202505 - 1.5389013125303*I, 0.748350854202505 + 1.5389013125303*I, 3.48665796278223]])\n",
      "subbed symm:  Matrix([[4.67362511446157, 0.774561952648585 + 1.11307315632337*I, 0.774561952648585 - 1.11307315632337*I, 1.02496204283540], [0.774561952648585 + 1.11307315632337*I, 0.772726720577036 + 0.305719377481661*I, 0.424898408563537, 0.300151501382222 + 0.661134566048303*I], [0.774561952648585 - 1.11307315632337*I, 0.424898408563537, 0.772726720577036 - 0.305719377481661*I, 0.300151501382222 - 0.661134566048303*I], [1.02496204283540, 0.300151501382222 + 0.661134566048303*I, 0.300151501382222 - 0.661134566048303*I, 1.51247485233838]])\n",
      "subbed symm:  Matrix([[4.34891830327335, 0.622180003158287 + 1.26042366304435*I, 0.622180003158287 - 1.26042366304435*I, 1.33441563219220], [0.622180003158287 + 1.26042366304435*I, 0.451883990624043 + 0.343949210604704*I, 0.375649669693852, 0.249704630342982 + 0.765858704053658*I], [0.622180003158287 - 1.26042366304435*I, 0.375649669693852, 0.451883990624043 - 0.343949210604704*I, 0.249704630342982 - 0.765858704053658*I], [1.33441563219220, 0.249704630342982 + 0.765858704053658*I, 0.249704630342982 - 0.765858704053658*I, 0.478416315160207]])\n"
     ]
    },
    {
     "data": {
      "text/plain": [
       "{'(0.281573985705342, -0.623085207979104, 0.246346766445519, -0.232168969196232)': 2.94606982283013,\n",
       " '(0.0491639201198012, -0.0396054670452195, -0.326250881056677, 0.234835960971889)': 5.24827753135167 + 0.e-64*I,\n",
       " '(-0.205017004473714, -0.284212274526071, 0.584027736257423, 0.0391299125093888)': 2.07833739744292 - 0.644900884945534*I,\n",
       " '(-0.207269208939579, -0.472733870614242, -0.443785453411140, 0.0950796642284261)': 2.26545776161879 + 0.138799679290473*I,\n",
       " '(0.367611250969529, 0.115319454848639, 0.534769359767080, 0.448489205061782)': 4.29267641574914 + 0.e-64*I,\n",
       " '(-0.393246622439046, -0.122574100857675, -0.471393727876722, -0.258855218616993)': 3.40759530919935,\n",
       " '(0.213580183833003, 0.410987412856412, 0.249546498581851, 0.468742193309548)': 4.36460324777466 + 0.e-64*I,\n",
       " '(0.603773095772562, -0.267671895129831, 0.0797472511255371, -0.209341019034602)': 4.48629207315954 - 0.e-64*I,\n",
       " '(-0.174331683036123, 5.89735383249254e-5, 0.458447814655854, 0.353755192442169)': 4.38725503988007,\n",
       " '(0.00877750406038990, -0.317986526269101, -0.0593672257954222, 0.415583625296872)': 3.82200423395502 - 0.e-64*I,\n",
       " '(0.361182396940151, 0.270378025094876, 0.110233610709070, -0.152410458374921)': 1.48456325303792 - 0.598379112215129*I,\n",
       " '(-0.00801372459382271, 0.537562404478943, 0.193932484505446, 0.103942993316603)': 3.88284749056287 + 0.e-64*I,\n",
       " '(0.463489809317350, -0.228227492590609, -0.269508338366232, 0.0364267227960047)': 3.82033516043678 + 0.e-64*I,\n",
       " '(0.297642096141050, -0.348552140013924, 0.201559391103291, 0.0666032557541517)': 4.12656439480523,\n",
       " '(-0.348294396746752, -0.0237315663014728, 0.0694696450794712, 0.276351679725357)': 5.63145670292108 - 0.e-64*I,\n",
       " '(0.824044345087424, 0.117506666279533, -0.0372635644069825, 0.0890062892394988)': 3.14585593958665 + 0.e-32*I,\n",
       " '(0.373668869061446, -0.109044482401336, -0.256969127837756, 0.0647017872967836)': 4.71429143203879 + 0.e-64*I,\n",
       " '(-0.279792288748346, 0.357370696904461, 0.103865391612946, 0.263433697529083)': 2.55950463501006 + 0.e-65*I,\n",
       " '(0.0165735368309738, 0.103398434848214, 0.199798800709153, 0.194592727244642)': 5.26905424979291,\n",
       " '(0.152139197241816, -0.429206813173146, -0.313197842408132, 0.248169255268623)': 4.33313319277451}"
      ]
     },
     "execution_count": 56,
     "metadata": {},
     "output_type": "execute_result"
    }
   ],
   "source": [
    "generate_realignment_scores_bell_basis(rhotilde_t_rhotilde, rx, ry, rz, sx, sy, sz)"
   ]
  },
  {
   "cell_type": "code",
   "execution_count": null,
   "id": "fab0f5c3-0b55-4ded-9a12-aed507cf2f96",
   "metadata": {},
   "outputs": [],
   "source": []
  }
 ],
 "metadata": {
  "kernelspec": {
   "display_name": "Python 3 (ipykernel)",
   "language": "python",
   "name": "python3"
  },
  "language_info": {
   "codemirror_mode": {
    "name": "ipython",
    "version": 3
   },
   "file_extension": ".py",
   "mimetype": "text/x-python",
   "name": "python",
   "nbconvert_exporter": "python",
   "pygments_lexer": "ipython3",
   "version": "3.13.2"
  }
 },
 "nbformat": 4,
 "nbformat_minor": 5
}
