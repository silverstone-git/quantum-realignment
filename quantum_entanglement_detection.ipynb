{
 "cells": [
  {
   "cell_type": "code",
   "execution_count": 1,
   "id": "f1ebde23-281f-4776-af66-0d5673ee9144",
   "metadata": {},
   "outputs": [],
   "source": [
    "from sympy.physics.quantum.qubit import Qubit\n",
    "from sympy import Matrix, sqrt, symbols, simplify\n",
    "import sympy as sp\n",
    "from IPython.display import display, Latex\n",
    "from itertools import product"
   ]
  },
  {
   "cell_type": "code",
   "execution_count": 2,
   "id": "272a8237-d2eb-4c5c-8dec-8d368fad3740",
   "metadata": {},
   "outputs": [],
   "source": [
    "from sympy.physics.quantum import Ket, Bra, Dagger, represent, TensorProduct"
   ]
  },
  {
   "cell_type": "code",
   "execution_count": 3,
   "id": "fb7cd078-21f0-4e98-bc28-22f3f5cb564a",
   "metadata": {},
   "outputs": [],
   "source": [
    "import random\n",
    "import math\n",
    "import cmath"
   ]
  },
  {
   "cell_type": "code",
   "execution_count": 4,
   "id": "36f66757-7fb1-4bd4-b4d7-874ca5532dd8",
   "metadata": {},
   "outputs": [],
   "source": [
    "import itertools"
   ]
  },
  {
   "cell_type": "code",
   "execution_count": 5,
   "id": "c5f0d957-3c79-4f98-8320-46faa4450c82",
   "metadata": {},
   "outputs": [
    {
     "data": {
      "text/latex": [
       "$\\displaystyle α α^{\\dagger} {\\left|0\\right\\rangle } {\\left\\langle 0\\right|} + α β^{\\dagger} {\\left|0\\right\\rangle } {\\left\\langle 1\\right|} + β α^{\\dagger} {\\left|1\\right\\rangle } {\\left\\langle 0\\right|} + β β^{\\dagger} {\\left|1\\right\\rangle } {\\left\\langle 1\\right|}$"
      ],
      "text/plain": [
       "α*Dagger(α)*|0>*<0| + α*Dagger(β)*|0>*<1| + β*Dagger(α)*|1>*<0| + β*Dagger(β)*|1>*<1|"
      ]
     },
     "execution_count": 5,
     "metadata": {},
     "output_type": "execute_result"
    }
   ],
   "source": [
    "# Step 1: Symbols define karein\n",
    "alpha, beta = symbols('α β')\n",
    "\n",
    "# Step 2: Quantum state banayein (example: superposition state)\n",
    "psi = alpha * Qubit('0') + beta * Qubit('1')\n",
    "\n",
    "# Step 3: Density matrix calculate karein\n",
    "rho = psi * Dagger(psi)\n",
    "\n",
    "# Step 4: Matrix ko expand aur simplify karein\n",
    "density_matrix = rho.doit().expand()\n",
    "simplified_matrix = simplify(density_matrix)\n",
    "simplified_matrix"
   ]
  },
  {
   "cell_type": "code",
   "execution_count": 6,
   "id": "075b5e96-6425-4156-b6e4-37acf3a7e54a",
   "metadata": {},
   "outputs": [
    {
     "data": {
      "text/latex": [
       "$\\displaystyle \\left[\\begin{matrix}α α^{\\dagger} & α β^{\\dagger}\\\\β α^{\\dagger} & β β^{\\dagger}\\end{matrix}\\right]$"
      ],
      "text/plain": [
       "Matrix([\n",
       "[α*Dagger(α), α*Dagger(β)],\n",
       "[β*Dagger(α), β*Dagger(β)]])"
      ]
     },
     "execution_count": 6,
     "metadata": {},
     "output_type": "execute_result"
    }
   ],
   "source": [
    "res = represent(simplified_matrix.doit(), basis_set=[Qubit('0'), Qubit('1')])\n",
    "res\n",
    "\n",
    "# this is for one qubit, lets do for 2"
   ]
  },
  {
   "cell_type": "code",
   "execution_count": 7,
   "id": "b3c7d4a7-7cfd-4047-b02a-92b4d9b2a05a",
   "metadata": {},
   "outputs": [],
   "source": [
    "def get_rho_bipartite(input_qubit_tuple):\n",
    "    q1a, q2a, q1b, q2b= map(lambda x: str(x), input_qubit_tuple)\n",
    "    alpha, beta = symbols('α β')\n",
    "    psi = alpha * TensorProduct(Qubit(q1a), Qubit(q2a)) + beta * TensorProduct(Qubit(q1b), Qubit(q2b))\n",
    "    \n",
    "    rho = psi * Dagger(psi)\n",
    "    density_matrix = rho.doit().expand()\n",
    "    simplified_matrix = simplify(density_matrix)\n",
    "    print(simplified_matrix)\n",
    "    \n",
    "    rho = represent(simplified_matrix.doit(), basis_set=[Qubit('0'), Qubit('1')])\n",
    "    return rho"
   ]
  },
  {
   "cell_type": "code",
   "execution_count": 8,
   "id": "ac2153d6-004f-483c-8352-83b01f76d4a0",
   "metadata": {},
   "outputs": [],
   "source": [
    "dA, dB = 2, 2"
   ]
  },
  {
   "cell_type": "code",
   "execution_count": 9,
   "id": "1b69cfe3-af08-4d0d-a05b-102e1a37f02c",
   "metadata": {},
   "outputs": [],
   "source": [
    "def permute_dims(tensor, perm):\n",
    "    \"\"\"\n",
    "    Permutes the dimensions of a sympy MutableDenseNDimArray according to the given permutation tuple.\n",
    "    \"\"\"\n",
    "    old_shape = tensor.shape\n",
    "    new_shape = tuple(old_shape[i] for i in perm)\n",
    "    new_tensor = sp.MutableDenseNDimArray.zeros(*new_shape)\n",
    "    for new_index in product(*[range(s) for s in new_shape]):\n",
    "        # Compute the corresponding old index.\n",
    "        old_index = [None] * len(new_index)\n",
    "        for new_axis, old_axis in enumerate(perm):\n",
    "            old_index[old_axis] = new_index[new_axis]\n",
    "        new_tensor[new_index] = tensor[tuple(old_index)]\n",
    "    return new_tensor\n"
   ]
  },
  {
   "cell_type": "code",
   "execution_count": 10,
   "id": "648a69b5-067a-47a2-a265-d8b4f8767b64",
   "metadata": {},
   "outputs": [],
   "source": [
    "def compute_singular_vals_sympy(M):\n",
    "    \"\"\"\n",
    "    Compute the singular values of matrix M by computing the eigenvalues of M^T*M.\n",
    "    \"\"\"\n",
    "    MTM = M.T * M\n",
    "    eig_dict = MTM.eigenvals()\n",
    "    singular_vals = []\n",
    "    for eigenvalue, multiplicity in eig_dict.items():\n",
    "        # Simplify the eigenvalue for a cleaner expression.\n",
    "        eigenvalue = sp.simplify(eigenvalue)\n",
    "        # Assume eigenvalues are nonnegative; take the square root.\n",
    "        s_val = sp.sqrt(eigenvalue)\n",
    "        singular_vals.extend([sp.simplify(s_val)] * multiplicity)\n",
    "    return singular_vals\n",
    "\n"
   ]
  },
  {
   "cell_type": "code",
   "execution_count": 11,
   "id": "0170d857-1d59-44b4-a693-4097c4388eba",
   "metadata": {},
   "outputs": [],
   "source": [
    "def compute_entanglement_measures_symbolic(rho, dA, dB, display_output=True):\n",
    "    \"\"\"\n",
    "    Computes entanglement measures for a bipartite system (dA x dB).\n",
    "    \"\"\"\n",
    "    N = dA * dB\n",
    "    assert rho.shape[0] == N, \"Product dA*dB must equal the matrix dimension.\"\n",
    "    \n",
    "    # if display_output:\n",
    "    #     display(Latex(r\"Density matrix $\\rho$: \"))\n",
    "    #     display(Latex(r\"$$\" + sp.latex(rho) + r\"$$\"))\n",
    "    \n",
    "    eig_dict_input = rho.eigenvals()\n",
    "    eigenvals_input = [sp.simplify(ev) for ev, mult in eig_dict_input.items() for _ in range(mult)]\n",
    "    # if display_output:\n",
    "    #     display(Latex(r\"Eigenvalues of $\\rho$: \"))\n",
    "    #     display(Latex(r\"$$\" + sp.latex(eigenvals_input) + r\"$$\"))\n",
    "    \n",
    "    # Partial Transpose\n",
    "    rho_tensor = sp.MutableDenseNDimArray(rho, (dA, dB, dA, dB))\n",
    "    rho_pt_tensor = permute_dims(rho_tensor, (0, 3, 2, 1))\n",
    "    rho_pt = sp.Matrix(rho_pt_tensor.reshape(N, N))\n",
    "    # if display_output:\n",
    "    #     display(Latex(r\"Partial transpose $\\rho^{T_B}$: \"))\n",
    "    #     display(Latex(r\"$$\" + sp.latex(rho_pt) + r\"$$\"))\n",
    "    \n",
    "    eig_dict_pt = rho_pt.eigenvals()\n",
    "    eigenvals_pt = [sp.simplify(ev) for ev, mult in eig_dict_pt.items() for _ in range(mult)]\n",
    "    # if display_output:\n",
    "    #     display(Latex(r\"Eigenvalues of $\\rho^{T_B}$: \"))\n",
    "    #     display(Latex(r\"$$\" + sp.latex(eigenvals_pt) + r\"$$\"))\n",
    "    \n",
    "    det_rho_pt = sp.simplify(rho_pt.det())\n",
    "    # if display_output:\n",
    "    #     display(Latex(r\"Determinant of $\\rho^{T_B}$: \"))\n",
    "    #     display(Latex(r\"$$\" + sp.latex(det_rho_pt) + r\"$$\"))\n",
    "    \n",
    "    # Realignment\n",
    "    rho_realigned_tensor = permute_dims(rho_tensor, (0, 2, 1, 3))\n",
    "    realigned = sp.Matrix(rho_realigned_tensor.reshape(dA*dA, dB*dB))\n",
    "    if display_output:\n",
    "        display(Latex(r\"Realigned matrix: \"))\n",
    "        display(Latex(r\"$$\" + sp.latex(realigned) + r\"$$\"))\n",
    "    \n",
    "    singular_vals = compute_singular_vals_sympy(realigned)\n",
    "    # if display_output:\n",
    "    #     display(Latex(r\"Singular values of the realigned matrix: \"))\n",
    "    #     display(Latex(r\"$$\" + sp.latex(singular_vals) + r\"$$\"))\n",
    "    \n",
    "    sum_sv = sp.simplify(sum(singular_vals))\n",
    "    if display_output:\n",
    "        display(Latex(r\"Sum of singular values: \"))\n",
    "        display(Latex(r\"$$\" + sp.latex(sum_sv) + r\"$$\"))\n",
    "    \n",
    "    # product_sv = sp.simplify(sp.Mul(*singular_vals))\n",
    "    # if display_output:\n",
    "    #     display(Latex(r\"Product of singular values: \"))\n",
    "    #     display(Latex(r\"$$\" + sp.latex(product_sv) + r\"$$\"))\n",
    "    \n",
    "    # det_realigned = sp.simplify(realigned.det())\n",
    "    # if display_output:\n",
    "    #     display(Latex(r\"Determinant of the realigned matrix: \"))\n",
    "    #     display(Latex(r\"$$\" + sp.latex(det_realigned) + r\"$$\"))\n",
    "    \n",
    "    # product_eigenvals = sp.simplify(sp.Mul(*eigenvals_pt))\n",
    "    # if display_output:\n",
    "    #     display(Latex(r\"Product of eigenvalues of $\\rho^{T_B}$: \"))\n",
    "    #     display(Latex(r\"$$\" + sp.latex(product_eigenvals) + r\"$$\"))\n",
    "    \n",
    "    #return eigenvals_input, eigenvals_pt, singular_vals, sum_sv, product_sv, product_eigenvals, det_rho_pt, det_realigned\n",
    "    return realigned, sum_sv\n"
   ]
  },
  {
   "cell_type": "code",
   "execution_count": 12,
   "id": "fccb2585-90a4-41e3-af95-7aa19f9eabf7",
   "metadata": {},
   "outputs": [
    {
     "name": "stdout",
     "output_type": "stream",
     "text": [
      "α*Dagger(α)*|0>x|0>*<0|x<0| + α*Dagger(β)*|0>x|0>*<1|x<1| + β*Dagger(α)*|1>x|1>*<0|x<0| + β*Dagger(β)*|1>x|1>*<1|x<1|\n"
     ]
    }
   ],
   "source": [
    "realigned, sum_sv= compute_entanglement_measures_symbolic(get_rho_bipartite((0, 0, 1, 1)), dA, dB, False)"
   ]
  },
  {
   "cell_type": "code",
   "execution_count": 13,
   "id": "f4255535-6c21-4aaa-a0a0-addbc15dcb83",
   "metadata": {},
   "outputs": [
    {
     "data": {
      "text/latex": [
       "$\\displaystyle \\left[\\begin{matrix}α α^{\\dagger} & 0 & 0 & 0\\\\0 & α β^{\\dagger} & 0 & 0\\\\0 & 0 & β α^{\\dagger} & 0\\\\0 & 0 & 0 & β β^{\\dagger}\\end{matrix}\\right]$"
      ],
      "text/plain": [
       "Matrix([\n",
       "[α*Dagger(α),           0,           0,           0],\n",
       "[          0, α*Dagger(β),           0,           0],\n",
       "[          0,           0, β*Dagger(α),           0],\n",
       "[          0,           0,           0, β*Dagger(β)]])"
      ]
     },
     "execution_count": 13,
     "metadata": {},
     "output_type": "execute_result"
    }
   ],
   "source": [
    "realigned"
   ]
  },
  {
   "cell_type": "code",
   "execution_count": 14,
   "id": "57055783-514c-4ed2-8d95-9596b6ce3c7a",
   "metadata": {},
   "outputs": [
    {
     "data": {
      "text/latex": [
       "$\\displaystyle \\sqrt{α^{2} \\left(α^{\\dagger}\\right)^{2}} + \\sqrt{α^{2} \\left(β^{\\dagger}\\right)^{2}} + \\sqrt{β^{2} \\left(α^{\\dagger}\\right)^{2}} + \\sqrt{β^{2} \\left(β^{\\dagger}\\right)^{2}}$"
      ],
      "text/plain": [
       "sqrt(α**2*Dagger(α)**2) + sqrt(α**2*Dagger(β)**2) + sqrt(β**2*Dagger(α)**2) + sqrt(β**2*Dagger(β)**2)"
      ]
     },
     "execution_count": 14,
     "metadata": {},
     "output_type": "execute_result"
    }
   ],
   "source": [
    "sum_sv"
   ]
  },
  {
   "cell_type": "code",
   "execution_count": 15,
   "id": "39f9e2ae-82b5-45bf-ac05-d828272b5ef0",
   "metadata": {},
   "outputs": [],
   "source": [
    "def generate_alpha_beta_imaginary():\n",
    "    theta = random.uniform(0, math.pi / 2)\n",
    "    phi = random.uniform(0, 2 * math.pi)\n",
    "    psi = random.uniform(0, 2 * math.pi)\n",
    "    alpha= math.cos(theta) * cmath.exp(1j * phi)\n",
    "    beta= math.sin(theta) * cmath.exp(1j * psi)\n",
    "    return alpha, beta"
   ]
  },
  {
   "cell_type": "code",
   "execution_count": 16,
   "id": "9aff9839-c748-4177-9f36-db7aba6b2dd7",
   "metadata": {},
   "outputs": [],
   "source": [
    "a, b= generate_alpha_beta_imaginary()"
   ]
  },
  {
   "cell_type": "code",
   "execution_count": 17,
   "id": "5d81350b-3d4b-436d-9c4f-31e206343ed9",
   "metadata": {},
   "outputs": [
    {
     "data": {
      "text/latex": [
       "$\\displaystyle 1.0 + 1.0 \\sqrt{-0.00594718300236594 - 0.00465912804344832 i} + 1.0 \\sqrt{-0.00594718300236594 + 0.00465912804344832 i}$"
      ],
      "text/plain": [
       "1.0 + 1.0*sqrt(-0.00594718300236594 - 0.00465912804344832*I) + 1.0*sqrt(-0.00594718300236594 + 0.00465912804344832*I)"
      ]
     },
     "execution_count": 17,
     "metadata": {},
     "output_type": "execute_result"
    }
   ],
   "source": [
    "simplify(sum_sv.subs({alpha: a, beta: b}))"
   ]
  },
  {
   "cell_type": "code",
   "execution_count": 18,
   "id": "58c6687a-ccf4-4740-acde-7b0695ae259f",
   "metadata": {},
   "outputs": [],
   "source": [
    "def generate_alpha_beta_real():\n",
    "    theta = random.uniform(0, math.pi / 2)\n",
    "    alpha= math.cos(theta)\n",
    "    beta= math.sin(theta)\n",
    "    return alpha, beta"
   ]
  },
  {
   "cell_type": "code",
   "execution_count": 19,
   "id": "0ea7ed9b-285a-46c1-bcc4-07efd61ef704",
   "metadata": {},
   "outputs": [],
   "source": [
    "a, b= generate_alpha_beta_real()"
   ]
  },
  {
   "cell_type": "code",
   "execution_count": 20,
   "id": "44e50317-9078-4f95-a563-e79cc79b95eb",
   "metadata": {},
   "outputs": [
    {
     "data": {
      "text/latex": [
       "$\\displaystyle 1.20437727230726$"
      ],
      "text/plain": [
       "1.20437727230726"
      ]
     },
     "execution_count": 20,
     "metadata": {},
     "output_type": "execute_result"
    }
   ],
   "source": [
    "simplify(sum_sv.subs({alpha: a, beta: b}))"
   ]
  },
  {
   "cell_type": "code",
   "execution_count": 21,
   "id": "8d70a3fe-3e8e-4635-ab4d-a2de3a56a704",
   "metadata": {},
   "outputs": [
    {
     "name": "stdout",
     "output_type": "stream",
     "text": [
      "α*Dagger(α)*|0>x|0>*<0|x<0| + α*Dagger(β)*|0>x|0>*<0|x<0| + β*Dagger(α)*|0>x|0>*<0|x<0| + β*Dagger(β)*|0>x|0>*<0|x<0|\n",
      "1.97290535592325\n",
      "1.59917973346911\n",
      "1.44833797173254\n",
      "1.97252038262179\n",
      "1.99729106590411\n",
      "1.77694145427956\n",
      "1.33855256245721\n",
      "1.82644255698941\n",
      "1.19028628105833\n",
      "1.24776998204207\n",
      "1.68753376758757\n",
      "1.37614008234074\n",
      "1.48623867070962\n",
      "1.99579703361443\n",
      "1.14833632399625\n",
      "1.79662151749704\n",
      "1.94838936248938\n",
      "1.73869821266112\n",
      "1.98757329275587\n",
      "1.16159067138619\n",
      "α*Dagger(α)*|0>x|0>*<0|x<0| + α*Dagger(β)*|0>x|0>*<0|x<1| + β*Dagger(α)*|0>x|1>*<0|x<0| + β*Dagger(β)*|0>x|1>*<0|x<1|\n",
      "1.00000000000000\n",
      "1.00000000000000\n",
      "1.00000000000000\n",
      "1.00000000000000\n",
      "1.00000000000000\n",
      "1.00000000000000\n",
      "1.00000000000000\n",
      "1.00000000000000\n",
      "1.00000000000000\n",
      "1.00000000000000\n",
      "1.00000000000000\n",
      "1.00000000000000\n",
      "1.00000000000000\n",
      "1.00000000000000\n",
      "1.00000000000000\n",
      "1.00000000000000\n",
      "1.00000000000000\n",
      "1.00000000000000\n",
      "1.00000000000000\n",
      "1.00000000000000\n",
      "α*Dagger(α)*|0>x|0>*<0|x<0| + α*Dagger(β)*|0>x|0>*<1|x<0| + β*Dagger(α)*|1>x|0>*<0|x<0| + β*Dagger(β)*|1>x|0>*<1|x<0|\n",
      "1.00000000000000\n",
      "1.00000000000000\n",
      "1.00000000000000\n",
      "1.00000000000000\n",
      "1.00000000000000\n",
      "1.00000000000000\n",
      "1.00000000000000\n",
      "1.00000000000000\n",
      "1.00000000000000\n",
      "1.00000000000000\n",
      "1.00000000000000\n",
      "1.00000000000000\n",
      "1.00000000000000\n",
      "1.00000000000000\n",
      "1.00000000000000\n",
      "1.00000000000000\n",
      "1.00000000000000\n",
      "1.00000000000000\n",
      "1.00000000000000\n",
      "1.00000000000000\n",
      "α*Dagger(α)*|0>x|0>*<0|x<0| + α*Dagger(β)*|0>x|0>*<1|x<1| + β*Dagger(α)*|1>x|1>*<0|x<0| + β*Dagger(β)*|1>x|1>*<1|x<1|\n",
      "1.92984773233422\n",
      "1.92602792513796\n",
      "1.98633076369249\n",
      "1.89209648865167\n",
      "1.18538732438219\n",
      "1.19521960004518\n",
      "1.12664676434752\n",
      "1.86775107669983\n",
      "1.33695685433155\n",
      "1.93135883784115\n",
      "1.14377040100949\n",
      "1.07266212026319\n",
      "1.29976091900528\n",
      "1.63908597111606\n",
      "1.60149695418220\n",
      "1.97279365513805\n",
      "1.42418426829980\n",
      "1.92392362182017\n",
      "1.78858689023768\n",
      "1.48127049348049\n",
      "α*Dagger(α)*|0>x|1>*<0|x<1| + α*Dagger(β)*|0>x|1>*<0|x<0| + β*Dagger(α)*|0>x|0>*<0|x<1| + β*Dagger(β)*|0>x|0>*<0|x<0|\n",
      "1.00000000000000\n",
      "1.00000000000000\n",
      "1.00000000000000\n",
      "1.00000000000000\n",
      "1.00000000000000\n",
      "1.00000000000000\n",
      "1.00000000000000\n",
      "1.00000000000000\n",
      "1.00000000000000\n",
      "1.00000000000000\n",
      "1.00000000000000\n",
      "1.00000000000000\n",
      "1.00000000000000\n",
      "1.00000000000000\n",
      "1.00000000000000\n",
      "1.00000000000000\n",
      "1.00000000000000\n",
      "1.00000000000000\n",
      "1.00000000000000\n",
      "1.00000000000000\n",
      "α*Dagger(α)*|0>x|1>*<0|x<1| + α*Dagger(β)*|0>x|1>*<0|x<1| + β*Dagger(α)*|0>x|1>*<0|x<1| + β*Dagger(β)*|0>x|1>*<0|x<1|\n",
      "1.66114980924159\n",
      "1.96985859839137\n",
      "1.20839556830034\n",
      "1.80862079005069\n",
      "1.84218367341864\n",
      "1.68594210631977\n",
      "1.74110684889717\n",
      "1.51691717752182\n",
      "1.73610748706938\n",
      "1.48651873039942\n",
      "1.90169598307619\n",
      "1.54211638285843\n",
      "1.15307452453408\n",
      "1.86104713856765\n",
      "1.96885282715799\n",
      "1.93236400472484\n",
      "1.83266519302982\n",
      "1.17864465320765\n",
      "1.98798148024226\n",
      "1.66225332557234\n",
      "α*Dagger(α)*|0>x|1>*<0|x<1| + α*Dagger(β)*|0>x|1>*<1|x<0| + β*Dagger(α)*|1>x|0>*<0|x<1| + β*Dagger(β)*|1>x|0>*<1|x<0|\n",
      "1.96410502596082\n",
      "1.17149307801165\n",
      "1.22700889452168\n",
      "1.80577550784190\n",
      "1.89393154383793\n",
      "1.78195437031989\n",
      "1.03430251714717\n",
      "1.30625217873682\n",
      "1.61894845555672\n",
      "1.39465926072738\n",
      "1.87979776752002\n",
      "1.38775273757918\n",
      "1.39947573664928\n",
      "1.10263963291194\n",
      "1.18923550019783\n",
      "1.45947105194104\n",
      "1.25185246006472\n",
      "1.99994356506530\n",
      "1.26810690929268\n",
      "1.88681750839181\n",
      "α*Dagger(α)*|0>x|1>*<0|x<1| + α*Dagger(β)*|0>x|1>*<1|x<1| + β*Dagger(α)*|1>x|1>*<0|x<1| + β*Dagger(β)*|1>x|1>*<1|x<1|\n",
      "1.00000000000000\n",
      "1.00000000000000\n",
      "1.00000000000000\n",
      "1.00000000000000\n",
      "1.00000000000000\n",
      "1.00000000000000\n",
      "1.00000000000000\n",
      "1.00000000000000\n",
      "1.00000000000000\n",
      "1.00000000000000\n",
      "1.00000000000000\n",
      "1.00000000000000\n",
      "1.00000000000000\n",
      "1.00000000000000\n",
      "1.00000000000000\n",
      "1.00000000000000\n",
      "1.00000000000000\n",
      "1.00000000000000\n",
      "1.00000000000000\n",
      "1.00000000000000\n",
      "α*Dagger(α)*|1>x|0>*<1|x<0| + α*Dagger(β)*|1>x|0>*<0|x<0| + β*Dagger(α)*|0>x|0>*<1|x<0| + β*Dagger(β)*|0>x|0>*<0|x<0|\n",
      "1.00000000000000\n",
      "1.00000000000000\n",
      "1.00000000000000\n",
      "1.00000000000000\n",
      "1.00000000000000\n",
      "1.00000000000000\n",
      "1.00000000000000\n",
      "1.00000000000000\n",
      "1.00000000000000\n",
      "1.00000000000000\n",
      "1.00000000000000\n",
      "1.00000000000000\n",
      "1.00000000000000\n",
      "1.00000000000000\n",
      "1.00000000000000\n",
      "1.00000000000000\n",
      "1.00000000000000\n",
      "1.00000000000000\n",
      "1.00000000000000\n",
      "1.00000000000000\n",
      "α*Dagger(α)*|1>x|0>*<1|x<0| + α*Dagger(β)*|1>x|0>*<0|x<1| + β*Dagger(α)*|0>x|1>*<1|x<0| + β*Dagger(β)*|0>x|1>*<0|x<1|\n",
      "1.80981595837230\n",
      "1.13874103858769\n",
      "1.35096464070552\n",
      "1.45710856907477\n",
      "1.99353535260376\n",
      "1.67055711425662\n",
      "1.39787642155005\n",
      "1.95397730681318\n",
      "1.47290622844088\n",
      "1.97556940031984\n",
      "1.73843142121608\n",
      "1.82485353136272\n",
      "1.82991768451066\n",
      "1.92868127275366\n",
      "1.30240212350006\n",
      "1.99374664722187\n",
      "1.42214180884732\n",
      "1.98978282904033\n",
      "1.66243697416818\n",
      "1.01374380368085\n",
      "α*Dagger(α)*|1>x|0>*<1|x<0| + α*Dagger(β)*|1>x|0>*<1|x<0| + β*Dagger(α)*|1>x|0>*<1|x<0| + β*Dagger(β)*|1>x|0>*<1|x<0|\n",
      "1.99820124954250\n",
      "1.61214887755622\n",
      "1.92385010658700\n",
      "1.67982364288791\n",
      "1.37948029298799\n",
      "1.85893515531854\n",
      "1.86515538840878\n",
      "1.96201803777878\n",
      "1.99932843805032\n",
      "1.53167302482887\n",
      "1.16267983601195\n",
      "1.78114240703974\n",
      "1.75186485539237\n",
      "1.51946603359655\n",
      "1.00202684826268\n",
      "1.42477078438086\n",
      "1.76543238251597\n",
      "1.48719860456766\n",
      "1.98518800480074\n",
      "1.98133524006694\n",
      "α*Dagger(α)*|1>x|0>*<1|x<0| + α*Dagger(β)*|1>x|0>*<1|x<1| + β*Dagger(α)*|1>x|1>*<1|x<0| + β*Dagger(β)*|1>x|1>*<1|x<1|\n",
      "1.00000000000000\n",
      "1.00000000000000\n",
      "1.00000000000000\n",
      "1.00000000000000\n",
      "1.00000000000000\n",
      "1.00000000000000\n",
      "1.00000000000000\n",
      "1.00000000000000\n",
      "1.00000000000000\n",
      "1.00000000000000\n",
      "1.00000000000000\n",
      "1.00000000000000\n",
      "1.00000000000000\n",
      "1.00000000000000\n",
      "1.00000000000000\n",
      "1.00000000000000\n",
      "1.00000000000000\n",
      "1.00000000000000\n",
      "1.00000000000000\n",
      "1.00000000000000\n",
      "α*Dagger(α)*|1>x|1>*<1|x<1| + α*Dagger(β)*|1>x|1>*<0|x<0| + β*Dagger(α)*|0>x|0>*<1|x<1| + β*Dagger(β)*|0>x|0>*<0|x<0|\n",
      "1.61969810248001\n",
      "1.83670632091758\n",
      "1.45394238401273\n",
      "1.66751786133523\n",
      "1.64594516093742\n",
      "1.42794771282485\n",
      "1.01336058548560\n",
      "1.83897124109888\n",
      "1.63422590333950\n",
      "1.99539382558575\n",
      "1.05665956236498\n",
      "1.01289963682089\n",
      "1.55182379185819\n",
      "1.94750328789465\n",
      "1.97234680380601\n",
      "1.53602062065322\n",
      "1.80574471167655\n",
      "1.27036727782274\n",
      "1.27549766722837\n",
      "1.99824203683396\n",
      "α*Dagger(α)*|1>x|1>*<1|x<1| + α*Dagger(β)*|1>x|1>*<0|x<1| + β*Dagger(α)*|0>x|1>*<1|x<1| + β*Dagger(β)*|0>x|1>*<0|x<1|\n",
      "1.00000000000000\n",
      "1.00000000000000\n",
      "1.00000000000000\n",
      "1.00000000000000\n",
      "1.00000000000000\n",
      "1.00000000000000\n",
      "1.00000000000000\n",
      "1.00000000000000\n",
      "1.00000000000000\n",
      "1.00000000000000\n",
      "1.00000000000000\n",
      "1.00000000000000\n",
      "1.00000000000000\n",
      "1.00000000000000\n",
      "1.00000000000000\n",
      "1.00000000000000\n",
      "1.00000000000000\n",
      "1.00000000000000\n",
      "1.00000000000000\n",
      "1.00000000000000\n",
      "α*Dagger(α)*|1>x|1>*<1|x<1| + α*Dagger(β)*|1>x|1>*<1|x<0| + β*Dagger(α)*|1>x|0>*<1|x<1| + β*Dagger(β)*|1>x|0>*<1|x<0|\n",
      "1.00000000000000\n",
      "1.00000000000000\n",
      "1.00000000000000\n",
      "1.00000000000000\n",
      "1.00000000000000\n",
      "1.00000000000000\n",
      "1.00000000000000\n",
      "1.00000000000000\n",
      "1.00000000000000\n",
      "1.00000000000000\n",
      "1.00000000000000\n",
      "1.00000000000000\n",
      "1.00000000000000\n",
      "1.00000000000000\n",
      "1.00000000000000\n",
      "1.00000000000000\n",
      "1.00000000000000\n",
      "1.00000000000000\n",
      "1.00000000000000\n",
      "1.00000000000000\n",
      "α*Dagger(α)*|1>x|1>*<1|x<1| + α*Dagger(β)*|1>x|1>*<1|x<1| + β*Dagger(α)*|1>x|1>*<1|x<1| + β*Dagger(β)*|1>x|1>*<1|x<1|\n",
      "1.89987620158244\n",
      "1.74490820310803\n",
      "1.92312106485524\n",
      "1.12011867857987\n",
      "1.56004719874873\n",
      "1.98192686585865\n",
      "1.99331490169098\n",
      "1.97324712049183\n",
      "1.86923357449985\n",
      "1.04193101716876\n",
      "1.70167206877671\n",
      "1.83604554777518\n",
      "1.24594348670295\n",
      "1.02390412280601\n",
      "1.93094665447810\n",
      "1.68643826936022\n",
      "1.85219109651268\n",
      "1.29130085723103\n",
      "1.97488830436361\n",
      "1.90094315905725\n"
     ]
    }
   ],
   "source": [
    "string_length= 4\n",
    "no_of_random_samples_for_each_bipartite_combinations= 20\n",
    "combinations= list(itertools.product([0, 1], repeat= string_length))\n",
    "for comb in combinations:\n",
    "    # 0011, 0110, ... so on\n",
    "    rho= get_rho_bipartite(comb)\n",
    "    realigned, sum_sv= compute_entanglement_measures_symbolic(rho, dA, dB, False)\n",
    "    for i in range(no_of_random_samples_for_each_bipartite_combinations):\n",
    "        a, b= generate_alpha_beta_real()\n",
    "        print(simplify(sum_sv.subs({alpha: a, beta: b})))\n",
    "    "
   ]
  },
  {
   "cell_type": "code",
   "execution_count": 22,
   "id": "3bd16a35-32ad-4201-9ad4-c94f575bd673",
   "metadata": {},
   "outputs": [
    {
     "data": {
      "text/latex": [
       "$\\displaystyle \\frac{\\left({{\\left|0\\right\\rangle }}\\otimes {{\\left|0\\right\\rangle }} + {{\\left|1\\right\\rangle }}\\otimes {{\\left|1\\right\\rangle }}\\right) \\left({{\\left\\langle 0\\right|}}\\otimes {{\\left\\langle 0\\right|}} + {{\\left\\langle 1\\right|}}\\otimes {{\\left\\langle 1\\right|}}\\right)}{2}$"
      ],
      "text/plain": [
       "(|0>x|0> + |1>x|1>)*(<0|x<0| + <1|x<1|)/2"
      ]
     },
     "execution_count": 22,
     "metadata": {},
     "output_type": "execute_result"
    }
   ],
   "source": [
    "# Bell state (|00⟩ + |11⟩)/√2\n",
    "bell_state = (TensorProduct(Qubit('0'), Qubit('0')) + \n",
    "             TensorProduct(Qubit('1'), Qubit('1')))/sqrt(2)\n",
    "\n",
    "# Density matrix\n",
    "bell_rho = bell_state * Dagger(bell_state)\n",
    "bell_rho"
   ]
  },
  {
   "cell_type": "code",
   "execution_count": 23,
   "id": "53c3f027-e6a9-4b58-92b6-b65143c079df",
   "metadata": {},
   "outputs": [
    {
     "data": {
      "text/latex": [
       "$\\displaystyle \\left[\\begin{matrix}\\frac{1}{2} & 0 & 0 & \\frac{1}{2}\\\\0 & 0 & 0 & 0\\\\0 & 0 & 0 & 0\\\\\\frac{1}{2} & 0 & 0 & \\frac{1}{2}\\end{matrix}\\right]$"
      ],
      "text/plain": [
       "Matrix([\n",
       "[1/2, 0, 0, 1/2],\n",
       "[  0, 0, 0,   0],\n",
       "[  0, 0, 0,   0],\n",
       "[1/2, 0, 0, 1/2]])"
      ]
     },
     "execution_count": 23,
     "metadata": {},
     "output_type": "execute_result"
    }
   ],
   "source": [
    "matrix_form = represent(bell_rho.doit(), basis_set=[Qubit('0'), Qubit('1')])\n",
    "\n",
    "# Simplify करें और output को Matrix के रूप में प्राप्त करें\n",
    "final_matrix = Matrix(simplify(matrix_form)).expand()\n",
    "final_matrix"
   ]
  },
  {
   "cell_type": "code",
   "execution_count": 24,
   "id": "2b652c1c-e6fa-4531-88f1-01d17653284d",
   "metadata": {},
   "outputs": [
    {
     "data": {
      "text/latex": [
       "$\\displaystyle \\left[\\begin{matrix}\\frac{1}{2} & 0 & 0 & \\frac{1}{2}\\\\0 & 0 & 0 & 0\\\\0 & 0 & 0 & 0\\\\\\frac{1}{2} & 0 & 0 & \\frac{1}{2}\\end{matrix}\\right]$"
      ],
      "text/plain": [
       "Matrix([\n",
       "[1/2, 0, 0, 1/2],\n",
       "[  0, 0, 0,   0],\n",
       "[  0, 0, 0,   0],\n",
       "[1/2, 0, 0, 1/2]])"
      ]
     },
     "execution_count": 24,
     "metadata": {},
     "output_type": "execute_result"
    }
   ],
   "source": [
    "# Bell state vector (|00⟩ + |11⟩)/√2 को Matrix के रूप में परिभाषित करें\n",
    "bell_vector = Matrix([[1], [0], [0], [1]])/sqrt(2)\n",
    "\n",
    "# Density matrix बनाएं (outer product)\n",
    "density_matrix = bell_vector * Dagger(bell_vector)\n",
    "\n",
    "# मैट्रिक्स को simplify करें और expand करें\n",
    "rho = density_matrix.expand()\n",
    "rho"
   ]
  },
  {
   "cell_type": "code",
   "execution_count": null,
   "id": "4c52e5de-7a84-40d3-8e72-cefe0c12baab",
   "metadata": {},
   "outputs": [
    {
     "data": {
      "text/latex": [
       "Realigned matrix: "
      ],
      "text/plain": [
       "<IPython.core.display.Latex object>"
      ]
     },
     "metadata": {},
     "output_type": "display_data"
    },
    {
     "data": {
      "text/latex": [
       "$$\\left[\\begin{matrix}\\frac{1}{2} & 0 & 0 & 0\\\\0 & \\frac{1}{2} & 0 & 0\\\\0 & 0 & \\frac{1}{2} & 0\\\\0 & 0 & 0 & \\frac{1}{2}\\end{matrix}\\right]$$"
      ],
      "text/plain": [
       "<IPython.core.display.Latex object>"
      ]
     },
     "metadata": {},
     "output_type": "display_data"
    },
    {
     "data": {
      "text/latex": [
       "Sum of singular values: "
      ],
      "text/plain": [
       "<IPython.core.display.Latex object>"
      ]
     },
     "metadata": {},
     "output_type": "display_data"
    }
   ],
   "source": [
    "# Execute the optimized function\n",
    "\n",
    "result = compute_entanglement_measures_symbolic(rho, dA, dB)\n",
    "result"
   ]
  },
  {
   "cell_type": "code",
   "execution_count": null,
   "id": "8adb5901-9507-445d-974c-2ecda2043a51",
   "metadata": {},
   "outputs": [],
   "source": [
    "ajeeb_matrix= sp.Matrix([\n",
    "    [0.5, 0, 0, 0],\n",
    "    [0, 0, 0.5, 0],\n",
    "    [0, 0.5, 0, 0],\n",
    "    [0, 0, 0, 0.5]\n",
    "])\n",
    "ajeeb_matrix\n"
   ]
  },
  {
   "cell_type": "code",
   "execution_count": null,
   "id": "50c249e6-84b1-40f7-ac64-f0de035ad1c3",
   "metadata": {},
   "outputs": [],
   "source": [
    "ajeeb_matrix.det()"
   ]
  },
  {
   "cell_type": "code",
   "execution_count": null,
   "id": "c37a425f-f20c-4d93-9fba-4ee158175b42",
   "metadata": {},
   "outputs": [],
   "source": [
    "1 / 16"
   ]
  }
 ],
 "metadata": {
  "kernelspec": {
   "display_name": "Python 3 (ipykernel)",
   "language": "python",
   "name": "python3"
  },
  "language_info": {
   "codemirror_mode": {
    "name": "ipython",
    "version": 3
   },
   "file_extension": ".py",
   "mimetype": "text/x-python",
   "name": "python",
   "nbconvert_exporter": "python",
   "pygments_lexer": "ipython3",
   "version": "3.12.7"
  }
 },
 "nbformat": 4,
 "nbformat_minor": 5
}
