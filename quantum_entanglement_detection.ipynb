{
 "cells": [
  {
   "cell_type": "code",
   "execution_count": 35,
   "id": "f1ebde23-281f-4776-af66-0d5673ee9144",
   "metadata": {},
   "outputs": [],
   "source": [
    "from sympy.physics.quantum.qubit import Qubit\n",
    "from sympy import Matrix, sqrt, symbols, simplify\n",
    "import sympy as sp\n",
    "from IPython.display import display, Latex\n",
    "from itertools import product"
   ]
  },
  {
   "cell_type": "code",
   "execution_count": 36,
   "id": "272a8237-d2eb-4c5c-8dec-8d368fad3740",
   "metadata": {},
   "outputs": [],
   "source": [
    "from sympy.physics.quantum import Ket, Bra, Dagger, represent, TensorProduct"
   ]
  },
  {
   "cell_type": "code",
   "execution_count": 10,
   "id": "c5f0d957-3c79-4f98-8320-46faa4450c82",
   "metadata": {},
   "outputs": [
    {
     "data": {
      "text/latex": [
       "$\\displaystyle α α^{\\dagger} {\\left|0\\right\\rangle } {\\left\\langle 0\\right|} + α β^{\\dagger} {\\left|0\\right\\rangle } {\\left\\langle 1\\right|} + β α^{\\dagger} {\\left|1\\right\\rangle } {\\left\\langle 0\\right|} + β β^{\\dagger} {\\left|1\\right\\rangle } {\\left\\langle 1\\right|}$"
      ],
      "text/plain": [
       "α*Dagger(α)*|0>*<0| + α*Dagger(β)*|0>*<1| + β*Dagger(α)*|1>*<0| + β*Dagger(β)*|1>*<1|"
      ]
     },
     "execution_count": 10,
     "metadata": {},
     "output_type": "execute_result"
    }
   ],
   "source": [
    "# Step 1: Symbols define karein\n",
    "alpha, beta = symbols('α β')\n",
    "\n",
    "# Step 2: Quantum state banayein (example: superposition state)\n",
    "psi = alpha * Qubit('0') + beta * Qubit('1')\n",
    "\n",
    "# Step 3: Density matrix calculate karein\n",
    "rho = psi * Dagger(psi)\n",
    "\n",
    "# Step 4: Matrix ko expand aur simplify karein\n",
    "density_matrix = rho.doit().expand()\n",
    "simplified_matrix = simplify(density_matrix)\n",
    "simplified_matrix"
   ]
  },
  {
   "cell_type": "code",
   "execution_count": 11,
   "id": "3bd16a35-32ad-4201-9ad4-c94f575bd673",
   "metadata": {},
   "outputs": [
    {
     "data": {
      "text/latex": [
       "$\\displaystyle \\frac{\\left({{\\left|0\\right\\rangle }}\\otimes {{\\left|0\\right\\rangle }} + {{\\left|1\\right\\rangle }}\\otimes {{\\left|1\\right\\rangle }}\\right) \\left({{\\left\\langle 0\\right|}}\\otimes {{\\left\\langle 0\\right|}} + {{\\left\\langle 1\\right|}}\\otimes {{\\left\\langle 1\\right|}}\\right)}{2}$"
      ],
      "text/plain": [
       "(|0>x|0> + |1>x|1>)*(<0|x<0| + <1|x<1|)/2"
      ]
     },
     "execution_count": 11,
     "metadata": {},
     "output_type": "execute_result"
    }
   ],
   "source": [
    "# Bell state (|00⟩ + |11⟩)/√2\n",
    "bell_state = (TensorProduct(Qubit('0'), Qubit('0')) + \n",
    "             TensorProduct(Qubit('1'), Qubit('1')))/sqrt(2)\n",
    "\n",
    "# Density matrix\n",
    "bell_rho = bell_state * Dagger(bell_state)\n",
    "bell_rho"
   ]
  },
  {
   "cell_type": "code",
   "execution_count": 34,
   "id": "53c3f027-e6a9-4b58-92b6-b65143c079df",
   "metadata": {},
   "outputs": [
    {
     "data": {
      "text/latex": [
       "$\\displaystyle \\left[\\begin{matrix}\\frac{1}{2} & 0 & 0 & \\frac{1}{2}\\\\0 & 0 & 0 & 0\\\\0 & 0 & 0 & 0\\\\\\frac{1}{2} & 0 & 0 & \\frac{1}{2}\\end{matrix}\\right]$"
      ],
      "text/plain": [
       "Matrix([\n",
       "[1/2, 0, 0, 1/2],\n",
       "[  0, 0, 0,   0],\n",
       "[  0, 0, 0,   0],\n",
       "[1/2, 0, 0, 1/2]])"
      ]
     },
     "execution_count": 34,
     "metadata": {},
     "output_type": "execute_result"
    }
   ],
   "source": [
    "matrix_form = represent(bell_rho.doit(), basis_set=[Qubit('0'), Qubit('1')])\n",
    "\n",
    "# Simplify करें और output को Matrix के रूप में प्राप्त करें\n",
    "final_matrix = Matrix(simplify(matrix_form)).expand()\n",
    "final_matrix"
   ]
  },
  {
   "cell_type": "code",
   "execution_count": 12,
   "id": "1b69cfe3-af08-4d0d-a05b-102e1a37f02c",
   "metadata": {},
   "outputs": [],
   "source": [
    "def permute_dims(tensor, perm):\n",
    "    \"\"\"\n",
    "    Permutes the dimensions of a sympy MutableDenseNDimArray according to the given permutation tuple.\n",
    "    \"\"\"\n",
    "    old_shape = tensor.shape\n",
    "    new_shape = tuple(old_shape[i] for i in perm)\n",
    "    new_tensor = sp.MutableDenseNDimArray.zeros(*new_shape)\n",
    "    for new_index in product(*[range(s) for s in new_shape]):\n",
    "        # Compute the corresponding old index.\n",
    "        old_index = [None] * len(new_index)\n",
    "        for new_axis, old_axis in enumerate(perm):\n",
    "            old_index[old_axis] = new_index[new_axis]\n",
    "        new_tensor[new_index] = tensor[tuple(old_index)]\n",
    "    return new_tensor\n"
   ]
  },
  {
   "cell_type": "code",
   "execution_count": 13,
   "id": "648a69b5-067a-47a2-a265-d8b4f8767b64",
   "metadata": {},
   "outputs": [],
   "source": [
    "def compute_singular_vals_sympy(M):\n",
    "    \"\"\"\n",
    "    Compute the singular values of matrix M by computing the eigenvalues of M^T*M.\n",
    "    \"\"\"\n",
    "    MTM = M.T * M\n",
    "    eig_dict = MTM.eigenvals()\n",
    "    singular_vals = []\n",
    "    for eigenvalue, multiplicity in eig_dict.items():\n",
    "        # Simplify the eigenvalue for a cleaner expression.\n",
    "        eigenvalue = sp.simplify(eigenvalue)\n",
    "        # Assume eigenvalues are nonnegative; take the square root.\n",
    "        s_val = sp.sqrt(eigenvalue)\n",
    "        singular_vals.extend([sp.simplify(s_val)] * multiplicity)\n",
    "    return singular_vals\n",
    "\n"
   ]
  },
  {
   "cell_type": "code",
   "execution_count": 24,
   "id": "0170d857-1d59-44b4-a693-4097c4388eba",
   "metadata": {},
   "outputs": [],
   "source": [
    "def compute_entanglement_measures_symbolic(rho, dA, dB, display_output=True):\n",
    "    \"\"\"\n",
    "    Computes entanglement measures for a bipartite system (dA x dB).\n",
    "    \"\"\"\n",
    "    N = dA * dB\n",
    "    assert rho.shape[0] == N, \"Product dA*dB must equal the matrix dimension.\"\n",
    "    \n",
    "    # if display_output:\n",
    "    #     display(Latex(r\"Density matrix $\\rho$: \"))\n",
    "    #     display(Latex(r\"$$\" + sp.latex(rho) + r\"$$\"))\n",
    "    \n",
    "    eig_dict_input = rho.eigenvals()\n",
    "    eigenvals_input = [sp.simplify(ev) for ev, mult in eig_dict_input.items() for _ in range(mult)]\n",
    "    # if display_output:\n",
    "    #     display(Latex(r\"Eigenvalues of $\\rho$: \"))\n",
    "    #     display(Latex(r\"$$\" + sp.latex(eigenvals_input) + r\"$$\"))\n",
    "    \n",
    "    # Partial Transpose\n",
    "    rho_tensor = sp.MutableDenseNDimArray(rho, (dA, dB, dA, dB))\n",
    "    rho_pt_tensor = permute_dims(rho_tensor, (0, 3, 2, 1))\n",
    "    rho_pt = sp.Matrix(rho_pt_tensor.reshape(N, N))\n",
    "    # if display_output:\n",
    "    #     display(Latex(r\"Partial transpose $\\rho^{T_B}$: \"))\n",
    "    #     display(Latex(r\"$$\" + sp.latex(rho_pt) + r\"$$\"))\n",
    "    \n",
    "    eig_dict_pt = rho_pt.eigenvals()\n",
    "    eigenvals_pt = [sp.simplify(ev) for ev, mult in eig_dict_pt.items() for _ in range(mult)]\n",
    "    # if display_output:\n",
    "    #     display(Latex(r\"Eigenvalues of $\\rho^{T_B}$: \"))\n",
    "    #     display(Latex(r\"$$\" + sp.latex(eigenvals_pt) + r\"$$\"))\n",
    "    \n",
    "    det_rho_pt = sp.simplify(rho_pt.det())\n",
    "    # if display_output:\n",
    "    #     display(Latex(r\"Determinant of $\\rho^{T_B}$: \"))\n",
    "    #     display(Latex(r\"$$\" + sp.latex(det_rho_pt) + r\"$$\"))\n",
    "    \n",
    "    # Realignment\n",
    "    rho_realigned_tensor = permute_dims(rho_tensor, (0, 2, 1, 3))\n",
    "    realigned = sp.Matrix(rho_realigned_tensor.reshape(dA*dA, dB*dB))\n",
    "    if display_output:\n",
    "        display(Latex(r\"Realigned matrix: \"))\n",
    "        display(Latex(r\"$$\" + sp.latex(realigned) + r\"$$\"))\n",
    "    \n",
    "    singular_vals = compute_singular_vals_sympy(realigned)\n",
    "    # if display_output:\n",
    "    #     display(Latex(r\"Singular values of the realigned matrix: \"))\n",
    "    #     display(Latex(r\"$$\" + sp.latex(singular_vals) + r\"$$\"))\n",
    "    \n",
    "    sum_sv = sp.simplify(sum(singular_vals))\n",
    "    if display_output:\n",
    "        display(Latex(r\"Sum of singular values: \"))\n",
    "        display(Latex(r\"$$\" + sp.latex(sum_sv) + r\"$$\"))\n",
    "    \n",
    "    # product_sv = sp.simplify(sp.Mul(*singular_vals))\n",
    "    # if display_output:\n",
    "    #     display(Latex(r\"Product of singular values: \"))\n",
    "    #     display(Latex(r\"$$\" + sp.latex(product_sv) + r\"$$\"))\n",
    "    \n",
    "    # det_realigned = sp.simplify(realigned.det())\n",
    "    # if display_output:\n",
    "    #     display(Latex(r\"Determinant of the realigned matrix: \"))\n",
    "    #     display(Latex(r\"$$\" + sp.latex(det_realigned) + r\"$$\"))\n",
    "    \n",
    "    # product_eigenvals = sp.simplify(sp.Mul(*eigenvals_pt))\n",
    "    # if display_output:\n",
    "    #     display(Latex(r\"Product of eigenvalues of $\\rho^{T_B}$: \"))\n",
    "    #     display(Latex(r\"$$\" + sp.latex(product_eigenvals) + r\"$$\"))\n",
    "    \n",
    "    #return eigenvals_input, eigenvals_pt, singular_vals, sum_sv, product_sv, product_eigenvals, det_rho_pt, det_realigned\n",
    "    return realigned\n"
   ]
  },
  {
   "cell_type": "code",
   "execution_count": 28,
   "id": "2b652c1c-e6fa-4531-88f1-01d17653284d",
   "metadata": {},
   "outputs": [
    {
     "data": {
      "text/latex": [
       "$\\displaystyle \\left[\\begin{matrix}\\frac{1}{2} & 0 & 0 & \\frac{1}{2}\\\\0 & 0 & 0 & 0\\\\0 & 0 & 0 & 0\\\\\\frac{1}{2} & 0 & 0 & \\frac{1}{2}\\end{matrix}\\right]$"
      ],
      "text/plain": [
       "Matrix([\n",
       "[1/2, 0, 0, 1/2],\n",
       "[  0, 0, 0,   0],\n",
       "[  0, 0, 0,   0],\n",
       "[1/2, 0, 0, 1/2]])"
      ]
     },
     "execution_count": 28,
     "metadata": {},
     "output_type": "execute_result"
    }
   ],
   "source": [
    "# Bell state vector (|00⟩ + |11⟩)/√2 को Matrix के रूप में परिभाषित करें\n",
    "bell_vector = Matrix([[1], [0], [0], [1]])/sqrt(2)\n",
    "\n",
    "# Density matrix बनाएं (outer product)\n",
    "density_matrix = bell_vector * Dagger(bell_vector)\n",
    "\n",
    "# मैट्रिक्स को simplify करें और expand करें\n",
    "rho = density_matrix.expand()\n",
    "rho"
   ]
  },
  {
   "cell_type": "code",
   "execution_count": 29,
   "id": "4c52e5de-7a84-40d3-8e72-cefe0c12baab",
   "metadata": {},
   "outputs": [
    {
     "data": {
      "text/latex": [
       "Realigned matrix: "
      ],
      "text/plain": [
       "<IPython.core.display.Latex object>"
      ]
     },
     "metadata": {},
     "output_type": "display_data"
    },
    {
     "data": {
      "text/latex": [
       "$$\\left[\\begin{matrix}\\frac{1}{2} & 0 & 0 & 0\\\\0 & \\frac{1}{2} & 0 & 0\\\\0 & 0 & \\frac{1}{2} & 0\\\\0 & 0 & 0 & \\frac{1}{2}\\end{matrix}\\right]$$"
      ],
      "text/plain": [
       "<IPython.core.display.Latex object>"
      ]
     },
     "metadata": {},
     "output_type": "display_data"
    },
    {
     "data": {
      "text/latex": [
       "Sum of singular values: "
      ],
      "text/plain": [
       "<IPython.core.display.Latex object>"
      ]
     },
     "metadata": {},
     "output_type": "display_data"
    },
    {
     "data": {
      "text/latex": [
       "$$2$$"
      ],
      "text/plain": [
       "<IPython.core.display.Latex object>"
      ]
     },
     "metadata": {},
     "output_type": "display_data"
    },
    {
     "data": {
      "text/latex": [
       "$\\displaystyle \\left[\\begin{matrix}\\frac{1}{2} & 0 & 0 & 0\\\\0 & \\frac{1}{2} & 0 & 0\\\\0 & 0 & \\frac{1}{2} & 0\\\\0 & 0 & 0 & \\frac{1}{2}\\end{matrix}\\right]$"
      ],
      "text/plain": [
       "Matrix([\n",
       "[1/2,   0,   0,   0],\n",
       "[  0, 1/2,   0,   0],\n",
       "[  0,   0, 1/2,   0],\n",
       "[  0,   0,   0, 1/2]])"
      ]
     },
     "execution_count": 29,
     "metadata": {},
     "output_type": "execute_result"
    }
   ],
   "source": [
    "# Execute the optimized function\n",
    "dA, dB = 2, 2\n",
    "result = compute_entanglement_measures_symbolic(rho, dA, dB)\n",
    "result"
   ]
  },
  {
   "cell_type": "code",
   "execution_count": 30,
   "id": "8adb5901-9507-445d-974c-2ecda2043a51",
   "metadata": {},
   "outputs": [
    {
     "data": {
      "text/latex": [
       "$\\displaystyle \\left[\\begin{matrix}0.5 & 0 & 0 & 0\\\\0 & 0 & 0.5 & 0\\\\0 & 0.5 & 0 & 0\\\\0 & 0 & 0 & 0.5\\end{matrix}\\right]$"
      ],
      "text/plain": [
       "Matrix([\n",
       "[0.5,   0,   0,   0],\n",
       "[  0,   0, 0.5,   0],\n",
       "[  0, 0.5,   0,   0],\n",
       "[  0,   0,   0, 0.5]])"
      ]
     },
     "execution_count": 30,
     "metadata": {},
     "output_type": "execute_result"
    }
   ],
   "source": [
    "ajeeb_matrix= sp.Matrix([\n",
    "    [0.5, 0, 0, 0],\n",
    "    [0, 0, 0.5, 0],\n",
    "    [0, 0.5, 0, 0],\n",
    "    [0, 0, 0, 0.5]\n",
    "])\n",
    "ajeeb_matrix\n"
   ]
  },
  {
   "cell_type": "code",
   "execution_count": 31,
   "id": "50c249e6-84b1-40f7-ac64-f0de035ad1c3",
   "metadata": {},
   "outputs": [
    {
     "data": {
      "text/latex": [
       "$\\displaystyle -0.0625$"
      ],
      "text/plain": [
       "-0.0625000000000000"
      ]
     },
     "execution_count": 31,
     "metadata": {},
     "output_type": "execute_result"
    }
   ],
   "source": [
    "ajeeb_matrix.det()"
   ]
  },
  {
   "cell_type": "code",
   "execution_count": 23,
   "id": "c37a425f-f20c-4d93-9fba-4ee158175b42",
   "metadata": {},
   "outputs": [
    {
     "data": {
      "text/plain": [
       "0.0625"
      ]
     },
     "execution_count": 23,
     "metadata": {},
     "output_type": "execute_result"
    }
   ],
   "source": [
    "1 / 16"
   ]
  },
  {
   "cell_type": "code",
   "execution_count": null,
   "id": "cb421224-9684-4455-85d7-19d08f28493e",
   "metadata": {},
   "outputs": [],
   "source": []
  }
 ],
 "metadata": {
  "kernelspec": {
   "display_name": "Python 3 (ipykernel)",
   "language": "python",
   "name": "python3"
  },
  "language_info": {
   "codemirror_mode": {
    "name": "ipython",
    "version": 3
   },
   "file_extension": ".py",
   "mimetype": "text/x-python",
   "name": "python",
   "nbconvert_exporter": "python",
   "pygments_lexer": "ipython3",
   "version": "3.12.7"
  }
 },
 "nbformat": 4,
 "nbformat_minor": 5
}
