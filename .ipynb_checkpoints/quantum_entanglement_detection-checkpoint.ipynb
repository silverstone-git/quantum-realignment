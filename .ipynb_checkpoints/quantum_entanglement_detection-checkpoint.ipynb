{
 "cells": [
  {
   "cell_type": "code",
   "execution_count": 1,
   "id": "f1ebde23-281f-4776-af66-0d5673ee9144",
   "metadata": {},
   "outputs": [],
   "source": [
    "from sympy.physics.quantum.qubit import Qubit\n",
    "from sympy import Matrix, sqrt, symbols, simplify\n",
    "import sympy as sp\n",
    "from IPython.display import display, Latex\n",
    "from itertools import product"
   ]
  },
  {
   "cell_type": "code",
   "execution_count": 2,
   "id": "272a8237-d2eb-4c5c-8dec-8d368fad3740",
   "metadata": {},
   "outputs": [],
   "source": [
    "from sympy.physics.quantum import Ket, Bra, Dagger, represent, TensorProduct"
   ]
  },
  {
   "cell_type": "code",
   "execution_count": 3,
   "id": "0eb6c08e-d9f5-4786-a18b-8be39a56f458",
   "metadata": {},
   "outputs": [],
   "source": [
    "from sympy.physics.matrices import msigma"
   ]
  },
  {
   "cell_type": "code",
   "execution_count": 4,
   "id": "fb7cd078-21f0-4e98-bc28-22f3f5cb564a",
   "metadata": {},
   "outputs": [],
   "source": [
    "import random\n",
    "import math\n",
    "import cmath"
   ]
  },
  {
   "cell_type": "code",
   "execution_count": 5,
   "id": "e78ec723-4cdf-4ae9-9d6a-a2531203c2ef",
   "metadata": {},
   "outputs": [],
   "source": [
    "import numpy as np"
   ]
  },
  {
   "cell_type": "code",
   "execution_count": 6,
   "id": "36f66757-7fb1-4bd4-b4d7-874ca5532dd8",
   "metadata": {},
   "outputs": [],
   "source": [
    "import itertools"
   ]
  },
  {
   "cell_type": "code",
   "execution_count": 7,
   "id": "c5f0d957-3c79-4f98-8320-46faa4450c82",
   "metadata": {},
   "outputs": [
    {
     "data": {
      "text/latex": [
       "$\\displaystyle α α^{\\dagger} {\\left|0\\right\\rangle } {\\left\\langle 0\\right|} + α β^{\\dagger} {\\left|0\\right\\rangle } {\\left\\langle 1\\right|} + β α^{\\dagger} {\\left|1\\right\\rangle } {\\left\\langle 0\\right|} + β β^{\\dagger} {\\left|1\\right\\rangle } {\\left\\langle 1\\right|}$"
      ],
      "text/plain": [
       "α*Dagger(α)*|0>*<0| + α*Dagger(β)*|0>*<1| + β*Dagger(α)*|1>*<0| + β*Dagger(β)*|1>*<1|"
      ]
     },
     "execution_count": 7,
     "metadata": {},
     "output_type": "execute_result"
    }
   ],
   "source": [
    "# Step 1: Symbols define karein\n",
    "alpha, beta = symbols('α β')\n",
    "\n",
    "# Step 2: Quantum state banayein (example: superposition state)\n",
    "psi = alpha * Qubit('0') + beta * Qubit('1')\n",
    "\n",
    "# Step 3: Density matrix calculate karein\n",
    "rho = psi * Dagger(psi)\n",
    "\n",
    "# Step 4: Matrix ko expand aur simplify karein\n",
    "density_matrix = rho.doit().expand()\n",
    "simplified_matrix = simplify(density_matrix)\n",
    "simplified_matrix"
   ]
  },
  {
   "cell_type": "code",
   "execution_count": 8,
   "id": "075b5e96-6425-4156-b6e4-37acf3a7e54a",
   "metadata": {},
   "outputs": [
    {
     "data": {
      "text/latex": [
       "$\\displaystyle \\left[\\begin{matrix}α α^{\\dagger} & α β^{\\dagger}\\\\β α^{\\dagger} & β β^{\\dagger}\\end{matrix}\\right]$"
      ],
      "text/plain": [
       "Matrix([\n",
       "[α*Dagger(α), α*Dagger(β)],\n",
       "[β*Dagger(α), β*Dagger(β)]])"
      ]
     },
     "execution_count": 8,
     "metadata": {},
     "output_type": "execute_result"
    }
   ],
   "source": [
    "res = represent(simplified_matrix.doit(), basis_set=[Qubit('0'), Qubit('1')])\n",
    "res\n",
    "\n",
    "# this is for one qubit, lets do for 2"
   ]
  },
  {
   "cell_type": "code",
   "execution_count": 9,
   "id": "b3c7d4a7-7cfd-4047-b02a-92b4d9b2a05a",
   "metadata": {},
   "outputs": [],
   "source": [
    "def get_rho_bipartite(alpha, beta, gamma, delta, normalize= True):\n",
    "    psi = alpha * TensorProduct(Qubit(0), Qubit(0)) + beta * TensorProduct(Qubit(0), Qubit(1)) + gamma * TensorProduct(Qubit(1), Qubit(0)) + delta * TensorProduct(Qubit(1), Qubit(1))\n",
    "    if normalize:\n",
    "        norm_sq = (alpha * sp.conjugate(alpha) +\n",
    "               beta * sp.conjugate(beta) +\n",
    "               gamma * sp.conjugate(gamma) +\n",
    "               delta * sp.conjugate(delta))\n",
    "        norm = sp.sqrt(norm_sq)\n",
    "        psi= psi / norm\n",
    "    \n",
    "    rho = psi * Dagger(psi)\n",
    "    density_matrix = rho.doit().expand()\n",
    "    simplified_matrix = simplify(density_matrix)\n",
    "    print(simplified_matrix)\n",
    "    \n",
    "    rho = represent(simplified_matrix.doit(), basis_set=[Qubit('0'), Qubit('1')])\n",
    "    return rho"
   ]
  },
  {
   "cell_type": "code",
   "execution_count": 10,
   "id": "ac2153d6-004f-483c-8352-83b01f76d4a0",
   "metadata": {},
   "outputs": [],
   "source": [
    "dA, dB = 2, 2"
   ]
  },
  {
   "cell_type": "code",
   "execution_count": 11,
   "id": "1b69cfe3-af08-4d0d-a05b-102e1a37f02c",
   "metadata": {},
   "outputs": [],
   "source": [
    "def permute_dims(tensor, perm):\n",
    "    \"\"\"\n",
    "    Permutes the dimensions of a sympy MutableDenseNDimArray according to the given permutation tuple.\n",
    "    \"\"\"\n",
    "    old_shape = tensor.shape\n",
    "    new_shape = tuple(old_shape[i] for i in perm)\n",
    "    new_tensor = sp.MutableDenseNDimArray.zeros(*new_shape)\n",
    "    for new_index in product(*[range(s) for s in new_shape]):\n",
    "        # Compute the corresponding old index.\n",
    "        old_index = [None] * len(new_index)\n",
    "        for new_axis, old_axis in enumerate(perm):\n",
    "            old_index[old_axis] = new_index[new_axis]\n",
    "        new_tensor[new_index] = tensor[tuple(old_index)]\n",
    "    return new_tensor\n"
   ]
  },
  {
   "cell_type": "code",
   "execution_count": 12,
   "id": "0170d857-1d59-44b4-a693-4097c4388eba",
   "metadata": {},
   "outputs": [],
   "source": [
    "def realign(rho, dA, dB, display_output=True):\n",
    "    \"\"\"\n",
    "    realigns the given matrix\n",
    "    \"\"\"\n",
    "    N = dA * dB\n",
    "    assert rho.shape[0] == N, \"Product dA*dB must equal the matrix dimension.\"\n",
    "    \n",
    "    if display_output:\n",
    "        display(Latex(r\"Density matrix $\\rho$: \"))\n",
    "        display(Latex(r\"$$\" + sp.latex(rho) + r\"$$\"))\n",
    "    \n",
    "    # Partial Transpose\n",
    "    rho_tensor = sp.MutableDenseNDimArray(rho, (dA, dB, dA, dB))\n",
    "    if display_output:\n",
    "        display(Latex(r\"Partial transpose $\\rho^{T_B}$: \"))\n",
    "        display(Latex(r\"$$\" + sp.latex(rho_tensor) + r\"$$\"))\n",
    "    \n",
    "    # Realignment\n",
    "    rho_realigned_tensor = permute_dims(rho_tensor, (0, 2, 1, 3))\n",
    "    realigned = sp.Matrix(rho_realigned_tensor.reshape(dA*dA, dB*dB))\n",
    "    if display_output:\n",
    "        display(Latex(r\"Realigned matrix: \"))\n",
    "        display(Latex(r\"$$\" + sp.latex(realigned) + r\"$$\"))\n",
    "    \n",
    "    return realigned\n"
   ]
  },
  {
   "cell_type": "code",
   "execution_count": 13,
   "id": "39f9e2ae-82b5-45bf-ac05-d828272b5ef0",
   "metadata": {},
   "outputs": [],
   "source": [
    "#def generate_alpha_beta_gamma_delta():\n",
    "    # Generate four random complex numbers using a Gaussian distribution.\n",
    "    # Using a Gaussian can help ensure a uniform distribution on the complex sphere.\n",
    "    #a = random.gauss(0,1) + 1j * random.gauss(0,1)\n",
    "    #b = random.gauss(0,1) + 1j * random.gauss(0,1)\n",
    "    #c = random.gauss(0,1) + 1j * random.gauss(0,1)\n",
    "    #d = random.gauss(0,1) + 1j * random.gauss(0,1)\n",
    "    \n",
    "    # Normalize the state so that |α|^2 + |β|^2 + |γ|^2 + |δ|^2 = 1\n",
    "    #norm = math.sqrt(abs(a)**2 + abs(b)**2 + abs(c)**2 + abs(d)**2)\n",
    "    #alpha = a / norm\n",
    "    #beta  = b / norm\n",
    "    #gamma = c / norm\n",
    "    #delta = d / norm\n",
    "\n",
    "    #return alpha, beta, gamma, delta"
   ]
  },
  {
   "cell_type": "code",
   "execution_count": 14,
   "id": "f09a64f1-3421-4b30-b753-ca606b9afef1",
   "metadata": {},
   "outputs": [],
   "source": [
    "def generate_1_normalized_real(n):\n",
    "    # Generate n random real numbers from a Gaussian distribution\n",
    "    random_numbers= [random.gauss(0, 1) for i in range(n)]\n",
    "    \n",
    "    # Compute the norm: sqrt(a^2 + b^2 + c^2 + d^2)\n",
    "    sqsum= sum(map(lambda x: x**2, random_numbers))\n",
    "    norm= sqrt(sqsum)\n",
    "    return tuple(map(lambda x: x / norm, random_numbers))"
   ]
  },
  {
   "cell_type": "code",
   "execution_count": 15,
   "id": "30b9d6bc-2f39-4224-a010-63d30cdb3095",
   "metadata": {},
   "outputs": [],
   "source": [
    "def get_chsh_score(t_matrix, subsdict= None):\n",
    "    no_of_ss_to_be_considered= 2\n",
    "    \n",
    "    if subsdict is not None:\n",
    "        t_matrix= t_matrix.subs(subsdict)\n",
    "        \n",
    "    t_symm= t_matrix.T * t_matrix\n",
    "    ssquared_dict= t_symm.eigenvals()\n",
    "    print(\"t symm eigs: \", ssquared_dict)\n",
    "    ssquared_list= []\n",
    "    for ssquared, multiplicity in ssquared_dict.items():\n",
    "        ssquared_list.extend([sp.simplify(ssquared)] * multiplicity)\n",
    "\n",
    "    if subsdict is not None:\n",
    "        greatest= sorted(ssquared_list, reverse=True)[:no_of_ss_to_be_considered]\n",
    "    else:\n",
    "        greatest= ssquared_list\n",
    "    return 2* sqrt(sum(greatest))"
   ]
  },
  {
   "cell_type": "code",
   "execution_count": 16,
   "id": "20e8ca60-a113-46bf-88ac-f8d558bf0ffe",
   "metadata": {},
   "outputs": [],
   "source": [
    "def get_realignment_score(rhotilde, subsdict= None):\n",
    "    #if subsdict is not None:\n",
    "    #    U, S, V= rhotilde.singular_value_decomposition()\n",
    "    #    return sum([sp.re(S[i, i]) for i in range(min(S.rows, S.cols))])\n",
    "    #else:\n",
    "    rtr= rhotilde.H * rhotilde\n",
    "    print(\"rhotilde dagger rhotilde done\", rtr)\n",
    "    eigdict= rtr.eigenvals()\n",
    "    print(\"eigdict found:\", eigdict)\n",
    "    svals_multiplicity_times= [[sp.simplify(sp.sqrt(s_val))] * multiplicity for s_val, multiplicity in eigdict.items()]\n",
    "    return sum(itertools.chain.from_iterable(svals_multiplicity_times))\n",
    "        \n",
    "    "
   ]
  },
  {
   "cell_type": "code",
   "execution_count": 54,
   "id": "8d70a3fe-3e8e-4635-ab4d-a2de3a56a704",
   "metadata": {},
   "outputs": [],
   "source": [
    "def sample_scores(rhotilde, t_matrix= None, subsdict= None, no_of_random_samples= 20):\n",
    "    res= {}\n",
    "    for i in range(no_of_random_samples):\n",
    "        if subsdict is not None:\n",
    "            rhotilde= simplify(rhotilde.subs(subsdict))\n",
    "            new_values= generate_1_normalized_real(len(subsdict))\n",
    "            subsdict= {key: new_val for key, new_val in zip(subsdict.keys(), new_values)}\n",
    "        #try:\n",
    "        realignment_score= get_realignment_score(rhotilde, subsdict)\n",
    "        print(\"got realignment score: \", realignment_score)\n",
    "        out= [sp.re(realignment_score)]\n",
    "        \n",
    "        if t_matrix is not None:\n",
    "            chsh_score= get_chsh_score(t_matrix, subsdict)\n",
    "            out.append(chsh_score)\n",
    "\n",
    "        if subsdict is not None:\n",
    "            res[str(subsdict.values())]= out\n",
    "        else:\n",
    "            res[str(i + 1)]= out\n",
    "            \n",
    "        #except:\n",
    "            #print(\"some problem\")\n",
    "    return res\n",
    "    "
   ]
  },
  {
   "cell_type": "code",
   "execution_count": 18,
   "id": "fccb2585-90a4-41e3-af95-7aa19f9eabf7",
   "metadata": {},
   "outputs": [
    {
     "name": "stdout",
     "output_type": "stream",
     "text": [
      "α*Dagger(α)*|0>x|0>*<0|x<0| + α*Dagger(β)*|0>x|0>*<0|x<1| + α*Dagger(γ)*|0>x|0>*<1|x<0| + α*Dagger(δ)*|0>x|0>*<1|x<1| + β*Dagger(α)*|0>x|1>*<0|x<0| + β*Dagger(β)*|0>x|1>*<0|x<1| + β*Dagger(γ)*|0>x|1>*<1|x<0| + β*Dagger(δ)*|0>x|1>*<1|x<1| + γ*Dagger(α)*|1>x|0>*<0|x<0| + γ*Dagger(β)*|1>x|0>*<0|x<1| + γ*Dagger(γ)*|1>x|0>*<1|x<0| + γ*Dagger(δ)*|1>x|0>*<1|x<1| + δ*Dagger(α)*|1>x|1>*<0|x<0| + δ*Dagger(β)*|1>x|1>*<0|x<1| + δ*Dagger(γ)*|1>x|1>*<1|x<0| + δ*Dagger(δ)*|1>x|1>*<1|x<1|\n"
     ]
    },
    {
     "data": {
      "text/latex": [
       "Density matrix $\\rho$: "
      ],
      "text/plain": [
       "<IPython.core.display.Latex object>"
      ]
     },
     "metadata": {},
     "output_type": "display_data"
    },
    {
     "data": {
      "text/latex": [
       "$$\\left[\\begin{matrix}α α^{\\dagger} & α β^{\\dagger} & α γ^{\\dagger} & α δ^{\\dagger}\\\\β α^{\\dagger} & β β^{\\dagger} & β γ^{\\dagger} & β δ^{\\dagger}\\\\γ α^{\\dagger} & γ β^{\\dagger} & γ γ^{\\dagger} & γ δ^{\\dagger}\\\\δ α^{\\dagger} & δ β^{\\dagger} & δ γ^{\\dagger} & δ δ^{\\dagger}\\end{matrix}\\right]$$"
      ],
      "text/plain": [
       "<IPython.core.display.Latex object>"
      ]
     },
     "metadata": {},
     "output_type": "display_data"
    },
    {
     "data": {
      "text/latex": [
       "Partial transpose $\\rho^{T_B}$: "
      ],
      "text/plain": [
       "<IPython.core.display.Latex object>"
      ]
     },
     "metadata": {},
     "output_type": "display_data"
    },
    {
     "data": {
      "text/latex": [
       "$$\\left[\\begin{matrix}\\left[\\begin{matrix}α α^{\\dagger} & α β^{\\dagger}\\\\α γ^{\\dagger} & α δ^{\\dagger}\\end{matrix}\\right] & \\left[\\begin{matrix}β α^{\\dagger} & β β^{\\dagger}\\\\β γ^{\\dagger} & β δ^{\\dagger}\\end{matrix}\\right]\\\\\\left[\\begin{matrix}γ α^{\\dagger} & γ β^{\\dagger}\\\\γ γ^{\\dagger} & γ δ^{\\dagger}\\end{matrix}\\right] & \\left[\\begin{matrix}δ α^{\\dagger} & δ β^{\\dagger}\\\\δ γ^{\\dagger} & δ δ^{\\dagger}\\end{matrix}\\right]\\end{matrix}\\right]$$"
      ],
      "text/plain": [
       "<IPython.core.display.Latex object>"
      ]
     },
     "metadata": {},
     "output_type": "display_data"
    },
    {
     "data": {
      "text/latex": [
       "Realigned matrix: "
      ],
      "text/plain": [
       "<IPython.core.display.Latex object>"
      ]
     },
     "metadata": {},
     "output_type": "display_data"
    },
    {
     "data": {
      "text/latex": [
       "$$\\left[\\begin{matrix}α α^{\\dagger} & α β^{\\dagger} & β α^{\\dagger} & β β^{\\dagger}\\\\α γ^{\\dagger} & α δ^{\\dagger} & β γ^{\\dagger} & β δ^{\\dagger}\\\\γ α^{\\dagger} & γ β^{\\dagger} & δ α^{\\dagger} & δ β^{\\dagger}\\\\γ γ^{\\dagger} & γ δ^{\\dagger} & δ γ^{\\dagger} & δ δ^{\\dagger}\\end{matrix}\\right]$$"
      ],
      "text/plain": [
       "<IPython.core.display.Latex object>"
      ]
     },
     "metadata": {},
     "output_type": "display_data"
    }
   ],
   "source": [
    "alpha, beta, gamma, delta= symbols('α β γ δ')\n",
    "realigned = realign(get_rho_bipartite(alpha, beta, gamma, delta, normalize= False), dA, dB, True)"
   ]
  },
  {
   "cell_type": "code",
   "execution_count": 19,
   "id": "2d1d29bc-de95-4f55-a3c6-fde66d2ad0c5",
   "metadata": {},
   "outputs": [
    {
     "name": "stdout",
     "output_type": "stream",
     "text": [
      "rhotilde dagger rhotilde done Matrix([[0.782839879156570, 0.281774142629374, 0.281774142629374, 0.101421337323874], [0.281774142629374, 0.101942511692485, 0.101421337323874, 0.0366930257316260], [0.281774142629374, 0.101421337323874, 0.101942511692485, 0.0366930257316260], [0.101421337323874, 0.0366930257316260, 0.0366930257316260, 0.0132750974584600]])\n",
      "eigdict found: {0.000521174368611599: 1, 0.998957379356559: 1, 0.000521174368611575: 1, 2.71906217541013e-7: 1}\n",
      "got realignment score:  1.04565848743056\n"
     ]
    },
    {
     "data": {
      "text/plain": [
       "{'dict_values([0.680441473139904, -0.535755164848142, -0.329855570855895, -0.375714129818228])': [1.04565848743056]}"
      ]
     },
     "execution_count": 19,
     "metadata": {},
     "output_type": "execute_result"
    }
   ],
   "source": [
    "a, b, c, d= generate_1_normalized_real(4)\n",
    "subsdict= {alpha: a, beta: b, gamma: c, delta: d}\n",
    "sample_scores(realigned, subsdict= subsdict, no_of_random_samples= 1)"
   ]
  },
  {
   "cell_type": "markdown",
   "id": "03379fe3-581b-4314-ba8b-294457578597",
   "metadata": {},
   "source": [
    "Comparing CHSH value and realignment score for an X-state"
   ]
  },
  {
   "cell_type": "code",
   "execution_count": 20,
   "id": "951aca2b-aba7-41e0-8293-b1a0c65307d9",
   "metadata": {},
   "outputs": [
    {
     "data": {
      "text/latex": [
       "$\\displaystyle \\left[\\begin{matrix}0.5 & 0 & 0 & 0.5\\\\0 & 0 & 0 & 0\\\\0 & 0 & 0 & 0\\\\0.5 & 0 & 0 & 0.5\\end{matrix}\\right]$"
      ],
      "text/plain": [
       "Matrix([\n",
       "[0.5, 0, 0, 0.5],\n",
       "[  0, 0, 0,   0],\n",
       "[  0, 0, 0,   0],\n",
       "[0.5, 0, 0, 0.5]])"
      ]
     },
     "execution_count": 20,
     "metadata": {},
     "output_type": "execute_result"
    }
   ],
   "source": [
    "#rho= Matrix([[1, 0, 0, 1], [0, 1, 1, 0], [0, 1, 1, 0], [1, 0, 0, 1]])\n",
    "rho= Matrix([[1/2, 0, 0, 1/2], [0, 0, 0, 0], [0, 0, 0, 0], [1/2, 0, 0, 1/2]])\n",
    "rho"
   ]
  },
  {
   "cell_type": "code",
   "execution_count": 21,
   "id": "f15e9a38-2956-4c8d-9b26-35f962278379",
   "metadata": {},
   "outputs": [
    {
     "data": {
      "text/latex": [
       "$\\displaystyle \\left[\\begin{matrix}0.5 & 0 & 0 & 0\\\\0 & 0.5 & 0 & 0\\\\0 & 0 & 0.5 & 0\\\\0 & 0 & 0 & 0.5\\end{matrix}\\right]$"
      ],
      "text/plain": [
       "Matrix([\n",
       "[0.5,   0,   0,   0],\n",
       "[  0, 0.5,   0,   0],\n",
       "[  0,   0, 0.5,   0],\n",
       "[  0,   0,   0, 0.5]])"
      ]
     },
     "execution_count": 21,
     "metadata": {},
     "output_type": "execute_result"
    }
   ],
   "source": [
    "realigned = realign(rho, dA, dB, False)\n",
    "realigned"
   ]
  },
  {
   "cell_type": "code",
   "execution_count": 22,
   "id": "ca8a3e2c-3b85-4fe8-bd0b-20594a157765",
   "metadata": {},
   "outputs": [],
   "source": [
    "t_nm = lambda n, m, rho: (rho * TensorProduct(msigma(n), msigma(m))).trace()\n",
    "make_t_matrix= lambda rho: Matrix([[t_nm(n, m, rho) for m in range(1, 4)] for n in range(1, 4)])"
   ]
  },
  {
   "cell_type": "code",
   "execution_count": 23,
   "id": "6d489ab1-67fa-4d4d-9606-6dc180146ffa",
   "metadata": {},
   "outputs": [
    {
     "data": {
      "text/latex": [
       "$\\displaystyle \\left[\\begin{matrix}1.0 & 0 & 0\\\\0 & -1.0 & 0\\\\0 & 0 & 1.0\\end{matrix}\\right]$"
      ],
      "text/plain": [
       "Matrix([\n",
       "[1.0,    0,   0],\n",
       "[  0, -1.0,   0],\n",
       "[  0,    0, 1.0]])"
      ]
     },
     "execution_count": 23,
     "metadata": {},
     "output_type": "execute_result"
    }
   ],
   "source": [
    "t_matrix= make_t_matrix(rho)\n",
    "t_matrix"
   ]
  },
  {
   "cell_type": "code",
   "execution_count": 24,
   "id": "bf1c9faa-96f3-422a-9d60-9cd4879377fd",
   "metadata": {},
   "outputs": [
    {
     "name": "stdout",
     "output_type": "stream",
     "text": [
      "rhotilde dagger rhotilde done Matrix([[0.250000000000000, 0, 0, 0], [0, 0.250000000000000, 0, 0], [0, 0, 0.250000000000000, 0], [0, 0, 0, 0.250000000000000]])\n",
      "eigdict found: {0.250000000000000: 4}\n",
      "got realignment score:  2.00000000000000\n",
      "t symm eigs:  {1.00000000000000: 3}\n"
     ]
    },
    {
     "data": {
      "text/plain": [
       "{'1': [2.00000000000000, 3.46410161513775]}"
      ]
     },
     "execution_count": 24,
     "metadata": {},
     "output_type": "execute_result"
    }
   ],
   "source": [
    "sample_scores(realigned, t_matrix= t_matrix, no_of_random_samples= 1)"
   ]
  },
  {
   "cell_type": "code",
   "execution_count": 25,
   "id": "52c3422a-48db-4b76-a7ff-e15c8bb62242",
   "metadata": {},
   "outputs": [
    {
     "name": "stdout",
     "output_type": "stream",
     "text": [
      "rhotilde dagger rhotilde done Matrix([[1/8, 0, 0, 1/8], [0, 1/8, 1/8, 0], [0, 1/8, 1/8, 0], [1/8, 0, 0, 1/8]])\n",
      "eigdict found: {1/4: 2, 0: 2}\n",
      "got realignment score:  1\n",
      "t symm eigs:  {16/Trace(Matrix([\n",
      "[1, 0, 0, 1],\n",
      "[0, 1, 1, 0],\n",
      "[0, 1, 1, 0],\n",
      "[1, 0, 0, 1]]))**2: 1, 0: 2}\n"
     ]
    },
    {
     "data": {
      "text/plain": [
       "{'dict_values([])': [1, 2]}"
      ]
     },
     "execution_count": 25,
     "metadata": {},
     "output_type": "execute_result"
    }
   ],
   "source": [
    "rho= Matrix([[1, 0, 0, 1], [0, 1, 1, 0], [0, 1, 1, 0], [1, 0, 0, 1]])\n",
    "rho= rho / sp.Trace(rho)\n",
    "realigned = realign(rho, dA, dB, False)\n",
    "t_matrix= make_t_matrix(rho)\n",
    "sample_scores(realigned, t_matrix= t_matrix, no_of_random_samples= 1, subsdict= {})"
   ]
  },
  {
   "cell_type": "code",
   "execution_count": 26,
   "id": "c5be0f44-4ee2-4662-8076-77b207a7406c",
   "metadata": {},
   "outputs": [
    {
     "name": "stdout",
     "output_type": "stream",
     "text": [
      "0.157784011220196*|0>x|0>*<0|x<0| + 0.252454417952314*|0>x|0>*<0|x<1| + 0.210378681626928*|0>x|0>*<1|x<0| + 0.157784011220196*|0>x|0>*<1|x<1| + 0.252454417952314*|0>x|1>*<0|x<0| + 0.403927068723703*|0>x|1>*<0|x<1| + 0.336605890603085*|0>x|1>*<1|x<0| + 0.252454417952314*|0>x|1>*<1|x<1| + 0.210378681626928*|1>x|0>*<0|x<0| + 0.336605890603085*|1>x|0>*<0|x<1| + 0.280504908835905*|1>x|0>*<1|x<0| + 0.210378681626928*|1>x|0>*<1|x<1| + 0.157784011220196*|1>x|1>*<0|x<0| + 0.252454417952314*|1>x|1>*<0|x<1| + 0.210378681626928*|1>x|1>*<1|x<0| + 0.157784011220196*|1>x|1>*<1|x<1|\n",
      "rhotilde dagger rhotilde done Matrix([[0.192097177443943, 0.202854619380804, 0.202854619380804, 0.214214478066129], [0.202854619380804, 0.246191742612158, 0.214214478066129, 0.259978480198438], [0.202854619380804, 0.214214478066129, 0.246191742612158, 0.259978480198438], [0.214214478066129, 0.259978480198438, 0.259978480198438, 0.315519337331741]])\n",
      "eigdict found: {0.0319772645460286: 1, 0.934951783012561: 1, 0.00109368789538205: 1, 0.0319772645460286: 1}\n",
      "got realignment score:  1.35764375876578\n",
      "t symm eigs:  {1.00000000000000: 1, 0.127909058184114: 1, 0.127909058184114: 1}\n",
      "{'dict_values([])': [1.35764375876578, 2.12406125917697]}\n"
     ]
    }
   ],
   "source": [
    "a, b, c, d= (0.5, 4/5, 2/3, 0.5)\n",
    "rho= get_rho_bipartite(0.5, 4/5, 2/3, 0.5)\n",
    "realigned = realign(rho, dA, dB, False)\n",
    "t_matrix= make_t_matrix(rho)\n",
    "score= sample_scores(realigned, t_matrix= t_matrix, no_of_random_samples= 1, subsdict= {})\n",
    "print(score)"
   ]
  },
  {
   "cell_type": "code",
   "execution_count": 27,
   "id": "cf18b8bf-a6d4-4a2b-8a12-9385930d0769",
   "metadata": {},
   "outputs": [
    {
     "name": "stdout",
     "output_type": "stream",
     "text": [
      "1.35764375876578\n",
      "2.12406125917697\n"
     ]
    }
   ],
   "source": [
    "print(list(score.values())[0][0].evalf())\n",
    "print(list(score.values())[0][1].evalf())"
   ]
  },
  {
   "cell_type": "markdown",
   "id": "d16c3120-e0f9-447e-b100-f1e8570d681c",
   "metadata": {},
   "source": [
    "# Making the Density matrix in Bell basis for bipartite system, to do realignment on it later"
   ]
  },
  {
   "cell_type": "code",
   "execution_count": 28,
   "id": "d659a835-a433-4ae4-bbb3-33816ce5798b",
   "metadata": {},
   "outputs": [
    {
     "name": "stdout",
     "output_type": "stream",
     "text": [
      "α*Dagger(α)*|0>x|0>*<0|x<0| + α*Dagger(β)*|0>x|0>*<0|x<1| + α*Dagger(γ)*|0>x|0>*<1|x<0| + α*Dagger(δ)*|0>x|0>*<1|x<1| + β*Dagger(α)*|0>x|1>*<0|x<0| + β*Dagger(β)*|0>x|1>*<0|x<1| + β*Dagger(γ)*|0>x|1>*<1|x<0| + β*Dagger(δ)*|0>x|1>*<1|x<1| + γ*Dagger(α)*|1>x|0>*<0|x<0| + γ*Dagger(β)*|1>x|0>*<0|x<1| + γ*Dagger(γ)*|1>x|0>*<1|x<0| + γ*Dagger(δ)*|1>x|0>*<1|x<1| + δ*Dagger(α)*|1>x|1>*<0|x<0| + δ*Dagger(β)*|1>x|1>*<0|x<1| + δ*Dagger(γ)*|1>x|1>*<1|x<0| + δ*Dagger(δ)*|1>x|1>*<1|x<1|\n"
     ]
    }
   ],
   "source": [
    "alpha, beta, gamma, delta= symbols('α β γ δ')\n",
    "rho= get_rho_bipartite(alpha, beta, gamma, delta, normalize= False)"
   ]
  },
  {
   "cell_type": "code",
   "execution_count": 29,
   "id": "7309feaa-78b3-4b98-92c4-adae4713895c",
   "metadata": {},
   "outputs": [
    {
     "data": {
      "text/latex": [
       "$\\displaystyle \\left[\\begin{matrix}α α^{\\dagger} & α β^{\\dagger} & α γ^{\\dagger} & α δ^{\\dagger}\\\\β α^{\\dagger} & β β^{\\dagger} & β γ^{\\dagger} & β δ^{\\dagger}\\\\γ α^{\\dagger} & γ β^{\\dagger} & γ γ^{\\dagger} & γ δ^{\\dagger}\\\\δ α^{\\dagger} & δ β^{\\dagger} & δ γ^{\\dagger} & δ δ^{\\dagger}\\end{matrix}\\right]$"
      ],
      "text/plain": [
       "Matrix([\n",
       "[α*Dagger(α), α*Dagger(β), α*Dagger(γ), α*Dagger(δ)],\n",
       "[β*Dagger(α), β*Dagger(β), β*Dagger(γ), β*Dagger(δ)],\n",
       "[γ*Dagger(α), γ*Dagger(β), γ*Dagger(γ), γ*Dagger(δ)],\n",
       "[δ*Dagger(α), δ*Dagger(β), δ*Dagger(γ), δ*Dagger(δ)]])"
      ]
     },
     "execution_count": 29,
     "metadata": {},
     "output_type": "execute_result"
    }
   ],
   "source": [
    "I_2= Matrix.eye(2)\n",
    "rx, ry, rz, sx, sy, sz = symbols('rx ry rz sx sy sz')\n",
    "rho"
   ]
  },
  {
   "cell_type": "code",
   "execution_count": 30,
   "id": "8ec7f51f-6984-4b4f-9978-94b1f74fd329",
   "metadata": {},
   "outputs": [
    {
     "data": {
      "text/latex": [
       "$\\displaystyle α α^{\\dagger} + β β^{\\dagger} + γ γ^{\\dagger} + δ δ^{\\dagger}$"
      ],
      "text/plain": [
       "α*Dagger(α) + β*Dagger(β) + γ*Dagger(γ) + δ*Dagger(δ)"
      ]
     },
     "execution_count": 30,
     "metadata": {},
     "output_type": "execute_result"
    }
   ],
   "source": [
    "rho.trace()"
   ]
  },
  {
   "cell_type": "code",
   "execution_count": 31,
   "id": "107e418b-a1c3-41a0-9fa1-dd880c6c3c00",
   "metadata": {},
   "outputs": [
    {
     "data": {
      "text/latex": [
       "$\\displaystyle \\left[\\begin{matrix}α δ^{\\dagger} + β γ^{\\dagger} + γ β^{\\dagger} + δ α^{\\dagger} & i α δ^{\\dagger} - i β γ^{\\dagger} + i γ β^{\\dagger} - i δ α^{\\dagger} & α γ^{\\dagger} - β δ^{\\dagger} + γ α^{\\dagger} - δ β^{\\dagger}\\\\i α δ^{\\dagger} + i β γ^{\\dagger} - i γ β^{\\dagger} - i δ α^{\\dagger} & - α δ^{\\dagger} + β γ^{\\dagger} + γ β^{\\dagger} - δ α^{\\dagger} & i α γ^{\\dagger} - i β δ^{\\dagger} - i γ α^{\\dagger} + i δ β^{\\dagger}\\\\α β^{\\dagger} + β α^{\\dagger} - γ δ^{\\dagger} - δ γ^{\\dagger} & i α β^{\\dagger} - i β α^{\\dagger} - i γ δ^{\\dagger} + i δ γ^{\\dagger} & α α^{\\dagger} - β β^{\\dagger} - γ γ^{\\dagger} + δ δ^{\\dagger}\\end{matrix}\\right]$"
      ],
      "text/plain": [
       "Matrix([\n",
       "[        α*Dagger(δ) + β*Dagger(γ) + γ*Dagger(β) + δ*Dagger(α), I*α*Dagger(δ) - I*β*Dagger(γ) + I*γ*Dagger(β) - I*δ*Dagger(α),         α*Dagger(γ) - β*Dagger(δ) + γ*Dagger(α) - δ*Dagger(β)],\n",
       "[I*α*Dagger(δ) + I*β*Dagger(γ) - I*γ*Dagger(β) - I*δ*Dagger(α),        -α*Dagger(δ) + β*Dagger(γ) + γ*Dagger(β) - δ*Dagger(α), I*α*Dagger(γ) - I*β*Dagger(δ) - I*γ*Dagger(α) + I*δ*Dagger(β)],\n",
       "[        α*Dagger(β) + β*Dagger(α) - γ*Dagger(δ) - δ*Dagger(γ), I*α*Dagger(β) - I*β*Dagger(α) - I*γ*Dagger(δ) + I*δ*Dagger(γ),         α*Dagger(α) - β*Dagger(β) - γ*Dagger(γ) + δ*Dagger(δ)]])"
      ]
     },
     "metadata": {},
     "output_type": "display_data"
    }
   ],
   "source": [
    "T= make_t_matrix(rho)\n",
    "display(T)"
   ]
  },
  {
   "cell_type": "code",
   "execution_count": 32,
   "id": "365ae693-e1af-4209-bf70-846923b14668",
   "metadata": {},
   "outputs": [],
   "source": [
    "bchsh_sum_correlations= Matrix.zeros(4)\n",
    "for n in range(1, 4):\n",
    "    for m in range(1, 4):\n",
    "        tba= T[n - 1, m - 1] * TensorProduct(msigma(n), msigma(m))\n",
    "        bchsh_sum_correlations += tba\n",
    "    # print(\"sum at the end of n= \", n, \"is: \", s)"
   ]
  },
  {
   "cell_type": "code",
   "execution_count": 33,
   "id": "520826e8-9d39-44b4-b1c7-f47f667975a6",
   "metadata": {},
   "outputs": [
    {
     "data": {
      "text/latex": [
       "$\\displaystyle \\left[\\begin{matrix}α α^{\\dagger} - β β^{\\dagger} - γ γ^{\\dagger} + δ δ^{\\dagger} & α β^{\\dagger} + β α^{\\dagger} - γ δ^{\\dagger} - δ γ^{\\dagger} - i \\left(i α β^{\\dagger} - i β α^{\\dagger} - i γ δ^{\\dagger} + i δ γ^{\\dagger}\\right) & α γ^{\\dagger} - β δ^{\\dagger} + γ α^{\\dagger} - δ β^{\\dagger} - i \\left(i α γ^{\\dagger} - i β δ^{\\dagger} - i γ α^{\\dagger} + i δ β^{\\dagger}\\right) & 2 α δ^{\\dagger} + 2 δ α^{\\dagger} - i \\left(i α δ^{\\dagger} - i β γ^{\\dagger} + i γ β^{\\dagger} - i δ α^{\\dagger}\\right) - i \\left(i α δ^{\\dagger} + i β γ^{\\dagger} - i γ β^{\\dagger} - i δ α^{\\dagger}\\right)\\\\α β^{\\dagger} + β α^{\\dagger} - γ δ^{\\dagger} - δ γ^{\\dagger} + i \\left(i α β^{\\dagger} - i β α^{\\dagger} - i γ δ^{\\dagger} + i δ γ^{\\dagger}\\right) & - α α^{\\dagger} + β β^{\\dagger} + γ γ^{\\dagger} - δ δ^{\\dagger} & 2 β γ^{\\dagger} + 2 γ β^{\\dagger} + i \\left(i α δ^{\\dagger} - i β γ^{\\dagger} + i γ β^{\\dagger} - i δ α^{\\dagger}\\right) - i \\left(i α δ^{\\dagger} + i β γ^{\\dagger} - i γ β^{\\dagger} - i δ α^{\\dagger}\\right) & - α γ^{\\dagger} + β δ^{\\dagger} - γ α^{\\dagger} + δ β^{\\dagger} + i \\left(i α γ^{\\dagger} - i β δ^{\\dagger} - i γ α^{\\dagger} + i δ β^{\\dagger}\\right)\\\\α γ^{\\dagger} - β δ^{\\dagger} + γ α^{\\dagger} - δ β^{\\dagger} + i \\left(i α γ^{\\dagger} - i β δ^{\\dagger} - i γ α^{\\dagger} + i δ β^{\\dagger}\\right) & 2 β γ^{\\dagger} + 2 γ β^{\\dagger} - i \\left(i α δ^{\\dagger} - i β γ^{\\dagger} + i γ β^{\\dagger} - i δ α^{\\dagger}\\right) + i \\left(i α δ^{\\dagger} + i β γ^{\\dagger} - i γ β^{\\dagger} - i δ α^{\\dagger}\\right) & - α α^{\\dagger} + β β^{\\dagger} + γ γ^{\\dagger} - δ δ^{\\dagger} & - α β^{\\dagger} - β α^{\\dagger} + γ δ^{\\dagger} + δ γ^{\\dagger} + i \\left(i α β^{\\dagger} - i β α^{\\dagger} - i γ δ^{\\dagger} + i δ γ^{\\dagger}\\right)\\\\2 α δ^{\\dagger} + 2 δ α^{\\dagger} + i \\left(i α δ^{\\dagger} - i β γ^{\\dagger} + i γ β^{\\dagger} - i δ α^{\\dagger}\\right) + i \\left(i α δ^{\\dagger} + i β γ^{\\dagger} - i γ β^{\\dagger} - i δ α^{\\dagger}\\right) & - α γ^{\\dagger} + β δ^{\\dagger} - γ α^{\\dagger} + δ β^{\\dagger} - i \\left(i α γ^{\\dagger} - i β δ^{\\dagger} - i γ α^{\\dagger} + i δ β^{\\dagger}\\right) & - α β^{\\dagger} - β α^{\\dagger} + γ δ^{\\dagger} + δ γ^{\\dagger} - i \\left(i α β^{\\dagger} - i β α^{\\dagger} - i γ δ^{\\dagger} + i δ γ^{\\dagger}\\right) & α α^{\\dagger} - β β^{\\dagger} - γ γ^{\\dagger} + δ δ^{\\dagger}\\end{matrix}\\right]$"
      ],
      "text/plain": [
       "Matrix([\n",
       "[                                                                                                                α*Dagger(α) - β*Dagger(β) - γ*Dagger(γ) + δ*Dagger(δ),                                             α*Dagger(β) + β*Dagger(α) - γ*Dagger(δ) - δ*Dagger(γ) - I*(I*α*Dagger(β) - I*β*Dagger(α) - I*γ*Dagger(δ) + I*δ*Dagger(γ)),                                             α*Dagger(γ) - β*Dagger(δ) + γ*Dagger(α) - δ*Dagger(β) - I*(I*α*Dagger(γ) - I*β*Dagger(δ) - I*γ*Dagger(α) + I*δ*Dagger(β)), 2*α*Dagger(δ) + 2*δ*Dagger(α) - I*(I*α*Dagger(δ) - I*β*Dagger(γ) + I*γ*Dagger(β) - I*δ*Dagger(α)) - I*(I*α*Dagger(δ) + I*β*Dagger(γ) - I*γ*Dagger(β) - I*δ*Dagger(α))],\n",
       "[                                            α*Dagger(β) + β*Dagger(α) - γ*Dagger(δ) - δ*Dagger(γ) + I*(I*α*Dagger(β) - I*β*Dagger(α) - I*γ*Dagger(δ) + I*δ*Dagger(γ)),                                                                                                                -α*Dagger(α) + β*Dagger(β) + γ*Dagger(γ) - δ*Dagger(δ), 2*β*Dagger(γ) + 2*γ*Dagger(β) + I*(I*α*Dagger(δ) - I*β*Dagger(γ) + I*γ*Dagger(β) - I*δ*Dagger(α)) - I*(I*α*Dagger(δ) + I*β*Dagger(γ) - I*γ*Dagger(β) - I*δ*Dagger(α)),                                            -α*Dagger(γ) + β*Dagger(δ) - γ*Dagger(α) + δ*Dagger(β) + I*(I*α*Dagger(γ) - I*β*Dagger(δ) - I*γ*Dagger(α) + I*δ*Dagger(β))],\n",
       "[                                            α*Dagger(γ) - β*Dagger(δ) + γ*Dagger(α) - δ*Dagger(β) + I*(I*α*Dagger(γ) - I*β*Dagger(δ) - I*γ*Dagger(α) + I*δ*Dagger(β)), 2*β*Dagger(γ) + 2*γ*Dagger(β) - I*(I*α*Dagger(δ) - I*β*Dagger(γ) + I*γ*Dagger(β) - I*δ*Dagger(α)) + I*(I*α*Dagger(δ) + I*β*Dagger(γ) - I*γ*Dagger(β) - I*δ*Dagger(α)),                                                                                                                -α*Dagger(α) + β*Dagger(β) + γ*Dagger(γ) - δ*Dagger(δ),                                            -α*Dagger(β) - β*Dagger(α) + γ*Dagger(δ) + δ*Dagger(γ) + I*(I*α*Dagger(β) - I*β*Dagger(α) - I*γ*Dagger(δ) + I*δ*Dagger(γ))],\n",
       "[2*α*Dagger(δ) + 2*δ*Dagger(α) + I*(I*α*Dagger(δ) - I*β*Dagger(γ) + I*γ*Dagger(β) - I*δ*Dagger(α)) + I*(I*α*Dagger(δ) + I*β*Dagger(γ) - I*γ*Dagger(β) - I*δ*Dagger(α)),                                            -α*Dagger(γ) + β*Dagger(δ) - γ*Dagger(α) + δ*Dagger(β) - I*(I*α*Dagger(γ) - I*β*Dagger(δ) - I*γ*Dagger(α) + I*δ*Dagger(β)),                                            -α*Dagger(β) - β*Dagger(α) + γ*Dagger(δ) + δ*Dagger(γ) - I*(I*α*Dagger(β) - I*β*Dagger(α) - I*γ*Dagger(δ) + I*δ*Dagger(γ)),                                                                                                                 α*Dagger(α) - β*Dagger(β) - γ*Dagger(γ) + δ*Dagger(δ)]])"
      ]
     },
     "execution_count": 33,
     "metadata": {},
     "output_type": "execute_result"
    }
   ],
   "source": [
    "bchsh_sum_correlations"
   ]
  },
  {
   "cell_type": "code",
   "execution_count": 34,
   "id": "6b2089cc-7e4e-49b4-bdcb-aa775eb42c8b",
   "metadata": {},
   "outputs": [],
   "source": [
    "s= Matrix([sx, sy, sz])\n",
    "r= Matrix([rx, ry, rz])"
   ]
  },
  {
   "cell_type": "code",
   "execution_count": 35,
   "id": "08081a33-31c5-4b53-8bcc-0f51c5b28483",
   "metadata": {},
   "outputs": [],
   "source": [
    "ssigma= Matrix.zeros(2)\n",
    "rsigma= Matrix.zeros(2)\n",
    "for i in range(1, 4):\n",
    "    ssigma += s[i-1] * msigma(i)\n",
    "    rsigma += r[i-1] * msigma(i)"
   ]
  },
  {
   "cell_type": "code",
   "execution_count": 36,
   "id": "ed3bee95-a34d-42f6-b018-4fbadd38fb30",
   "metadata": {},
   "outputs": [],
   "source": [
    "rho_bell_basis= Matrix.zeros(4)"
   ]
  },
  {
   "cell_type": "code",
   "execution_count": 37,
   "id": "0c30b86c-16bc-4f45-9485-9b28eeb28f3f",
   "metadata": {},
   "outputs": [
    {
     "data": {
      "text/latex": [
       "$\\displaystyle \\left[\\begin{matrix}1 & 0 & 0 & 0\\\\0 & 1 & 0 & 0\\\\0 & 0 & 1 & 0\\\\0 & 0 & 0 & 1\\end{matrix}\\right]$"
      ],
      "text/plain": [
       "Matrix([\n",
       "[1, 0, 0, 0],\n",
       "[0, 1, 0, 0],\n",
       "[0, 0, 1, 0],\n",
       "[0, 0, 0, 1]])"
      ]
     },
     "execution_count": 37,
     "metadata": {},
     "output_type": "execute_result"
    }
   ],
   "source": [
    "rho_bell_basis+= TensorProduct(I_2, I_2)\n",
    "rho_bell_basis"
   ]
  },
  {
   "cell_type": "code",
   "execution_count": 38,
   "id": "e8f74a73-35b4-4ed0-beac-e60a4c69eb99",
   "metadata": {},
   "outputs": [
    {
     "data": {
      "text/latex": [
       "$\\displaystyle \\left[\\begin{matrix}rz & 0 & rx - i ry & 0\\\\0 & rz & 0 & rx - i ry\\\\rx + i ry & 0 & - rz & 0\\\\0 & rx + i ry & 0 & - rz\\end{matrix}\\right]$"
      ],
      "text/plain": [
       "Matrix([\n",
       "[       rz,         0, rx - I*ry,         0],\n",
       "[        0,        rz,         0, rx - I*ry],\n",
       "[rx + I*ry,         0,       -rz,         0],\n",
       "[        0, rx + I*ry,         0,       -rz]])"
      ]
     },
     "execution_count": 38,
     "metadata": {},
     "output_type": "execute_result"
    }
   ],
   "source": [
    "res= TensorProduct(rsigma, I_2)\n",
    "rho_bell_basis += res\n",
    "res"
   ]
  },
  {
   "cell_type": "code",
   "execution_count": 39,
   "id": "f7fd6786-922f-4533-a2ca-53d0880c2514",
   "metadata": {},
   "outputs": [
    {
     "data": {
      "text/latex": [
       "$\\displaystyle \\left[\\begin{matrix}sz & sx - i sy & 0 & 0\\\\sx + i sy & - sz & 0 & 0\\\\0 & 0 & sz & sx - i sy\\\\0 & 0 & sx + i sy & - sz\\end{matrix}\\right]$"
      ],
      "text/plain": [
       "Matrix([\n",
       "[       sz, sx - I*sy,         0,         0],\n",
       "[sx + I*sy,       -sz,         0,         0],\n",
       "[        0,         0,        sz, sx - I*sy],\n",
       "[        0,         0, sx + I*sy,       -sz]])"
      ]
     },
     "execution_count": 39,
     "metadata": {},
     "output_type": "execute_result"
    }
   ],
   "source": [
    "res=  TensorProduct(I_2, ssigma)\n",
    "rho_bell_basis += res\n",
    "res"
   ]
  },
  {
   "cell_type": "code",
   "execution_count": 40,
   "id": "cf5cd62f-9d28-46cf-a2ae-121dc74cb185",
   "metadata": {},
   "outputs": [
    {
     "data": {
      "text/latex": [
       "$\\displaystyle \\left[\\begin{matrix}α α^{\\dagger} - β β^{\\dagger} - γ γ^{\\dagger} + δ δ^{\\dagger} & α β^{\\dagger} + β α^{\\dagger} - γ δ^{\\dagger} - δ γ^{\\dagger} - i \\left(i α β^{\\dagger} - i β α^{\\dagger} - i γ δ^{\\dagger} + i δ γ^{\\dagger}\\right) & α γ^{\\dagger} - β δ^{\\dagger} + γ α^{\\dagger} - δ β^{\\dagger} - i \\left(i α γ^{\\dagger} - i β δ^{\\dagger} - i γ α^{\\dagger} + i δ β^{\\dagger}\\right) & 2 α δ^{\\dagger} + 2 δ α^{\\dagger} - i \\left(i α δ^{\\dagger} - i β γ^{\\dagger} + i γ β^{\\dagger} - i δ α^{\\dagger}\\right) - i \\left(i α δ^{\\dagger} + i β γ^{\\dagger} - i γ β^{\\dagger} - i δ α^{\\dagger}\\right)\\\\α β^{\\dagger} + β α^{\\dagger} - γ δ^{\\dagger} - δ γ^{\\dagger} + i \\left(i α β^{\\dagger} - i β α^{\\dagger} - i γ δ^{\\dagger} + i δ γ^{\\dagger}\\right) & - α α^{\\dagger} + β β^{\\dagger} + γ γ^{\\dagger} - δ δ^{\\dagger} & 2 β γ^{\\dagger} + 2 γ β^{\\dagger} + i \\left(i α δ^{\\dagger} - i β γ^{\\dagger} + i γ β^{\\dagger} - i δ α^{\\dagger}\\right) - i \\left(i α δ^{\\dagger} + i β γ^{\\dagger} - i γ β^{\\dagger} - i δ α^{\\dagger}\\right) & - α γ^{\\dagger} + β δ^{\\dagger} - γ α^{\\dagger} + δ β^{\\dagger} + i \\left(i α γ^{\\dagger} - i β δ^{\\dagger} - i γ α^{\\dagger} + i δ β^{\\dagger}\\right)\\\\α γ^{\\dagger} - β δ^{\\dagger} + γ α^{\\dagger} - δ β^{\\dagger} + i \\left(i α γ^{\\dagger} - i β δ^{\\dagger} - i γ α^{\\dagger} + i δ β^{\\dagger}\\right) & 2 β γ^{\\dagger} + 2 γ β^{\\dagger} - i \\left(i α δ^{\\dagger} - i β γ^{\\dagger} + i γ β^{\\dagger} - i δ α^{\\dagger}\\right) + i \\left(i α δ^{\\dagger} + i β γ^{\\dagger} - i γ β^{\\dagger} - i δ α^{\\dagger}\\right) & - α α^{\\dagger} + β β^{\\dagger} + γ γ^{\\dagger} - δ δ^{\\dagger} & - α β^{\\dagger} - β α^{\\dagger} + γ δ^{\\dagger} + δ γ^{\\dagger} + i \\left(i α β^{\\dagger} - i β α^{\\dagger} - i γ δ^{\\dagger} + i δ γ^{\\dagger}\\right)\\\\2 α δ^{\\dagger} + 2 δ α^{\\dagger} + i \\left(i α δ^{\\dagger} - i β γ^{\\dagger} + i γ β^{\\dagger} - i δ α^{\\dagger}\\right) + i \\left(i α δ^{\\dagger} + i β γ^{\\dagger} - i γ β^{\\dagger} - i δ α^{\\dagger}\\right) & - α γ^{\\dagger} + β δ^{\\dagger} - γ α^{\\dagger} + δ β^{\\dagger} - i \\left(i α γ^{\\dagger} - i β δ^{\\dagger} - i γ α^{\\dagger} + i δ β^{\\dagger}\\right) & - α β^{\\dagger} - β α^{\\dagger} + γ δ^{\\dagger} + δ γ^{\\dagger} - i \\left(i α β^{\\dagger} - i β α^{\\dagger} - i γ δ^{\\dagger} + i δ γ^{\\dagger}\\right) & α α^{\\dagger} - β β^{\\dagger} - γ γ^{\\dagger} + δ δ^{\\dagger}\\end{matrix}\\right]$"
      ],
      "text/plain": [
       "Matrix([\n",
       "[                                                                                                                α*Dagger(α) - β*Dagger(β) - γ*Dagger(γ) + δ*Dagger(δ),                                             α*Dagger(β) + β*Dagger(α) - γ*Dagger(δ) - δ*Dagger(γ) - I*(I*α*Dagger(β) - I*β*Dagger(α) - I*γ*Dagger(δ) + I*δ*Dagger(γ)),                                             α*Dagger(γ) - β*Dagger(δ) + γ*Dagger(α) - δ*Dagger(β) - I*(I*α*Dagger(γ) - I*β*Dagger(δ) - I*γ*Dagger(α) + I*δ*Dagger(β)), 2*α*Dagger(δ) + 2*δ*Dagger(α) - I*(I*α*Dagger(δ) - I*β*Dagger(γ) + I*γ*Dagger(β) - I*δ*Dagger(α)) - I*(I*α*Dagger(δ) + I*β*Dagger(γ) - I*γ*Dagger(β) - I*δ*Dagger(α))],\n",
       "[                                            α*Dagger(β) + β*Dagger(α) - γ*Dagger(δ) - δ*Dagger(γ) + I*(I*α*Dagger(β) - I*β*Dagger(α) - I*γ*Dagger(δ) + I*δ*Dagger(γ)),                                                                                                                -α*Dagger(α) + β*Dagger(β) + γ*Dagger(γ) - δ*Dagger(δ), 2*β*Dagger(γ) + 2*γ*Dagger(β) + I*(I*α*Dagger(δ) - I*β*Dagger(γ) + I*γ*Dagger(β) - I*δ*Dagger(α)) - I*(I*α*Dagger(δ) + I*β*Dagger(γ) - I*γ*Dagger(β) - I*δ*Dagger(α)),                                            -α*Dagger(γ) + β*Dagger(δ) - γ*Dagger(α) + δ*Dagger(β) + I*(I*α*Dagger(γ) - I*β*Dagger(δ) - I*γ*Dagger(α) + I*δ*Dagger(β))],\n",
       "[                                            α*Dagger(γ) - β*Dagger(δ) + γ*Dagger(α) - δ*Dagger(β) + I*(I*α*Dagger(γ) - I*β*Dagger(δ) - I*γ*Dagger(α) + I*δ*Dagger(β)), 2*β*Dagger(γ) + 2*γ*Dagger(β) - I*(I*α*Dagger(δ) - I*β*Dagger(γ) + I*γ*Dagger(β) - I*δ*Dagger(α)) + I*(I*α*Dagger(δ) + I*β*Dagger(γ) - I*γ*Dagger(β) - I*δ*Dagger(α)),                                                                                                                -α*Dagger(α) + β*Dagger(β) + γ*Dagger(γ) - δ*Dagger(δ),                                            -α*Dagger(β) - β*Dagger(α) + γ*Dagger(δ) + δ*Dagger(γ) + I*(I*α*Dagger(β) - I*β*Dagger(α) - I*γ*Dagger(δ) + I*δ*Dagger(γ))],\n",
       "[2*α*Dagger(δ) + 2*δ*Dagger(α) + I*(I*α*Dagger(δ) - I*β*Dagger(γ) + I*γ*Dagger(β) - I*δ*Dagger(α)) + I*(I*α*Dagger(δ) + I*β*Dagger(γ) - I*γ*Dagger(β) - I*δ*Dagger(α)),                                            -α*Dagger(γ) + β*Dagger(δ) - γ*Dagger(α) + δ*Dagger(β) - I*(I*α*Dagger(γ) - I*β*Dagger(δ) - I*γ*Dagger(α) + I*δ*Dagger(β)),                                            -α*Dagger(β) - β*Dagger(α) + γ*Dagger(δ) + δ*Dagger(γ) - I*(I*α*Dagger(β) - I*β*Dagger(α) - I*γ*Dagger(δ) + I*δ*Dagger(γ)),                                                                                                                 α*Dagger(α) - β*Dagger(β) - γ*Dagger(γ) + δ*Dagger(δ)]])"
      ]
     },
     "execution_count": 40,
     "metadata": {},
     "output_type": "execute_result"
    }
   ],
   "source": [
    "rho_bell_basis += bchsh_sum_correlations\n",
    "bchsh_sum_correlations"
   ]
  },
  {
   "cell_type": "code",
   "execution_count": 41,
   "id": "fee3a86b-33c8-47e2-8c40-79d979033326",
   "metadata": {},
   "outputs": [
    {
     "data": {
      "text/latex": [
       "$\\displaystyle \\left[\\begin{matrix}rz + sz + α α^{\\dagger} - β β^{\\dagger} - γ γ^{\\dagger} + δ δ^{\\dagger} + 1 & sx - i sy + α β^{\\dagger} + β α^{\\dagger} - γ δ^{\\dagger} - δ γ^{\\dagger} - i \\left(i α β^{\\dagger} - i β α^{\\dagger} - i γ δ^{\\dagger} + i δ γ^{\\dagger}\\right) & rx - i ry + α γ^{\\dagger} - β δ^{\\dagger} + γ α^{\\dagger} - δ β^{\\dagger} - i \\left(i α γ^{\\dagger} - i β δ^{\\dagger} - i γ α^{\\dagger} + i δ β^{\\dagger}\\right) & 2 α δ^{\\dagger} + 2 δ α^{\\dagger} - i \\left(i α δ^{\\dagger} - i β γ^{\\dagger} + i γ β^{\\dagger} - i δ α^{\\dagger}\\right) - i \\left(i α δ^{\\dagger} + i β γ^{\\dagger} - i γ β^{\\dagger} - i δ α^{\\dagger}\\right)\\\\sx + i sy + α β^{\\dagger} + β α^{\\dagger} - γ δ^{\\dagger} - δ γ^{\\dagger} + i \\left(i α β^{\\dagger} - i β α^{\\dagger} - i γ δ^{\\dagger} + i δ γ^{\\dagger}\\right) & rz - sz - α α^{\\dagger} + β β^{\\dagger} + γ γ^{\\dagger} - δ δ^{\\dagger} + 1 & 2 β γ^{\\dagger} + 2 γ β^{\\dagger} + i \\left(i α δ^{\\dagger} - i β γ^{\\dagger} + i γ β^{\\dagger} - i δ α^{\\dagger}\\right) - i \\left(i α δ^{\\dagger} + i β γ^{\\dagger} - i γ β^{\\dagger} - i δ α^{\\dagger}\\right) & rx - i ry - α γ^{\\dagger} + β δ^{\\dagger} - γ α^{\\dagger} + δ β^{\\dagger} + i \\left(i α γ^{\\dagger} - i β δ^{\\dagger} - i γ α^{\\dagger} + i δ β^{\\dagger}\\right)\\\\rx + i ry + α γ^{\\dagger} - β δ^{\\dagger} + γ α^{\\dagger} - δ β^{\\dagger} + i \\left(i α γ^{\\dagger} - i β δ^{\\dagger} - i γ α^{\\dagger} + i δ β^{\\dagger}\\right) & 2 β γ^{\\dagger} + 2 γ β^{\\dagger} - i \\left(i α δ^{\\dagger} - i β γ^{\\dagger} + i γ β^{\\dagger} - i δ α^{\\dagger}\\right) + i \\left(i α δ^{\\dagger} + i β γ^{\\dagger} - i γ β^{\\dagger} - i δ α^{\\dagger}\\right) & - rz + sz - α α^{\\dagger} + β β^{\\dagger} + γ γ^{\\dagger} - δ δ^{\\dagger} + 1 & sx - i sy - α β^{\\dagger} - β α^{\\dagger} + γ δ^{\\dagger} + δ γ^{\\dagger} + i \\left(i α β^{\\dagger} - i β α^{\\dagger} - i γ δ^{\\dagger} + i δ γ^{\\dagger}\\right)\\\\2 α δ^{\\dagger} + 2 δ α^{\\dagger} + i \\left(i α δ^{\\dagger} - i β γ^{\\dagger} + i γ β^{\\dagger} - i δ α^{\\dagger}\\right) + i \\left(i α δ^{\\dagger} + i β γ^{\\dagger} - i γ β^{\\dagger} - i δ α^{\\dagger}\\right) & rx + i ry - α γ^{\\dagger} + β δ^{\\dagger} - γ α^{\\dagger} + δ β^{\\dagger} - i \\left(i α γ^{\\dagger} - i β δ^{\\dagger} - i γ α^{\\dagger} + i δ β^{\\dagger}\\right) & sx + i sy - α β^{\\dagger} - β α^{\\dagger} + γ δ^{\\dagger} + δ γ^{\\dagger} - i \\left(i α β^{\\dagger} - i β α^{\\dagger} - i γ δ^{\\dagger} + i δ γ^{\\dagger}\\right) & - rz - sz + α α^{\\dagger} - β β^{\\dagger} - γ γ^{\\dagger} + δ δ^{\\dagger} + 1\\end{matrix}\\right]$"
      ],
      "text/plain": [
       "Matrix([\n",
       "[                                                                                                  rz + sz + α*Dagger(α) - β*Dagger(β) - γ*Dagger(γ) + δ*Dagger(δ) + 1,                                 sx - I*sy + α*Dagger(β) + β*Dagger(α) - γ*Dagger(δ) - δ*Dagger(γ) - I*(I*α*Dagger(β) - I*β*Dagger(α) - I*γ*Dagger(δ) + I*δ*Dagger(γ)),                                 rx - I*ry + α*Dagger(γ) - β*Dagger(δ) + γ*Dagger(α) - δ*Dagger(β) - I*(I*α*Dagger(γ) - I*β*Dagger(δ) - I*γ*Dagger(α) + I*δ*Dagger(β)), 2*α*Dagger(δ) + 2*δ*Dagger(α) - I*(I*α*Dagger(δ) - I*β*Dagger(γ) + I*γ*Dagger(β) - I*δ*Dagger(α)) - I*(I*α*Dagger(δ) + I*β*Dagger(γ) - I*γ*Dagger(β) - I*δ*Dagger(α))],\n",
       "[                                sx + I*sy + α*Dagger(β) + β*Dagger(α) - γ*Dagger(δ) - δ*Dagger(γ) + I*(I*α*Dagger(β) - I*β*Dagger(α) - I*γ*Dagger(δ) + I*δ*Dagger(γ)),                                                                                                   rz - sz - α*Dagger(α) + β*Dagger(β) + γ*Dagger(γ) - δ*Dagger(δ) + 1, 2*β*Dagger(γ) + 2*γ*Dagger(β) + I*(I*α*Dagger(δ) - I*β*Dagger(γ) + I*γ*Dagger(β) - I*δ*Dagger(α)) - I*(I*α*Dagger(δ) + I*β*Dagger(γ) - I*γ*Dagger(β) - I*δ*Dagger(α)),                                 rx - I*ry - α*Dagger(γ) + β*Dagger(δ) - γ*Dagger(α) + δ*Dagger(β) + I*(I*α*Dagger(γ) - I*β*Dagger(δ) - I*γ*Dagger(α) + I*δ*Dagger(β))],\n",
       "[                                rx + I*ry + α*Dagger(γ) - β*Dagger(δ) + γ*Dagger(α) - δ*Dagger(β) + I*(I*α*Dagger(γ) - I*β*Dagger(δ) - I*γ*Dagger(α) + I*δ*Dagger(β)), 2*β*Dagger(γ) + 2*γ*Dagger(β) - I*(I*α*Dagger(δ) - I*β*Dagger(γ) + I*γ*Dagger(β) - I*δ*Dagger(α)) + I*(I*α*Dagger(δ) + I*β*Dagger(γ) - I*γ*Dagger(β) - I*δ*Dagger(α)),                                                                                                  -rz + sz - α*Dagger(α) + β*Dagger(β) + γ*Dagger(γ) - δ*Dagger(δ) + 1,                                 sx - I*sy - α*Dagger(β) - β*Dagger(α) + γ*Dagger(δ) + δ*Dagger(γ) + I*(I*α*Dagger(β) - I*β*Dagger(α) - I*γ*Dagger(δ) + I*δ*Dagger(γ))],\n",
       "[2*α*Dagger(δ) + 2*δ*Dagger(α) + I*(I*α*Dagger(δ) - I*β*Dagger(γ) + I*γ*Dagger(β) - I*δ*Dagger(α)) + I*(I*α*Dagger(δ) + I*β*Dagger(γ) - I*γ*Dagger(β) - I*δ*Dagger(α)),                                 rx + I*ry - α*Dagger(γ) + β*Dagger(δ) - γ*Dagger(α) + δ*Dagger(β) - I*(I*α*Dagger(γ) - I*β*Dagger(δ) - I*γ*Dagger(α) + I*δ*Dagger(β)),                                 sx + I*sy - α*Dagger(β) - β*Dagger(α) + γ*Dagger(δ) + δ*Dagger(γ) - I*(I*α*Dagger(β) - I*β*Dagger(α) - I*γ*Dagger(δ) + I*δ*Dagger(γ)),                                                                                                  -rz - sz + α*Dagger(α) - β*Dagger(β) - γ*Dagger(γ) + δ*Dagger(δ) + 1]])"
      ]
     },
     "execution_count": 41,
     "metadata": {},
     "output_type": "execute_result"
    }
   ],
   "source": [
    "rho_bell_basis"
   ]
  },
  {
   "cell_type": "code",
   "execution_count": 42,
   "id": "9e2877f6-c22b-47bd-9589-9b75cb27ab90",
   "metadata": {},
   "outputs": [
    {
     "data": {
      "text/latex": [
       "$\\displaystyle \\left[\\begin{matrix}rz + sz + α α^{\\dagger} - β β^{\\dagger} - γ γ^{\\dagger} + δ δ^{\\dagger} + 1 & sx - i sy + α β^{\\dagger} + β α^{\\dagger} - γ δ^{\\dagger} - δ γ^{\\dagger} - i \\left(i α β^{\\dagger} - i β α^{\\dagger} - i γ δ^{\\dagger} + i δ γ^{\\dagger}\\right) & sx + i sy + α β^{\\dagger} + β α^{\\dagger} - γ δ^{\\dagger} - δ γ^{\\dagger} + i \\left(i α β^{\\dagger} - i β α^{\\dagger} - i γ δ^{\\dagger} + i δ γ^{\\dagger}\\right) & rz - sz - α α^{\\dagger} + β β^{\\dagger} + γ γ^{\\dagger} - δ δ^{\\dagger} + 1\\\\rx - i ry + α γ^{\\dagger} - β δ^{\\dagger} + γ α^{\\dagger} - δ β^{\\dagger} - i \\left(i α γ^{\\dagger} - i β δ^{\\dagger} - i γ α^{\\dagger} + i δ β^{\\dagger}\\right) & 2 α δ^{\\dagger} + 2 δ α^{\\dagger} - i \\left(i α δ^{\\dagger} - i β γ^{\\dagger} + i γ β^{\\dagger} - i δ α^{\\dagger}\\right) - i \\left(i α δ^{\\dagger} + i β γ^{\\dagger} - i γ β^{\\dagger} - i δ α^{\\dagger}\\right) & 2 β γ^{\\dagger} + 2 γ β^{\\dagger} + i \\left(i α δ^{\\dagger} - i β γ^{\\dagger} + i γ β^{\\dagger} - i δ α^{\\dagger}\\right) - i \\left(i α δ^{\\dagger} + i β γ^{\\dagger} - i γ β^{\\dagger} - i δ α^{\\dagger}\\right) & rx - i ry - α γ^{\\dagger} + β δ^{\\dagger} - γ α^{\\dagger} + δ β^{\\dagger} + i \\left(i α γ^{\\dagger} - i β δ^{\\dagger} - i γ α^{\\dagger} + i δ β^{\\dagger}\\right)\\\\rx + i ry + α γ^{\\dagger} - β δ^{\\dagger} + γ α^{\\dagger} - δ β^{\\dagger} + i \\left(i α γ^{\\dagger} - i β δ^{\\dagger} - i γ α^{\\dagger} + i δ β^{\\dagger}\\right) & 2 β γ^{\\dagger} + 2 γ β^{\\dagger} - i \\left(i α δ^{\\dagger} - i β γ^{\\dagger} + i γ β^{\\dagger} - i δ α^{\\dagger}\\right) + i \\left(i α δ^{\\dagger} + i β γ^{\\dagger} - i γ β^{\\dagger} - i δ α^{\\dagger}\\right) & 2 α δ^{\\dagger} + 2 δ α^{\\dagger} + i \\left(i α δ^{\\dagger} - i β γ^{\\dagger} + i γ β^{\\dagger} - i δ α^{\\dagger}\\right) + i \\left(i α δ^{\\dagger} + i β γ^{\\dagger} - i γ β^{\\dagger} - i δ α^{\\dagger}\\right) & rx + i ry - α γ^{\\dagger} + β δ^{\\dagger} - γ α^{\\dagger} + δ β^{\\dagger} - i \\left(i α γ^{\\dagger} - i β δ^{\\dagger} - i γ α^{\\dagger} + i δ β^{\\dagger}\\right)\\\\- rz + sz - α α^{\\dagger} + β β^{\\dagger} + γ γ^{\\dagger} - δ δ^{\\dagger} + 1 & sx - i sy - α β^{\\dagger} - β α^{\\dagger} + γ δ^{\\dagger} + δ γ^{\\dagger} + i \\left(i α β^{\\dagger} - i β α^{\\dagger} - i γ δ^{\\dagger} + i δ γ^{\\dagger}\\right) & sx + i sy - α β^{\\dagger} - β α^{\\dagger} + γ δ^{\\dagger} + δ γ^{\\dagger} - i \\left(i α β^{\\dagger} - i β α^{\\dagger} - i γ δ^{\\dagger} + i δ γ^{\\dagger}\\right) & - rz - sz + α α^{\\dagger} - β β^{\\dagger} - γ γ^{\\dagger} + δ δ^{\\dagger} + 1\\end{matrix}\\right]$"
      ],
      "text/plain": [
       "Matrix([\n",
       "[                                                                  rz + sz + α*Dagger(α) - β*Dagger(β) - γ*Dagger(γ) + δ*Dagger(δ) + 1,                                 sx - I*sy + α*Dagger(β) + β*Dagger(α) - γ*Dagger(δ) - δ*Dagger(γ) - I*(I*α*Dagger(β) - I*β*Dagger(α) - I*γ*Dagger(δ) + I*δ*Dagger(γ)),                                 sx + I*sy + α*Dagger(β) + β*Dagger(α) - γ*Dagger(δ) - δ*Dagger(γ) + I*(I*α*Dagger(β) - I*β*Dagger(α) - I*γ*Dagger(δ) + I*δ*Dagger(γ)),                                                                   rz - sz - α*Dagger(α) + β*Dagger(β) + γ*Dagger(γ) - δ*Dagger(δ) + 1],\n",
       "[rx - I*ry + α*Dagger(γ) - β*Dagger(δ) + γ*Dagger(α) - δ*Dagger(β) - I*(I*α*Dagger(γ) - I*β*Dagger(δ) - I*γ*Dagger(α) + I*δ*Dagger(β)), 2*α*Dagger(δ) + 2*δ*Dagger(α) - I*(I*α*Dagger(δ) - I*β*Dagger(γ) + I*γ*Dagger(β) - I*δ*Dagger(α)) - I*(I*α*Dagger(δ) + I*β*Dagger(γ) - I*γ*Dagger(β) - I*δ*Dagger(α)), 2*β*Dagger(γ) + 2*γ*Dagger(β) + I*(I*α*Dagger(δ) - I*β*Dagger(γ) + I*γ*Dagger(β) - I*δ*Dagger(α)) - I*(I*α*Dagger(δ) + I*β*Dagger(γ) - I*γ*Dagger(β) - I*δ*Dagger(α)), rx - I*ry - α*Dagger(γ) + β*Dagger(δ) - γ*Dagger(α) + δ*Dagger(β) + I*(I*α*Dagger(γ) - I*β*Dagger(δ) - I*γ*Dagger(α) + I*δ*Dagger(β))],\n",
       "[rx + I*ry + α*Dagger(γ) - β*Dagger(δ) + γ*Dagger(α) - δ*Dagger(β) + I*(I*α*Dagger(γ) - I*β*Dagger(δ) - I*γ*Dagger(α) + I*δ*Dagger(β)), 2*β*Dagger(γ) + 2*γ*Dagger(β) - I*(I*α*Dagger(δ) - I*β*Dagger(γ) + I*γ*Dagger(β) - I*δ*Dagger(α)) + I*(I*α*Dagger(δ) + I*β*Dagger(γ) - I*γ*Dagger(β) - I*δ*Dagger(α)), 2*α*Dagger(δ) + 2*δ*Dagger(α) + I*(I*α*Dagger(δ) - I*β*Dagger(γ) + I*γ*Dagger(β) - I*δ*Dagger(α)) + I*(I*α*Dagger(δ) + I*β*Dagger(γ) - I*γ*Dagger(β) - I*δ*Dagger(α)), rx + I*ry - α*Dagger(γ) + β*Dagger(δ) - γ*Dagger(α) + δ*Dagger(β) - I*(I*α*Dagger(γ) - I*β*Dagger(δ) - I*γ*Dagger(α) + I*δ*Dagger(β))],\n",
       "[                                                                 -rz + sz - α*Dagger(α) + β*Dagger(β) + γ*Dagger(γ) - δ*Dagger(δ) + 1,                                 sx - I*sy - α*Dagger(β) - β*Dagger(α) + γ*Dagger(δ) + δ*Dagger(γ) + I*(I*α*Dagger(β) - I*β*Dagger(α) - I*γ*Dagger(δ) + I*δ*Dagger(γ)),                                 sx + I*sy - α*Dagger(β) - β*Dagger(α) + γ*Dagger(δ) + δ*Dagger(γ) - I*(I*α*Dagger(β) - I*β*Dagger(α) - I*γ*Dagger(δ) + I*δ*Dagger(γ)),                                                                  -rz - sz + α*Dagger(α) - β*Dagger(β) - γ*Dagger(γ) + δ*Dagger(δ) + 1]])"
      ]
     },
     "execution_count": 42,
     "metadata": {},
     "output_type": "execute_result"
    }
   ],
   "source": [
    "realigned = realign(rho_bell_basis, dA, dB, False)\n",
    "realigned"
   ]
  },
  {
   "cell_type": "code",
   "execution_count": 43,
   "id": "662db1a5-0a6e-4676-a038-fd86fb1be2b4",
   "metadata": {},
   "outputs": [],
   "source": [
    "# cursed block\n",
    "#score= get_realignment_score(realigned)\n",
    "#score"
   ]
  },
  {
   "cell_type": "markdown",
   "id": "0b4f99e8-e1f9-4e35-9df6-abd586e025c1",
   "metadata": {},
   "source": [
    "# now find the Bchsh condition for this general rho matrix"
   ]
  },
  {
   "cell_type": "code",
   "execution_count": 44,
   "id": "e0c451c2-e411-458b-b87b-194c4238db66",
   "metadata": {},
   "outputs": [
    {
     "name": "stdout",
     "output_type": "stream",
     "text": [
      "t symm eigs:  {4*α*δ*Dagger(α)*Dagger(δ) - 4*α*δ*Dagger(β)*Dagger(γ) - 4*β*γ*Dagger(α)*Dagger(δ) + 4*β*γ*Dagger(β)*Dagger(γ): 2, α**2*Dagger(α)**2 + 2*α*β*Dagger(α)*Dagger(β) + 2*α*γ*Dagger(α)*Dagger(γ) + 2*α*δ*Dagger(α)*Dagger(δ) + β**2*Dagger(β)**2 + 2*β*γ*Dagger(β)*Dagger(γ) + 2*β*δ*Dagger(β)*Dagger(δ) + γ**2*Dagger(γ)**2 + 2*γ*δ*Dagger(γ)*Dagger(δ) + δ**2*Dagger(δ)**2: 1}\n"
     ]
    },
    {
     "data": {
      "text/latex": [
       "$\\displaystyle 2 \\sqrt{α^{2} \\left(α^{\\dagger}\\right)^{2} + 2 α β α^{\\dagger} β^{\\dagger} + 2 α γ α^{\\dagger} γ^{\\dagger} + 10 α δ α^{\\dagger} δ^{\\dagger} - 8 α δ β^{\\dagger} γ^{\\dagger} + β^{2} \\left(β^{\\dagger}\\right)^{2} - 8 β γ α^{\\dagger} δ^{\\dagger} + 10 β γ β^{\\dagger} γ^{\\dagger} + 2 β δ β^{\\dagger} δ^{\\dagger} + γ^{2} \\left(γ^{\\dagger}\\right)^{2} + 2 γ δ γ^{\\dagger} δ^{\\dagger} + δ^{2} \\left(δ^{\\dagger}\\right)^{2}}$"
      ],
      "text/plain": [
       "2*sqrt(α**2*Dagger(α)**2 + 2*α*β*Dagger(α)*Dagger(β) + 2*α*γ*Dagger(α)*Dagger(γ) + 10*α*δ*Dagger(α)*Dagger(δ) - 8*α*δ*Dagger(β)*Dagger(γ) + β**2*Dagger(β)**2 - 8*β*γ*Dagger(α)*Dagger(δ) + 10*β*γ*Dagger(β)*Dagger(γ) + 2*β*δ*Dagger(β)*Dagger(δ) + γ**2*Dagger(γ)**2 + 2*γ*δ*Dagger(γ)*Dagger(δ) + δ**2*Dagger(δ)**2)"
      ]
     },
     "execution_count": 44,
     "metadata": {},
     "output_type": "execute_result"
    }
   ],
   "source": [
    "# if no substitution is done, all the singular values of T are considered instead of just two\n",
    "# because you cant compare expressions? can you?\n",
    "chsh_score= get_chsh_score(T)\n",
    "chsh_score"
   ]
  },
  {
   "cell_type": "code",
   "execution_count": 45,
   "id": "89d727b6-a3c9-4bff-b422-635ededc72fb",
   "metadata": {},
   "outputs": [
    {
     "data": {
      "text/latex": [
       "$\\displaystyle \\left[\\begin{matrix}- \\left(- rx + i ry - 2 α γ^{\\dagger} + 2 β δ^{\\dagger}\\right) \\left(\\overline{rx} + i \\overline{ry} + 2 \\overline{α} \\operatorname{transpose}{\\left(γ \\right)} - 2 \\overline{β} \\operatorname{transpose}{\\left(δ \\right)}\\right) + \\left(rx + i ry + 2 γ α^{\\dagger} - 2 δ β^{\\dagger}\\right) \\left(\\overline{rx} - i \\overline{ry} + 2 \\overline{γ} \\operatorname{transpose}{\\left(α \\right)} - 2 \\overline{δ} \\operatorname{transpose}{\\left(β \\right)}\\right) + \\left(- rz + sz - α α^{\\dagger} + β β^{\\dagger} + γ γ^{\\dagger} - δ δ^{\\dagger} + 1\\right) \\left(- \\overline{rz} + \\overline{sz} - \\overline{α} \\operatorname{transpose}{\\left(α \\right)} + \\overline{β} \\operatorname{transpose}{\\left(β \\right)} + \\overline{γ} \\operatorname{transpose}{\\left(γ \\right)} - \\overline{δ} \\operatorname{transpose}{\\left(δ \\right)} + 1\\right) + \\left(rz + sz + α α^{\\dagger} - β β^{\\dagger} - γ γ^{\\dagger} + δ δ^{\\dagger} + 1\\right) \\left(\\overline{rz} + \\overline{sz} + \\overline{α} \\operatorname{transpose}{\\left(α \\right)} - \\overline{β} \\operatorname{transpose}{\\left(β \\right)} - \\overline{γ} \\operatorname{transpose}{\\left(γ \\right)} + \\overline{δ} \\operatorname{transpose}{\\left(δ \\right)} + 1\\right) & 4 α \\left(\\overline{rx} + i \\overline{ry} + 2 \\overline{α} \\operatorname{transpose}{\\left(γ \\right)} - 2 \\overline{β} \\operatorname{transpose}{\\left(δ \\right)}\\right) δ^{\\dagger} + 4 γ \\left(\\overline{rx} - i \\overline{ry} + 2 \\overline{γ} \\operatorname{transpose}{\\left(α \\right)} - 2 \\overline{δ} \\operatorname{transpose}{\\left(β \\right)}\\right) β^{\\dagger} - \\left(- sx + i sy - 2 α β^{\\dagger} + 2 γ δ^{\\dagger}\\right) \\left(\\overline{rz} + \\overline{sz} + \\overline{α} \\operatorname{transpose}{\\left(α \\right)} - \\overline{β} \\operatorname{transpose}{\\left(β \\right)} - \\overline{γ} \\operatorname{transpose}{\\left(γ \\right)} + \\overline{δ} \\operatorname{transpose}{\\left(δ \\right)} + 1\\right) + \\left(sx - i sy - 2 α β^{\\dagger} + 2 γ δ^{\\dagger}\\right) \\left(- \\overline{rz} + \\overline{sz} - \\overline{α} \\operatorname{transpose}{\\left(α \\right)} + \\overline{β} \\operatorname{transpose}{\\left(β \\right)} + \\overline{γ} \\operatorname{transpose}{\\left(γ \\right)} - \\overline{δ} \\operatorname{transpose}{\\left(δ \\right)} + 1\\right) & 4 β \\left(\\overline{rx} + i \\overline{ry} + 2 \\overline{α} \\operatorname{transpose}{\\left(γ \\right)} - 2 \\overline{β} \\operatorname{transpose}{\\left(δ \\right)}\\right) γ^{\\dagger} + 4 δ \\left(\\overline{rx} - i \\overline{ry} + 2 \\overline{γ} \\operatorname{transpose}{\\left(α \\right)} - 2 \\overline{δ} \\operatorname{transpose}{\\left(β \\right)}\\right) α^{\\dagger} + \\left(sx + i sy - 2 β α^{\\dagger} + 2 δ γ^{\\dagger}\\right) \\left(- \\overline{rz} + \\overline{sz} - \\overline{α} \\operatorname{transpose}{\\left(α \\right)} + \\overline{β} \\operatorname{transpose}{\\left(β \\right)} + \\overline{γ} \\operatorname{transpose}{\\left(γ \\right)} - \\overline{δ} \\operatorname{transpose}{\\left(δ \\right)} + 1\\right) + \\left(sx + i sy + 2 β α^{\\dagger} - 2 δ γ^{\\dagger}\\right) \\left(\\overline{rz} + \\overline{sz} + \\overline{α} \\operatorname{transpose}{\\left(α \\right)} - \\overline{β} \\operatorname{transpose}{\\left(β \\right)} - \\overline{γ} \\operatorname{transpose}{\\left(γ \\right)} + \\overline{δ} \\operatorname{transpose}{\\left(δ \\right)} + 1\\right) & \\left(rx - i ry - 2 α γ^{\\dagger} + 2 β δ^{\\dagger}\\right) \\left(\\overline{rx} + i \\overline{ry} + 2 \\overline{α} \\operatorname{transpose}{\\left(γ \\right)} - 2 \\overline{β} \\operatorname{transpose}{\\left(δ \\right)}\\right) + \\left(rx + i ry - 2 γ α^{\\dagger} + 2 δ β^{\\dagger}\\right) \\left(\\overline{rx} - i \\overline{ry} + 2 \\overline{γ} \\operatorname{transpose}{\\left(α \\right)} - 2 \\overline{δ} \\operatorname{transpose}{\\left(β \\right)}\\right) + \\left(rz - sz - α α^{\\dagger} + β β^{\\dagger} + γ γ^{\\dagger} - δ δ^{\\dagger} + 1\\right) \\left(\\overline{rz} + \\overline{sz} + \\overline{α} \\operatorname{transpose}{\\left(α \\right)} - \\overline{β} \\operatorname{transpose}{\\left(β \\right)} - \\overline{γ} \\operatorname{transpose}{\\left(γ \\right)} + \\overline{δ} \\operatorname{transpose}{\\left(δ \\right)} + 1\\right) - \\left(rz + sz - α α^{\\dagger} + β β^{\\dagger} + γ γ^{\\dagger} - δ δ^{\\dagger} - 1\\right) \\left(- \\overline{rz} + \\overline{sz} - \\overline{α} \\operatorname{transpose}{\\left(α \\right)} + \\overline{β} \\operatorname{transpose}{\\left(β \\right)} + \\overline{γ} \\operatorname{transpose}{\\left(γ \\right)} - \\overline{δ} \\operatorname{transpose}{\\left(δ \\right)} + 1\\right)\\\\- 4 \\left(- rx + i ry - 2 α γ^{\\dagger} + 2 β δ^{\\dagger}\\right) \\overline{α} \\operatorname{transpose}{\\left(δ \\right)} + 4 \\left(rx + i ry + 2 γ α^{\\dagger} - 2 δ β^{\\dagger}\\right) \\overline{γ} \\operatorname{transpose}{\\left(β \\right)} + \\left(\\overline{sx} + i \\overline{sy} - 2 \\overline{α} \\operatorname{transpose}{\\left(β \\right)} + 2 \\overline{γ} \\operatorname{transpose}{\\left(δ \\right)}\\right) \\left(- rz + sz - α α^{\\dagger} + β β^{\\dagger} + γ γ^{\\dagger} - δ δ^{\\dagger} + 1\\right) + \\left(\\overline{sx} + i \\overline{sy} + 2 \\overline{α} \\operatorname{transpose}{\\left(β \\right)} - 2 \\overline{γ} \\operatorname{transpose}{\\left(δ \\right)}\\right) \\left(rz + sz + α α^{\\dagger} - β β^{\\dagger} - γ γ^{\\dagger} + δ δ^{\\dagger} + 1\\right) & 2 sx \\overline{sx} + 2 i sx \\overline{sy} - 2 i sy \\overline{sx} + 2 sy \\overline{sy} + 8 α \\overline{α} β^{\\dagger} \\operatorname{transpose}{\\left(β \\right)} + 16 α \\overline{α} δ^{\\dagger} \\operatorname{transpose}{\\left(δ \\right)} - 8 α \\overline{γ} β^{\\dagger} \\operatorname{transpose}{\\left(δ \\right)} - 8 γ \\overline{α} δ^{\\dagger} \\operatorname{transpose}{\\left(β \\right)} + 16 γ \\overline{γ} β^{\\dagger} \\operatorname{transpose}{\\left(β \\right)} + 8 γ \\overline{γ} δ^{\\dagger} \\operatorname{transpose}{\\left(δ \\right)} & 2 sx \\overline{sx} + 2 i sx \\overline{sy} + 2 i sy \\overline{sx} - 2 sy \\overline{sy} + 8 β \\overline{α} α^{\\dagger} \\operatorname{transpose}{\\left(β \\right)} + 16 β \\overline{α} γ^{\\dagger} \\operatorname{transpose}{\\left(δ \\right)} - 8 β \\overline{γ} α^{\\dagger} \\operatorname{transpose}{\\left(δ \\right)} - 8 δ \\overline{α} γ^{\\dagger} \\operatorname{transpose}{\\left(β \\right)} + 16 δ \\overline{γ} α^{\\dagger} \\operatorname{transpose}{\\left(β \\right)} + 8 δ \\overline{γ} γ^{\\dagger} \\operatorname{transpose}{\\left(δ \\right)} & 4 \\left(rx - i ry - 2 α γ^{\\dagger} + 2 β δ^{\\dagger}\\right) \\overline{α} \\operatorname{transpose}{\\left(δ \\right)} + 4 \\left(rx + i ry - 2 γ α^{\\dagger} + 2 δ β^{\\dagger}\\right) \\overline{γ} \\operatorname{transpose}{\\left(β \\right)} - \\left(\\overline{sx} + i \\overline{sy} - 2 \\overline{α} \\operatorname{transpose}{\\left(β \\right)} + 2 \\overline{γ} \\operatorname{transpose}{\\left(δ \\right)}\\right) \\left(rz + sz - α α^{\\dagger} + β β^{\\dagger} + γ γ^{\\dagger} - δ δ^{\\dagger} - 1\\right) + \\left(\\overline{sx} + i \\overline{sy} + 2 \\overline{α} \\operatorname{transpose}{\\left(β \\right)} - 2 \\overline{γ} \\operatorname{transpose}{\\left(δ \\right)}\\right) \\left(rz - sz - α α^{\\dagger} + β β^{\\dagger} + γ γ^{\\dagger} - δ δ^{\\dagger} + 1\\right)\\\\4 \\left(rx - i ry + 2 α γ^{\\dagger} - 2 β δ^{\\dagger}\\right) \\overline{β} \\operatorname{transpose}{\\left(γ \\right)} + 4 \\left(rx + i ry + 2 γ α^{\\dagger} - 2 δ β^{\\dagger}\\right) \\overline{δ} \\operatorname{transpose}{\\left(α \\right)} + \\left(\\overline{sx} - i \\overline{sy} - 2 \\overline{β} \\operatorname{transpose}{\\left(α \\right)} + 2 \\overline{δ} \\operatorname{transpose}{\\left(γ \\right)}\\right) \\left(- rz + sz - α α^{\\dagger} + β β^{\\dagger} + γ γ^{\\dagger} - δ δ^{\\dagger} + 1\\right) + \\left(\\overline{sx} - i \\overline{sy} + 2 \\overline{β} \\operatorname{transpose}{\\left(α \\right)} - 2 \\overline{δ} \\operatorname{transpose}{\\left(γ \\right)}\\right) \\left(rz + sz + α α^{\\dagger} - β β^{\\dagger} - γ γ^{\\dagger} + δ δ^{\\dagger} + 1\\right) & 2 sx \\overline{sx} - 2 i sx \\overline{sy} - 2 i sy \\overline{sx} - 2 sy \\overline{sy} + 8 α \\overline{β} β^{\\dagger} \\operatorname{transpose}{\\left(α \\right)} + 16 α \\overline{β} δ^{\\dagger} \\operatorname{transpose}{\\left(γ \\right)} - 8 α \\overline{δ} β^{\\dagger} \\operatorname{transpose}{\\left(γ \\right)} - 8 γ \\overline{β} δ^{\\dagger} \\operatorname{transpose}{\\left(α \\right)} + 16 γ \\overline{δ} β^{\\dagger} \\operatorname{transpose}{\\left(α \\right)} + 8 γ \\overline{δ} δ^{\\dagger} \\operatorname{transpose}{\\left(γ \\right)} & 2 sx \\overline{sx} - 2 i sx \\overline{sy} + 2 i sy \\overline{sx} + 2 sy \\overline{sy} + 8 β \\overline{β} α^{\\dagger} \\operatorname{transpose}{\\left(α \\right)} + 16 β \\overline{β} γ^{\\dagger} \\operatorname{transpose}{\\left(γ \\right)} - 8 β \\overline{δ} α^{\\dagger} \\operatorname{transpose}{\\left(γ \\right)} - 8 δ \\overline{β} γ^{\\dagger} \\operatorname{transpose}{\\left(α \\right)} + 16 δ \\overline{δ} α^{\\dagger} \\operatorname{transpose}{\\left(α \\right)} + 8 δ \\overline{δ} γ^{\\dagger} \\operatorname{transpose}{\\left(γ \\right)} & 4 \\left(rx - i ry - 2 α γ^{\\dagger} + 2 β δ^{\\dagger}\\right) \\overline{β} \\operatorname{transpose}{\\left(γ \\right)} + 4 \\left(rx + i ry - 2 γ α^{\\dagger} + 2 δ β^{\\dagger}\\right) \\overline{δ} \\operatorname{transpose}{\\left(α \\right)} + \\left(- \\overline{sx} + i \\overline{sy} + 2 \\overline{β} \\operatorname{transpose}{\\left(α \\right)} - 2 \\overline{δ} \\operatorname{transpose}{\\left(γ \\right)}\\right) \\left(rz + sz - α α^{\\dagger} + β β^{\\dagger} + γ γ^{\\dagger} - δ δ^{\\dagger} - 1\\right) + \\left(\\overline{sx} - i \\overline{sy} + 2 \\overline{β} \\operatorname{transpose}{\\left(α \\right)} - 2 \\overline{δ} \\operatorname{transpose}{\\left(γ \\right)}\\right) \\left(rz - sz - α α^{\\dagger} + β β^{\\dagger} + γ γ^{\\dagger} - δ δ^{\\dagger} + 1\\right)\\\\\\left(rx - i ry + 2 α γ^{\\dagger} - 2 β δ^{\\dagger}\\right) \\left(\\overline{rx} + i \\overline{ry} - 2 \\overline{α} \\operatorname{transpose}{\\left(γ \\right)} + 2 \\overline{β} \\operatorname{transpose}{\\left(δ \\right)}\\right) + \\left(rx + i ry + 2 γ α^{\\dagger} - 2 δ β^{\\dagger}\\right) \\left(\\overline{rx} - i \\overline{ry} - 2 \\overline{γ} \\operatorname{transpose}{\\left(α \\right)} + 2 \\overline{δ} \\operatorname{transpose}{\\left(β \\right)}\\right) - \\left(- rz + sz - α α^{\\dagger} + β β^{\\dagger} + γ γ^{\\dagger} - δ δ^{\\dagger} + 1\\right) \\left(\\overline{rz} + \\overline{sz} - \\overline{α} \\operatorname{transpose}{\\left(α \\right)} + \\overline{β} \\operatorname{transpose}{\\left(β \\right)} + \\overline{γ} \\operatorname{transpose}{\\left(γ \\right)} - \\overline{δ} \\operatorname{transpose}{\\left(δ \\right)} - 1\\right) + \\left(rz + sz + α α^{\\dagger} - β β^{\\dagger} - γ γ^{\\dagger} + δ δ^{\\dagger} + 1\\right) \\left(\\overline{rz} - \\overline{sz} - \\overline{α} \\operatorname{transpose}{\\left(α \\right)} + \\overline{β} \\operatorname{transpose}{\\left(β \\right)} + \\overline{γ} \\operatorname{transpose}{\\left(γ \\right)} - \\overline{δ} \\operatorname{transpose}{\\left(δ \\right)} + 1\\right) & 4 α \\left(\\overline{rx} + i \\overline{ry} - 2 \\overline{α} \\operatorname{transpose}{\\left(γ \\right)} + 2 \\overline{β} \\operatorname{transpose}{\\left(δ \\right)}\\right) δ^{\\dagger} + 4 γ \\left(\\overline{rx} - i \\overline{ry} - 2 \\overline{γ} \\operatorname{transpose}{\\left(α \\right)} + 2 \\overline{δ} \\operatorname{transpose}{\\left(β \\right)}\\right) β^{\\dagger} - \\left(sx - i sy - 2 α β^{\\dagger} + 2 γ δ^{\\dagger}\\right) \\left(\\overline{rz} + \\overline{sz} - \\overline{α} \\operatorname{transpose}{\\left(α \\right)} + \\overline{β} \\operatorname{transpose}{\\left(β \\right)} + \\overline{γ} \\operatorname{transpose}{\\left(γ \\right)} - \\overline{δ} \\operatorname{transpose}{\\left(δ \\right)} - 1\\right) + \\left(sx - i sy + 2 α β^{\\dagger} - 2 γ δ^{\\dagger}\\right) \\left(\\overline{rz} - \\overline{sz} - \\overline{α} \\operatorname{transpose}{\\left(α \\right)} + \\overline{β} \\operatorname{transpose}{\\left(β \\right)} + \\overline{γ} \\operatorname{transpose}{\\left(γ \\right)} - \\overline{δ} \\operatorname{transpose}{\\left(δ \\right)} + 1\\right) & 4 β \\left(\\overline{rx} + i \\overline{ry} - 2 \\overline{α} \\operatorname{transpose}{\\left(γ \\right)} + 2 \\overline{β} \\operatorname{transpose}{\\left(δ \\right)}\\right) γ^{\\dagger} - 4 δ \\left(- \\overline{rx} + i \\overline{ry} + 2 \\overline{γ} \\operatorname{transpose}{\\left(α \\right)} - 2 \\overline{δ} \\operatorname{transpose}{\\left(β \\right)}\\right) α^{\\dagger} - \\left(sx + i sy - 2 β α^{\\dagger} + 2 δ γ^{\\dagger}\\right) \\left(\\overline{rz} + \\overline{sz} - \\overline{α} \\operatorname{transpose}{\\left(α \\right)} + \\overline{β} \\operatorname{transpose}{\\left(β \\right)} + \\overline{γ} \\operatorname{transpose}{\\left(γ \\right)} - \\overline{δ} \\operatorname{transpose}{\\left(δ \\right)} - 1\\right) + \\left(sx + i sy + 2 β α^{\\dagger} - 2 δ γ^{\\dagger}\\right) \\left(\\overline{rz} - \\overline{sz} - \\overline{α} \\operatorname{transpose}{\\left(α \\right)} + \\overline{β} \\operatorname{transpose}{\\left(β \\right)} + \\overline{γ} \\operatorname{transpose}{\\left(γ \\right)} - \\overline{δ} \\operatorname{transpose}{\\left(δ \\right)} + 1\\right) & \\left(rx - i ry - 2 α γ^{\\dagger} + 2 β δ^{\\dagger}\\right) \\left(\\overline{rx} + i \\overline{ry} - 2 \\overline{α} \\operatorname{transpose}{\\left(γ \\right)} + 2 \\overline{β} \\operatorname{transpose}{\\left(δ \\right)}\\right) - \\left(rx + i ry - 2 γ α^{\\dagger} + 2 δ β^{\\dagger}\\right) \\left(- \\overline{rx} + i \\overline{ry} + 2 \\overline{γ} \\operatorname{transpose}{\\left(α \\right)} - 2 \\overline{δ} \\operatorname{transpose}{\\left(β \\right)}\\right) + \\left(rz - sz - α α^{\\dagger} + β β^{\\dagger} + γ γ^{\\dagger} - δ δ^{\\dagger} + 1\\right) \\left(\\overline{rz} - \\overline{sz} - \\overline{α} \\operatorname{transpose}{\\left(α \\right)} + \\overline{β} \\operatorname{transpose}{\\left(β \\right)} + \\overline{γ} \\operatorname{transpose}{\\left(γ \\right)} - \\overline{δ} \\operatorname{transpose}{\\left(δ \\right)} + 1\\right) + \\left(rz + sz - α α^{\\dagger} + β β^{\\dagger} + γ γ^{\\dagger} - δ δ^{\\dagger} - 1\\right) \\left(\\overline{rz} + \\overline{sz} - \\overline{α} \\operatorname{transpose}{\\left(α \\right)} + \\overline{β} \\operatorname{transpose}{\\left(β \\right)} + \\overline{γ} \\operatorname{transpose}{\\left(γ \\right)} - \\overline{δ} \\operatorname{transpose}{\\left(δ \\right)} - 1\\right)\\end{matrix}\\right]$"
      ],
      "text/plain": [
       "Matrix([\n",
       "[-(-rx + I*ry - 2*α*Dagger(γ) + 2*β*Dagger(δ))*(conjugate(rx) + I*conjugate(ry) + 2*conjugate(α)*transpose(γ) - 2*conjugate(β)*transpose(δ)) + (rx + I*ry + 2*γ*Dagger(α) - 2*δ*Dagger(β))*(conjugate(rx) - I*conjugate(ry) + 2*conjugate(γ)*transpose(α) - 2*conjugate(δ)*transpose(β)) + (-rz + sz - α*Dagger(α) + β*Dagger(β) + γ*Dagger(γ) - δ*Dagger(δ) + 1)*(-conjugate(rz) + conjugate(sz) - conjugate(α)*transpose(α) + conjugate(β)*transpose(β) + conjugate(γ)*transpose(γ) - conjugate(δ)*transpose(δ) + 1) + (rz + sz + α*Dagger(α) - β*Dagger(β) - γ*Dagger(γ) + δ*Dagger(δ) + 1)*(conjugate(rz) + conjugate(sz) + conjugate(α)*transpose(α) - conjugate(β)*transpose(β) - conjugate(γ)*transpose(γ) + conjugate(δ)*transpose(δ) + 1), 4*α*(conjugate(rx) + I*conjugate(ry) + 2*conjugate(α)*transpose(γ) - 2*conjugate(β)*transpose(δ))*Dagger(δ) + 4*γ*(conjugate(rx) - I*conjugate(ry) + 2*conjugate(γ)*transpose(α) - 2*conjugate(δ)*transpose(β))*Dagger(β) - (-sx + I*sy - 2*α*Dagger(β) + 2*γ*Dagger(δ))*(conjugate(rz) + conjugate(sz) + conjugate(α)*transpose(α) - conjugate(β)*transpose(β) - conjugate(γ)*transpose(γ) + conjugate(δ)*transpose(δ) + 1) + (sx - I*sy - 2*α*Dagger(β) + 2*γ*Dagger(δ))*(-conjugate(rz) + conjugate(sz) - conjugate(α)*transpose(α) + conjugate(β)*transpose(β) + conjugate(γ)*transpose(γ) - conjugate(δ)*transpose(δ) + 1), 4*β*(conjugate(rx) + I*conjugate(ry) + 2*conjugate(α)*transpose(γ) - 2*conjugate(β)*transpose(δ))*Dagger(γ) + 4*δ*(conjugate(rx) - I*conjugate(ry) + 2*conjugate(γ)*transpose(α) - 2*conjugate(δ)*transpose(β))*Dagger(α) + (sx + I*sy - 2*β*Dagger(α) + 2*δ*Dagger(γ))*(-conjugate(rz) + conjugate(sz) - conjugate(α)*transpose(α) + conjugate(β)*transpose(β) + conjugate(γ)*transpose(γ) - conjugate(δ)*transpose(δ) + 1) + (sx + I*sy + 2*β*Dagger(α) - 2*δ*Dagger(γ))*(conjugate(rz) + conjugate(sz) + conjugate(α)*transpose(α) - conjugate(β)*transpose(β) - conjugate(γ)*transpose(γ) + conjugate(δ)*transpose(δ) + 1), (rx - I*ry - 2*α*Dagger(γ) + 2*β*Dagger(δ))*(conjugate(rx) + I*conjugate(ry) + 2*conjugate(α)*transpose(γ) - 2*conjugate(β)*transpose(δ)) + (rx + I*ry - 2*γ*Dagger(α) + 2*δ*Dagger(β))*(conjugate(rx) - I*conjugate(ry) + 2*conjugate(γ)*transpose(α) - 2*conjugate(δ)*transpose(β)) + (rz - sz - α*Dagger(α) + β*Dagger(β) + γ*Dagger(γ) - δ*Dagger(δ) + 1)*(conjugate(rz) + conjugate(sz) + conjugate(α)*transpose(α) - conjugate(β)*transpose(β) - conjugate(γ)*transpose(γ) + conjugate(δ)*transpose(δ) + 1) - (rz + sz - α*Dagger(α) + β*Dagger(β) + γ*Dagger(γ) - δ*Dagger(δ) - 1)*(-conjugate(rz) + conjugate(sz) - conjugate(α)*transpose(α) + conjugate(β)*transpose(β) + conjugate(γ)*transpose(γ) - conjugate(δ)*transpose(δ) + 1)],\n",
       "[                                                                                                                                                                                                                                                 -4*(-rx + I*ry - 2*α*Dagger(γ) + 2*β*Dagger(δ))*conjugate(α)*transpose(δ) + 4*(rx + I*ry + 2*γ*Dagger(α) - 2*δ*Dagger(β))*conjugate(γ)*transpose(β) + (conjugate(sx) + I*conjugate(sy) - 2*conjugate(α)*transpose(β) + 2*conjugate(γ)*transpose(δ))*(-rz + sz - α*Dagger(α) + β*Dagger(β) + γ*Dagger(γ) - δ*Dagger(δ) + 1) + (conjugate(sx) + I*conjugate(sy) + 2*conjugate(α)*transpose(β) - 2*conjugate(γ)*transpose(δ))*(rz + sz + α*Dagger(α) - β*Dagger(β) - γ*Dagger(γ) + δ*Dagger(δ) + 1),                                                                                                                                                                                                                                                                             2*sx*conjugate(sx) + 2*I*sx*conjugate(sy) - 2*I*sy*conjugate(sx) + 2*sy*conjugate(sy) + 8*α*conjugate(α)*Dagger(β)*transpose(β) + 16*α*conjugate(α)*Dagger(δ)*transpose(δ) - 8*α*conjugate(γ)*Dagger(β)*transpose(δ) - 8*γ*conjugate(α)*Dagger(δ)*transpose(β) + 16*γ*conjugate(γ)*Dagger(β)*transpose(β) + 8*γ*conjugate(γ)*Dagger(δ)*transpose(δ),                                                                                                                                                                                                                                                                            2*sx*conjugate(sx) + 2*I*sx*conjugate(sy) + 2*I*sy*conjugate(sx) - 2*sy*conjugate(sy) + 8*β*conjugate(α)*Dagger(α)*transpose(β) + 16*β*conjugate(α)*Dagger(γ)*transpose(δ) - 8*β*conjugate(γ)*Dagger(α)*transpose(δ) - 8*δ*conjugate(α)*Dagger(γ)*transpose(β) + 16*δ*conjugate(γ)*Dagger(α)*transpose(β) + 8*δ*conjugate(γ)*Dagger(γ)*transpose(δ),                                                                                                                                                                                                                                                  4*(rx - I*ry - 2*α*Dagger(γ) + 2*β*Dagger(δ))*conjugate(α)*transpose(δ) + 4*(rx + I*ry - 2*γ*Dagger(α) + 2*δ*Dagger(β))*conjugate(γ)*transpose(β) - (conjugate(sx) + I*conjugate(sy) - 2*conjugate(α)*transpose(β) + 2*conjugate(γ)*transpose(δ))*(rz + sz - α*Dagger(α) + β*Dagger(β) + γ*Dagger(γ) - δ*Dagger(δ) - 1) + (conjugate(sx) + I*conjugate(sy) + 2*conjugate(α)*transpose(β) - 2*conjugate(γ)*transpose(δ))*(rz - sz - α*Dagger(α) + β*Dagger(β) + γ*Dagger(γ) - δ*Dagger(δ) + 1)],\n",
       "[                                                                                                                                                                                                                                                   4*(rx - I*ry + 2*α*Dagger(γ) - 2*β*Dagger(δ))*conjugate(β)*transpose(γ) + 4*(rx + I*ry + 2*γ*Dagger(α) - 2*δ*Dagger(β))*conjugate(δ)*transpose(α) + (conjugate(sx) - I*conjugate(sy) - 2*conjugate(β)*transpose(α) + 2*conjugate(δ)*transpose(γ))*(-rz + sz - α*Dagger(α) + β*Dagger(β) + γ*Dagger(γ) - δ*Dagger(δ) + 1) + (conjugate(sx) - I*conjugate(sy) + 2*conjugate(β)*transpose(α) - 2*conjugate(δ)*transpose(γ))*(rz + sz + α*Dagger(α) - β*Dagger(β) - γ*Dagger(γ) + δ*Dagger(δ) + 1),                                                                                                                                                                                                                                                                             2*sx*conjugate(sx) - 2*I*sx*conjugate(sy) - 2*I*sy*conjugate(sx) - 2*sy*conjugate(sy) + 8*α*conjugate(β)*Dagger(β)*transpose(α) + 16*α*conjugate(β)*Dagger(δ)*transpose(γ) - 8*α*conjugate(δ)*Dagger(β)*transpose(γ) - 8*γ*conjugate(β)*Dagger(δ)*transpose(α) + 16*γ*conjugate(δ)*Dagger(β)*transpose(α) + 8*γ*conjugate(δ)*Dagger(δ)*transpose(γ),                                                                                                                                                                                                                                                                            2*sx*conjugate(sx) - 2*I*sx*conjugate(sy) + 2*I*sy*conjugate(sx) + 2*sy*conjugate(sy) + 8*β*conjugate(β)*Dagger(α)*transpose(α) + 16*β*conjugate(β)*Dagger(γ)*transpose(γ) - 8*β*conjugate(δ)*Dagger(α)*transpose(γ) - 8*δ*conjugate(β)*Dagger(γ)*transpose(α) + 16*δ*conjugate(δ)*Dagger(α)*transpose(α) + 8*δ*conjugate(δ)*Dagger(γ)*transpose(γ),                                                                                                                                                                                                                                                 4*(rx - I*ry - 2*α*Dagger(γ) + 2*β*Dagger(δ))*conjugate(β)*transpose(γ) + 4*(rx + I*ry - 2*γ*Dagger(α) + 2*δ*Dagger(β))*conjugate(δ)*transpose(α) + (-conjugate(sx) + I*conjugate(sy) + 2*conjugate(β)*transpose(α) - 2*conjugate(δ)*transpose(γ))*(rz + sz - α*Dagger(α) + β*Dagger(β) + γ*Dagger(γ) - δ*Dagger(δ) - 1) + (conjugate(sx) - I*conjugate(sy) + 2*conjugate(β)*transpose(α) - 2*conjugate(δ)*transpose(γ))*(rz - sz - α*Dagger(α) + β*Dagger(β) + γ*Dagger(γ) - δ*Dagger(δ) + 1)],\n",
       "[   (rx - I*ry + 2*α*Dagger(γ) - 2*β*Dagger(δ))*(conjugate(rx) + I*conjugate(ry) - 2*conjugate(α)*transpose(γ) + 2*conjugate(β)*transpose(δ)) + (rx + I*ry + 2*γ*Dagger(α) - 2*δ*Dagger(β))*(conjugate(rx) - I*conjugate(ry) - 2*conjugate(γ)*transpose(α) + 2*conjugate(δ)*transpose(β)) - (-rz + sz - α*Dagger(α) + β*Dagger(β) + γ*Dagger(γ) - δ*Dagger(δ) + 1)*(conjugate(rz) + conjugate(sz) - conjugate(α)*transpose(α) + conjugate(β)*transpose(β) + conjugate(γ)*transpose(γ) - conjugate(δ)*transpose(δ) - 1) + (rz + sz + α*Dagger(α) - β*Dagger(β) - γ*Dagger(γ) + δ*Dagger(δ) + 1)*(conjugate(rz) - conjugate(sz) - conjugate(α)*transpose(α) + conjugate(β)*transpose(β) + conjugate(γ)*transpose(γ) - conjugate(δ)*transpose(δ) + 1),   4*α*(conjugate(rx) + I*conjugate(ry) - 2*conjugate(α)*transpose(γ) + 2*conjugate(β)*transpose(δ))*Dagger(δ) + 4*γ*(conjugate(rx) - I*conjugate(ry) - 2*conjugate(γ)*transpose(α) + 2*conjugate(δ)*transpose(β))*Dagger(β) - (sx - I*sy - 2*α*Dagger(β) + 2*γ*Dagger(δ))*(conjugate(rz) + conjugate(sz) - conjugate(α)*transpose(α) + conjugate(β)*transpose(β) + conjugate(γ)*transpose(γ) - conjugate(δ)*transpose(δ) - 1) + (sx - I*sy + 2*α*Dagger(β) - 2*γ*Dagger(δ))*(conjugate(rz) - conjugate(sz) - conjugate(α)*transpose(α) + conjugate(β)*transpose(β) + conjugate(γ)*transpose(γ) - conjugate(δ)*transpose(δ) + 1), 4*β*(conjugate(rx) + I*conjugate(ry) - 2*conjugate(α)*transpose(γ) + 2*conjugate(β)*transpose(δ))*Dagger(γ) - 4*δ*(-conjugate(rx) + I*conjugate(ry) + 2*conjugate(γ)*transpose(α) - 2*conjugate(δ)*transpose(β))*Dagger(α) - (sx + I*sy - 2*β*Dagger(α) + 2*δ*Dagger(γ))*(conjugate(rz) + conjugate(sz) - conjugate(α)*transpose(α) + conjugate(β)*transpose(β) + conjugate(γ)*transpose(γ) - conjugate(δ)*transpose(δ) - 1) + (sx + I*sy + 2*β*Dagger(α) - 2*δ*Dagger(γ))*(conjugate(rz) - conjugate(sz) - conjugate(α)*transpose(α) + conjugate(β)*transpose(β) + conjugate(γ)*transpose(γ) - conjugate(δ)*transpose(δ) + 1), (rx - I*ry - 2*α*Dagger(γ) + 2*β*Dagger(δ))*(conjugate(rx) + I*conjugate(ry) - 2*conjugate(α)*transpose(γ) + 2*conjugate(β)*transpose(δ)) - (rx + I*ry - 2*γ*Dagger(α) + 2*δ*Dagger(β))*(-conjugate(rx) + I*conjugate(ry) + 2*conjugate(γ)*transpose(α) - 2*conjugate(δ)*transpose(β)) + (rz - sz - α*Dagger(α) + β*Dagger(β) + γ*Dagger(γ) - δ*Dagger(δ) + 1)*(conjugate(rz) - conjugate(sz) - conjugate(α)*transpose(α) + conjugate(β)*transpose(β) + conjugate(γ)*transpose(γ) - conjugate(δ)*transpose(δ) + 1) + (rz + sz - α*Dagger(α) + β*Dagger(β) + γ*Dagger(γ) - δ*Dagger(δ) - 1)*(conjugate(rz) + conjugate(sz) - conjugate(α)*transpose(α) + conjugate(β)*transpose(β) + conjugate(γ)*transpose(γ) - conjugate(δ)*transpose(δ) - 1)]])"
      ]
     },
     "execution_count": 45,
     "metadata": {},
     "output_type": "execute_result"
    }
   ],
   "source": [
    "rtr = sp.simplify(realigned.H * realigned)\n",
    "rtr"
   ]
  },
  {
   "cell_type": "markdown",
   "id": "6acab032-fcf6-4e0b-9975-900a643f508b",
   "metadata": {},
   "source": [
    "## we now have a general expression of singular values, sum of the biggest 2 can be found after analysis, and thus comparison can be done between this rule and realigned general rho"
   ]
  },
  {
   "cell_type": "code",
   "execution_count": 63,
   "id": "2e8efc2f-62f5-46c0-87a0-2a6b104a0872",
   "metadata": {},
   "outputs": [
    {
     "name": "stdout",
     "output_type": "stream",
     "text": [
      "rhotilde dagger rhotilde done Matrix([[2*(0.0959743507973164 - 0.151320275428201*I)*(0.0959743507973164 + 0.151320275428201*I) + 0.321545636142773, -0.0591771969531916 + 0.195062873721142*I, -0.0591771969531916 - 0.195062873721142*I, 0.255923111635153 + (-0.0605158698396345 - 0.151320275428201*I)*(0.0959743507973164 + 0.151320275428201*I) + (-0.0605158698396345 + 0.151320275428201*I)*(0.0959743507973164 - 0.151320275428201*I)], [-0.0591771969531916 - 0.195062873721142*I, 0.0801616140764902 + (0.161495608765712 - 0.270946080078959*I)*(0.161495608765712 + 0.270946080078959*I) + (-0.209412184305388 - 0.270946080078959*I)*(-0.209412184305388 + 0.270946080078959*I), 0.0733449692984304 + (0.161495608765712 - 0.270946080078959*I)**2 + (-0.209412184305388 - 0.270946080078959*I)**2, -0.126320031115602 - 0.131493172235203*I], [-0.0591771969531916 + 0.195062873721142*I, 0.0733449692984304 + (-0.209412184305388 + 0.270946080078959*I)**2 + (0.161495608765712 + 0.270946080078959*I)**2, 0.0801616140764902 + (0.161495608765712 - 0.270946080078959*I)*(0.161495608765712 + 0.270946080078959*I) + (-0.209412184305388 - 0.270946080078959*I)*(-0.209412184305388 + 0.270946080078959*I), -0.126320031115602 + 0.131493172235203*I], [0.255923111635153 + (-0.0605158698396345 - 0.151320275428201*I)*(0.0959743507973164 + 0.151320275428201*I) + (-0.0605158698396345 + 0.151320275428201*I)*(0.0959743507973164 - 0.151320275428201*I), -0.126320031115602 + 0.131493172235203*I, -0.126320031115602 - 0.131493172235203*I, 2*(-0.0605158698396345 - 0.151320275428201*I)*(-0.0605158698396345 + 0.151320275428201*I) + 0.219730492292329]])\n",
      "eigdict found: {0.87850063056436 - 1.66289585654137e-65*I: 1, 0.303641321345262 - 3.08869772762012e-65*I: 1, 0.0670729854671608 - 1.96766357985866e-65*I: 1, 0.00323791767373059 - 1.7064675191312e-65*I: 1}\n",
      "got realignment score:  sqrt(0.00323791767373059 - 1.7064675191312e-65*I) + sqrt(0.0670729854671608 - 1.96766357985866e-65*I) + sqrt(0.303641321345262 - 3.08869772762012e-65*I) + sqrt(0.87850063056436 - 1.66289585654137e-65*I)\n"
     ]
    },
    {
     "data": {
      "text/plain": [
       "{'1': [1.80420746373502]}"
      ]
     },
     "execution_count": 63,
     "metadata": {},
     "output_type": "execute_result"
    }
   ],
   "source": [
    "g, h, i, j= generate_1_normalized_real(4)\n",
    "a, b, c= generate_1_normalized_real(3)\n",
    "d, e, f= generate_1_normalized_real(3)\n",
    "subsdict= {rx: a, ry: b, rz: c, sx: d, sy: e, sz: f, alpha: g, beta: h, gamma: i, delta: j}\n",
    "re= realigned.subs(subsdict)\n",
    "re= re / sp.Trace(re).simplify()\n",
    "score= sample_scores(re, no_of_random_samples= 1)\n",
    "score"
   ]
  }
 ],
 "metadata": {
  "kernelspec": {
   "display_name": "Python 3 (ipykernel)",
   "language": "python",
   "name": "python3"
  },
  "language_info": {
   "codemirror_mode": {
    "name": "ipython",
    "version": 3
   },
   "file_extension": ".py",
   "mimetype": "text/x-python",
   "name": "python",
   "nbconvert_exporter": "python",
   "pygments_lexer": "ipython3",
   "version": "3.13.2"
  }
 },
 "nbformat": 4,
 "nbformat_minor": 5
}
